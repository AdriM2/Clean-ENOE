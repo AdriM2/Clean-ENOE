{
 "cells": [
  {
   "cell_type": "code",
   "execution_count": 1,
   "metadata": {},
   "outputs": [],
   "source": [
    "import pandas as pd\n",
    "import numpy as np\n",
    "import sklearn as sk\n",
    "from sklearn.cluster import KMeans\n",
    "import matplotlib.pyplot as plt"
   ]
  },
  {
   "cell_type": "code",
   "execution_count": 2,
   "metadata": {
    "scrolled": true
   },
   "outputs": [
    {
     "data": {
      "text/html": [
       "<div>\n",
       "<style scoped>\n",
       "    .dataframe tbody tr th:only-of-type {\n",
       "        vertical-align: middle;\n",
       "    }\n",
       "\n",
       "    .dataframe tbody tr th {\n",
       "        vertical-align: top;\n",
       "    }\n",
       "\n",
       "    .dataframe thead th {\n",
       "        text-align: right;\n",
       "    }\n",
       "</style>\n",
       "<table border=\"1\" class=\"dataframe\">\n",
       "  <thead>\n",
       "    <tr style=\"text-align: right;\">\n",
       "      <th></th>\n",
       "      <th>r_def</th>\n",
       "      <th>cd_a</th>\n",
       "      <th>ent</th>\n",
       "      <th>con</th>\n",
       "      <th>upm</th>\n",
       "      <th>d_sem</th>\n",
       "      <th>n_pro_viv</th>\n",
       "      <th>v_sel</th>\n",
       "      <th>n_hog</th>\n",
       "      <th>h_mud</th>\n",
       "      <th>...</th>\n",
       "      <th>p5g10</th>\n",
       "      <th>p5g11</th>\n",
       "      <th>p5g12</th>\n",
       "      <th>p5g13</th>\n",
       "      <th>p5g14</th>\n",
       "      <th>p5g15</th>\n",
       "      <th>p5g99</th>\n",
       "      <th>p5h</th>\n",
       "      <th>ur</th>\n",
       "      <th>fac</th>\n",
       "    </tr>\n",
       "  </thead>\n",
       "  <tbody>\n",
       "    <tr>\n",
       "      <th>0</th>\n",
       "      <td>0.0</td>\n",
       "      <td>1.0</td>\n",
       "      <td>9.0</td>\n",
       "      <td>40001.0</td>\n",
       "      <td>900471.0</td>\n",
       "      <td>101.0</td>\n",
       "      <td>55.0</td>\n",
       "      <td>2.0</td>\n",
       "      <td>1.0</td>\n",
       "      <td>0.0</td>\n",
       "      <td>...</td>\n",
       "      <td>NaN</td>\n",
       "      <td>NaN</td>\n",
       "      <td>NaN</td>\n",
       "      <td>NaN</td>\n",
       "      <td>14.0</td>\n",
       "      <td>NaN</td>\n",
       "      <td>NaN</td>\n",
       "      <td></td>\n",
       "      <td>1.0</td>\n",
       "      <td>487.0</td>\n",
       "    </tr>\n",
       "    <tr>\n",
       "      <th>1</th>\n",
       "      <td>0.0</td>\n",
       "      <td>1.0</td>\n",
       "      <td>9.0</td>\n",
       "      <td>40001.0</td>\n",
       "      <td>900471.0</td>\n",
       "      <td>101.0</td>\n",
       "      <td>55.0</td>\n",
       "      <td>2.0</td>\n",
       "      <td>1.0</td>\n",
       "      <td>0.0</td>\n",
       "      <td>...</td>\n",
       "      <td>NaN</td>\n",
       "      <td>NaN</td>\n",
       "      <td>NaN</td>\n",
       "      <td>NaN</td>\n",
       "      <td>NaN</td>\n",
       "      <td>NaN</td>\n",
       "      <td>NaN</td>\n",
       "      <td></td>\n",
       "      <td>1.0</td>\n",
       "      <td>487.0</td>\n",
       "    </tr>\n",
       "    <tr>\n",
       "      <th>2</th>\n",
       "      <td>0.0</td>\n",
       "      <td>1.0</td>\n",
       "      <td>9.0</td>\n",
       "      <td>40001.0</td>\n",
       "      <td>900471.0</td>\n",
       "      <td>101.0</td>\n",
       "      <td>55.0</td>\n",
       "      <td>2.0</td>\n",
       "      <td>1.0</td>\n",
       "      <td>0.0</td>\n",
       "      <td>...</td>\n",
       "      <td>NaN</td>\n",
       "      <td>NaN</td>\n",
       "      <td>NaN</td>\n",
       "      <td>NaN</td>\n",
       "      <td>14.0</td>\n",
       "      <td>NaN</td>\n",
       "      <td>NaN</td>\n",
       "      <td></td>\n",
       "      <td>1.0</td>\n",
       "      <td>487.0</td>\n",
       "    </tr>\n",
       "    <tr>\n",
       "      <th>3</th>\n",
       "      <td>0.0</td>\n",
       "      <td>1.0</td>\n",
       "      <td>9.0</td>\n",
       "      <td>40001.0</td>\n",
       "      <td>900471.0</td>\n",
       "      <td>101.0</td>\n",
       "      <td>80.0</td>\n",
       "      <td>3.0</td>\n",
       "      <td>1.0</td>\n",
       "      <td>0.0</td>\n",
       "      <td>...</td>\n",
       "      <td>NaN</td>\n",
       "      <td>NaN</td>\n",
       "      <td>NaN</td>\n",
       "      <td>NaN</td>\n",
       "      <td>NaN</td>\n",
       "      <td>15.0</td>\n",
       "      <td>NaN</td>\n",
       "      <td></td>\n",
       "      <td>1.0</td>\n",
       "      <td>487.0</td>\n",
       "    </tr>\n",
       "    <tr>\n",
       "      <th>4</th>\n",
       "      <td>0.0</td>\n",
       "      <td>1.0</td>\n",
       "      <td>9.0</td>\n",
       "      <td>40001.0</td>\n",
       "      <td>900471.0</td>\n",
       "      <td>101.0</td>\n",
       "      <td>80.0</td>\n",
       "      <td>3.0</td>\n",
       "      <td>1.0</td>\n",
       "      <td>0.0</td>\n",
       "      <td>...</td>\n",
       "      <td>NaN</td>\n",
       "      <td>NaN</td>\n",
       "      <td>NaN</td>\n",
       "      <td>NaN</td>\n",
       "      <td>NaN</td>\n",
       "      <td>NaN</td>\n",
       "      <td>NaN</td>\n",
       "      <td></td>\n",
       "      <td>1.0</td>\n",
       "      <td>487.0</td>\n",
       "    </tr>\n",
       "  </tbody>\n",
       "</table>\n",
       "<p>5 rows × 186 columns</p>\n",
       "</div>"
      ],
      "text/plain": [
       "   r_def  cd_a  ent      con       upm  d_sem  n_pro_viv  v_sel  n_hog  h_mud  \\\n",
       "0    0.0   1.0  9.0  40001.0  900471.0  101.0       55.0    2.0    1.0    0.0   \n",
       "1    0.0   1.0  9.0  40001.0  900471.0  101.0       55.0    2.0    1.0    0.0   \n",
       "2    0.0   1.0  9.0  40001.0  900471.0  101.0       55.0    2.0    1.0    0.0   \n",
       "3    0.0   1.0  9.0  40001.0  900471.0  101.0       80.0    3.0    1.0    0.0   \n",
       "4    0.0   1.0  9.0  40001.0  900471.0  101.0       80.0    3.0    1.0    0.0   \n",
       "\n",
       "   ...    p5g10  p5g11  p5g12  p5g13  p5g14  p5g15 p5g99 p5h   ur    fac  \n",
       "0  ...      NaN    NaN    NaN    NaN   14.0    NaN   NaN      1.0  487.0  \n",
       "1  ...      NaN    NaN    NaN    NaN    NaN    NaN   NaN      1.0  487.0  \n",
       "2  ...      NaN    NaN    NaN    NaN   14.0    NaN   NaN      1.0  487.0  \n",
       "3  ...      NaN    NaN    NaN    NaN    NaN   15.0   NaN      1.0  487.0  \n",
       "4  ...      NaN    NaN    NaN    NaN    NaN    NaN   NaN      1.0  487.0  \n",
       "\n",
       "[5 rows x 186 columns]"
      ]
     },
     "execution_count": 2,
     "metadata": {},
     "output_type": "execute_result"
    }
   ],
   "source": [
    "path = 'C:/Users/JoseAntonio/Desktop/ENOE/adri/2017/coe1t2017.csv'\n",
    "df = pd.read_csv(path, encoding='latin', low_memory=False)\n",
    "df.head()"
   ]
  },
  {
   "cell_type": "code",
   "execution_count": 3,
   "metadata": {},
   "outputs": [
    {
     "name": "stdout",
     "output_type": "stream",
     "text": [
      "<class 'pandas.core.frame.DataFrame'>\n",
      "RangeIndex: 1048575 entries, 0 to 1048574\n",
      "Columns: 186 entries, r_def to fac\n",
      "dtypes: float64(100), object(86)\n",
      "memory usage: 1.5+ GB\n"
     ]
    }
   ],
   "source": [
    "df.info()"
   ]
  },
  {
   "cell_type": "code",
   "execution_count": 4,
   "metadata": {},
   "outputs": [
    {
     "data": {
      "text/plain": [
       "(1048575, 186)"
      ]
     },
     "execution_count": 4,
     "metadata": {},
     "output_type": "execute_result"
    }
   ],
   "source": [
    "df.shape"
   ]
  },
  {
   "cell_type": "code",
   "execution_count": 5,
   "metadata": {},
   "outputs": [
    {
     "data": {
      "text/plain": [
       "1048575"
      ]
     },
     "execution_count": 5,
     "metadata": {},
     "output_type": "execute_result"
    }
   ],
   "source": [
    "df.shape[0]"
   ]
  },
  {
   "cell_type": "code",
   "execution_count": 6,
   "metadata": {},
   "outputs": [
    {
     "data": {
      "text/plain": [
       "186"
      ]
     },
     "execution_count": 6,
     "metadata": {},
     "output_type": "execute_result"
    }
   ],
   "source": [
    "df.shape[1]"
   ]
  },
  {
   "cell_type": "code",
   "execution_count": 7,
   "metadata": {
    "scrolled": false
   },
   "outputs": [
    {
     "data": {
      "text/plain": [
       "['r_def',\n",
       " 'cd_a',\n",
       " 'ent',\n",
       " 'con',\n",
       " 'upm',\n",
       " 'd_sem',\n",
       " 'n_pro_viv',\n",
       " 'v_sel',\n",
       " 'n_hog',\n",
       " 'h_mud',\n",
       " 'n_ent',\n",
       " 'per',\n",
       " 'n_ren',\n",
       " 'eda',\n",
       " 'n_inf',\n",
       " 'p1',\n",
       " 'p1a1',\n",
       " 'p1a2',\n",
       " 'p1a3',\n",
       " 'p1b',\n",
       " 'p1c',\n",
       " 'p1d',\n",
       " 'p1e',\n",
       " 'p2_1',\n",
       " 'p2_2',\n",
       " 'p2_3',\n",
       " 'p2_4',\n",
       " 'p2_9',\n",
       " 'p2a_dia',\n",
       " 'p2a_sem',\n",
       " 'p2a_mes',\n",
       " 'p2a_anio',\n",
       " 'p2b_dia',\n",
       " 'p2b_sem',\n",
       " 'p2b_mes',\n",
       " 'p2b_anio',\n",
       " 'p2b',\n",
       " 'p2c',\n",
       " 'p2d1',\n",
       " 'p2d2',\n",
       " 'p2d3',\n",
       " 'p2d4',\n",
       " 'p2d5',\n",
       " 'p2d6',\n",
       " 'p2d7',\n",
       " 'p2d8',\n",
       " 'p2d9',\n",
       " 'p2d10',\n",
       " 'p2d11',\n",
       " 'p2d99',\n",
       " 'p2e',\n",
       " 'p2f',\n",
       " 'p2g1',\n",
       " 'p2g2',\n",
       " 'p2h1',\n",
       " 'p2h2',\n",
       " 'p2h3',\n",
       " 'p2h4',\n",
       " 'p2h9',\n",
       " 'p3',\n",
       " 'p3a',\n",
       " 'p3b',\n",
       " 'p3c1',\n",
       " 'p3c2',\n",
       " 'p3c3',\n",
       " 'p3c4',\n",
       " 'p3c9',\n",
       " 'p3d',\n",
       " 'p3e',\n",
       " 'p3f1',\n",
       " 'p3f2',\n",
       " 'p3g1_1',\n",
       " 'p3g1_2',\n",
       " 'p3g2_1',\n",
       " 'p3g2_2',\n",
       " 'p3g3_1',\n",
       " 'p3g3_2',\n",
       " 'p3g4_1',\n",
       " 'p3g4_2',\n",
       " 'p3g9',\n",
       " 'p3g_tot',\n",
       " 'p3h',\n",
       " 'p3i',\n",
       " 'p3j',\n",
       " 'p3k1',\n",
       " 'p3k2',\n",
       " 'p3l1',\n",
       " 'p3l2',\n",
       " 'p3l3',\n",
       " 'p3l4',\n",
       " 'p3l5',\n",
       " 'p3l9',\n",
       " 'p3m1',\n",
       " 'p3m2',\n",
       " 'p3m3',\n",
       " 'p3m4',\n",
       " 'p3m5',\n",
       " 'p3m6',\n",
       " 'p3m7',\n",
       " 'p3m8',\n",
       " 'p3m9',\n",
       " 'p3n',\n",
       " 'p3o',\n",
       " 'p3p1',\n",
       " 'p3p2',\n",
       " 'p3q',\n",
       " 'p3r_anio',\n",
       " 'p3r_mes',\n",
       " 'p3r',\n",
       " 'p3s',\n",
       " 'p3t_anio',\n",
       " 'p3t_mes',\n",
       " 'p4',\n",
       " 'p4_1',\n",
       " 'p4_2',\n",
       " 'p4_3',\n",
       " 'p4a',\n",
       " 'p4a_1',\n",
       " 'p4b',\n",
       " 'p4c',\n",
       " 'p4d1',\n",
       " 'p4d2',\n",
       " 'p4d3',\n",
       " 'p4e',\n",
       " 'p4f',\n",
       " 'p4g',\n",
       " 'p4h',\n",
       " 'p4i',\n",
       " 'p4i_1',\n",
       " 'p5',\n",
       " 'p5a',\n",
       " 'p5b',\n",
       " 'p5c_hlu',\n",
       " 'p5c_mlu',\n",
       " 'p5c_hma',\n",
       " 'p5c_mma',\n",
       " 'p5c_hmi',\n",
       " 'p5c_mmi',\n",
       " 'p5c_hju',\n",
       " 'p5c_mju',\n",
       " 'p5c_hvi',\n",
       " 'p5c_mvi',\n",
       " 'p5c_hsa',\n",
       " 'p5c_msa',\n",
       " 'p5c_hdo',\n",
       " 'p5c_mdo',\n",
       " 'p5c_thrs',\n",
       " 'p5c_tdia',\n",
       " 'p5d',\n",
       " 'p5e1',\n",
       " 'p5e_hlu',\n",
       " 'p5e_mlu',\n",
       " 'p5e_hma',\n",
       " 'p5e_mma',\n",
       " 'p5e_hmi',\n",
       " 'p5e_mmi',\n",
       " 'p5e_hju',\n",
       " 'p5e_mju',\n",
       " 'p5e_hvi',\n",
       " 'p5e_mvi',\n",
       " 'p5e_hsa',\n",
       " 'p5e_msa',\n",
       " 'p5e_hdo',\n",
       " 'p5e_mdo',\n",
       " 'p5e_thrs',\n",
       " 'p5e_tdia',\n",
       " 'p5f',\n",
       " 'p5g1',\n",
       " 'p5g2',\n",
       " 'p5g3',\n",
       " 'p5g4',\n",
       " 'p5g5',\n",
       " 'p5g6',\n",
       " 'p5g7',\n",
       " 'p5g8',\n",
       " 'p5g9',\n",
       " 'p5g10',\n",
       " 'p5g11',\n",
       " 'p5g12',\n",
       " 'p5g13',\n",
       " 'p5g14',\n",
       " 'p5g15',\n",
       " 'p5g99',\n",
       " 'p5h',\n",
       " 'ur',\n",
       " 'fac']"
      ]
     },
     "execution_count": 7,
     "metadata": {},
     "output_type": "execute_result"
    }
   ],
   "source": [
    "df.columns.values.tolist()"
   ]
  },
  {
   "cell_type": "code",
   "execution_count": 8,
   "metadata": {
    "scrolled": true
   },
   "outputs": [
    {
     "data": {
      "text/plain": [
       "r_def        float64\n",
       "cd_a         float64\n",
       "ent          float64\n",
       "con          float64\n",
       "upm          float64\n",
       "d_sem        float64\n",
       "n_pro_viv    float64\n",
       "v_sel        float64\n",
       "n_hog        float64\n",
       "h_mud        float64\n",
       "n_ent        float64\n",
       "per          float64\n",
       "n_ren        float64\n",
       "eda          float64\n",
       "n_inf        float64\n",
       "p1           float64\n",
       "p1a1          object\n",
       "p1a2          object\n",
       "p1a3          object\n",
       "p1b           object\n",
       "p1c          float64\n",
       "p1d           object\n",
       "p1e           object\n",
       "p2_1          object\n",
       "p2_2          object\n",
       "p2_3          object\n",
       "p2_4          object\n",
       "p2_9          object\n",
       "p2a_dia      float64\n",
       "p2a_sem       object\n",
       "              ...   \n",
       "p5e_hju      float64\n",
       "p5e_mju      float64\n",
       "p5e_hvi      float64\n",
       "p5e_mvi      float64\n",
       "p5e_hsa      float64\n",
       "p5e_msa      float64\n",
       "p5e_hdo      float64\n",
       "p5e_mdo      float64\n",
       "p5e_thrs     float64\n",
       "p5e_tdia      object\n",
       "p5f          float64\n",
       "p5g1         float64\n",
       "p5g2         float64\n",
       "p5g3         float64\n",
       "p5g4         float64\n",
       "p5g5         float64\n",
       "p5g6         float64\n",
       "p5g7         float64\n",
       "p5g8         float64\n",
       "p5g9         float64\n",
       "p5g10        float64\n",
       "p5g11        float64\n",
       "p5g12        float64\n",
       "p5g13        float64\n",
       "p5g14        float64\n",
       "p5g15        float64\n",
       "p5g99        float64\n",
       "p5h           object\n",
       "ur           float64\n",
       "fac          float64\n",
       "Length: 186, dtype: object"
      ]
     },
     "execution_count": 8,
     "metadata": {},
     "output_type": "execute_result"
    }
   ],
   "source": [
    "df.dtypes"
   ]
  },
  {
   "cell_type": "markdown",
   "metadata": {},
   "source": [
    "## Copia de df"
   ]
  },
  {
   "cell_type": "code",
   "execution_count": 9,
   "metadata": {},
   "outputs": [],
   "source": [
    "df_copy_20151 = df.copy()"
   ]
  },
  {
   "cell_type": "code",
   "execution_count": 10,
   "metadata": {},
   "outputs": [
    {
     "data": {
      "text/plain": [
       "(1048575, 186)"
      ]
     },
     "execution_count": 10,
     "metadata": {},
     "output_type": "execute_result"
    }
   ],
   "source": [
    "df_copy_20151.shape"
   ]
  },
  {
   "cell_type": "markdown",
   "metadata": {},
   "source": [
    "## Verificando si tenemos datos faltantes"
   ]
  },
  {
   "cell_type": "code",
   "execution_count": 11,
   "metadata": {},
   "outputs": [
    {
     "data": {
      "text/html": [
       "<div>\n",
       "<style scoped>\n",
       "    .dataframe tbody tr th:only-of-type {\n",
       "        vertical-align: middle;\n",
       "    }\n",
       "\n",
       "    .dataframe tbody tr th {\n",
       "        vertical-align: top;\n",
       "    }\n",
       "\n",
       "    .dataframe thead th {\n",
       "        text-align: right;\n",
       "    }\n",
       "</style>\n",
       "<table border=\"1\" class=\"dataframe\">\n",
       "  <thead>\n",
       "    <tr style=\"text-align: right;\">\n",
       "      <th></th>\n",
       "      <th>r_def</th>\n",
       "      <th>cd_a</th>\n",
       "      <th>ent</th>\n",
       "      <th>con</th>\n",
       "      <th>upm</th>\n",
       "      <th>d_sem</th>\n",
       "      <th>n_pro_viv</th>\n",
       "      <th>v_sel</th>\n",
       "      <th>n_hog</th>\n",
       "      <th>h_mud</th>\n",
       "      <th>...</th>\n",
       "      <th>p5g10</th>\n",
       "      <th>p5g11</th>\n",
       "      <th>p5g12</th>\n",
       "      <th>p5g13</th>\n",
       "      <th>p5g14</th>\n",
       "      <th>p5g15</th>\n",
       "      <th>p5g99</th>\n",
       "      <th>p5h</th>\n",
       "      <th>ur</th>\n",
       "      <th>fac</th>\n",
       "    </tr>\n",
       "  </thead>\n",
       "  <tbody>\n",
       "    <tr>\n",
       "      <th>0</th>\n",
       "      <td>True</td>\n",
       "      <td>True</td>\n",
       "      <td>True</td>\n",
       "      <td>True</td>\n",
       "      <td>True</td>\n",
       "      <td>True</td>\n",
       "      <td>True</td>\n",
       "      <td>True</td>\n",
       "      <td>True</td>\n",
       "      <td>True</td>\n",
       "      <td>...</td>\n",
       "      <td>False</td>\n",
       "      <td>False</td>\n",
       "      <td>False</td>\n",
       "      <td>False</td>\n",
       "      <td>True</td>\n",
       "      <td>False</td>\n",
       "      <td>False</td>\n",
       "      <td>True</td>\n",
       "      <td>True</td>\n",
       "      <td>True</td>\n",
       "    </tr>\n",
       "    <tr>\n",
       "      <th>1</th>\n",
       "      <td>True</td>\n",
       "      <td>True</td>\n",
       "      <td>True</td>\n",
       "      <td>True</td>\n",
       "      <td>True</td>\n",
       "      <td>True</td>\n",
       "      <td>True</td>\n",
       "      <td>True</td>\n",
       "      <td>True</td>\n",
       "      <td>True</td>\n",
       "      <td>...</td>\n",
       "      <td>False</td>\n",
       "      <td>False</td>\n",
       "      <td>False</td>\n",
       "      <td>False</td>\n",
       "      <td>False</td>\n",
       "      <td>False</td>\n",
       "      <td>False</td>\n",
       "      <td>True</td>\n",
       "      <td>True</td>\n",
       "      <td>True</td>\n",
       "    </tr>\n",
       "    <tr>\n",
       "      <th>2</th>\n",
       "      <td>True</td>\n",
       "      <td>True</td>\n",
       "      <td>True</td>\n",
       "      <td>True</td>\n",
       "      <td>True</td>\n",
       "      <td>True</td>\n",
       "      <td>True</td>\n",
       "      <td>True</td>\n",
       "      <td>True</td>\n",
       "      <td>True</td>\n",
       "      <td>...</td>\n",
       "      <td>False</td>\n",
       "      <td>False</td>\n",
       "      <td>False</td>\n",
       "      <td>False</td>\n",
       "      <td>True</td>\n",
       "      <td>False</td>\n",
       "      <td>False</td>\n",
       "      <td>True</td>\n",
       "      <td>True</td>\n",
       "      <td>True</td>\n",
       "    </tr>\n",
       "    <tr>\n",
       "      <th>3</th>\n",
       "      <td>True</td>\n",
       "      <td>True</td>\n",
       "      <td>True</td>\n",
       "      <td>True</td>\n",
       "      <td>True</td>\n",
       "      <td>True</td>\n",
       "      <td>True</td>\n",
       "      <td>True</td>\n",
       "      <td>True</td>\n",
       "      <td>True</td>\n",
       "      <td>...</td>\n",
       "      <td>False</td>\n",
       "      <td>False</td>\n",
       "      <td>False</td>\n",
       "      <td>False</td>\n",
       "      <td>False</td>\n",
       "      <td>True</td>\n",
       "      <td>False</td>\n",
       "      <td>True</td>\n",
       "      <td>True</td>\n",
       "      <td>True</td>\n",
       "    </tr>\n",
       "    <tr>\n",
       "      <th>4</th>\n",
       "      <td>True</td>\n",
       "      <td>True</td>\n",
       "      <td>True</td>\n",
       "      <td>True</td>\n",
       "      <td>True</td>\n",
       "      <td>True</td>\n",
       "      <td>True</td>\n",
       "      <td>True</td>\n",
       "      <td>True</td>\n",
       "      <td>True</td>\n",
       "      <td>...</td>\n",
       "      <td>False</td>\n",
       "      <td>False</td>\n",
       "      <td>False</td>\n",
       "      <td>False</td>\n",
       "      <td>False</td>\n",
       "      <td>False</td>\n",
       "      <td>False</td>\n",
       "      <td>True</td>\n",
       "      <td>True</td>\n",
       "      <td>True</td>\n",
       "    </tr>\n",
       "    <tr>\n",
       "      <th>5</th>\n",
       "      <td>True</td>\n",
       "      <td>True</td>\n",
       "      <td>True</td>\n",
       "      <td>True</td>\n",
       "      <td>True</td>\n",
       "      <td>True</td>\n",
       "      <td>True</td>\n",
       "      <td>True</td>\n",
       "      <td>True</td>\n",
       "      <td>True</td>\n",
       "      <td>...</td>\n",
       "      <td>False</td>\n",
       "      <td>False</td>\n",
       "      <td>False</td>\n",
       "      <td>False</td>\n",
       "      <td>False</td>\n",
       "      <td>False</td>\n",
       "      <td>False</td>\n",
       "      <td>True</td>\n",
       "      <td>True</td>\n",
       "      <td>True</td>\n",
       "    </tr>\n",
       "    <tr>\n",
       "      <th>6</th>\n",
       "      <td>True</td>\n",
       "      <td>True</td>\n",
       "      <td>True</td>\n",
       "      <td>True</td>\n",
       "      <td>True</td>\n",
       "      <td>True</td>\n",
       "      <td>True</td>\n",
       "      <td>True</td>\n",
       "      <td>True</td>\n",
       "      <td>True</td>\n",
       "      <td>...</td>\n",
       "      <td>False</td>\n",
       "      <td>False</td>\n",
       "      <td>False</td>\n",
       "      <td>False</td>\n",
       "      <td>True</td>\n",
       "      <td>False</td>\n",
       "      <td>False</td>\n",
       "      <td>True</td>\n",
       "      <td>True</td>\n",
       "      <td>True</td>\n",
       "    </tr>\n",
       "    <tr>\n",
       "      <th>7</th>\n",
       "      <td>True</td>\n",
       "      <td>True</td>\n",
       "      <td>True</td>\n",
       "      <td>True</td>\n",
       "      <td>True</td>\n",
       "      <td>True</td>\n",
       "      <td>True</td>\n",
       "      <td>True</td>\n",
       "      <td>True</td>\n",
       "      <td>True</td>\n",
       "      <td>...</td>\n",
       "      <td>False</td>\n",
       "      <td>False</td>\n",
       "      <td>False</td>\n",
       "      <td>False</td>\n",
       "      <td>False</td>\n",
       "      <td>False</td>\n",
       "      <td>False</td>\n",
       "      <td>True</td>\n",
       "      <td>True</td>\n",
       "      <td>True</td>\n",
       "    </tr>\n",
       "    <tr>\n",
       "      <th>8</th>\n",
       "      <td>True</td>\n",
       "      <td>True</td>\n",
       "      <td>True</td>\n",
       "      <td>True</td>\n",
       "      <td>True</td>\n",
       "      <td>True</td>\n",
       "      <td>True</td>\n",
       "      <td>True</td>\n",
       "      <td>True</td>\n",
       "      <td>True</td>\n",
       "      <td>...</td>\n",
       "      <td>False</td>\n",
       "      <td>False</td>\n",
       "      <td>False</td>\n",
       "      <td>False</td>\n",
       "      <td>True</td>\n",
       "      <td>False</td>\n",
       "      <td>False</td>\n",
       "      <td>True</td>\n",
       "      <td>True</td>\n",
       "      <td>True</td>\n",
       "    </tr>\n",
       "    <tr>\n",
       "      <th>9</th>\n",
       "      <td>True</td>\n",
       "      <td>True</td>\n",
       "      <td>True</td>\n",
       "      <td>True</td>\n",
       "      <td>True</td>\n",
       "      <td>True</td>\n",
       "      <td>True</td>\n",
       "      <td>True</td>\n",
       "      <td>True</td>\n",
       "      <td>True</td>\n",
       "      <td>...</td>\n",
       "      <td>False</td>\n",
       "      <td>False</td>\n",
       "      <td>False</td>\n",
       "      <td>False</td>\n",
       "      <td>False</td>\n",
       "      <td>False</td>\n",
       "      <td>False</td>\n",
       "      <td>True</td>\n",
       "      <td>True</td>\n",
       "      <td>True</td>\n",
       "    </tr>\n",
       "    <tr>\n",
       "      <th>10</th>\n",
       "      <td>True</td>\n",
       "      <td>True</td>\n",
       "      <td>True</td>\n",
       "      <td>True</td>\n",
       "      <td>True</td>\n",
       "      <td>True</td>\n",
       "      <td>True</td>\n",
       "      <td>True</td>\n",
       "      <td>True</td>\n",
       "      <td>True</td>\n",
       "      <td>...</td>\n",
       "      <td>False</td>\n",
       "      <td>False</td>\n",
       "      <td>False</td>\n",
       "      <td>False</td>\n",
       "      <td>False</td>\n",
       "      <td>False</td>\n",
       "      <td>False</td>\n",
       "      <td>True</td>\n",
       "      <td>True</td>\n",
       "      <td>True</td>\n",
       "    </tr>\n",
       "    <tr>\n",
       "      <th>11</th>\n",
       "      <td>True</td>\n",
       "      <td>True</td>\n",
       "      <td>True</td>\n",
       "      <td>True</td>\n",
       "      <td>True</td>\n",
       "      <td>True</td>\n",
       "      <td>True</td>\n",
       "      <td>True</td>\n",
       "      <td>True</td>\n",
       "      <td>True</td>\n",
       "      <td>...</td>\n",
       "      <td>False</td>\n",
       "      <td>False</td>\n",
       "      <td>False</td>\n",
       "      <td>False</td>\n",
       "      <td>False</td>\n",
       "      <td>False</td>\n",
       "      <td>False</td>\n",
       "      <td>True</td>\n",
       "      <td>True</td>\n",
       "      <td>True</td>\n",
       "    </tr>\n",
       "    <tr>\n",
       "      <th>12</th>\n",
       "      <td>True</td>\n",
       "      <td>True</td>\n",
       "      <td>True</td>\n",
       "      <td>True</td>\n",
       "      <td>True</td>\n",
       "      <td>True</td>\n",
       "      <td>True</td>\n",
       "      <td>True</td>\n",
       "      <td>True</td>\n",
       "      <td>True</td>\n",
       "      <td>...</td>\n",
       "      <td>False</td>\n",
       "      <td>False</td>\n",
       "      <td>False</td>\n",
       "      <td>False</td>\n",
       "      <td>False</td>\n",
       "      <td>False</td>\n",
       "      <td>False</td>\n",
       "      <td>True</td>\n",
       "      <td>True</td>\n",
       "      <td>True</td>\n",
       "    </tr>\n",
       "    <tr>\n",
       "      <th>13</th>\n",
       "      <td>True</td>\n",
       "      <td>True</td>\n",
       "      <td>True</td>\n",
       "      <td>True</td>\n",
       "      <td>True</td>\n",
       "      <td>True</td>\n",
       "      <td>True</td>\n",
       "      <td>True</td>\n",
       "      <td>True</td>\n",
       "      <td>True</td>\n",
       "      <td>...</td>\n",
       "      <td>False</td>\n",
       "      <td>False</td>\n",
       "      <td>False</td>\n",
       "      <td>False</td>\n",
       "      <td>True</td>\n",
       "      <td>False</td>\n",
       "      <td>False</td>\n",
       "      <td>True</td>\n",
       "      <td>True</td>\n",
       "      <td>True</td>\n",
       "    </tr>\n",
       "    <tr>\n",
       "      <th>14</th>\n",
       "      <td>True</td>\n",
       "      <td>True</td>\n",
       "      <td>True</td>\n",
       "      <td>True</td>\n",
       "      <td>True</td>\n",
       "      <td>True</td>\n",
       "      <td>True</td>\n",
       "      <td>True</td>\n",
       "      <td>True</td>\n",
       "      <td>True</td>\n",
       "      <td>...</td>\n",
       "      <td>False</td>\n",
       "      <td>False</td>\n",
       "      <td>False</td>\n",
       "      <td>False</td>\n",
       "      <td>True</td>\n",
       "      <td>False</td>\n",
       "      <td>False</td>\n",
       "      <td>True</td>\n",
       "      <td>True</td>\n",
       "      <td>True</td>\n",
       "    </tr>\n",
       "    <tr>\n",
       "      <th>15</th>\n",
       "      <td>True</td>\n",
       "      <td>True</td>\n",
       "      <td>True</td>\n",
       "      <td>True</td>\n",
       "      <td>True</td>\n",
       "      <td>True</td>\n",
       "      <td>True</td>\n",
       "      <td>True</td>\n",
       "      <td>True</td>\n",
       "      <td>True</td>\n",
       "      <td>...</td>\n",
       "      <td>False</td>\n",
       "      <td>False</td>\n",
       "      <td>False</td>\n",
       "      <td>False</td>\n",
       "      <td>False</td>\n",
       "      <td>True</td>\n",
       "      <td>False</td>\n",
       "      <td>True</td>\n",
       "      <td>True</td>\n",
       "      <td>True</td>\n",
       "    </tr>\n",
       "    <tr>\n",
       "      <th>16</th>\n",
       "      <td>True</td>\n",
       "      <td>True</td>\n",
       "      <td>True</td>\n",
       "      <td>True</td>\n",
       "      <td>True</td>\n",
       "      <td>True</td>\n",
       "      <td>True</td>\n",
       "      <td>True</td>\n",
       "      <td>True</td>\n",
       "      <td>True</td>\n",
       "      <td>...</td>\n",
       "      <td>False</td>\n",
       "      <td>False</td>\n",
       "      <td>False</td>\n",
       "      <td>False</td>\n",
       "      <td>False</td>\n",
       "      <td>False</td>\n",
       "      <td>False</td>\n",
       "      <td>True</td>\n",
       "      <td>True</td>\n",
       "      <td>True</td>\n",
       "    </tr>\n",
       "    <tr>\n",
       "      <th>17</th>\n",
       "      <td>True</td>\n",
       "      <td>True</td>\n",
       "      <td>True</td>\n",
       "      <td>True</td>\n",
       "      <td>True</td>\n",
       "      <td>True</td>\n",
       "      <td>True</td>\n",
       "      <td>True</td>\n",
       "      <td>True</td>\n",
       "      <td>True</td>\n",
       "      <td>...</td>\n",
       "      <td>False</td>\n",
       "      <td>False</td>\n",
       "      <td>False</td>\n",
       "      <td>False</td>\n",
       "      <td>False</td>\n",
       "      <td>False</td>\n",
       "      <td>False</td>\n",
       "      <td>True</td>\n",
       "      <td>True</td>\n",
       "      <td>True</td>\n",
       "    </tr>\n",
       "    <tr>\n",
       "      <th>18</th>\n",
       "      <td>True</td>\n",
       "      <td>True</td>\n",
       "      <td>True</td>\n",
       "      <td>True</td>\n",
       "      <td>True</td>\n",
       "      <td>True</td>\n",
       "      <td>True</td>\n",
       "      <td>True</td>\n",
       "      <td>True</td>\n",
       "      <td>True</td>\n",
       "      <td>...</td>\n",
       "      <td>False</td>\n",
       "      <td>False</td>\n",
       "      <td>False</td>\n",
       "      <td>False</td>\n",
       "      <td>False</td>\n",
       "      <td>False</td>\n",
       "      <td>False</td>\n",
       "      <td>True</td>\n",
       "      <td>True</td>\n",
       "      <td>True</td>\n",
       "    </tr>\n",
       "    <tr>\n",
       "      <th>19</th>\n",
       "      <td>True</td>\n",
       "      <td>True</td>\n",
       "      <td>True</td>\n",
       "      <td>True</td>\n",
       "      <td>True</td>\n",
       "      <td>True</td>\n",
       "      <td>True</td>\n",
       "      <td>True</td>\n",
       "      <td>True</td>\n",
       "      <td>True</td>\n",
       "      <td>...</td>\n",
       "      <td>False</td>\n",
       "      <td>False</td>\n",
       "      <td>False</td>\n",
       "      <td>False</td>\n",
       "      <td>False</td>\n",
       "      <td>False</td>\n",
       "      <td>False</td>\n",
       "      <td>True</td>\n",
       "      <td>True</td>\n",
       "      <td>True</td>\n",
       "    </tr>\n",
       "    <tr>\n",
       "      <th>20</th>\n",
       "      <td>True</td>\n",
       "      <td>True</td>\n",
       "      <td>True</td>\n",
       "      <td>True</td>\n",
       "      <td>True</td>\n",
       "      <td>True</td>\n",
       "      <td>True</td>\n",
       "      <td>True</td>\n",
       "      <td>True</td>\n",
       "      <td>True</td>\n",
       "      <td>...</td>\n",
       "      <td>False</td>\n",
       "      <td>False</td>\n",
       "      <td>False</td>\n",
       "      <td>False</td>\n",
       "      <td>False</td>\n",
       "      <td>False</td>\n",
       "      <td>False</td>\n",
       "      <td>True</td>\n",
       "      <td>True</td>\n",
       "      <td>True</td>\n",
       "    </tr>\n",
       "    <tr>\n",
       "      <th>21</th>\n",
       "      <td>True</td>\n",
       "      <td>True</td>\n",
       "      <td>True</td>\n",
       "      <td>True</td>\n",
       "      <td>True</td>\n",
       "      <td>True</td>\n",
       "      <td>True</td>\n",
       "      <td>True</td>\n",
       "      <td>True</td>\n",
       "      <td>True</td>\n",
       "      <td>...</td>\n",
       "      <td>False</td>\n",
       "      <td>False</td>\n",
       "      <td>False</td>\n",
       "      <td>False</td>\n",
       "      <td>True</td>\n",
       "      <td>False</td>\n",
       "      <td>False</td>\n",
       "      <td>True</td>\n",
       "      <td>True</td>\n",
       "      <td>True</td>\n",
       "    </tr>\n",
       "    <tr>\n",
       "      <th>22</th>\n",
       "      <td>True</td>\n",
       "      <td>True</td>\n",
       "      <td>True</td>\n",
       "      <td>True</td>\n",
       "      <td>True</td>\n",
       "      <td>True</td>\n",
       "      <td>True</td>\n",
       "      <td>True</td>\n",
       "      <td>True</td>\n",
       "      <td>True</td>\n",
       "      <td>...</td>\n",
       "      <td>False</td>\n",
       "      <td>False</td>\n",
       "      <td>False</td>\n",
       "      <td>False</td>\n",
       "      <td>True</td>\n",
       "      <td>False</td>\n",
       "      <td>False</td>\n",
       "      <td>True</td>\n",
       "      <td>True</td>\n",
       "      <td>True</td>\n",
       "    </tr>\n",
       "    <tr>\n",
       "      <th>23</th>\n",
       "      <td>True</td>\n",
       "      <td>True</td>\n",
       "      <td>True</td>\n",
       "      <td>True</td>\n",
       "      <td>True</td>\n",
       "      <td>True</td>\n",
       "      <td>True</td>\n",
       "      <td>True</td>\n",
       "      <td>True</td>\n",
       "      <td>True</td>\n",
       "      <td>...</td>\n",
       "      <td>False</td>\n",
       "      <td>False</td>\n",
       "      <td>False</td>\n",
       "      <td>False</td>\n",
       "      <td>True</td>\n",
       "      <td>False</td>\n",
       "      <td>False</td>\n",
       "      <td>True</td>\n",
       "      <td>True</td>\n",
       "      <td>True</td>\n",
       "    </tr>\n",
       "    <tr>\n",
       "      <th>24</th>\n",
       "      <td>True</td>\n",
       "      <td>True</td>\n",
       "      <td>True</td>\n",
       "      <td>True</td>\n",
       "      <td>True</td>\n",
       "      <td>True</td>\n",
       "      <td>True</td>\n",
       "      <td>True</td>\n",
       "      <td>True</td>\n",
       "      <td>True</td>\n",
       "      <td>...</td>\n",
       "      <td>False</td>\n",
       "      <td>False</td>\n",
       "      <td>False</td>\n",
       "      <td>False</td>\n",
       "      <td>False</td>\n",
       "      <td>False</td>\n",
       "      <td>False</td>\n",
       "      <td>True</td>\n",
       "      <td>True</td>\n",
       "      <td>True</td>\n",
       "    </tr>\n",
       "    <tr>\n",
       "      <th>25</th>\n",
       "      <td>True</td>\n",
       "      <td>True</td>\n",
       "      <td>True</td>\n",
       "      <td>True</td>\n",
       "      <td>True</td>\n",
       "      <td>True</td>\n",
       "      <td>True</td>\n",
       "      <td>True</td>\n",
       "      <td>True</td>\n",
       "      <td>True</td>\n",
       "      <td>...</td>\n",
       "      <td>False</td>\n",
       "      <td>False</td>\n",
       "      <td>False</td>\n",
       "      <td>False</td>\n",
       "      <td>False</td>\n",
       "      <td>False</td>\n",
       "      <td>False</td>\n",
       "      <td>True</td>\n",
       "      <td>True</td>\n",
       "      <td>True</td>\n",
       "    </tr>\n",
       "    <tr>\n",
       "      <th>26</th>\n",
       "      <td>True</td>\n",
       "      <td>True</td>\n",
       "      <td>True</td>\n",
       "      <td>True</td>\n",
       "      <td>True</td>\n",
       "      <td>True</td>\n",
       "      <td>True</td>\n",
       "      <td>True</td>\n",
       "      <td>True</td>\n",
       "      <td>True</td>\n",
       "      <td>...</td>\n",
       "      <td>False</td>\n",
       "      <td>False</td>\n",
       "      <td>False</td>\n",
       "      <td>False</td>\n",
       "      <td>False</td>\n",
       "      <td>False</td>\n",
       "      <td>False</td>\n",
       "      <td>True</td>\n",
       "      <td>True</td>\n",
       "      <td>True</td>\n",
       "    </tr>\n",
       "    <tr>\n",
       "      <th>27</th>\n",
       "      <td>True</td>\n",
       "      <td>True</td>\n",
       "      <td>True</td>\n",
       "      <td>True</td>\n",
       "      <td>True</td>\n",
       "      <td>True</td>\n",
       "      <td>True</td>\n",
       "      <td>True</td>\n",
       "      <td>True</td>\n",
       "      <td>True</td>\n",
       "      <td>...</td>\n",
       "      <td>False</td>\n",
       "      <td>False</td>\n",
       "      <td>False</td>\n",
       "      <td>False</td>\n",
       "      <td>False</td>\n",
       "      <td>False</td>\n",
       "      <td>False</td>\n",
       "      <td>True</td>\n",
       "      <td>True</td>\n",
       "      <td>True</td>\n",
       "    </tr>\n",
       "    <tr>\n",
       "      <th>28</th>\n",
       "      <td>True</td>\n",
       "      <td>True</td>\n",
       "      <td>True</td>\n",
       "      <td>True</td>\n",
       "      <td>True</td>\n",
       "      <td>True</td>\n",
       "      <td>True</td>\n",
       "      <td>True</td>\n",
       "      <td>True</td>\n",
       "      <td>True</td>\n",
       "      <td>...</td>\n",
       "      <td>False</td>\n",
       "      <td>False</td>\n",
       "      <td>False</td>\n",
       "      <td>False</td>\n",
       "      <td>True</td>\n",
       "      <td>False</td>\n",
       "      <td>False</td>\n",
       "      <td>True</td>\n",
       "      <td>True</td>\n",
       "      <td>True</td>\n",
       "    </tr>\n",
       "    <tr>\n",
       "      <th>29</th>\n",
       "      <td>True</td>\n",
       "      <td>True</td>\n",
       "      <td>True</td>\n",
       "      <td>True</td>\n",
       "      <td>True</td>\n",
       "      <td>True</td>\n",
       "      <td>True</td>\n",
       "      <td>True</td>\n",
       "      <td>True</td>\n",
       "      <td>True</td>\n",
       "      <td>...</td>\n",
       "      <td>False</td>\n",
       "      <td>False</td>\n",
       "      <td>False</td>\n",
       "      <td>False</td>\n",
       "      <td>True</td>\n",
       "      <td>False</td>\n",
       "      <td>False</td>\n",
       "      <td>True</td>\n",
       "      <td>True</td>\n",
       "      <td>True</td>\n",
       "    </tr>\n",
       "    <tr>\n",
       "      <th>...</th>\n",
       "      <td>...</td>\n",
       "      <td>...</td>\n",
       "      <td>...</td>\n",
       "      <td>...</td>\n",
       "      <td>...</td>\n",
       "      <td>...</td>\n",
       "      <td>...</td>\n",
       "      <td>...</td>\n",
       "      <td>...</td>\n",
       "      <td>...</td>\n",
       "      <td>...</td>\n",
       "      <td>...</td>\n",
       "      <td>...</td>\n",
       "      <td>...</td>\n",
       "      <td>...</td>\n",
       "      <td>...</td>\n",
       "      <td>...</td>\n",
       "      <td>...</td>\n",
       "      <td>...</td>\n",
       "      <td>...</td>\n",
       "      <td>...</td>\n",
       "    </tr>\n",
       "    <tr>\n",
       "      <th>1048545</th>\n",
       "      <td>True</td>\n",
       "      <td>True</td>\n",
       "      <td>True</td>\n",
       "      <td>True</td>\n",
       "      <td>True</td>\n",
       "      <td>True</td>\n",
       "      <td>True</td>\n",
       "      <td>True</td>\n",
       "      <td>True</td>\n",
       "      <td>True</td>\n",
       "      <td>...</td>\n",
       "      <td>False</td>\n",
       "      <td>False</td>\n",
       "      <td>False</td>\n",
       "      <td>False</td>\n",
       "      <td>True</td>\n",
       "      <td>False</td>\n",
       "      <td>False</td>\n",
       "      <td>False</td>\n",
       "      <td>True</td>\n",
       "      <td>True</td>\n",
       "    </tr>\n",
       "    <tr>\n",
       "      <th>1048546</th>\n",
       "      <td>True</td>\n",
       "      <td>True</td>\n",
       "      <td>True</td>\n",
       "      <td>True</td>\n",
       "      <td>True</td>\n",
       "      <td>True</td>\n",
       "      <td>True</td>\n",
       "      <td>True</td>\n",
       "      <td>True</td>\n",
       "      <td>True</td>\n",
       "      <td>...</td>\n",
       "      <td>False</td>\n",
       "      <td>False</td>\n",
       "      <td>False</td>\n",
       "      <td>False</td>\n",
       "      <td>True</td>\n",
       "      <td>False</td>\n",
       "      <td>False</td>\n",
       "      <td>False</td>\n",
       "      <td>True</td>\n",
       "      <td>True</td>\n",
       "    </tr>\n",
       "    <tr>\n",
       "      <th>1048547</th>\n",
       "      <td>True</td>\n",
       "      <td>True</td>\n",
       "      <td>True</td>\n",
       "      <td>True</td>\n",
       "      <td>True</td>\n",
       "      <td>True</td>\n",
       "      <td>True</td>\n",
       "      <td>True</td>\n",
       "      <td>True</td>\n",
       "      <td>True</td>\n",
       "      <td>...</td>\n",
       "      <td>False</td>\n",
       "      <td>False</td>\n",
       "      <td>False</td>\n",
       "      <td>False</td>\n",
       "      <td>False</td>\n",
       "      <td>False</td>\n",
       "      <td>False</td>\n",
       "      <td>False</td>\n",
       "      <td>True</td>\n",
       "      <td>True</td>\n",
       "    </tr>\n",
       "    <tr>\n",
       "      <th>1048548</th>\n",
       "      <td>True</td>\n",
       "      <td>True</td>\n",
       "      <td>True</td>\n",
       "      <td>True</td>\n",
       "      <td>True</td>\n",
       "      <td>True</td>\n",
       "      <td>True</td>\n",
       "      <td>True</td>\n",
       "      <td>True</td>\n",
       "      <td>True</td>\n",
       "      <td>...</td>\n",
       "      <td>False</td>\n",
       "      <td>False</td>\n",
       "      <td>False</td>\n",
       "      <td>False</td>\n",
       "      <td>True</td>\n",
       "      <td>False</td>\n",
       "      <td>False</td>\n",
       "      <td>False</td>\n",
       "      <td>True</td>\n",
       "      <td>True</td>\n",
       "    </tr>\n",
       "    <tr>\n",
       "      <th>1048549</th>\n",
       "      <td>True</td>\n",
       "      <td>True</td>\n",
       "      <td>True</td>\n",
       "      <td>True</td>\n",
       "      <td>True</td>\n",
       "      <td>True</td>\n",
       "      <td>True</td>\n",
       "      <td>True</td>\n",
       "      <td>True</td>\n",
       "      <td>True</td>\n",
       "      <td>...</td>\n",
       "      <td>False</td>\n",
       "      <td>False</td>\n",
       "      <td>False</td>\n",
       "      <td>False</td>\n",
       "      <td>True</td>\n",
       "      <td>False</td>\n",
       "      <td>False</td>\n",
       "      <td>False</td>\n",
       "      <td>True</td>\n",
       "      <td>True</td>\n",
       "    </tr>\n",
       "    <tr>\n",
       "      <th>1048550</th>\n",
       "      <td>True</td>\n",
       "      <td>True</td>\n",
       "      <td>True</td>\n",
       "      <td>True</td>\n",
       "      <td>True</td>\n",
       "      <td>True</td>\n",
       "      <td>True</td>\n",
       "      <td>True</td>\n",
       "      <td>True</td>\n",
       "      <td>True</td>\n",
       "      <td>...</td>\n",
       "      <td>False</td>\n",
       "      <td>False</td>\n",
       "      <td>False</td>\n",
       "      <td>False</td>\n",
       "      <td>False</td>\n",
       "      <td>False</td>\n",
       "      <td>False</td>\n",
       "      <td>False</td>\n",
       "      <td>True</td>\n",
       "      <td>True</td>\n",
       "    </tr>\n",
       "    <tr>\n",
       "      <th>1048551</th>\n",
       "      <td>True</td>\n",
       "      <td>True</td>\n",
       "      <td>True</td>\n",
       "      <td>True</td>\n",
       "      <td>True</td>\n",
       "      <td>True</td>\n",
       "      <td>True</td>\n",
       "      <td>True</td>\n",
       "      <td>True</td>\n",
       "      <td>True</td>\n",
       "      <td>...</td>\n",
       "      <td>False</td>\n",
       "      <td>False</td>\n",
       "      <td>False</td>\n",
       "      <td>False</td>\n",
       "      <td>False</td>\n",
       "      <td>False</td>\n",
       "      <td>False</td>\n",
       "      <td>False</td>\n",
       "      <td>True</td>\n",
       "      <td>True</td>\n",
       "    </tr>\n",
       "    <tr>\n",
       "      <th>1048552</th>\n",
       "      <td>True</td>\n",
       "      <td>True</td>\n",
       "      <td>True</td>\n",
       "      <td>True</td>\n",
       "      <td>True</td>\n",
       "      <td>True</td>\n",
       "      <td>True</td>\n",
       "      <td>True</td>\n",
       "      <td>True</td>\n",
       "      <td>True</td>\n",
       "      <td>...</td>\n",
       "      <td>False</td>\n",
       "      <td>False</td>\n",
       "      <td>False</td>\n",
       "      <td>False</td>\n",
       "      <td>True</td>\n",
       "      <td>False</td>\n",
       "      <td>False</td>\n",
       "      <td>False</td>\n",
       "      <td>True</td>\n",
       "      <td>True</td>\n",
       "    </tr>\n",
       "    <tr>\n",
       "      <th>1048553</th>\n",
       "      <td>True</td>\n",
       "      <td>True</td>\n",
       "      <td>True</td>\n",
       "      <td>True</td>\n",
       "      <td>True</td>\n",
       "      <td>True</td>\n",
       "      <td>True</td>\n",
       "      <td>True</td>\n",
       "      <td>True</td>\n",
       "      <td>True</td>\n",
       "      <td>...</td>\n",
       "      <td>False</td>\n",
       "      <td>False</td>\n",
       "      <td>False</td>\n",
       "      <td>False</td>\n",
       "      <td>True</td>\n",
       "      <td>False</td>\n",
       "      <td>False</td>\n",
       "      <td>False</td>\n",
       "      <td>True</td>\n",
       "      <td>True</td>\n",
       "    </tr>\n",
       "    <tr>\n",
       "      <th>1048554</th>\n",
       "      <td>True</td>\n",
       "      <td>True</td>\n",
       "      <td>True</td>\n",
       "      <td>True</td>\n",
       "      <td>True</td>\n",
       "      <td>True</td>\n",
       "      <td>True</td>\n",
       "      <td>True</td>\n",
       "      <td>True</td>\n",
       "      <td>True</td>\n",
       "      <td>...</td>\n",
       "      <td>False</td>\n",
       "      <td>False</td>\n",
       "      <td>False</td>\n",
       "      <td>False</td>\n",
       "      <td>True</td>\n",
       "      <td>False</td>\n",
       "      <td>False</td>\n",
       "      <td>False</td>\n",
       "      <td>True</td>\n",
       "      <td>True</td>\n",
       "    </tr>\n",
       "    <tr>\n",
       "      <th>1048555</th>\n",
       "      <td>True</td>\n",
       "      <td>True</td>\n",
       "      <td>True</td>\n",
       "      <td>True</td>\n",
       "      <td>True</td>\n",
       "      <td>True</td>\n",
       "      <td>True</td>\n",
       "      <td>True</td>\n",
       "      <td>True</td>\n",
       "      <td>True</td>\n",
       "      <td>...</td>\n",
       "      <td>False</td>\n",
       "      <td>False</td>\n",
       "      <td>False</td>\n",
       "      <td>False</td>\n",
       "      <td>True</td>\n",
       "      <td>False</td>\n",
       "      <td>False</td>\n",
       "      <td>False</td>\n",
       "      <td>True</td>\n",
       "      <td>True</td>\n",
       "    </tr>\n",
       "    <tr>\n",
       "      <th>1048556</th>\n",
       "      <td>True</td>\n",
       "      <td>True</td>\n",
       "      <td>True</td>\n",
       "      <td>True</td>\n",
       "      <td>True</td>\n",
       "      <td>True</td>\n",
       "      <td>True</td>\n",
       "      <td>True</td>\n",
       "      <td>True</td>\n",
       "      <td>True</td>\n",
       "      <td>...</td>\n",
       "      <td>False</td>\n",
       "      <td>False</td>\n",
       "      <td>False</td>\n",
       "      <td>False</td>\n",
       "      <td>True</td>\n",
       "      <td>False</td>\n",
       "      <td>False</td>\n",
       "      <td>False</td>\n",
       "      <td>True</td>\n",
       "      <td>True</td>\n",
       "    </tr>\n",
       "    <tr>\n",
       "      <th>1048557</th>\n",
       "      <td>True</td>\n",
       "      <td>True</td>\n",
       "      <td>True</td>\n",
       "      <td>True</td>\n",
       "      <td>True</td>\n",
       "      <td>True</td>\n",
       "      <td>True</td>\n",
       "      <td>True</td>\n",
       "      <td>True</td>\n",
       "      <td>True</td>\n",
       "      <td>...</td>\n",
       "      <td>False</td>\n",
       "      <td>False</td>\n",
       "      <td>False</td>\n",
       "      <td>False</td>\n",
       "      <td>False</td>\n",
       "      <td>False</td>\n",
       "      <td>False</td>\n",
       "      <td>False</td>\n",
       "      <td>True</td>\n",
       "      <td>True</td>\n",
       "    </tr>\n",
       "    <tr>\n",
       "      <th>1048558</th>\n",
       "      <td>True</td>\n",
       "      <td>True</td>\n",
       "      <td>True</td>\n",
       "      <td>True</td>\n",
       "      <td>True</td>\n",
       "      <td>True</td>\n",
       "      <td>True</td>\n",
       "      <td>True</td>\n",
       "      <td>True</td>\n",
       "      <td>True</td>\n",
       "      <td>...</td>\n",
       "      <td>False</td>\n",
       "      <td>False</td>\n",
       "      <td>False</td>\n",
       "      <td>False</td>\n",
       "      <td>False</td>\n",
       "      <td>False</td>\n",
       "      <td>False</td>\n",
       "      <td>False</td>\n",
       "      <td>True</td>\n",
       "      <td>True</td>\n",
       "    </tr>\n",
       "    <tr>\n",
       "      <th>1048559</th>\n",
       "      <td>True</td>\n",
       "      <td>True</td>\n",
       "      <td>True</td>\n",
       "      <td>True</td>\n",
       "      <td>True</td>\n",
       "      <td>True</td>\n",
       "      <td>True</td>\n",
       "      <td>True</td>\n",
       "      <td>True</td>\n",
       "      <td>True</td>\n",
       "      <td>...</td>\n",
       "      <td>False</td>\n",
       "      <td>False</td>\n",
       "      <td>False</td>\n",
       "      <td>False</td>\n",
       "      <td>True</td>\n",
       "      <td>False</td>\n",
       "      <td>False</td>\n",
       "      <td>False</td>\n",
       "      <td>True</td>\n",
       "      <td>True</td>\n",
       "    </tr>\n",
       "    <tr>\n",
       "      <th>1048560</th>\n",
       "      <td>True</td>\n",
       "      <td>True</td>\n",
       "      <td>True</td>\n",
       "      <td>True</td>\n",
       "      <td>True</td>\n",
       "      <td>True</td>\n",
       "      <td>True</td>\n",
       "      <td>True</td>\n",
       "      <td>True</td>\n",
       "      <td>True</td>\n",
       "      <td>...</td>\n",
       "      <td>False</td>\n",
       "      <td>False</td>\n",
       "      <td>False</td>\n",
       "      <td>False</td>\n",
       "      <td>False</td>\n",
       "      <td>False</td>\n",
       "      <td>False</td>\n",
       "      <td>False</td>\n",
       "      <td>True</td>\n",
       "      <td>True</td>\n",
       "    </tr>\n",
       "    <tr>\n",
       "      <th>1048561</th>\n",
       "      <td>True</td>\n",
       "      <td>True</td>\n",
       "      <td>True</td>\n",
       "      <td>True</td>\n",
       "      <td>True</td>\n",
       "      <td>True</td>\n",
       "      <td>True</td>\n",
       "      <td>True</td>\n",
       "      <td>True</td>\n",
       "      <td>True</td>\n",
       "      <td>...</td>\n",
       "      <td>False</td>\n",
       "      <td>False</td>\n",
       "      <td>False</td>\n",
       "      <td>False</td>\n",
       "      <td>False</td>\n",
       "      <td>False</td>\n",
       "      <td>False</td>\n",
       "      <td>False</td>\n",
       "      <td>True</td>\n",
       "      <td>True</td>\n",
       "    </tr>\n",
       "    <tr>\n",
       "      <th>1048562</th>\n",
       "      <td>True</td>\n",
       "      <td>True</td>\n",
       "      <td>True</td>\n",
       "      <td>True</td>\n",
       "      <td>True</td>\n",
       "      <td>True</td>\n",
       "      <td>True</td>\n",
       "      <td>True</td>\n",
       "      <td>True</td>\n",
       "      <td>True</td>\n",
       "      <td>...</td>\n",
       "      <td>False</td>\n",
       "      <td>False</td>\n",
       "      <td>False</td>\n",
       "      <td>False</td>\n",
       "      <td>False</td>\n",
       "      <td>False</td>\n",
       "      <td>False</td>\n",
       "      <td>False</td>\n",
       "      <td>True</td>\n",
       "      <td>True</td>\n",
       "    </tr>\n",
       "    <tr>\n",
       "      <th>1048563</th>\n",
       "      <td>True</td>\n",
       "      <td>True</td>\n",
       "      <td>True</td>\n",
       "      <td>True</td>\n",
       "      <td>True</td>\n",
       "      <td>True</td>\n",
       "      <td>True</td>\n",
       "      <td>True</td>\n",
       "      <td>True</td>\n",
       "      <td>True</td>\n",
       "      <td>...</td>\n",
       "      <td>False</td>\n",
       "      <td>False</td>\n",
       "      <td>False</td>\n",
       "      <td>False</td>\n",
       "      <td>True</td>\n",
       "      <td>False</td>\n",
       "      <td>False</td>\n",
       "      <td>False</td>\n",
       "      <td>True</td>\n",
       "      <td>True</td>\n",
       "    </tr>\n",
       "    <tr>\n",
       "      <th>1048564</th>\n",
       "      <td>True</td>\n",
       "      <td>True</td>\n",
       "      <td>True</td>\n",
       "      <td>True</td>\n",
       "      <td>True</td>\n",
       "      <td>True</td>\n",
       "      <td>True</td>\n",
       "      <td>True</td>\n",
       "      <td>True</td>\n",
       "      <td>True</td>\n",
       "      <td>...</td>\n",
       "      <td>False</td>\n",
       "      <td>False</td>\n",
       "      <td>False</td>\n",
       "      <td>False</td>\n",
       "      <td>False</td>\n",
       "      <td>False</td>\n",
       "      <td>False</td>\n",
       "      <td>False</td>\n",
       "      <td>True</td>\n",
       "      <td>True</td>\n",
       "    </tr>\n",
       "    <tr>\n",
       "      <th>1048565</th>\n",
       "      <td>True</td>\n",
       "      <td>True</td>\n",
       "      <td>True</td>\n",
       "      <td>True</td>\n",
       "      <td>True</td>\n",
       "      <td>True</td>\n",
       "      <td>True</td>\n",
       "      <td>True</td>\n",
       "      <td>True</td>\n",
       "      <td>True</td>\n",
       "      <td>...</td>\n",
       "      <td>False</td>\n",
       "      <td>False</td>\n",
       "      <td>False</td>\n",
       "      <td>False</td>\n",
       "      <td>False</td>\n",
       "      <td>False</td>\n",
       "      <td>False</td>\n",
       "      <td>False</td>\n",
       "      <td>True</td>\n",
       "      <td>True</td>\n",
       "    </tr>\n",
       "    <tr>\n",
       "      <th>1048566</th>\n",
       "      <td>True</td>\n",
       "      <td>True</td>\n",
       "      <td>True</td>\n",
       "      <td>True</td>\n",
       "      <td>True</td>\n",
       "      <td>True</td>\n",
       "      <td>True</td>\n",
       "      <td>True</td>\n",
       "      <td>True</td>\n",
       "      <td>True</td>\n",
       "      <td>...</td>\n",
       "      <td>False</td>\n",
       "      <td>False</td>\n",
       "      <td>False</td>\n",
       "      <td>False</td>\n",
       "      <td>True</td>\n",
       "      <td>False</td>\n",
       "      <td>False</td>\n",
       "      <td>False</td>\n",
       "      <td>True</td>\n",
       "      <td>True</td>\n",
       "    </tr>\n",
       "    <tr>\n",
       "      <th>1048567</th>\n",
       "      <td>True</td>\n",
       "      <td>True</td>\n",
       "      <td>True</td>\n",
       "      <td>True</td>\n",
       "      <td>True</td>\n",
       "      <td>True</td>\n",
       "      <td>True</td>\n",
       "      <td>True</td>\n",
       "      <td>True</td>\n",
       "      <td>True</td>\n",
       "      <td>...</td>\n",
       "      <td>False</td>\n",
       "      <td>False</td>\n",
       "      <td>False</td>\n",
       "      <td>False</td>\n",
       "      <td>True</td>\n",
       "      <td>False</td>\n",
       "      <td>False</td>\n",
       "      <td>False</td>\n",
       "      <td>True</td>\n",
       "      <td>True</td>\n",
       "    </tr>\n",
       "    <tr>\n",
       "      <th>1048568</th>\n",
       "      <td>True</td>\n",
       "      <td>True</td>\n",
       "      <td>True</td>\n",
       "      <td>True</td>\n",
       "      <td>True</td>\n",
       "      <td>True</td>\n",
       "      <td>True</td>\n",
       "      <td>True</td>\n",
       "      <td>True</td>\n",
       "      <td>True</td>\n",
       "      <td>...</td>\n",
       "      <td>False</td>\n",
       "      <td>False</td>\n",
       "      <td>False</td>\n",
       "      <td>False</td>\n",
       "      <td>False</td>\n",
       "      <td>False</td>\n",
       "      <td>False</td>\n",
       "      <td>False</td>\n",
       "      <td>True</td>\n",
       "      <td>True</td>\n",
       "    </tr>\n",
       "    <tr>\n",
       "      <th>1048569</th>\n",
       "      <td>True</td>\n",
       "      <td>True</td>\n",
       "      <td>True</td>\n",
       "      <td>True</td>\n",
       "      <td>True</td>\n",
       "      <td>True</td>\n",
       "      <td>True</td>\n",
       "      <td>True</td>\n",
       "      <td>True</td>\n",
       "      <td>True</td>\n",
       "      <td>...</td>\n",
       "      <td>False</td>\n",
       "      <td>False</td>\n",
       "      <td>False</td>\n",
       "      <td>False</td>\n",
       "      <td>False</td>\n",
       "      <td>True</td>\n",
       "      <td>False</td>\n",
       "      <td>False</td>\n",
       "      <td>True</td>\n",
       "      <td>True</td>\n",
       "    </tr>\n",
       "    <tr>\n",
       "      <th>1048570</th>\n",
       "      <td>True</td>\n",
       "      <td>True</td>\n",
       "      <td>True</td>\n",
       "      <td>True</td>\n",
       "      <td>True</td>\n",
       "      <td>True</td>\n",
       "      <td>True</td>\n",
       "      <td>True</td>\n",
       "      <td>True</td>\n",
       "      <td>True</td>\n",
       "      <td>...</td>\n",
       "      <td>False</td>\n",
       "      <td>False</td>\n",
       "      <td>False</td>\n",
       "      <td>False</td>\n",
       "      <td>True</td>\n",
       "      <td>False</td>\n",
       "      <td>False</td>\n",
       "      <td>False</td>\n",
       "      <td>True</td>\n",
       "      <td>True</td>\n",
       "    </tr>\n",
       "    <tr>\n",
       "      <th>1048571</th>\n",
       "      <td>True</td>\n",
       "      <td>True</td>\n",
       "      <td>True</td>\n",
       "      <td>True</td>\n",
       "      <td>True</td>\n",
       "      <td>True</td>\n",
       "      <td>True</td>\n",
       "      <td>True</td>\n",
       "      <td>True</td>\n",
       "      <td>True</td>\n",
       "      <td>...</td>\n",
       "      <td>False</td>\n",
       "      <td>False</td>\n",
       "      <td>False</td>\n",
       "      <td>False</td>\n",
       "      <td>True</td>\n",
       "      <td>False</td>\n",
       "      <td>False</td>\n",
       "      <td>False</td>\n",
       "      <td>True</td>\n",
       "      <td>True</td>\n",
       "    </tr>\n",
       "    <tr>\n",
       "      <th>1048572</th>\n",
       "      <td>True</td>\n",
       "      <td>True</td>\n",
       "      <td>True</td>\n",
       "      <td>True</td>\n",
       "      <td>True</td>\n",
       "      <td>True</td>\n",
       "      <td>True</td>\n",
       "      <td>True</td>\n",
       "      <td>True</td>\n",
       "      <td>True</td>\n",
       "      <td>...</td>\n",
       "      <td>False</td>\n",
       "      <td>False</td>\n",
       "      <td>False</td>\n",
       "      <td>False</td>\n",
       "      <td>True</td>\n",
       "      <td>False</td>\n",
       "      <td>False</td>\n",
       "      <td>False</td>\n",
       "      <td>True</td>\n",
       "      <td>True</td>\n",
       "    </tr>\n",
       "    <tr>\n",
       "      <th>1048573</th>\n",
       "      <td>True</td>\n",
       "      <td>True</td>\n",
       "      <td>True</td>\n",
       "      <td>True</td>\n",
       "      <td>True</td>\n",
       "      <td>True</td>\n",
       "      <td>True</td>\n",
       "      <td>True</td>\n",
       "      <td>True</td>\n",
       "      <td>True</td>\n",
       "      <td>...</td>\n",
       "      <td>False</td>\n",
       "      <td>False</td>\n",
       "      <td>False</td>\n",
       "      <td>False</td>\n",
       "      <td>False</td>\n",
       "      <td>False</td>\n",
       "      <td>False</td>\n",
       "      <td>False</td>\n",
       "      <td>True</td>\n",
       "      <td>True</td>\n",
       "    </tr>\n",
       "    <tr>\n",
       "      <th>1048574</th>\n",
       "      <td>False</td>\n",
       "      <td>False</td>\n",
       "      <td>False</td>\n",
       "      <td>False</td>\n",
       "      <td>False</td>\n",
       "      <td>False</td>\n",
       "      <td>False</td>\n",
       "      <td>False</td>\n",
       "      <td>False</td>\n",
       "      <td>False</td>\n",
       "      <td>...</td>\n",
       "      <td>False</td>\n",
       "      <td>False</td>\n",
       "      <td>False</td>\n",
       "      <td>False</td>\n",
       "      <td>False</td>\n",
       "      <td>False</td>\n",
       "      <td>False</td>\n",
       "      <td>False</td>\n",
       "      <td>False</td>\n",
       "      <td>False</td>\n",
       "    </tr>\n",
       "  </tbody>\n",
       "</table>\n",
       "<p>1048575 rows × 186 columns</p>\n",
       "</div>"
      ],
      "text/plain": [
       "         r_def   cd_a    ent    con    upm  d_sem  n_pro_viv  v_sel  n_hog  \\\n",
       "0         True   True   True   True   True   True       True   True   True   \n",
       "1         True   True   True   True   True   True       True   True   True   \n",
       "2         True   True   True   True   True   True       True   True   True   \n",
       "3         True   True   True   True   True   True       True   True   True   \n",
       "4         True   True   True   True   True   True       True   True   True   \n",
       "5         True   True   True   True   True   True       True   True   True   \n",
       "6         True   True   True   True   True   True       True   True   True   \n",
       "7         True   True   True   True   True   True       True   True   True   \n",
       "8         True   True   True   True   True   True       True   True   True   \n",
       "9         True   True   True   True   True   True       True   True   True   \n",
       "10        True   True   True   True   True   True       True   True   True   \n",
       "11        True   True   True   True   True   True       True   True   True   \n",
       "12        True   True   True   True   True   True       True   True   True   \n",
       "13        True   True   True   True   True   True       True   True   True   \n",
       "14        True   True   True   True   True   True       True   True   True   \n",
       "15        True   True   True   True   True   True       True   True   True   \n",
       "16        True   True   True   True   True   True       True   True   True   \n",
       "17        True   True   True   True   True   True       True   True   True   \n",
       "18        True   True   True   True   True   True       True   True   True   \n",
       "19        True   True   True   True   True   True       True   True   True   \n",
       "20        True   True   True   True   True   True       True   True   True   \n",
       "21        True   True   True   True   True   True       True   True   True   \n",
       "22        True   True   True   True   True   True       True   True   True   \n",
       "23        True   True   True   True   True   True       True   True   True   \n",
       "24        True   True   True   True   True   True       True   True   True   \n",
       "25        True   True   True   True   True   True       True   True   True   \n",
       "26        True   True   True   True   True   True       True   True   True   \n",
       "27        True   True   True   True   True   True       True   True   True   \n",
       "28        True   True   True   True   True   True       True   True   True   \n",
       "29        True   True   True   True   True   True       True   True   True   \n",
       "...        ...    ...    ...    ...    ...    ...        ...    ...    ...   \n",
       "1048545   True   True   True   True   True   True       True   True   True   \n",
       "1048546   True   True   True   True   True   True       True   True   True   \n",
       "1048547   True   True   True   True   True   True       True   True   True   \n",
       "1048548   True   True   True   True   True   True       True   True   True   \n",
       "1048549   True   True   True   True   True   True       True   True   True   \n",
       "1048550   True   True   True   True   True   True       True   True   True   \n",
       "1048551   True   True   True   True   True   True       True   True   True   \n",
       "1048552   True   True   True   True   True   True       True   True   True   \n",
       "1048553   True   True   True   True   True   True       True   True   True   \n",
       "1048554   True   True   True   True   True   True       True   True   True   \n",
       "1048555   True   True   True   True   True   True       True   True   True   \n",
       "1048556   True   True   True   True   True   True       True   True   True   \n",
       "1048557   True   True   True   True   True   True       True   True   True   \n",
       "1048558   True   True   True   True   True   True       True   True   True   \n",
       "1048559   True   True   True   True   True   True       True   True   True   \n",
       "1048560   True   True   True   True   True   True       True   True   True   \n",
       "1048561   True   True   True   True   True   True       True   True   True   \n",
       "1048562   True   True   True   True   True   True       True   True   True   \n",
       "1048563   True   True   True   True   True   True       True   True   True   \n",
       "1048564   True   True   True   True   True   True       True   True   True   \n",
       "1048565   True   True   True   True   True   True       True   True   True   \n",
       "1048566   True   True   True   True   True   True       True   True   True   \n",
       "1048567   True   True   True   True   True   True       True   True   True   \n",
       "1048568   True   True   True   True   True   True       True   True   True   \n",
       "1048569   True   True   True   True   True   True       True   True   True   \n",
       "1048570   True   True   True   True   True   True       True   True   True   \n",
       "1048571   True   True   True   True   True   True       True   True   True   \n",
       "1048572   True   True   True   True   True   True       True   True   True   \n",
       "1048573   True   True   True   True   True   True       True   True   True   \n",
       "1048574  False  False  False  False  False  False      False  False  False   \n",
       "\n",
       "         h_mud  ...    p5g10  p5g11  p5g12  p5g13  p5g14  p5g15  p5g99    p5h  \\\n",
       "0         True  ...    False  False  False  False   True  False  False   True   \n",
       "1         True  ...    False  False  False  False  False  False  False   True   \n",
       "2         True  ...    False  False  False  False   True  False  False   True   \n",
       "3         True  ...    False  False  False  False  False   True  False   True   \n",
       "4         True  ...    False  False  False  False  False  False  False   True   \n",
       "5         True  ...    False  False  False  False  False  False  False   True   \n",
       "6         True  ...    False  False  False  False   True  False  False   True   \n",
       "7         True  ...    False  False  False  False  False  False  False   True   \n",
       "8         True  ...    False  False  False  False   True  False  False   True   \n",
       "9         True  ...    False  False  False  False  False  False  False   True   \n",
       "10        True  ...    False  False  False  False  False  False  False   True   \n",
       "11        True  ...    False  False  False  False  False  False  False   True   \n",
       "12        True  ...    False  False  False  False  False  False  False   True   \n",
       "13        True  ...    False  False  False  False   True  False  False   True   \n",
       "14        True  ...    False  False  False  False   True  False  False   True   \n",
       "15        True  ...    False  False  False  False  False   True  False   True   \n",
       "16        True  ...    False  False  False  False  False  False  False   True   \n",
       "17        True  ...    False  False  False  False  False  False  False   True   \n",
       "18        True  ...    False  False  False  False  False  False  False   True   \n",
       "19        True  ...    False  False  False  False  False  False  False   True   \n",
       "20        True  ...    False  False  False  False  False  False  False   True   \n",
       "21        True  ...    False  False  False  False   True  False  False   True   \n",
       "22        True  ...    False  False  False  False   True  False  False   True   \n",
       "23        True  ...    False  False  False  False   True  False  False   True   \n",
       "24        True  ...    False  False  False  False  False  False  False   True   \n",
       "25        True  ...    False  False  False  False  False  False  False   True   \n",
       "26        True  ...    False  False  False  False  False  False  False   True   \n",
       "27        True  ...    False  False  False  False  False  False  False   True   \n",
       "28        True  ...    False  False  False  False   True  False  False   True   \n",
       "29        True  ...    False  False  False  False   True  False  False   True   \n",
       "...        ...  ...      ...    ...    ...    ...    ...    ...    ...    ...   \n",
       "1048545   True  ...    False  False  False  False   True  False  False  False   \n",
       "1048546   True  ...    False  False  False  False   True  False  False  False   \n",
       "1048547   True  ...    False  False  False  False  False  False  False  False   \n",
       "1048548   True  ...    False  False  False  False   True  False  False  False   \n",
       "1048549   True  ...    False  False  False  False   True  False  False  False   \n",
       "1048550   True  ...    False  False  False  False  False  False  False  False   \n",
       "1048551   True  ...    False  False  False  False  False  False  False  False   \n",
       "1048552   True  ...    False  False  False  False   True  False  False  False   \n",
       "1048553   True  ...    False  False  False  False   True  False  False  False   \n",
       "1048554   True  ...    False  False  False  False   True  False  False  False   \n",
       "1048555   True  ...    False  False  False  False   True  False  False  False   \n",
       "1048556   True  ...    False  False  False  False   True  False  False  False   \n",
       "1048557   True  ...    False  False  False  False  False  False  False  False   \n",
       "1048558   True  ...    False  False  False  False  False  False  False  False   \n",
       "1048559   True  ...    False  False  False  False   True  False  False  False   \n",
       "1048560   True  ...    False  False  False  False  False  False  False  False   \n",
       "1048561   True  ...    False  False  False  False  False  False  False  False   \n",
       "1048562   True  ...    False  False  False  False  False  False  False  False   \n",
       "1048563   True  ...    False  False  False  False   True  False  False  False   \n",
       "1048564   True  ...    False  False  False  False  False  False  False  False   \n",
       "1048565   True  ...    False  False  False  False  False  False  False  False   \n",
       "1048566   True  ...    False  False  False  False   True  False  False  False   \n",
       "1048567   True  ...    False  False  False  False   True  False  False  False   \n",
       "1048568   True  ...    False  False  False  False  False  False  False  False   \n",
       "1048569   True  ...    False  False  False  False  False   True  False  False   \n",
       "1048570   True  ...    False  False  False  False   True  False  False  False   \n",
       "1048571   True  ...    False  False  False  False   True  False  False  False   \n",
       "1048572   True  ...    False  False  False  False   True  False  False  False   \n",
       "1048573   True  ...    False  False  False  False  False  False  False  False   \n",
       "1048574  False  ...    False  False  False  False  False  False  False  False   \n",
       "\n",
       "            ur    fac  \n",
       "0         True   True  \n",
       "1         True   True  \n",
       "2         True   True  \n",
       "3         True   True  \n",
       "4         True   True  \n",
       "5         True   True  \n",
       "6         True   True  \n",
       "7         True   True  \n",
       "8         True   True  \n",
       "9         True   True  \n",
       "10        True   True  \n",
       "11        True   True  \n",
       "12        True   True  \n",
       "13        True   True  \n",
       "14        True   True  \n",
       "15        True   True  \n",
       "16        True   True  \n",
       "17        True   True  \n",
       "18        True   True  \n",
       "19        True   True  \n",
       "20        True   True  \n",
       "21        True   True  \n",
       "22        True   True  \n",
       "23        True   True  \n",
       "24        True   True  \n",
       "25        True   True  \n",
       "26        True   True  \n",
       "27        True   True  \n",
       "28        True   True  \n",
       "29        True   True  \n",
       "...        ...    ...  \n",
       "1048545   True   True  \n",
       "1048546   True   True  \n",
       "1048547   True   True  \n",
       "1048548   True   True  \n",
       "1048549   True   True  \n",
       "1048550   True   True  \n",
       "1048551   True   True  \n",
       "1048552   True   True  \n",
       "1048553   True   True  \n",
       "1048554   True   True  \n",
       "1048555   True   True  \n",
       "1048556   True   True  \n",
       "1048557   True   True  \n",
       "1048558   True   True  \n",
       "1048559   True   True  \n",
       "1048560   True   True  \n",
       "1048561   True   True  \n",
       "1048562   True   True  \n",
       "1048563   True   True  \n",
       "1048564   True   True  \n",
       "1048565   True   True  \n",
       "1048566   True   True  \n",
       "1048567   True   True  \n",
       "1048568   True   True  \n",
       "1048569   True   True  \n",
       "1048570   True   True  \n",
       "1048571   True   True  \n",
       "1048572   True   True  \n",
       "1048573   True   True  \n",
       "1048574  False  False  \n",
       "\n",
       "[1048575 rows x 186 columns]"
      ]
     },
     "execution_count": 11,
     "metadata": {},
     "output_type": "execute_result"
    }
   ],
   "source": [
    "df.notnull()"
   ]
  },
  {
   "cell_type": "markdown",
   "metadata": {},
   "source": [
    "## Columnas con datos completos (complete data) y faltantes (missing data)"
   ]
  },
  {
   "cell_type": "code",
   "execution_count": 12,
   "metadata": {},
   "outputs": [
    {
     "data": {
      "text/plain": [
       "r_def        False\n",
       "cd_a         False\n",
       "ent          False\n",
       "con          False\n",
       "upm          False\n",
       "d_sem        False\n",
       "n_pro_viv    False\n",
       "v_sel        False\n",
       "n_hog        False\n",
       "h_mud        False\n",
       "n_ent        False\n",
       "per          False\n",
       "n_ren        False\n",
       "eda          False\n",
       "n_inf        False\n",
       "p1           False\n",
       "p1a1         False\n",
       "p1a2         False\n",
       "p1a3         False\n",
       "p1b          False\n",
       "p1c          False\n",
       "p1d          False\n",
       "p1e          False\n",
       "p2_1         False\n",
       "p2_2         False\n",
       "p2_3         False\n",
       "p2_4         False\n",
       "p2_9         False\n",
       "p2a_dia      False\n",
       "p2a_sem      False\n",
       "             ...  \n",
       "p5e_hju      False\n",
       "p5e_mju      False\n",
       "p5e_hvi      False\n",
       "p5e_mvi      False\n",
       "p5e_hsa      False\n",
       "p5e_msa      False\n",
       "p5e_hdo      False\n",
       "p5e_mdo      False\n",
       "p5e_thrs     False\n",
       "p5e_tdia     False\n",
       "p5f          False\n",
       "p5g1         False\n",
       "p5g2         False\n",
       "p5g3         False\n",
       "p5g4         False\n",
       "p5g5         False\n",
       "p5g6         False\n",
       "p5g7         False\n",
       "p5g8         False\n",
       "p5g9         False\n",
       "p5g10        False\n",
       "p5g11        False\n",
       "p5g12        False\n",
       "p5g13        False\n",
       "p5g14        False\n",
       "p5g15        False\n",
       "p5g99        False\n",
       "p5h          False\n",
       "ur           False\n",
       "fac          False\n",
       "Length: 186, dtype: bool"
      ]
     },
     "execution_count": 12,
     "metadata": {},
     "output_type": "execute_result"
    }
   ],
   "source": [
    "df_copy_20151.notnull().all()"
   ]
  },
  {
   "cell_type": "code",
   "execution_count": 13,
   "metadata": {},
   "outputs": [],
   "source": [
    "df_copy_20151 = df_copy_20151.fillna(value=99)"
   ]
  },
  {
   "cell_type": "code",
   "execution_count": 14,
   "metadata": {},
   "outputs": [
    {
     "data": {
      "text/html": [
       "<div>\n",
       "<style scoped>\n",
       "    .dataframe tbody tr th:only-of-type {\n",
       "        vertical-align: middle;\n",
       "    }\n",
       "\n",
       "    .dataframe tbody tr th {\n",
       "        vertical-align: top;\n",
       "    }\n",
       "\n",
       "    .dataframe thead th {\n",
       "        text-align: right;\n",
       "    }\n",
       "</style>\n",
       "<table border=\"1\" class=\"dataframe\">\n",
       "  <thead>\n",
       "    <tr style=\"text-align: right;\">\n",
       "      <th></th>\n",
       "      <th>r_def</th>\n",
       "      <th>cd_a</th>\n",
       "      <th>ent</th>\n",
       "      <th>con</th>\n",
       "      <th>upm</th>\n",
       "      <th>d_sem</th>\n",
       "      <th>n_pro_viv</th>\n",
       "      <th>v_sel</th>\n",
       "      <th>n_hog</th>\n",
       "      <th>h_mud</th>\n",
       "      <th>...</th>\n",
       "      <th>p5g10</th>\n",
       "      <th>p5g11</th>\n",
       "      <th>p5g12</th>\n",
       "      <th>p5g13</th>\n",
       "      <th>p5g14</th>\n",
       "      <th>p5g15</th>\n",
       "      <th>p5g99</th>\n",
       "      <th>p5h</th>\n",
       "      <th>ur</th>\n",
       "      <th>fac</th>\n",
       "    </tr>\n",
       "  </thead>\n",
       "  <tbody>\n",
       "    <tr>\n",
       "      <th>0</th>\n",
       "      <td>0.0</td>\n",
       "      <td>1.0</td>\n",
       "      <td>9.0</td>\n",
       "      <td>40001.0</td>\n",
       "      <td>900471.0</td>\n",
       "      <td>101.0</td>\n",
       "      <td>55.0</td>\n",
       "      <td>2.0</td>\n",
       "      <td>1.0</td>\n",
       "      <td>0.0</td>\n",
       "      <td>...</td>\n",
       "      <td>99.0</td>\n",
       "      <td>99.0</td>\n",
       "      <td>99.0</td>\n",
       "      <td>99.0</td>\n",
       "      <td>14.0</td>\n",
       "      <td>99.0</td>\n",
       "      <td>99.0</td>\n",
       "      <td></td>\n",
       "      <td>1.0</td>\n",
       "      <td>487.0</td>\n",
       "    </tr>\n",
       "    <tr>\n",
       "      <th>1</th>\n",
       "      <td>0.0</td>\n",
       "      <td>1.0</td>\n",
       "      <td>9.0</td>\n",
       "      <td>40001.0</td>\n",
       "      <td>900471.0</td>\n",
       "      <td>101.0</td>\n",
       "      <td>55.0</td>\n",
       "      <td>2.0</td>\n",
       "      <td>1.0</td>\n",
       "      <td>0.0</td>\n",
       "      <td>...</td>\n",
       "      <td>99.0</td>\n",
       "      <td>99.0</td>\n",
       "      <td>99.0</td>\n",
       "      <td>99.0</td>\n",
       "      <td>99.0</td>\n",
       "      <td>99.0</td>\n",
       "      <td>99.0</td>\n",
       "      <td></td>\n",
       "      <td>1.0</td>\n",
       "      <td>487.0</td>\n",
       "    </tr>\n",
       "    <tr>\n",
       "      <th>2</th>\n",
       "      <td>0.0</td>\n",
       "      <td>1.0</td>\n",
       "      <td>9.0</td>\n",
       "      <td>40001.0</td>\n",
       "      <td>900471.0</td>\n",
       "      <td>101.0</td>\n",
       "      <td>55.0</td>\n",
       "      <td>2.0</td>\n",
       "      <td>1.0</td>\n",
       "      <td>0.0</td>\n",
       "      <td>...</td>\n",
       "      <td>99.0</td>\n",
       "      <td>99.0</td>\n",
       "      <td>99.0</td>\n",
       "      <td>99.0</td>\n",
       "      <td>14.0</td>\n",
       "      <td>99.0</td>\n",
       "      <td>99.0</td>\n",
       "      <td></td>\n",
       "      <td>1.0</td>\n",
       "      <td>487.0</td>\n",
       "    </tr>\n",
       "    <tr>\n",
       "      <th>3</th>\n",
       "      <td>0.0</td>\n",
       "      <td>1.0</td>\n",
       "      <td>9.0</td>\n",
       "      <td>40001.0</td>\n",
       "      <td>900471.0</td>\n",
       "      <td>101.0</td>\n",
       "      <td>80.0</td>\n",
       "      <td>3.0</td>\n",
       "      <td>1.0</td>\n",
       "      <td>0.0</td>\n",
       "      <td>...</td>\n",
       "      <td>99.0</td>\n",
       "      <td>99.0</td>\n",
       "      <td>99.0</td>\n",
       "      <td>99.0</td>\n",
       "      <td>99.0</td>\n",
       "      <td>15.0</td>\n",
       "      <td>99.0</td>\n",
       "      <td></td>\n",
       "      <td>1.0</td>\n",
       "      <td>487.0</td>\n",
       "    </tr>\n",
       "    <tr>\n",
       "      <th>4</th>\n",
       "      <td>0.0</td>\n",
       "      <td>1.0</td>\n",
       "      <td>9.0</td>\n",
       "      <td>40001.0</td>\n",
       "      <td>900471.0</td>\n",
       "      <td>101.0</td>\n",
       "      <td>80.0</td>\n",
       "      <td>3.0</td>\n",
       "      <td>1.0</td>\n",
       "      <td>0.0</td>\n",
       "      <td>...</td>\n",
       "      <td>99.0</td>\n",
       "      <td>99.0</td>\n",
       "      <td>99.0</td>\n",
       "      <td>99.0</td>\n",
       "      <td>99.0</td>\n",
       "      <td>99.0</td>\n",
       "      <td>99.0</td>\n",
       "      <td></td>\n",
       "      <td>1.0</td>\n",
       "      <td>487.0</td>\n",
       "    </tr>\n",
       "  </tbody>\n",
       "</table>\n",
       "<p>5 rows × 186 columns</p>\n",
       "</div>"
      ],
      "text/plain": [
       "   r_def  cd_a  ent      con       upm  d_sem  n_pro_viv  v_sel  n_hog  h_mud  \\\n",
       "0    0.0   1.0  9.0  40001.0  900471.0  101.0       55.0    2.0    1.0    0.0   \n",
       "1    0.0   1.0  9.0  40001.0  900471.0  101.0       55.0    2.0    1.0    0.0   \n",
       "2    0.0   1.0  9.0  40001.0  900471.0  101.0       55.0    2.0    1.0    0.0   \n",
       "3    0.0   1.0  9.0  40001.0  900471.0  101.0       80.0    3.0    1.0    0.0   \n",
       "4    0.0   1.0  9.0  40001.0  900471.0  101.0       80.0    3.0    1.0    0.0   \n",
       "\n",
       "   ...    p5g10  p5g11  p5g12  p5g13  p5g14  p5g15 p5g99 p5h   ur    fac  \n",
       "0  ...     99.0   99.0   99.0   99.0   14.0   99.0  99.0      1.0  487.0  \n",
       "1  ...     99.0   99.0   99.0   99.0   99.0   99.0  99.0      1.0  487.0  \n",
       "2  ...     99.0   99.0   99.0   99.0   14.0   99.0  99.0      1.0  487.0  \n",
       "3  ...     99.0   99.0   99.0   99.0   99.0   15.0  99.0      1.0  487.0  \n",
       "4  ...     99.0   99.0   99.0   99.0   99.0   99.0  99.0      1.0  487.0  \n",
       "\n",
       "[5 rows x 186 columns]"
      ]
     },
     "execution_count": 14,
     "metadata": {},
     "output_type": "execute_result"
    }
   ],
   "source": [
    "df_copy_20151.head()"
   ]
  },
  {
   "cell_type": "markdown",
   "metadata": {},
   "source": [
    "## Resultado definitivo de la entrevista (r_def)\n",
    "\n",
    "0 Entrevista completa"
   ]
  },
  {
   "cell_type": "code",
   "execution_count": 15,
   "metadata": {},
   "outputs": [
    {
     "data": {
      "text/plain": [
       "0     1048574\n",
       "99          1\n",
       "Name: r_def, dtype: int64"
      ]
     },
     "execution_count": 15,
     "metadata": {},
     "output_type": "execute_result"
    }
   ],
   "source": [
    "df_copy_20151['r_def'] = df_copy_20151['r_def'].astype('int64')\n",
    "df_copy_20151.r_def.value_counts()"
   ]
  },
  {
   "cell_type": "markdown",
   "metadata": {},
   "source": [
    "## Ciudad autorrepresentada (cd_a)\n",
    "1 México 2 Guadalajara 3 Monterrey 4 Puebla 5 León 6 Torreón (a partir de 2017) 7 San Luis Potosí 8 Mérida 9 Chihuahua 10 Tampico 12 Veracruz 13 Acapulco 14 Aguascalientes 15 Morelia 16 Toluca 17 Saltillo 18 Villahermosa 19 Tuxtla Gutiérrez 21 Tijuana 24 Culiacán 25 Hermosillo 26 Durango 27 Tepic 28 Campeche 29 Cuernavaca 31 Oaxaca 32 Zacatecas 33 Colima 36 Querétaro 39 Tlaxcala 40 La Paz 41 Cancún 43 Pachuca 81 Complemento urbano-rural 82 Complemento urbano-rural 83 Complemento urbano-rural 84 Complemento urbano-rural 85 Complemento urbano-rural 86 Complemento urbano-rural"
   ]
  },
  {
   "cell_type": "code",
   "execution_count": 16,
   "metadata": {
    "scrolled": true
   },
   "outputs": [
    {
     "data": {
      "text/plain": [
       "86    138974\n",
       "81     65617\n",
       "84     50739\n",
       "1      50299\n",
       "83     48831\n",
       "85     35496\n",
       "5      34070\n",
       "3      31911\n",
       "2      31826\n",
       "4      30585\n",
       "82     24395\n",
       "16     24291\n",
       "6      22188\n",
       "14     21842\n",
       "15     21755\n",
       "7      21753\n",
       "24     21666\n",
       "19     21124\n",
       "17     21060\n",
       "8      20548\n",
       "18     20382\n",
       "21     19792\n",
       "9      19297\n",
       "13     18688\n",
       "10     18299\n",
       "39     17169\n",
       "26     16465\n",
       "12     16085\n",
       "32     16047\n",
       "31     15860\n",
       "27     15632\n",
       "25     15625\n",
       "29     15142\n",
       "36     14884\n",
       "33     14787\n",
       "43     14501\n",
       "28     14414\n",
       "41     13701\n",
       "40     12834\n",
       "99         1\n",
       "Name: cd_a, dtype: int64"
      ]
     },
     "execution_count": 16,
     "metadata": {},
     "output_type": "execute_result"
    }
   ],
   "source": [
    "df_copy_20151['cd_a'] = df_copy_20151['cd_a'].astype('int64')\n",
    "df_copy_20151.cd_a.value_counts()"
   ]
  },
  {
   "cell_type": "markdown",
   "metadata": {},
   "source": [
    "## Entidad (ent)\n",
    "1 Aguascalientes 2 Baja California 3 Baja California Sur 4 Campeche 5 Coahuila de Zaragoza 6 Colima 7 Chiapas 8 Chihuahua 9 Distrito Federal 10 Durango 11 Guanajuato 12 Guerrero 13 Hidalgo 14 Jalisco 15 México 16 Michoacán de Ocampo 17 Morelos 18 Nayarit 19 Nuevo León 20 Oaxaca 21 Puebla 22 Querétaro 23 Quintana Roo 24 San Luis Potosí 25 Sinaloa 26 Sonora 27 Tabasco 28 Tamaulipas 29 Tlaxcala 30 Veracruz de Ignacio de la Llave 31 Yucatán 32 Zacatecas"
   ]
  },
  {
   "cell_type": "code",
   "execution_count": 17,
   "metadata": {},
   "outputs": [
    {
     "data": {
      "text/plain": [
       "15    54997\n",
       "11    48049\n",
       "5     45744\n",
       "21    42470\n",
       "14    41998\n",
       "19    39623\n",
       "7     37852\n",
       "30    34433\n",
       "2     34085\n",
       "24    34009\n",
       "16    33985\n",
       "1     33891\n",
       "25    33210\n",
       "27    32687\n",
       "10    32498\n",
       "31    32259\n",
       "12    32194\n",
       "20    31572\n",
       "9     31411\n",
       "8     30978\n",
       "28    29779\n",
       "32    28801\n",
       "29    27266\n",
       "18    26959\n",
       "4     26916\n",
       "22    26434\n",
       "26    25829\n",
       "17    25526\n",
       "13    24976\n",
       "6     24652\n",
       "23    22848\n",
       "3     20643\n",
       "99        1\n",
       "Name: ent, dtype: int64"
      ]
     },
     "execution_count": 17,
     "metadata": {},
     "output_type": "execute_result"
    }
   ],
   "source": [
    "df_copy_20151['ent'] = df_copy_20151['ent'].astype('int64')\n",
    "df_copy_20151.ent.value_counts()"
   ]
  },
  {
   "cell_type": "markdown",
   "metadata": {},
   "source": [
    "## Control (con)\n",
    "Primer dígito Ámbito del número de control 0 El control pertenece a la muestra anterior 4 Ciudades autorrepresentadas 5 Complemento urbano 6 Rural\n",
    "\n",
    "Los últimos cuatro Consecutivo por entidad dígitos y ámbito 0001-9999 ]"
   ]
  },
  {
   "cell_type": "code",
   "execution_count": 18,
   "metadata": {
    "scrolled": true
   },
   "outputs": [
    {
     "data": {
      "text/plain": [
       "60007    5356\n",
       "60004    5273\n",
       "60005    5122\n",
       "60002    5116\n",
       "60001    5059\n",
       "60009    5046\n",
       "60013    4968\n",
       "60003    4943\n",
       "60015    4905\n",
       "60008    4854\n",
       "60012    4803\n",
       "60006    4671\n",
       "60010    4652\n",
       "60011    4624\n",
       "60014    4558\n",
       "50007    3809\n",
       "60016    3715\n",
       "60017    3696\n",
       "50008    3669\n",
       "50016    3618\n",
       "60020    3460\n",
       "60018    3405\n",
       "50014    3387\n",
       "50029    3340\n",
       "50023    3339\n",
       "60021    3308\n",
       "60019    3299\n",
       "50013    3245\n",
       "50030    3227\n",
       "50017    3202\n",
       "         ... \n",
       "40619      42\n",
       "40638      42\n",
       "40628      41\n",
       "50265      41\n",
       "40605      41\n",
       "40602      40\n",
       "40609      40\n",
       "50266      37\n",
       "40606      36\n",
       "50235      36\n",
       "50270      34\n",
       "50264      34\n",
       "50262      34\n",
       "50257      34\n",
       "40630      32\n",
       "50263      32\n",
       "40603      31\n",
       "40613      31\n",
       "50259      29\n",
       "50258      28\n",
       "40610      26\n",
       "50261      26\n",
       "40618      23\n",
       "40608      23\n",
       "50268      22\n",
       "40637      22\n",
       "50267      16\n",
       "50260      13\n",
       "40629       6\n",
       "99          1\n",
       "Name: con, Length: 1382, dtype: int64"
      ]
     },
     "execution_count": 18,
     "metadata": {},
     "output_type": "execute_result"
    }
   ],
   "source": [
    "df_copy_20151['con'] = df_copy_20151['con'].astype('int64')\n",
    "df_copy_20151.con.value_counts()"
   ]
  },
  {
   "cell_type": "markdown",
   "metadata": {},
   "source": [
    "## Unidad primaria de muestreo (upm)\n",
    "0100001-3299999 Número de la unidad primaria de muestreo"
   ]
  },
  {
   "cell_type": "code",
   "execution_count": 19,
   "metadata": {
    "scrolled": true
   },
   "outputs": [
    {
     "data": {
      "text/plain": [
       "2104512    262\n",
       "1523639    256\n",
       "401384     248\n",
       "3160360    244\n",
       "761661     242\n",
       "2202586    241\n",
       "1527006    240\n",
       "2701676    239\n",
       "1527012    239\n",
       "2403483    239\n",
       "2106640    237\n",
       "1703122    237\n",
       "102171     235\n",
       "1561473    234\n",
       "3102796    231\n",
       "1360780    230\n",
       "2460710    230\n",
       "2061000    228\n",
       "3103644    227\n",
       "3103665    227\n",
       "460244     226\n",
       "2060981    225\n",
       "460155     225\n",
       "762502     223\n",
       "1702361    223\n",
       "3102754    222\n",
       "1525099    221\n",
       "2960066    221\n",
       "3062418    221\n",
       "160186     220\n",
       "          ... \n",
       "2301319      3\n",
       "3000202      3\n",
       "1300571      3\n",
       "3000208      3\n",
       "919392       3\n",
       "2202109      3\n",
       "2201883      3\n",
       "2806404      3\n",
       "300228       3\n",
       "3002294      3\n",
       "3102151      3\n",
       "1905640      3\n",
       "2302222      3\n",
       "1302846      3\n",
       "917067       3\n",
       "1202675      2\n",
       "206852       2\n",
       "2300475      2\n",
       "1700593      2\n",
       "1104978      2\n",
       "1102068      2\n",
       "916358       2\n",
       "1200118      2\n",
       "2805141      2\n",
       "2805045      2\n",
       "910336       2\n",
       "99           1\n",
       "2500966      1\n",
       "300157       1\n",
       "3100772      1\n",
       "Name: upm, Length: 22068, dtype: int64"
      ]
     },
     "execution_count": 19,
     "metadata": {},
     "output_type": "execute_result"
    }
   ],
   "source": [
    "df_copy_20151['upm'] = df_copy_20151['upm'].astype('int64')\n",
    "df_copy_20151.upm.value_counts()"
   ]
  },
  {
   "cell_type": "markdown",
   "metadata": {},
   "source": [
    "## Distribución semanal(D_SEM)¶\n",
    "Primer dígito 1-500"
   ]
  },
  {
   "cell_type": "code",
   "execution_count": 20,
   "metadata": {
    "scrolled": true
   },
   "outputs": [
    {
     "data": {
      "text/plain": [
       "102    35332\n",
       "203    35330\n",
       "402    35250\n",
       "503    35186\n",
       "103    35070\n",
       "403    34739\n",
       "202    34637\n",
       "501    34599\n",
       "303    34596\n",
       "101    34587\n",
       "201    34577\n",
       "301    34552\n",
       "302    34459\n",
       "401    33833\n",
       "502    33815\n",
       "411    11000\n",
       "110    10967\n",
       "408    10920\n",
       "304    10897\n",
       "510    10843\n",
       "211    10839\n",
       "310    10807\n",
       "206    10800\n",
       "212    10789\n",
       "509    10783\n",
       "406    10772\n",
       "507    10767\n",
       "105    10756\n",
       "504    10753\n",
       "111    10726\n",
       "       ...  \n",
       "311    10647\n",
       "413    10639\n",
       "109    10638\n",
       "104    10635\n",
       "511    10612\n",
       "208    10608\n",
       "305    10605\n",
       "412    10589\n",
       "112    10574\n",
       "405    10534\n",
       "309    10500\n",
       "505    10500\n",
       "107    10456\n",
       "308    10435\n",
       "404    10384\n",
       "306    10377\n",
       "106    10374\n",
       "213    10311\n",
       "108    10302\n",
       "207    10288\n",
       "513    10261\n",
       "410    10260\n",
       "205    10240\n",
       "313    10226\n",
       "506    10225\n",
       "204    10138\n",
       "113    10116\n",
       "508    10035\n",
       "210    10000\n",
       "99         1\n",
       "Name: d_sem, Length: 66, dtype: int64"
      ]
     },
     "execution_count": 20,
     "metadata": {},
     "output_type": "execute_result"
    }
   ],
   "source": [
    "df_copy_20151['d_sem'] = df_copy_20151['d_sem'].astype('int64')\n",
    "df_copy_20151.d_sem.value_counts()"
   ]
  },
  {
   "cell_type": "markdown",
   "metadata": {},
   "source": [
    "## Número progresivo de la vivienda (N_PRO_VIV)\n",
    "Número progresivo de la vivienda 0001-9999\n",
    "\n",
    "Número progresivo de la vivienda en el listado 0001-9999"
   ]
  },
  {
   "cell_type": "code",
   "execution_count": 21,
   "metadata": {
    "scrolled": true
   },
   "outputs": [
    {
     "data": {
      "text/plain": [
       "21     7986\n",
       "18     7860\n",
       "17     7725\n",
       "65     7710\n",
       "39     7586\n",
       "29     7580\n",
       "31     7573\n",
       "4      7565\n",
       "67     7562\n",
       "59     7554\n",
       "8      7554\n",
       "42     7535\n",
       "43     7526\n",
       "11     7493\n",
       "10     7480\n",
       "14     7472\n",
       "49     7452\n",
       "16     7448\n",
       "34     7419\n",
       "53     7402\n",
       "24     7398\n",
       "38     7396\n",
       "37     7365\n",
       "22     7360\n",
       "46     7334\n",
       "48     7301\n",
       "57     7298\n",
       "80     7298\n",
       "77     7294\n",
       "60     7294\n",
       "       ... \n",
       "595       4\n",
       "464       4\n",
       "555       4\n",
       "529       4\n",
       "552       4\n",
       "714       4\n",
       "456       4\n",
       "445       4\n",
       "688       4\n",
       "707       4\n",
       "441       4\n",
       "534       3\n",
       "474       3\n",
       "644       2\n",
       "842       2\n",
       "536       2\n",
       "592       2\n",
       "487       2\n",
       "518       2\n",
       "520       2\n",
       "519       2\n",
       "482       2\n",
       "460       2\n",
       "690       2\n",
       "521       2\n",
       "556       2\n",
       "637       2\n",
       "573       2\n",
       "512       2\n",
       "569       1\n",
       "Name: n_pro_viv, Length: 559, dtype: int64"
      ]
     },
     "execution_count": 21,
     "metadata": {},
     "output_type": "execute_result"
    }
   ],
   "source": [
    "df_copy_20151['n_pro_viv'] = df_copy_20151['n_pro_viv'].astype('int64')\n",
    "df_copy_20151.n_pro_viv.value_counts()"
   ]
  },
  {
   "cell_type": "markdown",
   "metadata": {},
   "source": [
    "## Vivienda seleccionada (V_SEL)\n",
    "01-99 seleccionada"
   ]
  },
  {
   "cell_type": "code",
   "execution_count": 22,
   "metadata": {},
   "outputs": [
    {
     "data": {
      "text/plain": [
       "1     166521\n",
       "3     165516\n",
       "2     164622\n",
       "4     164308\n",
       "5     163545\n",
       "6      15046\n",
       "9      14993\n",
       "8      14990\n",
       "15     14985\n",
       "12     14902\n",
       "18     14889\n",
       "16     14870\n",
       "14     14830\n",
       "11     14801\n",
       "10     14789\n",
       "13     14781\n",
       "17     14780\n",
       "7      14712\n",
       "19     14221\n",
       "20     14194\n",
       "21      1471\n",
       "22       581\n",
       "23       161\n",
       "24        55\n",
       "25        11\n",
       "99         1\n",
       "Name: v_sel, dtype: int64"
      ]
     },
     "execution_count": 22,
     "metadata": {},
     "output_type": "execute_result"
    }
   ],
   "source": [
    "df_copy_20151['v_sel'] = df_copy_20151['v_sel'].astype('int64')\n",
    "df_copy_20151.v_sel.value_counts()"
   ]
  },
  {
   "cell_type": "markdown",
   "metadata": {},
   "source": [
    "## Número de hogar (n_hog)\n",
    "1 Número de hogar principal dentro de la vivienda\n",
    "2-9 Número de hogar adicional dentro de la vivienda"
   ]
  },
  {
   "cell_type": "code",
   "execution_count": 23,
   "metadata": {
    "scrolled": true
   },
   "outputs": [
    {
     "data": {
      "text/plain": [
       "1     1043924\n",
       "2        4079\n",
       "3         496\n",
       "4          60\n",
       "5          14\n",
       "99          1\n",
       "6           1\n",
       "Name: n_hog, dtype: int64"
      ]
     },
     "execution_count": 23,
     "metadata": {},
     "output_type": "execute_result"
    }
   ],
   "source": [
    "df_copy_20151['n_hog'] = df_copy_20151['n_hog'].astype('int64')\n",
    "df_copy_20151.n_hog.value_counts()"
   ]
  },
  {
   "cell_type": "markdown",
   "metadata": {},
   "source": [
    "## Hogar mudado (h_mud)\n",
    "0-4 Número de veces que el hogar se ha mudado"
   ]
  },
  {
   "cell_type": "code",
   "execution_count": 24,
   "metadata": {},
   "outputs": [
    {
     "data": {
      "text/plain": [
       "0     1017389\n",
       "1       27868\n",
       "2        2969\n",
       "3         325\n",
       "4          23\n",
       "99          1\n",
       "Name: h_mud, dtype: int64"
      ]
     },
     "execution_count": 24,
     "metadata": {},
     "output_type": "execute_result"
    }
   ],
   "source": [
    "df_copy_20151['h_mud'] = df_copy_20151['h_mud'].astype('int64')\n",
    "df_copy_20151.h_mud.value_counts()"
   ]
  },
  {
   "cell_type": "markdown",
   "metadata": {},
   "source": [
    "## Número de entrevista o visita (n_ent)\n",
    "1-5 Número de entrevista o visita realizada a la vivienda"
   ]
  },
  {
   "cell_type": "code",
   "execution_count": 25,
   "metadata": {},
   "outputs": [
    {
     "data": {
      "text/plain": [
       "1     211151\n",
       "2     210535\n",
       "3     209942\n",
       "4     208767\n",
       "5     208179\n",
       "99         1\n",
       "Name: n_ent, dtype: int64"
      ]
     },
     "execution_count": 25,
     "metadata": {},
     "output_type": "execute_result"
    }
   ],
   "source": [
    "df_copy_20151['n_ent'] = df_copy_20151['n_ent'].astype('int64')\n",
    "df_copy_20151.n_ent.value_counts()"
   ]
  },
  {
   "cell_type": "markdown",
   "metadata": {},
   "source": [
    "## Periodo (per)\n",
    "Primer dígito, 1-4\n",
    "Primer dígito Trimestre de año 1 Enero-Marzo 2 Abril-Junio 3 Julio-Septiembre 4 Octubre-Diciembre\n",
    "\n",
    "Segundo y tercer dígito 05-99 Año en curso"
   ]
  },
  {
   "cell_type": "code",
   "execution_count": 26,
   "metadata": {},
   "outputs": [
    {
     "data": {
      "text/plain": [
       "217    312033\n",
       "317    307117\n",
       "117    306380\n",
       "417    123044\n",
       "99          1\n",
       "Name: per, dtype: int64"
      ]
     },
     "execution_count": 26,
     "metadata": {},
     "output_type": "execute_result"
    }
   ],
   "source": [
    "df_copy_20151['per'] = df_copy_20151['per'].astype('int64')\n",
    "df_copy_20151.per.value_counts()"
   ]
  },
  {
   "cell_type": "markdown",
   "metadata": {},
   "source": [
    "## Número de renglón (n_ren)\n",
    "01-30 Número de renglón del integrante del hogar"
   ]
  },
  {
   "cell_type": "code",
   "execution_count": 27,
   "metadata": {
    "scrolled": true
   },
   "outputs": [
    {
     "data": {
      "text/plain": [
       "1     358703\n",
       "2     315038\n",
       "3     182574\n",
       "4     105755\n",
       "5      47628\n",
       "6      20399\n",
       "7       9166\n",
       "8       4535\n",
       "9       2209\n",
       "10      1168\n",
       "11       608\n",
       "12       359\n",
       "13       189\n",
       "14       108\n",
       "15        54\n",
       "16        29\n",
       "17        24\n",
       "18        19\n",
       "19         6\n",
       "20         3\n",
       "99         1\n",
       "Name: n_ren, dtype: int64"
      ]
     },
     "execution_count": 27,
     "metadata": {},
     "output_type": "execute_result"
    }
   ],
   "source": [
    "df_copy_20151['n_ren'] = df_copy_20151['n_ren'].astype('int64')\n",
    "df_copy_20151.n_ren.value_counts()"
   ]
  },
  {
   "cell_type": "markdown",
   "metadata": {},
   "source": [
    "## Edad (eda)\n",
    "00 Menores de 1 año 01-96 Número de años cumplidos del integrante del hogar 97 97 años y más 98 Edad no especificada para mayores (12 años y más) 99 Edad no especificada para menores (00 a 11 años)"
   ]
  },
  {
   "cell_type": "code",
   "execution_count": 28,
   "metadata": {
    "scrolled": true
   },
   "outputs": [
    {
     "data": {
      "text/plain": [
       "16    24536\n",
       "18    24533\n",
       "15    24422\n",
       "17    24347\n",
       "13    23548\n",
       "12    23517\n",
       "14    23439\n",
       "22    22955\n",
       "19    22787\n",
       "23    22457\n",
       "20    22405\n",
       "21    22082\n",
       "24    21876\n",
       "25    21292\n",
       "26    21086\n",
       "27    19924\n",
       "40    19556\n",
       "30    19542\n",
       "28    19445\n",
       "43    19386\n",
       "31    18706\n",
       "36    18553\n",
       "33    18456\n",
       "29    18310\n",
       "42    18235\n",
       "38    18124\n",
       "39    18111\n",
       "41    18104\n",
       "35    17949\n",
       "34    17859\n",
       "      ...  \n",
       "70     6108\n",
       "71     5510\n",
       "72     5045\n",
       "73     4907\n",
       "74     4578\n",
       "75     4360\n",
       "76     4133\n",
       "77     3761\n",
       "78     3293\n",
       "80     3065\n",
       "79     2793\n",
       "81     2690\n",
       "83     2171\n",
       "82     2105\n",
       "84     1938\n",
       "85     1746\n",
       "86     1599\n",
       "87     1403\n",
       "88     1042\n",
       "89      874\n",
       "90      732\n",
       "98      640\n",
       "91      569\n",
       "97      548\n",
       "92      455\n",
       "93      385\n",
       "94      353\n",
       "95      291\n",
       "96      233\n",
       "99        1\n",
       "Name: eda, Length: 88, dtype: int64"
      ]
     },
     "execution_count": 28,
     "metadata": {},
     "output_type": "execute_result"
    }
   ],
   "source": [
    "df_copy_20151['eda'] = df_copy_20151['eda'].astype('int64')\n",
    "df_copy_20151.eda.value_counts()"
   ]
  },
  {
   "cell_type": "markdown",
   "metadata": {},
   "source": [
    "## Renglón del Informante (n_inf)\n",
    "01-30, 97, 99 Número de renglón del informante"
   ]
  },
  {
   "cell_type": "code",
   "execution_count": 29,
   "metadata": {
    "scrolled": true
   },
   "outputs": [
    {
     "data": {
      "text/plain": [
       "2     457317\n",
       "1     392238\n",
       "3     101123\n",
       "4      51509\n",
       "5      23778\n",
       "6      10966\n",
       "7       5388\n",
       "8       2706\n",
       "9       1322\n",
       "10       600\n",
       "99       498\n",
       "11       402\n",
       "97       246\n",
       "12       203\n",
       "13       112\n",
       "14        57\n",
       "15        44\n",
       "16        37\n",
       "17        19\n",
       "18         9\n",
       "19         1\n",
       "Name: n_inf, dtype: int64"
      ]
     },
     "execution_count": 29,
     "metadata": {},
     "output_type": "execute_result"
    }
   ],
   "source": [
    "df_copy_20151['n_inf'] = df_copy_20151['n_inf'].astype('int64')\n",
    "df_copy_20151.n_inf.value_counts()"
   ]
  },
  {
   "cell_type": "markdown",
   "metadata": {},
   "source": [
    "## Pregunta 1: Ahora le voy a preguntar por la situación laboral de …¿La semana pasada trabajó por lo menos una hora? (P1)\n",
    "1 Sí 2 No"
   ]
  },
  {
   "cell_type": "code",
   "execution_count": 30,
   "metadata": {},
   "outputs": [
    {
     "data": {
      "text/plain": [
       "1     549953\n",
       "2     498621\n",
       "99         1\n",
       "Name: p1, dtype: int64"
      ]
     },
     "execution_count": 30,
     "metadata": {},
     "output_type": "execute_result"
    }
   ],
   "source": [
    "df_copy_20151['p1'] = df_copy_20151['p1'].astype('int64')\n",
    "df_copy_20151.p1.value_counts()"
   ]
  },
  {
   "cell_type": "markdown",
   "metadata": {},
   "source": [
    "## Opción 1: realizó una actividad que le proporcionó ingresos? (P1A1)\n",
    "1 Sí realizó una actividad que le proporcionó ingresos? \n",
    "9 No aplica"
   ]
  },
  {
   "cell_type": "code",
   "execution_count": 31,
   "metadata": {},
   "outputs": [],
   "source": [
    " df_copy_20151['p1a1'].replace(to_replace=[' ', '99'],value='99',inplace=True)"
   ]
  },
  {
   "cell_type": "code",
   "execution_count": 32,
   "metadata": {},
   "outputs": [
    {
     "data": {
      "text/plain": [
       "99    1044068\n",
       "1        4507\n",
       "Name: p1a1, dtype: int64"
      ]
     },
     "execution_count": 32,
     "metadata": {},
     "output_type": "execute_result"
    }
   ],
   "source": [
    "df_copy_20151['p1a1'] = df_copy_20151['p1a1'].astype('int64')\n",
    "df_copy_20151.p1a1.value_counts()"
   ]
  },
  {
   "cell_type": "markdown",
   "metadata": {},
   "source": [
    "## Opción 2: ayudar en las tierras o en el negocio de un familiar o de otra persona? (p1a2)\n",
    "\n",
    "2 Sí ayudó en las tierras o en el negocio de un familiar o de otra persona?\n",
    "99  No aplica"
   ]
  },
  {
   "cell_type": "code",
   "execution_count": 33,
   "metadata": {},
   "outputs": [],
   "source": [
    "df_copy_20151['p1a2'].replace(to_replace=[' ', '99'],value='99',inplace=True)"
   ]
  },
  {
   "cell_type": "code",
   "execution_count": 34,
   "metadata": {},
   "outputs": [
    {
     "data": {
      "text/plain": [
       "99    1043973\n",
       "2        4602\n",
       "Name: p1a2, dtype: int64"
      ]
     },
     "execution_count": 34,
     "metadata": {},
     "output_type": "execute_result"
    }
   ],
   "source": [
    "df_copy_20151['p1a2'] = df_copy_20151['p1a2'].astype('int64')\n",
    "df_copy_20151.p1a2.value_counts()"
   ]
  },
  {
   "cell_type": "markdown",
   "metadata": {},
   "source": [
    "## Opción 3: no trabajó la semana pasada (p1a3)\n",
    "3 No trabajó la semana pasada  \n",
    "99 No aplica"
   ]
  },
  {
   "cell_type": "code",
   "execution_count": 35,
   "metadata": {},
   "outputs": [],
   "source": [
    "df_copy_20151['p1a3'].replace(to_replace=[' ', '99'],value='99',inplace=True)"
   ]
  },
  {
   "cell_type": "code",
   "execution_count": 36,
   "metadata": {},
   "outputs": [
    {
     "data": {
      "text/plain": [
       "99    559057\n",
       "3     489518\n",
       "Name: p1a3, dtype: int64"
      ]
     },
     "execution_count": 36,
     "metadata": {},
     "output_type": "execute_result"
    }
   ],
   "source": [
    "df_copy_20151['p1a3'] = df_copy_20151['p1a3'].astype('int64')\n",
    "df_copy_20151.p1a3.value_counts()"
   ]
  },
  {
   "cell_type": "markdown",
   "metadata": {},
   "source": [
    "##  Pregunta 1b: Aunque ya me dijo que ... no trabajó la semana pasada, ¿tiene algún empleo negocio o realiza alguna actividad por  su cuenta? (p1b)\n",
    " 1 Si\n",
    " 2 No \n",
    " 99 No se sabe "
   ]
  },
  {
   "cell_type": "code",
   "execution_count": 37,
   "metadata": {},
   "outputs": [],
   "source": [
    "df_copy_20151['p1b'].replace(to_replace=[' ', '99'],value='99',inplace=True)"
   ]
  },
  {
   "cell_type": "code",
   "execution_count": 38,
   "metadata": {},
   "outputs": [
    {
     "data": {
      "text/plain": [
       "99    559057\n",
       "2     458478\n",
       "1      31040\n",
       "Name: p1b, dtype: int64"
      ]
     },
     "execution_count": 38,
     "metadata": {},
     "output_type": "execute_result"
    }
   ],
   "source": [
    "df_copy_20151['p1b'] = df_copy_20151['p1b'].astype('int64')\n",
    "df_copy_20151.p1b.value_counts()"
   ]
  },
  {
   "cell_type": "markdown",
   "metadata": {},
   "source": [
    "## Pregunta 1c: ¿Cuál Carácter es la razón principal por la que ... no trabajó la semana pasada? (p1c)\n",
    "01 Huelga o paro laboral 02 Paro técnico 03 Suspensión temporal de sus funciones (asalariado) 04 Asistencia a cursos de capacitación 05 Vacaciones 06 Permiso, enfermedad o arreglo de asuntos personales 07 Falta de vehículo o descompostura de maquinaria 08 Falta de materias primas,financiamiento o clientes 09 Mal tiempo o fenómeno natural 10 Término de temporada de trabajo o cultivo 11 Comenzará un trabajo o negocio nuevo 12 Otra razón 99 No sabe"
   ]
  },
  {
   "cell_type": "code",
   "execution_count": 39,
   "metadata": {},
   "outputs": [
    {
     "data": {
      "text/plain": [
       "99    1017586\n",
       "5        8769\n",
       "6        8671\n",
       "8        8006\n",
       "10       2260\n",
       "12       1209\n",
       "9         916\n",
       "11        466\n",
       "7         365\n",
       "3         199\n",
       "4          65\n",
       "2          40\n",
       "1          23\n",
       "Name: p1c, dtype: int64"
      ]
     },
     "execution_count": 39,
     "metadata": {},
     "output_type": "execute_result"
    }
   ],
   "source": [
    "df_copy_20151['p1c'] = df_copy_20151['p1c'].astype('int64')\n",
    "df_copy_20151.p1c.value_counts()"
   ]
  },
  {
   "cell_type": "markdown",
   "metadata": {},
   "source": [
    "## Pregunta 1d: Durante esre periodo de ausencia ¿... recibe sueldo o ganancias? (p1d)\n",
    "\n",
    "1 Sí\n",
    "2 No\n",
    "99 No sabe"
   ]
  },
  {
   "cell_type": "code",
   "execution_count": 40,
   "metadata": {},
   "outputs": [],
   "source": [
    "df_copy_20151['p1d'].replace(to_replace=[' ', '99'],value='99',inplace=True)"
   ]
  },
  {
   "cell_type": "code",
   "execution_count": 41,
   "metadata": {},
   "outputs": [
    {
     "data": {
      "text/plain": [
       "99    1018328\n",
       "2       20634\n",
       "1        9488\n",
       "9         125\n",
       "Name: p1d, dtype: int64"
      ]
     },
     "execution_count": 41,
     "metadata": {},
     "output_type": "execute_result"
    }
   ],
   "source": [
    "df_copy_20151['p1d'] = df_copy_20151['p1d'].astype('int64')\n",
    "df_copy_20151.p1d.value_counts()"
   ]
  },
  {
   "cell_type": "code",
   "execution_count": 42,
   "metadata": {},
   "outputs": [],
   "source": [
    "df_copy_20151['p1d'].replace(to_replace=['9', '99'],value='99',inplace=True)"
   ]
  },
  {
   "cell_type": "markdown",
   "metadata": {},
   "source": [
    "## Pregunta 1e: ¿En ¿cuánto tiempo regresará... a este semana ? mismi trabajo?(p1e)\n",
    "\n",
    "1 Ya se reincorporó o regresara a trabajar esta \n",
    "2 En cuantro semanas o menos\n",
    "3 En más de cuatro  semanas\n",
    "4 No hay seguridad de que regrese a trabajar  o cuándo reinicie su actividad?\n",
    "5 No regresará\n",
    "99 No sabe\n"
   ]
  },
  {
   "cell_type": "code",
   "execution_count": 43,
   "metadata": {},
   "outputs": [],
   "source": [
    "df_copy_20151['p1e'].replace(to_replace=[' ', '99'],value='99',inplace=True)"
   ]
  },
  {
   "cell_type": "code",
   "execution_count": 44,
   "metadata": {},
   "outputs": [
    {
     "data": {
      "text/plain": [
       "99    1027816\n",
       "2       10040\n",
       "1        5153\n",
       "3        2516\n",
       "4        2401\n",
       "9         630\n",
       "5          19\n",
       "Name: p1e, dtype: int64"
      ]
     },
     "execution_count": 44,
     "metadata": {},
     "output_type": "execute_result"
    }
   ],
   "source": [
    "df_copy_20151['p1e'] = df_copy_20151['p1e'].astype('int64')\n",
    "df_copy_20151.p1e.value_counts()"
   ]
  },
  {
   "cell_type": "code",
   "execution_count": 45,
   "metadata": {},
   "outputs": [],
   "source": [
    "df_copy_20151['p1e'].replace(to_replace=['9', '99'],value='99',inplace=True)"
   ]
  },
  {
   "cell_type": "markdown",
   "metadata": {},
   "source": [
    "## Opción 1: buscar trabajo en otro país o hacer preparativos para cruzar la frontera ? (p2_1)\n",
    "\n",
    "1 Sí buscó trabajo aquí en el país \n",
    "99 No sabe"
   ]
  },
  {
   "cell_type": "code",
   "execution_count": 46,
   "metadata": {},
   "outputs": [],
   "source": [
    "df_copy_20151['p2_1'].replace(to_replace=[' ', '99'],value='99',inplace=True)"
   ]
  },
  {
   "cell_type": "code",
   "execution_count": 47,
   "metadata": {},
   "outputs": [
    {
     "data": {
      "text/plain": [
       "99    1048286\n",
       "1         289\n",
       "Name: p2_1, dtype: int64"
      ]
     },
     "execution_count": 47,
     "metadata": {},
     "output_type": "execute_result"
    }
   ],
   "source": [
    "df_copy_20151['p2_1'] = df_copy_20151['p2_1'].astype('int64')\n",
    "df_copy_20151.p2_1.value_counts()"
   ]
  },
  {
   "cell_type": "markdown",
   "metadata": {},
   "source": [
    "## Opción 2: buscar trabajo aquí en el país (p2_2)\n",
    "\n",
    "2 Buscó trabajo aquí en el país\n",
    "99 No sabe"
   ]
  },
  {
   "cell_type": "code",
   "execution_count": 48,
   "metadata": {},
   "outputs": [],
   "source": [
    "df_copy_20151['p2_2'].replace(to_replace=[' ', '99'],value='99',inplace=True)"
   ]
  },
  {
   "cell_type": "code",
   "execution_count": 49,
   "metadata": {
    "scrolled": true
   },
   "outputs": [
    {
     "data": {
      "text/plain": [
       "99    1025791\n",
       "2       22784\n",
       "Name: p2_2, dtype: int64"
      ]
     },
     "execution_count": 49,
     "metadata": {},
     "output_type": "execute_result"
    }
   ],
   "source": [
    "df_copy_20151['p2_2'] = df_copy_20151['p2_2'].astype('int64')\n",
    "df_copy_20151.p2_2.value_counts()"
   ]
  },
  {
   "cell_type": "markdown",
   "metadata": {},
   "source": [
    "## Opción 3: poner un negocio o realizar una actividad por su cuenta sin poder todavía comenzar? (p2_3)\n",
    "\n",
    "3 Sí trato de poner un negocio o realizo una activida por su cuenta sin poder todavía comenzar?\n",
    "99 No sabe"
   ]
  },
  {
   "cell_type": "code",
   "execution_count": 50,
   "metadata": {},
   "outputs": [],
   "source": [
    "df_copy_20151['p2_3'].replace(to_replace=[' ', '99'],value='99',inplace=True)"
   ]
  },
  {
   "cell_type": "code",
   "execution_count": 51,
   "metadata": {},
   "outputs": [
    {
     "data": {
      "text/plain": [
       "99    1048235\n",
       "3         340\n",
       "Name: p2_3, dtype: int64"
      ]
     },
     "execution_count": 51,
     "metadata": {},
     "output_type": "execute_result"
    }
   ],
   "source": [
    "df_copy_20151['p2_3'] = df_copy_20151['p2_3'].astype('int64')\n",
    "df_copy_20151.p2_3.value_counts()"
   ]
  },
  {
   "cell_type": "markdown",
   "metadata": {},
   "source": [
    "## Opción 4: ¿no ha tratado de buscar tranajo ?(p2_4)\n",
    "4 Entonces, ¿no ha tratado de buscar trabajo? 99 No aplica"
   ]
  },
  {
   "cell_type": "code",
   "execution_count": 52,
   "metadata": {},
   "outputs": [],
   "source": [
    "df_copy_20151['p2_4'].replace(to_replace=[' ', '99'],value='99',inplace=True)"
   ]
  },
  {
   "cell_type": "code",
   "execution_count": 53,
   "metadata": {},
   "outputs": [
    {
     "data": {
      "text/plain": [
       "99    597411\n",
       "4     451164\n",
       "Name: p2_4, dtype: int64"
      ]
     },
     "execution_count": 53,
     "metadata": {},
     "output_type": "execute_result"
    }
   ],
   "source": [
    "df_copy_20151['p2_4'] = df_copy_20151['p2_4'].astype('int64')\n",
    "df_copy_20151.p2_4.value_counts()"
   ]
  },
  {
   "cell_type": "markdown",
   "metadata": {},
   "source": [
    "## Opción 9: No sabe (p2_9)\n",
    "9 No sabe 99 aplica"
   ]
  },
  {
   "cell_type": "code",
   "execution_count": 54,
   "metadata": {},
   "outputs": [],
   "source": [
    "df_copy_20151['p2_9'].replace(to_replace=[' ', '99'],value='99',inplace=True)"
   ]
  },
  {
   "cell_type": "code",
   "execution_count": 55,
   "metadata": {
    "scrolled": true
   },
   "outputs": [
    {
     "data": {
      "text/plain": [
       "99    1048539\n",
       "9          36\n",
       "Name: p2_9, dtype: int64"
      ]
     },
     "execution_count": 55,
     "metadata": {},
     "output_type": "execute_result"
    }
   ],
   "source": [
    "df_copy_20151['p2_9'] = df_copy_20151['p2_9'].astype('int64')\n",
    "df_copy_20151.p2_9.value_counts()"
   ]
  },
  {
   "cell_type": "markdown",
   "metadata": {},
   "source": [
    "# Pregunta 2A: ¿En qué fecha comenzó … a buscar trabajo (o comenzó con los preparativos para poner el negocio)?"
   ]
  },
  {
   "cell_type": "markdown",
   "metadata": {},
   "source": [
    "## Día en que comenzó (p2a_dia) \n",
    "1 -31 Día en qué comenzó \n",
    "9 No se sabe\n"
   ]
  },
  {
   "cell_type": "code",
   "execution_count": 56,
   "metadata": {},
   "outputs": [],
   "source": [
    "df_copy_20151['p2a_dia'].replace(to_replace=['0', '99'],value='99',inplace=True)"
   ]
  },
  {
   "cell_type": "code",
   "execution_count": 57,
   "metadata": {},
   "outputs": [
    {
     "data": {
      "text/plain": [
       "99    1017586\n",
       "5        8769\n",
       "6        8671\n",
       "8        8006\n",
       "10       2260\n",
       "12       1209\n",
       "9         916\n",
       "11        466\n",
       "7         365\n",
       "3         199\n",
       "4          65\n",
       "2          40\n",
       "1          23\n",
       "Name: p1c, dtype: int64"
      ]
     },
     "execution_count": 57,
     "metadata": {},
     "output_type": "execute_result"
    }
   ],
   "source": [
    "df_copy_20151['p2a_dia'] = df_copy_20151['p2a_dia'].astype('int64')\n",
    "df_copy_20151.p1c.value_counts()"
   ]
  },
  {
   "cell_type": "markdown",
   "metadata": {},
   "source": [
    "## Sema en que comenzó (p2a_sem)\n",
    "1-4 Semana qué comenzo 99 No sabe"
   ]
  },
  {
   "cell_type": "code",
   "execution_count": 58,
   "metadata": {},
   "outputs": [],
   "source": [
    "df_copy_20151['p2a_sem'].replace(to_replace=[' ', '99'],value='99',inplace=True)"
   ]
  },
  {
   "cell_type": "code",
   "execution_count": 59,
   "metadata": {},
   "outputs": [
    {
     "data": {
      "text/plain": [
       "99    1038781\n",
       "1        4050\n",
       "2        2152\n",
       "4        1365\n",
       "9        1268\n",
       "3         959\n",
       "Name: p2a_sem, dtype: int64"
      ]
     },
     "execution_count": 59,
     "metadata": {},
     "output_type": "execute_result"
    }
   ],
   "source": [
    "df_copy_20151['p2a_sem'] = df_copy_20151['p2a_sem'].astype('int64')\n",
    "df_copy_20151.p2a_sem.value_counts()"
   ]
  },
  {
   "cell_type": "markdown",
   "metadata": {},
   "source": [
    "## Mes en que comenzó (p2a_mes) \n",
    "1 Comenzó en enero\n",
    "2 Comenzó en febrero\n",
    "03 Comenzó en marzo\n",
    "04 Comenzó en abril\n",
    "05 Comenzó en mayo\n",
    "06 Comenzó en junio\n",
    "07 Comenzó en julio\n",
    "08 Comenzó en agosto\n",
    "09 Comenzó en septiembre\n",
    "10 Comenzó en octubre\n",
    "11 Comenzó en noviembre\n",
    "12 Comenzó en diciembre\n",
    "99 No sabe"
   ]
  },
  {
   "cell_type": "code",
   "execution_count": 60,
   "metadata": {},
   "outputs": [],
   "source": [
    "df_copy_20151['p2a_mes'].replace(to_replace=['0', '99'],value='99',inplace=True)"
   ]
  },
  {
   "cell_type": "code",
   "execution_count": 61,
   "metadata": {},
   "outputs": [
    {
     "data": {
      "text/plain": [
       "99    1025296\n",
       "1        3438\n",
       "6        2261\n",
       "5        2241\n",
       "7        2153\n",
       "8        2100\n",
       "3        2046\n",
       "4        2009\n",
       "2        2009\n",
       "9        1450\n",
       "12       1323\n",
       "11       1188\n",
       "10       1061\n",
       "Name: p2a_mes, dtype: int64"
      ]
     },
     "execution_count": 61,
     "metadata": {},
     "output_type": "execute_result"
    }
   ],
   "source": [
    "df_copy_20151['p2a_mes'] = df_copy_20151['p2a_mes'].astype('int64')\n",
    "df_copy_20151.p2a_mes.value_counts()"
   ]
  },
  {
   "cell_type": "markdown",
   "metadata": {},
   "source": [
    "## Año en que comenzó (p2a_anio)\n",
    "1950- año actual 9999 No sabe"
   ]
  },
  {
   "cell_type": "code",
   "execution_count": 62,
   "metadata": {},
   "outputs": [],
   "source": [
    "df_copy_20151['p2a_anio'].replace(to_replace=['0', '99'],value='99',inplace=True)"
   ]
  },
  {
   "cell_type": "code",
   "execution_count": 63,
   "metadata": {},
   "outputs": [
    {
     "data": {
      "text/plain": [
       "99      1025225\n",
       "2017      20049\n",
       "2016       3016\n",
       "2015        134\n",
       "2014         46\n",
       "2012         31\n",
       "2013         17\n",
       "2011         16\n",
       "2007         13\n",
       "2010          9\n",
       "2009          8\n",
       "2001          3\n",
       "9999          3\n",
       "2006          1\n",
       "2004          1\n",
       "2003          1\n",
       "2000          1\n",
       "2008          1\n",
       "Name: p2a_anio, dtype: int64"
      ]
     },
     "execution_count": 63,
     "metadata": {},
     "output_type": "execute_result"
    }
   ],
   "source": [
    "df_copy_20151['p2a_anio'] = df_copy_20151['p2a_anio'].astype('int64')\n",
    "df_copy_20151.p2a_anio.value_counts()"
   ]
  },
  {
   "cell_type": "markdown",
   "metadata": {},
   "source": [
    "# Pregunta 2B: ¿En qué fecha fue la última vez que … buscó trabajo (o terminó con los preparativos para poner el negocio)?"
   ]
  },
  {
   "cell_type": "markdown",
   "metadata": {},
   "source": [
    "# Día en que terminó (p2b_dia)\n",
    "1-31 Día en que terminoo 99 No sabe"
   ]
  },
  {
   "cell_type": "code",
   "execution_count": 64,
   "metadata": {
    "scrolled": true
   },
   "outputs": [
    {
     "data": {
      "text/plain": [
       "99    1029997\n",
       "10        985\n",
       "15        949\n",
       "20        940\n",
       "3         708\n",
       "6         663\n",
       "28        640\n",
       "17        630\n",
       "7         626\n",
       "30        623\n",
       "8         619\n",
       "5         611\n",
       "24        608\n",
       "1         599\n",
       "13        590\n",
       "4         587\n",
       "16        583\n",
       "2         582\n",
       "9         565\n",
       "18        562\n",
       "22        552\n",
       "21        538\n",
       "12        537\n",
       "27        537\n",
       "25        536\n",
       "14        530\n",
       "26        508\n",
       "11        487\n",
       "23        477\n",
       "19        438\n",
       "29        413\n",
       "31        355\n",
       "Name: p2b_dia, dtype: int64"
      ]
     },
     "execution_count": 64,
     "metadata": {},
     "output_type": "execute_result"
    }
   ],
   "source": [
    "df_copy_20151['p2b_dia'] = df_copy_20151['p2b_dia'].astype('int64')\n",
    "df_copy_20151.p2b_dia.value_counts()"
   ]
  },
  {
   "cell_type": "markdown",
   "metadata": {},
   "source": [
    "## Semana en que terminó (p2b_sem)\n",
    "1-4 Semana en que termino 99 nose sabe"
   ]
  },
  {
   "cell_type": "code",
   "execution_count": 65,
   "metadata": {},
   "outputs": [],
   "source": [
    "df_copy_20151['p2b_sem'].replace(to_replace=[' ', '99'],value='99',inplace=True)"
   ]
  },
  {
   "cell_type": "code",
   "execution_count": 66,
   "metadata": {},
   "outputs": [
    {
     "data": {
      "text/plain": [
       "99    1043803\n",
       "1        1461\n",
       "4        1161\n",
       "2        1040\n",
       "3         675\n",
       "9         435\n",
       "Name: p2b_sem, dtype: int64"
      ]
     },
     "execution_count": 66,
     "metadata": {},
     "output_type": "execute_result"
    }
   ],
   "source": [
    "df_copy_20151['p2b_sem'] = df_copy_20151['p2b_sem'].astype('int64')\n",
    "df_copy_20151.p2b_sem.value_counts()"
   ]
  },
  {
   "cell_type": "markdown",
   "metadata": {},
   "source": [
    "##  Mes en que terminó(p2b_mes)  \n",
    "01 Terminó en enero\n",
    "02 Terminó en febrero\n",
    "03 Terminó en marzo\n",
    "04 Terminó en abril\n",
    "05 Terminó en mayo\n",
    "06 Terminó en junio\n",
    "07 Terminó en julio\n",
    "08 Terminó en agosto\n",
    "09 Terminó en septiembre\n",
    "10 Terminó en octubre\n",
    "11 Terminó en noviembre\n",
    "12 Terminó en diciembre\n",
    "99 No sabe"
   ]
  },
  {
   "cell_type": "code",
   "execution_count": 67,
   "metadata": {},
   "outputs": [
    {
     "data": {
      "text/plain": [
       "99    1025239\n",
       "5        2417\n",
       "1        2395\n",
       "8        2351\n",
       "6        2293\n",
       "7        2270\n",
       "3        2228\n",
       "4        2081\n",
       "2        2077\n",
       "9        2033\n",
       "10       1077\n",
       "12       1071\n",
       "11       1043\n",
       "Name: p2b_mes, dtype: int64"
      ]
     },
     "execution_count": 67,
     "metadata": {},
     "output_type": "execute_result"
    }
   ],
   "source": [
    "df_copy_20151['p2b_mes'] = df_copy_20151['p2b_mes'].astype('int64')\n",
    "df_copy_20151.p2b_mes.value_counts()"
   ]
  },
  {
   "cell_type": "markdown",
   "metadata": {},
   "source": [
    "## Año en que terminó (p2b_anio)\n",
    "\n",
    "1950-año actual Año en que terminó\n",
    "9999 No sabe"
   ]
  },
  {
   "cell_type": "code",
   "execution_count": 68,
   "metadata": {},
   "outputs": [],
   "source": [
    "df_copy_20151['p2b_anio'].replace(to_replace=['0', '99'],value='99',inplace=True)"
   ]
  },
  {
   "cell_type": "code",
   "execution_count": 69,
   "metadata": {},
   "outputs": [
    {
     "data": {
      "text/plain": [
       "99      1025225\n",
       "2017      22662\n",
       "2016        669\n",
       "2015         12\n",
       "9999          4\n",
       "2018          2\n",
       "2011          1\n",
       "Name: p2b_anio, dtype: int64"
      ]
     },
     "execution_count": 69,
     "metadata": {},
     "output_type": "execute_result"
    }
   ],
   "source": [
    "df_copy_20151['p2b_anio'] = df_copy_20151['p2b_anio'].astype('int64')\n",
    "df_copy_20151.p2b_anio.value_counts()"
   ]
  },
  {
   "cell_type": "markdown",
   "metadata": {},
   "source": [
    "## ¿En qué fecha fue la última vez que... buscó trabajo (o terminó conlos preparativos para poner el negocio)? (p2b)\n",
    " \n",
    "1 Hasta 1 mes\n",
    "2 Más de  1 hasta 2 meses\n",
    "3 Mas de 2 has 3 meses\n",
    "4 Más de 3 meses\n",
    "99 No sabe"
   ]
  },
  {
   "cell_type": "code",
   "execution_count": 70,
   "metadata": {},
   "outputs": [],
   "source": [
    "df_copy_20151['p2b'].replace(to_replace=[' ', '99'],value='99',inplace=True)"
   ]
  },
  {
   "cell_type": "code",
   "execution_count": 71,
   "metadata": {},
   "outputs": [
    {
     "data": {
      "text/plain": [
       "99    1025225\n",
       "1       21820\n",
       "2         933\n",
       "4         300\n",
       "3         285\n",
       "9          12\n",
       "Name: p2b, dtype: int64"
      ]
     },
     "execution_count": 71,
     "metadata": {},
     "output_type": "execute_result"
    }
   ],
   "source": [
    "df_copy_20151['p2b'] = df_copy_20151['p2b'].astype('int64')\n",
    "df_copy_20151.p2b.value_counts()"
   ]
  },
  {
   "cell_type": "markdown",
   "metadata": {},
   "source": [
    "##  ¿... estaba dispuesto a trabajar la semana pasada?(p2c)\n",
    "1 Si\n",
    "2 No\n",
    "99 No sabe"
   ]
  },
  {
   "cell_type": "code",
   "execution_count": 72,
   "metadata": {},
   "outputs": [],
   "source": [
    "df_copy_20151['p2c'].replace(to_replace=[' ', '99'],value='99',inplace=True)"
   ]
  },
  {
   "cell_type": "code",
   "execution_count": 73,
   "metadata": {},
   "outputs": [],
   "source": [
    "df_copy_20151['p2c'].replace(to_replace=['9', '99'],value='99',inplace=True)"
   ]
  },
  {
   "cell_type": "code",
   "execution_count": 74,
   "metadata": {},
   "outputs": [
    {
     "data": {
      "text/plain": [
       "99    1025554\n",
       "1       22754\n",
       "2         267\n",
       "Name: p2c, dtype: int64"
      ]
     },
     "execution_count": 74,
     "metadata": {},
     "output_type": "execute_result"
    }
   ],
   "source": [
    "df_copy_20151['p2c'] = df_copy_20151['p2c'].astype('int64')\n",
    "df_copy_20151.p2c.value_counts()"
   ]
  },
  {
   "cell_type": "markdown",
   "metadata": {},
   "source": [
    "# Pregunta 2D: ¿Adónde acudió o que hizo…para buscar empleo (o iniciar un negocio o actividad por su cuenta)?"
   ]
  },
  {
   "cell_type": "markdown",
   "metadata": {},
   "source": [
    "## Opción 1: acudió directamente al lugar de trabajo (p2d1)\n",
    "1 Si acudió directamente al lugar de trabajo\n",
    "99 No sabe "
   ]
  },
  {
   "cell_type": "code",
   "execution_count": 75,
   "metadata": {},
   "outputs": [],
   "source": [
    "df_copy_20151['p2d1'].replace(to_replace=['0', '99'],value='99',inplace=True)"
   ]
  },
  {
   "cell_type": "code",
   "execution_count": 76,
   "metadata": {},
   "outputs": [
    {
     "data": {
      "text/plain": [
       "99    1032035\n",
       "1       16540\n",
       "Name: p2d1, dtype: int64"
      ]
     },
     "execution_count": 76,
     "metadata": {},
     "output_type": "execute_result"
    }
   ],
   "source": [
    "df_copy_20151['p2d1'] = df_copy_20151['p2d1'].astype('int64')\n",
    "df_copy_20151.p2d1.value_counts()"
   ]
  },
  {
   "cell_type": "markdown",
   "metadata": {},
   "source": [
    "## Opción 2: hizo trámites en una agencia o bolsa de trabajo privada (p2d2)\n",
    "2 Si hizo trámites en una agencia o bolsa de trabajo privada\n",
    "99 No sabe"
   ]
  },
  {
   "cell_type": "code",
   "execution_count": 77,
   "metadata": {},
   "outputs": [],
   "source": [
    "df_copy_20151['p2d2'].replace(to_replace=['0', '99'],value='99',inplace=True)"
   ]
  },
  {
   "cell_type": "code",
   "execution_count": 78,
   "metadata": {},
   "outputs": [
    {
     "data": {
      "text/plain": [
       "99    1048323\n",
       "2         252\n",
       "Name: p2d2, dtype: int64"
      ]
     },
     "execution_count": 78,
     "metadata": {},
     "output_type": "execute_result"
    }
   ],
   "source": [
    "df_copy_20151['p2d2'] = df_copy_20151['p2d2'].astype('int64')\n",
    "df_copy_20151.p2d2.value_counts()"
   ]
  },
  {
   "cell_type": "markdown",
   "metadata": {},
   "source": [
    "## Opción 3: hizo trámites en un servicio público de colocación (p2d3)\n",
    "3 Sí hizo trámites en un servicio público de colocación\n",
    "99 No se sabe"
   ]
  },
  {
   "cell_type": "code",
   "execution_count": 79,
   "metadata": {},
   "outputs": [],
   "source": [
    "df_copy_20151['p2d3'].replace(to_replace=['0', '99'],value='99',inplace=True)"
   ]
  },
  {
   "cell_type": "code",
   "execution_count": 80,
   "metadata": {},
   "outputs": [
    {
     "data": {
      "text/plain": [
       "99    1048237\n",
       "3         338\n",
       "Name: p2d3, dtype: int64"
      ]
     },
     "execution_count": 80,
     "metadata": {},
     "output_type": "execute_result"
    }
   ],
   "source": [
    "df_copy_20151['p2d3'] = df_copy_20151['p2d3'].astype('int64')\n",
    "df_copy_20151.p2d3.value_counts()"
   ]
  },
  {
   "cell_type": "markdown",
   "metadata": {},
   "source": [
    "## opción 4: hizo trámirtes en algún programa de empleo temporal del gobierno(p2d4)\n",
    "\n",
    "4 Sí hizo trámites en algún programa de empleo temporal del gobierno\n",
    "99 No se sabe"
   ]
  },
  {
   "cell_type": "code",
   "execution_count": 81,
   "metadata": {},
   "outputs": [],
   "source": [
    "df_copy_20151['p2d4'].replace(to_replace=['0', '99'],value='99',inplace=True)"
   ]
  },
  {
   "cell_type": "code",
   "execution_count": 82,
   "metadata": {},
   "outputs": [
    {
     "data": {
      "text/plain": [
       "99    1048344\n",
       "4         231\n",
       "Name: p2d4, dtype: int64"
      ]
     },
     "execution_count": 82,
     "metadata": {},
     "output_type": "execute_result"
    }
   ],
   "source": [
    "df_copy_20151['p2d4'] = df_copy_20151['p2d4'].astype('int64')\n",
    "df_copy_20151.p2d4.value_counts()"
   ]
  },
  {
   "cell_type": "markdown",
   "metadata": {},
   "source": [
    "## Opción 5: hizo trámites o realizo alguna actividad para iniciar un negocio por su cuenta (p2d5)\n",
    "5 Si hizo trámites o realizó alguna actividad para iniciar un negocio por su cuenta \n",
    "99 No sabe"
   ]
  },
  {
   "cell_type": "code",
   "execution_count": 83,
   "metadata": {},
   "outputs": [],
   "source": [
    "df_copy_20151['p2d5'].replace(to_replace=['0', '99'],value='99',inplace=True)"
   ]
  },
  {
   "cell_type": "code",
   "execution_count": 84,
   "metadata": {},
   "outputs": [
    {
     "data": {
      "text/plain": [
       "99    1048358\n",
       "5         217\n",
       "Name: p2d5, dtype: int64"
      ]
     },
     "execution_count": 84,
     "metadata": {},
     "output_type": "execute_result"
    }
   ],
   "source": [
    "df_copy_20151['p2d5'] = df_copy_20151['p2d5'].astype('int64')\n",
    "df_copy_20151.p2d5.value_counts()\n"
   ]
  },
  {
   "cell_type": "markdown",
   "metadata": {},
   "source": [
    "## Opción 6: puso o contestó un anuncio en internet  (p2d6)\n",
    "\n",
    "6 Si puso o contestó un anuncio en internet \n",
    "99 No sabe"
   ]
  },
  {
   "cell_type": "code",
   "execution_count": 85,
   "metadata": {},
   "outputs": [],
   "source": [
    "df_copy_20151['p2d6'].replace(to_replace=['0', '99'],value='99',inplace=True)"
   ]
  },
  {
   "cell_type": "code",
   "execution_count": 86,
   "metadata": {},
   "outputs": [
    {
     "data": {
      "text/plain": [
       "99    1044506\n",
       "6        4069\n",
       "Name: p2d6, dtype: int64"
      ]
     },
     "execution_count": 86,
     "metadata": {},
     "output_type": "execute_result"
    }
   ],
   "source": [
    "df_copy_20151['p2d6'] = df_copy_20151['p2d6'].astype('int64')\n",
    "df_copy_20151.p2d6.value_counts()"
   ]
  },
  {
   "cell_type": "markdown",
   "metadata": {},
   "source": [
    "## Opción 7: puso o contestó un anuncio en algún lugar público o en medios de comunicación (periodico,radio)  (p2d7)\n",
    "7 Sí puso o contestó un anuncio en algún lugar público o en medios de comunicación (periódo, radio)\n",
    "99 No sabe"
   ]
  },
  {
   "cell_type": "code",
   "execution_count": 87,
   "metadata": {},
   "outputs": [],
   "source": [
    "df_copy_20151['p2d7'].replace(to_replace=['0', '99'],value='99',inplace=True)"
   ]
  },
  {
   "cell_type": "code",
   "execution_count": 88,
   "metadata": {},
   "outputs": [
    {
     "data": {
      "text/plain": [
       "99    1047167\n",
       "7        1408\n",
       "Name: p2d7, dtype: int64"
      ]
     },
     "execution_count": 88,
     "metadata": {},
     "output_type": "execute_result"
    }
   ],
   "source": [
    "df_copy_20151['p2d7'] = df_copy_20151['p2d7'].astype('int64')\n",
    "df_copy_20151.p2d7.value_counts()"
   ]
  },
  {
   "cell_type": "markdown",
   "metadata": {},
   "source": [
    "## Opción 8: acudió a un sindicato o gremio (p2d8)\n",
    "8 Si acudió a un sindicato o gremio \n",
    "99 No sabe"
   ]
  },
  {
   "cell_type": "code",
   "execution_count": 89,
   "metadata": {},
   "outputs": [],
   "source": [
    "df_copy_20151['p2d8'].replace(to_replace=['0', '99'],value='99',inplace=True)"
   ]
  },
  {
   "cell_type": "code",
   "execution_count": 90,
   "metadata": {},
   "outputs": [
    {
     "data": {
      "text/plain": [
       "99    1048468\n",
       "8         107\n",
       "Name: p2d8, dtype: int64"
      ]
     },
     "execution_count": 90,
     "metadata": {},
     "output_type": "execute_result"
    }
   ],
   "source": [
    "df_copy_20151['p2d8'] = df_copy_20151['p2d8'].astype('int64')\n",
    "df_copy_20151.p2d8.value_counts()"
   ]
  },
  {
   "cell_type": "markdown",
   "metadata": {},
   "source": [
    "## Opción 9: pidió a conocidfos que lo recomendaran o le avisaran o le avisaran de algun trabajo (p2d9)\n",
    "\n",
    "9 Sí pidio a conocidos o familiares que lo recomendaran o le avisaran de algún trabajo \n",
    "99 No sabe"
   ]
  },
  {
   "cell_type": "code",
   "execution_count": 91,
   "metadata": {},
   "outputs": [],
   "source": [
    "df_copy_20151['p2d9'].replace(to_replace=['0', '99'],value='99',inplace=True)"
   ]
  },
  {
   "cell_type": "code",
   "execution_count": 92,
   "metadata": {},
   "outputs": [
    {
     "data": {
      "text/plain": [
       "99    1045591\n",
       "9        2984\n",
       "Name: p2d9, dtype: int64"
      ]
     },
     "execution_count": 92,
     "metadata": {},
     "output_type": "execute_result"
    }
   ],
   "source": [
    "df_copy_20151['p2d9'] = df_copy_20151['p2d9'].astype('int64')\n",
    "df_copy_20151.p2d9.value_counts()"
   ]
  },
  {
   "cell_type": "markdown",
   "metadata": {},
   "source": [
    "## Opción 10: solo consulto el anuncio clasificado (p2d10)\n",
    "10 Solo consultó el anuncio clasificado\n",
    "99 No sabe\n",
    "\n"
   ]
  },
  {
   "cell_type": "code",
   "execution_count": 93,
   "metadata": {},
   "outputs": [],
   "source": [
    "df_copy_20151['p2d10'].replace(to_replace=['0', '99'],value='99',inplace=True)"
   ]
  },
  {
   "cell_type": "code",
   "execution_count": 94,
   "metadata": {},
   "outputs": [
    {
     "data": {
      "text/plain": [
       "99    1048156\n",
       "10        419\n",
       "Name: p2d10, dtype: int64"
      ]
     },
     "execution_count": 94,
     "metadata": {},
     "output_type": "execute_result"
    }
   ],
   "source": [
    "df_copy_20151['p2d10'] = df_copy_20151['p2d10'].astype('int64')\n",
    "df_copy_20151.p2d10.value_counts()"
   ]
  },
  {
   "cell_type": "markdown",
   "metadata": {},
   "source": [
    "## Otra actividad (p2d11)\n",
    "11 Si realizo otra actividad\n",
    "99 No sabe"
   ]
  },
  {
   "cell_type": "code",
   "execution_count": 95,
   "metadata": {},
   "outputs": [],
   "source": [
    "df_copy_20151['p2d11'].replace(to_replace=['0', '99'],value='99',inplace=True)"
   ]
  },
  {
   "cell_type": "code",
   "execution_count": 96,
   "metadata": {},
   "outputs": [
    {
     "data": {
      "text/plain": [
       "99    1048518\n",
       "11         57\n",
       "Name: p2d11, dtype: int64"
      ]
     },
     "execution_count": 96,
     "metadata": {},
     "output_type": "execute_result"
    }
   ],
   "source": [
    "df_copy_20151['p2d11'] = df_copy_20151['p2d11'].astype('int64')\n",
    "df_copy_20151.p2d11.value_counts()"
   ]
  },
  {
   "cell_type": "markdown",
   "metadata": {},
   "source": [
    "## No sabe(p2d99)\n",
    "99 No sabe"
   ]
  },
  {
   "cell_type": "code",
   "execution_count": 97,
   "metadata": {},
   "outputs": [],
   "source": [
    "df_copy_20151['p2d99'].replace(to_replace=['9', '99'],value='99',inplace=True)"
   ]
  },
  {
   "cell_type": "code",
   "execution_count": 98,
   "metadata": {},
   "outputs": [],
   "source": [
    "df_copy_20151['p2d99'].replace(to_replace=['0', '99'],value='99',inplace=True)"
   ]
  },
  {
   "cell_type": "code",
   "execution_count": 99,
   "metadata": {},
   "outputs": [
    {
     "data": {
      "text/plain": [
       "99    1048575\n",
       "Name: p2d99, dtype: int64"
      ]
     },
     "execution_count": 99,
     "metadata": {},
     "output_type": "execute_result"
    }
   ],
   "source": [
    "df_copy_20151['p2d99'] = df_copy_20151['p2d99'].astype('int64')\n",
    "df_copy_20151.p2d99.value_counts()"
   ]
  },
  {
   "cell_type": "markdown",
   "metadata": {
    "collapsed": true
   },
   "source": [
    "## Pregunta 2e: ¿..es (p2e)\n",
    "\n",
    "1 Una persona temporalmente ausente de su actividad u oficio\n",
    "2 pensionado o jubilado de su empleo?\n",
    "3 estudiante?\n",
    "4 una persona que se dedica a los quehaceres de su hogar?\n",
    "5 una persona con alguna  limitación física o mental  que le impide trabajar por  el resto de su vida?\n",
    "6 Otra condición\n",
    "99No sabe"
   ]
  },
  {
   "cell_type": "code",
   "execution_count": 100,
   "metadata": {},
   "outputs": [],
   "source": [
    "df_copy_20151['p2e'].replace(to_replace=[' ', '99'],value='99',inplace=True)"
   ]
  },
  {
   "cell_type": "code",
   "execution_count": 101,
   "metadata": {},
   "outputs": [],
   "source": [
    "df_copy_20151['p2e'].replace(to_replace=['9', '99'],value='99',inplace=True)"
   ]
  },
  {
   "cell_type": "code",
   "execution_count": 102,
   "metadata": {},
   "outputs": [
    {
     "data": {
      "text/plain": [
       "99    596852\n",
       "4     207927\n",
       "3     162644\n",
       "2      39371\n",
       "6      21291\n",
       "1      14801\n",
       "5       5689\n",
       "Name: p2e, dtype: int64"
      ]
     },
     "execution_count": 102,
     "metadata": {},
     "output_type": "execute_result"
    }
   ],
   "source": [
    "df_copy_20151['p2e'] = df_copy_20151['p2e'].astype('int64')\n",
    "df_copy_20151.p2e.value_counts()"
   ]
  },
  {
   "cell_type": "markdown",
   "metadata": {},
   "source": [
    "## Actualmente,¿... tiene necesidad de trabajar?(p2f)\n",
    "1 sí tiene necesidad de trabajar\n",
    "2 Solo tiene deseos de trabajar\n",
    "3 No tiene necesidad no deseos de trabajar\n",
    "99 No sabe"
   ]
  },
  {
   "cell_type": "code",
   "execution_count": 103,
   "metadata": {},
   "outputs": [],
   "source": [
    "df_copy_20151['p2f'].replace(to_replace=[' ', '99'],value='99',inplace=True)"
   ]
  },
  {
   "cell_type": "code",
   "execution_count": 104,
   "metadata": {},
   "outputs": [],
   "source": [
    "df_copy_20151['p2f'].replace(to_replace=['9', '99'],value='99',inplace=True)"
   ]
  },
  {
   "cell_type": "code",
   "execution_count": 105,
   "metadata": {},
   "outputs": [
    {
     "data": {
      "text/plain": [
       "99    617435\n",
       "3     346299\n",
       "1      72567\n",
       "2      12274\n",
       "Name: p2f, dtype: int64"
      ]
     },
     "execution_count": 105,
     "metadata": {},
     "output_type": "execute_result"
    }
   ],
   "source": [
    "df_copy_20151['p2f'] = df_copy_20151['p2f'].astype('int64')\n",
    "df_copy_20151.p2f.value_counts()"
   ]
  },
  {
   "cell_type": "markdown",
   "metadata": {},
   "source": [
    "## Hay alguna otra razon, además de ser(menciona lo que contstaron en p2e) por la que ... no este buscando trabajo (p2g1)\n",
    "\n",
    "1 Sí\n",
    "2 No\n",
    "99 No sabe"
   ]
  },
  {
   "cell_type": "code",
   "execution_count": 106,
   "metadata": {},
   "outputs": [],
   "source": [
    "df_copy_20151['p2g1'].replace(to_replace=[' ', '99'],value='99',inplace=True)"
   ]
  },
  {
   "cell_type": "code",
   "execution_count": 107,
   "metadata": {},
   "outputs": [],
   "source": [
    "df_copy_20151['p2g1'].replace(to_replace=['9', '99'],value='99',inplace=True)"
   ]
  },
  {
   "cell_type": "code",
   "execution_count": 108,
   "metadata": {},
   "outputs": [
    {
     "data": {
      "text/plain": [
       "99    963698\n",
       "2      49422\n",
       "1      35455\n",
       "Name: p2g1, dtype: int64"
      ]
     },
     "execution_count": 108,
     "metadata": {},
     "output_type": "execute_result"
    }
   ],
   "source": [
    "df_copy_20151['p2g1'] = df_copy_20151['p2g1'].astype('int64')\n",
    "df_copy_20151.p2g1.value_counts()"
   ]
  },
  {
   "cell_type": "markdown",
   "metadata": {},
   "source": [
    "## **  Opciones de respuesta cuando p2g1= 1 (p2g2)\n",
    " \n",
    "1 Está esperando la respuesta a una solicitud o está apaladrando con un patrón que lo llamará en fecha próxima\n",
    "2 No hay trabajo en su especialidad, oficio o profesión\n",
    "3 No cuenta con la escolaridad, los papeles o la experiencia necesaria para realizar un trabajo\n",
    "4 Piensa que por su edad o por su aspecto no lo aceptarían en un trabajo\n",
    "5 En su localidad no hay trabajo o sólo se realiza en ciertas temporadas del año\n",
    "6 La inseguridad pública o el exceso de trámites lo desalientan a iniciar una actividad\n",
    "7 Espera recuperarse de una enfermedad o accidente\n",
    "8 Está embarazada\n",
    "9 No tiene quién le cuide a sus hijos pequeños,ancianos o enfermos\n",
    "10 No lo(a) deja un familiar\n",
    "11 Otras razones de mercado\n",
    "12 Otras razones personales\n",
    "99 No sabe"
   ]
  },
  {
   "cell_type": "code",
   "execution_count": 109,
   "metadata": {},
   "outputs": [
    {
     "data": {
      "text/plain": [
       "99    1013120\n",
       "9       14660\n",
       "4        6364\n",
       "12       4191\n",
       "7        3357\n",
       "5        2534\n",
       "10       2129\n",
       "8         778\n",
       "3         648\n",
       "11        302\n",
       "1         257\n",
       "2         161\n",
       "6          74\n",
       "Name: p2g2, dtype: int64"
      ]
     },
     "execution_count": 109,
     "metadata": {},
     "output_type": "execute_result"
    }
   ],
   "source": [
    "df_copy_20151['p2g2'] = df_copy_20151['p2g2'].astype('int64')\n",
    "df_copy_20151.p2g2.value_counts()"
   ]
  },
  {
   "cell_type": "markdown",
   "metadata": {},
   "source": [
    "# Pregunta 2H: ¿…ha trabajado alguna vez en su vida"
   ]
  },
  {
   "cell_type": "markdown",
   "metadata": {},
   "source": [
    "## Opción 1: una pago o salario?(p2h1)\n",
    "1 por un pago o salario ?\n",
    "99 No sabe"
   ]
  },
  {
   "cell_type": "code",
   "execution_count": 110,
   "metadata": {},
   "outputs": [],
   "source": [
    "df_copy_20151['p2h1'].replace(to_replace=[' ', '99'],value='99',inplace=True)"
   ]
  },
  {
   "cell_type": "code",
   "execution_count": 111,
   "metadata": {
    "scrolled": true
   },
   "outputs": [
    {
     "data": {
      "text/plain": [
       "99    844309\n",
       "1     204266\n",
       "Name: p2h1, dtype: int64"
      ]
     },
     "execution_count": 111,
     "metadata": {},
     "output_type": "execute_result"
    }
   ],
   "source": [
    "df_copy_20151['p2h1'] = df_copy_20151['p2h1'].astype('int64')\n",
    "df_copy_20151.p2h1.value_counts()"
   ]
  },
  {
   "cell_type": "markdown",
   "metadata": {},
   "source": [
    "## Opción 2: por su cuenta? (p2h2)\n",
    "2 por su cuenta\n",
    "99 No sabe"
   ]
  },
  {
   "cell_type": "code",
   "execution_count": 112,
   "metadata": {},
   "outputs": [],
   "source": [
    "df_copy_20151['p2h2'].replace(to_replace=[' ', '99'],value='99',inplace=True)"
   ]
  },
  {
   "cell_type": "code",
   "execution_count": 113,
   "metadata": {},
   "outputs": [
    {
     "data": {
      "text/plain": [
       "99    1021391\n",
       "2       27184\n",
       "Name: p2h2, dtype: int64"
      ]
     },
     "execution_count": 113,
     "metadata": {},
     "output_type": "execute_result"
    }
   ],
   "source": [
    "df_copy_20151['p2h2'] = df_copy_20151['p2h2'].astype('int64')\n",
    "df_copy_20151.p2h2.value_counts()"
   ]
  },
  {
   "cell_type": "markdown",
   "metadata": {},
   "source": [
    "## Opción 3: ayudando en el negocio o actividad económica de alguna persona? (p2h3)\n",
    "3 ayudando en el negocio o actividad económica\n",
    "99 no sabe"
   ]
  },
  {
   "cell_type": "code",
   "execution_count": 114,
   "metadata": {},
   "outputs": [],
   "source": [
    "df_copy_20151['p2h3'].replace(to_replace=[' ', '99'],value='99',inplace=True)"
   ]
  },
  {
   "cell_type": "code",
   "execution_count": 115,
   "metadata": {
    "scrolled": true
   },
   "outputs": [
    {
     "data": {
      "text/plain": [
       "99    1041300\n",
       "3        7275\n",
       "Name: p2h3, dtype: int64"
      ]
     },
     "execution_count": 115,
     "metadata": {},
     "output_type": "execute_result"
    }
   ],
   "source": [
    "df_copy_20151['p2h3'] = df_copy_20151['p2h3'].astype('int64')\n",
    "df_copy_20151.p2h3.value_counts()"
   ]
  },
  {
   "cell_type": "markdown",
   "metadata": {},
   "source": [
    "## Opción 4: nunca ha trabajado (p2h4)\n",
    "\n",
    "4 Nunca ha trabajado \n",
    "99 No aplica\n"
   ]
  },
  {
   "cell_type": "code",
   "execution_count": 116,
   "metadata": {},
   "outputs": [],
   "source": [
    "df_copy_20151['p2h4'].replace(to_replace=[' ', '99'],value='99',inplace=True)"
   ]
  },
  {
   "cell_type": "code",
   "execution_count": 117,
   "metadata": {
    "scrolled": true
   },
   "outputs": [
    {
     "data": {
      "text/plain": [
       "99    814348\n",
       "4     234227\n",
       "Name: p2h4, dtype: int64"
      ]
     },
     "execution_count": 117,
     "metadata": {},
     "output_type": "execute_result"
    }
   ],
   "source": [
    "df_copy_20151['p2h4'] = df_copy_20151['p2h4'].astype('int64')\n",
    "df_copy_20151.p2h4.value_counts()"
   ]
  },
  {
   "cell_type": "markdown",
   "metadata": {},
   "source": [
    "## Opción 9: No sabe (p2h9)\n",
    "99 No sabe"
   ]
  },
  {
   "cell_type": "code",
   "execution_count": 118,
   "metadata": {},
   "outputs": [],
   "source": [
    "df_copy_20151['p2h9'].replace(to_replace=[' ', '99'],value='99',inplace=True)"
   ]
  },
  {
   "cell_type": "code",
   "execution_count": 119,
   "metadata": {},
   "outputs": [],
   "source": [
    "df_copy_20151['p2h9'].replace(to_replace=['9', '99'],value='99',inplace=True)"
   ]
  },
  {
   "cell_type": "code",
   "execution_count": 120,
   "metadata": {},
   "outputs": [
    {
     "data": {
      "text/plain": [
       "99    1048575\n",
       "Name: p2h9, dtype: int64"
      ]
     },
     "execution_count": 120,
     "metadata": {},
     "output_type": "execute_result"
    }
   ],
   "source": [
    "df_copy_20151['p2h9'] = df_copy_20151['p2h9'].astype('int64')\n",
    "df_copy_20151.p2h9.value_counts()"
   ]
  },
  {
   "cell_type": "markdown",
   "metadata": {},
   "source": [
    "## * Si... tiene más de un trabajo, hablemos del principal ¿Cuales son las tareas o funciones principales que.... desempeña en su trabajo?(p3)\n"
   ]
  },
  {
   "cell_type": "code",
   "execution_count": 121,
   "metadata": {
    "scrolled": true
   },
   "outputs": [
    {
     "data": {
      "text/plain": [
       "99      474551\n",
       "4211     35042\n",
       "4111     24224\n",
       "9611     20651\n",
       "7121     15909\n",
       "9111     14270\n",
       "9221     14061\n",
       "8342     13965\n",
       "6111     12826\n",
       "3115     12150\n",
       "9621     11233\n",
       "8341     10434\n",
       "5114      9615\n",
       "5313      8897\n",
       "3111      8379\n",
       "9521      8343\n",
       "7513      7885\n",
       "2332      7323\n",
       "3121      6955\n",
       "9512      6796\n",
       "5116      6465\n",
       "9411      5870\n",
       "3132      5808\n",
       "2632      5764\n",
       "9231      5509\n",
       "4224      5389\n",
       "2121      5026\n",
       "8212      4986\n",
       "5111      4770\n",
       "2512      4635\n",
       "         ...  \n",
       "1312        16\n",
       "1112        16\n",
       "4233        15\n",
       "2421        15\n",
       "2134        14\n",
       "2639        14\n",
       "5411        13\n",
       "2151        12\n",
       "5252        11\n",
       "1619         9\n",
       "2234         9\n",
       "2991         9\n",
       "6119         8\n",
       "8349         8\n",
       "8162         8\n",
       "1525         8\n",
       "2992         7\n",
       "9322         7\n",
       "9732         7\n",
       "2391         6\n",
       "6231         5\n",
       "9733         5\n",
       "1225         5\n",
       "2649         4\n",
       "1129         3\n",
       "6129         2\n",
       "2141         2\n",
       "2339         2\n",
       "2334         2\n",
       "6999         1\n",
       "Name: p3, Length: 466, dtype: int64"
      ]
     },
     "execution_count": 121,
     "metadata": {},
     "output_type": "execute_result"
    }
   ],
   "source": [
    "df_copy_20151['p3'] = df_copy_20151['p3'].astype('int64')\n",
    "df_copy_20151.p3.value_counts()"
   ]
  },
  {
   "cell_type": "markdown",
   "metadata": {},
   "source": [
    "## ¿En su trabajo... tiene un jefe(a) o superior? (p3a)\n",
    "1 Si\n",
    "2 No\n",
    "99 No sabe"
   ]
  },
  {
   "cell_type": "code",
   "execution_count": 122,
   "metadata": {},
   "outputs": [],
   "source": [
    "df_copy_20151['p3a'].replace(to_replace=[' ', '99'],value='99',inplace=True)"
   ]
  },
  {
   "cell_type": "code",
   "execution_count": 123,
   "metadata": {},
   "outputs": [
    {
     "data": {
      "text/plain": [
       "99    474551\n",
       "1     432581\n",
       "2     141443\n",
       "Name: p3a, dtype: int64"
      ]
     },
     "execution_count": 123,
     "metadata": {},
     "output_type": "execute_result"
    }
   ],
   "source": [
    "df_copy_20151['p3a'] = df_copy_20151['p3a'].astype('int64')\n",
    "df_copy_20151.p3a.value_counts()"
   ]
  },
  {
   "cell_type": "markdown",
   "metadata": {},
   "source": [
    "## Entonces, ¿... se dedica a un negocio o activida por su cuenta?(p3b)\n",
    "\n",
    "1 Sí\n",
    "2 No\n",
    "99 No sabe"
   ]
  },
  {
   "cell_type": "code",
   "execution_count": 124,
   "metadata": {},
   "outputs": [],
   "source": [
    "df_copy_20151['p3b'].replace(to_replace=[' ', '99'],value='99',inplace=True)"
   ]
  },
  {
   "cell_type": "code",
   "execution_count": 125,
   "metadata": {
    "scrolled": true
   },
   "outputs": [
    {
     "data": {
      "text/plain": [
       "99    907132\n",
       "1     140331\n",
       "2       1112\n",
       "Name: p3b, dtype: int64"
      ]
     },
     "execution_count": 125,
     "metadata": {},
     "output_type": "execute_result"
    }
   ],
   "source": [
    "df_copy_20151['p3b'] = df_copy_20151['p3b'].astype('int64')\n",
    "df_copy_20151.p3b.value_counts()"
   ]
  },
  {
   "cell_type": "markdown",
   "metadata": {},
   "source": [
    "#  Pregunta 3C: ¿…ofrece sus productos o servicios"
   ]
  },
  {
   "cell_type": "markdown",
   "metadata": {},
   "source": [
    "## Opción 1: a una sola empresa, negocio o intermediario ?(p3c1)\n",
    "\n",
    "1 a una sola empresa, negocio o intermediario?\n",
    "99 No sabe"
   ]
  },
  {
   "cell_type": "code",
   "execution_count": 126,
   "metadata": {},
   "outputs": [],
   "source": [
    "df_copy_20151['p3c1'].replace(to_replace=[' ', '99'],value='99',inplace=True)"
   ]
  },
  {
   "cell_type": "code",
   "execution_count": 127,
   "metadata": {},
   "outputs": [
    {
     "data": {
      "text/plain": [
       "99    1044577\n",
       "1        3998\n",
       "Name: p3c1, dtype: int64"
      ]
     },
     "execution_count": 127,
     "metadata": {},
     "output_type": "execute_result"
    }
   ],
   "source": [
    "df_copy_20151['p3c1'] = df_copy_20151['p3c1'].astype('int64')\n",
    "df_copy_20151.p3c1.value_counts()"
   ]
  },
  {
   "cell_type": "markdown",
   "metadata": {},
   "source": [
    "## Opción 2: a varios negocios, empresas o intermediarios? (p3c2)\n",
    "2 a varios negocios, empresas o intermediarios?\n",
    "99 No sabe"
   ]
  },
  {
   "cell_type": "code",
   "execution_count": 128,
   "metadata": {},
   "outputs": [],
   "source": [
    "df_copy_20151['p3c2'].replace(to_replace=[' ', '99'],value='99',inplace=True)"
   ]
  },
  {
   "cell_type": "code",
   "execution_count": 129,
   "metadata": {
    "scrolled": true
   },
   "outputs": [
    {
     "data": {
      "text/plain": [
       "99    1038236\n",
       "2       10339\n",
       "Name: p3c2, dtype: int64"
      ]
     },
     "execution_count": 129,
     "metadata": {},
     "output_type": "execute_result"
    }
   ],
   "source": [
    "df_copy_20151['p3c2'] = df_copy_20151['p3c2'].astype('int64')\n",
    "df_copy_20151.p3c2.value_counts()"
   ]
  },
  {
   "cell_type": "markdown",
   "metadata": {},
   "source": [
    "## Opción 3: directamente al público? (p3c3)\n",
    "\n",
    "3 directamente al público?\n",
    "99 No aplica"
   ]
  },
  {
   "cell_type": "code",
   "execution_count": 130,
   "metadata": {},
   "outputs": [],
   "source": [
    "df_copy_20151['p3c3'].replace(to_replace=[' ', '99'],value='99',inplace=True)"
   ]
  },
  {
   "cell_type": "code",
   "execution_count": 131,
   "metadata": {
    "scrolled": true
   },
   "outputs": [
    {
     "data": {
      "text/plain": [
       "99    923714\n",
       "3     124861\n",
       "Name: p3c3, dtype: int64"
      ]
     },
     "execution_count": 131,
     "metadata": {},
     "output_type": "execute_result"
    }
   ],
   "source": [
    "df_copy_20151['p3c3'] = df_copy_20151['p3c3'].astype('int64')\n",
    "df_copy_20151.p3c3.value_counts()"
   ]
  },
  {
   "cell_type": "markdown",
   "metadata": {},
   "source": [
    "## Opción 4: autoconsumo gropecuario (p3c4)\n",
    "\n",
    "4 Es autoconsumo agropecuario\n",
    "99 No sabe"
   ]
  },
  {
   "cell_type": "code",
   "execution_count": 132,
   "metadata": {},
   "outputs": [],
   "source": [
    "df_copy_20151['p3c4'].replace(to_replace=[' ', '99'],value='99',inplace=True)"
   ]
  },
  {
   "cell_type": "code",
   "execution_count": 133,
   "metadata": {},
   "outputs": [
    {
     "data": {
      "text/plain": [
       "99    1040323\n",
       "4        8252\n",
       "Name: p3c4, dtype: int64"
      ]
     },
     "execution_count": 133,
     "metadata": {},
     "output_type": "execute_result"
    }
   ],
   "source": [
    "df_copy_20151['p3c4'] = df_copy_20151['p3c4'].astype('int64')\n",
    "df_copy_20151.p3c4.value_counts()"
   ]
  },
  {
   "cell_type": "markdown",
   "metadata": {},
   "source": [
    "## No sabe (p3c9)\n",
    "99 No sabe"
   ]
  },
  {
   "cell_type": "code",
   "execution_count": 134,
   "metadata": {},
   "outputs": [],
   "source": [
    "df_copy_20151['p3c9'].replace(to_replace=[' ', '99'],value='99',inplace=True)"
   ]
  },
  {
   "cell_type": "code",
   "execution_count": 135,
   "metadata": {},
   "outputs": [],
   "source": [
    "df_copy_20151['p3c9'].replace(to_replace=['9', '99'],value='99',inplace=True)"
   ]
  },
  {
   "cell_type": "code",
   "execution_count": 136,
   "metadata": {
    "scrolled": true
   },
   "outputs": [
    {
     "data": {
      "text/plain": [
       "99    1048575\n",
       "Name: p3c9, dtype: int64"
      ]
     },
     "execution_count": 136,
     "metadata": {},
     "output_type": "execute_result"
    }
   ],
   "source": [
    "df_copy_20151['p3c9'] = df_copy_20151['p3c9'].astype('int64')\n",
    "df_copy_20151.p3c9.value_counts()"
   ]
  },
  {
   "cell_type": "markdown",
   "metadata": {},
   "source": [
    "## ¿... tiene empleados o le ayudan personas en su negocio o actividad?(p3d)\n",
    "\n",
    "1 Sí\n",
    "2 No\n",
    "99 No sabe"
   ]
  },
  {
   "cell_type": "code",
   "execution_count": 137,
   "metadata": {},
   "outputs": [],
   "source": [
    "df_copy_20151['p3d'].replace(to_replace=[' ', '99'],value='99',inplace=True)"
   ]
  },
  {
   "cell_type": "code",
   "execution_count": 138,
   "metadata": {},
   "outputs": [],
   "source": [
    "df_copy_20151['p3d'].replace(to_replace=['9', '99'],value='99',inplace=True)"
   ]
  },
  {
   "cell_type": "code",
   "execution_count": 139,
   "metadata": {},
   "outputs": [
    {
     "data": {
      "text/plain": [
       "99    908274\n",
       "2      90737\n",
       "1      49564\n",
       "Name: p3d, dtype: int64"
      ]
     },
     "execution_count": 139,
     "metadata": {},
     "output_type": "execute_result"
    }
   ],
   "source": [
    "df_copy_20151['p3d'] = df_copy_20151['p3d'].astype('int64')\n",
    "df_copy_20151.p3d.value_counts()"
   ]
  },
  {
   "cell_type": "markdown",
   "metadata": {},
   "source": [
    "## ¿...Tiene (p3e)\n",
    "\n",
    "1 no solo tipo de negocio (o actividad)?\n",
    "2 varios tipos de negocios?\n",
    "99 no sabe"
   ]
  },
  {
   "cell_type": "code",
   "execution_count": 140,
   "metadata": {},
   "outputs": [],
   "source": [
    "df_copy_20151['p3e'].replace(to_replace=[' ', '99'],value='99',inplace=True)"
   ]
  },
  {
   "cell_type": "code",
   "execution_count": 141,
   "metadata": {},
   "outputs": [
    {
     "data": {
      "text/plain": [
       "99    999011\n",
       "1      49339\n",
       "2        225\n",
       "Name: p3e, dtype: int64"
      ]
     },
     "execution_count": 141,
     "metadata": {},
     "output_type": "execute_result"
    }
   ],
   "source": [
    "df_copy_20151['p3e'] = df_copy_20151['p3e'].astype('int64')\n",
    "df_copy_20151.p3e.value_counts()"
   ]
  },
  {
   "cell_type": "markdown",
   "metadata": {},
   "source": [
    "## ¿Cuántos puestos o establecimientos (o en su caso vehículos) forman este negocio o empresa?(p3f1)\n",
    "1 ¿Uno solo?\n",
    "2 ¿Más de uno?\n",
    "3 No tiene establecimiento (o vehículo)\n",
    "99 No sabe"
   ]
  },
  {
   "cell_type": "code",
   "execution_count": 142,
   "metadata": {},
   "outputs": [],
   "source": [
    "df_copy_20151['p3f1'].replace(to_replace=[' ', '99'],value='99',inplace=True)"
   ]
  },
  {
   "cell_type": "code",
   "execution_count": 143,
   "metadata": {},
   "outputs": [],
   "source": [
    "df_copy_20151['p3f1'].replace(to_replace=['9', '99'],value='99',inplace=True)"
   ]
  },
  {
   "cell_type": "code",
   "execution_count": 144,
   "metadata": {},
   "outputs": [
    {
     "data": {
      "text/plain": [
       "99    999035\n",
       "1      44204\n",
       "3       4563\n",
       "2        773\n",
       "Name: p3f1, dtype: int64"
      ]
     },
     "execution_count": 144,
     "metadata": {},
     "output_type": "execute_result"
    }
   ],
   "source": [
    "df_copy_20151['p3f1'] = df_copy_20151['p3f1'].astype('int64')\n",
    "df_copy_20151.p3f1.value_counts()"
   ]
  },
  {
   "cell_type": "markdown",
   "metadata": {},
   "source": [
    "## ¿Cuántos puestos o establecimientos (o en su caso vehículos) forman este negocio o empresa?(p3f2)\n",
    "\n",
    "2-98 Cantidad de puestos o vehículos\n",
    "99 No sabe\n"
   ]
  },
  {
   "cell_type": "code",
   "execution_count": 145,
   "metadata": {},
   "outputs": [
    {
     "data": {
      "text/plain": [
       "99    1047809\n",
       "2         490\n",
       "3         135\n",
       "4          55\n",
       "5          28\n",
       "6          13\n",
       "10         12\n",
       "20          7\n",
       "7           7\n",
       "11          4\n",
       "1           3\n",
       "9           2\n",
       "24          2\n",
       "80          1\n",
       "12          1\n",
       "8           1\n",
       "15          1\n",
       "17          1\n",
       "28          1\n",
       "30          1\n",
       "50          1\n",
       "Name: p3f2, dtype: int64"
      ]
     },
     "execution_count": 145,
     "metadata": {},
     "output_type": "execute_result"
    }
   ],
   "source": [
    "df_copy_20151['p3f2'] = df_copy_20151['p3f2'].astype('int64')\n",
    "df_copy_20151.p3f2.value_counts()"
   ]
  },
  {
   "cell_type": "markdown",
   "metadata": {},
   "source": [
    "# Pregunta 3G: De las personas que ocupa o le ayudan a…,¿cuántos son \n"
   ]
  },
  {
   "cell_type": "markdown",
   "metadata": {},
   "source": [
    "## Opción 1:  trabajadores que reciben un pago?(p3g1_1)\n",
    "1 trabajadores que reciben un pago?\n",
    "99 No sabe"
   ]
  },
  {
   "cell_type": "code",
   "execution_count": 146,
   "metadata": {},
   "outputs": [],
   "source": [
    "df_copy_20151['p3g1_1'].replace(to_replace=[' ', '99'],value='99',inplace=True)"
   ]
  },
  {
   "cell_type": "code",
   "execution_count": 147,
   "metadata": {
    "scrolled": true
   },
   "outputs": [
    {
     "data": {
      "text/plain": [
       "99    1021504\n",
       "1       27071\n",
       "Name: p3g1_1, dtype: int64"
      ]
     },
     "execution_count": 147,
     "metadata": {},
     "output_type": "execute_result"
    }
   ],
   "source": [
    "df_copy_20151['p3g1_1'] = df_copy_20151['p3g1_1'].astype('int64')\n",
    "df_copy_20151.p3g1_1.value_counts()"
   ]
  },
  {
   "cell_type": "markdown",
   "metadata": {},
   "source": [
    "## Número de trabajadores (p3g1_2)\n",
    "1-998 Número de trabajadores\n",
    "999 No sabe número de trabajadores"
   ]
  },
  {
   "cell_type": "code",
   "execution_count": 148,
   "metadata": {
    "scrolled": true
   },
   "outputs": [
    {
     "data": {
      "text/plain": [
       "99     1021507\n",
       "1        13143\n",
       "2         6060\n",
       "3         2499\n",
       "4         1448\n",
       "5          994\n",
       "6          589\n",
       "10         505\n",
       "8          293\n",
       "7          246\n",
       "20         190\n",
       "999        189\n",
       "15         162\n",
       "12         113\n",
       "9          109\n",
       "30          77\n",
       "50          46\n",
       "25          44\n",
       "40          36\n",
       "11          34\n",
       "18          28\n",
       "16          27\n",
       "14          25\n",
       "100         21\n",
       "13          20\n",
       "60          18\n",
       "17          15\n",
       "22          13\n",
       "24          13\n",
       "35          10\n",
       "        ...   \n",
       "65           3\n",
       "200          3\n",
       "29           2\n",
       "38           2\n",
       "150          2\n",
       "55           2\n",
       "110          2\n",
       "600          2\n",
       "32           1\n",
       "220          1\n",
       "166          1\n",
       "800          1\n",
       "230          1\n",
       "250          1\n",
       "650          1\n",
       "325          1\n",
       "140          1\n",
       "115          1\n",
       "123          1\n",
       "119          1\n",
       "31           1\n",
       "102          1\n",
       "98           1\n",
       "90           1\n",
       "75           1\n",
       "67           1\n",
       "63           1\n",
       "52           1\n",
       "37           1\n",
       "42           1\n",
       "Name: p3g1_2, Length: 75, dtype: int64"
      ]
     },
     "execution_count": 148,
     "metadata": {},
     "output_type": "execute_result"
    }
   ],
   "source": [
    "df_copy_20151['p3g1_2'] = df_copy_20151['p3g1_2'].astype('int64')\n",
    "df_copy_20151.p3g1_2.value_counts()"
   ]
  },
  {
   "cell_type": "markdown",
   "metadata": {},
   "source": [
    "## Opción 2: socios? (p3g2_1) \n",
    "2 socios?\n",
    "99 No sabe"
   ]
  },
  {
   "cell_type": "code",
   "execution_count": 149,
   "metadata": {},
   "outputs": [],
   "source": [
    "df_copy_20151['p3g2_1'].replace(to_replace=[' ', '99'],value='99',inplace=True)"
   ]
  },
  {
   "cell_type": "code",
   "execution_count": 150,
   "metadata": {},
   "outputs": [
    {
     "data": {
      "text/plain": [
       "99    1040191\n",
       "2        8384\n",
       "Name: p3g2_1, dtype: int64"
      ]
     },
     "execution_count": 150,
     "metadata": {},
     "output_type": "execute_result"
    }
   ],
   "source": [
    "df_copy_20151['p3g2_1'] = df_copy_20151['p3g2_1'].astype('int64')\n",
    "df_copy_20151.p3g2_1.value_counts()"
   ]
  },
  {
   "cell_type": "markdown",
   "metadata": {},
   "source": [
    "## Número de trabajadores  (p3g2_2)\n",
    "1 - 998 Cantidad en opcion 1 de pregunta 3g\n",
    "999 No sabe que número de trabajadores"
   ]
  },
  {
   "cell_type": "code",
   "execution_count": 151,
   "metadata": {
    "scrolled": true
   },
   "outputs": [
    {
     "data": {
      "text/plain": [
       "99     1040191\n",
       "1         6371\n",
       "2         1040\n",
       "3          427\n",
       "4          208\n",
       "5          101\n",
       "6           42\n",
       "7           24\n",
       "10          23\n",
       "8           23\n",
       "999         15\n",
       "9           13\n",
       "14           9\n",
       "20           8\n",
       "11           8\n",
       "12           7\n",
       "80           6\n",
       "15           6\n",
       "16           5\n",
       "150          4\n",
       "30           4\n",
       "13           4\n",
       "40           3\n",
       "29           3\n",
       "74           2\n",
       "17           2\n",
       "73           2\n",
       "25           2\n",
       "24           2\n",
       "27           2\n",
       "72           2\n",
       "19           1\n",
       "120          1\n",
       "210          1\n",
       "200          1\n",
       "157          1\n",
       "140          1\n",
       "137          1\n",
       "45           1\n",
       "55           1\n",
       "22           1\n",
       "34           1\n",
       "32           1\n",
       "28           1\n",
       "290          1\n",
       "23           1\n",
       "18           1\n",
       "Name: p3g2_2, dtype: int64"
      ]
     },
     "execution_count": 151,
     "metadata": {},
     "output_type": "execute_result"
    }
   ],
   "source": [
    "df_copy_20151['p3g2_2'] = df_copy_20151['p3g2_2'].astype('int64')\n",
    "df_copy_20151.p3g2_2.value_counts()"
   ]
  },
  {
   "cell_type": "markdown",
   "metadata": {},
   "source": [
    "## Opción 3: trabajadores sin pago? (p3g3_1)\n",
    "3 trabajadores sin pago?\n",
    "99 No sabe"
   ]
  },
  {
   "cell_type": "code",
   "execution_count": 152,
   "metadata": {},
   "outputs": [],
   "source": [
    "df_copy_20151['p3g3_1'].replace(to_replace=[' ', '99'],value='99',inplace=True)"
   ]
  },
  {
   "cell_type": "code",
   "execution_count": 153,
   "metadata": {},
   "outputs": [
    {
     "data": {
      "text/plain": [
       "99    1029196\n",
       "3       19379\n",
       "Name: p3g3_1, dtype: int64"
      ]
     },
     "execution_count": 153,
     "metadata": {},
     "output_type": "execute_result"
    }
   ],
   "source": [
    "df_copy_20151['p3g3_1'] = df_copy_20151['p3g3_1'].astype('int64')\n",
    "df_copy_20151.p3g3_1.value_counts()"
   ]
  },
  {
   "cell_type": "markdown",
   "metadata": {},
   "source": [
    "## * Número de trabajadores (p3g3_2)\n",
    "1-998 Cantidad en opción 3 de pregunta 3g \n",
    "999 No sabe número de trabajadores"
   ]
  },
  {
   "cell_type": "code",
   "execution_count": 154,
   "metadata": {
    "scrolled": true
   },
   "outputs": [
    {
     "data": {
      "text/plain": [
       "99     1029196\n",
       "1        14379\n",
       "2         3513\n",
       "3         1050\n",
       "4          298\n",
       "5           83\n",
       "6           25\n",
       "7           17\n",
       "8            4\n",
       "999          3\n",
       "25           2\n",
       "9            2\n",
       "100          1\n",
       "50           1\n",
       "10           1\n",
       "Name: p3g3_2, dtype: int64"
      ]
     },
     "execution_count": 154,
     "metadata": {},
     "output_type": "execute_result"
    }
   ],
   "source": [
    "df_copy_20151['p3g3_2'] = df_copy_20151['p3g3_2'].astype('int64')\n",
    "df_copy_20151.p3g3_2.value_counts()"
   ]
  },
  {
   "cell_type": "markdown",
   "metadata": {},
   "source": [
    "## *Opción 4: no sabe qué tipo de trabajadores son (p3g4_1)\n",
    "4 No sabe que tipo de trabajadores son\n"
   ]
  },
  {
   "cell_type": "code",
   "execution_count": 155,
   "metadata": {},
   "outputs": [],
   "source": [
    "df_copy_20151['p3g4_1'].replace(to_replace=[' ', '99'],value='99',inplace=True)"
   ]
  },
  {
   "cell_type": "code",
   "execution_count": 156,
   "metadata": {
    "scrolled": true
   },
   "outputs": [
    {
     "data": {
      "text/plain": [
       "99    1048569\n",
       "4           6\n",
       "Name: p3g4_1, dtype: int64"
      ]
     },
     "execution_count": 156,
     "metadata": {},
     "output_type": "execute_result"
    }
   ],
   "source": [
    "df_copy_20151['p3g4_1'] = df_copy_20151['p3g4_1'].astype('int64')\n",
    "df_copy_20151.p3g4_1.value_counts()"
   ]
  },
  {
   "cell_type": "markdown",
   "metadata": {},
   "source": [
    "## Número de trabajadores(p3g4_2)\n",
    "1-998 Cantidad en opción 4 de pregunta 3g\n",
    "999 No sabe"
   ]
  },
  {
   "cell_type": "code",
   "execution_count": 157,
   "metadata": {},
   "outputs": [
    {
     "data": {
      "text/plain": [
       "99     1048569\n",
       "999          2\n",
       "2            2\n",
       "3            1\n",
       "1            1\n",
       "Name: p3g4_2, dtype: int64"
      ]
     },
     "execution_count": 157,
     "metadata": {},
     "output_type": "execute_result"
    }
   ],
   "source": [
    "df_copy_20151['p3g4_2'] = df_copy_20151['p3g4_2'].astype('int64')\n",
    "df_copy_20151.p3g4_2.value_counts()"
   ]
  },
  {
   "cell_type": "markdown",
   "metadata": {},
   "source": [
    "## Opción 9: no sabe (p3g9)\n",
    "99 No sabe"
   ]
  },
  {
   "cell_type": "code",
   "execution_count": 158,
   "metadata": {},
   "outputs": [],
   "source": [
    "df_copy_20151['p3g9'].replace(to_replace=[' ', '99'],value='99',inplace=True)"
   ]
  },
  {
   "cell_type": "code",
   "execution_count": 159,
   "metadata": {},
   "outputs": [],
   "source": [
    "df_copy_20151['p3g9'].replace(to_replace=['9', '99'],value='99',inplace=True)"
   ]
  },
  {
   "cell_type": "code",
   "execution_count": 160,
   "metadata": {},
   "outputs": [
    {
     "data": {
      "text/plain": [
       "99    1048575\n",
       "Name: p3g9, dtype: int64"
      ]
     },
     "execution_count": 160,
     "metadata": {},
     "output_type": "execute_result"
    }
   ],
   "source": [
    "df_copy_20151['p3g9'] = df_copy_20151['p3g9'].astype('int64')\n",
    "df_copy_20151.p3g9.value_counts()"
   ]
  },
  {
   "cell_type": "markdown",
   "metadata": {},
   "source": [
    "## Sumatoria de número de trabajadores (p3g_tot)\n",
    "1-998 Sumatoria de número de trabajadores\n",
    "999  No sabe \n"
   ]
  },
  {
   "cell_type": "code",
   "execution_count": 161,
   "metadata": {
    "scrolled": false
   },
   "outputs": [
    {
     "data": {
      "text/plain": [
       "99     999156\n",
       "1       27450\n",
       "2       10482\n",
       "3        4447\n",
       "4        2236\n",
       "5        1271\n",
       "6         791\n",
       "10        458\n",
       "7         365\n",
       "8         342\n",
       "999       202\n",
       "9         153\n",
       "20        152\n",
       "15        138\n",
       "11        121\n",
       "12        111\n",
       "30         59\n",
       "13         56\n",
       "16         52\n",
       "14         48\n",
       "21         38\n",
       "25         37\n",
       "18         32\n",
       "17         28\n",
       "50         27\n",
       "40         23\n",
       "22         21\n",
       "100        17\n",
       "26         16\n",
       "31         12\n",
       "        ...  \n",
       "325         1\n",
       "295         1\n",
       "203         1\n",
       "220         1\n",
       "224         1\n",
       "231         1\n",
       "302         1\n",
       "504         1\n",
       "123         1\n",
       "122         1\n",
       "58          1\n",
       "56          1\n",
       "66          1\n",
       "53          1\n",
       "67          1\n",
       "71          1\n",
       "48          1\n",
       "44          1\n",
       "43          1\n",
       "76          1\n",
       "38          1\n",
       "37          1\n",
       "84          1\n",
       "90          1\n",
       "604         1\n",
       "605         1\n",
       "117         1\n",
       "63          1\n",
       "121         1\n",
       "508         1\n",
       "Name: p3g_tot, Length: 110, dtype: int64"
      ]
     },
     "execution_count": 161,
     "metadata": {},
     "output_type": "execute_result"
    }
   ],
   "source": [
    "df_copy_20151['p3g_tot'] = df_copy_20151['p3g_tot'].astype('int64')\n",
    "df_copy_20151.p3g_tot.value_counts()"
   ]
  },
  {
   "cell_type": "markdown",
   "metadata": {},
   "source": [
    "## ¿En este trabajo ...  (p3h)\n",
    "1 recibe un pago?\n",
    "2 es un trabajador no  familiar sin pago?\n",
    "3 es un trabajador familiar  sin pago?\n",
    "99 No sabe"
   ]
  },
  {
   "cell_type": "code",
   "execution_count": 162,
   "metadata": {},
   "outputs": [],
   "source": [
    "df_copy_20151['p3h'].replace(to_replace=[' ', '99'],value='99',inplace=True)"
   ]
  },
  {
   "cell_type": "code",
   "execution_count": 163,
   "metadata": {},
   "outputs": [
    {
     "data": {
      "text/plain": [
       "99    614882\n",
       "1     409512\n",
       "3      22479\n",
       "2       1702\n",
       "Name: p3h, dtype: int64"
      ]
     },
     "execution_count": 163,
     "metadata": {},
     "output_type": "execute_result"
    }
   ],
   "source": [
    "df_copy_20151['p3h'] = df_copy_20151['p3h'].astype('int64')\n",
    "df_copy_20151.p3h.value_counts()"
   ]
  },
  {
   "cell_type": "markdown",
   "metadata": {},
   "source": [
    "## ¿En su empleo... Pertenece a algún sindicato? (p3i)\n",
    "\n",
    "1 Si\n",
    "2 No \n",
    "99 No sabe\n",
    "\n"
   ]
  },
  {
   "cell_type": "code",
   "execution_count": 164,
   "metadata": {},
   "outputs": [],
   "source": [
    "df_copy_20151['p3i'].replace(to_replace=['9', '99'],value='99',inplace=True)"
   ]
  },
  {
   "cell_type": "code",
   "execution_count": 165,
   "metadata": {},
   "outputs": [],
   "source": [
    "df_copy_20151['p3i'].replace(to_replace=[' ', '99'],value='99',inplace=True)"
   ]
  },
  {
   "cell_type": "code",
   "execution_count": 166,
   "metadata": {},
   "outputs": [
    {
     "data": {
      "text/plain": [
       "99    644689\n",
       "2     216068\n",
       "1     187818\n",
       "Name: p3i, dtype: int64"
      ]
     },
     "execution_count": 166,
     "metadata": {},
     "output_type": "execute_result"
    }
   ],
   "source": [
    "df_copy_20151['p3i'] = df_copy_20151['p3i'].astype('int64')\n",
    "df_copy_20151.p3i.value_counts()"
   ]
  },
  {
   "cell_type": "markdown",
   "metadata": {},
   "source": [
    "##  ¿En su empleo... cuenta con un contrato por escrito?(p3j) \n",
    "1 Si\n",
    "2 No\n",
    "99 No sabe\n"
   ]
  },
  {
   "cell_type": "code",
   "execution_count": 167,
   "metadata": {},
   "outputs": [],
   "source": [
    "df_copy_20151['p3j'].replace(to_replace=[' ', '99'],value='99',inplace=True)"
   ]
  },
  {
   "cell_type": "code",
   "execution_count": 168,
   "metadata": {},
   "outputs": [],
   "source": [
    "df_copy_20151['p3j'].replace(to_replace=['9', '99'],value='99',inplace=True)"
   ]
  },
  {
   "cell_type": "code",
   "execution_count": 169,
   "metadata": {},
   "outputs": [
    {
     "data": {
      "text/plain": [
       "99    931870\n",
       "1      65578\n",
       "2      51127\n",
       "Name: p3j, dtype: int64"
      ]
     },
     "execution_count": 169,
     "metadata": {},
     "output_type": "execute_result"
    }
   ],
   "source": [
    "df_copy_20151['p3j'] = df_copy_20151['p3j'].astype('int64')\n",
    "df_copy_20151.p3j.value_counts()"
   ]
  },
  {
   "cell_type": "markdown",
   "metadata": {},
   "source": [
    "## ¿El contrato de .... es ?(p3k1)\n",
    "1 temporal o por obra determinada?\n",
    "2 de base, planta o por tienpo indefinido ?\n",
    "99 No sabe"
   ]
  },
  {
   "cell_type": "code",
   "execution_count": 170,
   "metadata": {},
   "outputs": [],
   "source": [
    "df_copy_20151['p3k1'].replace(to_replace=[' ', '99'],value='99',inplace=True)"
   ]
  },
  {
   "cell_type": "code",
   "execution_count": 171,
   "metadata": {},
   "outputs": [],
   "source": [
    "df_copy_20151['p3k1'].replace(to_replace=['9', '99'],value='99',inplace=True)"
   ]
  },
  {
   "cell_type": "code",
   "execution_count": 172,
   "metadata": {},
   "outputs": [
    {
     "data": {
      "text/plain": [
       "99    983418\n",
       "2      53961\n",
       "1      11196\n",
       "Name: p3k1, dtype: int64"
      ]
     },
     "execution_count": 172,
     "metadata": {},
     "output_type": "execute_result"
    }
   ],
   "source": [
    "df_copy_20151['p3k1'] = df_copy_20151['p3k1'].astype('int64')\n",
    "df_copy_20151.p3k1.value_counts()"
   ]
  },
  {
   "cell_type": "markdown",
   "metadata": {},
   "source": [
    "## Desglose de contrato temporal(p3k2)\n",
    "\n",
    "1 menos de dos meses de dos a seis meses\n",
    "3 más de seis meses hasta  un año\n",
    "4 hasta el término de la obra\n",
    "99 No sabe"
   ]
  },
  {
   "cell_type": "code",
   "execution_count": 173,
   "metadata": {},
   "outputs": [],
   "source": [
    "df_copy_20151['p3k2'].replace(to_replace=[' ', '99'],value='99',inplace=True)"
   ]
  },
  {
   "cell_type": "code",
   "execution_count": 174,
   "metadata": {},
   "outputs": [
    {
     "data": {
      "text/plain": [
       "99    1037379\n",
       "2        4426\n",
       "3        3268\n",
       "4        2035\n",
       "1        1467\n",
       "Name: p3k2, dtype: int64"
      ]
     },
     "execution_count": 174,
     "metadata": {},
     "output_type": "execute_result"
    }
   ],
   "source": [
    "df_copy_20151['p3k2'] = df_copy_20151['p3k2'].astype('int64')\n",
    "df_copy_20151.p3k2.value_counts()"
   ]
  },
  {
   "cell_type": "markdown",
   "metadata": {},
   "source": [
    " # Pregunta 3L: En este trabajo, ¿a ... le dan"
   ]
  },
  {
   "cell_type": "markdown",
   "metadata": {},
   "source": [
    "## Opción 1: aguinaldo ? (p3l1)\n",
    "1 Aguinaldo?\n",
    "99 No sabe"
   ]
  },
  {
   "cell_type": "code",
   "execution_count": 175,
   "metadata": {},
   "outputs": [],
   "source": [
    "df_copy_20151['p3l1'].replace(to_replace=[' ', '99'],value='99',inplace=True)"
   ]
  },
  {
   "cell_type": "code",
   "execution_count": 176,
   "metadata": {},
   "outputs": [
    {
     "data": {
      "text/plain": [
       "99    971973\n",
       "1      76602\n",
       "Name: p3l1, dtype: int64"
      ]
     },
     "execution_count": 176,
     "metadata": {},
     "output_type": "execute_result"
    }
   ],
   "source": [
    "df_copy_20151['p3l1'] = df_copy_20151['p3l1'].astype('int64')\n",
    "df_copy_20151.p3l1.value_counts()"
   ]
  },
  {
   "cell_type": "markdown",
   "metadata": {},
   "source": [
    "## Opción 2: vacaciones con goce de sueldo ? (p3l2)\n",
    "2 vacaciones con goce de sueldo?\n",
    "99 No sabe"
   ]
  },
  {
   "cell_type": "code",
   "execution_count": 177,
   "metadata": {},
   "outputs": [],
   "source": [
    "df_copy_20151['p3l2'].replace(to_replace=[' ', '99'],value='99',inplace=True)"
   ]
  },
  {
   "cell_type": "code",
   "execution_count": 178,
   "metadata": {},
   "outputs": [
    {
     "data": {
      "text/plain": [
       "99    981918\n",
       "2      66657\n",
       "Name: p3l2, dtype: int64"
      ]
     },
     "execution_count": 178,
     "metadata": {},
     "output_type": "execute_result"
    }
   ],
   "source": [
    "df_copy_20151['p3l2'] = df_copy_20151['p3l2'].astype('int64')\n",
    "df_copy_20151.p3l2.value_counts()"
   ]
  },
  {
   "cell_type": "markdown",
   "metadata": {},
   "source": [
    "## Opción 3: reparto de utilidades?(p3l3)\n",
    "3 reparto de utilidades?\n",
    "99 no sabe"
   ]
  },
  {
   "cell_type": "code",
   "execution_count": 179,
   "metadata": {},
   "outputs": [],
   "source": [
    "df_copy_20151['p3l3'].replace(to_replace=[' ', '99'],value='99',inplace=True)"
   ]
  },
  {
   "cell_type": "code",
   "execution_count": 180,
   "metadata": {},
   "outputs": [
    {
     "data": {
      "text/plain": [
       "99    1026614\n",
       "3       21961\n",
       "Name: p3l3, dtype: int64"
      ]
     },
     "execution_count": 180,
     "metadata": {},
     "output_type": "execute_result"
    }
   ],
   "source": [
    "df_copy_20151['p3l3'] = df_copy_20151['p3l3'].astype('int64')\n",
    "df_copy_20151.p3l3.value_counts()"
   ]
  },
  {
   "cell_type": "markdown",
   "metadata": {},
   "source": [
    "## Opción 4: ninguna de las anteriores (p3l4)\n",
    "4 Ninguna de las anteriores\n",
    "99 No sabe"
   ]
  },
  {
   "cell_type": "code",
   "execution_count": 181,
   "metadata": {},
   "outputs": [],
   "source": [
    "df_copy_20151['p3l4'].replace(to_replace=[' ', '99'],value='99',inplace=True)"
   ]
  },
  {
   "cell_type": "code",
   "execution_count": 182,
   "metadata": {},
   "outputs": [
    {
     "data": {
      "text/plain": [
       "99    1046564\n",
       "4        2011\n",
       "Name: p3l4, dtype: int64"
      ]
     },
     "execution_count": 182,
     "metadata": {},
     "output_type": "execute_result"
    }
   ],
   "source": [
    "df_copy_20151['p3l4'] = df_copy_20151['p3l4'].astype('int64')\n",
    "df_copy_20151.p3l4.value_counts()"
   ]
  },
  {
   "cell_type": "markdown",
   "metadata": {},
   "source": [
    "## Opción 5: no le dan nada (p3l5)\n",
    "5 No le dad nada\n",
    "99 No sabe"
   ]
  },
  {
   "cell_type": "code",
   "execution_count": 183,
   "metadata": {},
   "outputs": [],
   "source": [
    "df_copy_20151['p3l5'].replace(to_replace=[' ', '99'],value='99',inplace=True)"
   ]
  },
  {
   "cell_type": "code",
   "execution_count": 184,
   "metadata": {},
   "outputs": [
    {
     "data": {
      "text/plain": [
       "99    1010336\n",
       "5       38239\n",
       "Name: p3l5, dtype: int64"
      ]
     },
     "execution_count": 184,
     "metadata": {},
     "output_type": "execute_result"
    }
   ],
   "source": [
    "df_copy_20151['p3l5'] = df_copy_20151['p3l5'].astype('int64')\n",
    "df_copy_20151.p3l5.value_counts()"
   ]
  },
  {
   "cell_type": "markdown",
   "metadata": {},
   "source": [
    "## Opción 9: nos sabe(p3l9)\n",
    "99 No sabe"
   ]
  },
  {
   "cell_type": "code",
   "execution_count": 185,
   "metadata": {},
   "outputs": [],
   "source": [
    "df_copy_20151['p3l9'].replace(to_replace=[' ', '99'],value='99',inplace=True)"
   ]
  },
  {
   "cell_type": "code",
   "execution_count": 186,
   "metadata": {},
   "outputs": [],
   "source": [
    "df_copy_20151['p3l9'].replace(to_replace=['9', '99'],value='99',inplace=True)"
   ]
  },
  {
   "cell_type": "code",
   "execution_count": 187,
   "metadata": {},
   "outputs": [
    {
     "data": {
      "text/plain": [
       "99    1048575\n",
       "Name: p3l9, dtype: int64"
      ]
     },
     "execution_count": 187,
     "metadata": {},
     "output_type": "execute_result"
    }
   ],
   "source": [
    "df_copy_20151['p3l9'] = df_copy_20151['p3l9'].astype('int64')\n",
    "df_copy_20151.p3l9.value_counts()"
   ]
  },
  {
   "cell_type": "markdown",
   "metadata": {},
   "source": [
    "# Pregunta 3M: En este trabajo, a…le dan, aunque no utilice,"
   ]
  },
  {
   "cell_type": "markdown",
   "metadata": {},
   "source": [
    "## Opción 1: crédito para vivienda (infonavit, fovissste)(p3m1)\n",
    "1 crédito para vivienda (Infonavit,Fovissste)?\n",
    "99 No sabe"
   ]
  },
  {
   "cell_type": "code",
   "execution_count": 188,
   "metadata": {},
   "outputs": [],
   "source": [
    "df_copy_20151['p3m1'].replace(to_replace=[' ', '99'],value='99',inplace=True)"
   ]
  },
  {
   "cell_type": "code",
   "execution_count": 189,
   "metadata": {},
   "outputs": [
    {
     "data": {
      "text/plain": [
       "99    990241\n",
       "1      58334\n",
       "Name: p3m1, dtype: int64"
      ]
     },
     "execution_count": 189,
     "metadata": {},
     "output_type": "execute_result"
    }
   ],
   "source": [
    "df_copy_20151['p3m1'] = df_copy_20151['p3m1'].astype('int64')\n",
    "df_copy_20151.p3m1.value_counts()"
   ]
  },
  {
   "cell_type": "markdown",
   "metadata": {},
   "source": [
    "## Opción 2: guardería? (p3m2)\n",
    "2 guardería?\n",
    "99 No sabe"
   ]
  },
  {
   "cell_type": "code",
   "execution_count": 190,
   "metadata": {},
   "outputs": [],
   "source": [
    "df_copy_20151['p3m2'].replace(to_replace=[' ', '99'],value='99',inplace=True)"
   ]
  },
  {
   "cell_type": "code",
   "execution_count": 191,
   "metadata": {},
   "outputs": [
    {
     "data": {
      "text/plain": [
       "99    1031721\n",
       "2       16854\n",
       "Name: p3m2, dtype: int64"
      ]
     },
     "execution_count": 191,
     "metadata": {},
     "output_type": "execute_result"
    }
   ],
   "source": [
    "df_copy_20151['p3m2'] = df_copy_20151['p3m2'].astype('int64')\n",
    "df_copy_20151.p3m2.value_counts()"
   ]
  },
  {
   "cell_type": "markdown",
   "metadata": {},
   "source": [
    "## tiempo para cuidados maternos o paternos ?(p3m3)\n",
    "3 tiempo para cuidados maternos o paternos?\n",
    "99 No se sabe"
   ]
  },
  {
   "cell_type": "code",
   "execution_count": 192,
   "metadata": {},
   "outputs": [],
   "source": [
    "df_copy_20151['p3m3'].replace(to_replace=[' ', '99'],value='99',inplace=True)"
   ]
  },
  {
   "cell_type": "code",
   "execution_count": 193,
   "metadata": {},
   "outputs": [
    {
     "data": {
      "text/plain": [
       "99    1032632\n",
       "3       15943\n",
       "Name: p3m3, dtype: int64"
      ]
     },
     "execution_count": 193,
     "metadata": {},
     "output_type": "execute_result"
    }
   ],
   "source": [
    "df_copy_20151['p3m3'] = df_copy_20151['p3m3'].astype('int64')\n",
    "df_copy_20151.p3m3.value_counts()"
   ]
  },
  {
   "cell_type": "markdown",
   "metadata": {},
   "source": [
    "## Opción 4: fondo de retiro (SAR o Afore)(p3m4)\n",
    "4 fondo de retiro (SAR o Afore)?\n",
    "99 No sabe"
   ]
  },
  {
   "cell_type": "code",
   "execution_count": 194,
   "metadata": {},
   "outputs": [],
   "source": [
    "df_copy_20151['p3m4'].replace(to_replace=[' ', '99'],value='99',inplace=True)"
   ]
  },
  {
   "cell_type": "code",
   "execution_count": 195,
   "metadata": {},
   "outputs": [
    {
     "data": {
      "text/plain": [
       "99    990070\n",
       "4      58505\n",
       "Name: p3m4, dtype: int64"
      ]
     },
     "execution_count": 195,
     "metadata": {},
     "output_type": "execute_result"
    }
   ],
   "source": [
    "df_copy_20151['p3m4'] = df_copy_20151['p3m4'].astype('int64')\n",
    "df_copy_20151.p3m4.value_counts()"
   ]
  },
  {
   "cell_type": "markdown",
   "metadata": {},
   "source": [
    "## Opción 5: seguro de vida? (p3m5)\n",
    "5 seguro de vida?\n",
    "99 No sabe"
   ]
  },
  {
   "cell_type": "code",
   "execution_count": 196,
   "metadata": {},
   "outputs": [],
   "source": [
    "df_copy_20151['p3m5'].replace(to_replace=[' ', '99'],value='99',inplace=True)"
   ]
  },
  {
   "cell_type": "code",
   "execution_count": 197,
   "metadata": {},
   "outputs": [
    {
     "data": {
      "text/plain": [
       "99    1023520\n",
       "5       25055\n",
       "Name: p3m5, dtype: int64"
      ]
     },
     "execution_count": 197,
     "metadata": {},
     "output_type": "execute_result"
    }
   ],
   "source": [
    "df_copy_20151['p3m5'] = df_copy_20151['p3m5'].astype('int64')\n",
    "df_copy_20151.p3m5.value_counts()"
   ]
  },
  {
   "cell_type": "markdown",
   "metadata": {},
   "source": [
    "## Opción 6: seguro privado para gastos médicos ?(p3m6)\n",
    "6 seguro privado para gastos médicos?\n",
    "99 No sabe"
   ]
  },
  {
   "cell_type": "code",
   "execution_count": 198,
   "metadata": {},
   "outputs": [],
   "source": [
    "df_copy_20151['p3m6'].replace(to_replace=[' ', '99'],value='99',inplace=True)"
   ]
  },
  {
   "cell_type": "code",
   "execution_count": 199,
   "metadata": {},
   "outputs": [
    {
     "data": {
      "text/plain": [
       "99    1044336\n",
       "6        4239\n",
       "Name: p3m6, dtype: int64"
      ]
     },
     "execution_count": 199,
     "metadata": {},
     "output_type": "execute_result"
    }
   ],
   "source": [
    "df_copy_20151['p3m6'] = df_copy_20151['p3m6'].astype('int64')\n",
    "df_copy_20151.p3m6.value_counts()"
   ]
  },
  {
   "cell_type": "markdown",
   "metadata": {},
   "source": [
    "## Opción 7: préstamos personales y/o caja de ahorro? (p3m7)\n",
    "7 préstamos personales y/o caja de ahorro?\n",
    "99 No sabe"
   ]
  },
  {
   "cell_type": "code",
   "execution_count": 200,
   "metadata": {},
   "outputs": [],
   "source": [
    "df_copy_20151['p3m7'].replace(to_replace=[' ', '99'],value='99',inplace=True)"
   ]
  },
  {
   "cell_type": "code",
   "execution_count": 201,
   "metadata": {},
   "outputs": [
    {
     "data": {
      "text/plain": [
       "99    1015939\n",
       "7       32636\n",
       "Name: p3m7, dtype: int64"
      ]
     },
     "execution_count": 201,
     "metadata": {},
     "output_type": "execute_result"
    }
   ],
   "source": [
    "df_copy_20151['p3m7'] = df_copy_20151['p3m7'].astype('int64')\n",
    "df_copy_20151.p3m7.value_counts()"
   ]
  },
  {
   "cell_type": "markdown",
   "metadata": {},
   "source": [
    "## Opción 8: ninguna de las anteriores (p3m8)\n",
    "8 Ninguna de las anteriores\n",
    "99 No sabe"
   ]
  },
  {
   "cell_type": "code",
   "execution_count": 202,
   "metadata": {},
   "outputs": [],
   "source": [
    "df_copy_20151['p3m8'].replace(to_replace=[' ', '99'],value='99',inplace=True)"
   ]
  },
  {
   "cell_type": "code",
   "execution_count": 203,
   "metadata": {},
   "outputs": [
    {
     "data": {
      "text/plain": [
       "99    1034801\n",
       "8       13774\n",
       "Name: p3m8, dtype: int64"
      ]
     },
     "execution_count": 203,
     "metadata": {},
     "output_type": "execute_result"
    }
   ],
   "source": [
    "df_copy_20151['p3m8'] = df_copy_20151['p3m8'].astype('int64')\n",
    "df_copy_20151.p3m8.value_counts()"
   ]
  },
  {
   "cell_type": "markdown",
   "metadata": {},
   "source": [
    "## Opción 9: no sabe(p3m9)\n",
    "99 No sabe"
   ]
  },
  {
   "cell_type": "code",
   "execution_count": 204,
   "metadata": {},
   "outputs": [],
   "source": [
    "df_copy_20151['p3m9'].replace(to_replace=[' ', '99'],value='99',inplace=True)"
   ]
  },
  {
   "cell_type": "code",
   "execution_count": 205,
   "metadata": {},
   "outputs": [],
   "source": [
    "df_copy_20151['p3m9'].replace(to_replace=['9', '99'],value='99',inplace=True)"
   ]
  },
  {
   "cell_type": "code",
   "execution_count": 206,
   "metadata": {},
   "outputs": [
    {
     "data": {
      "text/plain": [
       "99    1048575\n",
       "Name: p3m9, dtype: int64"
      ]
     },
     "execution_count": 206,
     "metadata": {},
     "output_type": "execute_result"
    }
   ],
   "source": [
    "df_copy_20151['p3m9'] = df_copy_20151['p3m9'].astype('int64')\n",
    "df_copy_20151.p3m9.value_counts()"
   ]
  },
  {
   "cell_type": "markdown",
   "metadata": {},
   "source": [
    "## ¿Cómo se enteró... de este empleo ? (p3n)\n",
    "1 Acudió directamente al lugar de trabajo(fábrica, tienda,taller)\n",
    "2 Acudió a una agencia o bolsa de trabajo privada\n",
    "3 Acudió a un servicio público de colocación\n",
    "4 Por medio de un programa de empleo temporal del gobierno (federal, estatal y/o municipal)\n",
    "5 Acudió a un sindicato o gremio\n",
    "6 Por internet\n",
    "7 Por medio de un anuncio en un lugar público o en  medios de comunicación (periódico, radio)\n",
    "8 Por medio de un familiar, amigo o conocido\n",
    "9 Le ofrecieron el empleo\n",
    "10 Otro medio\n",
    "99 No sabe\n"
   ]
  },
  {
   "cell_type": "code",
   "execution_count": 207,
   "metadata": {},
   "outputs": [
    {
     "data": {
      "text/plain": [
       "99    932983\n",
       "8      64205\n",
       "1      21914\n",
       "9      12752\n",
       "7      10846\n",
       "6       3080\n",
       "5       1292\n",
       "10       761\n",
       "2        302\n",
       "3        224\n",
       "4        216\n",
       "Name: p3n, dtype: int64"
      ]
     },
     "execution_count": 207,
     "metadata": {},
     "output_type": "execute_result"
    }
   ],
   "source": [
    "df_copy_20151['p3n'] = df_copy_20151['p3n'].astype('int64')\n",
    "df_copy_20151.p3n.value_counts()"
   ]
  },
  {
   "cell_type": "markdown",
   "metadata": {},
   "source": [
    "## Para conseguir o conservar este trabajo, ¿... se vio obligado a cambiar de ciudad o localidad? (p3o)\n",
    "1 Sí\n",
    "2 No\n",
    "99 No sabe"
   ]
  },
  {
   "cell_type": "code",
   "execution_count": 208,
   "metadata": {},
   "outputs": [],
   "source": [
    "df_copy_20151['p3o'].replace(to_replace=[' ', '99'],value='99',inplace=True)"
   ]
  },
  {
   "cell_type": "code",
   "execution_count": 209,
   "metadata": {},
   "outputs": [
    {
     "data": {
      "text/plain": [
       "99    930327\n",
       "2     115735\n",
       "1       2513\n",
       "Name: p3o, dtype: int64"
      ]
     },
     "execution_count": 209,
     "metadata": {},
     "output_type": "execute_result"
    }
   ],
   "source": [
    "df_copy_20151['p3o'] = df_copy_20151['p3o'].astype('int64')\n",
    "df_copy_20151.p3o.value_counts()"
   ]
  },
  {
   "cell_type": "markdown",
   "metadata": {},
   "source": [
    "## Antes de este cambio, ¿en qué estado de la República o país vivía...?(p3p1)\n",
    "1 En el mismo estado\n",
    "2 En otro estado\n",
    "3 En otro país\n",
    "99 No sabe"
   ]
  },
  {
   "cell_type": "code",
   "execution_count": 210,
   "metadata": {},
   "outputs": [],
   "source": [
    "df_copy_20151['p3p1'].replace(to_replace=['9', '99'],value='99',inplace=True)"
   ]
  },
  {
   "cell_type": "code",
   "execution_count": 211,
   "metadata": {},
   "outputs": [],
   "source": [
    "df_copy_20151['p3p1'].replace(to_replace=[' ', '99'],value='99',inplace=True)"
   ]
  },
  {
   "cell_type": "code",
   "execution_count": 212,
   "metadata": {},
   "outputs": [
    {
     "data": {
      "text/plain": [
       "99    1046065\n",
       "2        1273\n",
       "1        1183\n",
       "3          54\n",
       "Name: p3p1, dtype: int64"
      ]
     },
     "execution_count": 212,
     "metadata": {},
     "output_type": "execute_result"
    }
   ],
   "source": [
    "df_copy_20151['p3p1'] = df_copy_20151['p3p1'].astype('int64')\n",
    "df_copy_20151.p3p1.value_counts()"
   ]
  },
  {
   "cell_type": "markdown",
   "metadata": {},
   "source": [
    "## * Clave asignada a la descripción del lugar de residencia (p3p2)"
   ]
  },
  {
   "cell_type": "code",
   "execution_count": 213,
   "metadata": {
    "scrolled": true
   },
   "outputs": [
    {
     "data": {
      "text/plain": [
       "99     1046062\n",
       "30         196\n",
       "9          149\n",
       "20         129\n",
       "32         121\n",
       "14         117\n",
       "27         111\n",
       "3          106\n",
       "25         105\n",
       "26         102\n",
       "23          96\n",
       "15          89\n",
       "28          88\n",
       "7           87\n",
       "10          86\n",
       "18          78\n",
       "24          78\n",
       "5           76\n",
       "31          72\n",
       "21          66\n",
       "12          64\n",
       "16          59\n",
       "19          58\n",
       "13          50\n",
       "11          50\n",
       "4           47\n",
       "8           36\n",
       "2           28\n",
       "221         27\n",
       "29          25\n",
       "6           25\n",
       "22          21\n",
       "17          20\n",
       "1           19\n",
       "200         13\n",
       "300         10\n",
       "225          3\n",
       "400          3\n",
       "33           2\n",
       "600          1\n",
       "Name: p3p2, dtype: int64"
      ]
     },
     "execution_count": 213,
     "metadata": {},
     "output_type": "execute_result"
    }
   ],
   "source": [
    "df_copy_20151['p3p2'] = df_copy_20151['p3p2'].astype('int64')\n",
    "df_copy_20151.p3p2.value_counts()"
   ]
  },
  {
   "cell_type": "markdown",
   "metadata": {},
   "source": [
    "## ¿Aprosimadamente, cuantas personas, incluyendo al dueño, laboran donde trabaja...?(p3q)\n",
    "1  1 persona\n",
    "2  2 a 5 personas\n",
    "3  6 a 10 personas\n",
    "4  11 a 15 personas\n",
    "5 16 a 20 personas\n",
    "6 21 a 30 personas\n",
    "7 31 a 50 personas\n",
    "8 51 a 100 personas\n",
    "9 101 a 250 personas\n",
    "0 251 a 500 personas\n",
    "11 501 y más personas\n",
    "99 No sabe"
   ]
  },
  {
   "cell_type": "code",
   "execution_count": 214,
   "metadata": {
    "scrolled": false
   },
   "outputs": [
    {
     "data": {
      "text/plain": [
       "99    931822\n",
       "2      37039\n",
       "11     18989\n",
       "3      12069\n",
       "8       8171\n",
       "9       7097\n",
       "7       6450\n",
       "5       5916\n",
       "4       5864\n",
       "6       5668\n",
       "1       4914\n",
       "10      4576\n",
       "Name: p3q, dtype: int64"
      ]
     },
     "execution_count": 214,
     "metadata": {},
     "output_type": "execute_result"
    }
   ],
   "source": [
    "df_copy_20151['p3q'] = df_copy_20151['p3q'].astype('int')\n",
    "df_copy_20151.p3q.value_counts()"
   ]
  },
  {
   "cell_type": "markdown",
   "metadata": {},
   "source": [
    "## * ¿En que año... entro a trabajar por primera para su actual empresa, institución o patrón (subordinados) comenzó o se hizo cargo de su actual  negocio (o  actividad) [independientes]  (p3r_anio)\n",
    "\n",
    "1900-año actual Año en pregunta 3r\n",
    "9999 No sabe"
   ]
  },
  {
   "cell_type": "code",
   "execution_count": 215,
   "metadata": {},
   "outputs": [],
   "source": [
    "df_copy_20151['p3r_anio'].replace(to_replace=['0','9999'],value='9999',inplace=True)"
   ]
  },
  {
   "cell_type": "code",
   "execution_count": 216,
   "metadata": {
    "scrolled": false
   },
   "outputs": [
    {
     "data": {
      "text/plain": [
       "99      881542\n",
       "2016     29049\n",
       "2015     17548\n",
       "2014     14142\n",
       "2013     10699\n",
       "2017     10344\n",
       "2012      9221\n",
       "2010      7806\n",
       "2011      6553\n",
       "2006      5325\n",
       "2007      5130\n",
       "2000      4942\n",
       "2008      4120\n",
       "2009      3892\n",
       "2002      3153\n",
       "1996      2891\n",
       "1997      2883\n",
       "2001      2693\n",
       "2005      2490\n",
       "1990      1958\n",
       "2004      1904\n",
       "2003      1552\n",
       "1998      1411\n",
       "1987      1403\n",
       "1999      1340\n",
       "1992      1326\n",
       "1986      1325\n",
       "1995      1304\n",
       "1991      1099\n",
       "1994       864\n",
       "         ...  \n",
       "1973        99\n",
       "1971        98\n",
       "1968        82\n",
       "1965        79\n",
       "1969        60\n",
       "1957        41\n",
       "1962        40\n",
       "1963        36\n",
       "1964        29\n",
       "1956        28\n",
       "1958        26\n",
       "1955        24\n",
       "1950        23\n",
       "1959        21\n",
       "1961        20\n",
       "1953        12\n",
       "1954        11\n",
       "1948         8\n",
       "1946         7\n",
       "1945         6\n",
       "1951         6\n",
       "1952         5\n",
       "1942         3\n",
       "1949         2\n",
       "1940         2\n",
       "1937         2\n",
       "1947         1\n",
       "1944         1\n",
       "1943         1\n",
       "1941         1\n",
       "Name: p3r_anio, Length: 81, dtype: int64"
      ]
     },
     "execution_count": 216,
     "metadata": {},
     "output_type": "execute_result"
    }
   ],
   "source": [
    "df_copy_20151['p3r_anio'] = df_copy_20151['p3r_anio'].astype('int64')\n",
    "df_copy_20151.p3r_anio.value_counts()"
   ]
  },
  {
   "cell_type": "markdown",
   "metadata": {},
   "source": [
    "## mes (p3r_mes)\n",
    "1 Enero\n",
    "2 Febrero\n",
    "3 Marzo\n",
    "4 Abril\n",
    "5 Mayo\n",
    "6 Junio\n",
    "7 Julio\n",
    "8 Agosto\n",
    "9 Septiembre\n",
    "10 Octubre\n",
    "11 Noviembre\n",
    "12 Diciembre\n",
    "99 No sabe mes que inició\n",
    " trabajo"
   ]
  },
  {
   "cell_type": "code",
   "execution_count": 217,
   "metadata": {},
   "outputs": [],
   "source": [
    "df_copy_20151['p3r_mes'].replace(to_replace=['0', '99'],value='99',inplace=True)"
   ]
  },
  {
   "cell_type": "code",
   "execution_count": 218,
   "metadata": {},
   "outputs": [
    {
     "data": {
      "text/plain": [
       "99    1009594\n",
       "1        9943\n",
       "2        4913\n",
       "12       3313\n",
       "11       3214\n",
       "8        3174\n",
       "10       2924\n",
       "9        2774\n",
       "3        2391\n",
       "6        2290\n",
       "7        1752\n",
       "5        1232\n",
       "4        1061\n",
       "Name: p3r_mes, dtype: int64"
      ]
     },
     "execution_count": 218,
     "metadata": {},
     "output_type": "execute_result"
    }
   ],
   "source": [
    "df_copy_20151['p3r_mes'] = df_copy_20151['p3r_mes'].astype('int64')\n",
    "df_copy_20151.p3r_mes.value_counts()"
   ]
  },
  {
   "cell_type": "markdown",
   "metadata": {},
   "source": [
    "## Año(p3r)\n",
    "1 El año en curso\n",
    "2 El año pasado\n",
    "3 Antes del año pasado\n",
    "99 No sabe"
   ]
  },
  {
   "cell_type": "code",
   "execution_count": 219,
   "metadata": {},
   "outputs": [],
   "source": [
    "df_copy_20151['p3r'].replace(to_replace=[' ', '99'],value='99',inplace=True)"
   ]
  },
  {
   "cell_type": "code",
   "execution_count": 220,
   "metadata": {},
   "outputs": [],
   "source": [
    "df_copy_20151['p3r'].replace(to_replace=['9', '99'],value='99',inplace=True)"
   ]
  },
  {
   "cell_type": "code",
   "execution_count": 221,
   "metadata": {},
   "outputs": [
    {
     "data": {
      "text/plain": [
       "99    882298\n",
       "3     126884\n",
       "2      29049\n",
       "1      10344\n",
       "Name: p3r, dtype: int64"
      ]
     },
     "execution_count": 221,
     "metadata": {},
     "output_type": "execute_result"
    }
   ],
   "source": [
    "df_copy_20151['p3r'] = df_copy_20151['p3r'].astype('int64')\n",
    "df_copy_20151.p3r.value_counts()"
   ]
  },
  {
   "cell_type": "markdown",
   "metadata": {},
   "source": [
    "##  ¿Desde entonces... ha trabajado todos los años para su actual empresa,  institución o patrón  (subordinados) ha  trabajado en todos  estos años en su  actual negocio (o  actividad)  [Independientes] (p3s)\n",
    "1 Sí \n",
    "2 No\n",
    "99 No sabe"
   ]
  },
  {
   "cell_type": "code",
   "execution_count": 222,
   "metadata": {},
   "outputs": [],
   "source": [
    "df_copy_20151['p3s'].replace(to_replace=[' ', '99'],value='99',inplace=True)"
   ]
  },
  {
   "cell_type": "code",
   "execution_count": 223,
   "metadata": {},
   "outputs": [
    {
     "data": {
      "text/plain": [
       "99    921691\n",
       "1     125681\n",
       "2       1180\n",
       "9         23\n",
       "Name: p3s, dtype: int64"
      ]
     },
     "execution_count": 223,
     "metadata": {},
     "output_type": "execute_result"
    }
   ],
   "source": [
    "df_copy_20151['p3s'] = df_copy_20151['p3s'].astype('int64')\n",
    "df_copy_20151.p3s.value_counts()"
   ]
  },
  {
   "cell_type": "markdown",
   "metadata": {},
   "source": [
    "##  ¿En qué año … regresó a trabajar  (subordinados)  reinició su actual  negocio (o actividad) [independientes] (p3t_anio)\n",
    "1900-año actual Año en pregunta 3t\n",
    "9999 No sabe\n",
    " "
   ]
  },
  {
   "cell_type": "code",
   "execution_count": 224,
   "metadata": {},
   "outputs": [],
   "source": [
    "df_copy_20151['p3t_anio'].replace(to_replace=[' ', '9999'],value='9999',inplace=True)"
   ]
  },
  {
   "cell_type": "code",
   "execution_count": 225,
   "metadata": {},
   "outputs": [
    {
     "data": {
      "text/plain": [
       "99      1047394\n",
       "2016        424\n",
       "2017        177\n",
       "2015        107\n",
       "2014         94\n",
       "2013         61\n",
       "2012         47\n",
       "2010         36\n",
       "2011         31\n",
       "2007         28\n",
       "2009         25\n",
       "2008         16\n",
       "2006         14\n",
       "2001         13\n",
       "2003         12\n",
       "2005         11\n",
       "2002         10\n",
       "2004          9\n",
       "1998          8\n",
       "2000          8\n",
       "9999          7\n",
       "1999          6\n",
       "1990          4\n",
       "1997          4\n",
       "1996          4\n",
       "1992          3\n",
       "1987          3\n",
       "1995          3\n",
       "1991          2\n",
       "1989          2\n",
       "1984          2\n",
       "1983          2\n",
       "1986          2\n",
       "1993          1\n",
       "1985          1\n",
       "1980          1\n",
       "1975          1\n",
       "1974          1\n",
       "1961          1\n",
       "Name: p3t_anio, dtype: int64"
      ]
     },
     "execution_count": 225,
     "metadata": {},
     "output_type": "execute_result"
    }
   ],
   "source": [
    "df_copy_20151['p3t_anio'] = df_copy_20151['p3t_anio'].astype('int64')\n",
    "df_copy_20151.p3t_anio.value_counts()"
   ]
  },
  {
   "cell_type": "markdown",
   "metadata": {},
   "source": [
    "## Mes (p3t_mes)\n",
    "1 Enero\n",
    "2 Febrero\n",
    "3 Marzo\n",
    "4 Abril\n",
    "5 Mayo\n",
    "6 Junio\n",
    "7 Julio\n",
    "8 Agosto\n",
    "9 Septiembre\n",
    "10 Octubre\n",
    "11 Noviembre\n",
    "12 Diciembre\n",
    "99 No sabe"
   ]
  },
  {
   "cell_type": "code",
   "execution_count": 226,
   "metadata": {},
   "outputs": [],
   "source": [
    "df_copy_20151['p3t_mes'].replace(to_replace=['0', '99'],value='99',inplace=True)"
   ]
  },
  {
   "cell_type": "code",
   "execution_count": 227,
   "metadata": {},
   "outputs": [
    {
     "data": {
      "text/plain": [
       "99    1047980\n",
       "1         150\n",
       "12         82\n",
       "11         65\n",
       "2          60\n",
       "10         49\n",
       "8          37\n",
       "9          36\n",
       "3          32\n",
       "7          26\n",
       "5          24\n",
       "6          23\n",
       "4          11\n",
       "Name: p3t_mes, dtype: int64"
      ]
     },
     "execution_count": 227,
     "metadata": {},
     "output_type": "execute_result"
    }
   ],
   "source": [
    "df_copy_20151['p3t_mes'] = df_copy_20151['p3t_mes'].astype('int64')\n",
    "df_copy_20151.p3t_mes.value_counts()"
   ]
  },
  {
   "cell_type": "markdown",
   "metadata": {},
   "source": [
    "## ¿Cuál es el nombre de la empresa, negocio o institución para la que ... trabaja o ayuda?(p4)\n",
    "1 Nombre de la empresa\n",
    "2 El negocio no tiene nombre\n",
    "3 El trabajador (subordinado) de una  unidad doméstica o trabajador de otro trabajador (a) trabajador(a)\n",
    "4 Es un(a) trabajador(a) en el extranjero\n",
    "99 No sabe"
   ]
  },
  {
   "cell_type": "code",
   "execution_count": 228,
   "metadata": {},
   "outputs": [],
   "source": [
    "df_copy_20151['p4'].replace(to_replace=[' ', '99'],value='99',inplace=True)"
   ]
  },
  {
   "cell_type": "code",
   "execution_count": 229,
   "metadata": {},
   "outputs": [],
   "source": [
    "df_copy_20151['p4'].replace(to_replace=['9', '99'],value='99',inplace=True)"
   ]
  },
  {
   "cell_type": "code",
   "execution_count": 230,
   "metadata": {},
   "outputs": [
    {
     "data": {
      "text/plain": [
       "99    881642\n",
       "1     103316\n",
       "2      55309\n",
       "3       7948\n",
       "4        360\n",
       "Name: p4, dtype: int64"
      ]
     },
     "execution_count": 230,
     "metadata": {},
     "output_type": "execute_result"
    }
   ],
   "source": [
    "df_copy_20151['p4'] = df_copy_20151['p4'].astype('int64')\n",
    "df_copy_20151.p4.value_counts()"
   ]
  },
  {
   "cell_type": "markdown",
   "metadata": {},
   "source": [
    "## *Campo exclusivo del sistema (p4_1)\n",
    "1-2, blanco Campo exlusivo del sistema\n"
   ]
  },
  {
   "cell_type": "code",
   "execution_count": 231,
   "metadata": {},
   "outputs": [],
   "source": [
    "df_copy_20151['p4_1'].replace(to_replace=[' ', '99'],value='99',inplace=True)"
   ]
  },
  {
   "cell_type": "code",
   "execution_count": 232,
   "metadata": {},
   "outputs": [],
   "source": [
    "df_copy_20151['p4_1'].replace(to_replace=['9', '99'],value='99',inplace=True)"
   ]
  },
  {
   "cell_type": "code",
   "execution_count": 233,
   "metadata": {},
   "outputs": [
    {
     "data": {
      "text/plain": [
       "99    1023843\n",
       "1       19987\n",
       "2        4745\n",
       "Name: p4_1, dtype: int64"
      ]
     },
     "execution_count": 233,
     "metadata": {},
     "output_type": "execute_result"
    }
   ],
   "source": [
    "df_copy_20151['p4_1'] = df_copy_20151['p4_1'].astype('int64')\n",
    "df_copy_20151.p4_1.value_counts()"
   ]
  },
  {
   "cell_type": "markdown",
   "metadata": {},
   "source": [
    "## Campo exclusivo del sistema (p4_2)\n",
    "1-9, blanco Campo exclusivo del sistema"
   ]
  },
  {
   "cell_type": "code",
   "execution_count": 234,
   "metadata": {},
   "outputs": [],
   "source": [
    "df_copy_20151['p4_2'].replace(to_replace=[' ', '99'],value='99',inplace=True)"
   ]
  },
  {
   "cell_type": "code",
   "execution_count": 235,
   "metadata": {},
   "outputs": [
    {
     "data": {
      "text/plain": [
       "99    1023840\n",
       "3        9911\n",
       "5        4432\n",
       "6        2994\n",
       "1        2881\n",
       "4        2311\n",
       "2        2045\n",
       "7         144\n",
       "9           9\n",
       "8           8\n",
       "Name: p4_2, dtype: int64"
      ]
     },
     "execution_count": 235,
     "metadata": {},
     "output_type": "execute_result"
    }
   ],
   "source": [
    "df_copy_20151['p4_2'] = df_copy_20151['p4_2'].astype('int64')\n",
    "df_copy_20151.p4_2.value_counts()"
   ]
  },
  {
   "cell_type": "markdown",
   "metadata": {},
   "source": [
    "## Campo exclusivo del sistema (p4_3)\n",
    "1-2, blanco Campo exclusivo del sistema "
   ]
  },
  {
   "cell_type": "code",
   "execution_count": 236,
   "metadata": {},
   "outputs": [],
   "source": [
    "df_copy_20151['p4_3'].replace(to_replace=[' ', '99'],value='99',inplace=True)"
   ]
  },
  {
   "cell_type": "code",
   "execution_count": 237,
   "metadata": {},
   "outputs": [
    {
     "data": {
      "text/plain": [
       "99    1000419\n",
       "2       47624\n",
       "1         532\n",
       "Name: p4_3, dtype: int64"
      ]
     },
     "execution_count": 237,
     "metadata": {},
     "output_type": "execute_result"
    }
   ],
   "source": [
    "df_copy_20151['p4_3'] = df_copy_20151['p4_3'].astype('int64')\n",
    "df_copy_20151.p4_3.value_counts()"
   ]
  },
  {
   "cell_type": "markdown",
   "metadata": {},
   "source": [
    "## * ¿A qué se dedica esta empresa, negocio o institución?(p4a)\n"
   ]
  },
  {
   "cell_type": "code",
   "execution_count": 238,
   "metadata": {
    "scrolled": true
   },
   "outputs": [
    {
     "data": {
      "text/plain": [
       "99      881542\n",
       "1110     11992\n",
       "7221     10513\n",
       "4611      7997\n",
       "8140      7580\n",
       "2382      6166\n",
       "6112      5777\n",
       "3110      5625\n",
       "2361      5542\n",
       "4850      4325\n",
       "3360      4249\n",
       "9313      3975\n",
       "5411      3754\n",
       "8111      3488\n",
       "4620      3338\n",
       "9314      2709\n",
       "4631      2578\n",
       "8121      2542\n",
       "6222      2517\n",
       "4681      2316\n",
       "9312      2154\n",
       "3320      2106\n",
       "1121      2071\n",
       "3150      2013\n",
       "4661      1993\n",
       "8112      1959\n",
       "4310      1909\n",
       "4651      1874\n",
       "7210      1754\n",
       "4340      1737\n",
       "         ...  \n",
       "6241        32\n",
       "6232        31\n",
       "7132        29\n",
       "4882        28\n",
       "3399        26\n",
       "5223        26\n",
       "2131        26\n",
       "2222        18\n",
       "8125        16\n",
       "5180        13\n",
       "4699         9\n",
       "6150         9\n",
       "4399         8\n",
       "4860         4\n",
       "9320         4\n",
       "6121         4\n",
       "5330         3\n",
       "6199         3\n",
       "8124         3\n",
       "1142         3\n",
       "9399         2\n",
       "5612         2\n",
       "7133         2\n",
       "5210         2\n",
       "7115         2\n",
       "5299         1\n",
       "2199         1\n",
       "9319         1\n",
       "6149         1\n",
       "6229         1\n",
       "Name: p4a, Length: 165, dtype: int64"
      ]
     },
     "execution_count": 238,
     "metadata": {},
     "output_type": "execute_result"
    }
   ],
   "source": [
    "df_copy_20151['p4a'] = df_copy_20151['p4a'].astype('int64')\n",
    "df_copy_20151.p4a.value_counts()"
   ]
  },
  {
   "cell_type": "markdown",
   "metadata": {},
   "source": [
    "## (p4a_1)"
   ]
  },
  {
   "cell_type": "code",
   "execution_count": 239,
   "metadata": {},
   "outputs": [],
   "source": [
    "df_copy_20151['p4a_1'].replace(to_replace=[' ', '99'],value='99',inplace=True)"
   ]
  },
  {
   "cell_type": "code",
   "execution_count": 240,
   "metadata": {},
   "outputs": [
    {
     "data": {
      "text/plain": [
       "99    881542\n",
       "1     167016\n",
       "2         17\n",
       "Name: p4a_1, dtype: int64"
      ]
     },
     "execution_count": 240,
     "metadata": {},
     "output_type": "execute_result"
    }
   ],
   "source": [
    "df_copy_20151['p4a_1'] = df_copy_20151['p4a_1'].astype('int64')\n",
    "df_copy_20151.p4a_1.value_counts()"
   ]
  },
  {
   "cell_type": "markdown",
   "metadata": {},
   "source": [
    "## ** SÓLO PARA EL  ENTREVISTADOR( p4b)\n",
    "\n",
    "1 Es una actividad  agropecuaria\n",
    " 2 Es una institución educativa u hospital\n",
    " 3 Es una institución pública o una sin fines de lucro\n",
    " 4 Se trata de una actividad o negocio del sector privado\n",
    " 5 Aún no se puede  determinar "
   ]
  },
  {
   "cell_type": "code",
   "execution_count": 241,
   "metadata": {},
   "outputs": [],
   "source": [
    "df_copy_20151['p4b'].replace(to_replace=[' ', '99'],value='99',inplace=True)"
   ]
  },
  {
   "cell_type": "code",
   "execution_count": 242,
   "metadata": {},
   "outputs": [
    {
     "data": {
      "text/plain": [
       "99    889850\n",
       "4     119985\n",
       "1      14063\n",
       "3      12431\n",
       "2      12234\n",
       "5         12\n",
       "Name: p4b, dtype: int64"
      ]
     },
     "execution_count": 242,
     "metadata": {},
     "output_type": "execute_result"
    }
   ],
   "source": [
    "df_copy_20151['p4b'] = df_copy_20151['p4b'].astype('int64')\n",
    "df_copy_20151.p4b.value_counts()"
   ]
  },
  {
   "cell_type": "markdown",
   "metadata": {},
   "source": [
    "## Entonces ,¿estamos hablando de que este negocio es ?(p4c)\n",
    "1 de tipo independiente personal o familiar?\n",
    "2 una compañía o empresa del sector privado (sociedad mercantil:anónima o bajo otra modalidad; transnacional, cadena comercial,bancaria o de servicios)?\n",
    " 3 Ninguno de los anteriores\n",
    " 99 No sabe"
   ]
  },
  {
   "cell_type": "code",
   "execution_count": 243,
   "metadata": {},
   "outputs": [],
   "source": [
    "df_copy_20151['p4c'].replace(to_replace=[' ', '99'],value='99',inplace=True)"
   ]
  },
  {
   "cell_type": "code",
   "execution_count": 244,
   "metadata": {},
   "outputs": [
    {
     "data": {
      "text/plain": [
       "99    928578\n",
       "1      75405\n",
       "2      44579\n",
       "3         13\n",
       "Name: p4c, dtype: int64"
      ]
     },
     "execution_count": 244,
     "metadata": {},
     "output_type": "execute_result"
    }
   ],
   "source": [
    "df_copy_20151['p4c'] = df_copy_20151['p4c'].astype('int64')\n",
    "df_copy_20151.p4c.value_counts()"
   ]
  },
  {
   "cell_type": "markdown",
   "metadata": {},
   "source": [
    "##  Entonces,¿... trabaja para (p4d1)\n",
    "1 una institución de gobierno?\n",
    "2 una institución no administrada por el gobierno?\n",
    "99 No sabe"
   ]
  },
  {
   "cell_type": "code",
   "execution_count": 245,
   "metadata": {},
   "outputs": [],
   "source": [
    "df_copy_20151['p4d1'].replace(to_replace=[' ', '99'],value='99',inplace=True)"
   ]
  },
  {
   "cell_type": "code",
   "execution_count": 246,
   "metadata": {},
   "outputs": [],
   "source": [
    "df_copy_20151['p4d1'].replace(to_replace=['9', '99'],value='99',inplace=True)"
   ]
  },
  {
   "cell_type": "code",
   "execution_count": 247,
   "metadata": {},
   "outputs": [
    {
     "data": {
      "text/plain": [
       "99    1023906\n",
       "1       19957\n",
       "2        4712\n",
       "Name: p4d1, dtype: int64"
      ]
     },
     "execution_count": 247,
     "metadata": {},
     "output_type": "execute_result"
    }
   ],
   "source": [
    "df_copy_20151['p4d1'] = df_copy_20151['p4d1'].astype('int64')\n",
    "df_copy_20151.p4d1.value_counts()"
   ]
  },
  {
   "cell_type": "markdown",
   "metadata": {},
   "source": [
    "## Opciones de respuestas cuando p4d1=2(p4d2)\n",
    "1 Institución educativa u hospital particular\n",
    "2 Una institución autónoma\n",
    " y pública de estudios de\n",
    " nivel medio superior o\n",
    " superior (UNAM, UAM,\n",
    " UACH, universidades\n",
    " autónomas estatales)\n",
    "3 “Organismo autónomo\n",
    " (IFE, Institutos Estatales\n",
    " Electorales, Comisiones\n",
    " Nacionales o Estatales de\n",
    " Derechos Humanos)”\n",
    "4 “Iglesia, asociación\n",
    " profesional, cámara\n",
    " o sindicato”\n",
    "5 “Asociación civil no\n",
    "clasificada en las opciones\n",
    " anteriores”\n",
    "6 Organismo internacional\n",
    " Partido político\n",
    "8 Ninguna de las anteriores\n",
    "99 No sabe"
   ]
  },
  {
   "cell_type": "code",
   "execution_count": 248,
   "metadata": {},
   "outputs": [],
   "source": [
    "df_copy_20151['p4d2'].replace(to_replace=[' ', '99'],value='99',inplace=True)"
   ]
  },
  {
   "cell_type": "code",
   "execution_count": 249,
   "metadata": {},
   "outputs": [],
   "source": [
    "df_copy_20151['p4d2'].replace(to_replace=['9', '99'],value='99',inplace=True)"
   ]
  },
  {
   "cell_type": "code",
   "execution_count": 250,
   "metadata": {},
   "outputs": [
    {
     "data": {
      "text/plain": [
       "99    1023908\n",
       "3        9995\n",
       "5        4373\n",
       "6        2987\n",
       "1        2873\n",
       "4        2259\n",
       "2        2021\n",
       "7         157\n",
       "8           2\n",
       "Name: p4d2, dtype: int64"
      ]
     },
     "execution_count": 250,
     "metadata": {},
     "output_type": "execute_result"
    }
   ],
   "source": [
    "df_copy_20151['p4d2'] = df_copy_20151['p4d2'].astype('int64')\n",
    "df_copy_20151.p4d2.value_counts()"
   ]
  },
  {
   "cell_type": "markdown",
   "metadata": {},
   "source": [
    "## Campo explusivo el sistema(p4d3)\n",
    "1-3, blanco Campo exclusivo del sistema"
   ]
  },
  {
   "cell_type": "code",
   "execution_count": 251,
   "metadata": {},
   "outputs": [],
   "source": [
    "df_copy_20151['p4d3'].replace(to_replace=[' ', '99'],value='99',inplace=True)"
   ]
  },
  {
   "cell_type": "code",
   "execution_count": 252,
   "metadata": {},
   "outputs": [
    {
     "data": {
      "text/plain": [
       "99    979354\n",
       "3      50336\n",
       "2      17979\n",
       "1        906\n",
       "Name: p4d3, dtype: int64"
      ]
     },
     "execution_count": 252,
     "metadata": {},
     "output_type": "execute_result"
    }
   ],
   "source": [
    "df_copy_20151['p4d3'] = df_copy_20151['p4d3'].astype('int64')\n",
    "df_copy_20151.p4d3.value_counts()"
   ]
  },
  {
   "cell_type": "markdown",
   "metadata": {},
   "source": [
    "## ¿El negocio o actividad(p4e)\n",
    "1 cuenta con establecimientp y oficina\n",
    "2 solo tiene oficina o\n",
    " despacho?\n",
    "3 solo tiene local?\n",
    "4 no tiene local, oficina o\n",
    " establecimiento?\n",
    "99 No sabe"
   ]
  },
  {
   "cell_type": "code",
   "execution_count": 253,
   "metadata": {},
   "outputs": [],
   "source": [
    "df_copy_20151['p4e'].replace(to_replace=[' ', '99'],value='99',inplace=True)"
   ]
  },
  {
   "cell_type": "code",
   "execution_count": 254,
   "metadata": {},
   "outputs": [],
   "source": [
    "df_copy_20151['p4e'].replace(to_replace=['9', '99'],value='99',inplace=True)"
   ]
  },
  {
   "cell_type": "code",
   "execution_count": 255,
   "metadata": {},
   "outputs": [
    {
     "data": {
      "text/plain": [
       "99    973196\n",
       "4      37640\n",
       "3      30894\n",
       "1       3577\n",
       "2       3268\n",
       "Name: p4e, dtype: int64"
      ]
     },
     "execution_count": 255,
     "metadata": {},
     "output_type": "execute_result"
    }
   ],
   "source": [
    "df_copy_20151['p4e'] = df_copy_20151['p4e'].astype('int64')\n",
    "df_copy_20151.p4e.value_counts()\n"
   ]
  },
  {
   "cell_type": "markdown",
   "metadata": {},
   "source": [
    "## Entonces,¿en dónde se realizan las actividades de este negocio?(p4f)\n",
    "\n",
    "1 En el campo, a cielo abierto,bordo,poza,mar \n",
    "2 Ambulante de casa en casa o en la calle\n",
    "3 Puesto improvisado\n",
    "4 En vehículo sin motor (bicicleta, triciclo, carretón,\n",
    " lancha)\n",
    "5 En vehículo motorizado (automóvil, motocicleta,\n",
    " camioneta)\n",
    "6 En su propio domicilio sin instalación especial\n",
    "7 En su propio domicilio con instalación especial\n",
    "8 En el domicilio o propie dad del patrón o en el\n",
    " lugar donde lo requieren los clientes\n",
    "9 Puesto semifijo\n",
    "10 Puesto fijo\n",
    "11 Otro lugar\n",
    "99 No sabe"
   ]
  },
  {
   "cell_type": "code",
   "execution_count": 256,
   "metadata": {},
   "outputs": [],
   "source": [
    "df_copy_20151['p4f'].replace(to_replace=['0', '99'],value='99',inplace=True)"
   ]
  },
  {
   "cell_type": "code",
   "execution_count": 257,
   "metadata": {},
   "outputs": [
    {
     "data": {
      "text/plain": [
       "99    1010920\n",
       "8       15784\n",
       "6        6893\n",
       "5        4383\n",
       "2        2360\n",
       "7        2265\n",
       "3        2029\n",
       "9        1870\n",
       "4         849\n",
       "10        565\n",
       "11        364\n",
       "1         293\n",
       "Name: p4f, dtype: int64"
      ]
     },
     "execution_count": 257,
     "metadata": {},
     "output_type": "execute_result"
    }
   ],
   "source": [
    "df_copy_20151['p4f'] = df_copy_20151['p4f'].astype('int64')\n",
    "df_copy_20151.p4f.value_counts()"
   ]
  },
  {
   "cell_type": "markdown",
   "metadata": {},
   "source": [
    "## En este negocio o actividad,(p4g)\n",
    "1 ¿se acude a los servicios de un contador para llevar las cuentas?\n",
    "2 ¿sólo se utiliza un cuaderno o una libreta de apuntes personales para llevar las cuentas?\n",
    "3 Aplica hasta periodo 415) Está inscrito en algún\n",
    " esquema o régimen para pequeños contribuyentes (Repecos) de la Secreta ría de Hacienda (lleva el cuadernillo de ingresos o utiliza la caja registradora)"
   ]
  },
  {
   "cell_type": "code",
   "execution_count": 258,
   "metadata": {},
   "outputs": [],
   "source": [
    "df_copy_20151['p4g'].replace(to_replace=[' ', '99'],value='99',inplace=True)"
   ]
  },
  {
   "cell_type": "code",
   "execution_count": 259,
   "metadata": {},
   "outputs": [],
   "source": [
    "df_copy_20151['p4g'].replace(to_replace=['9', '99'],value='99',inplace=True)"
   ]
  },
  {
   "cell_type": "code",
   "execution_count": 260,
   "metadata": {},
   "outputs": [
    {
     "data": {
      "text/plain": [
       "99    980392\n",
       "4      33722\n",
       "1      20541\n",
       "2       8679\n",
       "3       5241\n",
       "Name: p4g, dtype: int64"
      ]
     },
     "execution_count": 260,
     "metadata": {},
     "output_type": "execute_result"
    }
   ],
   "source": [
    "df_copy_20151['p4g'] = df_copy_20151['p4g'].astype('int64')\n",
    "df_copy_20151.p4g.value_counts()"
   ]
  },
  {
   "cell_type": "markdown",
   "metadata": {},
   "source": [
    "## ¿Normalmente en que lugar trabaja...? (p4h)\n",
    "1¿En las instalaciones (o vehiculos) de..?\n",
    "2 ¿En las instalaciones de otra empresa o institución a donde se le envía?\n",
    "3 ¿Visitando a distintos clientes?\n",
    "4 ¿En el lugar de la obra?\n",
    "5 Ninguna de las anteriores\n",
    "99 No sabe"
   ]
  },
  {
   "cell_type": "code",
   "execution_count": 261,
   "metadata": {},
   "outputs": [],
   "source": [
    "df_copy_20151['p4h'].replace(to_replace=[' ', '99'],value='99',inplace=True)"
   ]
  },
  {
   "cell_type": "code",
   "execution_count": 262,
   "metadata": {},
   "outputs": [],
   "source": [
    "df_copy_20151['p4h'].replace(to_replace=['9', '99'],value='99',inplace=True)"
   ]
  },
  {
   "cell_type": "code",
   "execution_count": 263,
   "metadata": {},
   "outputs": [
    {
     "data": {
      "text/plain": [
       "99    1000519\n",
       "1       40507\n",
       "2        3391\n",
       "4        2202\n",
       "3        1843\n",
       "5         113\n",
       "Name: p4h, dtype: int64"
      ]
     },
     "execution_count": 263,
     "metadata": {},
     "output_type": "execute_result"
    }
   ],
   "source": [
    "df_copy_20151['p4h'] = df_copy_20151['p4h'].astype('int64')\n",
    "df_copy_20151.p4h.value_counts()"
   ]
  },
  {
   "cell_type": "markdown",
   "metadata": {},
   "source": [
    "## La empresa a la que oertenece.. ¿tiene oficinas o establecimientos?(p4i)\n",
    "1 en otros países?\n",
    "2 únicamente de México  pero en varias ciudades del pais?\n",
    "3 solo en una ciudad?\n",
    "4 Se trata de un negocio\n",
    " que opera bajo la modali-\n",
    " dad de franquicia\n",
    "9 No sabe"
   ]
  },
  {
   "cell_type": "code",
   "execution_count": 264,
   "metadata": {},
   "outputs": [],
   "source": [
    "df_copy_20151['p4i'].replace(to_replace=[' ', '99'],value='99',inplace=True)"
   ]
  },
  {
   "cell_type": "code",
   "execution_count": 265,
   "metadata": {},
   "outputs": [],
   "source": [
    "df_copy_20151['p4i'].replace(to_replace=['9', '99'],value='99',inplace=True)"
   ]
  },
  {
   "cell_type": "code",
   "execution_count": 266,
   "metadata": {},
   "outputs": [
    {
     "data": {
      "text/plain": [
       "99    1001783\n",
       "3       18089\n",
       "2       17590\n",
       "1       10004\n",
       "4        1109\n",
       "Name: p4i, dtype: int64"
      ]
     },
     "execution_count": 266,
     "metadata": {},
     "output_type": "execute_result"
    }
   ],
   "source": [
    "df_copy_20151['p4i'] = df_copy_20151['p4i'].astype('int64')\n",
    "df_copy_20151.p4i.value_counts()"
   ]
  },
  {
   "cell_type": "markdown",
   "metadata": {},
   "source": [
    "## Campo exclusivo del sistema (p4i_1)\n",
    "1-3,blanco Campo exclusivo del sistema\n"
   ]
  },
  {
   "cell_type": "code",
   "execution_count": 267,
   "metadata": {},
   "outputs": [],
   "source": [
    "df_copy_20151['p4i_1'].replace(to_replace=[' ', '99'],value='99',inplace=True)"
   ]
  },
  {
   "cell_type": "code",
   "execution_count": 268,
   "metadata": {},
   "outputs": [
    {
     "data": {
      "text/plain": [
       "99    1000419\n",
       "3       47612\n",
       "1         464\n",
       "2          80\n",
       "Name: p4i_1, dtype: int64"
      ]
     },
     "execution_count": 268,
     "metadata": {},
     "output_type": "execute_result"
    }
   ],
   "source": [
    "df_copy_20151['p4i_1'] = df_copy_20151['p4i_1'].astype('int64')\n",
    "df_copy_20151.p4i_1.value_counts()"
   ]
  },
  {
   "cell_type": "markdown",
   "metadata": {},
   "source": [
    "## ¿La jornada de trabajo de ... es?(p5)\n",
    "1 de día ? (entre las 6 am y las 8 pm)\n",
    "2 de noche? (entre las 8 pm y las 6 am)\n",
    "3 mixta?\n",
    "4 rola turnos?\n",
    "99 No sabe"
   ]
  },
  {
   "cell_type": "code",
   "execution_count": 269,
   "metadata": {},
   "outputs": [],
   "source": [
    "df_copy_20151['p5'].replace(to_replace=[' ', '99'],value='99',inplace=True)"
   ]
  },
  {
   "cell_type": "code",
   "execution_count": 270,
   "metadata": {},
   "outputs": [],
   "source": [
    "df_copy_20151['p5'].replace(to_replace=['9', '99'],value='99',inplace=True)"
   ]
  },
  {
   "cell_type": "code",
   "execution_count": 271,
   "metadata": {},
   "outputs": [
    {
     "data": {
      "text/plain": [
       "99    895978\n",
       "1     135510\n",
       "3       7589\n",
       "4       6725\n",
       "2       2773\n",
       "Name: p5, dtype: int64"
      ]
     },
     "execution_count": 271,
     "metadata": {},
     "output_type": "execute_result"
    }
   ],
   "source": [
    "df_copy_20151['p5'] = df_copy_20151['p5'].astype('int64')\n",
    "df_copy_20151.p5.value_counts()"
   ]
  },
  {
   "cell_type": "markdown",
   "metadata": {},
   "source": [
    "## La semana pasada, ¿..tuvo poco trabajo que hacer?(p5a)\n",
    "1 Sí\n",
    "2 No trabajó la semana pasada\n",
    "3 No se encontró en esa situación\n",
    "99 No sabe"
   ]
  },
  {
   "cell_type": "code",
   "execution_count": 272,
   "metadata": {},
   "outputs": [],
   "source": [
    "df_copy_20151['p5a'].replace(to_replace=[' ', '99'],value='99',inplace=True)"
   ]
  },
  {
   "cell_type": "code",
   "execution_count": 273,
   "metadata": {},
   "outputs": [],
   "source": [
    "df_copy_20151['p5a'].replace(to_replace=['9', '99'],value='99',inplace=True)"
   ]
  },
  {
   "cell_type": "code",
   "execution_count": 274,
   "metadata": {},
   "outputs": [
    {
     "data": {
      "text/plain": [
       "3     521424\n",
       "99    476367\n",
       "1      35581\n",
       "2      15203\n",
       "Name: p5a, dtype: int64"
      ]
     },
     "execution_count": 274,
     "metadata": {},
     "output_type": "execute_result"
    }
   ],
   "source": [
    "df_copy_20151['p5a'] = df_copy_20151['p5a'].astype('int64')\n",
    "df_copy_20151.p5a.value_counts()"
   ]
  },
  {
   "cell_type": "markdown",
   "metadata": {},
   "source": [
    "## ¿Le preocupa a ... esta situación?(p5b)\n",
    "1 Sí\n",
    "2 Solo un poco\n",
    "3 No, porque así es su trabajo\n",
    "4 No, porque así es en esta época del año\n",
    "5 No, porque la considera una situación pasajera\n",
    "6 No, por otras razones\n",
    "99 No sabe"
   ]
  },
  {
   "cell_type": "code",
   "execution_count": 275,
   "metadata": {},
   "outputs": [],
   "source": [
    "df_copy_20151['p5b'].replace(to_replace=[' ', '99'],value='99',inplace=True)"
   ]
  },
  {
   "cell_type": "code",
   "execution_count": 276,
   "metadata": {},
   "outputs": [],
   "source": [
    "df_copy_20151['p5b'].replace(to_replace=['9', '99'],value='99',inplace=True)"
   ]
  },
  {
   "cell_type": "code",
   "execution_count": 277,
   "metadata": {},
   "outputs": [
    {
     "data": {
      "text/plain": [
       "99    1013075\n",
       "1       21150\n",
       "3        6904\n",
       "4        3153\n",
       "2        2005\n",
       "6        1900\n",
       "5         388\n",
       "Name: p5b, dtype: int64"
      ]
     },
     "execution_count": 277,
     "metadata": {},
     "output_type": "execute_result"
    }
   ],
   "source": [
    "df_copy_20151['p5b'] = df_copy_20151['p5b'].astype('int64')\n",
    "df_copy_20151.p5b.value_counts()"
   ]
  },
  {
   "cell_type": "markdown",
   "metadata": {},
   "source": [
    "# Pregunta 5C: ¿Qué días y cuántas horas le dedicó ... a su trabajo  la semana pasada? \n",
    "\n"
   ]
  },
  {
   "cell_type": "markdown",
   "metadata": {},
   "source": [
    "## Horas lunes (p5c_hlu)\n",
    "00-24 Número de horas en lunes\n",
    "98 Trabajó ese día pero no sabe cuanto tiempo\n",
    "99 No sabe si trabajó ese día"
   ]
  },
  {
   "cell_type": "code",
   "execution_count": 278,
   "metadata": {
    "scrolled": true
   },
   "outputs": [
    {
     "data": {
      "text/plain": [
       "99    491187\n",
       "8     208410\n",
       "10     63350\n",
       "0      58060\n",
       "9      53802\n",
       "6      38644\n",
       "12     31837\n",
       "7      27134\n",
       "5      19696\n",
       "4      17959\n",
       "3      10190\n",
       "11      7596\n",
       "2       7291\n",
       "98      2881\n",
       "1       2636\n",
       "14      2186\n",
       "16      1826\n",
       "13      1336\n",
       "15       957\n",
       "18       558\n",
       "17       549\n",
       "24       432\n",
       "20        26\n",
       "19        22\n",
       "21         6\n",
       "23         2\n",
       "22         2\n",
       "Name: p5c_hlu, dtype: int64"
      ]
     },
     "execution_count": 278,
     "metadata": {},
     "output_type": "execute_result"
    }
   ],
   "source": [
    "df_copy_20151['p5c_hlu'] = df_copy_20151['p5c_hlu'].astype('int64')\n",
    "df_copy_20151.p5c_hlu.value_counts()"
   ]
  },
  {
   "cell_type": "markdown",
   "metadata": {},
   "source": [
    "## Minutos lunes (p5c_mlu)\n",
    "00-59 Número de minutos en lunes"
   ]
  },
  {
   "cell_type": "code",
   "execution_count": 279,
   "metadata": {
    "scrolled": true
   },
   "outputs": [
    {
     "data": {
      "text/plain": [
       "0     545998\n",
       "99    491128\n",
       "30     10929\n",
       "40       101\n",
       "15        71\n",
       "45        70\n",
       "20        66\n",
       "10        36\n",
       "36        33\n",
       "1         29\n",
       "50        24\n",
       "8         23\n",
       "5         10\n",
       "35         8\n",
       "3          7\n",
       "12         7\n",
       "9          5\n",
       "6          5\n",
       "25         5\n",
       "11         4\n",
       "37         2\n",
       "4          2\n",
       "7          1\n",
       "2          1\n",
       "48         1\n",
       "46         1\n",
       "31         1\n",
       "32         1\n",
       "33         1\n",
       "38         1\n",
       "41         1\n",
       "42         1\n",
       "43         1\n",
       "24         1\n",
       "Name: p5c_mlu, dtype: int64"
      ]
     },
     "execution_count": 279,
     "metadata": {},
     "output_type": "execute_result"
    }
   ],
   "source": [
    "df_copy_20151['p5c_mlu'] = df_copy_20151['p5c_mlu'].astype('int64')\n",
    "df_copy_20151.p5c_mlu.value_counts()"
   ]
  },
  {
   "cell_type": "markdown",
   "metadata": {},
   "source": [
    "## Horas martes (p5c_hma)\n",
    "00-24 Número de horas en martes\n",
    "98 Trabajó ese día pero no sabe cuanto tiempo\n",
    "99 No sabe si trabajó ese día\n"
   ]
  },
  {
   "cell_type": "code",
   "execution_count": 280,
   "metadata": {
    "scrolled": true
   },
   "outputs": [
    {
     "data": {
      "text/plain": [
       "99    491184\n",
       "8     211104\n",
       "10     64017\n",
       "0      56011\n",
       "9      54823\n",
       "6      39058\n",
       "12     31054\n",
       "7      27875\n",
       "5      19833\n",
       "4      17635\n",
       "3       9684\n",
       "11      7842\n",
       "2       6966\n",
       "98      2932\n",
       "1       2527\n",
       "14      2133\n",
       "13      1336\n",
       "16      1045\n",
       "15       939\n",
       "17       207\n",
       "24       163\n",
       "18       150\n",
       "20        31\n",
       "19        20\n",
       "21         3\n",
       "22         2\n",
       "23         1\n",
       "Name: p5c_hma, dtype: int64"
      ]
     },
     "execution_count": 280,
     "metadata": {},
     "output_type": "execute_result"
    }
   ],
   "source": [
    "df_copy_20151['p5c_hma'] = df_copy_20151['p5c_hma'].astype('int64')\n",
    "df_copy_20151.p5c_hma.value_counts()"
   ]
  },
  {
   "cell_type": "markdown",
   "metadata": {},
   "source": [
    "## Minutos martes (p5c_mma)\n",
    "00-59 Número de minutos en martes "
   ]
  },
  {
   "cell_type": "code",
   "execution_count": 281,
   "metadata": {
    "scrolled": true
   },
   "outputs": [
    {
     "data": {
      "text/plain": [
       "0     545771\n",
       "99    491128\n",
       "30     11068\n",
       "40       100\n",
       "20        73\n",
       "45        72\n",
       "15        71\n",
       "10        56\n",
       "1         48\n",
       "8         42\n",
       "50        36\n",
       "36        36\n",
       "3         12\n",
       "2         11\n",
       "12         8\n",
       "35         7\n",
       "5          7\n",
       "6          5\n",
       "25         5\n",
       "11         4\n",
       "9          4\n",
       "37         2\n",
       "4          1\n",
       "48         1\n",
       "7          1\n",
       "46         1\n",
       "24         1\n",
       "33         1\n",
       "42         1\n",
       "43         1\n",
       "16         1\n",
       "Name: p5c_mma, dtype: int64"
      ]
     },
     "execution_count": 281,
     "metadata": {},
     "output_type": "execute_result"
    }
   ],
   "source": [
    "df_copy_20151['p5c_mma'] = df_copy_20151['p5c_mma'].astype('int64')\n",
    "df_copy_20151.p5c_mma.value_counts()"
   ]
  },
  {
   "cell_type": "markdown",
   "metadata": {},
   "source": [
    "## Horas miércoles (p5c_hmi)\n",
    "00-24 Número de horas en miércoles\n",
    "98 Trabajó ese día pero no sabe cuanto tiempo\n",
    "99 No sabe si trabajó ese día"
   ]
  },
  {
   "cell_type": "code",
   "execution_count": 282,
   "metadata": {
    "scrolled": true
   },
   "outputs": [
    {
     "data": {
      "text/plain": [
       "99    491185\n",
       "8     211208\n",
       "10     64304\n",
       "9      54888\n",
       "0      51319\n",
       "6      39272\n",
       "12     31855\n",
       "7      27921\n",
       "5      20130\n",
       "4      18276\n",
       "3      10277\n",
       "11      7920\n",
       "2       7266\n",
       "98      2936\n",
       "1       2695\n",
       "14      2168\n",
       "16      1419\n",
       "13      1348\n",
       "15       942\n",
       "17       418\n",
       "18       412\n",
       "24       359\n",
       "20        33\n",
       "19        20\n",
       "21         3\n",
       "23         1\n",
       "Name: p5c_hmi, dtype: int64"
      ]
     },
     "execution_count": 282,
     "metadata": {},
     "output_type": "execute_result"
    }
   ],
   "source": [
    "df_copy_20151['p5c_hmi'] = df_copy_20151['p5c_hmi'].astype('int64')\n",
    "df_copy_20151.p5c_hmi.value_counts()"
   ]
  },
  {
   "cell_type": "markdown",
   "metadata": {},
   "source": [
    "## Minutos miércoles (p5c_mmi)\n",
    "00-59 Número de minutos en miércoles "
   ]
  },
  {
   "cell_type": "code",
   "execution_count": 283,
   "metadata": {
    "scrolled": true
   },
   "outputs": [
    {
     "data": {
      "text/plain": [
       "0     545679\n",
       "99    491128\n",
       "30     11177\n",
       "40       105\n",
       "20        74\n",
       "45        72\n",
       "15        71\n",
       "10        53\n",
       "1         51\n",
       "36        35\n",
       "50        29\n",
       "8         23\n",
       "12        11\n",
       "5         10\n",
       "35         8\n",
       "2          8\n",
       "3          8\n",
       "9          7\n",
       "25         5\n",
       "11         4\n",
       "6          4\n",
       "4          3\n",
       "37         2\n",
       "43         2\n",
       "7          1\n",
       "22         1\n",
       "24         1\n",
       "42         1\n",
       "33         1\n",
       "48         1\n",
       "Name: p5c_mmi, dtype: int64"
      ]
     },
     "execution_count": 283,
     "metadata": {},
     "output_type": "execute_result"
    }
   ],
   "source": [
    "df_copy_20151['p5c_mmi'] = df_copy_20151['p5c_mmi'].astype('int64')\n",
    "df_copy_20151.p5c_mmi.value_counts()"
   ]
  },
  {
   "cell_type": "markdown",
   "metadata": {},
   "source": [
    "## Horas jueves(p5c_hju)\n",
    "00-24 Número de horas jueves\n",
    "98 Trabajó ese día pero no sabe cuanto tiempo\n",
    "99 No sabe si trabajó ese día"
   ]
  },
  {
   "cell_type": "code",
   "execution_count": 284,
   "metadata": {
    "scrolled": true
   },
   "outputs": [
    {
     "data": {
      "text/plain": [
       "99    491187\n",
       "8     208620\n",
       "10     63629\n",
       "0      60513\n",
       "9      54262\n",
       "6      38614\n",
       "12     30935\n",
       "7      27435\n",
       "5      19717\n",
       "4      17519\n",
       "3       9560\n",
       "11      7776\n",
       "2       6955\n",
       "98      2909\n",
       "1       2593\n",
       "14      2125\n",
       "13      1311\n",
       "16      1255\n",
       "15       935\n",
       "17       261\n",
       "18       222\n",
       "24       191\n",
       "20        32\n",
       "19        14\n",
       "21         3\n",
       "23         2\n",
       "Name: p5c_hju, dtype: int64"
      ]
     },
     "execution_count": 284,
     "metadata": {},
     "output_type": "execute_result"
    }
   ],
   "source": [
    "df_copy_20151['p5c_hju'] = df_copy_20151['p5c_hju'].astype('int64')\n",
    "df_copy_20151.p5c_hju.value_counts()"
   ]
  },
  {
   "cell_type": "markdown",
   "metadata": {},
   "source": [
    "## Minutos jueves  (p5c_mju)\n",
    "00-59 Número de minutos jueves"
   ]
  },
  {
   "cell_type": "code",
   "execution_count": 285,
   "metadata": {
    "scrolled": true
   },
   "outputs": [
    {
     "data": {
      "text/plain": [
       "0     545822\n",
       "99    491128\n",
       "30     11004\n",
       "40        94\n",
       "20        75\n",
       "1         75\n",
       "15        70\n",
       "45        69\n",
       "10        55\n",
       "36        35\n",
       "50        33\n",
       "8         33\n",
       "6         11\n",
       "3         10\n",
       "9          9\n",
       "5          8\n",
       "35         8\n",
       "12         8\n",
       "2          6\n",
       "25         5\n",
       "11         4\n",
       "43         3\n",
       "4          3\n",
       "37         2\n",
       "7          1\n",
       "22         1\n",
       "24         1\n",
       "42         1\n",
       "48         1\n",
       "Name: p5c_mju, dtype: int64"
      ]
     },
     "execution_count": 285,
     "metadata": {},
     "output_type": "execute_result"
    }
   ],
   "source": [
    "df_copy_20151['p5c_mju'] = df_copy_20151['p5c_mju'].astype('int64')\n",
    "df_copy_20151.p5c_mju.value_counts()"
   ]
  },
  {
   "cell_type": "markdown",
   "metadata": {},
   "source": [
    "## Horas viernes  (p5c_hvi)\n",
    "00-24 Número de horas en viernes\n",
    "98 Trabajó ese día pero no sabe cuanto tiempo\n",
    "99 No sabe si trabajó ese día"
   ]
  },
  {
   "cell_type": "code",
   "execution_count": 286,
   "metadata": {
    "scrolled": true
   },
   "outputs": [
    {
     "data": {
      "text/plain": [
       "99    491185\n",
       "8     210022\n",
       "10     63927\n",
       "0      55059\n",
       "9      54231\n",
       "6      39190\n",
       "12     30847\n",
       "7      27506\n",
       "5      20393\n",
       "4      18014\n",
       "3      10095\n",
       "11      7750\n",
       "2       7247\n",
       "98      2932\n",
       "1       2645\n",
       "14      2208\n",
       "16      1581\n",
       "13      1345\n",
       "15       989\n",
       "18       485\n",
       "17       482\n",
       "24       371\n",
       "20        41\n",
       "19        22\n",
       "22         4\n",
       "21         3\n",
       "23         1\n",
       "Name: p5c_hvi, dtype: int64"
      ]
     },
     "execution_count": 286,
     "metadata": {},
     "output_type": "execute_result"
    }
   ],
   "source": [
    "df_copy_20151['p5c_hvi'] = df_copy_20151['p5c_hvi'].astype('int64')\n",
    "df_copy_20151.p5c_hvi.value_counts()"
   ]
  },
  {
   "cell_type": "markdown",
   "metadata": {},
   "source": [
    "## Minutos viernes  (p5c_mvi)\n",
    "00-59 Número de minutos en  viernes "
   ]
  },
  {
   "cell_type": "code",
   "execution_count": 287,
   "metadata": {
    "scrolled": true
   },
   "outputs": [
    {
     "data": {
      "text/plain": [
       "0     545818\n",
       "99    491128\n",
       "30     10994\n",
       "40       105\n",
       "20        85\n",
       "45        72\n",
       "15        69\n",
       "10        57\n",
       "1         51\n",
       "36        33\n",
       "50        32\n",
       "8         29\n",
       "2         17\n",
       "3         13\n",
       "5         12\n",
       "12        10\n",
       "11         9\n",
       "6          9\n",
       "35         7\n",
       "25         5\n",
       "9          4\n",
       "4          3\n",
       "7          3\n",
       "37         2\n",
       "43         2\n",
       "48         1\n",
       "46         1\n",
       "24         1\n",
       "33         1\n",
       "42         1\n",
       "22         1\n",
       "Name: p5c_mvi, dtype: int64"
      ]
     },
     "execution_count": 287,
     "metadata": {},
     "output_type": "execute_result"
    }
   ],
   "source": [
    "df_copy_20151['p5c_mvi'] = df_copy_20151['p5c_mvi'].astype('int64')\n",
    "df_copy_20151.p5c_mvi.value_counts()"
   ]
  },
  {
   "cell_type": "markdown",
   "metadata": {},
   "source": [
    "## Horas sábado (p5c_hsa)\n",
    "00-24 Número de horas en sábado\n",
    "98 Trabajó ese día pero no sabe cuanto tiempo\n",
    "99 No sabe si trabajó ese día"
   ]
  },
  {
   "cell_type": "code",
   "execution_count": 288,
   "metadata": {
    "scrolled": true
   },
   "outputs": [
    {
     "data": {
      "text/plain": [
       "99    491182\n",
       "0     195784\n",
       "8     119800\n",
       "6      51797\n",
       "5      39559\n",
       "10     36077\n",
       "12     24365\n",
       "9      23104\n",
       "4      20628\n",
       "7      18638\n",
       "3       7898\n",
       "2       5420\n",
       "11      4616\n",
       "98      2354\n",
       "14      1917\n",
       "1       1874\n",
       "13      1157\n",
       "16       957\n",
       "15       870\n",
       "17       193\n",
       "24       179\n",
       "18       158\n",
       "20        27\n",
       "19        16\n",
       "21         3\n",
       "22         2\n",
       "Name: p5c_hsa, dtype: int64"
      ]
     },
     "execution_count": 288,
     "metadata": {},
     "output_type": "execute_result"
    }
   ],
   "source": [
    "df_copy_20151['p5c_hsa'] = df_copy_20151['p5c_hsa'].astype('int64')\n",
    "df_copy_20151.p5c_hsa.value_counts()"
   ]
  },
  {
   "cell_type": "markdown",
   "metadata": {},
   "source": [
    "## Minutos sábado  (p5c_msa)\n",
    "00-59 Número de minutos en sábado "
   ]
  },
  {
   "cell_type": "code",
   "execution_count": 289,
   "metadata": {
    "scrolled": true
   },
   "outputs": [
    {
     "data": {
      "text/plain": [
       "0     553232\n",
       "99    491128\n",
       "30      3918\n",
       "40        55\n",
       "20        48\n",
       "50        30\n",
       "10        28\n",
       "1         24\n",
       "15        23\n",
       "45        21\n",
       "8         18\n",
       "6          7\n",
       "2          7\n",
       "3          6\n",
       "9          5\n",
       "11         5\n",
       "5          4\n",
       "35         3\n",
       "36         3\n",
       "12         3\n",
       "33         2\n",
       "46         1\n",
       "4          1\n",
       "25         1\n",
       "43         1\n",
       "14         1\n",
       "Name: p5c_msa, dtype: int64"
      ]
     },
     "execution_count": 289,
     "metadata": {},
     "output_type": "execute_result"
    }
   ],
   "source": [
    "df_copy_20151['p5c_msa'] = df_copy_20151['p5c_msa'].astype('int64')\n",
    "df_copy_20151.p5c_msa.value_counts()"
   ]
  },
  {
   "cell_type": "markdown",
   "metadata": {},
   "source": [
    "## Horas domingo (p5c_hdo)\n",
    "00-24 Número de horas en domingo\n",
    "98 Trabajó ese día pero no sabe cuanto tiempo\n",
    "99 No sabe si trabajó ese día\n"
   ]
  },
  {
   "cell_type": "code",
   "execution_count": 290,
   "metadata": {},
   "outputs": [
    {
     "data": {
      "text/plain": [
       "99    491169\n",
       "0     426860\n",
       "8      41237\n",
       "10     15945\n",
       "12     15658\n",
       "6      12134\n",
       "9       8956\n",
       "5       7091\n",
       "4       6573\n",
       "7       6038\n",
       "3       3949\n",
       "2       3091\n",
       "11      2268\n",
       "16      1270\n",
       "14      1268\n",
       "98      1229\n",
       "1       1175\n",
       "13       709\n",
       "15       607\n",
       "18       436\n",
       "17       423\n",
       "24       414\n",
       "20        29\n",
       "22        21\n",
       "19        19\n",
       "21         5\n",
       "23         1\n",
       "Name: p5c_hdo, dtype: int64"
      ]
     },
     "execution_count": 290,
     "metadata": {},
     "output_type": "execute_result"
    }
   ],
   "source": [
    "df_copy_20151['p5c_hdo'] = df_copy_20151['p5c_hdo'].astype('int64')\n",
    "df_copy_20151.p5c_hdo.value_counts()"
   ]
  },
  {
   "cell_type": "markdown",
   "metadata": {},
   "source": [
    "## Minutos domingo (p5c_mdo)\n",
    "00-59 Número de minutos en  domingo"
   ]
  },
  {
   "cell_type": "code",
   "execution_count": 291,
   "metadata": {},
   "outputs": [
    {
     "data": {
      "text/plain": [
       "0     555085\n",
       "99    491128\n",
       "30      1579\n",
       "1        481\n",
       "40        99\n",
       "2         81\n",
       "11        17\n",
       "20        16\n",
       "14        15\n",
       "22        12\n",
       "10        12\n",
       "45        10\n",
       "50        10\n",
       "15        10\n",
       "8          4\n",
       "3          4\n",
       "5          3\n",
       "12         3\n",
       "6          2\n",
       "4          2\n",
       "21         1\n",
       "35         1\n",
       "Name: p5c_mdo, dtype: int64"
      ]
     },
     "execution_count": 291,
     "metadata": {},
     "output_type": "execute_result"
    }
   ],
   "source": [
    "df_copy_20151['p5c_mdo'] = df_copy_20151['p5c_mdo'].astype('int64')\n",
    "df_copy_20151.p5c_mdo.value_counts()"
   ]
  },
  {
   "cell_type": "markdown",
   "metadata": {},
   "source": [
    "## Total de horas (p5c_thrs)\n",
    "001-998 Total de Número de horas en pregunta 5c\n",
    "999 No especificado\n"
   ]
  },
  {
   "cell_type": "code",
   "execution_count": 292,
   "metadata": {
    "scrolled": true
   },
   "outputs": [
    {
     "data": {
      "text/plain": [
       "99     491136\n",
       "48      99977\n",
       "40      64258\n",
       "45      29480\n",
       "60      27956\n",
       "30      19908\n",
       "50      19197\n",
       "56      17587\n",
       "36      17571\n",
       "54      17560\n",
       "24      16073\n",
       "42      15841\n",
       "35      13146\n",
       "72      12860\n",
       "46      11632\n",
       "70       8666\n",
       "20       8138\n",
       "84       8035\n",
       "25       7640\n",
       "18       7142\n",
       "12       7136\n",
       "32       7076\n",
       "44       6861\n",
       "55       6589\n",
       "51       6496\n",
       "16       6057\n",
       "28       4832\n",
       "15       4770\n",
       "66       4510\n",
       "8        4329\n",
       "        ...  \n",
       "102        28\n",
       "119        21\n",
       "95         20\n",
       "101        17\n",
       "97         12\n",
       "93         12\n",
       "104        12\n",
       "106        11\n",
       "120        10\n",
       "110         8\n",
       "168         8\n",
       "109         4\n",
       "118         4\n",
       "103         4\n",
       "117         3\n",
       "140         3\n",
       "114         2\n",
       "107         2\n",
       "116         2\n",
       "144         2\n",
       "133         2\n",
       "111         1\n",
       "113         1\n",
       "121         1\n",
       "123         1\n",
       "132         1\n",
       "129         1\n",
       "127         1\n",
       "125         1\n",
       "115         1\n",
       "Name: p5c_thrs, Length: 132, dtype: int64"
      ]
     },
     "execution_count": 292,
     "metadata": {},
     "output_type": "execute_result"
    }
   ],
   "source": [
    "df_copy_20151['p5c_thrs'] = df_copy_20151['p5c_thrs'].astype('int64')\n",
    "df_copy_20151.p5c_thrs.value_counts()"
   ]
  },
  {
   "cell_type": "markdown",
   "metadata": {},
   "source": [
    "## Total de días (p5c_tdia)\n",
    "1 - 7 Total de dias trabajados  a la semana\n",
    "9 Número de días no  especificado\n"
   ]
  },
  {
   "cell_type": "code",
   "execution_count": 293,
   "metadata": {},
   "outputs": [],
   "source": [
    "df_copy_20151['p5c_tdia'].replace(to_replace=[' ', '99'],value='99',inplace=True)"
   ]
  },
  {
   "cell_type": "code",
   "execution_count": 294,
   "metadata": {},
   "outputs": [
    {
     "data": {
      "text/plain": [
       "99    491128\n",
       "6     265398\n",
       "5     147637\n",
       "7      62295\n",
       "3      28633\n",
       "4      23231\n",
       "2      20025\n",
       "1       9271\n",
       "9        957\n",
       "Name: p5c_tdia, dtype: int64"
      ]
     },
     "execution_count": 294,
     "metadata": {},
     "output_type": "execute_result"
    }
   ],
   "source": [
    "df_copy_20151['p5c_tdia'] = df_copy_20151['p5c_tdia'].astype('int64')\n",
    "df_copy_20151.p5c_tdia.value_counts()"
   ]
  },
  {
   "cell_type": "markdown",
   "metadata": {},
   "source": [
    "## ¿Ese es el número de horas que habitualmente trabaja..-?(p5d)\n",
    "1 Sí\n",
    "2 No \n",
    "99 No sabe"
   ]
  },
  {
   "cell_type": "code",
   "execution_count": 295,
   "metadata": {},
   "outputs": [],
   "source": [
    "df_copy_20151['p5d'].replace(to_replace=[' ', '99'],value='99',inplace=True)"
   ]
  },
  {
   "cell_type": "code",
   "execution_count": 296,
   "metadata": {},
   "outputs": [],
   "source": [
    "df_copy_20151['p5d'].replace(to_replace=['9', '99'],value='99',inplace=True)"
   ]
  },
  {
   "cell_type": "code",
   "execution_count": 297,
   "metadata": {},
   "outputs": [
    {
     "data": {
      "text/plain": [
       "99    491237\n",
       "1     469158\n",
       "2      88180\n",
       "Name: p5d, dtype: int64"
      ]
     },
     "execution_count": 297,
     "metadata": {},
     "output_type": "execute_result"
    }
   ],
   "source": [
    "df_copy_20151['p5d'] = df_copy_20151['p5d'].astype('int64')\n",
    "df_copy_20151.p5d.value_counts()"
   ]
  },
  {
   "cell_type": "markdown",
   "metadata": {},
   "source": [
    "# Pregunta 5E: ¿Qué días y cuántas horas le dedica habitualmente ...  a su trabajo?\n"
   ]
  },
  {
   "cell_type": "markdown",
   "metadata": {},
   "source": [
    "## Horas y minutos o no tiene horario regurlar de trabajo (p5e1)\n",
    "1 si dió horas y/o minutos a la semana\n",
    "2 No tiene un horario regular de trabajo\n",
    "99 No sabe"
   ]
  },
  {
   "cell_type": "code",
   "execution_count": 298,
   "metadata": {},
   "outputs": [],
   "source": [
    "df_copy_20151['p5e1'].replace(to_replace=[' ', '99'],value='99',inplace=True)"
   ]
  },
  {
   "cell_type": "code",
   "execution_count": 299,
   "metadata": {},
   "outputs": [
    {
     "data": {
      "text/plain": [
       "99    945083\n",
       "2      68995\n",
       "1      34497\n",
       "Name: p5e1, dtype: int64"
      ]
     },
     "execution_count": 299,
     "metadata": {},
     "output_type": "execute_result"
    }
   ],
   "source": [
    "df_copy_20151['p5e1'] = df_copy_20151['p5e1'].astype('int64')\n",
    "df_copy_20151.p5e1.value_counts()"
   ]
  },
  {
   "cell_type": "markdown",
   "metadata": {},
   "source": [
    "## Horas lunes (p5e_hlu)\n",
    "00-59 Número de minutos en lunes "
   ]
  },
  {
   "cell_type": "code",
   "execution_count": 300,
   "metadata": {},
   "outputs": [
    {
     "data": {
      "text/plain": [
       "99    1014080\n",
       "8       14750\n",
       "9        3587\n",
       "10       3512\n",
       "6        2723\n",
       "7        2503\n",
       "5        1688\n",
       "12       1500\n",
       "0        1459\n",
       "4        1102\n",
       "3         455\n",
       "11        449\n",
       "2         289\n",
       "1         105\n",
       "14         79\n",
       "16         76\n",
       "98         56\n",
       "13         54\n",
       "15         37\n",
       "17         27\n",
       "18         20\n",
       "24         20\n",
       "20          4\n",
       "Name: p5e_hlu, dtype: int64"
      ]
     },
     "execution_count": 300,
     "metadata": {},
     "output_type": "execute_result"
    }
   ],
   "source": [
    "df_copy_20151['p5e_hlu'] = df_copy_20151['p5e_hlu'].astype('int64')\n",
    "df_copy_20151.p5e_hlu.value_counts()"
   ]
  },
  {
   "cell_type": "markdown",
   "metadata": {},
   "source": [
    "## Minutos lunes (p5e_mlu)\n",
    "00-59 Número de minutos en lunes \n"
   ]
  },
  {
   "cell_type": "code",
   "execution_count": 301,
   "metadata": {},
   "outputs": [
    {
     "data": {
      "text/plain": [
       "99    1014078\n",
       "0       33280\n",
       "30       1160\n",
       "20         12\n",
       "45          9\n",
       "40          8\n",
       "10          7\n",
       "15          4\n",
       "8           4\n",
       "1           4\n",
       "36          3\n",
       "46          1\n",
       "35          1\n",
       "50          1\n",
       "12          1\n",
       "3           1\n",
       "22          1\n",
       "Name: p5e_mlu, dtype: int64"
      ]
     },
     "execution_count": 301,
     "metadata": {},
     "output_type": "execute_result"
    }
   ],
   "source": [
    "df_copy_20151['p5e_mlu'] = df_copy_20151['p5e_mlu'].astype('int64')\n",
    "df_copy_20151.p5e_mlu.value_counts()"
   ]
  },
  {
   "cell_type": "markdown",
   "metadata": {},
   "source": [
    "## Horas martes (p5e_hma)\n",
    "00-24 Número de horas en martes\n",
    "98 Trabajó ese día pero no sabe cuanto tiempo\n",
    "99 No sabe si trabajó ese día"
   ]
  },
  {
   "cell_type": "code",
   "execution_count": 302,
   "metadata": {},
   "outputs": [
    {
     "data": {
      "text/plain": [
       "99    1014080\n",
       "8       14724\n",
       "9        3638\n",
       "10       3503\n",
       "6        2744\n",
       "7        2501\n",
       "0        1668\n",
       "5        1653\n",
       "12       1448\n",
       "4        1066\n",
       "11        457\n",
       "3         427\n",
       "2         274\n",
       "1         101\n",
       "14         80\n",
       "98         56\n",
       "13         52\n",
       "16         46\n",
       "15         40\n",
       "17          8\n",
       "20          4\n",
       "24          3\n",
       "18          2\n",
       "Name: p5e_hma, dtype: int64"
      ]
     },
     "execution_count": 302,
     "metadata": {},
     "output_type": "execute_result"
    }
   ],
   "source": [
    "df_copy_20151['p5e_hma'] = df_copy_20151['p5e_hma'].astype('int64')\n",
    "df_copy_20151.p5e_hma.value_counts()"
   ]
  },
  {
   "cell_type": "markdown",
   "metadata": {},
   "source": [
    "## Minutos martes  (p5e_mma)\n",
    "00-59 Número de minutos en martes "
   ]
  },
  {
   "cell_type": "code",
   "execution_count": 303,
   "metadata": {},
   "outputs": [
    {
     "data": {
      "text/plain": [
       "99    1014078\n",
       "0       33291\n",
       "30       1146\n",
       "20         11\n",
       "45          9\n",
       "40          9\n",
       "10          9\n",
       "15          4\n",
       "8           4\n",
       "36          3\n",
       "1           3\n",
       "6           2\n",
       "46          1\n",
       "35          1\n",
       "33          1\n",
       "50          1\n",
       "12          1\n",
       "22          1\n",
       "Name: p5e_mma, dtype: int64"
      ]
     },
     "execution_count": 303,
     "metadata": {},
     "output_type": "execute_result"
    }
   ],
   "source": [
    "df_copy_20151['p5e_mma'] = df_copy_20151['p5e_mma'].astype('int64')\n",
    "df_copy_20151.p5e_mma.value_counts()"
   ]
  },
  {
   "cell_type": "markdown",
   "metadata": {},
   "source": [
    "## Horas miércoles (p5e_hmi)\n",
    "00-24 Número de horas en miércoles\n",
    "98 Trabajó ese día pero no sabe cuanto tiempo\n",
    "99 No sabe si trabajó ese día"
   ]
  },
  {
   "cell_type": "code",
   "execution_count": 304,
   "metadata": {},
   "outputs": [
    {
     "data": {
      "text/plain": [
       "99    1014080\n",
       "8       14707\n",
       "9        3629\n",
       "10       3510\n",
       "6        2728\n",
       "7        2479\n",
       "5        1686\n",
       "0        1529\n",
       "12       1490\n",
       "4        1096\n",
       "3         461\n",
       "11        459\n",
       "2         284\n",
       "1          99\n",
       "14         84\n",
       "16         64\n",
       "98         55\n",
       "13         54\n",
       "15         38\n",
       "17         18\n",
       "24         15\n",
       "18          8\n",
       "20          2\n",
       "Name: p5e_hmi, dtype: int64"
      ]
     },
     "execution_count": 304,
     "metadata": {},
     "output_type": "execute_result"
    }
   ],
   "source": [
    "df_copy_20151['p5e_hmi'] = df_copy_20151['p5e_hmi'].astype('int64')\n",
    "df_copy_20151.p5e_hmi.value_counts()"
   ]
  },
  {
   "cell_type": "markdown",
   "metadata": {},
   "source": [
    "## Minutos miércoles (p5e_mmi) \n",
    "00-59 Número de minutos en miércoles "
   ]
  },
  {
   "cell_type": "code",
   "execution_count": 305,
   "metadata": {},
   "outputs": [
    {
     "data": {
      "text/plain": [
       "99    1014078\n",
       "0       33286\n",
       "30       1152\n",
       "10         11\n",
       "20         10\n",
       "45          9\n",
       "40          8\n",
       "15          4\n",
       "8           4\n",
       "1           4\n",
       "36          3\n",
       "46          1\n",
       "35          1\n",
       "50          1\n",
       "12          1\n",
       "3           1\n",
       "22          1\n",
       "Name: p5e_mmi, dtype: int64"
      ]
     },
     "execution_count": 305,
     "metadata": {},
     "output_type": "execute_result"
    }
   ],
   "source": [
    "df_copy_20151['p5e_mmi'] = df_copy_20151['p5e_mmi'].astype('int64')\n",
    "df_copy_20151.p5e_mmi.value_counts()"
   ]
  },
  {
   "cell_type": "markdown",
   "metadata": {},
   "source": [
    "## Horas jueves (p5e_hju)\n",
    "00-24 Número de horas en jueves\n",
    "98 Trabajó ese día pero no sabe cuanto tiempo\n",
    "99 No sabe si trabajó ese día"
   ]
  },
  {
   "cell_type": "code",
   "execution_count": 306,
   "metadata": {},
   "outputs": [
    {
     "data": {
      "text/plain": [
       "99    1014080\n",
       "8       14684\n",
       "9        3634\n",
       "10       3506\n",
       "6        2716\n",
       "7        2487\n",
       "0        1733\n",
       "5        1668\n",
       "12       1448\n",
       "4        1071\n",
       "11        449\n",
       "3         419\n",
       "2         265\n",
       "1         104\n",
       "14         81\n",
       "98         56\n",
       "13         53\n",
       "16         49\n",
       "15         38\n",
       "18         14\n",
       "17         12\n",
       "24          6\n",
       "20          2\n",
       "Name: p5e_hju, dtype: int64"
      ]
     },
     "execution_count": 306,
     "metadata": {},
     "output_type": "execute_result"
    }
   ],
   "source": [
    "df_copy_20151['p5e_hju'] = df_copy_20151['p5e_hju'].astype('int64')\n",
    "df_copy_20151.p5e_hju.value_counts()"
   ]
  },
  {
   "cell_type": "markdown",
   "metadata": {},
   "source": [
    "## Minutos jueves (p5e_mju)\n",
    "00-59 Número de minutos en jueves "
   ]
  },
  {
   "cell_type": "code",
   "execution_count": 307,
   "metadata": {},
   "outputs": [
    {
     "data": {
      "text/plain": [
       "99    1014078\n",
       "0       33300\n",
       "30       1139\n",
       "20         11\n",
       "10          9\n",
       "45          9\n",
       "40          7\n",
       "15          4\n",
       "36          3\n",
       "8           3\n",
       "1           3\n",
       "9           2\n",
       "35          1\n",
       "31          1\n",
       "50          1\n",
       "12          1\n",
       "39          1\n",
       "2           1\n",
       "22          1\n",
       "Name: p5e_mju, dtype: int64"
      ]
     },
     "execution_count": 307,
     "metadata": {},
     "output_type": "execute_result"
    }
   ],
   "source": [
    "df_copy_20151['p5e_mju'] = df_copy_20151['p5e_mju'].astype('int64')\n",
    "df_copy_20151.p5e_mju.value_counts()"
   ]
  },
  {
   "cell_type": "markdown",
   "metadata": {},
   "source": [
    "## Minutos viernes (p5e_hvi)\n",
    "00-59 Número de minutos en viernes\n"
   ]
  },
  {
   "cell_type": "code",
   "execution_count": 308,
   "metadata": {},
   "outputs": [
    {
     "data": {
      "text/plain": [
       "99    1014080\n",
       "8       14804\n",
       "9        3630\n",
       "10       3534\n",
       "6        2783\n",
       "7        2502\n",
       "5        1705\n",
       "12       1404\n",
       "0        1366\n",
       "4        1103\n",
       "3         462\n",
       "11        453\n",
       "2         282\n",
       "1         110\n",
       "14         85\n",
       "16         73\n",
       "13         56\n",
       "98         56\n",
       "15         39\n",
       "17         25\n",
       "24         13\n",
       "18          8\n",
       "20          2\n",
       "Name: p5e_hvi, dtype: int64"
      ]
     },
     "execution_count": 308,
     "metadata": {},
     "output_type": "execute_result"
    }
   ],
   "source": [
    "df_copy_20151['p5e_hvi'] = df_copy_20151['p5e_hvi'].astype('int64')\n",
    "df_copy_20151.p5e_hvi.value_counts()"
   ]
  },
  {
   "cell_type": "markdown",
   "metadata": {},
   "source": [
    "## Horas sábado (p5e_hsa)\n",
    "00-24 Número de horas en sábado\n",
    "98 Trabajó ese día pero no sabe cuanto tiempo\n",
    "99 No sabe si trabajó ese día"
   ]
  },
  {
   "cell_type": "code",
   "execution_count": 309,
   "metadata": {},
   "outputs": [
    {
     "data": {
      "text/plain": [
       "99    1014080\n",
       "0       16534\n",
       "8        5979\n",
       "6        2935\n",
       "5        2796\n",
       "10       1268\n",
       "9        1100\n",
       "4        1039\n",
       "12        979\n",
       "7         960\n",
       "3         250\n",
       "11        205\n",
       "2         155\n",
       "1          69\n",
       "14         66\n",
       "13         44\n",
       "16         36\n",
       "98         34\n",
       "15         34\n",
       "17          6\n",
       "18          4\n",
       "24          2\n",
       "Name: p5e_hsa, dtype: int64"
      ]
     },
     "execution_count": 309,
     "metadata": {},
     "output_type": "execute_result"
    }
   ],
   "source": [
    "df_copy_20151['p5e_hsa'] = df_copy_20151['p5e_hsa'].astype('int64')\n",
    "df_copy_20151.p5e_hsa.value_counts()"
   ]
  },
  {
   "cell_type": "markdown",
   "metadata": {},
   "source": [
    "## Minutos sábado(p5e_msa)\n",
    "00-59 Número de minutos en sábado"
   ]
  },
  {
   "cell_type": "code",
   "execution_count": 310,
   "metadata": {},
   "outputs": [
    {
     "data": {
      "text/plain": [
       "99    1014078\n",
       "0       34218\n",
       "30        261\n",
       "20          4\n",
       "45          3\n",
       "10          2\n",
       "55          1\n",
       "46          1\n",
       "40          1\n",
       "15          1\n",
       "12          1\n",
       "8           1\n",
       "5           1\n",
       "3           1\n",
       "1           1\n",
       "Name: p5e_msa, dtype: int64"
      ]
     },
     "execution_count": 310,
     "metadata": {},
     "output_type": "execute_result"
    }
   ],
   "source": [
    "df_copy_20151['p5e_msa'] = df_copy_20151['p5e_msa'].astype('int64')\n",
    "df_copy_20151.p5e_msa.value_counts()"
   ]
  },
  {
   "cell_type": "markdown",
   "metadata": {},
   "source": [
    "## Horas domingo (p5e_hdo)\n",
    "00-24 Número de horas en domingo\n",
    "98 Trabajó ese día pero no sabe cuanto tiempo\n",
    "99 No sabe si trabajó ese día"
   ]
  },
  {
   "cell_type": "code",
   "execution_count": 311,
   "metadata": {},
   "outputs": [
    {
     "data": {
      "text/plain": [
       "99    1014079\n",
       "0       30262\n",
       "8        1426\n",
       "12        599\n",
       "10        435\n",
       "6         342\n",
       "9         294\n",
       "5         219\n",
       "7         206\n",
       "4         182\n",
       "3         102\n",
       "2          94\n",
       "11         80\n",
       "14         52\n",
       "16         52\n",
       "1          33\n",
       "13         28\n",
       "15         25\n",
       "98         19\n",
       "18         17\n",
       "17         17\n",
       "24         12\n",
       "Name: p5e_hdo, dtype: int64"
      ]
     },
     "execution_count": 311,
     "metadata": {},
     "output_type": "execute_result"
    }
   ],
   "source": [
    "df_copy_20151['p5e_hdo'] = df_copy_20151['p5e_hdo'].astype('int64')\n",
    "df_copy_20151.p5e_hdo.value_counts()"
   ]
  },
  {
   "cell_type": "markdown",
   "metadata": {},
   "source": [
    "## Minutos domingo (p5e_mdo)\n",
    "00-59 Número de minutos en domingo"
   ]
  },
  {
   "cell_type": "code",
   "execution_count": 312,
   "metadata": {},
   "outputs": [
    {
     "data": {
      "text/plain": [
       "99    1014078\n",
       "0       34400\n",
       "30         80\n",
       "1           5\n",
       "45          4\n",
       "8           2\n",
       "46          1\n",
       "40          1\n",
       "20          1\n",
       "12          1\n",
       "5           1\n",
       "2           1\n",
       "Name: p5e_mdo, dtype: int64"
      ]
     },
     "execution_count": 312,
     "metadata": {},
     "output_type": "execute_result"
    }
   ],
   "source": [
    "df_copy_20151['p5e_mdo'] = df_copy_20151['p5e_mdo'].astype('int64')\n",
    "df_copy_20151.p5e_mdo.value_counts()"
   ]
  },
  {
   "cell_type": "markdown",
   "metadata": {},
   "source": [
    "## Total de horas (p5e_thrs)\n",
    "001-998 Total de Número de horas\n",
    "999 No especificado\n"
   ]
  },
  {
   "cell_type": "code",
   "execution_count": 313,
   "metadata": {
    "scrolled": true
   },
   "outputs": [
    {
     "data": {
      "text/plain": [
       "99     1014080\n",
       "40        6541\n",
       "48        5452\n",
       "45        2448\n",
       "30        1924\n",
       "35        1644\n",
       "50        1630\n",
       "60        1288\n",
       "25        1113\n",
       "54         932\n",
       "46         859\n",
       "56         823\n",
       "36         775\n",
       "42         727\n",
       "20         634\n",
       "72         549\n",
       "55         524\n",
       "44         483\n",
       "24         472\n",
       "51         468\n",
       "84         305\n",
       "32         270\n",
       "15         266\n",
       "47         246\n",
       "70         244\n",
       "12         235\n",
       "66         234\n",
       "18         181\n",
       "37         176\n",
       "10         166\n",
       "        ...   \n",
       "13          13\n",
       "19          12\n",
       "29          12\n",
       "112         11\n",
       "75          11\n",
       "105         11\n",
       "79           7\n",
       "89           6\n",
       "71           5\n",
       "74           5\n",
       "73           5\n",
       "85           4\n",
       "82           4\n",
       "81           4\n",
       "1            3\n",
       "94           3\n",
       "87           3\n",
       "120          3\n",
       "92           2\n",
       "108          2\n",
       "83           2\n",
       "119          2\n",
       "76           2\n",
       "97           1\n",
       "93           1\n",
       "100          1\n",
       "102          1\n",
       "106          1\n",
       "113          1\n",
       "86           1\n",
       "Name: p5e_thrs, Length: 108, dtype: int64"
      ]
     },
     "execution_count": 313,
     "metadata": {},
     "output_type": "execute_result"
    }
   ],
   "source": [
    "df_copy_20151['p5e_thrs'] = df_copy_20151['p5e_thrs'].astype('int64')\n",
    "df_copy_20151.p5e_thrs.value_counts()"
   ]
  },
  {
   "cell_type": "markdown",
   "metadata": {},
   "source": [
    "## Total de días (campo adicional contenido en la base de datos) (p5e_tdia)\n",
    "1-7 total de días trabajados en la semana\n",
    "99 Número  de dás no especificado"
   ]
  },
  {
   "cell_type": "code",
   "execution_count": 314,
   "metadata": {},
   "outputs": [],
   "source": [
    "df_copy_20151['p5e_tdia'].replace(to_replace=[' ', '99'],value='99',inplace=True)"
   ]
  },
  {
   "cell_type": "code",
   "execution_count": 315,
   "metadata": {},
   "outputs": [],
   "source": [
    "df_copy_20151['p5e_tdia'].replace(to_replace=['9', '99'],value='99',inplace=True)"
   ]
  },
  {
   "cell_type": "code",
   "execution_count": 316,
   "metadata": {},
   "outputs": [
    {
     "data": {
      "text/plain": [
       "99    1014091\n",
       "5       15388\n",
       "6       15253\n",
       "7        1824\n",
       "3         663\n",
       "4         601\n",
       "2         521\n",
       "1         234\n",
       "Name: p5e_tdia, dtype: int64"
      ]
     },
     "execution_count": 316,
     "metadata": {},
     "output_type": "execute_result"
    }
   ],
   "source": [
    "df_copy_20151['p5e_tdia'] = df_copy_20151['p5e_tdia'].astype('int64')\n",
    "df_copy_20151.p5e_tdia.value_counts()"
   ]
  },
  {
   "cell_type": "markdown",
   "metadata": {},
   "source": [
    "## ¿Cuál es el motivo principal por el que la semana pasada... no trabajo las horas habituales?(p5f)\n",
    "1 Exceso de trabajo\n",
    "2 Obtener más ingresos\n",
    "3 Horas extras\n",
    "4 Temporada alta (clientes, ventas, siembra o cosecha) \n",
    "5 Reducción o suspensión\n",
    " del trabajo (falta de ven\n",
    " tas o clientes, temporada\n",
    " baja, paro técnico)\n",
    "6 Término del contrato o\n",
    " temporada de trabajo\n",
    "7 Causas climatológicas\n",
    "8 Vacaciones o días festivos\n",
    "9 Enfermedad o accidente\n",
    "10 Cuidar o atender a niños,\n",
    " enfermos o ancianos\n",
    "11 Otros motivos personales\n",
    " o familiares\n",
    "12 Ninguno de los anteriores\n",
    "99 No sabe"
   ]
  },
  {
   "cell_type": "code",
   "execution_count": 317,
   "metadata": {},
   "outputs": [],
   "source": [
    "df_copy_20151['p5f'].replace(to_replace=['0', '99'],value='99',inplace=True)"
   ]
  },
  {
   "cell_type": "code",
   "execution_count": 318,
   "metadata": {},
   "outputs": [
    {
     "data": {
      "text/plain": [
       "99    1027703\n",
       "8       12783\n",
       "5        2028\n",
       "12       1207\n",
       "3        1101\n",
       "1        1015\n",
       "7        1011\n",
       "11        666\n",
       "9         532\n",
       "4         225\n",
       "10        130\n",
       "6         111\n",
       "2          63\n",
       "Name: p5f, dtype: int64"
      ]
     },
     "execution_count": 318,
     "metadata": {},
     "output_type": "execute_result"
    }
   ],
   "source": [
    "df_copy_20151['p5f'] = df_copy_20151['p5f'].astype('int64')\n",
    "df_copy_20151.p5f.value_counts()"
   ]
  },
  {
   "cell_type": "markdown",
   "metadata": {},
   "source": [
    "# Pregunta 5G: ¿En que meses del año … realiza este trabajo?"
   ]
  },
  {
   "cell_type": "markdown",
   "metadata": {},
   "source": [
    "## Opción 1: enero C  (p5g1)\n",
    "01 Enero\n",
    "99 No sabe"
   ]
  },
  {
   "cell_type": "code",
   "execution_count": 319,
   "metadata": {},
   "outputs": [],
   "source": [
    "df_copy_20151['p5g1'].replace(to_replace=['0', '99'],value='99',inplace=True)"
   ]
  },
  {
   "cell_type": "code",
   "execution_count": 320,
   "metadata": {},
   "outputs": [
    {
     "data": {
      "text/plain": [
       "99    1047962\n",
       "1         613\n",
       "Name: p5g1, dtype: int64"
      ]
     },
     "execution_count": 320,
     "metadata": {},
     "output_type": "execute_result"
    }
   ],
   "source": [
    "df_copy_20151['p5g1'] = df_copy_20151['p5g1'].astype('int64')\n",
    "df_copy_20151.p5g1.value_counts()"
   ]
  },
  {
   "cell_type": "markdown",
   "metadata": {},
   "source": [
    "## Opción 2: febrero (p5g2)\n",
    "2 Febrero\n",
    "99 No sabe"
   ]
  },
  {
   "cell_type": "code",
   "execution_count": 321,
   "metadata": {},
   "outputs": [
    {
     "data": {
      "text/plain": [
       "99    1047993\n",
       "2         582\n",
       "Name: p5g2, dtype: int64"
      ]
     },
     "execution_count": 321,
     "metadata": {},
     "output_type": "execute_result"
    }
   ],
   "source": [
    "df_copy_20151['p5g2'] = df_copy_20151['p5g2'].astype('int64')\n",
    "df_copy_20151.p5g2.value_counts()"
   ]
  },
  {
   "cell_type": "markdown",
   "metadata": {},
   "source": [
    "## Opción 3: marzo  (p5g3)\n",
    "3 marzo\n",
    "99 No sabe"
   ]
  },
  {
   "cell_type": "code",
   "execution_count": 322,
   "metadata": {},
   "outputs": [],
   "source": [
    "df_copy_20151['p5g3'].replace(to_replace=['0', '99'],value='99',inplace=True)"
   ]
  },
  {
   "cell_type": "code",
   "execution_count": 323,
   "metadata": {},
   "outputs": [
    {
     "data": {
      "text/plain": [
       "99    1047944\n",
       "3         631\n",
       "Name: p5g3, dtype: int64"
      ]
     },
     "execution_count": 323,
     "metadata": {},
     "output_type": "execute_result"
    }
   ],
   "source": [
    "df_copy_20151['p5g3'] = df_copy_20151['p5g3'].astype('int64')\n",
    "df_copy_20151.p5g3.value_counts()"
   ]
  },
  {
   "cell_type": "markdown",
   "metadata": {},
   "source": [
    "## Opción 4: abril  (p5g4)\n",
    "4 abril\n",
    "99 No sabe"
   ]
  },
  {
   "cell_type": "code",
   "execution_count": 324,
   "metadata": {},
   "outputs": [],
   "source": [
    "df_copy_20151['p5g4'].replace(to_replace=['0', '99'],value='99',inplace=True)"
   ]
  },
  {
   "cell_type": "code",
   "execution_count": 325,
   "metadata": {},
   "outputs": [
    {
     "data": {
      "text/plain": [
       "99    1047779\n",
       "4         796\n",
       "Name: p5g4, dtype: int64"
      ]
     },
     "execution_count": 325,
     "metadata": {},
     "output_type": "execute_result"
    }
   ],
   "source": [
    "df_copy_20151['p5g4'] = df_copy_20151['p5g4'].astype('int64')\n",
    "df_copy_20151.p5g4.value_counts()"
   ]
  },
  {
   "cell_type": "markdown",
   "metadata": {},
   "source": [
    "## Opción 6: junio   (p5g6)\n",
    "6 junio\n",
    "99 No sabe"
   ]
  },
  {
   "cell_type": "code",
   "execution_count": 326,
   "metadata": {},
   "outputs": [],
   "source": [
    "df_copy_20151['p5g6'].replace(to_replace=['0', '99'],value='99',inplace=True)"
   ]
  },
  {
   "cell_type": "code",
   "execution_count": 327,
   "metadata": {},
   "outputs": [
    {
     "data": {
      "text/plain": [
       "99    1047526\n",
       "6        1049\n",
       "Name: p5g6, dtype: int64"
      ]
     },
     "execution_count": 327,
     "metadata": {},
     "output_type": "execute_result"
    }
   ],
   "source": [
    "df_copy_20151['p5g6'] = df_copy_20151['p5g6'].astype('int64')\n",
    "df_copy_20151.p5g6.value_counts()"
   ]
  },
  {
   "cell_type": "markdown",
   "metadata": {},
   "source": [
    "## Opción 7: julio  (p5g7)\n",
    "7 julio \n",
    "99 No sabe"
   ]
  },
  {
   "cell_type": "code",
   "execution_count": 328,
   "metadata": {},
   "outputs": [],
   "source": [
    "df_copy_20151['p5g7'].replace(to_replace=['0', '99'],value='99',inplace=True)"
   ]
  },
  {
   "cell_type": "code",
   "execution_count": 329,
   "metadata": {},
   "outputs": [
    {
     "data": {
      "text/plain": [
       "99    1047547\n",
       "7        1028\n",
       "Name: p5g7, dtype: int64"
      ]
     },
     "execution_count": 329,
     "metadata": {},
     "output_type": "execute_result"
    }
   ],
   "source": [
    "df_copy_20151['p5g7'] = df_copy_20151['p5g7'].astype('int64')\n",
    "df_copy_20151.p5g7.value_counts()"
   ]
  },
  {
   "cell_type": "markdown",
   "metadata": {},
   "source": [
    "## Opción 8: agosto   (p5g8)\n",
    "8 agosto\n",
    "99 No sabe"
   ]
  },
  {
   "cell_type": "code",
   "execution_count": 330,
   "metadata": {},
   "outputs": [],
   "source": [
    "df_copy_20151['p5g8'].replace(to_replace=['0', '99'],value='99',inplace=True)"
   ]
  },
  {
   "cell_type": "code",
   "execution_count": 331,
   "metadata": {},
   "outputs": [
    {
     "data": {
      "text/plain": [
       "99    1047585\n",
       "8         990\n",
       "Name: p5g8, dtype: int64"
      ]
     },
     "execution_count": 331,
     "metadata": {},
     "output_type": "execute_result"
    }
   ],
   "source": [
    "df_copy_20151['p5g8'] = df_copy_20151['p5g8'].astype('int64')\n",
    "df_copy_20151.p5g8.value_counts()"
   ]
  },
  {
   "cell_type": "markdown",
   "metadata": {},
   "source": [
    "## Opción 9: septiembre  (p5g9)\n",
    "9 Septiembre \n",
    "99 No sabe"
   ]
  },
  {
   "cell_type": "code",
   "execution_count": 332,
   "metadata": {},
   "outputs": [],
   "source": [
    "df_copy_20151['p5g9'].replace(to_replace=['0', '99'],value='99',inplace=True)"
   ]
  },
  {
   "cell_type": "code",
   "execution_count": 333,
   "metadata": {},
   "outputs": [
    {
     "data": {
      "text/plain": [
       "99    1047695\n",
       "9         880\n",
       "Name: p5g9, dtype: int64"
      ]
     },
     "execution_count": 333,
     "metadata": {},
     "output_type": "execute_result"
    }
   ],
   "source": [
    "df_copy_20151['p5g9'] = df_copy_20151['p5g9'].astype('int64')\n",
    "df_copy_20151.p5g9.value_counts()"
   ]
  },
  {
   "cell_type": "markdown",
   "metadata": {},
   "source": [
    "## Opción 10: octubre  (p5g10)\n",
    "10 octubre\n",
    "99 No sabe"
   ]
  },
  {
   "cell_type": "code",
   "execution_count": 334,
   "metadata": {},
   "outputs": [],
   "source": [
    "df_copy_20151['p5g10'].replace(to_replace=['0', '99'],value='99',inplace=True)"
   ]
  },
  {
   "cell_type": "code",
   "execution_count": 335,
   "metadata": {},
   "outputs": [
    {
     "data": {
      "text/plain": [
       "99    1047697\n",
       "10        878\n",
       "Name: p5g10, dtype: int64"
      ]
     },
     "execution_count": 335,
     "metadata": {},
     "output_type": "execute_result"
    }
   ],
   "source": [
    "df_copy_20151['p5g10'] = df_copy_20151['p5g10'].astype('int64')\n",
    "df_copy_20151.p5g10.value_counts()"
   ]
  },
  {
   "cell_type": "markdown",
   "metadata": {},
   "source": [
    "## Opción 11: noviembre(p5g11)\n",
    "11 Noviembre\n",
    "99 No sabe"
   ]
  },
  {
   "cell_type": "code",
   "execution_count": 336,
   "metadata": {},
   "outputs": [],
   "source": [
    "df_copy_20151['p5g11'].replace(to_replace=['0', '99'],value='99',inplace=True)"
   ]
  },
  {
   "cell_type": "code",
   "execution_count": 337,
   "metadata": {},
   "outputs": [
    {
     "data": {
      "text/plain": [
       "99    1047675\n",
       "11        900\n",
       "Name: p5g11, dtype: int64"
      ]
     },
     "execution_count": 337,
     "metadata": {},
     "output_type": "execute_result"
    }
   ],
   "source": [
    "df_copy_20151['p5g11'] = df_copy_20151['p5g11'].astype('int64')\n",
    "df_copy_20151.p5g11.value_counts()"
   ]
  },
  {
   "cell_type": "markdown",
   "metadata": {},
   "source": [
    "## Opción 12: diciembre  (p5g12)\n",
    "12 diciembre\n",
    "99 No sabe\n"
   ]
  },
  {
   "cell_type": "code",
   "execution_count": 338,
   "metadata": {},
   "outputs": [],
   "source": [
    "df_copy_20151['p5g12'].replace(to_replace=['0', '99'],value='99',inplace=True)"
   ]
  },
  {
   "cell_type": "code",
   "execution_count": 339,
   "metadata": {},
   "outputs": [
    {
     "data": {
      "text/plain": [
       "99    1047778\n",
       "12        797\n",
       "Name: p5g12, dtype: int64"
      ]
     },
     "execution_count": 339,
     "metadata": {},
     "output_type": "execute_result"
    }
   ],
   "source": [
    "df_copy_20151['p5g12'] = df_copy_20151['p5g12'].astype('int64')\n",
    "df_copy_20151.p5g12.value_counts()"
   ]
  },
  {
   "cell_type": "markdown",
   "metadata": {},
   "source": [
    "## Opción 13: Varían los meses en que trabaja  (p5g13)\n",
    "13 Varían los meses en que trabaja\n",
    "99 No sabe"
   ]
  },
  {
   "cell_type": "code",
   "execution_count": 340,
   "metadata": {},
   "outputs": [],
   "source": [
    "df_copy_20151['p5g13'].replace(to_replace=['0', '99'],value='99',inplace=True)"
   ]
  },
  {
   "cell_type": "code",
   "execution_count": 341,
   "metadata": {},
   "outputs": [
    {
     "data": {
      "text/plain": [
       "99    1043820\n",
       "13       4755\n",
       "Name: p5g13, dtype: int64"
      ]
     },
     "execution_count": 341,
     "metadata": {},
     "output_type": "execute_result"
    }
   ],
   "source": [
    "df_copy_20151['p5g13'] = df_copy_20151['p5g13'].astype('int64')\n",
    "df_copy_20151.p5g13.value_counts()"
   ]
  },
  {
   "cell_type": "markdown",
   "metadata": {},
   "source": [
    "## Opción 14: Trabaja todos los meses del año (p5g14)\n",
    "14 Trabaja todos los meses del año\n",
    "99 No sabe"
   ]
  },
  {
   "cell_type": "code",
   "execution_count": 342,
   "metadata": {},
   "outputs": [],
   "source": [
    "df_copy_20151['p5g14'].replace(to_replace=['0', '99'],value='99',inplace=True)"
   ]
  },
  {
   "cell_type": "code",
   "execution_count": 343,
   "metadata": {},
   "outputs": [
    {
     "data": {
      "text/plain": [
       "99    558537\n",
       "14    490038\n",
       "Name: p5g14, dtype: int64"
      ]
     },
     "execution_count": 343,
     "metadata": {},
     "output_type": "execute_result"
    }
   ],
   "source": [
    "df_copy_20151['p5g14'] = df_copy_20151['p5g14'].astype('int64')\n",
    "df_copy_20151.p5g14.value_counts()"
   ]
  },
  {
   "cell_type": "markdown",
   "metadata": {},
   "source": [
    "## Opción 15: Tiene menos de un año en este trabajo  (p5g15)\n",
    "15 Tiene menos de un año en este trabajo\n",
    "99 No sabe"
   ]
  },
  {
   "cell_type": "code",
   "execution_count": 344,
   "metadata": {},
   "outputs": [],
   "source": [
    "df_copy_20151['p5g15'].replace(to_replace=['0', '99'],value='99',inplace=True)"
   ]
  },
  {
   "cell_type": "code",
   "execution_count": 345,
   "metadata": {},
   "outputs": [
    {
     "data": {
      "text/plain": [
       "99    972594\n",
       "15     75981\n",
       "Name: p5g15, dtype: int64"
      ]
     },
     "execution_count": 345,
     "metadata": {},
     "output_type": "execute_result"
    }
   ],
   "source": [
    "df_copy_20151['p5g15'] = df_copy_20151['p5g15'].astype('int64')\n",
    "df_copy_20151.p5g15.value_counts()"
   ]
  },
  {
   "cell_type": "markdown",
   "metadata": {},
   "source": [
    "## Opción 99: no sabe (p5g99)\n",
    "99 No sabe"
   ]
  },
  {
   "cell_type": "code",
   "execution_count": 346,
   "metadata": {},
   "outputs": [],
   "source": [
    "df_copy_20151['p5g99'].replace(to_replace=['0', '99'],value='99',inplace=True)"
   ]
  },
  {
   "cell_type": "code",
   "execution_count": 347,
   "metadata": {},
   "outputs": [
    {
     "data": {
      "text/plain": [
       "99    1048575\n",
       "Name: p5g99, dtype: int64"
      ]
     },
     "execution_count": 347,
     "metadata": {},
     "output_type": "execute_result"
    }
   ],
   "source": [
    "df_copy_20151['p5g99'] = df_copy_20151['p5g99'].astype('int64')\n",
    "df_copy_20151.p5g99.value_counts()"
   ]
  },
  {
   "cell_type": "markdown",
   "metadata": {},
   "source": [
    "##  ¿Cuál es el motivo principal por el que ... no trabaja  todos los meses del año? (p5h)\n",
    "1 Trabaja solo cuando lo llaman o solicitan sus servicios\n",
    "2 Sólo hay trabajo durante algunas épocas o temporadas del año\n",
    "3 Trabaja solo en periodos de vacaciones escolares\n",
    "4 No necesita trabajar todo el año\n",
    "5 Motivos personales o familiares\n",
    "6 Otro motivo\n",
    "9 No sabe"
   ]
  },
  {
   "cell_type": "code",
   "execution_count": 348,
   "metadata": {},
   "outputs": [],
   "source": [
    "df_copy_20151['p5h'].replace(to_replace=[' ', '99'],value='99',inplace=True)"
   ]
  },
  {
   "cell_type": "code",
   "execution_count": 349,
   "metadata": {},
   "outputs": [
    {
     "data": {
      "text/plain": [
       "99    1047102\n",
       "2         911\n",
       "1         415\n",
       "6          56\n",
       "3          48\n",
       "5          17\n",
       "9          14\n",
       "4          12\n",
       "Name: p5h, dtype: int64"
      ]
     },
     "execution_count": 349,
     "metadata": {},
     "output_type": "execute_result"
    }
   ],
   "source": [
    "df_copy_20151['p5h'] = df_copy_20151['p5h'].astype('int64')\n",
    "df_copy_20151.p5h.value_counts()"
   ]
  },
  {
   "cell_type": "markdown",
   "metadata": {},
   "source": [
    "## Campo exclusivo del sistema  (ur)\n",
    "1,2  Campo exclusivo del sistema"
   ]
  },
  {
   "cell_type": "code",
   "execution_count": 350,
   "metadata": {},
   "outputs": [
    {
     "data": {
      "text/plain": [
       "1     684522\n",
       "2     364052\n",
       "99         1\n",
       "Name: ur, dtype: int64"
      ]
     },
     "execution_count": 350,
     "metadata": {},
     "output_type": "execute_result"
    }
   ],
   "source": [
    "df_copy_20151['ur'] = df_copy_20151['ur'].astype('int64')\n",
    "df_copy_20151.ur.value_counts()"
   ]
  },
  {
   "cell_type": "markdown",
   "metadata": {},
   "source": [
    "## Factor de expansión  (fac)\n",
    "000001-999998 Valor"
   ]
  },
  {
   "cell_type": "code",
   "execution_count": 351,
   "metadata": {
    "scrolled": true
   },
   "outputs": [
    {
     "data": {
      "text/plain": [
       "113      7225\n",
       "118      6908\n",
       "114      6455\n",
       "111      6093\n",
       "116      6008\n",
       "117      5914\n",
       "109      5904\n",
       "119      5890\n",
       "120      5870\n",
       "131      5822\n",
       "127      5784\n",
       "110      5752\n",
       "115      5685\n",
       "123      5586\n",
       "128      5562\n",
       "108      5530\n",
       "106      5518\n",
       "104      5492\n",
       "122      5465\n",
       "102      5460\n",
       "101      5432\n",
       "129      5347\n",
       "107      5311\n",
       "124      5258\n",
       "121      5223\n",
       "138      5200\n",
       "132      5188\n",
       "134      5157\n",
       "125      5117\n",
       "112      5107\n",
       "         ... \n",
       "2287        2\n",
       "7923        2\n",
       "5783        2\n",
       "1385        2\n",
       "11735       2\n",
       "3449        2\n",
       "3191        2\n",
       "2576        2\n",
       "3156        2\n",
       "2593        2\n",
       "4834        2\n",
       "8326        2\n",
       "5914        2\n",
       "3276        2\n",
       "2486        2\n",
       "5184        2\n",
       "10361       2\n",
       "5043        2\n",
       "4391        2\n",
       "4109        2\n",
       "2203        2\n",
       "5959        1\n",
       "6473        1\n",
       "5548        1\n",
       "5702        1\n",
       "4606        1\n",
       "7230        1\n",
       "2909        1\n",
       "4086        1\n",
       "5804        1\n",
       "Name: fac, Length: 2483, dtype: int64"
      ]
     },
     "execution_count": 351,
     "metadata": {},
     "output_type": "execute_result"
    }
   ],
   "source": [
    "df_copy_20151['fac'] = df_copy_20151['fac'].astype('int64')\n",
    "df_copy_20151.fac.value_counts()"
   ]
  },
  {
   "cell_type": "code",
   "execution_count": 352,
   "metadata": {},
   "outputs": [],
   "source": [
    "#df_copy_20151.to_csv ('C:/Users/Pc-Adri/Documents/ENOE/Documento2015.csv', sep=',', index=False)"
   ]
  },
  {
   "cell_type": "code",
   "execution_count": 353,
   "metadata": {
    "scrolled": true
   },
   "outputs": [
    {
     "data": {
      "text/plain": [
       "r_def          int64\n",
       "cd_a           int64\n",
       "ent            int64\n",
       "con            int64\n",
       "upm            int64\n",
       "d_sem          int64\n",
       "n_pro_viv      int64\n",
       "v_sel          int64\n",
       "n_hog          int64\n",
       "h_mud          int64\n",
       "n_ent          int64\n",
       "per            int64\n",
       "n_ren          int64\n",
       "eda            int64\n",
       "n_inf          int64\n",
       "p1             int64\n",
       "p1a1           int64\n",
       "p1a2           int64\n",
       "p1a3           int64\n",
       "p1b            int64\n",
       "p1c            int64\n",
       "p1d            int64\n",
       "p1e            int64\n",
       "p2_1           int64\n",
       "p2_2           int64\n",
       "p2_3           int64\n",
       "p2_4           int64\n",
       "p2_9           int64\n",
       "p2a_dia        int64\n",
       "p2a_sem        int64\n",
       "              ...   \n",
       "p5e_hju        int64\n",
       "p5e_mju        int64\n",
       "p5e_hvi        int64\n",
       "p5e_mvi      float64\n",
       "p5e_hsa        int64\n",
       "p5e_msa        int64\n",
       "p5e_hdo        int64\n",
       "p5e_mdo        int64\n",
       "p5e_thrs       int64\n",
       "p5e_tdia       int64\n",
       "p5f            int64\n",
       "p5g1           int64\n",
       "p5g2           int64\n",
       "p5g3           int64\n",
       "p5g4           int64\n",
       "p5g5         float64\n",
       "p5g6           int64\n",
       "p5g7           int64\n",
       "p5g8           int64\n",
       "p5g9           int64\n",
       "p5g10          int64\n",
       "p5g11          int64\n",
       "p5g12          int64\n",
       "p5g13          int64\n",
       "p5g14          int64\n",
       "p5g15          int64\n",
       "p5g99          int64\n",
       "p5h            int64\n",
       "ur             int64\n",
       "fac            int64\n",
       "Length: 186, dtype: object"
      ]
     },
     "execution_count": 353,
     "metadata": {},
     "output_type": "execute_result"
    }
   ],
   "source": [
    "df_copy_20151.dtypes"
   ]
  },
  {
   "cell_type": "markdown",
   "metadata": {},
   "source": [
    "## Elimacion de columnas con mas de 50% de 99"
   ]
  },
  {
   "cell_type": "code",
   "execution_count": 354,
   "metadata": {},
   "outputs": [],
   "source": [
    "n = df_copy_20151.columns.values.tolist()\n",
    "m = round(df_copy_20151.shape[0]*.50)\n",
    "l = []\n",
    "for i in n:\n",
    "    if df_copy_20151[i].value_counts().get(99) != None:\n",
    "        if m < df_copy_20151[i].value_counts().get(99):\n",
    "            l.append(i)\n",
    "            df_copy_20151 = df_copy_20151.drop(i, 1)"
   ]
  },
  {
   "cell_type": "code",
   "execution_count": 355,
   "metadata": {
    "scrolled": true
   },
   "outputs": [
    {
     "data": {
      "text/plain": [
       "r_def        int64\n",
       "cd_a         int64\n",
       "ent          int64\n",
       "con          int64\n",
       "upm          int64\n",
       "d_sem        int64\n",
       "n_pro_viv    int64\n",
       "v_sel        int64\n",
       "n_hog        int64\n",
       "h_mud        int64\n",
       "n_ent        int64\n",
       "per          int64\n",
       "n_ren        int64\n",
       "eda          int64\n",
       "n_inf        int64\n",
       "p1           int64\n",
       "p3           int64\n",
       "p3a          int64\n",
       "p5a          int64\n",
       "p5c_hlu      int64\n",
       "p5c_mlu      int64\n",
       "p5c_hma      int64\n",
       "p5c_mma      int64\n",
       "p5c_hmi      int64\n",
       "p5c_mmi      int64\n",
       "p5c_hju      int64\n",
       "p5c_mju      int64\n",
       "p5c_hvi      int64\n",
       "p5c_mvi      int64\n",
       "p5c_hsa      int64\n",
       "p5c_msa      int64\n",
       "p5c_hdo      int64\n",
       "p5c_mdo      int64\n",
       "p5c_thrs     int64\n",
       "p5c_tdia     int64\n",
       "p5d          int64\n",
       "ur           int64\n",
       "fac          int64\n",
       "dtype: object"
      ]
     },
     "execution_count": 355,
     "metadata": {},
     "output_type": "execute_result"
    }
   ],
   "source": [
    "df_copy_20151.dtypes"
   ]
  },
  {
   "cell_type": "code",
   "execution_count": 356,
   "metadata": {},
   "outputs": [],
   "source": [
    "df_copy_20151.to_csv ('C:/Users/JoseAntonio/Desktop/ENOE/adri/2017/2017Clean.csv', sep=',', index=False)"
   ]
  },
  {
   "cell_type": "markdown",
   "metadata": {},
   "source": [
    "## Normaliación"
   ]
  },
  {
   "cell_type": "code",
   "execution_count": 357,
   "metadata": {},
   "outputs": [],
   "source": [
    "df_copy_20151 = sk.preprocessing.normalize(df_copy_20151, norm='l2', axis=1, copy=True )"
   ]
  },
  {
   "cell_type": "code",
   "execution_count": 358,
   "metadata": {},
   "outputs": [],
   "source": [
    "df2015 = pd.DataFrame(df_copy_20151)"
   ]
  },
  {
   "cell_type": "code",
   "execution_count": 359,
   "metadata": {},
   "outputs": [
    {
     "data": {
      "text/html": [
       "<div>\n",
       "<style scoped>\n",
       "    .dataframe tbody tr th:only-of-type {\n",
       "        vertical-align: middle;\n",
       "    }\n",
       "\n",
       "    .dataframe tbody tr th {\n",
       "        vertical-align: top;\n",
       "    }\n",
       "\n",
       "    .dataframe thead th {\n",
       "        text-align: right;\n",
       "    }\n",
       "</style>\n",
       "<table border=\"1\" class=\"dataframe\">\n",
       "  <thead>\n",
       "    <tr style=\"text-align: right;\">\n",
       "      <th></th>\n",
       "      <th>0</th>\n",
       "      <th>1</th>\n",
       "      <th>2</th>\n",
       "      <th>3</th>\n",
       "      <th>4</th>\n",
       "      <th>5</th>\n",
       "      <th>6</th>\n",
       "      <th>7</th>\n",
       "      <th>8</th>\n",
       "      <th>9</th>\n",
       "      <th>...</th>\n",
       "      <th>28</th>\n",
       "      <th>29</th>\n",
       "      <th>30</th>\n",
       "      <th>31</th>\n",
       "      <th>32</th>\n",
       "      <th>33</th>\n",
       "      <th>34</th>\n",
       "      <th>35</th>\n",
       "      <th>36</th>\n",
       "      <th>37</th>\n",
       "    </tr>\n",
       "  </thead>\n",
       "  <tbody>\n",
       "    <tr>\n",
       "      <th>0</th>\n",
       "      <td>0.0</td>\n",
       "      <td>0.000001</td>\n",
       "      <td>0.00001</td>\n",
       "      <td>0.044376</td>\n",
       "      <td>0.998958</td>\n",
       "      <td>0.000112</td>\n",
       "      <td>0.000061</td>\n",
       "      <td>0.000002</td>\n",
       "      <td>0.000001</td>\n",
       "      <td>0.0</td>\n",
       "      <td>...</td>\n",
       "      <td>0.00000</td>\n",
       "      <td>0.00000</td>\n",
       "      <td>0.00000</td>\n",
       "      <td>0.00000</td>\n",
       "      <td>0.00000</td>\n",
       "      <td>0.000027</td>\n",
       "      <td>0.000003</td>\n",
       "      <td>0.000001</td>\n",
       "      <td>0.000001</td>\n",
       "      <td>0.00054</td>\n",
       "    </tr>\n",
       "    <tr>\n",
       "      <th>1</th>\n",
       "      <td>0.0</td>\n",
       "      <td>0.000001</td>\n",
       "      <td>0.00001</td>\n",
       "      <td>0.044379</td>\n",
       "      <td>0.999015</td>\n",
       "      <td>0.000112</td>\n",
       "      <td>0.000061</td>\n",
       "      <td>0.000002</td>\n",
       "      <td>0.000001</td>\n",
       "      <td>0.0</td>\n",
       "      <td>...</td>\n",
       "      <td>0.00011</td>\n",
       "      <td>0.00011</td>\n",
       "      <td>0.00011</td>\n",
       "      <td>0.00011</td>\n",
       "      <td>0.00011</td>\n",
       "      <td>0.000110</td>\n",
       "      <td>0.000110</td>\n",
       "      <td>0.000110</td>\n",
       "      <td>0.000001</td>\n",
       "      <td>0.00054</td>\n",
       "    </tr>\n",
       "    <tr>\n",
       "      <th>2</th>\n",
       "      <td>0.0</td>\n",
       "      <td>0.000001</td>\n",
       "      <td>0.00001</td>\n",
       "      <td>0.044378</td>\n",
       "      <td>0.999010</td>\n",
       "      <td>0.000112</td>\n",
       "      <td>0.000061</td>\n",
       "      <td>0.000002</td>\n",
       "      <td>0.000001</td>\n",
       "      <td>0.0</td>\n",
       "      <td>...</td>\n",
       "      <td>0.00000</td>\n",
       "      <td>0.00000</td>\n",
       "      <td>0.00000</td>\n",
       "      <td>0.00000</td>\n",
       "      <td>0.00000</td>\n",
       "      <td>0.000044</td>\n",
       "      <td>0.000006</td>\n",
       "      <td>0.000001</td>\n",
       "      <td>0.000001</td>\n",
       "      <td>0.00054</td>\n",
       "    </tr>\n",
       "    <tr>\n",
       "      <th>3</th>\n",
       "      <td>0.0</td>\n",
       "      <td>0.000001</td>\n",
       "      <td>0.00001</td>\n",
       "      <td>0.044378</td>\n",
       "      <td>0.999011</td>\n",
       "      <td>0.000112</td>\n",
       "      <td>0.000089</td>\n",
       "      <td>0.000003</td>\n",
       "      <td>0.000001</td>\n",
       "      <td>0.0</td>\n",
       "      <td>...</td>\n",
       "      <td>0.00011</td>\n",
       "      <td>0.00011</td>\n",
       "      <td>0.00011</td>\n",
       "      <td>0.00011</td>\n",
       "      <td>0.00011</td>\n",
       "      <td>0.000110</td>\n",
       "      <td>0.000110</td>\n",
       "      <td>0.000110</td>\n",
       "      <td>0.000001</td>\n",
       "      <td>0.00054</td>\n",
       "    </tr>\n",
       "    <tr>\n",
       "      <th>4</th>\n",
       "      <td>0.0</td>\n",
       "      <td>0.000001</td>\n",
       "      <td>0.00001</td>\n",
       "      <td>0.044379</td>\n",
       "      <td>0.999015</td>\n",
       "      <td>0.000112</td>\n",
       "      <td>0.000089</td>\n",
       "      <td>0.000003</td>\n",
       "      <td>0.000001</td>\n",
       "      <td>0.0</td>\n",
       "      <td>...</td>\n",
       "      <td>0.00011</td>\n",
       "      <td>0.00011</td>\n",
       "      <td>0.00011</td>\n",
       "      <td>0.00011</td>\n",
       "      <td>0.00011</td>\n",
       "      <td>0.000110</td>\n",
       "      <td>0.000110</td>\n",
       "      <td>0.000110</td>\n",
       "      <td>0.000001</td>\n",
       "      <td>0.00054</td>\n",
       "    </tr>\n",
       "  </tbody>\n",
       "</table>\n",
       "<p>5 rows × 38 columns</p>\n",
       "</div>"
      ],
      "text/plain": [
       "    0         1        2         3         4         5         6         7   \\\n",
       "0  0.0  0.000001  0.00001  0.044376  0.998958  0.000112  0.000061  0.000002   \n",
       "1  0.0  0.000001  0.00001  0.044379  0.999015  0.000112  0.000061  0.000002   \n",
       "2  0.0  0.000001  0.00001  0.044378  0.999010  0.000112  0.000061  0.000002   \n",
       "3  0.0  0.000001  0.00001  0.044378  0.999011  0.000112  0.000089  0.000003   \n",
       "4  0.0  0.000001  0.00001  0.044379  0.999015  0.000112  0.000089  0.000003   \n",
       "\n",
       "         8    9    ...          28       29       30       31       32  \\\n",
       "0  0.000001  0.0   ...     0.00000  0.00000  0.00000  0.00000  0.00000   \n",
       "1  0.000001  0.0   ...     0.00011  0.00011  0.00011  0.00011  0.00011   \n",
       "2  0.000001  0.0   ...     0.00000  0.00000  0.00000  0.00000  0.00000   \n",
       "3  0.000001  0.0   ...     0.00011  0.00011  0.00011  0.00011  0.00011   \n",
       "4  0.000001  0.0   ...     0.00011  0.00011  0.00011  0.00011  0.00011   \n",
       "\n",
       "         33        34        35        36       37  \n",
       "0  0.000027  0.000003  0.000001  0.000001  0.00054  \n",
       "1  0.000110  0.000110  0.000110  0.000001  0.00054  \n",
       "2  0.000044  0.000006  0.000001  0.000001  0.00054  \n",
       "3  0.000110  0.000110  0.000110  0.000001  0.00054  \n",
       "4  0.000110  0.000110  0.000110  0.000001  0.00054  \n",
       "\n",
       "[5 rows x 38 columns]"
      ]
     },
     "execution_count": 359,
     "metadata": {},
     "output_type": "execute_result"
    }
   ],
   "source": [
    "df2015.head()"
   ]
  },
  {
   "cell_type": "code",
   "execution_count": 360,
   "metadata": {},
   "outputs": [],
   "source": [
    "df2015.to_csv ('C:/Users/JoseAntonio/Desktop/ENOE/adri/2017/norm2017.csv', sep=',', index=False)"
   ]
  },
  {
   "cell_type": "code",
   "execution_count": null,
   "metadata": {},
   "outputs": [],
   "source": []
  }
 ],
 "metadata": {
  "anaconda-cloud": {},
  "kernelspec": {
   "display_name": "Python 3",
   "language": "python",
   "name": "python3"
  },
  "language_info": {
   "codemirror_mode": {
    "name": "ipython",
    "version": 3
   },
   "file_extension": ".py",
   "mimetype": "text/x-python",
   "name": "python",
   "nbconvert_exporter": "python",
   "pygments_lexer": "ipython3",
   "version": "3.6.5"
  }
 },
 "nbformat": 4,
 "nbformat_minor": 1
}
