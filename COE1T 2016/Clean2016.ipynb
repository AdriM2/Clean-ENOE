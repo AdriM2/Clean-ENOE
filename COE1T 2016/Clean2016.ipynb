{
 "cells": [
  {
   "cell_type": "code",
   "execution_count": 1,
   "metadata": {},
   "outputs": [],
   "source": [
    "import pandas as pd\n",
    "import numpy as np\n",
    "import sklearn as sk\n",
    "from sklearn.cluster import KMeans\n",
    "import matplotlib.pyplot as plt"
   ]
  },
  {
   "cell_type": "code",
   "execution_count": 2,
   "metadata": {
    "scrolled": true
   },
   "outputs": [
    {
     "data": {
      "text/html": [
       "<div>\n",
       "<style scoped>\n",
       "    .dataframe tbody tr th:only-of-type {\n",
       "        vertical-align: middle;\n",
       "    }\n",
       "\n",
       "    .dataframe tbody tr th {\n",
       "        vertical-align: top;\n",
       "    }\n",
       "\n",
       "    .dataframe thead th {\n",
       "        text-align: right;\n",
       "    }\n",
       "</style>\n",
       "<table border=\"1\" class=\"dataframe\">\n",
       "  <thead>\n",
       "    <tr style=\"text-align: right;\">\n",
       "      <th></th>\n",
       "      <th>r_def</th>\n",
       "      <th>cd_a</th>\n",
       "      <th>ent</th>\n",
       "      <th>con</th>\n",
       "      <th>upm</th>\n",
       "      <th>d_sem</th>\n",
       "      <th>n_pro_viv</th>\n",
       "      <th>v_sel</th>\n",
       "      <th>n_hog</th>\n",
       "      <th>h_mud</th>\n",
       "      <th>...</th>\n",
       "      <th>p5g10</th>\n",
       "      <th>p5g11</th>\n",
       "      <th>p5g12</th>\n",
       "      <th>p5g13</th>\n",
       "      <th>p5g14</th>\n",
       "      <th>p5g15</th>\n",
       "      <th>p5g99</th>\n",
       "      <th>p5h</th>\n",
       "      <th>ur</th>\n",
       "      <th>fac</th>\n",
       "    </tr>\n",
       "  </thead>\n",
       "  <tbody>\n",
       "    <tr>\n",
       "      <th>0</th>\n",
       "      <td>0.0</td>\n",
       "      <td>1.0</td>\n",
       "      <td>9.0</td>\n",
       "      <td>40001.0</td>\n",
       "      <td>900471.0</td>\n",
       "      <td>101.0</td>\n",
       "      <td>15.0</td>\n",
       "      <td>1.0</td>\n",
       "      <td>1.0</td>\n",
       "      <td>0.0</td>\n",
       "      <td>...</td>\n",
       "      <td>NaN</td>\n",
       "      <td>NaN</td>\n",
       "      <td>NaN</td>\n",
       "      <td>NaN</td>\n",
       "      <td>14.0</td>\n",
       "      <td>NaN</td>\n",
       "      <td>NaN</td>\n",
       "      <td></td>\n",
       "      <td>1.0</td>\n",
       "      <td>422.0</td>\n",
       "    </tr>\n",
       "    <tr>\n",
       "      <th>1</th>\n",
       "      <td>0.0</td>\n",
       "      <td>1.0</td>\n",
       "      <td>9.0</td>\n",
       "      <td>40001.0</td>\n",
       "      <td>900471.0</td>\n",
       "      <td>101.0</td>\n",
       "      <td>15.0</td>\n",
       "      <td>1.0</td>\n",
       "      <td>1.0</td>\n",
       "      <td>0.0</td>\n",
       "      <td>...</td>\n",
       "      <td>NaN</td>\n",
       "      <td>NaN</td>\n",
       "      <td>NaN</td>\n",
       "      <td>NaN</td>\n",
       "      <td>14.0</td>\n",
       "      <td>NaN</td>\n",
       "      <td>NaN</td>\n",
       "      <td></td>\n",
       "      <td>1.0</td>\n",
       "      <td>422.0</td>\n",
       "    </tr>\n",
       "    <tr>\n",
       "      <th>2</th>\n",
       "      <td>0.0</td>\n",
       "      <td>1.0</td>\n",
       "      <td>9.0</td>\n",
       "      <td>40001.0</td>\n",
       "      <td>900471.0</td>\n",
       "      <td>101.0</td>\n",
       "      <td>15.0</td>\n",
       "      <td>1.0</td>\n",
       "      <td>1.0</td>\n",
       "      <td>0.0</td>\n",
       "      <td>...</td>\n",
       "      <td>NaN</td>\n",
       "      <td>NaN</td>\n",
       "      <td>NaN</td>\n",
       "      <td>NaN</td>\n",
       "      <td>14.0</td>\n",
       "      <td>NaN</td>\n",
       "      <td>NaN</td>\n",
       "      <td></td>\n",
       "      <td>1.0</td>\n",
       "      <td>422.0</td>\n",
       "    </tr>\n",
       "    <tr>\n",
       "      <th>3</th>\n",
       "      <td>0.0</td>\n",
       "      <td>1.0</td>\n",
       "      <td>9.0</td>\n",
       "      <td>40001.0</td>\n",
       "      <td>900471.0</td>\n",
       "      <td>101.0</td>\n",
       "      <td>15.0</td>\n",
       "      <td>1.0</td>\n",
       "      <td>1.0</td>\n",
       "      <td>0.0</td>\n",
       "      <td>...</td>\n",
       "      <td>NaN</td>\n",
       "      <td>NaN</td>\n",
       "      <td>NaN</td>\n",
       "      <td>NaN</td>\n",
       "      <td>NaN</td>\n",
       "      <td>NaN</td>\n",
       "      <td>NaN</td>\n",
       "      <td></td>\n",
       "      <td>1.0</td>\n",
       "      <td>422.0</td>\n",
       "    </tr>\n",
       "    <tr>\n",
       "      <th>4</th>\n",
       "      <td>0.0</td>\n",
       "      <td>1.0</td>\n",
       "      <td>9.0</td>\n",
       "      <td>40001.0</td>\n",
       "      <td>900471.0</td>\n",
       "      <td>101.0</td>\n",
       "      <td>38.0</td>\n",
       "      <td>2.0</td>\n",
       "      <td>1.0</td>\n",
       "      <td>0.0</td>\n",
       "      <td>...</td>\n",
       "      <td>NaN</td>\n",
       "      <td>NaN</td>\n",
       "      <td>NaN</td>\n",
       "      <td>NaN</td>\n",
       "      <td>NaN</td>\n",
       "      <td>NaN</td>\n",
       "      <td>NaN</td>\n",
       "      <td></td>\n",
       "      <td>1.0</td>\n",
       "      <td>422.0</td>\n",
       "    </tr>\n",
       "  </tbody>\n",
       "</table>\n",
       "<p>5 rows × 186 columns</p>\n",
       "</div>"
      ],
      "text/plain": [
       "   r_def  cd_a  ent      con       upm  d_sem  n_pro_viv  v_sel  n_hog  h_mud  \\\n",
       "0    0.0   1.0  9.0  40001.0  900471.0  101.0       15.0    1.0    1.0    0.0   \n",
       "1    0.0   1.0  9.0  40001.0  900471.0  101.0       15.0    1.0    1.0    0.0   \n",
       "2    0.0   1.0  9.0  40001.0  900471.0  101.0       15.0    1.0    1.0    0.0   \n",
       "3    0.0   1.0  9.0  40001.0  900471.0  101.0       15.0    1.0    1.0    0.0   \n",
       "4    0.0   1.0  9.0  40001.0  900471.0  101.0       38.0    2.0    1.0    0.0   \n",
       "\n",
       "   ...    p5g10  p5g11  p5g12  p5g13  p5g14  p5g15 p5g99 p5h   ur    fac  \n",
       "0  ...      NaN    NaN    NaN    NaN   14.0    NaN   NaN      1.0  422.0  \n",
       "1  ...      NaN    NaN    NaN    NaN   14.0    NaN   NaN      1.0  422.0  \n",
       "2  ...      NaN    NaN    NaN    NaN   14.0    NaN   NaN      1.0  422.0  \n",
       "3  ...      NaN    NaN    NaN    NaN    NaN    NaN   NaN      1.0  422.0  \n",
       "4  ...      NaN    NaN    NaN    NaN    NaN    NaN   NaN      1.0  422.0  \n",
       "\n",
       "[5 rows x 186 columns]"
      ]
     },
     "execution_count": 2,
     "metadata": {},
     "output_type": "execute_result"
    }
   ],
   "source": [
    "path = 'C:/Users/JoseAntonio/Desktop/ENOE/adri/2016/coe1t2016.csv'\n",
    "df = pd.read_csv(path, encoding='latin', low_memory=False)\n",
    "df.head()"
   ]
  },
  {
   "cell_type": "code",
   "execution_count": 3,
   "metadata": {},
   "outputs": [
    {
     "name": "stdout",
     "output_type": "stream",
     "text": [
      "<class 'pandas.core.frame.DataFrame'>\n",
      "RangeIndex: 1048575 entries, 0 to 1048574\n",
      "Columns: 186 entries, r_def to fac\n",
      "dtypes: float64(101), object(85)\n",
      "memory usage: 1.5+ GB\n"
     ]
    }
   ],
   "source": [
    "df.info()"
   ]
  },
  {
   "cell_type": "code",
   "execution_count": 4,
   "metadata": {},
   "outputs": [
    {
     "data": {
      "text/plain": [
       "(1048575, 186)"
      ]
     },
     "execution_count": 4,
     "metadata": {},
     "output_type": "execute_result"
    }
   ],
   "source": [
    "df.shape"
   ]
  },
  {
   "cell_type": "code",
   "execution_count": 5,
   "metadata": {},
   "outputs": [
    {
     "data": {
      "text/plain": [
       "1048575"
      ]
     },
     "execution_count": 5,
     "metadata": {},
     "output_type": "execute_result"
    }
   ],
   "source": [
    "df.shape[0]"
   ]
  },
  {
   "cell_type": "code",
   "execution_count": 6,
   "metadata": {},
   "outputs": [
    {
     "data": {
      "text/plain": [
       "186"
      ]
     },
     "execution_count": 6,
     "metadata": {},
     "output_type": "execute_result"
    }
   ],
   "source": [
    "df.shape[1]"
   ]
  },
  {
   "cell_type": "code",
   "execution_count": 7,
   "metadata": {
    "scrolled": false
   },
   "outputs": [
    {
     "data": {
      "text/plain": [
       "['r_def',\n",
       " 'cd_a',\n",
       " 'ent',\n",
       " 'con',\n",
       " 'upm',\n",
       " 'd_sem',\n",
       " 'n_pro_viv',\n",
       " 'v_sel',\n",
       " 'n_hog',\n",
       " 'h_mud',\n",
       " 'n_ent',\n",
       " 'per',\n",
       " 'n_ren',\n",
       " 'eda',\n",
       " 'n_inf',\n",
       " 'p1',\n",
       " 'p1a1',\n",
       " 'p1a2',\n",
       " 'p1a3',\n",
       " 'p1b',\n",
       " 'p1c',\n",
       " 'p1d',\n",
       " 'p1e',\n",
       " 'p2_1',\n",
       " 'p2_2',\n",
       " 'p2_3',\n",
       " 'p2_4',\n",
       " 'p2_9',\n",
       " 'p2a_dia',\n",
       " 'p2a_sem',\n",
       " 'p2a_mes',\n",
       " 'p2a_anio',\n",
       " 'p2b_dia',\n",
       " 'p2b_sem',\n",
       " 'p2b_mes',\n",
       " 'p2b_anio',\n",
       " 'p2b',\n",
       " 'p2c',\n",
       " 'p2d1',\n",
       " 'p2d2',\n",
       " 'p2d3',\n",
       " 'p2d4',\n",
       " 'p2d5',\n",
       " 'p2d6',\n",
       " 'p2d7',\n",
       " 'p2d8',\n",
       " 'p2d9',\n",
       " 'p2d10',\n",
       " 'p2d11',\n",
       " 'p2d99',\n",
       " 'p2e',\n",
       " 'p2f',\n",
       " 'p2g1',\n",
       " 'p2g2',\n",
       " 'p2h1',\n",
       " 'p2h2',\n",
       " 'p2h3',\n",
       " 'p2h4',\n",
       " 'p2h9',\n",
       " 'p3',\n",
       " 'p3a',\n",
       " 'p3b',\n",
       " 'p3c1',\n",
       " 'p3c2',\n",
       " 'p3c3',\n",
       " 'p3c4',\n",
       " 'p3c9',\n",
       " 'p3d',\n",
       " 'p3e',\n",
       " 'p3f1',\n",
       " 'p3f2',\n",
       " 'p3g1_1',\n",
       " 'p3g1_2',\n",
       " 'p3g2_1',\n",
       " 'p3g2_2',\n",
       " 'p3g3_1',\n",
       " 'p3g3_2',\n",
       " 'p3g4_1',\n",
       " 'p3g4_2',\n",
       " 'p3g9',\n",
       " 'p3g_tot',\n",
       " 'p3h',\n",
       " 'p3i',\n",
       " 'p3j',\n",
       " 'p3k1',\n",
       " 'p3k2',\n",
       " 'p3l1',\n",
       " 'p3l2',\n",
       " 'p3l3',\n",
       " 'p3l4',\n",
       " 'p3l5',\n",
       " 'p3l9',\n",
       " 'p3m1',\n",
       " 'p3m2',\n",
       " 'p3m3',\n",
       " 'p3m4',\n",
       " 'p3m5',\n",
       " 'p3m6',\n",
       " 'p3m7',\n",
       " 'p3m8',\n",
       " 'p3m9',\n",
       " 'p3n',\n",
       " 'p3o',\n",
       " 'p3p1',\n",
       " 'p3p2',\n",
       " 'p3q',\n",
       " 'p3r_anio',\n",
       " 'p3r_mes',\n",
       " 'p3r',\n",
       " 'p3s',\n",
       " 'p3t_anio',\n",
       " 'p3t_mes',\n",
       " 'p4',\n",
       " 'p4_1',\n",
       " 'p4_2',\n",
       " 'p4_3',\n",
       " 'p4a',\n",
       " 'p4a_1',\n",
       " 'p4b',\n",
       " 'p4c',\n",
       " 'p4d1',\n",
       " 'p4d2',\n",
       " 'p4d3',\n",
       " 'p4e',\n",
       " 'p4f',\n",
       " 'p4g',\n",
       " 'p4h',\n",
       " 'p4i',\n",
       " 'p4i_1',\n",
       " 'p5',\n",
       " 'p5a',\n",
       " 'p5b',\n",
       " 'p5c_hlu',\n",
       " 'p5c_mlu',\n",
       " 'p5c_hma',\n",
       " 'p5c_mma',\n",
       " 'p5c_hmi',\n",
       " 'p5c_mmi',\n",
       " 'p5c_hju',\n",
       " 'p5c_mju',\n",
       " 'p5c_hvi',\n",
       " 'p5c_mvi',\n",
       " 'p5c_hsa',\n",
       " 'p5c_msa',\n",
       " 'p5c_hdo',\n",
       " 'p5c_mdo',\n",
       " 'p5c_thrs',\n",
       " 'p5c_tdia',\n",
       " 'p5d',\n",
       " 'p5e1',\n",
       " 'p5e_hlu',\n",
       " 'p5e_mlu',\n",
       " 'p5e_hma',\n",
       " 'p5e_mma',\n",
       " 'p5e_hmi',\n",
       " 'p5e_mmi',\n",
       " 'p5e_hju',\n",
       " 'p5e_mju',\n",
       " 'p5e_hvi',\n",
       " 'p5e_mvi',\n",
       " 'p5e_hsa',\n",
       " 'p5e_msa',\n",
       " 'p5e_hdo',\n",
       " 'p5e_mdo',\n",
       " 'p5e_thrs',\n",
       " 'p5e_tdia',\n",
       " 'p5f',\n",
       " 'p5g1',\n",
       " 'p5g2',\n",
       " 'p5g3',\n",
       " 'p5g4',\n",
       " 'p5g5',\n",
       " 'p5g6',\n",
       " 'p5g7',\n",
       " 'p5g8',\n",
       " 'p5g9',\n",
       " 'p5g10',\n",
       " 'p5g11',\n",
       " 'p5g12',\n",
       " 'p5g13',\n",
       " 'p5g14',\n",
       " 'p5g15',\n",
       " 'p5g99',\n",
       " 'p5h',\n",
       " 'ur',\n",
       " 'fac']"
      ]
     },
     "execution_count": 7,
     "metadata": {},
     "output_type": "execute_result"
    }
   ],
   "source": [
    "df.columns.values.tolist()"
   ]
  },
  {
   "cell_type": "code",
   "execution_count": 8,
   "metadata": {
    "scrolled": true
   },
   "outputs": [
    {
     "data": {
      "text/plain": [
       "r_def        float64\n",
       "cd_a         float64\n",
       "ent          float64\n",
       "con          float64\n",
       "upm          float64\n",
       "d_sem        float64\n",
       "n_pro_viv    float64\n",
       "v_sel        float64\n",
       "n_hog        float64\n",
       "h_mud        float64\n",
       "n_ent        float64\n",
       "per          float64\n",
       "n_ren        float64\n",
       "eda          float64\n",
       "n_inf        float64\n",
       "p1           float64\n",
       "p1a1          object\n",
       "p1a2          object\n",
       "p1a3          object\n",
       "p1b           object\n",
       "p1c          float64\n",
       "p1d           object\n",
       "p1e           object\n",
       "p2_1          object\n",
       "p2_2          object\n",
       "p2_3          object\n",
       "p2_4          object\n",
       "p2_9          object\n",
       "p2a_dia      float64\n",
       "p2a_sem       object\n",
       "              ...   \n",
       "p5e_hju      float64\n",
       "p5e_mju      float64\n",
       "p5e_hvi      float64\n",
       "p5e_mvi      float64\n",
       "p5e_hsa      float64\n",
       "p5e_msa      float64\n",
       "p5e_hdo      float64\n",
       "p5e_mdo      float64\n",
       "p5e_thrs     float64\n",
       "p5e_tdia      object\n",
       "p5f          float64\n",
       "p5g1         float64\n",
       "p5g2         float64\n",
       "p5g3         float64\n",
       "p5g4         float64\n",
       "p5g5         float64\n",
       "p5g6         float64\n",
       "p5g7         float64\n",
       "p5g8         float64\n",
       "p5g9         float64\n",
       "p5g10        float64\n",
       "p5g11        float64\n",
       "p5g12        float64\n",
       "p5g13        float64\n",
       "p5g14        float64\n",
       "p5g15        float64\n",
       "p5g99        float64\n",
       "p5h           object\n",
       "ur           float64\n",
       "fac          float64\n",
       "Length: 186, dtype: object"
      ]
     },
     "execution_count": 8,
     "metadata": {},
     "output_type": "execute_result"
    }
   ],
   "source": [
    "df.dtypes"
   ]
  },
  {
   "cell_type": "markdown",
   "metadata": {},
   "source": [
    "## Copia de df"
   ]
  },
  {
   "cell_type": "code",
   "execution_count": 9,
   "metadata": {},
   "outputs": [],
   "source": [
    "df_copy_20151 = df.copy()"
   ]
  },
  {
   "cell_type": "code",
   "execution_count": 10,
   "metadata": {},
   "outputs": [
    {
     "data": {
      "text/plain": [
       "(1048575, 186)"
      ]
     },
     "execution_count": 10,
     "metadata": {},
     "output_type": "execute_result"
    }
   ],
   "source": [
    "df_copy_20151.shape"
   ]
  },
  {
   "cell_type": "markdown",
   "metadata": {},
   "source": [
    "## Verificando si tenemos datos faltantes"
   ]
  },
  {
   "cell_type": "code",
   "execution_count": 11,
   "metadata": {},
   "outputs": [
    {
     "data": {
      "text/html": [
       "<div>\n",
       "<style scoped>\n",
       "    .dataframe tbody tr th:only-of-type {\n",
       "        vertical-align: middle;\n",
       "    }\n",
       "\n",
       "    .dataframe tbody tr th {\n",
       "        vertical-align: top;\n",
       "    }\n",
       "\n",
       "    .dataframe thead th {\n",
       "        text-align: right;\n",
       "    }\n",
       "</style>\n",
       "<table border=\"1\" class=\"dataframe\">\n",
       "  <thead>\n",
       "    <tr style=\"text-align: right;\">\n",
       "      <th></th>\n",
       "      <th>r_def</th>\n",
       "      <th>cd_a</th>\n",
       "      <th>ent</th>\n",
       "      <th>con</th>\n",
       "      <th>upm</th>\n",
       "      <th>d_sem</th>\n",
       "      <th>n_pro_viv</th>\n",
       "      <th>v_sel</th>\n",
       "      <th>n_hog</th>\n",
       "      <th>h_mud</th>\n",
       "      <th>...</th>\n",
       "      <th>p5g10</th>\n",
       "      <th>p5g11</th>\n",
       "      <th>p5g12</th>\n",
       "      <th>p5g13</th>\n",
       "      <th>p5g14</th>\n",
       "      <th>p5g15</th>\n",
       "      <th>p5g99</th>\n",
       "      <th>p5h</th>\n",
       "      <th>ur</th>\n",
       "      <th>fac</th>\n",
       "    </tr>\n",
       "  </thead>\n",
       "  <tbody>\n",
       "    <tr>\n",
       "      <th>0</th>\n",
       "      <td>True</td>\n",
       "      <td>True</td>\n",
       "      <td>True</td>\n",
       "      <td>True</td>\n",
       "      <td>True</td>\n",
       "      <td>True</td>\n",
       "      <td>True</td>\n",
       "      <td>True</td>\n",
       "      <td>True</td>\n",
       "      <td>True</td>\n",
       "      <td>...</td>\n",
       "      <td>False</td>\n",
       "      <td>False</td>\n",
       "      <td>False</td>\n",
       "      <td>False</td>\n",
       "      <td>True</td>\n",
       "      <td>False</td>\n",
       "      <td>False</td>\n",
       "      <td>True</td>\n",
       "      <td>True</td>\n",
       "      <td>True</td>\n",
       "    </tr>\n",
       "    <tr>\n",
       "      <th>1</th>\n",
       "      <td>True</td>\n",
       "      <td>True</td>\n",
       "      <td>True</td>\n",
       "      <td>True</td>\n",
       "      <td>True</td>\n",
       "      <td>True</td>\n",
       "      <td>True</td>\n",
       "      <td>True</td>\n",
       "      <td>True</td>\n",
       "      <td>True</td>\n",
       "      <td>...</td>\n",
       "      <td>False</td>\n",
       "      <td>False</td>\n",
       "      <td>False</td>\n",
       "      <td>False</td>\n",
       "      <td>True</td>\n",
       "      <td>False</td>\n",
       "      <td>False</td>\n",
       "      <td>True</td>\n",
       "      <td>True</td>\n",
       "      <td>True</td>\n",
       "    </tr>\n",
       "    <tr>\n",
       "      <th>2</th>\n",
       "      <td>True</td>\n",
       "      <td>True</td>\n",
       "      <td>True</td>\n",
       "      <td>True</td>\n",
       "      <td>True</td>\n",
       "      <td>True</td>\n",
       "      <td>True</td>\n",
       "      <td>True</td>\n",
       "      <td>True</td>\n",
       "      <td>True</td>\n",
       "      <td>...</td>\n",
       "      <td>False</td>\n",
       "      <td>False</td>\n",
       "      <td>False</td>\n",
       "      <td>False</td>\n",
       "      <td>True</td>\n",
       "      <td>False</td>\n",
       "      <td>False</td>\n",
       "      <td>True</td>\n",
       "      <td>True</td>\n",
       "      <td>True</td>\n",
       "    </tr>\n",
       "    <tr>\n",
       "      <th>3</th>\n",
       "      <td>True</td>\n",
       "      <td>True</td>\n",
       "      <td>True</td>\n",
       "      <td>True</td>\n",
       "      <td>True</td>\n",
       "      <td>True</td>\n",
       "      <td>True</td>\n",
       "      <td>True</td>\n",
       "      <td>True</td>\n",
       "      <td>True</td>\n",
       "      <td>...</td>\n",
       "      <td>False</td>\n",
       "      <td>False</td>\n",
       "      <td>False</td>\n",
       "      <td>False</td>\n",
       "      <td>False</td>\n",
       "      <td>False</td>\n",
       "      <td>False</td>\n",
       "      <td>True</td>\n",
       "      <td>True</td>\n",
       "      <td>True</td>\n",
       "    </tr>\n",
       "    <tr>\n",
       "      <th>4</th>\n",
       "      <td>True</td>\n",
       "      <td>True</td>\n",
       "      <td>True</td>\n",
       "      <td>True</td>\n",
       "      <td>True</td>\n",
       "      <td>True</td>\n",
       "      <td>True</td>\n",
       "      <td>True</td>\n",
       "      <td>True</td>\n",
       "      <td>True</td>\n",
       "      <td>...</td>\n",
       "      <td>False</td>\n",
       "      <td>False</td>\n",
       "      <td>False</td>\n",
       "      <td>False</td>\n",
       "      <td>False</td>\n",
       "      <td>False</td>\n",
       "      <td>False</td>\n",
       "      <td>True</td>\n",
       "      <td>True</td>\n",
       "      <td>True</td>\n",
       "    </tr>\n",
       "    <tr>\n",
       "      <th>5</th>\n",
       "      <td>True</td>\n",
       "      <td>True</td>\n",
       "      <td>True</td>\n",
       "      <td>True</td>\n",
       "      <td>True</td>\n",
       "      <td>True</td>\n",
       "      <td>True</td>\n",
       "      <td>True</td>\n",
       "      <td>True</td>\n",
       "      <td>True</td>\n",
       "      <td>...</td>\n",
       "      <td>False</td>\n",
       "      <td>False</td>\n",
       "      <td>False</td>\n",
       "      <td>False</td>\n",
       "      <td>True</td>\n",
       "      <td>False</td>\n",
       "      <td>False</td>\n",
       "      <td>True</td>\n",
       "      <td>True</td>\n",
       "      <td>True</td>\n",
       "    </tr>\n",
       "    <tr>\n",
       "      <th>6</th>\n",
       "      <td>True</td>\n",
       "      <td>True</td>\n",
       "      <td>True</td>\n",
       "      <td>True</td>\n",
       "      <td>True</td>\n",
       "      <td>True</td>\n",
       "      <td>True</td>\n",
       "      <td>True</td>\n",
       "      <td>True</td>\n",
       "      <td>True</td>\n",
       "      <td>...</td>\n",
       "      <td>False</td>\n",
       "      <td>False</td>\n",
       "      <td>False</td>\n",
       "      <td>False</td>\n",
       "      <td>True</td>\n",
       "      <td>False</td>\n",
       "      <td>False</td>\n",
       "      <td>True</td>\n",
       "      <td>True</td>\n",
       "      <td>True</td>\n",
       "    </tr>\n",
       "    <tr>\n",
       "      <th>7</th>\n",
       "      <td>True</td>\n",
       "      <td>True</td>\n",
       "      <td>True</td>\n",
       "      <td>True</td>\n",
       "      <td>True</td>\n",
       "      <td>True</td>\n",
       "      <td>True</td>\n",
       "      <td>True</td>\n",
       "      <td>True</td>\n",
       "      <td>True</td>\n",
       "      <td>...</td>\n",
       "      <td>False</td>\n",
       "      <td>False</td>\n",
       "      <td>False</td>\n",
       "      <td>False</td>\n",
       "      <td>True</td>\n",
       "      <td>False</td>\n",
       "      <td>False</td>\n",
       "      <td>True</td>\n",
       "      <td>True</td>\n",
       "      <td>True</td>\n",
       "    </tr>\n",
       "    <tr>\n",
       "      <th>8</th>\n",
       "      <td>True</td>\n",
       "      <td>True</td>\n",
       "      <td>True</td>\n",
       "      <td>True</td>\n",
       "      <td>True</td>\n",
       "      <td>True</td>\n",
       "      <td>True</td>\n",
       "      <td>True</td>\n",
       "      <td>True</td>\n",
       "      <td>True</td>\n",
       "      <td>...</td>\n",
       "      <td>False</td>\n",
       "      <td>False</td>\n",
       "      <td>False</td>\n",
       "      <td>False</td>\n",
       "      <td>False</td>\n",
       "      <td>True</td>\n",
       "      <td>False</td>\n",
       "      <td>True</td>\n",
       "      <td>True</td>\n",
       "      <td>True</td>\n",
       "    </tr>\n",
       "    <tr>\n",
       "      <th>9</th>\n",
       "      <td>True</td>\n",
       "      <td>True</td>\n",
       "      <td>True</td>\n",
       "      <td>True</td>\n",
       "      <td>True</td>\n",
       "      <td>True</td>\n",
       "      <td>True</td>\n",
       "      <td>True</td>\n",
       "      <td>True</td>\n",
       "      <td>True</td>\n",
       "      <td>...</td>\n",
       "      <td>False</td>\n",
       "      <td>False</td>\n",
       "      <td>False</td>\n",
       "      <td>False</td>\n",
       "      <td>True</td>\n",
       "      <td>False</td>\n",
       "      <td>False</td>\n",
       "      <td>True</td>\n",
       "      <td>True</td>\n",
       "      <td>True</td>\n",
       "    </tr>\n",
       "    <tr>\n",
       "      <th>10</th>\n",
       "      <td>True</td>\n",
       "      <td>True</td>\n",
       "      <td>True</td>\n",
       "      <td>True</td>\n",
       "      <td>True</td>\n",
       "      <td>True</td>\n",
       "      <td>True</td>\n",
       "      <td>True</td>\n",
       "      <td>True</td>\n",
       "      <td>True</td>\n",
       "      <td>...</td>\n",
       "      <td>False</td>\n",
       "      <td>False</td>\n",
       "      <td>False</td>\n",
       "      <td>False</td>\n",
       "      <td>False</td>\n",
       "      <td>False</td>\n",
       "      <td>False</td>\n",
       "      <td>True</td>\n",
       "      <td>True</td>\n",
       "      <td>True</td>\n",
       "    </tr>\n",
       "    <tr>\n",
       "      <th>11</th>\n",
       "      <td>True</td>\n",
       "      <td>True</td>\n",
       "      <td>True</td>\n",
       "      <td>True</td>\n",
       "      <td>True</td>\n",
       "      <td>True</td>\n",
       "      <td>True</td>\n",
       "      <td>True</td>\n",
       "      <td>True</td>\n",
       "      <td>True</td>\n",
       "      <td>...</td>\n",
       "      <td>False</td>\n",
       "      <td>False</td>\n",
       "      <td>False</td>\n",
       "      <td>False</td>\n",
       "      <td>False</td>\n",
       "      <td>False</td>\n",
       "      <td>False</td>\n",
       "      <td>True</td>\n",
       "      <td>True</td>\n",
       "      <td>True</td>\n",
       "    </tr>\n",
       "    <tr>\n",
       "      <th>12</th>\n",
       "      <td>True</td>\n",
       "      <td>True</td>\n",
       "      <td>True</td>\n",
       "      <td>True</td>\n",
       "      <td>True</td>\n",
       "      <td>True</td>\n",
       "      <td>True</td>\n",
       "      <td>True</td>\n",
       "      <td>True</td>\n",
       "      <td>True</td>\n",
       "      <td>...</td>\n",
       "      <td>False</td>\n",
       "      <td>False</td>\n",
       "      <td>False</td>\n",
       "      <td>False</td>\n",
       "      <td>False</td>\n",
       "      <td>False</td>\n",
       "      <td>False</td>\n",
       "      <td>True</td>\n",
       "      <td>True</td>\n",
       "      <td>True</td>\n",
       "    </tr>\n",
       "    <tr>\n",
       "      <th>13</th>\n",
       "      <td>True</td>\n",
       "      <td>True</td>\n",
       "      <td>True</td>\n",
       "      <td>True</td>\n",
       "      <td>True</td>\n",
       "      <td>True</td>\n",
       "      <td>True</td>\n",
       "      <td>True</td>\n",
       "      <td>True</td>\n",
       "      <td>True</td>\n",
       "      <td>...</td>\n",
       "      <td>False</td>\n",
       "      <td>False</td>\n",
       "      <td>False</td>\n",
       "      <td>False</td>\n",
       "      <td>True</td>\n",
       "      <td>False</td>\n",
       "      <td>False</td>\n",
       "      <td>True</td>\n",
       "      <td>True</td>\n",
       "      <td>True</td>\n",
       "    </tr>\n",
       "    <tr>\n",
       "      <th>14</th>\n",
       "      <td>True</td>\n",
       "      <td>True</td>\n",
       "      <td>True</td>\n",
       "      <td>True</td>\n",
       "      <td>True</td>\n",
       "      <td>True</td>\n",
       "      <td>True</td>\n",
       "      <td>True</td>\n",
       "      <td>True</td>\n",
       "      <td>True</td>\n",
       "      <td>...</td>\n",
       "      <td>False</td>\n",
       "      <td>False</td>\n",
       "      <td>False</td>\n",
       "      <td>False</td>\n",
       "      <td>False</td>\n",
       "      <td>False</td>\n",
       "      <td>False</td>\n",
       "      <td>True</td>\n",
       "      <td>True</td>\n",
       "      <td>True</td>\n",
       "    </tr>\n",
       "    <tr>\n",
       "      <th>15</th>\n",
       "      <td>True</td>\n",
       "      <td>True</td>\n",
       "      <td>True</td>\n",
       "      <td>True</td>\n",
       "      <td>True</td>\n",
       "      <td>True</td>\n",
       "      <td>True</td>\n",
       "      <td>True</td>\n",
       "      <td>True</td>\n",
       "      <td>True</td>\n",
       "      <td>...</td>\n",
       "      <td>False</td>\n",
       "      <td>False</td>\n",
       "      <td>False</td>\n",
       "      <td>False</td>\n",
       "      <td>False</td>\n",
       "      <td>False</td>\n",
       "      <td>False</td>\n",
       "      <td>True</td>\n",
       "      <td>True</td>\n",
       "      <td>True</td>\n",
       "    </tr>\n",
       "    <tr>\n",
       "      <th>16</th>\n",
       "      <td>True</td>\n",
       "      <td>True</td>\n",
       "      <td>True</td>\n",
       "      <td>True</td>\n",
       "      <td>True</td>\n",
       "      <td>True</td>\n",
       "      <td>True</td>\n",
       "      <td>True</td>\n",
       "      <td>True</td>\n",
       "      <td>True</td>\n",
       "      <td>...</td>\n",
       "      <td>False</td>\n",
       "      <td>False</td>\n",
       "      <td>False</td>\n",
       "      <td>False</td>\n",
       "      <td>True</td>\n",
       "      <td>False</td>\n",
       "      <td>False</td>\n",
       "      <td>True</td>\n",
       "      <td>True</td>\n",
       "      <td>True</td>\n",
       "    </tr>\n",
       "    <tr>\n",
       "      <th>17</th>\n",
       "      <td>True</td>\n",
       "      <td>True</td>\n",
       "      <td>True</td>\n",
       "      <td>True</td>\n",
       "      <td>True</td>\n",
       "      <td>True</td>\n",
       "      <td>True</td>\n",
       "      <td>True</td>\n",
       "      <td>True</td>\n",
       "      <td>True</td>\n",
       "      <td>...</td>\n",
       "      <td>False</td>\n",
       "      <td>False</td>\n",
       "      <td>False</td>\n",
       "      <td>False</td>\n",
       "      <td>True</td>\n",
       "      <td>False</td>\n",
       "      <td>False</td>\n",
       "      <td>True</td>\n",
       "      <td>True</td>\n",
       "      <td>True</td>\n",
       "    </tr>\n",
       "    <tr>\n",
       "      <th>18</th>\n",
       "      <td>True</td>\n",
       "      <td>True</td>\n",
       "      <td>True</td>\n",
       "      <td>True</td>\n",
       "      <td>True</td>\n",
       "      <td>True</td>\n",
       "      <td>True</td>\n",
       "      <td>True</td>\n",
       "      <td>True</td>\n",
       "      <td>True</td>\n",
       "      <td>...</td>\n",
       "      <td>False</td>\n",
       "      <td>False</td>\n",
       "      <td>False</td>\n",
       "      <td>False</td>\n",
       "      <td>False</td>\n",
       "      <td>False</td>\n",
       "      <td>False</td>\n",
       "      <td>True</td>\n",
       "      <td>True</td>\n",
       "      <td>True</td>\n",
       "    </tr>\n",
       "    <tr>\n",
       "      <th>19</th>\n",
       "      <td>True</td>\n",
       "      <td>True</td>\n",
       "      <td>True</td>\n",
       "      <td>True</td>\n",
       "      <td>True</td>\n",
       "      <td>True</td>\n",
       "      <td>True</td>\n",
       "      <td>True</td>\n",
       "      <td>True</td>\n",
       "      <td>True</td>\n",
       "      <td>...</td>\n",
       "      <td>False</td>\n",
       "      <td>False</td>\n",
       "      <td>False</td>\n",
       "      <td>False</td>\n",
       "      <td>True</td>\n",
       "      <td>False</td>\n",
       "      <td>False</td>\n",
       "      <td>True</td>\n",
       "      <td>True</td>\n",
       "      <td>True</td>\n",
       "    </tr>\n",
       "    <tr>\n",
       "      <th>20</th>\n",
       "      <td>True</td>\n",
       "      <td>True</td>\n",
       "      <td>True</td>\n",
       "      <td>True</td>\n",
       "      <td>True</td>\n",
       "      <td>True</td>\n",
       "      <td>True</td>\n",
       "      <td>True</td>\n",
       "      <td>True</td>\n",
       "      <td>True</td>\n",
       "      <td>...</td>\n",
       "      <td>False</td>\n",
       "      <td>False</td>\n",
       "      <td>False</td>\n",
       "      <td>False</td>\n",
       "      <td>False</td>\n",
       "      <td>False</td>\n",
       "      <td>False</td>\n",
       "      <td>True</td>\n",
       "      <td>True</td>\n",
       "      <td>True</td>\n",
       "    </tr>\n",
       "    <tr>\n",
       "      <th>21</th>\n",
       "      <td>True</td>\n",
       "      <td>True</td>\n",
       "      <td>True</td>\n",
       "      <td>True</td>\n",
       "      <td>True</td>\n",
       "      <td>True</td>\n",
       "      <td>True</td>\n",
       "      <td>True</td>\n",
       "      <td>True</td>\n",
       "      <td>True</td>\n",
       "      <td>...</td>\n",
       "      <td>False</td>\n",
       "      <td>False</td>\n",
       "      <td>False</td>\n",
       "      <td>False</td>\n",
       "      <td>False</td>\n",
       "      <td>False</td>\n",
       "      <td>False</td>\n",
       "      <td>True</td>\n",
       "      <td>True</td>\n",
       "      <td>True</td>\n",
       "    </tr>\n",
       "    <tr>\n",
       "      <th>22</th>\n",
       "      <td>True</td>\n",
       "      <td>True</td>\n",
       "      <td>True</td>\n",
       "      <td>True</td>\n",
       "      <td>True</td>\n",
       "      <td>True</td>\n",
       "      <td>True</td>\n",
       "      <td>True</td>\n",
       "      <td>True</td>\n",
       "      <td>True</td>\n",
       "      <td>...</td>\n",
       "      <td>False</td>\n",
       "      <td>False</td>\n",
       "      <td>False</td>\n",
       "      <td>False</td>\n",
       "      <td>False</td>\n",
       "      <td>True</td>\n",
       "      <td>False</td>\n",
       "      <td>True</td>\n",
       "      <td>True</td>\n",
       "      <td>True</td>\n",
       "    </tr>\n",
       "    <tr>\n",
       "      <th>23</th>\n",
       "      <td>True</td>\n",
       "      <td>True</td>\n",
       "      <td>True</td>\n",
       "      <td>True</td>\n",
       "      <td>True</td>\n",
       "      <td>True</td>\n",
       "      <td>True</td>\n",
       "      <td>True</td>\n",
       "      <td>True</td>\n",
       "      <td>True</td>\n",
       "      <td>...</td>\n",
       "      <td>False</td>\n",
       "      <td>False</td>\n",
       "      <td>False</td>\n",
       "      <td>False</td>\n",
       "      <td>False</td>\n",
       "      <td>False</td>\n",
       "      <td>False</td>\n",
       "      <td>True</td>\n",
       "      <td>True</td>\n",
       "      <td>True</td>\n",
       "    </tr>\n",
       "    <tr>\n",
       "      <th>24</th>\n",
       "      <td>True</td>\n",
       "      <td>True</td>\n",
       "      <td>True</td>\n",
       "      <td>True</td>\n",
       "      <td>True</td>\n",
       "      <td>True</td>\n",
       "      <td>True</td>\n",
       "      <td>True</td>\n",
       "      <td>True</td>\n",
       "      <td>True</td>\n",
       "      <td>...</td>\n",
       "      <td>False</td>\n",
       "      <td>False</td>\n",
       "      <td>False</td>\n",
       "      <td>False</td>\n",
       "      <td>True</td>\n",
       "      <td>False</td>\n",
       "      <td>False</td>\n",
       "      <td>True</td>\n",
       "      <td>True</td>\n",
       "      <td>True</td>\n",
       "    </tr>\n",
       "    <tr>\n",
       "      <th>25</th>\n",
       "      <td>True</td>\n",
       "      <td>True</td>\n",
       "      <td>True</td>\n",
       "      <td>True</td>\n",
       "      <td>True</td>\n",
       "      <td>True</td>\n",
       "      <td>True</td>\n",
       "      <td>True</td>\n",
       "      <td>True</td>\n",
       "      <td>True</td>\n",
       "      <td>...</td>\n",
       "      <td>False</td>\n",
       "      <td>False</td>\n",
       "      <td>False</td>\n",
       "      <td>False</td>\n",
       "      <td>True</td>\n",
       "      <td>False</td>\n",
       "      <td>False</td>\n",
       "      <td>True</td>\n",
       "      <td>True</td>\n",
       "      <td>True</td>\n",
       "    </tr>\n",
       "    <tr>\n",
       "      <th>26</th>\n",
       "      <td>True</td>\n",
       "      <td>True</td>\n",
       "      <td>True</td>\n",
       "      <td>True</td>\n",
       "      <td>True</td>\n",
       "      <td>True</td>\n",
       "      <td>True</td>\n",
       "      <td>True</td>\n",
       "      <td>True</td>\n",
       "      <td>True</td>\n",
       "      <td>...</td>\n",
       "      <td>False</td>\n",
       "      <td>False</td>\n",
       "      <td>False</td>\n",
       "      <td>False</td>\n",
       "      <td>False</td>\n",
       "      <td>True</td>\n",
       "      <td>False</td>\n",
       "      <td>True</td>\n",
       "      <td>True</td>\n",
       "      <td>True</td>\n",
       "    </tr>\n",
       "    <tr>\n",
       "      <th>27</th>\n",
       "      <td>True</td>\n",
       "      <td>True</td>\n",
       "      <td>True</td>\n",
       "      <td>True</td>\n",
       "      <td>True</td>\n",
       "      <td>True</td>\n",
       "      <td>True</td>\n",
       "      <td>True</td>\n",
       "      <td>True</td>\n",
       "      <td>True</td>\n",
       "      <td>...</td>\n",
       "      <td>False</td>\n",
       "      <td>False</td>\n",
       "      <td>False</td>\n",
       "      <td>False</td>\n",
       "      <td>True</td>\n",
       "      <td>False</td>\n",
       "      <td>False</td>\n",
       "      <td>True</td>\n",
       "      <td>True</td>\n",
       "      <td>True</td>\n",
       "    </tr>\n",
       "    <tr>\n",
       "      <th>28</th>\n",
       "      <td>True</td>\n",
       "      <td>True</td>\n",
       "      <td>True</td>\n",
       "      <td>True</td>\n",
       "      <td>True</td>\n",
       "      <td>True</td>\n",
       "      <td>True</td>\n",
       "      <td>True</td>\n",
       "      <td>True</td>\n",
       "      <td>True</td>\n",
       "      <td>...</td>\n",
       "      <td>False</td>\n",
       "      <td>False</td>\n",
       "      <td>False</td>\n",
       "      <td>False</td>\n",
       "      <td>True</td>\n",
       "      <td>False</td>\n",
       "      <td>False</td>\n",
       "      <td>True</td>\n",
       "      <td>True</td>\n",
       "      <td>True</td>\n",
       "    </tr>\n",
       "    <tr>\n",
       "      <th>29</th>\n",
       "      <td>True</td>\n",
       "      <td>True</td>\n",
       "      <td>True</td>\n",
       "      <td>True</td>\n",
       "      <td>True</td>\n",
       "      <td>True</td>\n",
       "      <td>True</td>\n",
       "      <td>True</td>\n",
       "      <td>True</td>\n",
       "      <td>True</td>\n",
       "      <td>...</td>\n",
       "      <td>False</td>\n",
       "      <td>False</td>\n",
       "      <td>False</td>\n",
       "      <td>False</td>\n",
       "      <td>False</td>\n",
       "      <td>False</td>\n",
       "      <td>False</td>\n",
       "      <td>True</td>\n",
       "      <td>True</td>\n",
       "      <td>True</td>\n",
       "    </tr>\n",
       "    <tr>\n",
       "      <th>...</th>\n",
       "      <td>...</td>\n",
       "      <td>...</td>\n",
       "      <td>...</td>\n",
       "      <td>...</td>\n",
       "      <td>...</td>\n",
       "      <td>...</td>\n",
       "      <td>...</td>\n",
       "      <td>...</td>\n",
       "      <td>...</td>\n",
       "      <td>...</td>\n",
       "      <td>...</td>\n",
       "      <td>...</td>\n",
       "      <td>...</td>\n",
       "      <td>...</td>\n",
       "      <td>...</td>\n",
       "      <td>...</td>\n",
       "      <td>...</td>\n",
       "      <td>...</td>\n",
       "      <td>...</td>\n",
       "      <td>...</td>\n",
       "      <td>...</td>\n",
       "    </tr>\n",
       "    <tr>\n",
       "      <th>1048545</th>\n",
       "      <td>True</td>\n",
       "      <td>True</td>\n",
       "      <td>True</td>\n",
       "      <td>True</td>\n",
       "      <td>True</td>\n",
       "      <td>True</td>\n",
       "      <td>True</td>\n",
       "      <td>True</td>\n",
       "      <td>True</td>\n",
       "      <td>True</td>\n",
       "      <td>...</td>\n",
       "      <td>False</td>\n",
       "      <td>False</td>\n",
       "      <td>False</td>\n",
       "      <td>False</td>\n",
       "      <td>True</td>\n",
       "      <td>False</td>\n",
       "      <td>False</td>\n",
       "      <td>False</td>\n",
       "      <td>True</td>\n",
       "      <td>True</td>\n",
       "    </tr>\n",
       "    <tr>\n",
       "      <th>1048546</th>\n",
       "      <td>True</td>\n",
       "      <td>True</td>\n",
       "      <td>True</td>\n",
       "      <td>True</td>\n",
       "      <td>True</td>\n",
       "      <td>True</td>\n",
       "      <td>True</td>\n",
       "      <td>True</td>\n",
       "      <td>True</td>\n",
       "      <td>True</td>\n",
       "      <td>...</td>\n",
       "      <td>False</td>\n",
       "      <td>False</td>\n",
       "      <td>False</td>\n",
       "      <td>False</td>\n",
       "      <td>False</td>\n",
       "      <td>False</td>\n",
       "      <td>False</td>\n",
       "      <td>False</td>\n",
       "      <td>True</td>\n",
       "      <td>True</td>\n",
       "    </tr>\n",
       "    <tr>\n",
       "      <th>1048547</th>\n",
       "      <td>True</td>\n",
       "      <td>True</td>\n",
       "      <td>True</td>\n",
       "      <td>True</td>\n",
       "      <td>True</td>\n",
       "      <td>True</td>\n",
       "      <td>True</td>\n",
       "      <td>True</td>\n",
       "      <td>True</td>\n",
       "      <td>True</td>\n",
       "      <td>...</td>\n",
       "      <td>False</td>\n",
       "      <td>False</td>\n",
       "      <td>False</td>\n",
       "      <td>False</td>\n",
       "      <td>True</td>\n",
       "      <td>False</td>\n",
       "      <td>False</td>\n",
       "      <td>False</td>\n",
       "      <td>True</td>\n",
       "      <td>True</td>\n",
       "    </tr>\n",
       "    <tr>\n",
       "      <th>1048548</th>\n",
       "      <td>True</td>\n",
       "      <td>True</td>\n",
       "      <td>True</td>\n",
       "      <td>True</td>\n",
       "      <td>True</td>\n",
       "      <td>True</td>\n",
       "      <td>True</td>\n",
       "      <td>True</td>\n",
       "      <td>True</td>\n",
       "      <td>True</td>\n",
       "      <td>...</td>\n",
       "      <td>False</td>\n",
       "      <td>False</td>\n",
       "      <td>False</td>\n",
       "      <td>False</td>\n",
       "      <td>True</td>\n",
       "      <td>False</td>\n",
       "      <td>False</td>\n",
       "      <td>False</td>\n",
       "      <td>True</td>\n",
       "      <td>True</td>\n",
       "    </tr>\n",
       "    <tr>\n",
       "      <th>1048549</th>\n",
       "      <td>True</td>\n",
       "      <td>True</td>\n",
       "      <td>True</td>\n",
       "      <td>True</td>\n",
       "      <td>True</td>\n",
       "      <td>True</td>\n",
       "      <td>True</td>\n",
       "      <td>True</td>\n",
       "      <td>True</td>\n",
       "      <td>True</td>\n",
       "      <td>...</td>\n",
       "      <td>False</td>\n",
       "      <td>False</td>\n",
       "      <td>False</td>\n",
       "      <td>False</td>\n",
       "      <td>True</td>\n",
       "      <td>False</td>\n",
       "      <td>False</td>\n",
       "      <td>False</td>\n",
       "      <td>True</td>\n",
       "      <td>True</td>\n",
       "    </tr>\n",
       "    <tr>\n",
       "      <th>1048550</th>\n",
       "      <td>True</td>\n",
       "      <td>True</td>\n",
       "      <td>True</td>\n",
       "      <td>True</td>\n",
       "      <td>True</td>\n",
       "      <td>True</td>\n",
       "      <td>True</td>\n",
       "      <td>True</td>\n",
       "      <td>True</td>\n",
       "      <td>True</td>\n",
       "      <td>...</td>\n",
       "      <td>False</td>\n",
       "      <td>False</td>\n",
       "      <td>False</td>\n",
       "      <td>False</td>\n",
       "      <td>False</td>\n",
       "      <td>False</td>\n",
       "      <td>False</td>\n",
       "      <td>False</td>\n",
       "      <td>True</td>\n",
       "      <td>True</td>\n",
       "    </tr>\n",
       "    <tr>\n",
       "      <th>1048551</th>\n",
       "      <td>True</td>\n",
       "      <td>True</td>\n",
       "      <td>True</td>\n",
       "      <td>True</td>\n",
       "      <td>True</td>\n",
       "      <td>True</td>\n",
       "      <td>True</td>\n",
       "      <td>True</td>\n",
       "      <td>True</td>\n",
       "      <td>True</td>\n",
       "      <td>...</td>\n",
       "      <td>False</td>\n",
       "      <td>False</td>\n",
       "      <td>False</td>\n",
       "      <td>False</td>\n",
       "      <td>False</td>\n",
       "      <td>False</td>\n",
       "      <td>False</td>\n",
       "      <td>False</td>\n",
       "      <td>True</td>\n",
       "      <td>True</td>\n",
       "    </tr>\n",
       "    <tr>\n",
       "      <th>1048552</th>\n",
       "      <td>True</td>\n",
       "      <td>True</td>\n",
       "      <td>True</td>\n",
       "      <td>True</td>\n",
       "      <td>True</td>\n",
       "      <td>True</td>\n",
       "      <td>True</td>\n",
       "      <td>True</td>\n",
       "      <td>True</td>\n",
       "      <td>True</td>\n",
       "      <td>...</td>\n",
       "      <td>False</td>\n",
       "      <td>False</td>\n",
       "      <td>False</td>\n",
       "      <td>False</td>\n",
       "      <td>False</td>\n",
       "      <td>False</td>\n",
       "      <td>False</td>\n",
       "      <td>False</td>\n",
       "      <td>True</td>\n",
       "      <td>True</td>\n",
       "    </tr>\n",
       "    <tr>\n",
       "      <th>1048553</th>\n",
       "      <td>True</td>\n",
       "      <td>True</td>\n",
       "      <td>True</td>\n",
       "      <td>True</td>\n",
       "      <td>True</td>\n",
       "      <td>True</td>\n",
       "      <td>True</td>\n",
       "      <td>True</td>\n",
       "      <td>True</td>\n",
       "      <td>True</td>\n",
       "      <td>...</td>\n",
       "      <td>False</td>\n",
       "      <td>False</td>\n",
       "      <td>False</td>\n",
       "      <td>False</td>\n",
       "      <td>False</td>\n",
       "      <td>False</td>\n",
       "      <td>False</td>\n",
       "      <td>False</td>\n",
       "      <td>True</td>\n",
       "      <td>True</td>\n",
       "    </tr>\n",
       "    <tr>\n",
       "      <th>1048554</th>\n",
       "      <td>True</td>\n",
       "      <td>True</td>\n",
       "      <td>True</td>\n",
       "      <td>True</td>\n",
       "      <td>True</td>\n",
       "      <td>True</td>\n",
       "      <td>True</td>\n",
       "      <td>True</td>\n",
       "      <td>True</td>\n",
       "      <td>True</td>\n",
       "      <td>...</td>\n",
       "      <td>False</td>\n",
       "      <td>False</td>\n",
       "      <td>False</td>\n",
       "      <td>False</td>\n",
       "      <td>True</td>\n",
       "      <td>False</td>\n",
       "      <td>False</td>\n",
       "      <td>False</td>\n",
       "      <td>True</td>\n",
       "      <td>True</td>\n",
       "    </tr>\n",
       "    <tr>\n",
       "      <th>1048555</th>\n",
       "      <td>True</td>\n",
       "      <td>True</td>\n",
       "      <td>True</td>\n",
       "      <td>True</td>\n",
       "      <td>True</td>\n",
       "      <td>True</td>\n",
       "      <td>True</td>\n",
       "      <td>True</td>\n",
       "      <td>True</td>\n",
       "      <td>True</td>\n",
       "      <td>...</td>\n",
       "      <td>False</td>\n",
       "      <td>False</td>\n",
       "      <td>False</td>\n",
       "      <td>False</td>\n",
       "      <td>True</td>\n",
       "      <td>False</td>\n",
       "      <td>False</td>\n",
       "      <td>False</td>\n",
       "      <td>True</td>\n",
       "      <td>True</td>\n",
       "    </tr>\n",
       "    <tr>\n",
       "      <th>1048556</th>\n",
       "      <td>True</td>\n",
       "      <td>True</td>\n",
       "      <td>True</td>\n",
       "      <td>True</td>\n",
       "      <td>True</td>\n",
       "      <td>True</td>\n",
       "      <td>True</td>\n",
       "      <td>True</td>\n",
       "      <td>True</td>\n",
       "      <td>True</td>\n",
       "      <td>...</td>\n",
       "      <td>False</td>\n",
       "      <td>False</td>\n",
       "      <td>False</td>\n",
       "      <td>False</td>\n",
       "      <td>False</td>\n",
       "      <td>False</td>\n",
       "      <td>False</td>\n",
       "      <td>False</td>\n",
       "      <td>True</td>\n",
       "      <td>True</td>\n",
       "    </tr>\n",
       "    <tr>\n",
       "      <th>1048557</th>\n",
       "      <td>True</td>\n",
       "      <td>True</td>\n",
       "      <td>True</td>\n",
       "      <td>True</td>\n",
       "      <td>True</td>\n",
       "      <td>True</td>\n",
       "      <td>True</td>\n",
       "      <td>True</td>\n",
       "      <td>True</td>\n",
       "      <td>True</td>\n",
       "      <td>...</td>\n",
       "      <td>False</td>\n",
       "      <td>False</td>\n",
       "      <td>False</td>\n",
       "      <td>False</td>\n",
       "      <td>True</td>\n",
       "      <td>False</td>\n",
       "      <td>False</td>\n",
       "      <td>False</td>\n",
       "      <td>True</td>\n",
       "      <td>True</td>\n",
       "    </tr>\n",
       "    <tr>\n",
       "      <th>1048558</th>\n",
       "      <td>True</td>\n",
       "      <td>True</td>\n",
       "      <td>True</td>\n",
       "      <td>True</td>\n",
       "      <td>True</td>\n",
       "      <td>True</td>\n",
       "      <td>True</td>\n",
       "      <td>True</td>\n",
       "      <td>True</td>\n",
       "      <td>True</td>\n",
       "      <td>...</td>\n",
       "      <td>False</td>\n",
       "      <td>False</td>\n",
       "      <td>False</td>\n",
       "      <td>False</td>\n",
       "      <td>True</td>\n",
       "      <td>False</td>\n",
       "      <td>False</td>\n",
       "      <td>False</td>\n",
       "      <td>True</td>\n",
       "      <td>True</td>\n",
       "    </tr>\n",
       "    <tr>\n",
       "      <th>1048559</th>\n",
       "      <td>True</td>\n",
       "      <td>True</td>\n",
       "      <td>True</td>\n",
       "      <td>True</td>\n",
       "      <td>True</td>\n",
       "      <td>True</td>\n",
       "      <td>True</td>\n",
       "      <td>True</td>\n",
       "      <td>True</td>\n",
       "      <td>True</td>\n",
       "      <td>...</td>\n",
       "      <td>False</td>\n",
       "      <td>False</td>\n",
       "      <td>False</td>\n",
       "      <td>False</td>\n",
       "      <td>True</td>\n",
       "      <td>False</td>\n",
       "      <td>False</td>\n",
       "      <td>False</td>\n",
       "      <td>True</td>\n",
       "      <td>True</td>\n",
       "    </tr>\n",
       "    <tr>\n",
       "      <th>1048560</th>\n",
       "      <td>True</td>\n",
       "      <td>True</td>\n",
       "      <td>True</td>\n",
       "      <td>True</td>\n",
       "      <td>True</td>\n",
       "      <td>True</td>\n",
       "      <td>True</td>\n",
       "      <td>True</td>\n",
       "      <td>True</td>\n",
       "      <td>True</td>\n",
       "      <td>...</td>\n",
       "      <td>False</td>\n",
       "      <td>False</td>\n",
       "      <td>False</td>\n",
       "      <td>False</td>\n",
       "      <td>False</td>\n",
       "      <td>False</td>\n",
       "      <td>False</td>\n",
       "      <td>False</td>\n",
       "      <td>True</td>\n",
       "      <td>True</td>\n",
       "    </tr>\n",
       "    <tr>\n",
       "      <th>1048561</th>\n",
       "      <td>True</td>\n",
       "      <td>True</td>\n",
       "      <td>True</td>\n",
       "      <td>True</td>\n",
       "      <td>True</td>\n",
       "      <td>True</td>\n",
       "      <td>True</td>\n",
       "      <td>True</td>\n",
       "      <td>True</td>\n",
       "      <td>True</td>\n",
       "      <td>...</td>\n",
       "      <td>False</td>\n",
       "      <td>False</td>\n",
       "      <td>False</td>\n",
       "      <td>False</td>\n",
       "      <td>False</td>\n",
       "      <td>True</td>\n",
       "      <td>False</td>\n",
       "      <td>False</td>\n",
       "      <td>True</td>\n",
       "      <td>True</td>\n",
       "    </tr>\n",
       "    <tr>\n",
       "      <th>1048562</th>\n",
       "      <td>True</td>\n",
       "      <td>True</td>\n",
       "      <td>True</td>\n",
       "      <td>True</td>\n",
       "      <td>True</td>\n",
       "      <td>True</td>\n",
       "      <td>True</td>\n",
       "      <td>True</td>\n",
       "      <td>True</td>\n",
       "      <td>True</td>\n",
       "      <td>...</td>\n",
       "      <td>False</td>\n",
       "      <td>False</td>\n",
       "      <td>False</td>\n",
       "      <td>False</td>\n",
       "      <td>False</td>\n",
       "      <td>False</td>\n",
       "      <td>False</td>\n",
       "      <td>False</td>\n",
       "      <td>True</td>\n",
       "      <td>True</td>\n",
       "    </tr>\n",
       "    <tr>\n",
       "      <th>1048563</th>\n",
       "      <td>True</td>\n",
       "      <td>True</td>\n",
       "      <td>True</td>\n",
       "      <td>True</td>\n",
       "      <td>True</td>\n",
       "      <td>True</td>\n",
       "      <td>True</td>\n",
       "      <td>True</td>\n",
       "      <td>True</td>\n",
       "      <td>True</td>\n",
       "      <td>...</td>\n",
       "      <td>False</td>\n",
       "      <td>False</td>\n",
       "      <td>False</td>\n",
       "      <td>False</td>\n",
       "      <td>False</td>\n",
       "      <td>False</td>\n",
       "      <td>False</td>\n",
       "      <td>False</td>\n",
       "      <td>True</td>\n",
       "      <td>True</td>\n",
       "    </tr>\n",
       "    <tr>\n",
       "      <th>1048564</th>\n",
       "      <td>True</td>\n",
       "      <td>True</td>\n",
       "      <td>True</td>\n",
       "      <td>True</td>\n",
       "      <td>True</td>\n",
       "      <td>True</td>\n",
       "      <td>True</td>\n",
       "      <td>True</td>\n",
       "      <td>True</td>\n",
       "      <td>True</td>\n",
       "      <td>...</td>\n",
       "      <td>False</td>\n",
       "      <td>False</td>\n",
       "      <td>False</td>\n",
       "      <td>False</td>\n",
       "      <td>False</td>\n",
       "      <td>False</td>\n",
       "      <td>False</td>\n",
       "      <td>False</td>\n",
       "      <td>True</td>\n",
       "      <td>True</td>\n",
       "    </tr>\n",
       "    <tr>\n",
       "      <th>1048565</th>\n",
       "      <td>True</td>\n",
       "      <td>True</td>\n",
       "      <td>True</td>\n",
       "      <td>True</td>\n",
       "      <td>True</td>\n",
       "      <td>True</td>\n",
       "      <td>True</td>\n",
       "      <td>True</td>\n",
       "      <td>True</td>\n",
       "      <td>True</td>\n",
       "      <td>...</td>\n",
       "      <td>False</td>\n",
       "      <td>False</td>\n",
       "      <td>False</td>\n",
       "      <td>False</td>\n",
       "      <td>False</td>\n",
       "      <td>False</td>\n",
       "      <td>False</td>\n",
       "      <td>False</td>\n",
       "      <td>True</td>\n",
       "      <td>True</td>\n",
       "    </tr>\n",
       "    <tr>\n",
       "      <th>1048566</th>\n",
       "      <td>True</td>\n",
       "      <td>True</td>\n",
       "      <td>True</td>\n",
       "      <td>True</td>\n",
       "      <td>True</td>\n",
       "      <td>True</td>\n",
       "      <td>True</td>\n",
       "      <td>True</td>\n",
       "      <td>True</td>\n",
       "      <td>True</td>\n",
       "      <td>...</td>\n",
       "      <td>False</td>\n",
       "      <td>False</td>\n",
       "      <td>False</td>\n",
       "      <td>False</td>\n",
       "      <td>True</td>\n",
       "      <td>False</td>\n",
       "      <td>False</td>\n",
       "      <td>False</td>\n",
       "      <td>True</td>\n",
       "      <td>True</td>\n",
       "    </tr>\n",
       "    <tr>\n",
       "      <th>1048567</th>\n",
       "      <td>True</td>\n",
       "      <td>True</td>\n",
       "      <td>True</td>\n",
       "      <td>True</td>\n",
       "      <td>True</td>\n",
       "      <td>True</td>\n",
       "      <td>True</td>\n",
       "      <td>True</td>\n",
       "      <td>True</td>\n",
       "      <td>True</td>\n",
       "      <td>...</td>\n",
       "      <td>False</td>\n",
       "      <td>False</td>\n",
       "      <td>False</td>\n",
       "      <td>False</td>\n",
       "      <td>False</td>\n",
       "      <td>True</td>\n",
       "      <td>False</td>\n",
       "      <td>False</td>\n",
       "      <td>True</td>\n",
       "      <td>True</td>\n",
       "    </tr>\n",
       "    <tr>\n",
       "      <th>1048568</th>\n",
       "      <td>True</td>\n",
       "      <td>True</td>\n",
       "      <td>True</td>\n",
       "      <td>True</td>\n",
       "      <td>True</td>\n",
       "      <td>True</td>\n",
       "      <td>True</td>\n",
       "      <td>True</td>\n",
       "      <td>True</td>\n",
       "      <td>True</td>\n",
       "      <td>...</td>\n",
       "      <td>False</td>\n",
       "      <td>False</td>\n",
       "      <td>False</td>\n",
       "      <td>False</td>\n",
       "      <td>False</td>\n",
       "      <td>False</td>\n",
       "      <td>False</td>\n",
       "      <td>False</td>\n",
       "      <td>True</td>\n",
       "      <td>True</td>\n",
       "    </tr>\n",
       "    <tr>\n",
       "      <th>1048569</th>\n",
       "      <td>True</td>\n",
       "      <td>True</td>\n",
       "      <td>True</td>\n",
       "      <td>True</td>\n",
       "      <td>True</td>\n",
       "      <td>True</td>\n",
       "      <td>True</td>\n",
       "      <td>True</td>\n",
       "      <td>True</td>\n",
       "      <td>True</td>\n",
       "      <td>...</td>\n",
       "      <td>False</td>\n",
       "      <td>False</td>\n",
       "      <td>False</td>\n",
       "      <td>False</td>\n",
       "      <td>False</td>\n",
       "      <td>False</td>\n",
       "      <td>False</td>\n",
       "      <td>False</td>\n",
       "      <td>True</td>\n",
       "      <td>True</td>\n",
       "    </tr>\n",
       "    <tr>\n",
       "      <th>1048570</th>\n",
       "      <td>True</td>\n",
       "      <td>True</td>\n",
       "      <td>True</td>\n",
       "      <td>True</td>\n",
       "      <td>True</td>\n",
       "      <td>True</td>\n",
       "      <td>True</td>\n",
       "      <td>True</td>\n",
       "      <td>True</td>\n",
       "      <td>True</td>\n",
       "      <td>...</td>\n",
       "      <td>False</td>\n",
       "      <td>False</td>\n",
       "      <td>False</td>\n",
       "      <td>False</td>\n",
       "      <td>False</td>\n",
       "      <td>False</td>\n",
       "      <td>False</td>\n",
       "      <td>False</td>\n",
       "      <td>True</td>\n",
       "      <td>True</td>\n",
       "    </tr>\n",
       "    <tr>\n",
       "      <th>1048571</th>\n",
       "      <td>True</td>\n",
       "      <td>True</td>\n",
       "      <td>True</td>\n",
       "      <td>True</td>\n",
       "      <td>True</td>\n",
       "      <td>True</td>\n",
       "      <td>True</td>\n",
       "      <td>True</td>\n",
       "      <td>True</td>\n",
       "      <td>True</td>\n",
       "      <td>...</td>\n",
       "      <td>False</td>\n",
       "      <td>False</td>\n",
       "      <td>False</td>\n",
       "      <td>False</td>\n",
       "      <td>True</td>\n",
       "      <td>False</td>\n",
       "      <td>False</td>\n",
       "      <td>False</td>\n",
       "      <td>True</td>\n",
       "      <td>True</td>\n",
       "    </tr>\n",
       "    <tr>\n",
       "      <th>1048572</th>\n",
       "      <td>True</td>\n",
       "      <td>True</td>\n",
       "      <td>True</td>\n",
       "      <td>True</td>\n",
       "      <td>True</td>\n",
       "      <td>True</td>\n",
       "      <td>True</td>\n",
       "      <td>True</td>\n",
       "      <td>True</td>\n",
       "      <td>True</td>\n",
       "      <td>...</td>\n",
       "      <td>False</td>\n",
       "      <td>False</td>\n",
       "      <td>False</td>\n",
       "      <td>False</td>\n",
       "      <td>True</td>\n",
       "      <td>False</td>\n",
       "      <td>False</td>\n",
       "      <td>False</td>\n",
       "      <td>True</td>\n",
       "      <td>True</td>\n",
       "    </tr>\n",
       "    <tr>\n",
       "      <th>1048573</th>\n",
       "      <td>True</td>\n",
       "      <td>True</td>\n",
       "      <td>True</td>\n",
       "      <td>True</td>\n",
       "      <td>True</td>\n",
       "      <td>True</td>\n",
       "      <td>True</td>\n",
       "      <td>True</td>\n",
       "      <td>True</td>\n",
       "      <td>True</td>\n",
       "      <td>...</td>\n",
       "      <td>False</td>\n",
       "      <td>False</td>\n",
       "      <td>False</td>\n",
       "      <td>False</td>\n",
       "      <td>True</td>\n",
       "      <td>False</td>\n",
       "      <td>False</td>\n",
       "      <td>False</td>\n",
       "      <td>True</td>\n",
       "      <td>True</td>\n",
       "    </tr>\n",
       "    <tr>\n",
       "      <th>1048574</th>\n",
       "      <td>False</td>\n",
       "      <td>False</td>\n",
       "      <td>False</td>\n",
       "      <td>False</td>\n",
       "      <td>False</td>\n",
       "      <td>False</td>\n",
       "      <td>False</td>\n",
       "      <td>False</td>\n",
       "      <td>False</td>\n",
       "      <td>False</td>\n",
       "      <td>...</td>\n",
       "      <td>False</td>\n",
       "      <td>False</td>\n",
       "      <td>False</td>\n",
       "      <td>False</td>\n",
       "      <td>False</td>\n",
       "      <td>False</td>\n",
       "      <td>False</td>\n",
       "      <td>False</td>\n",
       "      <td>False</td>\n",
       "      <td>False</td>\n",
       "    </tr>\n",
       "  </tbody>\n",
       "</table>\n",
       "<p>1048575 rows × 186 columns</p>\n",
       "</div>"
      ],
      "text/plain": [
       "         r_def   cd_a    ent    con    upm  d_sem  n_pro_viv  v_sel  n_hog  \\\n",
       "0         True   True   True   True   True   True       True   True   True   \n",
       "1         True   True   True   True   True   True       True   True   True   \n",
       "2         True   True   True   True   True   True       True   True   True   \n",
       "3         True   True   True   True   True   True       True   True   True   \n",
       "4         True   True   True   True   True   True       True   True   True   \n",
       "5         True   True   True   True   True   True       True   True   True   \n",
       "6         True   True   True   True   True   True       True   True   True   \n",
       "7         True   True   True   True   True   True       True   True   True   \n",
       "8         True   True   True   True   True   True       True   True   True   \n",
       "9         True   True   True   True   True   True       True   True   True   \n",
       "10        True   True   True   True   True   True       True   True   True   \n",
       "11        True   True   True   True   True   True       True   True   True   \n",
       "12        True   True   True   True   True   True       True   True   True   \n",
       "13        True   True   True   True   True   True       True   True   True   \n",
       "14        True   True   True   True   True   True       True   True   True   \n",
       "15        True   True   True   True   True   True       True   True   True   \n",
       "16        True   True   True   True   True   True       True   True   True   \n",
       "17        True   True   True   True   True   True       True   True   True   \n",
       "18        True   True   True   True   True   True       True   True   True   \n",
       "19        True   True   True   True   True   True       True   True   True   \n",
       "20        True   True   True   True   True   True       True   True   True   \n",
       "21        True   True   True   True   True   True       True   True   True   \n",
       "22        True   True   True   True   True   True       True   True   True   \n",
       "23        True   True   True   True   True   True       True   True   True   \n",
       "24        True   True   True   True   True   True       True   True   True   \n",
       "25        True   True   True   True   True   True       True   True   True   \n",
       "26        True   True   True   True   True   True       True   True   True   \n",
       "27        True   True   True   True   True   True       True   True   True   \n",
       "28        True   True   True   True   True   True       True   True   True   \n",
       "29        True   True   True   True   True   True       True   True   True   \n",
       "...        ...    ...    ...    ...    ...    ...        ...    ...    ...   \n",
       "1048545   True   True   True   True   True   True       True   True   True   \n",
       "1048546   True   True   True   True   True   True       True   True   True   \n",
       "1048547   True   True   True   True   True   True       True   True   True   \n",
       "1048548   True   True   True   True   True   True       True   True   True   \n",
       "1048549   True   True   True   True   True   True       True   True   True   \n",
       "1048550   True   True   True   True   True   True       True   True   True   \n",
       "1048551   True   True   True   True   True   True       True   True   True   \n",
       "1048552   True   True   True   True   True   True       True   True   True   \n",
       "1048553   True   True   True   True   True   True       True   True   True   \n",
       "1048554   True   True   True   True   True   True       True   True   True   \n",
       "1048555   True   True   True   True   True   True       True   True   True   \n",
       "1048556   True   True   True   True   True   True       True   True   True   \n",
       "1048557   True   True   True   True   True   True       True   True   True   \n",
       "1048558   True   True   True   True   True   True       True   True   True   \n",
       "1048559   True   True   True   True   True   True       True   True   True   \n",
       "1048560   True   True   True   True   True   True       True   True   True   \n",
       "1048561   True   True   True   True   True   True       True   True   True   \n",
       "1048562   True   True   True   True   True   True       True   True   True   \n",
       "1048563   True   True   True   True   True   True       True   True   True   \n",
       "1048564   True   True   True   True   True   True       True   True   True   \n",
       "1048565   True   True   True   True   True   True       True   True   True   \n",
       "1048566   True   True   True   True   True   True       True   True   True   \n",
       "1048567   True   True   True   True   True   True       True   True   True   \n",
       "1048568   True   True   True   True   True   True       True   True   True   \n",
       "1048569   True   True   True   True   True   True       True   True   True   \n",
       "1048570   True   True   True   True   True   True       True   True   True   \n",
       "1048571   True   True   True   True   True   True       True   True   True   \n",
       "1048572   True   True   True   True   True   True       True   True   True   \n",
       "1048573   True   True   True   True   True   True       True   True   True   \n",
       "1048574  False  False  False  False  False  False      False  False  False   \n",
       "\n",
       "         h_mud  ...    p5g10  p5g11  p5g12  p5g13  p5g14  p5g15  p5g99    p5h  \\\n",
       "0         True  ...    False  False  False  False   True  False  False   True   \n",
       "1         True  ...    False  False  False  False   True  False  False   True   \n",
       "2         True  ...    False  False  False  False   True  False  False   True   \n",
       "3         True  ...    False  False  False  False  False  False  False   True   \n",
       "4         True  ...    False  False  False  False  False  False  False   True   \n",
       "5         True  ...    False  False  False  False   True  False  False   True   \n",
       "6         True  ...    False  False  False  False   True  False  False   True   \n",
       "7         True  ...    False  False  False  False   True  False  False   True   \n",
       "8         True  ...    False  False  False  False  False   True  False   True   \n",
       "9         True  ...    False  False  False  False   True  False  False   True   \n",
       "10        True  ...    False  False  False  False  False  False  False   True   \n",
       "11        True  ...    False  False  False  False  False  False  False   True   \n",
       "12        True  ...    False  False  False  False  False  False  False   True   \n",
       "13        True  ...    False  False  False  False   True  False  False   True   \n",
       "14        True  ...    False  False  False  False  False  False  False   True   \n",
       "15        True  ...    False  False  False  False  False  False  False   True   \n",
       "16        True  ...    False  False  False  False   True  False  False   True   \n",
       "17        True  ...    False  False  False  False   True  False  False   True   \n",
       "18        True  ...    False  False  False  False  False  False  False   True   \n",
       "19        True  ...    False  False  False  False   True  False  False   True   \n",
       "20        True  ...    False  False  False  False  False  False  False   True   \n",
       "21        True  ...    False  False  False  False  False  False  False   True   \n",
       "22        True  ...    False  False  False  False  False   True  False   True   \n",
       "23        True  ...    False  False  False  False  False  False  False   True   \n",
       "24        True  ...    False  False  False  False   True  False  False   True   \n",
       "25        True  ...    False  False  False  False   True  False  False   True   \n",
       "26        True  ...    False  False  False  False  False   True  False   True   \n",
       "27        True  ...    False  False  False  False   True  False  False   True   \n",
       "28        True  ...    False  False  False  False   True  False  False   True   \n",
       "29        True  ...    False  False  False  False  False  False  False   True   \n",
       "...        ...  ...      ...    ...    ...    ...    ...    ...    ...    ...   \n",
       "1048545   True  ...    False  False  False  False   True  False  False  False   \n",
       "1048546   True  ...    False  False  False  False  False  False  False  False   \n",
       "1048547   True  ...    False  False  False  False   True  False  False  False   \n",
       "1048548   True  ...    False  False  False  False   True  False  False  False   \n",
       "1048549   True  ...    False  False  False  False   True  False  False  False   \n",
       "1048550   True  ...    False  False  False  False  False  False  False  False   \n",
       "1048551   True  ...    False  False  False  False  False  False  False  False   \n",
       "1048552   True  ...    False  False  False  False  False  False  False  False   \n",
       "1048553   True  ...    False  False  False  False  False  False  False  False   \n",
       "1048554   True  ...    False  False  False  False   True  False  False  False   \n",
       "1048555   True  ...    False  False  False  False   True  False  False  False   \n",
       "1048556   True  ...    False  False  False  False  False  False  False  False   \n",
       "1048557   True  ...    False  False  False  False   True  False  False  False   \n",
       "1048558   True  ...    False  False  False  False   True  False  False  False   \n",
       "1048559   True  ...    False  False  False  False   True  False  False  False   \n",
       "1048560   True  ...    False  False  False  False  False  False  False  False   \n",
       "1048561   True  ...    False  False  False  False  False   True  False  False   \n",
       "1048562   True  ...    False  False  False  False  False  False  False  False   \n",
       "1048563   True  ...    False  False  False  False  False  False  False  False   \n",
       "1048564   True  ...    False  False  False  False  False  False  False  False   \n",
       "1048565   True  ...    False  False  False  False  False  False  False  False   \n",
       "1048566   True  ...    False  False  False  False   True  False  False  False   \n",
       "1048567   True  ...    False  False  False  False  False   True  False  False   \n",
       "1048568   True  ...    False  False  False  False  False  False  False  False   \n",
       "1048569   True  ...    False  False  False  False  False  False  False  False   \n",
       "1048570   True  ...    False  False  False  False  False  False  False  False   \n",
       "1048571   True  ...    False  False  False  False   True  False  False  False   \n",
       "1048572   True  ...    False  False  False  False   True  False  False  False   \n",
       "1048573   True  ...    False  False  False  False   True  False  False  False   \n",
       "1048574  False  ...    False  False  False  False  False  False  False  False   \n",
       "\n",
       "            ur    fac  \n",
       "0         True   True  \n",
       "1         True   True  \n",
       "2         True   True  \n",
       "3         True   True  \n",
       "4         True   True  \n",
       "5         True   True  \n",
       "6         True   True  \n",
       "7         True   True  \n",
       "8         True   True  \n",
       "9         True   True  \n",
       "10        True   True  \n",
       "11        True   True  \n",
       "12        True   True  \n",
       "13        True   True  \n",
       "14        True   True  \n",
       "15        True   True  \n",
       "16        True   True  \n",
       "17        True   True  \n",
       "18        True   True  \n",
       "19        True   True  \n",
       "20        True   True  \n",
       "21        True   True  \n",
       "22        True   True  \n",
       "23        True   True  \n",
       "24        True   True  \n",
       "25        True   True  \n",
       "26        True   True  \n",
       "27        True   True  \n",
       "28        True   True  \n",
       "29        True   True  \n",
       "...        ...    ...  \n",
       "1048545   True   True  \n",
       "1048546   True   True  \n",
       "1048547   True   True  \n",
       "1048548   True   True  \n",
       "1048549   True   True  \n",
       "1048550   True   True  \n",
       "1048551   True   True  \n",
       "1048552   True   True  \n",
       "1048553   True   True  \n",
       "1048554   True   True  \n",
       "1048555   True   True  \n",
       "1048556   True   True  \n",
       "1048557   True   True  \n",
       "1048558   True   True  \n",
       "1048559   True   True  \n",
       "1048560   True   True  \n",
       "1048561   True   True  \n",
       "1048562   True   True  \n",
       "1048563   True   True  \n",
       "1048564   True   True  \n",
       "1048565   True   True  \n",
       "1048566   True   True  \n",
       "1048567   True   True  \n",
       "1048568   True   True  \n",
       "1048569   True   True  \n",
       "1048570   True   True  \n",
       "1048571   True   True  \n",
       "1048572   True   True  \n",
       "1048573   True   True  \n",
       "1048574  False  False  \n",
       "\n",
       "[1048575 rows x 186 columns]"
      ]
     },
     "execution_count": 11,
     "metadata": {},
     "output_type": "execute_result"
    }
   ],
   "source": [
    "df.notnull()"
   ]
  },
  {
   "cell_type": "markdown",
   "metadata": {},
   "source": [
    "## Columnas con datos completos (complete data) y faltantes (missing data)"
   ]
  },
  {
   "cell_type": "code",
   "execution_count": 12,
   "metadata": {},
   "outputs": [
    {
     "data": {
      "text/plain": [
       "r_def        False\n",
       "cd_a         False\n",
       "ent          False\n",
       "con          False\n",
       "upm          False\n",
       "d_sem        False\n",
       "n_pro_viv    False\n",
       "v_sel        False\n",
       "n_hog        False\n",
       "h_mud        False\n",
       "n_ent        False\n",
       "per          False\n",
       "n_ren        False\n",
       "eda          False\n",
       "n_inf        False\n",
       "p1           False\n",
       "p1a1         False\n",
       "p1a2         False\n",
       "p1a3         False\n",
       "p1b          False\n",
       "p1c          False\n",
       "p1d          False\n",
       "p1e          False\n",
       "p2_1         False\n",
       "p2_2         False\n",
       "p2_3         False\n",
       "p2_4         False\n",
       "p2_9         False\n",
       "p2a_dia      False\n",
       "p2a_sem      False\n",
       "             ...  \n",
       "p5e_hju      False\n",
       "p5e_mju      False\n",
       "p5e_hvi      False\n",
       "p5e_mvi      False\n",
       "p5e_hsa      False\n",
       "p5e_msa      False\n",
       "p5e_hdo      False\n",
       "p5e_mdo      False\n",
       "p5e_thrs     False\n",
       "p5e_tdia     False\n",
       "p5f          False\n",
       "p5g1         False\n",
       "p5g2         False\n",
       "p5g3         False\n",
       "p5g4         False\n",
       "p5g5         False\n",
       "p5g6         False\n",
       "p5g7         False\n",
       "p5g8         False\n",
       "p5g9         False\n",
       "p5g10        False\n",
       "p5g11        False\n",
       "p5g12        False\n",
       "p5g13        False\n",
       "p5g14        False\n",
       "p5g15        False\n",
       "p5g99        False\n",
       "p5h          False\n",
       "ur           False\n",
       "fac          False\n",
       "Length: 186, dtype: bool"
      ]
     },
     "execution_count": 12,
     "metadata": {},
     "output_type": "execute_result"
    }
   ],
   "source": [
    "df_copy_20151.notnull().all()"
   ]
  },
  {
   "cell_type": "code",
   "execution_count": 13,
   "metadata": {},
   "outputs": [],
   "source": [
    "df_copy_20151 = df_copy_20151.fillna(value=99)"
   ]
  },
  {
   "cell_type": "code",
   "execution_count": 14,
   "metadata": {},
   "outputs": [
    {
     "data": {
      "text/html": [
       "<div>\n",
       "<style scoped>\n",
       "    .dataframe tbody tr th:only-of-type {\n",
       "        vertical-align: middle;\n",
       "    }\n",
       "\n",
       "    .dataframe tbody tr th {\n",
       "        vertical-align: top;\n",
       "    }\n",
       "\n",
       "    .dataframe thead th {\n",
       "        text-align: right;\n",
       "    }\n",
       "</style>\n",
       "<table border=\"1\" class=\"dataframe\">\n",
       "  <thead>\n",
       "    <tr style=\"text-align: right;\">\n",
       "      <th></th>\n",
       "      <th>r_def</th>\n",
       "      <th>cd_a</th>\n",
       "      <th>ent</th>\n",
       "      <th>con</th>\n",
       "      <th>upm</th>\n",
       "      <th>d_sem</th>\n",
       "      <th>n_pro_viv</th>\n",
       "      <th>v_sel</th>\n",
       "      <th>n_hog</th>\n",
       "      <th>h_mud</th>\n",
       "      <th>...</th>\n",
       "      <th>p5g10</th>\n",
       "      <th>p5g11</th>\n",
       "      <th>p5g12</th>\n",
       "      <th>p5g13</th>\n",
       "      <th>p5g14</th>\n",
       "      <th>p5g15</th>\n",
       "      <th>p5g99</th>\n",
       "      <th>p5h</th>\n",
       "      <th>ur</th>\n",
       "      <th>fac</th>\n",
       "    </tr>\n",
       "  </thead>\n",
       "  <tbody>\n",
       "    <tr>\n",
       "      <th>0</th>\n",
       "      <td>0.0</td>\n",
       "      <td>1.0</td>\n",
       "      <td>9.0</td>\n",
       "      <td>40001.0</td>\n",
       "      <td>900471.0</td>\n",
       "      <td>101.0</td>\n",
       "      <td>15.0</td>\n",
       "      <td>1.0</td>\n",
       "      <td>1.0</td>\n",
       "      <td>0.0</td>\n",
       "      <td>...</td>\n",
       "      <td>99.0</td>\n",
       "      <td>99.0</td>\n",
       "      <td>99.0</td>\n",
       "      <td>99.0</td>\n",
       "      <td>14.0</td>\n",
       "      <td>99.0</td>\n",
       "      <td>99.0</td>\n",
       "      <td></td>\n",
       "      <td>1.0</td>\n",
       "      <td>422.0</td>\n",
       "    </tr>\n",
       "    <tr>\n",
       "      <th>1</th>\n",
       "      <td>0.0</td>\n",
       "      <td>1.0</td>\n",
       "      <td>9.0</td>\n",
       "      <td>40001.0</td>\n",
       "      <td>900471.0</td>\n",
       "      <td>101.0</td>\n",
       "      <td>15.0</td>\n",
       "      <td>1.0</td>\n",
       "      <td>1.0</td>\n",
       "      <td>0.0</td>\n",
       "      <td>...</td>\n",
       "      <td>99.0</td>\n",
       "      <td>99.0</td>\n",
       "      <td>99.0</td>\n",
       "      <td>99.0</td>\n",
       "      <td>14.0</td>\n",
       "      <td>99.0</td>\n",
       "      <td>99.0</td>\n",
       "      <td></td>\n",
       "      <td>1.0</td>\n",
       "      <td>422.0</td>\n",
       "    </tr>\n",
       "    <tr>\n",
       "      <th>2</th>\n",
       "      <td>0.0</td>\n",
       "      <td>1.0</td>\n",
       "      <td>9.0</td>\n",
       "      <td>40001.0</td>\n",
       "      <td>900471.0</td>\n",
       "      <td>101.0</td>\n",
       "      <td>15.0</td>\n",
       "      <td>1.0</td>\n",
       "      <td>1.0</td>\n",
       "      <td>0.0</td>\n",
       "      <td>...</td>\n",
       "      <td>99.0</td>\n",
       "      <td>99.0</td>\n",
       "      <td>99.0</td>\n",
       "      <td>99.0</td>\n",
       "      <td>14.0</td>\n",
       "      <td>99.0</td>\n",
       "      <td>99.0</td>\n",
       "      <td></td>\n",
       "      <td>1.0</td>\n",
       "      <td>422.0</td>\n",
       "    </tr>\n",
       "    <tr>\n",
       "      <th>3</th>\n",
       "      <td>0.0</td>\n",
       "      <td>1.0</td>\n",
       "      <td>9.0</td>\n",
       "      <td>40001.0</td>\n",
       "      <td>900471.0</td>\n",
       "      <td>101.0</td>\n",
       "      <td>15.0</td>\n",
       "      <td>1.0</td>\n",
       "      <td>1.0</td>\n",
       "      <td>0.0</td>\n",
       "      <td>...</td>\n",
       "      <td>99.0</td>\n",
       "      <td>99.0</td>\n",
       "      <td>99.0</td>\n",
       "      <td>99.0</td>\n",
       "      <td>99.0</td>\n",
       "      <td>99.0</td>\n",
       "      <td>99.0</td>\n",
       "      <td></td>\n",
       "      <td>1.0</td>\n",
       "      <td>422.0</td>\n",
       "    </tr>\n",
       "    <tr>\n",
       "      <th>4</th>\n",
       "      <td>0.0</td>\n",
       "      <td>1.0</td>\n",
       "      <td>9.0</td>\n",
       "      <td>40001.0</td>\n",
       "      <td>900471.0</td>\n",
       "      <td>101.0</td>\n",
       "      <td>38.0</td>\n",
       "      <td>2.0</td>\n",
       "      <td>1.0</td>\n",
       "      <td>0.0</td>\n",
       "      <td>...</td>\n",
       "      <td>99.0</td>\n",
       "      <td>99.0</td>\n",
       "      <td>99.0</td>\n",
       "      <td>99.0</td>\n",
       "      <td>99.0</td>\n",
       "      <td>99.0</td>\n",
       "      <td>99.0</td>\n",
       "      <td></td>\n",
       "      <td>1.0</td>\n",
       "      <td>422.0</td>\n",
       "    </tr>\n",
       "  </tbody>\n",
       "</table>\n",
       "<p>5 rows × 186 columns</p>\n",
       "</div>"
      ],
      "text/plain": [
       "   r_def  cd_a  ent      con       upm  d_sem  n_pro_viv  v_sel  n_hog  h_mud  \\\n",
       "0    0.0   1.0  9.0  40001.0  900471.0  101.0       15.0    1.0    1.0    0.0   \n",
       "1    0.0   1.0  9.0  40001.0  900471.0  101.0       15.0    1.0    1.0    0.0   \n",
       "2    0.0   1.0  9.0  40001.0  900471.0  101.0       15.0    1.0    1.0    0.0   \n",
       "3    0.0   1.0  9.0  40001.0  900471.0  101.0       15.0    1.0    1.0    0.0   \n",
       "4    0.0   1.0  9.0  40001.0  900471.0  101.0       38.0    2.0    1.0    0.0   \n",
       "\n",
       "   ...    p5g10  p5g11  p5g12  p5g13  p5g14  p5g15 p5g99 p5h   ur    fac  \n",
       "0  ...     99.0   99.0   99.0   99.0   14.0   99.0  99.0      1.0  422.0  \n",
       "1  ...     99.0   99.0   99.0   99.0   14.0   99.0  99.0      1.0  422.0  \n",
       "2  ...     99.0   99.0   99.0   99.0   14.0   99.0  99.0      1.0  422.0  \n",
       "3  ...     99.0   99.0   99.0   99.0   99.0   99.0  99.0      1.0  422.0  \n",
       "4  ...     99.0   99.0   99.0   99.0   99.0   99.0  99.0      1.0  422.0  \n",
       "\n",
       "[5 rows x 186 columns]"
      ]
     },
     "execution_count": 14,
     "metadata": {},
     "output_type": "execute_result"
    }
   ],
   "source": [
    "df_copy_20151.head()"
   ]
  },
  {
   "cell_type": "markdown",
   "metadata": {},
   "source": [
    "## Resultado definitivo de la entrevista (r_def)\n",
    "\n",
    "0 Entrevista completa"
   ]
  },
  {
   "cell_type": "code",
   "execution_count": 15,
   "metadata": {},
   "outputs": [
    {
     "data": {
      "text/plain": [
       "0     1048574\n",
       "99          1\n",
       "Name: r_def, dtype: int64"
      ]
     },
     "execution_count": 15,
     "metadata": {},
     "output_type": "execute_result"
    }
   ],
   "source": [
    "df_copy_20151['r_def'] = df_copy_20151['r_def'].astype('int64')\n",
    "df_copy_20151.r_def.value_counts()"
   ]
  },
  {
   "cell_type": "markdown",
   "metadata": {},
   "source": [
    "## Ciudad autorrepresentada (cd_a)\n",
    "1 México 2 Guadalajara 3 Monterrey 4 Puebla 5 León 6 Torreón (a partir de 2017) 7 San Luis Potosí 8 Mérida 9 Chihuahua 10 Tampico 12 Veracruz 13 Acapulco 14 Aguascalientes 15 Morelia 16 Toluca 17 Saltillo 18 Villahermosa 19 Tuxtla Gutiérrez 21 Tijuana 24 Culiacán 25 Hermosillo 26 Durango 27 Tepic 28 Campeche 29 Cuernavaca 31 Oaxaca 32 Zacatecas 33 Colima 36 Querétaro 39 Tlaxcala 40 La Paz 41 Cancún 43 Pachuca 81 Complemento urbano-rural 82 Complemento urbano-rural 83 Complemento urbano-rural 84 Complemento urbano-rural 85 Complemento urbano-rural 86 Complemento urbano-rural"
   ]
  },
  {
   "cell_type": "code",
   "execution_count": 16,
   "metadata": {
    "scrolled": true
   },
   "outputs": [
    {
     "data": {
      "text/plain": [
       "86    139331\n",
       "81     70091\n",
       "1      50637\n",
       "83     50368\n",
       "84     47105\n",
       "85     37040\n",
       "5      34646\n",
       "2      32726\n",
       "3      32605\n",
       "4      31581\n",
       "16     24289\n",
       "82     23986\n",
       "15     22335\n",
       "14     21885\n",
       "7      21821\n",
       "24     21735\n",
       "17     21277\n",
       "19     21079\n",
       "18     21051\n",
       "8      20597\n",
       "9      20060\n",
       "25     20010\n",
       "13     19582\n",
       "21     19573\n",
       "26     18756\n",
       "10     18589\n",
       "39     18079\n",
       "12     17185\n",
       "31     16808\n",
       "27     16283\n",
       "32     16111\n",
       "29     15620\n",
       "36     15242\n",
       "33     14829\n",
       "43     14792\n",
       "28     14431\n",
       "41     13546\n",
       "40     12893\n",
       "99         1\n",
       "Name: cd_a, dtype: int64"
      ]
     },
     "execution_count": 16,
     "metadata": {},
     "output_type": "execute_result"
    }
   ],
   "source": [
    "df_copy_20151['cd_a'] = df_copy_20151['cd_a'].astype('int64')\n",
    "df_copy_20151.cd_a.value_counts()"
   ]
  },
  {
   "cell_type": "markdown",
   "metadata": {},
   "source": [
    "## Entidad (ent)\n",
    "1 Aguascalientes 2 Baja California 3 Baja California Sur 4 Campeche 5 Coahuila de Zaragoza 6 Colima 7 Chiapas 8 Chihuahua 9 Distrito Federal 10 Durango 11 Guanajuato 12 Guerrero 13 Hidalgo 14 Jalisco 15 México 16 Michoacán de Ocampo 17 Morelos 18 Nayarit 19 Nuevo León 20 Oaxaca 21 Puebla 22 Querétaro 23 Quintana Roo 24 San Luis Potosí 25 Sinaloa 26 Sonora 27 Tabasco 28 Tamaulipas 29 Tlaxcala 30 Veracruz de Ignacio de la Llave 31 Yucatán 32 Zacatecas"
   ]
  },
  {
   "cell_type": "code",
   "execution_count": 17,
   "metadata": {},
   "outputs": [
    {
     "data": {
      "text/plain": [
       "15    54880\n",
       "11    48898\n",
       "21    43692\n",
       "14    42706\n",
       "19    40627\n",
       "7     37859\n",
       "30    35420\n",
       "16    34645\n",
       "5     34047\n",
       "1     33871\n",
       "12    33731\n",
       "24    33730\n",
       "2     33557\n",
       "27    33272\n",
       "25    32961\n",
       "20    32584\n",
       "31    31951\n",
       "8     31918\n",
       "9     31502\n",
       "28    30359\n",
       "26    30277\n",
       "32    28980\n",
       "10    28706\n",
       "29    28583\n",
       "18    27654\n",
       "22    26663\n",
       "4     26657\n",
       "17    25623\n",
       "13    25031\n",
       "6     24807\n",
       "23    22751\n",
       "3     20632\n",
       "99        1\n",
       "Name: ent, dtype: int64"
      ]
     },
     "execution_count": 17,
     "metadata": {},
     "output_type": "execute_result"
    }
   ],
   "source": [
    "df_copy_20151['ent'] = df_copy_20151['ent'].astype('int64')\n",
    "df_copy_20151.ent.value_counts()"
   ]
  },
  {
   "cell_type": "markdown",
   "metadata": {},
   "source": [
    "## Control (con)\n",
    "Primer dígito Ámbito del número de control 0 El control pertenece a la muestra anterior 4 Ciudades autorrepresentadas 5 Complemento urbano 6 Rural\n",
    "\n",
    "Los últimos cuatro Consecutivo por entidad dígitos y ámbito 0001-9999 ]"
   ]
  },
  {
   "cell_type": "code",
   "execution_count": 18,
   "metadata": {
    "scrolled": true
   },
   "outputs": [
    {
     "data": {
      "text/plain": [
       "60002    5443\n",
       "60004    5117\n",
       "60006    5020\n",
       "60003    5014\n",
       "60005    4985\n",
       "60001    4941\n",
       "60013    4933\n",
       "60012    4900\n",
       "60008    4900\n",
       "60011    4857\n",
       "60007    4853\n",
       "60014    4831\n",
       "60009    4822\n",
       "60010    4793\n",
       "60015    4706\n",
       "50007    3757\n",
       "60016    3691\n",
       "60017    3662\n",
       "50008    3550\n",
       "50016    3529\n",
       "60018    3457\n",
       "50010    3390\n",
       "60020    3388\n",
       "50014    3383\n",
       "60019    3373\n",
       "60022    3361\n",
       "50029    3344\n",
       "50023    3331\n",
       "50025    3303\n",
       "50009    3279\n",
       "         ... \n",
       "40617      42\n",
       "50270      42\n",
       "40603      41\n",
       "50244      41\n",
       "50257      40\n",
       "40624      40\n",
       "50265      36\n",
       "40609      35\n",
       "40606      34\n",
       "40604      34\n",
       "50259      34\n",
       "40636      33\n",
       "40627      33\n",
       "40637      32\n",
       "40631      32\n",
       "50258      32\n",
       "50268      32\n",
       "50266      31\n",
       "40601      31\n",
       "40634      30\n",
       "40610      29\n",
       "50261      29\n",
       "40611      28\n",
       "50263      26\n",
       "50267      26\n",
       "50260      20\n",
       "50264      20\n",
       "40613      12\n",
       "40629      12\n",
       "99          1\n",
       "Name: con, Length: 1382, dtype: int64"
      ]
     },
     "execution_count": 18,
     "metadata": {},
     "output_type": "execute_result"
    }
   ],
   "source": [
    "df_copy_20151['con'] = df_copy_20151['con'].astype('int64')\n",
    "df_copy_20151.con.value_counts()"
   ]
  },
  {
   "cell_type": "markdown",
   "metadata": {},
   "source": [
    "## Unidad primaria de muestreo (upm)\n",
    "0100001-3299999 Número de la unidad primaria de muestreo"
   ]
  },
  {
   "cell_type": "code",
   "execution_count": 19,
   "metadata": {
    "scrolled": true
   },
   "outputs": [
    {
     "data": {
      "text/plain": [
       "2107921    268\n",
       "460169     250\n",
       "1160872    249\n",
       "3202317    239\n",
       "3104127    238\n",
       "1261319    237\n",
       "2901145    237\n",
       "1520943    236\n",
       "3102796    235\n",
       "1108161    232\n",
       "704588     231\n",
       "160215     229\n",
       "2960130    228\n",
       "2701731    228\n",
       "2001127    227\n",
       "1526668    227\n",
       "2460665    227\n",
       "1562014    226\n",
       "1461148    225\n",
       "3061392    223\n",
       "860591     221\n",
       "2761026    220\n",
       "1161107    219\n",
       "2960066    219\n",
       "1524857    218\n",
       "102351     218\n",
       "762502     216\n",
       "3103005    216\n",
       "1204400    216\n",
       "102330     216\n",
       "          ... \n",
       "2501911      6\n",
       "1404264      6\n",
       "902786       6\n",
       "3001079      6\n",
       "2302167      6\n",
       "1200754      6\n",
       "3000207      6\n",
       "1202343      6\n",
       "919166       5\n",
       "1700210      5\n",
       "804807       5\n",
       "2806636      5\n",
       "2808462      5\n",
       "2300755      5\n",
       "1201599      4\n",
       "2105397      4\n",
       "3000087      4\n",
       "3004197      4\n",
       "2800693      4\n",
       "3102149      4\n",
       "2801177      4\n",
       "2301629      3\n",
       "1514922      3\n",
       "1702785      3\n",
       "1701897      3\n",
       "101879       2\n",
       "2800542      2\n",
       "2202100      2\n",
       "702105       2\n",
       "99           1\n",
       "Name: upm, Length: 19340, dtype: int64"
      ]
     },
     "execution_count": 19,
     "metadata": {},
     "output_type": "execute_result"
    }
   ],
   "source": [
    "df_copy_20151['upm'] = df_copy_20151['upm'].astype('int64')\n",
    "df_copy_20151.upm.value_counts()"
   ]
  },
  {
   "cell_type": "markdown",
   "metadata": {},
   "source": [
    "## Distribución semanal(D_SEM)¶\n",
    "Primer dígito 1-500"
   ]
  },
  {
   "cell_type": "code",
   "execution_count": 20,
   "metadata": {
    "scrolled": true
   },
   "outputs": [
    {
     "data": {
      "text/plain": [
       "503    36003\n",
       "403    35672\n",
       "102    35411\n",
       "101    35372\n",
       "103    35356\n",
       "501    35253\n",
       "402    35230\n",
       "302    35043\n",
       "301    34981\n",
       "203    34955\n",
       "502    34751\n",
       "202    34725\n",
       "201    34468\n",
       "401    34262\n",
       "303    34140\n",
       "110    10987\n",
       "304    10862\n",
       "510    10807\n",
       "408    10797\n",
       "504    10779\n",
       "111    10701\n",
       "205    10674\n",
       "409    10674\n",
       "509    10645\n",
       "109    10630\n",
       "413    10616\n",
       "112    10594\n",
       "310    10594\n",
       "104    10585\n",
       "507    10576\n",
       "       ...  \n",
       "512    10498\n",
       "412    10494\n",
       "207    10492\n",
       "505    10484\n",
       "311    10465\n",
       "406    10415\n",
       "211    10401\n",
       "312    10388\n",
       "407    10386\n",
       "306    10373\n",
       "305    10369\n",
       "206    10367\n",
       "107    10366\n",
       "511    10360\n",
       "404    10356\n",
       "113    10351\n",
       "410    10339\n",
       "405    10327\n",
       "308    10286\n",
       "212    10263\n",
       "106    10259\n",
       "307    10255\n",
       "506    10204\n",
       "513    10187\n",
       "108    10167\n",
       "309    10162\n",
       "210    10132\n",
       "508    10046\n",
       "209    10011\n",
       "99         1\n",
       "Name: d_sem, Length: 66, dtype: int64"
      ]
     },
     "execution_count": 20,
     "metadata": {},
     "output_type": "execute_result"
    }
   ],
   "source": [
    "df_copy_20151['d_sem'] = df_copy_20151['d_sem'].astype('int64')\n",
    "df_copy_20151.d_sem.value_counts()"
   ]
  },
  {
   "cell_type": "markdown",
   "metadata": {},
   "source": [
    "## Número progresivo de la vivienda (N_PRO_VIV)\n",
    "Número progresivo de la vivienda 0001-9999\n",
    "\n",
    "Número progresivo de la vivienda en el listado 0001-9999"
   ]
  },
  {
   "cell_type": "code",
   "execution_count": 21,
   "metadata": {
    "scrolled": true
   },
   "outputs": [
    {
     "data": {
      "text/plain": [
       "38     7889\n",
       "59     7816\n",
       "14     7784\n",
       "18     7727\n",
       "67     7727\n",
       "22     7647\n",
       "20     7643\n",
       "2      7633\n",
       "43     7627\n",
       "3      7572\n",
       "34     7561\n",
       "47     7547\n",
       "70     7524\n",
       "51     7518\n",
       "39     7511\n",
       "63     7502\n",
       "31     7493\n",
       "36     7485\n",
       "78     7450\n",
       "11     7440\n",
       "92     7439\n",
       "72     7428\n",
       "74     7419\n",
       "24     7414\n",
       "5      7413\n",
       "62     7411\n",
       "48     7392\n",
       "29     7388\n",
       "19     7370\n",
       "86     7364\n",
       "       ... \n",
       "460       6\n",
       "494       6\n",
       "446       5\n",
       "478       5\n",
       "842       5\n",
       "469       5\n",
       "549       5\n",
       "522       4\n",
       "508       4\n",
       "514       4\n",
       "648       4\n",
       "485       4\n",
       "526       4\n",
       "552       4\n",
       "530       4\n",
       "540       4\n",
       "451       4\n",
       "559       3\n",
       "546       3\n",
       "532       3\n",
       "456       3\n",
       "430       3\n",
       "618       3\n",
       "536       2\n",
       "534       2\n",
       "600       2\n",
       "499       2\n",
       "573       2\n",
       "466       2\n",
       "556       1\n",
       "Name: n_pro_viv, Length: 541, dtype: int64"
      ]
     },
     "execution_count": 21,
     "metadata": {},
     "output_type": "execute_result"
    }
   ],
   "source": [
    "df_copy_20151['n_pro_viv'] = df_copy_20151['n_pro_viv'].astype('int64')\n",
    "df_copy_20151.n_pro_viv.value_counts()"
   ]
  },
  {
   "cell_type": "markdown",
   "metadata": {},
   "source": [
    "## Vivienda seleccionada (V_SEL)\n",
    "01-99 seleccionada"
   ]
  },
  {
   "cell_type": "code",
   "execution_count": 22,
   "metadata": {},
   "outputs": [
    {
     "data": {
      "text/plain": [
       "1     166999\n",
       "3     165278\n",
       "4     165007\n",
       "2     164968\n",
       "5     163534\n",
       "8      15153\n",
       "17     15052\n",
       "6      14992\n",
       "13     14968\n",
       "14     14832\n",
       "15     14828\n",
       "12     14794\n",
       "9      14793\n",
       "16     14783\n",
       "11     14715\n",
       "7      14688\n",
       "18     14642\n",
       "10     14612\n",
       "19     14265\n",
       "20     13841\n",
       "21      1244\n",
       "22       438\n",
       "23       136\n",
       "24        12\n",
       "99         1\n",
       "Name: v_sel, dtype: int64"
      ]
     },
     "execution_count": 22,
     "metadata": {},
     "output_type": "execute_result"
    }
   ],
   "source": [
    "df_copy_20151['v_sel'] = df_copy_20151['v_sel'].astype('int64')\n",
    "df_copy_20151.v_sel.value_counts()"
   ]
  },
  {
   "cell_type": "markdown",
   "metadata": {},
   "source": [
    "## Número de hogar (n_hog)\n",
    "1 Número de hogar principal dentro de la vivienda\n",
    "2-9 Número de hogar adicional dentro de la vivienda"
   ]
  },
  {
   "cell_type": "code",
   "execution_count": 23,
   "metadata": {
    "scrolled": true
   },
   "outputs": [
    {
     "data": {
      "text/plain": [
       "1     1043367\n",
       "2        4442\n",
       "3         624\n",
       "4         121\n",
       "5          18\n",
       "6           2\n",
       "99          1\n",
       "Name: n_hog, dtype: int64"
      ]
     },
     "execution_count": 23,
     "metadata": {},
     "output_type": "execute_result"
    }
   ],
   "source": [
    "df_copy_20151['n_hog'] = df_copy_20151['n_hog'].astype('int64')\n",
    "df_copy_20151.n_hog.value_counts()"
   ]
  },
  {
   "cell_type": "markdown",
   "metadata": {},
   "source": [
    "## Hogar mudado (h_mud)\n",
    "0-4 Número de veces que el hogar se ha mudado"
   ]
  },
  {
   "cell_type": "code",
   "execution_count": 24,
   "metadata": {},
   "outputs": [
    {
     "data": {
      "text/plain": [
       "0     1017654\n",
       "1       27823\n",
       "2        2907\n",
       "3         178\n",
       "4          12\n",
       "99          1\n",
       "Name: h_mud, dtype: int64"
      ]
     },
     "execution_count": 24,
     "metadata": {},
     "output_type": "execute_result"
    }
   ],
   "source": [
    "df_copy_20151['h_mud'] = df_copy_20151['h_mud'].astype('int64')\n",
    "df_copy_20151.h_mud.value_counts()"
   ]
  },
  {
   "cell_type": "markdown",
   "metadata": {},
   "source": [
    "## Número de entrevista o visita (n_ent)\n",
    "1-5 Número de entrevista o visita realizada a la vivienda"
   ]
  },
  {
   "cell_type": "code",
   "execution_count": 25,
   "metadata": {},
   "outputs": [
    {
     "data": {
      "text/plain": [
       "1     212410\n",
       "2     210954\n",
       "3     209093\n",
       "5     208168\n",
       "4     207949\n",
       "99         1\n",
       "Name: n_ent, dtype: int64"
      ]
     },
     "execution_count": 25,
     "metadata": {},
     "output_type": "execute_result"
    }
   ],
   "source": [
    "df_copy_20151['n_ent'] = df_copy_20151['n_ent'].astype('int64')\n",
    "df_copy_20151.n_ent.value_counts()"
   ]
  },
  {
   "cell_type": "markdown",
   "metadata": {},
   "source": [
    "## Periodo (per)\n",
    "Primer dígito, 1-4\n",
    "Primer dígito Trimestre de año 1 Enero-Marzo 2 Abril-Junio 3 Julio-Septiembre 4 Octubre-Diciembre\n",
    "\n",
    "Segundo y tercer dígito 05-99 Año en curso"
   ]
  },
  {
   "cell_type": "code",
   "execution_count": 26,
   "metadata": {},
   "outputs": [
    {
     "data": {
      "text/plain": [
       "216    309697\n",
       "116    309387\n",
       "316    305048\n",
       "416    124442\n",
       "99          1\n",
       "Name: per, dtype: int64"
      ]
     },
     "execution_count": 26,
     "metadata": {},
     "output_type": "execute_result"
    }
   ],
   "source": [
    "df_copy_20151['per'] = df_copy_20151['per'].astype('int64')\n",
    "df_copy_20151.per.value_counts()"
   ]
  },
  {
   "cell_type": "markdown",
   "metadata": {},
   "source": [
    "## Número de renglón (n_ren)\n",
    "01-30 Número de renglón del integrante del hogar"
   ]
  },
  {
   "cell_type": "code",
   "execution_count": 27,
   "metadata": {
    "scrolled": true
   },
   "outputs": [
    {
     "data": {
      "text/plain": [
       "1     357144\n",
       "2     314923\n",
       "3     182091\n",
       "4     106627\n",
       "5      48411\n",
       "6      20747\n",
       "7       9352\n",
       "8       4458\n",
       "9       2250\n",
       "10      1156\n",
       "11       636\n",
       "12       344\n",
       "13       190\n",
       "14       110\n",
       "15        50\n",
       "16        25\n",
       "17        17\n",
       "18        16\n",
       "19        12\n",
       "20        10\n",
       "25         3\n",
       "21         2\n",
       "99         1\n",
       "Name: n_ren, dtype: int64"
      ]
     },
     "execution_count": 27,
     "metadata": {},
     "output_type": "execute_result"
    }
   ],
   "source": [
    "df_copy_20151['n_ren'] = df_copy_20151['n_ren'].astype('int64')\n",
    "df_copy_20151.n_ren.value_counts()"
   ]
  },
  {
   "cell_type": "markdown",
   "metadata": {},
   "source": [
    "## Edad (eda)\n",
    "00 Menores de 1 año 01-96 Número de años cumplidos del integrante del hogar 97 97 años y más 98 Edad no especificada para mayores (12 años y más) 99 Edad no especificada para menores (00 a 11 años)"
   ]
  },
  {
   "cell_type": "code",
   "execution_count": 28,
   "metadata": {
    "scrolled": true
   },
   "outputs": [
    {
     "data": {
      "text/plain": [
       "15    25704\n",
       "16    24910\n",
       "18    24585\n",
       "13    24257\n",
       "14    24107\n",
       "17    23726\n",
       "12    23604\n",
       "23    23248\n",
       "20    23201\n",
       "21    23190\n",
       "22    23023\n",
       "19    22667\n",
       "25    21695\n",
       "24    21432\n",
       "26    20774\n",
       "40    20436\n",
       "30    20301\n",
       "28    19748\n",
       "36    19422\n",
       "27    19356\n",
       "35    19141\n",
       "43    19078\n",
       "33    18953\n",
       "38    18880\n",
       "31    18771\n",
       "41    18732\n",
       "39    18582\n",
       "29    18504\n",
       "42    18236\n",
       "32    18060\n",
       "      ...  \n",
       "69     5556\n",
       "71     5189\n",
       "73     4961\n",
       "72     4671\n",
       "74     4337\n",
       "76     4305\n",
       "75     4294\n",
       "77     3386\n",
       "80     3143\n",
       "78     3113\n",
       "79     2974\n",
       "81     2447\n",
       "83     2036\n",
       "82     1959\n",
       "84     1842\n",
       "85     1815\n",
       "86     1662\n",
       "87     1170\n",
       "88     1031\n",
       "90      817\n",
       "89      770\n",
       "91      538\n",
       "98      511\n",
       "97      483\n",
       "93      419\n",
       "92      393\n",
       "94      340\n",
       "95      284\n",
       "96      188\n",
       "99        1\n",
       "Name: eda, Length: 88, dtype: int64"
      ]
     },
     "execution_count": 28,
     "metadata": {},
     "output_type": "execute_result"
    }
   ],
   "source": [
    "df_copy_20151['eda'] = df_copy_20151['eda'].astype('int64')\n",
    "df_copy_20151.eda.value_counts()"
   ]
  },
  {
   "cell_type": "markdown",
   "metadata": {},
   "source": [
    "## Renglón del Informante (n_inf)\n",
    "01-30, 97, 99 Número de renglón del informante"
   ]
  },
  {
   "cell_type": "code",
   "execution_count": 29,
   "metadata": {
    "scrolled": true
   },
   "outputs": [
    {
     "data": {
      "text/plain": [
       "2     464753\n",
       "1     383031\n",
       "3     101097\n",
       "4      52854\n",
       "5      23769\n",
       "6      11096\n",
       "7       5442\n",
       "8       2689\n",
       "9       1443\n",
       "10       717\n",
       "99       531\n",
       "11       363\n",
       "97       278\n",
       "12       259\n",
       "13        99\n",
       "14        76\n",
       "19        23\n",
       "15        20\n",
       "16        13\n",
       "17        11\n",
       "18        10\n",
       "25         1\n",
       "Name: n_inf, dtype: int64"
      ]
     },
     "execution_count": 29,
     "metadata": {},
     "output_type": "execute_result"
    }
   ],
   "source": [
    "df_copy_20151['n_inf'] = df_copy_20151['n_inf'].astype('int64')\n",
    "df_copy_20151.n_inf.value_counts()"
   ]
  },
  {
   "cell_type": "markdown",
   "metadata": {},
   "source": [
    "## Pregunta 1: Ahora le voy a preguntar por la situación laboral de …¿La semana pasada trabajó por lo menos una hora? (P1)\n",
    "1 Sí 2 No"
   ]
  },
  {
   "cell_type": "code",
   "execution_count": 30,
   "metadata": {},
   "outputs": [
    {
     "data": {
      "text/plain": [
       "1     549985\n",
       "2     498589\n",
       "99         1\n",
       "Name: p1, dtype: int64"
      ]
     },
     "execution_count": 30,
     "metadata": {},
     "output_type": "execute_result"
    }
   ],
   "source": [
    "df_copy_20151['p1'] = df_copy_20151['p1'].astype('int64')\n",
    "df_copy_20151.p1.value_counts()"
   ]
  },
  {
   "cell_type": "markdown",
   "metadata": {},
   "source": [
    "## Opción 1: realizó una actividad que le proporcionó ingresos? (P1A1)\n",
    "1 Sí realizó una actividad que le proporcionó ingresos? \n",
    "9 No aplica"
   ]
  },
  {
   "cell_type": "code",
   "execution_count": 31,
   "metadata": {},
   "outputs": [],
   "source": [
    " df_copy_20151['p1a1'].replace(to_replace=[' ', '99'],value='99',inplace=True)"
   ]
  },
  {
   "cell_type": "code",
   "execution_count": 32,
   "metadata": {},
   "outputs": [
    {
     "data": {
      "text/plain": [
       "99    1044289\n",
       "1        4286\n",
       "Name: p1a1, dtype: int64"
      ]
     },
     "execution_count": 32,
     "metadata": {},
     "output_type": "execute_result"
    }
   ],
   "source": [
    "df_copy_20151['p1a1'] = df_copy_20151['p1a1'].astype('int64')\n",
    "df_copy_20151.p1a1.value_counts()"
   ]
  },
  {
   "cell_type": "markdown",
   "metadata": {},
   "source": [
    "## Opción 2: ayudar en las tierras o en el negocio de un familiar o de otra persona? (p1a2)\n",
    "\n",
    "2 Sí ayudó en las tierras o en el negocio de un familiar o de otra persona?\n",
    "99  No aplica"
   ]
  },
  {
   "cell_type": "code",
   "execution_count": 33,
   "metadata": {},
   "outputs": [],
   "source": [
    "df_copy_20151['p1a2'].replace(to_replace=[' ', '99'],value='99',inplace=True)"
   ]
  },
  {
   "cell_type": "code",
   "execution_count": 34,
   "metadata": {},
   "outputs": [
    {
     "data": {
      "text/plain": [
       "99    1043504\n",
       "2        5071\n",
       "Name: p1a2, dtype: int64"
      ]
     },
     "execution_count": 34,
     "metadata": {},
     "output_type": "execute_result"
    }
   ],
   "source": [
    "df_copy_20151['p1a2'] = df_copy_20151['p1a2'].astype('int64')\n",
    "df_copy_20151.p1a2.value_counts()"
   ]
  },
  {
   "cell_type": "markdown",
   "metadata": {},
   "source": [
    "## Opción 3: no trabajó la semana pasada (p1a3)\n",
    "3 No trabajó la semana pasada  \n",
    "99 No aplica"
   ]
  },
  {
   "cell_type": "code",
   "execution_count": 35,
   "metadata": {},
   "outputs": [],
   "source": [
    "df_copy_20151['p1a3'].replace(to_replace=[' ', '99'],value='99',inplace=True)"
   ]
  },
  {
   "cell_type": "code",
   "execution_count": 36,
   "metadata": {},
   "outputs": [
    {
     "data": {
      "text/plain": [
       "99    559341\n",
       "3     489234\n",
       "Name: p1a3, dtype: int64"
      ]
     },
     "execution_count": 36,
     "metadata": {},
     "output_type": "execute_result"
    }
   ],
   "source": [
    "df_copy_20151['p1a3'] = df_copy_20151['p1a3'].astype('int64')\n",
    "df_copy_20151.p1a3.value_counts()"
   ]
  },
  {
   "cell_type": "markdown",
   "metadata": {},
   "source": [
    "##  Pregunta 1b: Aunque ya me dijo que ... no trabajó la semana pasada, ¿tiene algún empleo negocio o realiza alguna actividad por  su cuenta? (p1b)\n",
    " 1 Si\n",
    " 2 No \n",
    " 99 No se sabe "
   ]
  },
  {
   "cell_type": "code",
   "execution_count": 37,
   "metadata": {},
   "outputs": [],
   "source": [
    "df_copy_20151['p1b'].replace(to_replace=[' ', '99'],value='99',inplace=True)"
   ]
  },
  {
   "cell_type": "code",
   "execution_count": 38,
   "metadata": {},
   "outputs": [
    {
     "data": {
      "text/plain": [
       "99    559341\n",
       "2     457263\n",
       "1      31971\n",
       "Name: p1b, dtype: int64"
      ]
     },
     "execution_count": 38,
     "metadata": {},
     "output_type": "execute_result"
    }
   ],
   "source": [
    "df_copy_20151['p1b'] = df_copy_20151['p1b'].astype('int64')\n",
    "df_copy_20151.p1b.value_counts()"
   ]
  },
  {
   "cell_type": "markdown",
   "metadata": {},
   "source": [
    "## Pregunta 1c: ¿Cuál Carácter es la razón principal por la que ... no trabajó la semana pasada? (p1c)\n",
    "01 Huelga o paro laboral 02 Paro técnico 03 Suspensión temporal de sus funciones (asalariado) 04 Asistencia a cursos de capacitación 05 Vacaciones 06 Permiso, enfermedad o arreglo de asuntos personales 07 Falta de vehículo o descompostura de maquinaria 08 Falta de materias primas,financiamiento o clientes 09 Mal tiempo o fenómeno natural 10 Término de temporada de trabajo o cultivo 11 Comenzará un trabajo o negocio nuevo 12 Otra razón 99 No sabe"
   ]
  },
  {
   "cell_type": "code",
   "execution_count": 39,
   "metadata": {},
   "outputs": [
    {
     "data": {
      "text/plain": [
       "99    1016657\n",
       "5        9109\n",
       "6        8706\n",
       "8        8128\n",
       "10       2495\n",
       "12       1286\n",
       "9         708\n",
       "11        592\n",
       "7         350\n",
       "1         218\n",
       "3         189\n",
       "4          89\n",
       "2          48\n",
       "Name: p1c, dtype: int64"
      ]
     },
     "execution_count": 39,
     "metadata": {},
     "output_type": "execute_result"
    }
   ],
   "source": [
    "df_copy_20151['p1c'] = df_copy_20151['p1c'].astype('int64')\n",
    "df_copy_20151.p1c.value_counts()"
   ]
  },
  {
   "cell_type": "markdown",
   "metadata": {},
   "source": [
    "## Pregunta 1d: Durante esre periodo de ausencia ¿... recibe sueldo o ganancias? (p1d)\n",
    "\n",
    "1 Sí\n",
    "2 No\n",
    "99 No sabe"
   ]
  },
  {
   "cell_type": "code",
   "execution_count": 40,
   "metadata": {},
   "outputs": [],
   "source": [
    "df_copy_20151['p1d'].replace(to_replace=[' ', '99'],value='99',inplace=True)"
   ]
  },
  {
   "cell_type": "code",
   "execution_count": 41,
   "metadata": {},
   "outputs": [
    {
     "data": {
      "text/plain": [
       "99    1017740\n",
       "2       21046\n",
       "1        9704\n",
       "9          85\n",
       "Name: p1d, dtype: int64"
      ]
     },
     "execution_count": 41,
     "metadata": {},
     "output_type": "execute_result"
    }
   ],
   "source": [
    "df_copy_20151['p1d'] = df_copy_20151['p1d'].astype('int64')\n",
    "df_copy_20151.p1d.value_counts()"
   ]
  },
  {
   "cell_type": "code",
   "execution_count": 42,
   "metadata": {},
   "outputs": [],
   "source": [
    "df_copy_20151['p1d'].replace(to_replace=['9', '99'],value='99',inplace=True)"
   ]
  },
  {
   "cell_type": "markdown",
   "metadata": {},
   "source": [
    "## Pregunta 1e: ¿En ¿cuánto tiempo regresará... a este semana ? mismi trabajo?(p1e)\n",
    "\n",
    "1 Ya se reincorporó o regresara a trabajar esta \n",
    "2 En cuantro semanas o menos\n",
    "3 En más de cuatro  semanas\n",
    "4 No hay seguridad de que regrese a trabajar  o cuándo reinicie su actividad?\n",
    "5 No regresará\n",
    "99 No sabe\n"
   ]
  },
  {
   "cell_type": "code",
   "execution_count": 43,
   "metadata": {},
   "outputs": [],
   "source": [
    "df_copy_20151['p1e'].replace(to_replace=[' ', '99'],value='99',inplace=True)"
   ]
  },
  {
   "cell_type": "code",
   "execution_count": 44,
   "metadata": {},
   "outputs": [
    {
     "data": {
      "text/plain": [
       "99    1027444\n",
       "2       10052\n",
       "1        5358\n",
       "3        2687\n",
       "4        2373\n",
       "9         624\n",
       "5          37\n",
       "Name: p1e, dtype: int64"
      ]
     },
     "execution_count": 44,
     "metadata": {},
     "output_type": "execute_result"
    }
   ],
   "source": [
    "df_copy_20151['p1e'] = df_copy_20151['p1e'].astype('int64')\n",
    "df_copy_20151.p1e.value_counts()"
   ]
  },
  {
   "cell_type": "code",
   "execution_count": 45,
   "metadata": {},
   "outputs": [],
   "source": [
    "df_copy_20151['p1e'].replace(to_replace=['9', '99'],value='99',inplace=True)"
   ]
  },
  {
   "cell_type": "markdown",
   "metadata": {},
   "source": [
    "## Opción 1: buscar trabajo en otro país o hacer preparativos para cruzar la frontera ? (p2_1)\n",
    "\n",
    "1 Sí buscó trabajo aquí en el país \n",
    "99 No sabe"
   ]
  },
  {
   "cell_type": "code",
   "execution_count": 46,
   "metadata": {},
   "outputs": [],
   "source": [
    "df_copy_20151['p2_1'].replace(to_replace=[' ', '99'],value='99',inplace=True)"
   ]
  },
  {
   "cell_type": "code",
   "execution_count": 47,
   "metadata": {},
   "outputs": [
    {
     "data": {
      "text/plain": [
       "99    1048307\n",
       "1         268\n",
       "Name: p2_1, dtype: int64"
      ]
     },
     "execution_count": 47,
     "metadata": {},
     "output_type": "execute_result"
    }
   ],
   "source": [
    "df_copy_20151['p2_1'] = df_copy_20151['p2_1'].astype('int64')\n",
    "df_copy_20151.p2_1.value_counts()"
   ]
  },
  {
   "cell_type": "markdown",
   "metadata": {},
   "source": [
    "## Opción 2: buscar trabajo aquí en el país (p2_2)\n",
    "\n",
    "2 Buscó trabajo aquí en el país\n",
    "99 No sabe"
   ]
  },
  {
   "cell_type": "code",
   "execution_count": 48,
   "metadata": {},
   "outputs": [],
   "source": [
    "df_copy_20151['p2_2'].replace(to_replace=[' ', '99'],value='99',inplace=True)"
   ]
  },
  {
   "cell_type": "code",
   "execution_count": 49,
   "metadata": {
    "scrolled": true
   },
   "outputs": [
    {
     "data": {
      "text/plain": [
       "99    1023442\n",
       "2       25133\n",
       "Name: p2_2, dtype: int64"
      ]
     },
     "execution_count": 49,
     "metadata": {},
     "output_type": "execute_result"
    }
   ],
   "source": [
    "df_copy_20151['p2_2'] = df_copy_20151['p2_2'].astype('int64')\n",
    "df_copy_20151.p2_2.value_counts()"
   ]
  },
  {
   "cell_type": "markdown",
   "metadata": {},
   "source": [
    "## Opción 3: poner un negocio o realizar una actividad por su cuenta sin poder todavía comenzar? (p2_3)\n",
    "\n",
    "3 Sí trato de poner un negocio o realizo una activida por su cuenta sin poder todavía comenzar?\n",
    "99 No sabe"
   ]
  },
  {
   "cell_type": "code",
   "execution_count": 50,
   "metadata": {},
   "outputs": [],
   "source": [
    "df_copy_20151['p2_3'].replace(to_replace=[' ', '99'],value='99',inplace=True)"
   ]
  },
  {
   "cell_type": "code",
   "execution_count": 51,
   "metadata": {},
   "outputs": [
    {
     "data": {
      "text/plain": [
       "99    1048155\n",
       "3         420\n",
       "Name: p2_3, dtype: int64"
      ]
     },
     "execution_count": 51,
     "metadata": {},
     "output_type": "execute_result"
    }
   ],
   "source": [
    "df_copy_20151['p2_3'] = df_copy_20151['p2_3'].astype('int64')\n",
    "df_copy_20151.p2_3.value_counts()"
   ]
  },
  {
   "cell_type": "markdown",
   "metadata": {},
   "source": [
    "## Opción 4: ¿no ha tratado de buscar tranajo ?(p2_4)\n",
    "4 Entonces, ¿no ha tratado de buscar trabajo? 99 No aplica"
   ]
  },
  {
   "cell_type": "code",
   "execution_count": 52,
   "metadata": {},
   "outputs": [],
   "source": [
    "df_copy_20151['p2_4'].replace(to_replace=[' ', '99'],value='99',inplace=True)"
   ]
  },
  {
   "cell_type": "code",
   "execution_count": 53,
   "metadata": {},
   "outputs": [
    {
     "data": {
      "text/plain": [
       "99    600760\n",
       "4     447815\n",
       "Name: p2_4, dtype: int64"
      ]
     },
     "execution_count": 53,
     "metadata": {},
     "output_type": "execute_result"
    }
   ],
   "source": [
    "df_copy_20151['p2_4'] = df_copy_20151['p2_4'].astype('int64')\n",
    "df_copy_20151.p2_4.value_counts()"
   ]
  },
  {
   "cell_type": "markdown",
   "metadata": {},
   "source": [
    "## Opción 9: No sabe (p2_9)\n",
    "9 No sabe 99 aplica"
   ]
  },
  {
   "cell_type": "code",
   "execution_count": 54,
   "metadata": {},
   "outputs": [],
   "source": [
    "df_copy_20151['p2_9'].replace(to_replace=[' ', '99'],value='99',inplace=True)"
   ]
  },
  {
   "cell_type": "code",
   "execution_count": 55,
   "metadata": {
    "scrolled": true
   },
   "outputs": [
    {
     "data": {
      "text/plain": [
       "99    1048525\n",
       "9          50\n",
       "Name: p2_9, dtype: int64"
      ]
     },
     "execution_count": 55,
     "metadata": {},
     "output_type": "execute_result"
    }
   ],
   "source": [
    "df_copy_20151['p2_9'] = df_copy_20151['p2_9'].astype('int64')\n",
    "df_copy_20151.p2_9.value_counts()"
   ]
  },
  {
   "cell_type": "markdown",
   "metadata": {},
   "source": [
    "# Pregunta 2A: ¿En qué fecha comenzó … a buscar trabajo (o comenzó con los preparativos para poner el negocio)?"
   ]
  },
  {
   "cell_type": "markdown",
   "metadata": {},
   "source": [
    "## Día en que comenzó (p2a_dia) \n",
    "1 -31 Día en qué comenzó \n",
    "9 No se sabe\n"
   ]
  },
  {
   "cell_type": "code",
   "execution_count": 56,
   "metadata": {},
   "outputs": [],
   "source": [
    "df_copy_20151['p2a_dia'].replace(to_replace=['0', '99'],value='99',inplace=True)"
   ]
  },
  {
   "cell_type": "code",
   "execution_count": 57,
   "metadata": {},
   "outputs": [
    {
     "data": {
      "text/plain": [
       "99    1016657\n",
       "5        9109\n",
       "6        8706\n",
       "8        8128\n",
       "10       2495\n",
       "12       1286\n",
       "9         708\n",
       "11        592\n",
       "7         350\n",
       "1         218\n",
       "3         189\n",
       "4          89\n",
       "2          48\n",
       "Name: p1c, dtype: int64"
      ]
     },
     "execution_count": 57,
     "metadata": {},
     "output_type": "execute_result"
    }
   ],
   "source": [
    "df_copy_20151['p2a_dia'] = df_copy_20151['p2a_dia'].astype('int64')\n",
    "df_copy_20151.p1c.value_counts()"
   ]
  },
  {
   "cell_type": "markdown",
   "metadata": {},
   "source": [
    "## Sema en que comenzó (p2a_sem)\n",
    "1-4 Semana qué comenzo 99 No sabe"
   ]
  },
  {
   "cell_type": "code",
   "execution_count": 58,
   "metadata": {},
   "outputs": [],
   "source": [
    "df_copy_20151['p2a_sem'].replace(to_replace=[' ', '99'],value='99',inplace=True)"
   ]
  },
  {
   "cell_type": "code",
   "execution_count": 59,
   "metadata": {},
   "outputs": [
    {
     "data": {
      "text/plain": [
       "99    1037774\n",
       "1        4499\n",
       "2        2281\n",
       "4        1550\n",
       "9        1509\n",
       "3         962\n",
       "Name: p2a_sem, dtype: int64"
      ]
     },
     "execution_count": 59,
     "metadata": {},
     "output_type": "execute_result"
    }
   ],
   "source": [
    "df_copy_20151['p2a_sem'] = df_copy_20151['p2a_sem'].astype('int64')\n",
    "df_copy_20151.p2a_sem.value_counts()"
   ]
  },
  {
   "cell_type": "markdown",
   "metadata": {},
   "source": [
    "## Mes en que comenzó (p2a_mes) \n",
    "1 Comenzó en enero\n",
    "2 Comenzó en febrero\n",
    "03 Comenzó en marzo\n",
    "04 Comenzó en abril\n",
    "05 Comenzó en mayo\n",
    "06 Comenzó en junio\n",
    "07 Comenzó en julio\n",
    "08 Comenzó en agosto\n",
    "09 Comenzó en septiembre\n",
    "10 Comenzó en octubre\n",
    "11 Comenzó en noviembre\n",
    "12 Comenzó en diciembre\n",
    "99 No sabe"
   ]
  },
  {
   "cell_type": "code",
   "execution_count": 60,
   "metadata": {},
   "outputs": [],
   "source": [
    "df_copy_20151['p2a_mes'].replace(to_replace=['0', '99'],value='99',inplace=True)"
   ]
  },
  {
   "cell_type": "code",
   "execution_count": 61,
   "metadata": {},
   "outputs": [
    {
     "data": {
      "text/plain": [
       "99    1022894\n",
       "1        3919\n",
       "6        2493\n",
       "5        2454\n",
       "8        2342\n",
       "7        2324\n",
       "2        2296\n",
       "3        2166\n",
       "4        2165\n",
       "9        1577\n",
       "12       1432\n",
       "11       1283\n",
       "10       1230\n",
       "Name: p2a_mes, dtype: int64"
      ]
     },
     "execution_count": 61,
     "metadata": {},
     "output_type": "execute_result"
    }
   ],
   "source": [
    "df_copy_20151['p2a_mes'] = df_copy_20151['p2a_mes'].astype('int64')\n",
    "df_copy_20151.p2a_mes.value_counts()"
   ]
  },
  {
   "cell_type": "markdown",
   "metadata": {},
   "source": [
    "## Año en que comenzó (p2a_anio)\n",
    "1950- año actual 9999 No sabe"
   ]
  },
  {
   "cell_type": "code",
   "execution_count": 62,
   "metadata": {},
   "outputs": [],
   "source": [
    "df_copy_20151['p2a_anio'].replace(to_replace=['0', '99'],value='99',inplace=True)"
   ]
  },
  {
   "cell_type": "code",
   "execution_count": 63,
   "metadata": {},
   "outputs": [
    {
     "data": {
      "text/plain": [
       "99      1022812\n",
       "2016      22145\n",
       "2015       3358\n",
       "2014        108\n",
       "2010         37\n",
       "2013         35\n",
       "2012         23\n",
       "2011         20\n",
       "2006         12\n",
       "9999          9\n",
       "2009          7\n",
       "2008          2\n",
       "2005          2\n",
       "2004          2\n",
       "2001          2\n",
       "2017          1\n",
       "Name: p2a_anio, dtype: int64"
      ]
     },
     "execution_count": 63,
     "metadata": {},
     "output_type": "execute_result"
    }
   ],
   "source": [
    "df_copy_20151['p2a_anio'] = df_copy_20151['p2a_anio'].astype('int64')\n",
    "df_copy_20151.p2a_anio.value_counts()"
   ]
  },
  {
   "cell_type": "markdown",
   "metadata": {},
   "source": [
    "# Pregunta 2B: ¿En qué fecha fue la última vez que … buscó trabajo (o terminó con los preparativos para poner el negocio)?"
   ]
  },
  {
   "cell_type": "markdown",
   "metadata": {},
   "source": [
    "# Día en que terminó (p2b_dia)\n",
    "1-31 Día en que terminoo 99 No sabe"
   ]
  },
  {
   "cell_type": "code",
   "execution_count": 64,
   "metadata": {
    "scrolled": true
   },
   "outputs": [
    {
     "data": {
      "text/plain": [
       "99    1027964\n",
       "15       1311\n",
       "20       1003\n",
       "18        875\n",
       "10        819\n",
       "8         797\n",
       "22        796\n",
       "5         791\n",
       "25        750\n",
       "4         744\n",
       "1         739\n",
       "30        733\n",
       "12        722\n",
       "28        667\n",
       "2         665\n",
       "11        664\n",
       "29        643\n",
       "26        641\n",
       "6         634\n",
       "7         628\n",
       "9         621\n",
       "16        606\n",
       "19        604\n",
       "14        591\n",
       "13        523\n",
       "3         514\n",
       "23        498\n",
       "27        495\n",
       "21        469\n",
       "17        409\n",
       "24        397\n",
       "31        262\n",
       "Name: p2b_dia, dtype: int64"
      ]
     },
     "execution_count": 64,
     "metadata": {},
     "output_type": "execute_result"
    }
   ],
   "source": [
    "df_copy_20151['p2b_dia'] = df_copy_20151['p2b_dia'].astype('int64')\n",
    "df_copy_20151.p2b_dia.value_counts()"
   ]
  },
  {
   "cell_type": "markdown",
   "metadata": {},
   "source": [
    "## Semana en que terminó (p2b_sem)\n",
    "1-4 Semana en que termino 99 nose sabe"
   ]
  },
  {
   "cell_type": "code",
   "execution_count": 65,
   "metadata": {},
   "outputs": [],
   "source": [
    "df_copy_20151['p2b_sem'].replace(to_replace=[' ', '99'],value='99',inplace=True)"
   ]
  },
  {
   "cell_type": "code",
   "execution_count": 66,
   "metadata": {},
   "outputs": [
    {
     "data": {
      "text/plain": [
       "99    1043423\n",
       "1        1589\n",
       "4        1212\n",
       "2        1205\n",
       "3         654\n",
       "9         492\n",
       "Name: p2b_sem, dtype: int64"
      ]
     },
     "execution_count": 66,
     "metadata": {},
     "output_type": "execute_result"
    }
   ],
   "source": [
    "df_copy_20151['p2b_sem'] = df_copy_20151['p2b_sem'].astype('int64')\n",
    "df_copy_20151.p2b_sem.value_counts()"
   ]
  },
  {
   "cell_type": "markdown",
   "metadata": {},
   "source": [
    "##  Mes en que terminó(p2b_mes)  \n",
    "01 Terminó en enero\n",
    "02 Terminó en febrero\n",
    "03 Terminó en marzo\n",
    "04 Terminó en abril\n",
    "05 Terminó en mayo\n",
    "06 Terminó en junio\n",
    "07 Terminó en julio\n",
    "08 Terminó en agosto\n",
    "09 Terminó en septiembre\n",
    "10 Terminó en octubre\n",
    "11 Terminó en noviembre\n",
    "12 Terminó en diciembre\n",
    "99 No sabe"
   ]
  },
  {
   "cell_type": "code",
   "execution_count": 67,
   "metadata": {},
   "outputs": [
    {
     "data": {
      "text/plain": [
       "99    1022824\n",
       "8        2681\n",
       "2        2554\n",
       "5        2539\n",
       "1        2512\n",
       "6        2507\n",
       "4        2437\n",
       "7        2425\n",
       "3        2409\n",
       "9        2207\n",
       "10       1204\n",
       "12       1197\n",
       "11       1079\n",
       "Name: p2b_mes, dtype: int64"
      ]
     },
     "execution_count": 67,
     "metadata": {},
     "output_type": "execute_result"
    }
   ],
   "source": [
    "df_copy_20151['p2b_mes'] = df_copy_20151['p2b_mes'].astype('int64')\n",
    "df_copy_20151.p2b_mes.value_counts()"
   ]
  },
  {
   "cell_type": "markdown",
   "metadata": {},
   "source": [
    "## Año en que terminó (p2b_anio)\n",
    "\n",
    "1950-año actual Año en que terminó\n",
    "9999 No sabe"
   ]
  },
  {
   "cell_type": "code",
   "execution_count": 68,
   "metadata": {},
   "outputs": [],
   "source": [
    "df_copy_20151['p2b_anio'].replace(to_replace=['0', '99'],value='99',inplace=True)"
   ]
  },
  {
   "cell_type": "code",
   "execution_count": 69,
   "metadata": {},
   "outputs": [
    {
     "data": {
      "text/plain": [
       "99      1022812\n",
       "2016      25053\n",
       "2015        690\n",
       "2014          8\n",
       "9999          6\n",
       "2013          2\n",
       "2012          2\n",
       "2017          1\n",
       "2010          1\n",
       "Name: p2b_anio, dtype: int64"
      ]
     },
     "execution_count": 69,
     "metadata": {},
     "output_type": "execute_result"
    }
   ],
   "source": [
    "df_copy_20151['p2b_anio'] = df_copy_20151['p2b_anio'].astype('int64')\n",
    "df_copy_20151.p2b_anio.value_counts()"
   ]
  },
  {
   "cell_type": "markdown",
   "metadata": {},
   "source": [
    "## ¿En qué fecha fue la última vez que... buscó trabajo (o terminó conlos preparativos para poner el negocio)? (p2b)\n",
    " \n",
    "1 Hasta 1 mes\n",
    "2 Más de  1 hasta 2 meses\n",
    "3 Mas de 2 has 3 meses\n",
    "4 Más de 3 meses\n",
    "99 No sabe"
   ]
  },
  {
   "cell_type": "code",
   "execution_count": 70,
   "metadata": {},
   "outputs": [],
   "source": [
    "df_copy_20151['p2b'].replace(to_replace=[' ', '99'],value='99',inplace=True)"
   ]
  },
  {
   "cell_type": "code",
   "execution_count": 71,
   "metadata": {},
   "outputs": [
    {
     "data": {
      "text/plain": [
       "99    1022812\n",
       "1       24023\n",
       "2        1103\n",
       "4         326\n",
       "3         302\n",
       "9           9\n",
       "Name: p2b, dtype: int64"
      ]
     },
     "execution_count": 71,
     "metadata": {},
     "output_type": "execute_result"
    }
   ],
   "source": [
    "df_copy_20151['p2b'] = df_copy_20151['p2b'].astype('int64')\n",
    "df_copy_20151.p2b.value_counts()"
   ]
  },
  {
   "cell_type": "markdown",
   "metadata": {},
   "source": [
    "##  ¿... estaba dispuesto a trabajar la semana pasada?(p2c)\n",
    "1 Si\n",
    "2 No\n",
    "99 No sabe"
   ]
  },
  {
   "cell_type": "code",
   "execution_count": 72,
   "metadata": {},
   "outputs": [],
   "source": [
    "df_copy_20151['p2c'].replace(to_replace=[' ', '99'],value='99',inplace=True)"
   ]
  },
  {
   "cell_type": "code",
   "execution_count": 73,
   "metadata": {},
   "outputs": [],
   "source": [
    "df_copy_20151['p2c'].replace(to_replace=['9', '99'],value='99',inplace=True)"
   ]
  },
  {
   "cell_type": "code",
   "execution_count": 74,
   "metadata": {},
   "outputs": [
    {
     "data": {
      "text/plain": [
       "99    1023162\n",
       "1       25116\n",
       "2         297\n",
       "Name: p2c, dtype: int64"
      ]
     },
     "execution_count": 74,
     "metadata": {},
     "output_type": "execute_result"
    }
   ],
   "source": [
    "df_copy_20151['p2c'] = df_copy_20151['p2c'].astype('int64')\n",
    "df_copy_20151.p2c.value_counts()"
   ]
  },
  {
   "cell_type": "markdown",
   "metadata": {},
   "source": [
    "# Pregunta 2D: ¿Adónde acudió o que hizo…para buscar empleo (o iniciar un negocio o actividad por su cuenta)?"
   ]
  },
  {
   "cell_type": "markdown",
   "metadata": {},
   "source": [
    "## Opción 1: acudió directamente al lugar de trabajo (p2d1)\n",
    "1 Si acudió directamente al lugar de trabajo\n",
    "99 No sabe "
   ]
  },
  {
   "cell_type": "code",
   "execution_count": 75,
   "metadata": {},
   "outputs": [],
   "source": [
    "df_copy_20151['p2d1'].replace(to_replace=['0', '99'],value='99',inplace=True)"
   ]
  },
  {
   "cell_type": "code",
   "execution_count": 76,
   "metadata": {},
   "outputs": [
    {
     "data": {
      "text/plain": [
       "99    1030456\n",
       "1       18119\n",
       "Name: p2d1, dtype: int64"
      ]
     },
     "execution_count": 76,
     "metadata": {},
     "output_type": "execute_result"
    }
   ],
   "source": [
    "df_copy_20151['p2d1'] = df_copy_20151['p2d1'].astype('int64')\n",
    "df_copy_20151.p2d1.value_counts()"
   ]
  },
  {
   "cell_type": "markdown",
   "metadata": {},
   "source": [
    "## Opción 2: hizo trámites en una agencia o bolsa de trabajo privada (p2d2)\n",
    "2 Si hizo trámites en una agencia o bolsa de trabajo privada\n",
    "99 No sabe"
   ]
  },
  {
   "cell_type": "code",
   "execution_count": 77,
   "metadata": {},
   "outputs": [],
   "source": [
    "df_copy_20151['p2d2'].replace(to_replace=['0', '99'],value='99',inplace=True)"
   ]
  },
  {
   "cell_type": "code",
   "execution_count": 78,
   "metadata": {},
   "outputs": [
    {
     "data": {
      "text/plain": [
       "99    1048314\n",
       "2         261\n",
       "Name: p2d2, dtype: int64"
      ]
     },
     "execution_count": 78,
     "metadata": {},
     "output_type": "execute_result"
    }
   ],
   "source": [
    "df_copy_20151['p2d2'] = df_copy_20151['p2d2'].astype('int64')\n",
    "df_copy_20151.p2d2.value_counts()"
   ]
  },
  {
   "cell_type": "markdown",
   "metadata": {},
   "source": [
    "## Opción 3: hizo trámites en un servicio público de colocación (p2d3)\n",
    "3 Sí hizo trámites en un servicio público de colocación\n",
    "99 No se sabe"
   ]
  },
  {
   "cell_type": "code",
   "execution_count": 79,
   "metadata": {},
   "outputs": [],
   "source": [
    "df_copy_20151['p2d3'].replace(to_replace=['0', '99'],value='99',inplace=True)"
   ]
  },
  {
   "cell_type": "code",
   "execution_count": 80,
   "metadata": {},
   "outputs": [
    {
     "data": {
      "text/plain": [
       "99    1048159\n",
       "3         416\n",
       "Name: p2d3, dtype: int64"
      ]
     },
     "execution_count": 80,
     "metadata": {},
     "output_type": "execute_result"
    }
   ],
   "source": [
    "df_copy_20151['p2d3'] = df_copy_20151['p2d3'].astype('int64')\n",
    "df_copy_20151.p2d3.value_counts()"
   ]
  },
  {
   "cell_type": "markdown",
   "metadata": {},
   "source": [
    "## opción 4: hizo trámirtes en algún programa de empleo temporal del gobierno(p2d4)\n",
    "\n",
    "4 Sí hizo trámites en algún programa de empleo temporal del gobierno\n",
    "99 No se sabe"
   ]
  },
  {
   "cell_type": "code",
   "execution_count": 81,
   "metadata": {},
   "outputs": [],
   "source": [
    "df_copy_20151['p2d4'].replace(to_replace=['0', '99'],value='99',inplace=True)"
   ]
  },
  {
   "cell_type": "code",
   "execution_count": 82,
   "metadata": {},
   "outputs": [
    {
     "data": {
      "text/plain": [
       "99    1048300\n",
       "4         275\n",
       "Name: p2d4, dtype: int64"
      ]
     },
     "execution_count": 82,
     "metadata": {},
     "output_type": "execute_result"
    }
   ],
   "source": [
    "df_copy_20151['p2d4'] = df_copy_20151['p2d4'].astype('int64')\n",
    "df_copy_20151.p2d4.value_counts()"
   ]
  },
  {
   "cell_type": "markdown",
   "metadata": {},
   "source": [
    "## Opción 5: hizo trámites o realizo alguna actividad para iniciar un negocio por su cuenta (p2d5)\n",
    "5 Si hizo trámites o realizó alguna actividad para iniciar un negocio por su cuenta \n",
    "99 No sabe"
   ]
  },
  {
   "cell_type": "code",
   "execution_count": 83,
   "metadata": {},
   "outputs": [],
   "source": [
    "df_copy_20151['p2d5'].replace(to_replace=['0', '99'],value='99',inplace=True)"
   ]
  },
  {
   "cell_type": "code",
   "execution_count": 84,
   "metadata": {},
   "outputs": [
    {
     "data": {
      "text/plain": [
       "99    1048289\n",
       "5         286\n",
       "Name: p2d5, dtype: int64"
      ]
     },
     "execution_count": 84,
     "metadata": {},
     "output_type": "execute_result"
    }
   ],
   "source": [
    "df_copy_20151['p2d5'] = df_copy_20151['p2d5'].astype('int64')\n",
    "df_copy_20151.p2d5.value_counts()\n"
   ]
  },
  {
   "cell_type": "markdown",
   "metadata": {},
   "source": [
    "## Opción 6: puso o contestó un anuncio en internet  (p2d6)\n",
    "\n",
    "6 Si puso o contestó un anuncio en internet \n",
    "99 No sabe"
   ]
  },
  {
   "cell_type": "code",
   "execution_count": 85,
   "metadata": {},
   "outputs": [],
   "source": [
    "df_copy_20151['p2d6'].replace(to_replace=['0', '99'],value='99',inplace=True)"
   ]
  },
  {
   "cell_type": "code",
   "execution_count": 86,
   "metadata": {},
   "outputs": [
    {
     "data": {
      "text/plain": [
       "99    1044520\n",
       "6        4055\n",
       "Name: p2d6, dtype: int64"
      ]
     },
     "execution_count": 86,
     "metadata": {},
     "output_type": "execute_result"
    }
   ],
   "source": [
    "df_copy_20151['p2d6'] = df_copy_20151['p2d6'].astype('int64')\n",
    "df_copy_20151.p2d6.value_counts()"
   ]
  },
  {
   "cell_type": "markdown",
   "metadata": {},
   "source": [
    "## Opción 7: puso o contestó un anuncio en algún lugar público o en medios de comunicación (periodico,radio)  (p2d7)\n",
    "7 Sí puso o contestó un anuncio en algún lugar público o en medios de comunicación (periódo, radio)\n",
    "99 No sabe"
   ]
  },
  {
   "cell_type": "code",
   "execution_count": 87,
   "metadata": {},
   "outputs": [],
   "source": [
    "df_copy_20151['p2d7'].replace(to_replace=['0', '99'],value='99',inplace=True)"
   ]
  },
  {
   "cell_type": "code",
   "execution_count": 88,
   "metadata": {},
   "outputs": [
    {
     "data": {
      "text/plain": [
       "99    1046809\n",
       "7        1766\n",
       "Name: p2d7, dtype: int64"
      ]
     },
     "execution_count": 88,
     "metadata": {},
     "output_type": "execute_result"
    }
   ],
   "source": [
    "df_copy_20151['p2d7'] = df_copy_20151['p2d7'].astype('int64')\n",
    "df_copy_20151.p2d7.value_counts()"
   ]
  },
  {
   "cell_type": "markdown",
   "metadata": {},
   "source": [
    "## Opción 8: acudió a un sindicato o gremio (p2d8)\n",
    "8 Si acudió a un sindicato o gremio \n",
    "99 No sabe"
   ]
  },
  {
   "cell_type": "code",
   "execution_count": 89,
   "metadata": {},
   "outputs": [],
   "source": [
    "df_copy_20151['p2d8'].replace(to_replace=['0', '99'],value='99',inplace=True)"
   ]
  },
  {
   "cell_type": "code",
   "execution_count": 90,
   "metadata": {},
   "outputs": [
    {
     "data": {
      "text/plain": [
       "99    1048398\n",
       "8         177\n",
       "Name: p2d8, dtype: int64"
      ]
     },
     "execution_count": 90,
     "metadata": {},
     "output_type": "execute_result"
    }
   ],
   "source": [
    "df_copy_20151['p2d8'] = df_copy_20151['p2d8'].astype('int64')\n",
    "df_copy_20151.p2d8.value_counts()"
   ]
  },
  {
   "cell_type": "markdown",
   "metadata": {},
   "source": [
    "## Opción 9: pidió a conocidfos que lo recomendaran o le avisaran o le avisaran de algun trabajo (p2d9)\n",
    "\n",
    "9 Sí pidio a conocidos o familiares que lo recomendaran o le avisaran de algún trabajo \n",
    "99 No sabe"
   ]
  },
  {
   "cell_type": "code",
   "execution_count": 91,
   "metadata": {},
   "outputs": [],
   "source": [
    "df_copy_20151['p2d9'].replace(to_replace=['0', '99'],value='99',inplace=True)"
   ]
  },
  {
   "cell_type": "code",
   "execution_count": 92,
   "metadata": {},
   "outputs": [
    {
     "data": {
      "text/plain": [
       "99    1045025\n",
       "9        3550\n",
       "Name: p2d9, dtype: int64"
      ]
     },
     "execution_count": 92,
     "metadata": {},
     "output_type": "execute_result"
    }
   ],
   "source": [
    "df_copy_20151['p2d9'] = df_copy_20151['p2d9'].astype('int64')\n",
    "df_copy_20151.p2d9.value_counts()"
   ]
  },
  {
   "cell_type": "markdown",
   "metadata": {},
   "source": [
    "## Opción 10: solo consulto el anuncio clasificado (p2d10)\n",
    "10 Solo consultó el anuncio clasificado\n",
    "99 No sabe\n",
    "\n"
   ]
  },
  {
   "cell_type": "code",
   "execution_count": 93,
   "metadata": {},
   "outputs": [],
   "source": [
    "df_copy_20151['p2d10'].replace(to_replace=['0', '99'],value='99',inplace=True)"
   ]
  },
  {
   "cell_type": "code",
   "execution_count": 94,
   "metadata": {},
   "outputs": [
    {
     "data": {
      "text/plain": [
       "99    1047984\n",
       "10        591\n",
       "Name: p2d10, dtype: int64"
      ]
     },
     "execution_count": 94,
     "metadata": {},
     "output_type": "execute_result"
    }
   ],
   "source": [
    "df_copy_20151['p2d10'] = df_copy_20151['p2d10'].astype('int64')\n",
    "df_copy_20151.p2d10.value_counts()"
   ]
  },
  {
   "cell_type": "markdown",
   "metadata": {},
   "source": [
    "## Otra actividad (p2d11)\n",
    "11 Si realizo otra actividad\n",
    "99 No sabe"
   ]
  },
  {
   "cell_type": "code",
   "execution_count": 95,
   "metadata": {},
   "outputs": [],
   "source": [
    "df_copy_20151['p2d11'].replace(to_replace=['0', '99'],value='99',inplace=True)"
   ]
  },
  {
   "cell_type": "code",
   "execution_count": 96,
   "metadata": {},
   "outputs": [
    {
     "data": {
      "text/plain": [
       "99    1048471\n",
       "11        104\n",
       "Name: p2d11, dtype: int64"
      ]
     },
     "execution_count": 96,
     "metadata": {},
     "output_type": "execute_result"
    }
   ],
   "source": [
    "df_copy_20151['p2d11'] = df_copy_20151['p2d11'].astype('int64')\n",
    "df_copy_20151.p2d11.value_counts()"
   ]
  },
  {
   "cell_type": "markdown",
   "metadata": {},
   "source": [
    "## No sabe(p2d99)\n",
    "99 No sabe"
   ]
  },
  {
   "cell_type": "code",
   "execution_count": 97,
   "metadata": {},
   "outputs": [],
   "source": [
    "df_copy_20151['p2d99'].replace(to_replace=['9', '99'],value='99',inplace=True)"
   ]
  },
  {
   "cell_type": "code",
   "execution_count": 98,
   "metadata": {},
   "outputs": [],
   "source": [
    "df_copy_20151['p2d99'].replace(to_replace=['0', '99'],value='99',inplace=True)"
   ]
  },
  {
   "cell_type": "code",
   "execution_count": 99,
   "metadata": {},
   "outputs": [
    {
     "data": {
      "text/plain": [
       "99    1048575\n",
       "Name: p2d99, dtype: int64"
      ]
     },
     "execution_count": 99,
     "metadata": {},
     "output_type": "execute_result"
    }
   ],
   "source": [
    "df_copy_20151['p2d99'] = df_copy_20151['p2d99'].astype('int64')\n",
    "df_copy_20151.p2d99.value_counts()"
   ]
  },
  {
   "cell_type": "markdown",
   "metadata": {
    "collapsed": true
   },
   "source": [
    "## Pregunta 2e: ¿..es (p2e)\n",
    "\n",
    "1 Una persona temporalmente ausente de su actividad u oficio\n",
    "2 pensionado o jubilado de su empleo?\n",
    "3 estudiante?\n",
    "4 una persona que se dedica a los quehaceres de su hogar?\n",
    "5 una persona con alguna  limitación física o mental  que le impide trabajar por  el resto de su vida?\n",
    "6 Otra condición\n",
    "99No sabe"
   ]
  },
  {
   "cell_type": "code",
   "execution_count": 100,
   "metadata": {},
   "outputs": [],
   "source": [
    "df_copy_20151['p2e'].replace(to_replace=[' ', '99'],value='99',inplace=True)"
   ]
  },
  {
   "cell_type": "code",
   "execution_count": 101,
   "metadata": {},
   "outputs": [],
   "source": [
    "df_copy_20151['p2e'].replace(to_replace=['9', '99'],value='99',inplace=True)"
   ]
  },
  {
   "cell_type": "code",
   "execution_count": 102,
   "metadata": {},
   "outputs": [
    {
     "data": {
      "text/plain": [
       "99    600085\n",
       "4     207042\n",
       "3     162634\n",
       "2      37428\n",
       "6      20967\n",
       "1      14826\n",
       "5       5593\n",
       "Name: p2e, dtype: int64"
      ]
     },
     "execution_count": 102,
     "metadata": {},
     "output_type": "execute_result"
    }
   ],
   "source": [
    "df_copy_20151['p2e'] = df_copy_20151['p2e'].astype('int64')\n",
    "df_copy_20151.p2e.value_counts()"
   ]
  },
  {
   "cell_type": "markdown",
   "metadata": {},
   "source": [
    "## Actualmente,¿... tiene necesidad de trabajar?(p2f)\n",
    "1 sí tiene necesidad de trabajar\n",
    "2 Solo tiene deseos de trabajar\n",
    "3 No tiene necesidad no deseos de trabajar\n",
    "99 No sabe"
   ]
  },
  {
   "cell_type": "code",
   "execution_count": 103,
   "metadata": {},
   "outputs": [],
   "source": [
    "df_copy_20151['p2f'].replace(to_replace=[' ', '99'],value='99',inplace=True)"
   ]
  },
  {
   "cell_type": "code",
   "execution_count": 104,
   "metadata": {},
   "outputs": [],
   "source": [
    "df_copy_20151['p2f'].replace(to_replace=['9', '99'],value='99',inplace=True)"
   ]
  },
  {
   "cell_type": "code",
   "execution_count": 105,
   "metadata": {},
   "outputs": [
    {
     "data": {
      "text/plain": [
       "99    620647\n",
       "3     340081\n",
       "1      75729\n",
       "2      12118\n",
       "Name: p2f, dtype: int64"
      ]
     },
     "execution_count": 105,
     "metadata": {},
     "output_type": "execute_result"
    }
   ],
   "source": [
    "df_copy_20151['p2f'] = df_copy_20151['p2f'].astype('int64')\n",
    "df_copy_20151.p2f.value_counts()"
   ]
  },
  {
   "cell_type": "markdown",
   "metadata": {},
   "source": [
    "## Hay alguna otra razon, además de ser(menciona lo que contstaron en p2e) por la que ... no este buscando trabajo (p2g1)\n",
    "\n",
    "1 Sí\n",
    "2 No\n",
    "99 No sabe"
   ]
  },
  {
   "cell_type": "code",
   "execution_count": 106,
   "metadata": {},
   "outputs": [],
   "source": [
    "df_copy_20151['p2g1'].replace(to_replace=[' ', '99'],value='99',inplace=True)"
   ]
  },
  {
   "cell_type": "code",
   "execution_count": 107,
   "metadata": {},
   "outputs": [],
   "source": [
    "df_copy_20151['p2g1'].replace(to_replace=['9', '99'],value='99',inplace=True)"
   ]
  },
  {
   "cell_type": "code",
   "execution_count": 108,
   "metadata": {},
   "outputs": [
    {
     "data": {
      "text/plain": [
       "99    960682\n",
       "2      51347\n",
       "1      36546\n",
       "Name: p2g1, dtype: int64"
      ]
     },
     "execution_count": 108,
     "metadata": {},
     "output_type": "execute_result"
    }
   ],
   "source": [
    "df_copy_20151['p2g1'] = df_copy_20151['p2g1'].astype('int64')\n",
    "df_copy_20151.p2g1.value_counts()"
   ]
  },
  {
   "cell_type": "markdown",
   "metadata": {},
   "source": [
    "## **  Opciones de respuesta cuando p2g1= 1 (p2g2)\n",
    " \n",
    "1 Está esperando la respuesta a una solicitud o está apaladrando con un patrón que lo llamará en fecha próxima\n",
    "2 No hay trabajo en su especialidad, oficio o profesión\n",
    "3 No cuenta con la escolaridad, los papeles o la experiencia necesaria para realizar un trabajo\n",
    "4 Piensa que por su edad o por su aspecto no lo aceptarían en un trabajo\n",
    "5 En su localidad no hay trabajo o sólo se realiza en ciertas temporadas del año\n",
    "6 La inseguridad pública o el exceso de trámites lo desalientan a iniciar una actividad\n",
    "7 Espera recuperarse de una enfermedad o accidente\n",
    "8 Está embarazada\n",
    "9 No tiene quién le cuide a sus hijos pequeños,ancianos o enfermos\n",
    "10 No lo(a) deja un familiar\n",
    "11 Otras razones de mercado\n",
    "12 Otras razones personales\n",
    "99 No sabe"
   ]
  },
  {
   "cell_type": "code",
   "execution_count": 109,
   "metadata": {},
   "outputs": [
    {
     "data": {
      "text/plain": [
       "99    1012029\n",
       "9       15576\n",
       "4        6427\n",
       "12       3825\n",
       "7        3488\n",
       "5        2726\n",
       "10       2232\n",
       "8         814\n",
       "3         752\n",
       "1         232\n",
       "11        202\n",
       "2         191\n",
       "6          81\n",
       "Name: p2g2, dtype: int64"
      ]
     },
     "execution_count": 109,
     "metadata": {},
     "output_type": "execute_result"
    }
   ],
   "source": [
    "df_copy_20151['p2g2'] = df_copy_20151['p2g2'].astype('int64')\n",
    "df_copy_20151.p2g2.value_counts()"
   ]
  },
  {
   "cell_type": "markdown",
   "metadata": {},
   "source": [
    "# Pregunta 2H: ¿…ha trabajado alguna vez en su vida"
   ]
  },
  {
   "cell_type": "markdown",
   "metadata": {},
   "source": [
    "## Opción 1: una pago o salario?(p2h1)\n",
    "1 por un pago o salario ?\n",
    "99 No sabe"
   ]
  },
  {
   "cell_type": "code",
   "execution_count": 110,
   "metadata": {},
   "outputs": [],
   "source": [
    "df_copy_20151['p2h1'].replace(to_replace=[' ', '99'],value='99',inplace=True)"
   ]
  },
  {
   "cell_type": "code",
   "execution_count": 111,
   "metadata": {
    "scrolled": true
   },
   "outputs": [
    {
     "data": {
      "text/plain": [
       "99    845298\n",
       "1     203277\n",
       "Name: p2h1, dtype: int64"
      ]
     },
     "execution_count": 111,
     "metadata": {},
     "output_type": "execute_result"
    }
   ],
   "source": [
    "df_copy_20151['p2h1'] = df_copy_20151['p2h1'].astype('int64')\n",
    "df_copy_20151.p2h1.value_counts()"
   ]
  },
  {
   "cell_type": "markdown",
   "metadata": {},
   "source": [
    "## Opción 2: por su cuenta? (p2h2)\n",
    "2 por su cuenta\n",
    "99 No sabe"
   ]
  },
  {
   "cell_type": "code",
   "execution_count": 112,
   "metadata": {},
   "outputs": [],
   "source": [
    "df_copy_20151['p2h2'].replace(to_replace=[' ', '99'],value='99',inplace=True)"
   ]
  },
  {
   "cell_type": "code",
   "execution_count": 113,
   "metadata": {},
   "outputs": [
    {
     "data": {
      "text/plain": [
       "99    1021036\n",
       "2       27539\n",
       "Name: p2h2, dtype: int64"
      ]
     },
     "execution_count": 113,
     "metadata": {},
     "output_type": "execute_result"
    }
   ],
   "source": [
    "df_copy_20151['p2h2'] = df_copy_20151['p2h2'].astype('int64')\n",
    "df_copy_20151.p2h2.value_counts()"
   ]
  },
  {
   "cell_type": "markdown",
   "metadata": {},
   "source": [
    "## Opción 3: ayudando en el negocio o actividad económica de alguna persona? (p2h3)\n",
    "3 ayudando en el negocio o actividad económica\n",
    "99 no sabe"
   ]
  },
  {
   "cell_type": "code",
   "execution_count": 114,
   "metadata": {},
   "outputs": [],
   "source": [
    "df_copy_20151['p2h3'].replace(to_replace=[' ', '99'],value='99',inplace=True)"
   ]
  },
  {
   "cell_type": "code",
   "execution_count": 115,
   "metadata": {
    "scrolled": true
   },
   "outputs": [
    {
     "data": {
      "text/plain": [
       "99    1040719\n",
       "3        7856\n",
       "Name: p2h3, dtype: int64"
      ]
     },
     "execution_count": 115,
     "metadata": {},
     "output_type": "execute_result"
    }
   ],
   "source": [
    "df_copy_20151['p2h3'] = df_copy_20151['p2h3'].astype('int64')\n",
    "df_copy_20151.p2h3.value_counts()"
   ]
  },
  {
   "cell_type": "markdown",
   "metadata": {},
   "source": [
    "## Opción 4: nunca ha trabajado (p2h4)\n",
    "\n",
    "4 Nunca ha trabajado \n",
    "99 No aplica\n"
   ]
  },
  {
   "cell_type": "code",
   "execution_count": 116,
   "metadata": {},
   "outputs": [],
   "source": [
    "df_copy_20151['p2h4'].replace(to_replace=[' ', '99'],value='99',inplace=True)"
   ]
  },
  {
   "cell_type": "code",
   "execution_count": 117,
   "metadata": {
    "scrolled": true
   },
   "outputs": [
    {
     "data": {
      "text/plain": [
       "99    815387\n",
       "4     233188\n",
       "Name: p2h4, dtype: int64"
      ]
     },
     "execution_count": 117,
     "metadata": {},
     "output_type": "execute_result"
    }
   ],
   "source": [
    "df_copy_20151['p2h4'] = df_copy_20151['p2h4'].astype('int64')\n",
    "df_copy_20151.p2h4.value_counts()"
   ]
  },
  {
   "cell_type": "markdown",
   "metadata": {},
   "source": [
    "## Opción 9: No sabe (p2h9)\n",
    "99 No sabe"
   ]
  },
  {
   "cell_type": "code",
   "execution_count": 118,
   "metadata": {},
   "outputs": [],
   "source": [
    "df_copy_20151['p2h9'].replace(to_replace=[' ', '99'],value='99',inplace=True)"
   ]
  },
  {
   "cell_type": "code",
   "execution_count": 119,
   "metadata": {},
   "outputs": [],
   "source": [
    "df_copy_20151['p2h9'].replace(to_replace=['9', '99'],value='99',inplace=True)"
   ]
  },
  {
   "cell_type": "code",
   "execution_count": 120,
   "metadata": {},
   "outputs": [
    {
     "data": {
      "text/plain": [
       "99    1048575\n",
       "Name: p2h9, dtype: int64"
      ]
     },
     "execution_count": 120,
     "metadata": {},
     "output_type": "execute_result"
    }
   ],
   "source": [
    "df_copy_20151['p2h9'] = df_copy_20151['p2h9'].astype('int64')\n",
    "df_copy_20151.p2h9.value_counts()"
   ]
  },
  {
   "cell_type": "markdown",
   "metadata": {},
   "source": [
    "## * Si... tiene más de un trabajo, hablemos del principal ¿Cuales son las tareas o funciones principales que.... desempeña en su trabajo?(p3)\n"
   ]
  },
  {
   "cell_type": "code",
   "execution_count": 121,
   "metadata": {
    "scrolled": true
   },
   "outputs": [
    {
     "data": {
      "text/plain": [
       "99      473629\n",
       "4211     34969\n",
       "4111     25192\n",
       "9611     20990\n",
       "7121     15407\n",
       "9221     14888\n",
       "9111     14398\n",
       "8342     13452\n",
       "6111     12622\n",
       "3115     11723\n",
       "9621     11295\n",
       "8341     10802\n",
       "5114      9105\n",
       "5313      9095\n",
       "9521      8958\n",
       "3111      8712\n",
       "7513      7857\n",
       "2332      7248\n",
       "9512      7159\n",
       "3121      6821\n",
       "5116      6487\n",
       "4224      5927\n",
       "9411      5884\n",
       "3132      5811\n",
       "2632      5740\n",
       "9231      5503\n",
       "2121      4960\n",
       "5111      4951\n",
       "2512      4722\n",
       "4221      4686\n",
       "         ...  \n",
       "8349        14\n",
       "1324        13\n",
       "2134        12\n",
       "4233        11\n",
       "2234        11\n",
       "1112        11\n",
       "1619        11\n",
       "8162        10\n",
       "5252        10\n",
       "2639         9\n",
       "6119         9\n",
       "1525         9\n",
       "1133         8\n",
       "9732         8\n",
       "2421         7\n",
       "2339         6\n",
       "6999         6\n",
       "2991         6\n",
       "2824         5\n",
       "2334         5\n",
       "2649         5\n",
       "2992         4\n",
       "1129         4\n",
       "5999         4\n",
       "2391         4\n",
       "6231         4\n",
       "1225         3\n",
       "2141         3\n",
       "6129         1\n",
       "9733         1\n",
       "Name: p3, Length: 467, dtype: int64"
      ]
     },
     "execution_count": 121,
     "metadata": {},
     "output_type": "execute_result"
    }
   ],
   "source": [
    "df_copy_20151['p3'] = df_copy_20151['p3'].astype('int64')\n",
    "df_copy_20151.p3.value_counts()"
   ]
  },
  {
   "cell_type": "markdown",
   "metadata": {},
   "source": [
    "## ¿En su trabajo... tiene un jefe(a) o superior? (p3a)\n",
    "1 Si\n",
    "2 No\n",
    "99 No sabe"
   ]
  },
  {
   "cell_type": "code",
   "execution_count": 122,
   "metadata": {},
   "outputs": [],
   "source": [
    "df_copy_20151['p3a'].replace(to_replace=[' ', '99'],value='99',inplace=True)"
   ]
  },
  {
   "cell_type": "code",
   "execution_count": 123,
   "metadata": {},
   "outputs": [
    {
     "data": {
      "text/plain": [
       "99    473629\n",
       "1     433917\n",
       "2     141029\n",
       "Name: p3a, dtype: int64"
      ]
     },
     "execution_count": 123,
     "metadata": {},
     "output_type": "execute_result"
    }
   ],
   "source": [
    "df_copy_20151['p3a'] = df_copy_20151['p3a'].astype('int64')\n",
    "df_copy_20151.p3a.value_counts()"
   ]
  },
  {
   "cell_type": "markdown",
   "metadata": {},
   "source": [
    "## Entonces, ¿... se dedica a un negocio o activida por su cuenta?(p3b)\n",
    "\n",
    "1 Sí\n",
    "2 No\n",
    "99 No sabe"
   ]
  },
  {
   "cell_type": "code",
   "execution_count": 124,
   "metadata": {},
   "outputs": [],
   "source": [
    "df_copy_20151['p3b'].replace(to_replace=[' ', '99'],value='99',inplace=True)"
   ]
  },
  {
   "cell_type": "code",
   "execution_count": 125,
   "metadata": {
    "scrolled": true
   },
   "outputs": [
    {
     "data": {
      "text/plain": [
       "99    907546\n",
       "1     139842\n",
       "2       1187\n",
       "Name: p3b, dtype: int64"
      ]
     },
     "execution_count": 125,
     "metadata": {},
     "output_type": "execute_result"
    }
   ],
   "source": [
    "df_copy_20151['p3b'] = df_copy_20151['p3b'].astype('int64')\n",
    "df_copy_20151.p3b.value_counts()"
   ]
  },
  {
   "cell_type": "markdown",
   "metadata": {},
   "source": [
    "#  Pregunta 3C: ¿…ofrece sus productos o servicios"
   ]
  },
  {
   "cell_type": "markdown",
   "metadata": {},
   "source": [
    "## Opción 1: a una sola empresa, negocio o intermediario ?(p3c1)\n",
    "\n",
    "1 a una sola empresa, negocio o intermediario?\n",
    "99 No sabe"
   ]
  },
  {
   "cell_type": "code",
   "execution_count": 126,
   "metadata": {},
   "outputs": [],
   "source": [
    "df_copy_20151['p3c1'].replace(to_replace=[' ', '99'],value='99',inplace=True)"
   ]
  },
  {
   "cell_type": "code",
   "execution_count": 127,
   "metadata": {},
   "outputs": [
    {
     "data": {
      "text/plain": [
       "99    1044108\n",
       "1        4467\n",
       "Name: p3c1, dtype: int64"
      ]
     },
     "execution_count": 127,
     "metadata": {},
     "output_type": "execute_result"
    }
   ],
   "source": [
    "df_copy_20151['p3c1'] = df_copy_20151['p3c1'].astype('int64')\n",
    "df_copy_20151.p3c1.value_counts()"
   ]
  },
  {
   "cell_type": "markdown",
   "metadata": {},
   "source": [
    "## Opción 2: a varios negocios, empresas o intermediarios? (p3c2)\n",
    "2 a varios negocios, empresas o intermediarios?\n",
    "99 No sabe"
   ]
  },
  {
   "cell_type": "code",
   "execution_count": 128,
   "metadata": {},
   "outputs": [],
   "source": [
    "df_copy_20151['p3c2'].replace(to_replace=[' ', '99'],value='99',inplace=True)"
   ]
  },
  {
   "cell_type": "code",
   "execution_count": 129,
   "metadata": {
    "scrolled": true
   },
   "outputs": [
    {
     "data": {
      "text/plain": [
       "99    1038195\n",
       "2       10380\n",
       "Name: p3c2, dtype: int64"
      ]
     },
     "execution_count": 129,
     "metadata": {},
     "output_type": "execute_result"
    }
   ],
   "source": [
    "df_copy_20151['p3c2'] = df_copy_20151['p3c2'].astype('int64')\n",
    "df_copy_20151.p3c2.value_counts()"
   ]
  },
  {
   "cell_type": "markdown",
   "metadata": {},
   "source": [
    "## Opción 3: directamente al público? (p3c3)\n",
    "\n",
    "3 directamente al público?\n",
    "99 No aplica"
   ]
  },
  {
   "cell_type": "code",
   "execution_count": 130,
   "metadata": {},
   "outputs": [],
   "source": [
    "df_copy_20151['p3c3'].replace(to_replace=[' ', '99'],value='99',inplace=True)"
   ]
  },
  {
   "cell_type": "code",
   "execution_count": 131,
   "metadata": {
    "scrolled": true
   },
   "outputs": [
    {
     "data": {
      "text/plain": [
       "99    924564\n",
       "3     124011\n",
       "Name: p3c3, dtype: int64"
      ]
     },
     "execution_count": 131,
     "metadata": {},
     "output_type": "execute_result"
    }
   ],
   "source": [
    "df_copy_20151['p3c3'] = df_copy_20151['p3c3'].astype('int64')\n",
    "df_copy_20151.p3c3.value_counts()"
   ]
  },
  {
   "cell_type": "markdown",
   "metadata": {},
   "source": [
    "## Opción 4: autoconsumo gropecuario (p3c4)\n",
    "\n",
    "4 Es autoconsumo agropecuario\n",
    "99 No sabe"
   ]
  },
  {
   "cell_type": "code",
   "execution_count": 132,
   "metadata": {},
   "outputs": [],
   "source": [
    "df_copy_20151['p3c4'].replace(to_replace=[' ', '99'],value='99',inplace=True)"
   ]
  },
  {
   "cell_type": "code",
   "execution_count": 133,
   "metadata": {},
   "outputs": [
    {
     "data": {
      "text/plain": [
       "99    1039987\n",
       "4        8588\n",
       "Name: p3c4, dtype: int64"
      ]
     },
     "execution_count": 133,
     "metadata": {},
     "output_type": "execute_result"
    }
   ],
   "source": [
    "df_copy_20151['p3c4'] = df_copy_20151['p3c4'].astype('int64')\n",
    "df_copy_20151.p3c4.value_counts()"
   ]
  },
  {
   "cell_type": "markdown",
   "metadata": {},
   "source": [
    "## No sabe (p3c9)\n",
    "99 No sabe"
   ]
  },
  {
   "cell_type": "code",
   "execution_count": 134,
   "metadata": {},
   "outputs": [],
   "source": [
    "df_copy_20151['p3c9'].replace(to_replace=[' ', '99'],value='99',inplace=True)"
   ]
  },
  {
   "cell_type": "code",
   "execution_count": 135,
   "metadata": {},
   "outputs": [],
   "source": [
    "df_copy_20151['p3c9'].replace(to_replace=['9', '99'],value='99',inplace=True)"
   ]
  },
  {
   "cell_type": "code",
   "execution_count": 136,
   "metadata": {
    "scrolled": true
   },
   "outputs": [
    {
     "data": {
      "text/plain": [
       "99    1048575\n",
       "Name: p3c9, dtype: int64"
      ]
     },
     "execution_count": 136,
     "metadata": {},
     "output_type": "execute_result"
    }
   ],
   "source": [
    "df_copy_20151['p3c9'] = df_copy_20151['p3c9'].astype('int64')\n",
    "df_copy_20151.p3c9.value_counts()"
   ]
  },
  {
   "cell_type": "markdown",
   "metadata": {},
   "source": [
    "## ¿... tiene empleados o le ayudan personas en su negocio o actividad?(p3d)\n",
    "\n",
    "1 Sí\n",
    "2 No\n",
    "99 No sabe"
   ]
  },
  {
   "cell_type": "code",
   "execution_count": 137,
   "metadata": {},
   "outputs": [],
   "source": [
    "df_copy_20151['p3d'].replace(to_replace=[' ', '99'],value='99',inplace=True)"
   ]
  },
  {
   "cell_type": "code",
   "execution_count": 138,
   "metadata": {},
   "outputs": [],
   "source": [
    "df_copy_20151['p3d'].replace(to_replace=['9', '99'],value='99',inplace=True)"
   ]
  },
  {
   "cell_type": "code",
   "execution_count": 139,
   "metadata": {},
   "outputs": [
    {
     "data": {
      "text/plain": [
       "99    908766\n",
       "2      89742\n",
       "1      50067\n",
       "Name: p3d, dtype: int64"
      ]
     },
     "execution_count": 139,
     "metadata": {},
     "output_type": "execute_result"
    }
   ],
   "source": [
    "df_copy_20151['p3d'] = df_copy_20151['p3d'].astype('int64')\n",
    "df_copy_20151.p3d.value_counts()"
   ]
  },
  {
   "cell_type": "markdown",
   "metadata": {},
   "source": [
    "## ¿...Tiene (p3e)\n",
    "\n",
    "1 no solo tipo de negocio (o actividad)?\n",
    "2 varios tipos de negocios?\n",
    "99 no sabe"
   ]
  },
  {
   "cell_type": "code",
   "execution_count": 140,
   "metadata": {},
   "outputs": [],
   "source": [
    "df_copy_20151['p3e'].replace(to_replace=[' ', '99'],value='99',inplace=True)"
   ]
  },
  {
   "cell_type": "code",
   "execution_count": 141,
   "metadata": {},
   "outputs": [
    {
     "data": {
      "text/plain": [
       "99    998508\n",
       "1      49853\n",
       "2        214\n",
       "Name: p3e, dtype: int64"
      ]
     },
     "execution_count": 141,
     "metadata": {},
     "output_type": "execute_result"
    }
   ],
   "source": [
    "df_copy_20151['p3e'] = df_copy_20151['p3e'].astype('int64')\n",
    "df_copy_20151.p3e.value_counts()"
   ]
  },
  {
   "cell_type": "markdown",
   "metadata": {},
   "source": [
    "## ¿Cuántos puestos o establecimientos (o en su caso vehículos) forman este negocio o empresa?(p3f1)\n",
    "1 ¿Uno solo?\n",
    "2 ¿Más de uno?\n",
    "3 No tiene establecimiento (o vehículo)\n",
    "99 No sabe"
   ]
  },
  {
   "cell_type": "code",
   "execution_count": 142,
   "metadata": {},
   "outputs": [],
   "source": [
    "df_copy_20151['p3f1'].replace(to_replace=[' ', '99'],value='99',inplace=True)"
   ]
  },
  {
   "cell_type": "code",
   "execution_count": 143,
   "metadata": {},
   "outputs": [],
   "source": [
    "df_copy_20151['p3f1'].replace(to_replace=['9', '99'],value='99',inplace=True)"
   ]
  },
  {
   "cell_type": "code",
   "execution_count": 144,
   "metadata": {},
   "outputs": [
    {
     "data": {
      "text/plain": [
       "99    998525\n",
       "1      44956\n",
       "3       4375\n",
       "2        719\n",
       "Name: p3f1, dtype: int64"
      ]
     },
     "execution_count": 144,
     "metadata": {},
     "output_type": "execute_result"
    }
   ],
   "source": [
    "df_copy_20151['p3f1'] = df_copy_20151['p3f1'].astype('int64')\n",
    "df_copy_20151.p3f1.value_counts()"
   ]
  },
  {
   "cell_type": "markdown",
   "metadata": {},
   "source": [
    "## ¿Cuántos puestos o establecimientos (o en su caso vehículos) forman este negocio o empresa?(p3f2)\n",
    "\n",
    "2-98 Cantidad de puestos o vehículos\n",
    "99 No sabe\n"
   ]
  },
  {
   "cell_type": "code",
   "execution_count": 145,
   "metadata": {},
   "outputs": [
    {
     "data": {
      "text/plain": [
       "99    1047858\n",
       "2         418\n",
       "3         165\n",
       "4          50\n",
       "5          25\n",
       "6          17\n",
       "10         15\n",
       "9           6\n",
       "8           4\n",
       "30          3\n",
       "20          3\n",
       "11          2\n",
       "1           2\n",
       "98          1\n",
       "12          1\n",
       "13          1\n",
       "18          1\n",
       "27          1\n",
       "33          1\n",
       "70          1\n",
       "Name: p3f2, dtype: int64"
      ]
     },
     "execution_count": 145,
     "metadata": {},
     "output_type": "execute_result"
    }
   ],
   "source": [
    "df_copy_20151['p3f2'] = df_copy_20151['p3f2'].astype('int64')\n",
    "df_copy_20151.p3f2.value_counts()"
   ]
  },
  {
   "cell_type": "markdown",
   "metadata": {},
   "source": [
    "# Pregunta 3G: De las personas que ocupa o le ayudan a…,¿cuántos son \n"
   ]
  },
  {
   "cell_type": "markdown",
   "metadata": {},
   "source": [
    "## Opción 1:  trabajadores que reciben un pago?(p3g1_1)\n",
    "1 trabajadores que reciben un pago?\n",
    "99 No sabe"
   ]
  },
  {
   "cell_type": "code",
   "execution_count": 146,
   "metadata": {},
   "outputs": [],
   "source": [
    "df_copy_20151['p3g1_1'].replace(to_replace=[' ', '99'],value='99',inplace=True)"
   ]
  },
  {
   "cell_type": "code",
   "execution_count": 147,
   "metadata": {
    "scrolled": true
   },
   "outputs": [
    {
     "data": {
      "text/plain": [
       "99    1022062\n",
       "1       26513\n",
       "Name: p3g1_1, dtype: int64"
      ]
     },
     "execution_count": 147,
     "metadata": {},
     "output_type": "execute_result"
    }
   ],
   "source": [
    "df_copy_20151['p3g1_1'] = df_copy_20151['p3g1_1'].astype('int64')\n",
    "df_copy_20151.p3g1_1.value_counts()"
   ]
  },
  {
   "cell_type": "markdown",
   "metadata": {},
   "source": [
    "## Número de trabajadores (p3g1_2)\n",
    "1-998 Número de trabajadores\n",
    "999 No sabe número de trabajadores"
   ]
  },
  {
   "cell_type": "code",
   "execution_count": 148,
   "metadata": {
    "scrolled": true
   },
   "outputs": [
    {
     "data": {
      "text/plain": [
       "99     1022064\n",
       "1        12879\n",
       "2         6024\n",
       "3         2570\n",
       "4         1355\n",
       "5          974\n",
       "6          612\n",
       "10         427\n",
       "8          306\n",
       "7          229\n",
       "20         164\n",
       "999        163\n",
       "15         158\n",
       "12         100\n",
       "9           82\n",
       "30          70\n",
       "25          49\n",
       "11          44\n",
       "50          43\n",
       "40          28\n",
       "14          25\n",
       "13          24\n",
       "18          23\n",
       "60          19\n",
       "100         12\n",
       "150         11\n",
       "35          10\n",
       "70          10\n",
       "16          10\n",
       "17           9\n",
       "        ...   \n",
       "80           7\n",
       "22           7\n",
       "24           6\n",
       "23           6\n",
       "45           4\n",
       "200          3\n",
       "28           3\n",
       "120          2\n",
       "90           2\n",
       "19           2\n",
       "21           2\n",
       "26           2\n",
       "39           2\n",
       "29           2\n",
       "32           2\n",
       "27           1\n",
       "102          1\n",
       "83           1\n",
       "85           1\n",
       "54           1\n",
       "42           1\n",
       "98           1\n",
       "990          1\n",
       "160          1\n",
       "185          1\n",
       "38           1\n",
       "64           1\n",
       "340          1\n",
       "52           1\n",
       "140          1\n",
       "Name: p3g1_2, Length: 62, dtype: int64"
      ]
     },
     "execution_count": 148,
     "metadata": {},
     "output_type": "execute_result"
    }
   ],
   "source": [
    "df_copy_20151['p3g1_2'] = df_copy_20151['p3g1_2'].astype('int64')\n",
    "df_copy_20151.p3g1_2.value_counts()"
   ]
  },
  {
   "cell_type": "markdown",
   "metadata": {},
   "source": [
    "## Opción 2: socios? (p3g2_1) \n",
    "2 socios?\n",
    "99 No sabe"
   ]
  },
  {
   "cell_type": "code",
   "execution_count": 149,
   "metadata": {},
   "outputs": [],
   "source": [
    "df_copy_20151['p3g2_1'].replace(to_replace=[' ', '99'],value='99',inplace=True)"
   ]
  },
  {
   "cell_type": "code",
   "execution_count": 150,
   "metadata": {},
   "outputs": [
    {
     "data": {
      "text/plain": [
       "99    1040529\n",
       "2        8046\n",
       "Name: p3g2_1, dtype: int64"
      ]
     },
     "execution_count": 150,
     "metadata": {},
     "output_type": "execute_result"
    }
   ],
   "source": [
    "df_copy_20151['p3g2_1'] = df_copy_20151['p3g2_1'].astype('int64')\n",
    "df_copy_20151.p3g2_1.value_counts()"
   ]
  },
  {
   "cell_type": "markdown",
   "metadata": {},
   "source": [
    "## Número de trabajadores  (p3g2_2)\n",
    "1 - 998 Cantidad en opcion 1 de pregunta 3g\n",
    "999 No sabe que número de trabajadores"
   ]
  },
  {
   "cell_type": "code",
   "execution_count": 151,
   "metadata": {
    "scrolled": true
   },
   "outputs": [
    {
     "data": {
      "text/plain": [
       "99     1040529\n",
       "1         6088\n",
       "2          973\n",
       "3          432\n",
       "4          201\n",
       "5           91\n",
       "6           49\n",
       "8           35\n",
       "7           33\n",
       "999         24\n",
       "10          22\n",
       "15          12\n",
       "9           11\n",
       "13          11\n",
       "12           9\n",
       "240          8\n",
       "11           7\n",
       "19           5\n",
       "56           4\n",
       "16           4\n",
       "14           4\n",
       "20           2\n",
       "200          2\n",
       "170          2\n",
       "24           2\n",
       "27           2\n",
       "80           2\n",
       "70           1\n",
       "140          1\n",
       "122          1\n",
       "17           1\n",
       "60           1\n",
       "21           1\n",
       "33           1\n",
       "30           1\n",
       "42           1\n",
       "22           1\n",
       "40           1\n",
       "Name: p3g2_2, dtype: int64"
      ]
     },
     "execution_count": 151,
     "metadata": {},
     "output_type": "execute_result"
    }
   ],
   "source": [
    "df_copy_20151['p3g2_2'] = df_copy_20151['p3g2_2'].astype('int64')\n",
    "df_copy_20151.p3g2_2.value_counts()"
   ]
  },
  {
   "cell_type": "markdown",
   "metadata": {},
   "source": [
    "## Opción 3: trabajadores sin pago? (p3g3_1)\n",
    "3 trabajadores sin pago?\n",
    "99 No sabe"
   ]
  },
  {
   "cell_type": "code",
   "execution_count": 152,
   "metadata": {},
   "outputs": [],
   "source": [
    "df_copy_20151['p3g3_1'].replace(to_replace=[' ', '99'],value='99',inplace=True)"
   ]
  },
  {
   "cell_type": "code",
   "execution_count": 153,
   "metadata": {},
   "outputs": [
    {
     "data": {
      "text/plain": [
       "99    1027972\n",
       "3       20603\n",
       "Name: p3g3_1, dtype: int64"
      ]
     },
     "execution_count": 153,
     "metadata": {},
     "output_type": "execute_result"
    }
   ],
   "source": [
    "df_copy_20151['p3g3_1'] = df_copy_20151['p3g3_1'].astype('int64')\n",
    "df_copy_20151.p3g3_1.value_counts()"
   ]
  },
  {
   "cell_type": "markdown",
   "metadata": {},
   "source": [
    "## * Número de trabajadores (p3g3_2)\n",
    "1-998 Cantidad en opción 3 de pregunta 3g \n",
    "999 No sabe número de trabajadores"
   ]
  },
  {
   "cell_type": "code",
   "execution_count": 154,
   "metadata": {
    "scrolled": true
   },
   "outputs": [
    {
     "data": {
      "text/plain": [
       "99     1027972\n",
       "1        15272\n",
       "2         3711\n",
       "3         1201\n",
       "4          305\n",
       "5           73\n",
       "6           21\n",
       "7            8\n",
       "8            3\n",
       "999          2\n",
       "11           2\n",
       "9            2\n",
       "20           1\n",
       "12           1\n",
       "10           1\n",
       "Name: p3g3_2, dtype: int64"
      ]
     },
     "execution_count": 154,
     "metadata": {},
     "output_type": "execute_result"
    }
   ],
   "source": [
    "df_copy_20151['p3g3_2'] = df_copy_20151['p3g3_2'].astype('int64')\n",
    "df_copy_20151.p3g3_2.value_counts()"
   ]
  },
  {
   "cell_type": "markdown",
   "metadata": {},
   "source": [
    "## *Opción 4: no sabe qué tipo de trabajadores son (p3g4_1)\n",
    "4 No sabe que tipo de trabajadores son\n"
   ]
  },
  {
   "cell_type": "code",
   "execution_count": 155,
   "metadata": {},
   "outputs": [],
   "source": [
    "df_copy_20151['p3g4_1'].replace(to_replace=[' ', '99'],value='99',inplace=True)"
   ]
  },
  {
   "cell_type": "code",
   "execution_count": 156,
   "metadata": {
    "scrolled": true
   },
   "outputs": [
    {
     "data": {
      "text/plain": [
       "99    1048559\n",
       "4          16\n",
       "Name: p3g4_1, dtype: int64"
      ]
     },
     "execution_count": 156,
     "metadata": {},
     "output_type": "execute_result"
    }
   ],
   "source": [
    "df_copy_20151['p3g4_1'] = df_copy_20151['p3g4_1'].astype('int64')\n",
    "df_copy_20151.p3g4_1.value_counts()"
   ]
  },
  {
   "cell_type": "markdown",
   "metadata": {},
   "source": [
    "## Número de trabajadores(p3g4_2)\n",
    "1-998 Cantidad en opción 4 de pregunta 3g\n",
    "999 No sabe"
   ]
  },
  {
   "cell_type": "code",
   "execution_count": 157,
   "metadata": {},
   "outputs": [
    {
     "data": {
      "text/plain": [
       "99     1048559\n",
       "1            6\n",
       "999          3\n",
       "3            2\n",
       "2            2\n",
       "10           1\n",
       "5            1\n",
       "4            1\n",
       "Name: p3g4_2, dtype: int64"
      ]
     },
     "execution_count": 157,
     "metadata": {},
     "output_type": "execute_result"
    }
   ],
   "source": [
    "df_copy_20151['p3g4_2'] = df_copy_20151['p3g4_2'].astype('int64')\n",
    "df_copy_20151.p3g4_2.value_counts()"
   ]
  },
  {
   "cell_type": "markdown",
   "metadata": {},
   "source": [
    "## Opción 9: no sabe (p3g9)\n",
    "99 No sabe"
   ]
  },
  {
   "cell_type": "code",
   "execution_count": 158,
   "metadata": {},
   "outputs": [],
   "source": [
    "df_copy_20151['p3g9'].replace(to_replace=[' ', '99'],value='99',inplace=True)"
   ]
  },
  {
   "cell_type": "code",
   "execution_count": 159,
   "metadata": {},
   "outputs": [],
   "source": [
    "df_copy_20151['p3g9'].replace(to_replace=['9', '99'],value='99',inplace=True)"
   ]
  },
  {
   "cell_type": "code",
   "execution_count": 160,
   "metadata": {},
   "outputs": [
    {
     "data": {
      "text/plain": [
       "99    1048575\n",
       "Name: p3g9, dtype: int64"
      ]
     },
     "execution_count": 160,
     "metadata": {},
     "output_type": "execute_result"
    }
   ],
   "source": [
    "df_copy_20151['p3g9'] = df_copy_20151['p3g9'].astype('int64')\n",
    "df_copy_20151.p3g9.value_counts()"
   ]
  },
  {
   "cell_type": "markdown",
   "metadata": {},
   "source": [
    "## Sumatoria de número de trabajadores (p3g_tot)\n",
    "1-998 Sumatoria de número de trabajadores\n",
    "999  No sabe \n"
   ]
  },
  {
   "cell_type": "code",
   "execution_count": 161,
   "metadata": {
    "scrolled": false
   },
   "outputs": [
    {
     "data": {
      "text/plain": [
       "99     998657\n",
       "1       28002\n",
       "2       10541\n",
       "3        4635\n",
       "4        2142\n",
       "5        1291\n",
       "6         783\n",
       "10        381\n",
       "7         363\n",
       "8         352\n",
       "999       181\n",
       "9         147\n",
       "15        132\n",
       "12        121\n",
       "11        121\n",
       "20        117\n",
       "13         48\n",
       "14         44\n",
       "30         42\n",
       "16         40\n",
       "21         38\n",
       "25         35\n",
       "50         26\n",
       "18         25\n",
       "17         17\n",
       "22         16\n",
       "24         14\n",
       "60         14\n",
       "23         13\n",
       "40         13\n",
       "        ...  \n",
       "72          2\n",
       "210         2\n",
       "340         1\n",
       "310         1\n",
       "370         1\n",
       "48          1\n",
       "38          1\n",
       "44          1\n",
       "201         1\n",
       "200         1\n",
       "185         1\n",
       "170         1\n",
       "153         1\n",
       "141         1\n",
       "122         1\n",
       "116         1\n",
       "105         1\n",
       "104         1\n",
       "103         1\n",
       "102         1\n",
       "98          1\n",
       "85          1\n",
       "83          1\n",
       "64          1\n",
       "63          1\n",
       "57          1\n",
       "990         1\n",
       "54          1\n",
       "205         1\n",
       "56          1\n",
       "Name: p3g_tot, Length: 103, dtype: int64"
      ]
     },
     "execution_count": 161,
     "metadata": {},
     "output_type": "execute_result"
    }
   ],
   "source": [
    "df_copy_20151['p3g_tot'] = df_copy_20151['p3g_tot'].astype('int64')\n",
    "df_copy_20151.p3g_tot.value_counts()"
   ]
  },
  {
   "cell_type": "markdown",
   "metadata": {},
   "source": [
    "## ¿En este trabajo ...  (p3h)\n",
    "1 recibe un pago?\n",
    "2 es un trabajador no  familiar sin pago?\n",
    "3 es un trabajador familiar  sin pago?\n",
    "99 No sabe"
   ]
  },
  {
   "cell_type": "code",
   "execution_count": 162,
   "metadata": {},
   "outputs": [],
   "source": [
    "df_copy_20151['p3h'].replace(to_replace=[' ', '99'],value='99',inplace=True)"
   ]
  },
  {
   "cell_type": "code",
   "execution_count": 163,
   "metadata": {},
   "outputs": [
    {
     "data": {
      "text/plain": [
       "99    613471\n",
       "1     409212\n",
       "3      24121\n",
       "2       1771\n",
       "Name: p3h, dtype: int64"
      ]
     },
     "execution_count": 163,
     "metadata": {},
     "output_type": "execute_result"
    }
   ],
   "source": [
    "df_copy_20151['p3h'] = df_copy_20151['p3h'].astype('int64')\n",
    "df_copy_20151.p3h.value_counts()"
   ]
  },
  {
   "cell_type": "markdown",
   "metadata": {},
   "source": [
    "## ¿En su empleo... Pertenece a algún sindicato? (p3i)\n",
    "\n",
    "1 Si\n",
    "2 No \n",
    "99 No sabe\n",
    "\n"
   ]
  },
  {
   "cell_type": "code",
   "execution_count": 164,
   "metadata": {},
   "outputs": [],
   "source": [
    "df_copy_20151['p3i'].replace(to_replace=['9', '99'],value='99',inplace=True)"
   ]
  },
  {
   "cell_type": "code",
   "execution_count": 165,
   "metadata": {},
   "outputs": [],
   "source": [
    "df_copy_20151['p3i'].replace(to_replace=[' ', '99'],value='99',inplace=True)"
   ]
  },
  {
   "cell_type": "code",
   "execution_count": 166,
   "metadata": {},
   "outputs": [
    {
     "data": {
      "text/plain": [
       "99    644667\n",
       "2     217289\n",
       "1     186619\n",
       "Name: p3i, dtype: int64"
      ]
     },
     "execution_count": 166,
     "metadata": {},
     "output_type": "execute_result"
    }
   ],
   "source": [
    "df_copy_20151['p3i'] = df_copy_20151['p3i'].astype('int64')\n",
    "df_copy_20151.p3i.value_counts()"
   ]
  },
  {
   "cell_type": "markdown",
   "metadata": {},
   "source": [
    "##  ¿En su empleo... cuenta con un contrato por escrito?(p3j) \n",
    "1 Si\n",
    "2 No\n",
    "99 No sabe\n"
   ]
  },
  {
   "cell_type": "code",
   "execution_count": 167,
   "metadata": {},
   "outputs": [],
   "source": [
    "df_copy_20151['p3j'].replace(to_replace=[' ', '99'],value='99',inplace=True)"
   ]
  },
  {
   "cell_type": "code",
   "execution_count": 168,
   "metadata": {},
   "outputs": [],
   "source": [
    "df_copy_20151['p3j'].replace(to_replace=['9', '99'],value='99',inplace=True)"
   ]
  },
  {
   "cell_type": "code",
   "execution_count": 169,
   "metadata": {},
   "outputs": [
    {
     "data": {
      "text/plain": [
       "99    931400\n",
       "1      66210\n",
       "2      50965\n",
       "Name: p3j, dtype: int64"
      ]
     },
     "execution_count": 169,
     "metadata": {},
     "output_type": "execute_result"
    }
   ],
   "source": [
    "df_copy_20151['p3j'] = df_copy_20151['p3j'].astype('int64')\n",
    "df_copy_20151.p3j.value_counts()"
   ]
  },
  {
   "cell_type": "markdown",
   "metadata": {},
   "source": [
    "## ¿El contrato de .... es ?(p3k1)\n",
    "1 temporal o por obra determinada?\n",
    "2 de base, planta o por tienpo indefinido ?\n",
    "99 No sabe"
   ]
  },
  {
   "cell_type": "code",
   "execution_count": 170,
   "metadata": {},
   "outputs": [],
   "source": [
    "df_copy_20151['p3k1'].replace(to_replace=[' ', '99'],value='99',inplace=True)"
   ]
  },
  {
   "cell_type": "code",
   "execution_count": 171,
   "metadata": {},
   "outputs": [],
   "source": [
    "df_copy_20151['p3k1'].replace(to_replace=['9', '99'],value='99',inplace=True)"
   ]
  },
  {
   "cell_type": "code",
   "execution_count": 172,
   "metadata": {},
   "outputs": [
    {
     "data": {
      "text/plain": [
       "99    982814\n",
       "2      54066\n",
       "1      11695\n",
       "Name: p3k1, dtype: int64"
      ]
     },
     "execution_count": 172,
     "metadata": {},
     "output_type": "execute_result"
    }
   ],
   "source": [
    "df_copy_20151['p3k1'] = df_copy_20151['p3k1'].astype('int64')\n",
    "df_copy_20151.p3k1.value_counts()"
   ]
  },
  {
   "cell_type": "markdown",
   "metadata": {},
   "source": [
    "## Desglose de contrato temporal(p3k2)\n",
    "\n",
    "1 menos de dos meses de dos a seis meses\n",
    "3 más de seis meses hasta  un año\n",
    "4 hasta el término de la obra\n",
    "99 No sabe"
   ]
  },
  {
   "cell_type": "code",
   "execution_count": 173,
   "metadata": {},
   "outputs": [],
   "source": [
    "df_copy_20151['p3k2'].replace(to_replace=[' ', '99'],value='99',inplace=True)"
   ]
  },
  {
   "cell_type": "code",
   "execution_count": 174,
   "metadata": {},
   "outputs": [
    {
     "data": {
      "text/plain": [
       "99    1036880\n",
       "2        4723\n",
       "3        3352\n",
       "4        2113\n",
       "1        1507\n",
       "Name: p3k2, dtype: int64"
      ]
     },
     "execution_count": 174,
     "metadata": {},
     "output_type": "execute_result"
    }
   ],
   "source": [
    "df_copy_20151['p3k2'] = df_copy_20151['p3k2'].astype('int64')\n",
    "df_copy_20151.p3k2.value_counts()"
   ]
  },
  {
   "cell_type": "markdown",
   "metadata": {},
   "source": [
    " # Pregunta 3L: En este trabajo, ¿a ... le dan"
   ]
  },
  {
   "cell_type": "markdown",
   "metadata": {},
   "source": [
    "## Opción 1: aguinaldo ? (p3l1)\n",
    "1 Aguinaldo?\n",
    "99 No sabe"
   ]
  },
  {
   "cell_type": "code",
   "execution_count": 175,
   "metadata": {},
   "outputs": [],
   "source": [
    "df_copy_20151['p3l1'].replace(to_replace=[' ', '99'],value='99',inplace=True)"
   ]
  },
  {
   "cell_type": "code",
   "execution_count": 176,
   "metadata": {},
   "outputs": [
    {
     "data": {
      "text/plain": [
       "99    971460\n",
       "1      77115\n",
       "Name: p3l1, dtype: int64"
      ]
     },
     "execution_count": 176,
     "metadata": {},
     "output_type": "execute_result"
    }
   ],
   "source": [
    "df_copy_20151['p3l1'] = df_copy_20151['p3l1'].astype('int64')\n",
    "df_copy_20151.p3l1.value_counts()"
   ]
  },
  {
   "cell_type": "markdown",
   "metadata": {},
   "source": [
    "## Opción 2: vacaciones con goce de sueldo ? (p3l2)\n",
    "2 vacaciones con goce de sueldo?\n",
    "99 No sabe"
   ]
  },
  {
   "cell_type": "code",
   "execution_count": 177,
   "metadata": {},
   "outputs": [],
   "source": [
    "df_copy_20151['p3l2'].replace(to_replace=[' ', '99'],value='99',inplace=True)"
   ]
  },
  {
   "cell_type": "code",
   "execution_count": 178,
   "metadata": {},
   "outputs": [
    {
     "data": {
      "text/plain": [
       "99    981909\n",
       "2      66666\n",
       "Name: p3l2, dtype: int64"
      ]
     },
     "execution_count": 178,
     "metadata": {},
     "output_type": "execute_result"
    }
   ],
   "source": [
    "df_copy_20151['p3l2'] = df_copy_20151['p3l2'].astype('int64')\n",
    "df_copy_20151.p3l2.value_counts()"
   ]
  },
  {
   "cell_type": "markdown",
   "metadata": {},
   "source": [
    "## Opción 3: reparto de utilidades?(p3l3)\n",
    "3 reparto de utilidades?\n",
    "99 no sabe"
   ]
  },
  {
   "cell_type": "code",
   "execution_count": 179,
   "metadata": {},
   "outputs": [],
   "source": [
    "df_copy_20151['p3l3'].replace(to_replace=[' ', '99'],value='99',inplace=True)"
   ]
  },
  {
   "cell_type": "code",
   "execution_count": 180,
   "metadata": {},
   "outputs": [
    {
     "data": {
      "text/plain": [
       "99    1027070\n",
       "3       21505\n",
       "Name: p3l3, dtype: int64"
      ]
     },
     "execution_count": 180,
     "metadata": {},
     "output_type": "execute_result"
    }
   ],
   "source": [
    "df_copy_20151['p3l3'] = df_copy_20151['p3l3'].astype('int64')\n",
    "df_copy_20151.p3l3.value_counts()"
   ]
  },
  {
   "cell_type": "markdown",
   "metadata": {},
   "source": [
    "## Opción 4: ninguna de las anteriores (p3l4)\n",
    "4 Ninguna de las anteriores\n",
    "99 No sabe"
   ]
  },
  {
   "cell_type": "code",
   "execution_count": 181,
   "metadata": {},
   "outputs": [],
   "source": [
    "df_copy_20151['p3l4'].replace(to_replace=[' ', '99'],value='99',inplace=True)"
   ]
  },
  {
   "cell_type": "code",
   "execution_count": 182,
   "metadata": {},
   "outputs": [
    {
     "data": {
      "text/plain": [
       "99    1046552\n",
       "4        2023\n",
       "Name: p3l4, dtype: int64"
      ]
     },
     "execution_count": 182,
     "metadata": {},
     "output_type": "execute_result"
    }
   ],
   "source": [
    "df_copy_20151['p3l4'] = df_copy_20151['p3l4'].astype('int64')\n",
    "df_copy_20151.p3l4.value_counts()"
   ]
  },
  {
   "cell_type": "markdown",
   "metadata": {},
   "source": [
    "## Opción 5: no le dan nada (p3l5)\n",
    "5 No le dad nada\n",
    "99 No sabe"
   ]
  },
  {
   "cell_type": "code",
   "execution_count": 183,
   "metadata": {},
   "outputs": [],
   "source": [
    "df_copy_20151['p3l5'].replace(to_replace=[' ', '99'],value='99',inplace=True)"
   ]
  },
  {
   "cell_type": "code",
   "execution_count": 184,
   "metadata": {},
   "outputs": [
    {
     "data": {
      "text/plain": [
       "99    1010512\n",
       "5       38063\n",
       "Name: p3l5, dtype: int64"
      ]
     },
     "execution_count": 184,
     "metadata": {},
     "output_type": "execute_result"
    }
   ],
   "source": [
    "df_copy_20151['p3l5'] = df_copy_20151['p3l5'].astype('int64')\n",
    "df_copy_20151.p3l5.value_counts()"
   ]
  },
  {
   "cell_type": "markdown",
   "metadata": {},
   "source": [
    "## Opción 9: nos sabe(p3l9)\n",
    "99 No sabe"
   ]
  },
  {
   "cell_type": "code",
   "execution_count": 185,
   "metadata": {},
   "outputs": [],
   "source": [
    "df_copy_20151['p3l9'].replace(to_replace=[' ', '99'],value='99',inplace=True)"
   ]
  },
  {
   "cell_type": "code",
   "execution_count": 186,
   "metadata": {},
   "outputs": [],
   "source": [
    "df_copy_20151['p3l9'].replace(to_replace=['9', '99'],value='99',inplace=True)"
   ]
  },
  {
   "cell_type": "code",
   "execution_count": 187,
   "metadata": {},
   "outputs": [
    {
     "data": {
      "text/plain": [
       "99    1048575\n",
       "Name: p3l9, dtype: int64"
      ]
     },
     "execution_count": 187,
     "metadata": {},
     "output_type": "execute_result"
    }
   ],
   "source": [
    "df_copy_20151['p3l9'] = df_copy_20151['p3l9'].astype('int64')\n",
    "df_copy_20151.p3l9.value_counts()"
   ]
  },
  {
   "cell_type": "markdown",
   "metadata": {},
   "source": [
    "# Pregunta 3M: En este trabajo, a…le dan, aunque no utilice,"
   ]
  },
  {
   "cell_type": "markdown",
   "metadata": {},
   "source": [
    "## Opción 1: crédito para vivienda (infonavit, fovissste)(p3m1)\n",
    "1 crédito para vivienda (Infonavit,Fovissste)?\n",
    "99 No sabe"
   ]
  },
  {
   "cell_type": "code",
   "execution_count": 188,
   "metadata": {},
   "outputs": [],
   "source": [
    "df_copy_20151['p3m1'].replace(to_replace=[' ', '99'],value='99',inplace=True)"
   ]
  },
  {
   "cell_type": "code",
   "execution_count": 189,
   "metadata": {},
   "outputs": [
    {
     "data": {
      "text/plain": [
       "99    990164\n",
       "1      58411\n",
       "Name: p3m1, dtype: int64"
      ]
     },
     "execution_count": 189,
     "metadata": {},
     "output_type": "execute_result"
    }
   ],
   "source": [
    "df_copy_20151['p3m1'] = df_copy_20151['p3m1'].astype('int64')\n",
    "df_copy_20151.p3m1.value_counts()"
   ]
  },
  {
   "cell_type": "markdown",
   "metadata": {},
   "source": [
    "## Opción 2: guardería? (p3m2)\n",
    "2 guardería?\n",
    "99 No sabe"
   ]
  },
  {
   "cell_type": "code",
   "execution_count": 190,
   "metadata": {},
   "outputs": [],
   "source": [
    "df_copy_20151['p3m2'].replace(to_replace=[' ', '99'],value='99',inplace=True)"
   ]
  },
  {
   "cell_type": "code",
   "execution_count": 191,
   "metadata": {},
   "outputs": [
    {
     "data": {
      "text/plain": [
       "99    1032256\n",
       "2       16319\n",
       "Name: p3m2, dtype: int64"
      ]
     },
     "execution_count": 191,
     "metadata": {},
     "output_type": "execute_result"
    }
   ],
   "source": [
    "df_copy_20151['p3m2'] = df_copy_20151['p3m2'].astype('int64')\n",
    "df_copy_20151.p3m2.value_counts()"
   ]
  },
  {
   "cell_type": "markdown",
   "metadata": {},
   "source": [
    "## tiempo para cuidados maternos o paternos ?(p3m3)\n",
    "3 tiempo para cuidados maternos o paternos?\n",
    "99 No se sabe"
   ]
  },
  {
   "cell_type": "code",
   "execution_count": 192,
   "metadata": {},
   "outputs": [],
   "source": [
    "df_copy_20151['p3m3'].replace(to_replace=[' ', '99'],value='99',inplace=True)"
   ]
  },
  {
   "cell_type": "code",
   "execution_count": 193,
   "metadata": {},
   "outputs": [
    {
     "data": {
      "text/plain": [
       "99    1032765\n",
       "3       15810\n",
       "Name: p3m3, dtype: int64"
      ]
     },
     "execution_count": 193,
     "metadata": {},
     "output_type": "execute_result"
    }
   ],
   "source": [
    "df_copy_20151['p3m3'] = df_copy_20151['p3m3'].astype('int64')\n",
    "df_copy_20151.p3m3.value_counts()"
   ]
  },
  {
   "cell_type": "markdown",
   "metadata": {},
   "source": [
    "## Opción 4: fondo de retiro (SAR o Afore)(p3m4)\n",
    "4 fondo de retiro (SAR o Afore)?\n",
    "99 No sabe"
   ]
  },
  {
   "cell_type": "code",
   "execution_count": 194,
   "metadata": {},
   "outputs": [],
   "source": [
    "df_copy_20151['p3m4'].replace(to_replace=[' ', '99'],value='99',inplace=True)"
   ]
  },
  {
   "cell_type": "code",
   "execution_count": 195,
   "metadata": {},
   "outputs": [
    {
     "data": {
      "text/plain": [
       "99    989927\n",
       "4      58648\n",
       "Name: p3m4, dtype: int64"
      ]
     },
     "execution_count": 195,
     "metadata": {},
     "output_type": "execute_result"
    }
   ],
   "source": [
    "df_copy_20151['p3m4'] = df_copy_20151['p3m4'].astype('int64')\n",
    "df_copy_20151.p3m4.value_counts()"
   ]
  },
  {
   "cell_type": "markdown",
   "metadata": {},
   "source": [
    "## Opción 5: seguro de vida? (p3m5)\n",
    "5 seguro de vida?\n",
    "99 No sabe"
   ]
  },
  {
   "cell_type": "code",
   "execution_count": 196,
   "metadata": {},
   "outputs": [],
   "source": [
    "df_copy_20151['p3m5'].replace(to_replace=[' ', '99'],value='99',inplace=True)"
   ]
  },
  {
   "cell_type": "code",
   "execution_count": 197,
   "metadata": {},
   "outputs": [
    {
     "data": {
      "text/plain": [
       "99    1023602\n",
       "5       24973\n",
       "Name: p3m5, dtype: int64"
      ]
     },
     "execution_count": 197,
     "metadata": {},
     "output_type": "execute_result"
    }
   ],
   "source": [
    "df_copy_20151['p3m5'] = df_copy_20151['p3m5'].astype('int64')\n",
    "df_copy_20151.p3m5.value_counts()"
   ]
  },
  {
   "cell_type": "markdown",
   "metadata": {},
   "source": [
    "## Opción 6: seguro privado para gastos médicos ?(p3m6)\n",
    "6 seguro privado para gastos médicos?\n",
    "99 No sabe"
   ]
  },
  {
   "cell_type": "code",
   "execution_count": 198,
   "metadata": {},
   "outputs": [],
   "source": [
    "df_copy_20151['p3m6'].replace(to_replace=[' ', '99'],value='99',inplace=True)"
   ]
  },
  {
   "cell_type": "code",
   "execution_count": 199,
   "metadata": {},
   "outputs": [
    {
     "data": {
      "text/plain": [
       "99    1044025\n",
       "6        4550\n",
       "Name: p3m6, dtype: int64"
      ]
     },
     "execution_count": 199,
     "metadata": {},
     "output_type": "execute_result"
    }
   ],
   "source": [
    "df_copy_20151['p3m6'] = df_copy_20151['p3m6'].astype('int64')\n",
    "df_copy_20151.p3m6.value_counts()"
   ]
  },
  {
   "cell_type": "markdown",
   "metadata": {},
   "source": [
    "## Opción 7: préstamos personales y/o caja de ahorro? (p3m7)\n",
    "7 préstamos personales y/o caja de ahorro?\n",
    "99 No sabe"
   ]
  },
  {
   "cell_type": "code",
   "execution_count": 200,
   "metadata": {},
   "outputs": [],
   "source": [
    "df_copy_20151['p3m7'].replace(to_replace=[' ', '99'],value='99',inplace=True)"
   ]
  },
  {
   "cell_type": "code",
   "execution_count": 201,
   "metadata": {},
   "outputs": [
    {
     "data": {
      "text/plain": [
       "99    1016752\n",
       "7       31823\n",
       "Name: p3m7, dtype: int64"
      ]
     },
     "execution_count": 201,
     "metadata": {},
     "output_type": "execute_result"
    }
   ],
   "source": [
    "df_copy_20151['p3m7'] = df_copy_20151['p3m7'].astype('int64')\n",
    "df_copy_20151.p3m7.value_counts()"
   ]
  },
  {
   "cell_type": "markdown",
   "metadata": {},
   "source": [
    "## Opción 8: ninguna de las anteriores (p3m8)\n",
    "8 Ninguna de las anteriores\n",
    "99 No sabe"
   ]
  },
  {
   "cell_type": "code",
   "execution_count": 202,
   "metadata": {},
   "outputs": [],
   "source": [
    "df_copy_20151['p3m8'].replace(to_replace=[' ', '99'],value='99',inplace=True)"
   ]
  },
  {
   "cell_type": "code",
   "execution_count": 203,
   "metadata": {},
   "outputs": [
    {
     "data": {
      "text/plain": [
       "99    1034446\n",
       "8       14129\n",
       "Name: p3m8, dtype: int64"
      ]
     },
     "execution_count": 203,
     "metadata": {},
     "output_type": "execute_result"
    }
   ],
   "source": [
    "df_copy_20151['p3m8'] = df_copy_20151['p3m8'].astype('int64')\n",
    "df_copy_20151.p3m8.value_counts()"
   ]
  },
  {
   "cell_type": "markdown",
   "metadata": {},
   "source": [
    "## Opción 9: no sabe(p3m9)\n",
    "99 No sabe"
   ]
  },
  {
   "cell_type": "code",
   "execution_count": 204,
   "metadata": {},
   "outputs": [],
   "source": [
    "df_copy_20151['p3m9'].replace(to_replace=[' ', '99'],value='99',inplace=True)"
   ]
  },
  {
   "cell_type": "code",
   "execution_count": 205,
   "metadata": {},
   "outputs": [],
   "source": [
    "df_copy_20151['p3m9'].replace(to_replace=['9', '99'],value='99',inplace=True)"
   ]
  },
  {
   "cell_type": "code",
   "execution_count": 206,
   "metadata": {},
   "outputs": [
    {
     "data": {
      "text/plain": [
       "99    1048575\n",
       "Name: p3m9, dtype: int64"
      ]
     },
     "execution_count": 206,
     "metadata": {},
     "output_type": "execute_result"
    }
   ],
   "source": [
    "df_copy_20151['p3m9'] = df_copy_20151['p3m9'].astype('int64')\n",
    "df_copy_20151.p3m9.value_counts()"
   ]
  },
  {
   "cell_type": "markdown",
   "metadata": {},
   "source": [
    "## ¿Cómo se enteró... de este empleo ? (p3n)\n",
    "1 Acudió directamente al lugar de trabajo(fábrica, tienda,taller)\n",
    "2 Acudió a una agencia o bolsa de trabajo privada\n",
    "3 Acudió a un servicio público de colocación\n",
    "4 Por medio de un programa de empleo temporal del gobierno (federal, estatal y/o municipal)\n",
    "5 Acudió a un sindicato o gremio\n",
    "6 Por internet\n",
    "7 Por medio de un anuncio en un lugar público o en  medios de comunicación (periódico, radio)\n",
    "8 Por medio de un familiar, amigo o conocido\n",
    "9 Le ofrecieron el empleo\n",
    "10 Otro medio\n",
    "99 No sabe\n"
   ]
  },
  {
   "cell_type": "code",
   "execution_count": 207,
   "metadata": {},
   "outputs": [
    {
     "data": {
      "text/plain": [
       "99    932367\n",
       "8      64125\n",
       "1      22776\n",
       "9      12948\n",
       "7      10908\n",
       "6       2542\n",
       "5       1375\n",
       "10       741\n",
       "2        309\n",
       "3        248\n",
       "4        236\n",
       "Name: p3n, dtype: int64"
      ]
     },
     "execution_count": 207,
     "metadata": {},
     "output_type": "execute_result"
    }
   ],
   "source": [
    "df_copy_20151['p3n'] = df_copy_20151['p3n'].astype('int64')\n",
    "df_copy_20151.p3n.value_counts()"
   ]
  },
  {
   "cell_type": "markdown",
   "metadata": {},
   "source": [
    "## Para conseguir o conservar este trabajo, ¿... se vio obligado a cambiar de ciudad o localidad? (p3o)\n",
    "1 Sí\n",
    "2 No\n",
    "99 No sabe"
   ]
  },
  {
   "cell_type": "code",
   "execution_count": 208,
   "metadata": {},
   "outputs": [],
   "source": [
    "df_copy_20151['p3o'].replace(to_replace=[' ', '99'],value='99',inplace=True)"
   ]
  },
  {
   "cell_type": "code",
   "execution_count": 209,
   "metadata": {},
   "outputs": [
    {
     "data": {
      "text/plain": [
       "99    930008\n",
       "2     116040\n",
       "1       2527\n",
       "Name: p3o, dtype: int64"
      ]
     },
     "execution_count": 209,
     "metadata": {},
     "output_type": "execute_result"
    }
   ],
   "source": [
    "df_copy_20151['p3o'] = df_copy_20151['p3o'].astype('int64')\n",
    "df_copy_20151.p3o.value_counts()"
   ]
  },
  {
   "cell_type": "markdown",
   "metadata": {},
   "source": [
    "## Antes de este cambio, ¿en qué estado de la República o país vivía...?(p3p1)\n",
    "1 En el mismo estado\n",
    "2 En otro estado\n",
    "3 En otro país\n",
    "99 No sabe"
   ]
  },
  {
   "cell_type": "code",
   "execution_count": 210,
   "metadata": {},
   "outputs": [],
   "source": [
    "df_copy_20151['p3p1'].replace(to_replace=['9', '99'],value='99',inplace=True)"
   ]
  },
  {
   "cell_type": "code",
   "execution_count": 211,
   "metadata": {},
   "outputs": [],
   "source": [
    "df_copy_20151['p3p1'].replace(to_replace=[' ', '99'],value='99',inplace=True)"
   ]
  },
  {
   "cell_type": "code",
   "execution_count": 212,
   "metadata": {},
   "outputs": [
    {
     "data": {
      "text/plain": [
       "99    1046050\n",
       "2        1283\n",
       "1        1170\n",
       "3          72\n",
       "Name: p3p1, dtype: int64"
      ]
     },
     "execution_count": 212,
     "metadata": {},
     "output_type": "execute_result"
    }
   ],
   "source": [
    "df_copy_20151['p3p1'] = df_copy_20151['p3p1'].astype('int64')\n",
    "df_copy_20151.p3p1.value_counts()"
   ]
  },
  {
   "cell_type": "markdown",
   "metadata": {},
   "source": [
    "## * Clave asignada a la descripción del lugar de residencia (p3p2)"
   ]
  },
  {
   "cell_type": "code",
   "execution_count": 213,
   "metadata": {
    "scrolled": true
   },
   "outputs": [
    {
     "data": {
      "text/plain": [
       "99     1046048\n",
       "9          174\n",
       "30         153\n",
       "20         136\n",
       "7          134\n",
       "14         112\n",
       "23         104\n",
       "25         102\n",
       "3          101\n",
       "28          92\n",
       "26          91\n",
       "15          91\n",
       "12          89\n",
       "32          88\n",
       "21          78\n",
       "13          77\n",
       "31          74\n",
       "18          74\n",
       "24          73\n",
       "16          71\n",
       "10          70\n",
       "27          70\n",
       "11          65\n",
       "5           57\n",
       "19          53\n",
       "4           46\n",
       "6           40\n",
       "8           39\n",
       "221         32\n",
       "2           31\n",
       "22          23\n",
       "1           18\n",
       "17          17\n",
       "200         13\n",
       "29          10\n",
       "300         10\n",
       "225          9\n",
       "415          4\n",
       "400          3\n",
       "33           2\n",
       "500          1\n",
       "Name: p3p2, dtype: int64"
      ]
     },
     "execution_count": 213,
     "metadata": {},
     "output_type": "execute_result"
    }
   ],
   "source": [
    "df_copy_20151['p3p2'] = df_copy_20151['p3p2'].astype('int64')\n",
    "df_copy_20151.p3p2.value_counts()"
   ]
  },
  {
   "cell_type": "markdown",
   "metadata": {},
   "source": [
    "## ¿Aprosimadamente, cuantas personas, incluyendo al dueño, laboran donde trabaja...?(p3q)\n",
    "1  1 persona\n",
    "2  2 a 5 personas\n",
    "3  6 a 10 personas\n",
    "4  11 a 15 personas\n",
    "5 16 a 20 personas\n",
    "6 21 a 30 personas\n",
    "7 31 a 50 personas\n",
    "8 51 a 100 personas\n",
    "9 101 a 250 personas\n",
    "0 251 a 500 personas\n",
    "11 501 y más personas\n",
    "99 No sabe"
   ]
  },
  {
   "cell_type": "code",
   "execution_count": 214,
   "metadata": {
    "scrolled": false
   },
   "outputs": [
    {
     "data": {
      "text/plain": [
       "99    930858\n",
       "2      37472\n",
       "11     19410\n",
       "3      11833\n",
       "8       8128\n",
       "9       7074\n",
       "7       6487\n",
       "4       6066\n",
       "5       5913\n",
       "6       5654\n",
       "1       5047\n",
       "10      4633\n",
       "Name: p3q, dtype: int64"
      ]
     },
     "execution_count": 214,
     "metadata": {},
     "output_type": "execute_result"
    }
   ],
   "source": [
    "df_copy_20151['p3q'] = df_copy_20151['p3q'].astype('int')\n",
    "df_copy_20151.p3q.value_counts()"
   ]
  },
  {
   "cell_type": "markdown",
   "metadata": {},
   "source": [
    "## * ¿En que año... entro a trabajar por primera para su actual empresa, institución o patrón (subordinados) comenzó o se hizo cargo de su actual  negocio (o  actividad) [independientes]  (p3r_anio)\n",
    "\n",
    "1900-año actual Año en pregunta 3r\n",
    "9999 No sabe"
   ]
  },
  {
   "cell_type": "code",
   "execution_count": 215,
   "metadata": {},
   "outputs": [],
   "source": [
    "df_copy_20151['p3r_anio'].replace(to_replace=['0','9999'],value='9999',inplace=True)"
   ]
  },
  {
   "cell_type": "code",
   "execution_count": 216,
   "metadata": {
    "scrolled": false
   },
   "outputs": [
    {
     "data": {
      "text/plain": [
       "99      880694\n",
       "2015     29463\n",
       "2014     17792\n",
       "2013     14041\n",
       "2016     10663\n",
       "2012     10662\n",
       "2010     10607\n",
       "2011      7911\n",
       "2000      6897\n",
       "2005      5952\n",
       "2006      4962\n",
       "2009      4952\n",
       "2008      4882\n",
       "2007      3610\n",
       "1995      3432\n",
       "1990      2717\n",
       "1996      2670\n",
       "2001      2346\n",
       "2003      2151\n",
       "2004      1839\n",
       "2002      1822\n",
       "1985      1641\n",
       "1998      1636\n",
       "1999      1280\n",
       "1986      1178\n",
       "1997      1162\n",
       "1980      1041\n",
       "1991       925\n",
       "1993       876\n",
       "1992       857\n",
       "         ...  \n",
       "1971        95\n",
       "1973        93\n",
       "1968        82\n",
       "1969        62\n",
       "1967        58\n",
       "1955        51\n",
       "1962        47\n",
       "1963        44\n",
       "1950        42\n",
       "1964        39\n",
       "1956        35\n",
       "1961        33\n",
       "1959        27\n",
       "1957        25\n",
       "1958        24\n",
       "1952        13\n",
       "1954        12\n",
       "1951        11\n",
       "1945        10\n",
       "1953        10\n",
       "1947         8\n",
       "1948         6\n",
       "1940         4\n",
       "1949         2\n",
       "1946         2\n",
       "1944         2\n",
       "1942         2\n",
       "1943         1\n",
       "1941         1\n",
       "1938         1\n",
       "Name: p3r_anio, Length: 80, dtype: int64"
      ]
     },
     "execution_count": 216,
     "metadata": {},
     "output_type": "execute_result"
    }
   ],
   "source": [
    "df_copy_20151['p3r_anio'] = df_copy_20151['p3r_anio'].astype('int64')\n",
    "df_copy_20151.p3r_anio.value_counts()"
   ]
  },
  {
   "cell_type": "markdown",
   "metadata": {},
   "source": [
    "## mes (p3r_mes)\n",
    "1 Enero\n",
    "2 Febrero\n",
    "3 Marzo\n",
    "4 Abril\n",
    "5 Mayo\n",
    "6 Junio\n",
    "7 Julio\n",
    "8 Agosto\n",
    "9 Septiembre\n",
    "10 Octubre\n",
    "11 Noviembre\n",
    "12 Diciembre\n",
    "99 No sabe mes que inició\n",
    " trabajo"
   ]
  },
  {
   "cell_type": "code",
   "execution_count": 217,
   "metadata": {},
   "outputs": [],
   "source": [
    "df_copy_20151['p3r_mes'].replace(to_replace=['0', '99'],value='99',inplace=True)"
   ]
  },
  {
   "cell_type": "code",
   "execution_count": 218,
   "metadata": {},
   "outputs": [
    {
     "data": {
      "text/plain": [
       "99    1008857\n",
       "1        9890\n",
       "2        5150\n",
       "12       3411\n",
       "11       3405\n",
       "10       3056\n",
       "8        3002\n",
       "9        2788\n",
       "3        2497\n",
       "6        2458\n",
       "7        1890\n",
       "5        1150\n",
       "4        1021\n",
       "Name: p3r_mes, dtype: int64"
      ]
     },
     "execution_count": 218,
     "metadata": {},
     "output_type": "execute_result"
    }
   ],
   "source": [
    "df_copy_20151['p3r_mes'] = df_copy_20151['p3r_mes'].astype('int64')\n",
    "df_copy_20151.p3r_mes.value_counts()"
   ]
  },
  {
   "cell_type": "markdown",
   "metadata": {},
   "source": [
    "## Año(p3r)\n",
    "1 El año en curso\n",
    "2 El año pasado\n",
    "3 Antes del año pasado\n",
    "99 No sabe"
   ]
  },
  {
   "cell_type": "code",
   "execution_count": 219,
   "metadata": {},
   "outputs": [],
   "source": [
    "df_copy_20151['p3r'].replace(to_replace=[' ', '99'],value='99',inplace=True)"
   ]
  },
  {
   "cell_type": "code",
   "execution_count": 220,
   "metadata": {},
   "outputs": [],
   "source": [
    "df_copy_20151['p3r'].replace(to_replace=['9', '99'],value='99',inplace=True)"
   ]
  },
  {
   "cell_type": "code",
   "execution_count": 221,
   "metadata": {},
   "outputs": [
    {
     "data": {
      "text/plain": [
       "99    881416\n",
       "3     127033\n",
       "2      29463\n",
       "1      10663\n",
       "Name: p3r, dtype: int64"
      ]
     },
     "execution_count": 221,
     "metadata": {},
     "output_type": "execute_result"
    }
   ],
   "source": [
    "df_copy_20151['p3r'] = df_copy_20151['p3r'].astype('int64')\n",
    "df_copy_20151.p3r.value_counts()"
   ]
  },
  {
   "cell_type": "markdown",
   "metadata": {},
   "source": [
    "##  ¿Desde entonces... ha trabajado todos los años para su actual empresa,  institución o patrón  (subordinados) ha  trabajado en todos  estos años en su  actual negocio (o  actividad)  [Independientes] (p3s)\n",
    "1 Sí \n",
    "2 No\n",
    "99 No sabe"
   ]
  },
  {
   "cell_type": "code",
   "execution_count": 222,
   "metadata": {},
   "outputs": [],
   "source": [
    "df_copy_20151['p3s'].replace(to_replace=[' ', '99'],value='99',inplace=True)"
   ]
  },
  {
   "cell_type": "code",
   "execution_count": 223,
   "metadata": {},
   "outputs": [
    {
     "data": {
      "text/plain": [
       "99    921542\n",
       "1     125709\n",
       "2       1297\n",
       "9         27\n",
       "Name: p3s, dtype: int64"
      ]
     },
     "execution_count": 223,
     "metadata": {},
     "output_type": "execute_result"
    }
   ],
   "source": [
    "df_copy_20151['p3s'] = df_copy_20151['p3s'].astype('int64')\n",
    "df_copy_20151.p3s.value_counts()"
   ]
  },
  {
   "cell_type": "markdown",
   "metadata": {},
   "source": [
    "##  ¿En qué año … regresó a trabajar  (subordinados)  reinició su actual  negocio (o actividad) [independientes] (p3t_anio)\n",
    "1900-año actual Año en pregunta 3t\n",
    "9999 No sabe\n",
    " "
   ]
  },
  {
   "cell_type": "code",
   "execution_count": 224,
   "metadata": {},
   "outputs": [],
   "source": [
    "df_copy_20151['p3t_anio'].replace(to_replace=['0', '9999'],value='9999',inplace=True)"
   ]
  },
  {
   "cell_type": "code",
   "execution_count": 225,
   "metadata": {},
   "outputs": [
    {
     "data": {
      "text/plain": [
       "99      1047278\n",
       "2015        467\n",
       "2016        217\n",
       "2014        114\n",
       "2013         96\n",
       "2012         62\n",
       "2010         61\n",
       "2011         39\n",
       "2009         31\n",
       "2008         30\n",
       "2006         23\n",
       "2007         21\n",
       "2005         17\n",
       "2004         14\n",
       "2002         12\n",
       "2000         12\n",
       "1995         10\n",
       "9999          8\n",
       "1998          8\n",
       "2001          8\n",
       "1996          6\n",
       "1990          6\n",
       "1999          4\n",
       "1986          4\n",
       "1994          3\n",
       "1983          3\n",
       "1980          3\n",
       "2003          3\n",
       "1997          3\n",
       "1992          2\n",
       "1991          2\n",
       "1993          2\n",
       "1985          2\n",
       "1988          1\n",
       "1981          1\n",
       "1978          1\n",
       "1976          1\n",
       "Name: p3t_anio, dtype: int64"
      ]
     },
     "execution_count": 225,
     "metadata": {},
     "output_type": "execute_result"
    }
   ],
   "source": [
    "df_copy_20151['p3t_anio'] = df_copy_20151['p3t_anio'].astype('int64')\n",
    "df_copy_20151.p3t_anio.value_counts()"
   ]
  },
  {
   "cell_type": "markdown",
   "metadata": {},
   "source": [
    "## Mes (p3t_mes)\n",
    "1 Enero\n",
    "2 Febrero\n",
    "3 Marzo\n",
    "4 Abril\n",
    "5 Mayo\n",
    "6 Junio\n",
    "7 Julio\n",
    "8 Agosto\n",
    "9 Septiembre\n",
    "10 Octubre\n",
    "11 Noviembre\n",
    "12 Diciembre\n",
    "99 No sabe"
   ]
  },
  {
   "cell_type": "code",
   "execution_count": 226,
   "metadata": {},
   "outputs": [],
   "source": [
    "df_copy_20151['p3t_mes'].replace(to_replace=['0', '99'],value='99',inplace=True)"
   ]
  },
  {
   "cell_type": "code",
   "execution_count": 227,
   "metadata": {},
   "outputs": [
    {
     "data": {
      "text/plain": [
       "99    1047898\n",
       "1         161\n",
       "12         77\n",
       "10         71\n",
       "11         67\n",
       "2          65\n",
       "9          52\n",
       "3          44\n",
       "8          40\n",
       "7          38\n",
       "6          29\n",
       "4          17\n",
       "5          16\n",
       "Name: p3t_mes, dtype: int64"
      ]
     },
     "execution_count": 227,
     "metadata": {},
     "output_type": "execute_result"
    }
   ],
   "source": [
    "df_copy_20151['p3t_mes'] = df_copy_20151['p3t_mes'].astype('int64')\n",
    "df_copy_20151.p3t_mes.value_counts()"
   ]
  },
  {
   "cell_type": "markdown",
   "metadata": {},
   "source": [
    "## ¿Cuál es el nombre de la empresa, negocio o institución para la que ... trabaja o ayuda?(p4)\n",
    "1 Nombre de la empresa\n",
    "2 El negocio no tiene nombre\n",
    "3 El trabajador (subordinado) de una  unidad doméstica o trabajador de otro trabajador (a) trabajador(a)\n",
    "4 Es un(a) trabajador(a) en el extranjero\n",
    "99 No sabe"
   ]
  },
  {
   "cell_type": "code",
   "execution_count": 228,
   "metadata": {},
   "outputs": [],
   "source": [
    "df_copy_20151['p4'].replace(to_replace=[' ', '99'],value='99',inplace=True)"
   ]
  },
  {
   "cell_type": "code",
   "execution_count": 229,
   "metadata": {},
   "outputs": [],
   "source": [
    "df_copy_20151['p4'].replace(to_replace=['9', '99'],value='99',inplace=True)"
   ]
  },
  {
   "cell_type": "code",
   "execution_count": 230,
   "metadata": {},
   "outputs": [
    {
     "data": {
      "text/plain": [
       "99    880824\n",
       "1     103816\n",
       "2      55437\n",
       "3       8130\n",
       "4        368\n",
       "Name: p4, dtype: int64"
      ]
     },
     "execution_count": 230,
     "metadata": {},
     "output_type": "execute_result"
    }
   ],
   "source": [
    "df_copy_20151['p4'] = df_copy_20151['p4'].astype('int64')\n",
    "df_copy_20151.p4.value_counts()"
   ]
  },
  {
   "cell_type": "markdown",
   "metadata": {},
   "source": [
    "## *Campo exclusivo del sistema (p4_1)\n",
    "1-2, blanco Campo exlusivo del sistema\n"
   ]
  },
  {
   "cell_type": "code",
   "execution_count": 231,
   "metadata": {},
   "outputs": [],
   "source": [
    "df_copy_20151['p4_1'].replace(to_replace=[' ', '99'],value='99',inplace=True)"
   ]
  },
  {
   "cell_type": "code",
   "execution_count": 232,
   "metadata": {},
   "outputs": [],
   "source": [
    "df_copy_20151['p4_1'].replace(to_replace=['9', '99'],value='99',inplace=True)"
   ]
  },
  {
   "cell_type": "code",
   "execution_count": 233,
   "metadata": {},
   "outputs": [
    {
     "data": {
      "text/plain": [
       "99    1023390\n",
       "1       20435\n",
       "2        4750\n",
       "Name: p4_1, dtype: int64"
      ]
     },
     "execution_count": 233,
     "metadata": {},
     "output_type": "execute_result"
    }
   ],
   "source": [
    "df_copy_20151['p4_1'] = df_copy_20151['p4_1'].astype('int64')\n",
    "df_copy_20151.p4_1.value_counts()"
   ]
  },
  {
   "cell_type": "markdown",
   "metadata": {},
   "source": [
    "## Campo exclusivo del sistema (p4_2)\n",
    "1-9, blanco Campo exclusivo del sistema"
   ]
  },
  {
   "cell_type": "code",
   "execution_count": 234,
   "metadata": {},
   "outputs": [],
   "source": [
    "df_copy_20151['p4_2'].replace(to_replace=[' ', '99'],value='99',inplace=True)"
   ]
  },
  {
   "cell_type": "code",
   "execution_count": 235,
   "metadata": {},
   "outputs": [
    {
     "data": {
      "text/plain": [
       "99    1023389\n",
       "3       10045\n",
       "5        4601\n",
       "6        2890\n",
       "1        2830\n",
       "4        2475\n",
       "2        2186\n",
       "7         154\n",
       "9           3\n",
       "8           2\n",
       "Name: p4_2, dtype: int64"
      ]
     },
     "execution_count": 235,
     "metadata": {},
     "output_type": "execute_result"
    }
   ],
   "source": [
    "df_copy_20151['p4_2'] = df_copy_20151['p4_2'].astype('int64')\n",
    "df_copy_20151.p4_2.value_counts()"
   ]
  },
  {
   "cell_type": "markdown",
   "metadata": {},
   "source": [
    "## Campo exclusivo del sistema (p4_3)\n",
    "1-2, blanco Campo exclusivo del sistema "
   ]
  },
  {
   "cell_type": "code",
   "execution_count": 236,
   "metadata": {},
   "outputs": [],
   "source": [
    "df_copy_20151['p4_3'].replace(to_replace=[' ', '99'],value='99',inplace=True)"
   ]
  },
  {
   "cell_type": "code",
   "execution_count": 237,
   "metadata": {},
   "outputs": [
    {
     "data": {
      "text/plain": [
       "99    1000400\n",
       "2       47799\n",
       "1         376\n",
       "Name: p4_3, dtype: int64"
      ]
     },
     "execution_count": 237,
     "metadata": {},
     "output_type": "execute_result"
    }
   ],
   "source": [
    "df_copy_20151['p4_3'] = df_copy_20151['p4_3'].astype('int64')\n",
    "df_copy_20151.p4_3.value_counts()"
   ]
  },
  {
   "cell_type": "markdown",
   "metadata": {},
   "source": [
    "## * ¿A qué se dedica esta empresa, negocio o institución?(p4a)\n"
   ]
  },
  {
   "cell_type": "code",
   "execution_count": 238,
   "metadata": {
    "scrolled": true
   },
   "outputs": [
    {
     "data": {
      "text/plain": [
       "99      880694\n",
       "1110     11973\n",
       "7221     10448\n",
       "4611      8048\n",
       "8140      7731\n",
       "2382      6153\n",
       "6112      5744\n",
       "2361      5619\n",
       "3110      5601\n",
       "3360      4156\n",
       "9313      4106\n",
       "4850      4087\n",
       "5411      3755\n",
       "8111      3538\n",
       "4620      3298\n",
       "9314      2634\n",
       "6222      2633\n",
       "4631      2520\n",
       "9312      2334\n",
       "4681      2324\n",
       "8121      2307\n",
       "1121      2191\n",
       "3320      2188\n",
       "3150      2160\n",
       "4661      2054\n",
       "4310      2054\n",
       "8112      1958\n",
       "4651      1888\n",
       "4690      1834\n",
       "7210      1790\n",
       "         ...  \n",
       "7113        43\n",
       "1122        42\n",
       "4830        41\n",
       "7132        40\n",
       "6232        39\n",
       "6122        38\n",
       "5223        36\n",
       "5190        35\n",
       "2131        32\n",
       "4882        32\n",
       "2121        21\n",
       "4370        20\n",
       "8125        17\n",
       "3399        14\n",
       "2222        13\n",
       "4699        11\n",
       "4860         9\n",
       "5180         9\n",
       "6121         8\n",
       "2399         5\n",
       "9320         5\n",
       "5330         5\n",
       "5612         4\n",
       "4399         4\n",
       "6150         4\n",
       "8124         2\n",
       "7133         2\n",
       "6239         1\n",
       "2199         1\n",
       "7115         1\n",
       "Name: p4a, Length: 159, dtype: int64"
      ]
     },
     "execution_count": 238,
     "metadata": {},
     "output_type": "execute_result"
    }
   ],
   "source": [
    "df_copy_20151['p4a'] = df_copy_20151['p4a'].astype('int64')\n",
    "df_copy_20151.p4a.value_counts()"
   ]
  },
  {
   "cell_type": "markdown",
   "metadata": {},
   "source": [
    "## (p4a_1)"
   ]
  },
  {
   "cell_type": "code",
   "execution_count": 239,
   "metadata": {},
   "outputs": [],
   "source": [
    "df_copy_20151['p4a_1'].replace(to_replace=[' ', '99'],value='99',inplace=True)"
   ]
  },
  {
   "cell_type": "code",
   "execution_count": 240,
   "metadata": {},
   "outputs": [
    {
     "data": {
      "text/plain": [
       "99    880694\n",
       "1     167844\n",
       "2         37\n",
       "Name: p4a_1, dtype: int64"
      ]
     },
     "execution_count": 240,
     "metadata": {},
     "output_type": "execute_result"
    }
   ],
   "source": [
    "df_copy_20151['p4a_1'] = df_copy_20151['p4a_1'].astype('int64')\n",
    "df_copy_20151.p4a_1.value_counts()"
   ]
  },
  {
   "cell_type": "markdown",
   "metadata": {},
   "source": [
    "## ** SÓLO PARA EL  ENTREVISTADOR( p4b)\n",
    "\n",
    "1 Es una actividad  agropecuaria\n",
    " 2 Es una institución educativa u hospital\n",
    " 3 Es una institución pública o una sin fines de lucro\n",
    " 4 Se trata de una actividad o negocio del sector privado\n",
    " 5 Aún no se puede  determinar "
   ]
  },
  {
   "cell_type": "code",
   "execution_count": 241,
   "metadata": {},
   "outputs": [],
   "source": [
    "df_copy_20151['p4b'].replace(to_replace=[' ', '99'],value='99',inplace=True)"
   ]
  },
  {
   "cell_type": "code",
   "execution_count": 242,
   "metadata": {},
   "outputs": [
    {
     "data": {
      "text/plain": [
       "99    889192\n",
       "4     120101\n",
       "1      14164\n",
       "3      12878\n",
       "2      12226\n",
       "5         14\n",
       "Name: p4b, dtype: int64"
      ]
     },
     "execution_count": 242,
     "metadata": {},
     "output_type": "execute_result"
    }
   ],
   "source": [
    "df_copy_20151['p4b'] = df_copy_20151['p4b'].astype('int64')\n",
    "df_copy_20151.p4b.value_counts()"
   ]
  },
  {
   "cell_type": "markdown",
   "metadata": {},
   "source": [
    "## Entonces ,¿estamos hablando de que este negocio es ?(p4c)\n",
    "1 de tipo independiente personal o familiar?\n",
    "2 una compañía o empresa del sector privado (sociedad mercantil:anónima o bajo otra modalidad; transnacional, cadena comercial,bancaria o de servicios)?\n",
    " 3 Ninguno de los anteriores\n",
    " 99 No sabe"
   ]
  },
  {
   "cell_type": "code",
   "execution_count": 243,
   "metadata": {},
   "outputs": [],
   "source": [
    "df_copy_20151['p4c'].replace(to_replace=[' ', '99'],value='99',inplace=True)"
   ]
  },
  {
   "cell_type": "code",
   "execution_count": 244,
   "metadata": {},
   "outputs": [
    {
     "data": {
      "text/plain": [
       "99    928460\n",
       "1      75737\n",
       "2      44367\n",
       "3         11\n",
       "Name: p4c, dtype: int64"
      ]
     },
     "execution_count": 244,
     "metadata": {},
     "output_type": "execute_result"
    }
   ],
   "source": [
    "df_copy_20151['p4c'] = df_copy_20151['p4c'].astype('int64')\n",
    "df_copy_20151.p4c.value_counts()"
   ]
  },
  {
   "cell_type": "markdown",
   "metadata": {},
   "source": [
    "##  Entonces,¿... trabaja para (p4d1)\n",
    "1 una institución de gobierno?\n",
    "2 una institución no administrada por el gobierno?\n",
    "99 No sabe"
   ]
  },
  {
   "cell_type": "code",
   "execution_count": 245,
   "metadata": {},
   "outputs": [],
   "source": [
    "df_copy_20151['p4d1'].replace(to_replace=[' ', '99'],value='99',inplace=True)"
   ]
  },
  {
   "cell_type": "code",
   "execution_count": 246,
   "metadata": {},
   "outputs": [],
   "source": [
    "df_copy_20151['p4d1'].replace(to_replace=['9', '99'],value='99',inplace=True)"
   ]
  },
  {
   "cell_type": "code",
   "execution_count": 247,
   "metadata": {},
   "outputs": [
    {
     "data": {
      "text/plain": [
       "99    1023464\n",
       "1       20334\n",
       "2        4777\n",
       "Name: p4d1, dtype: int64"
      ]
     },
     "execution_count": 247,
     "metadata": {},
     "output_type": "execute_result"
    }
   ],
   "source": [
    "df_copy_20151['p4d1'] = df_copy_20151['p4d1'].astype('int64')\n",
    "df_copy_20151.p4d1.value_counts()"
   ]
  },
  {
   "cell_type": "markdown",
   "metadata": {},
   "source": [
    "## Opciones de respuestas cuando p4d1=2(p4d2)\n",
    "1 Institución educativa u hospital particular\n",
    "2 Una institución autónoma\n",
    " y pública de estudios de\n",
    " nivel medio superior o\n",
    " superior (UNAM, UAM,\n",
    " UACH, universidades\n",
    " autónomas estatales)\n",
    "3 “Organismo autónomo\n",
    " (IFE, Institutos Estatales\n",
    " Electorales, Comisiones\n",
    " Nacionales o Estatales de\n",
    " Derechos Humanos)”\n",
    "4 “Iglesia, asociación\n",
    " profesional, cámara\n",
    " o sindicato”\n",
    "5 “Asociación civil no\n",
    "clasificada en las opciones\n",
    " anteriores”\n",
    "6 Organismo internacional\n",
    " Partido político\n",
    "8 Ninguna de las anteriores\n",
    "99 No sabe"
   ]
  },
  {
   "cell_type": "code",
   "execution_count": 248,
   "metadata": {},
   "outputs": [],
   "source": [
    "df_copy_20151['p4d2'].replace(to_replace=[' ', '99'],value='99',inplace=True)"
   ]
  },
  {
   "cell_type": "code",
   "execution_count": 249,
   "metadata": {},
   "outputs": [],
   "source": [
    "df_copy_20151['p4d2'].replace(to_replace=['9', '99'],value='99',inplace=True)"
   ]
  },
  {
   "cell_type": "code",
   "execution_count": 250,
   "metadata": {},
   "outputs": [
    {
     "data": {
      "text/plain": [
       "99    1023464\n",
       "3       10097\n",
       "5        4550\n",
       "6        2890\n",
       "1        2845\n",
       "4        2377\n",
       "2        2183\n",
       "7         169\n",
       "Name: p4d2, dtype: int64"
      ]
     },
     "execution_count": 250,
     "metadata": {},
     "output_type": "execute_result"
    }
   ],
   "source": [
    "df_copy_20151['p4d2'] = df_copy_20151['p4d2'].astype('int64')\n",
    "df_copy_20151.p4d2.value_counts()"
   ]
  },
  {
   "cell_type": "markdown",
   "metadata": {},
   "source": [
    "## Campo explusivo el sistema(p4d3)\n",
    "1-3, blanco Campo exclusivo del sistema"
   ]
  },
  {
   "cell_type": "code",
   "execution_count": 251,
   "metadata": {},
   "outputs": [],
   "source": [
    "df_copy_20151['p4d3'].replace(to_replace=[' ', '99'],value='99',inplace=True)"
   ]
  },
  {
   "cell_type": "code",
   "execution_count": 252,
   "metadata": {},
   "outputs": [
    {
     "data": {
      "text/plain": [
       "99    979154\n",
       "3      49868\n",
       "2      18640\n",
       "1        913\n",
       "Name: p4d3, dtype: int64"
      ]
     },
     "execution_count": 252,
     "metadata": {},
     "output_type": "execute_result"
    }
   ],
   "source": [
    "df_copy_20151['p4d3'] = df_copy_20151['p4d3'].astype('int64')\n",
    "df_copy_20151.p4d3.value_counts()"
   ]
  },
  {
   "cell_type": "markdown",
   "metadata": {},
   "source": [
    "## ¿El negocio o actividad(p4e)\n",
    "1 cuenta con establecimientp y oficina\n",
    "2 solo tiene oficina o\n",
    " despacho?\n",
    "3 solo tiene local?\n",
    "4 no tiene local, oficina o\n",
    " establecimiento?\n",
    "99 No sabe"
   ]
  },
  {
   "cell_type": "code",
   "execution_count": 253,
   "metadata": {},
   "outputs": [],
   "source": [
    "df_copy_20151['p4e'].replace(to_replace=[' ', '99'],value='99',inplace=True)"
   ]
  },
  {
   "cell_type": "code",
   "execution_count": 254,
   "metadata": {},
   "outputs": [],
   "source": [
    "df_copy_20151['p4e'].replace(to_replace=['9', '99'],value='99',inplace=True)"
   ]
  },
  {
   "cell_type": "code",
   "execution_count": 255,
   "metadata": {},
   "outputs": [
    {
     "data": {
      "text/plain": [
       "99    972875\n",
       "4      37783\n",
       "3      30790\n",
       "1       3808\n",
       "2       3319\n",
       "Name: p4e, dtype: int64"
      ]
     },
     "execution_count": 255,
     "metadata": {},
     "output_type": "execute_result"
    }
   ],
   "source": [
    "df_copy_20151['p4e'] = df_copy_20151['p4e'].astype('int64')\n",
    "df_copy_20151.p4e.value_counts()\n"
   ]
  },
  {
   "cell_type": "markdown",
   "metadata": {},
   "source": [
    "## Entonces,¿en dónde se realizan las actividades de este negocio?(p4f)\n",
    "\n",
    "1 En el campo, a cielo abierto,bordo,poza,mar \n",
    "2 Ambulante de casa en casa o en la calle\n",
    "3 Puesto improvisado\n",
    "4 En vehículo sin motor (bicicleta, triciclo, carretón,\n",
    " lancha)\n",
    "5 En vehículo motorizado (automóvil, motocicleta,\n",
    " camioneta)\n",
    "6 En su propio domicilio sin instalación especial\n",
    "7 En su propio domicilio con instalación especial\n",
    "8 En el domicilio o propie dad del patrón o en el\n",
    " lugar donde lo requieren los clientes\n",
    "9 Puesto semifijo\n",
    "10 Puesto fijo\n",
    "11 Otro lugar\n",
    "99 No sabe"
   ]
  },
  {
   "cell_type": "code",
   "execution_count": 256,
   "metadata": {},
   "outputs": [],
   "source": [
    "df_copy_20151['p4f'].replace(to_replace=['0', '99'],value='99',inplace=True)"
   ]
  },
  {
   "cell_type": "code",
   "execution_count": 257,
   "metadata": {},
   "outputs": [
    {
     "data": {
      "text/plain": [
       "99    1010759\n",
       "8       15633\n",
       "6        6973\n",
       "5        4206\n",
       "7        2395\n",
       "2        2309\n",
       "3        2054\n",
       "9        1973\n",
       "4         952\n",
       "10        592\n",
       "11        446\n",
       "1         283\n",
       "Name: p4f, dtype: int64"
      ]
     },
     "execution_count": 257,
     "metadata": {},
     "output_type": "execute_result"
    }
   ],
   "source": [
    "df_copy_20151['p4f'] = df_copy_20151['p4f'].astype('int64')\n",
    "df_copy_20151.p4f.value_counts()"
   ]
  },
  {
   "cell_type": "markdown",
   "metadata": {},
   "source": [
    "## En este negocio o actividad,(p4g)\n",
    "1 ¿se acude a los servicios de un contador para llevar las cuentas?\n",
    "2 ¿sólo se utiliza un cuaderno o una libreta de apuntes personales para llevar las cuentas?\n",
    "3 Aplica hasta periodo 415) Está inscrito en algún\n",
    " esquema o régimen para pequeños contribuyentes (Repecos) de la Secreta ría de Hacienda (lleva el cuadernillo de ingresos o utiliza la caja registradora)"
   ]
  },
  {
   "cell_type": "code",
   "execution_count": 258,
   "metadata": {},
   "outputs": [],
   "source": [
    "df_copy_20151['p4g'].replace(to_replace=[' ', '99'],value='99',inplace=True)"
   ]
  },
  {
   "cell_type": "code",
   "execution_count": 259,
   "metadata": {},
   "outputs": [],
   "source": [
    "df_copy_20151['p4g'].replace(to_replace=['9', '99'],value='99',inplace=True)"
   ]
  },
  {
   "cell_type": "code",
   "execution_count": 260,
   "metadata": {},
   "outputs": [
    {
     "data": {
      "text/plain": [
       "99    980204\n",
       "4      33844\n",
       "1      20855\n",
       "2       8770\n",
       "3       4902\n",
       "Name: p4g, dtype: int64"
      ]
     },
     "execution_count": 260,
     "metadata": {},
     "output_type": "execute_result"
    }
   ],
   "source": [
    "df_copy_20151['p4g'] = df_copy_20151['p4g'].astype('int64')\n",
    "df_copy_20151.p4g.value_counts()"
   ]
  },
  {
   "cell_type": "markdown",
   "metadata": {},
   "source": [
    "## ¿Normalmente en que lugar trabaja...? (p4h)\n",
    "1¿En las instalaciones (o vehiculos) de..?\n",
    "2 ¿En las instalaciones de otra empresa o institución a donde se le envía?\n",
    "3 ¿Visitando a distintos clientes?\n",
    "4 ¿En el lugar de la obra?\n",
    "5 Ninguna de las anteriores\n",
    "99 No sabe"
   ]
  },
  {
   "cell_type": "code",
   "execution_count": 261,
   "metadata": {},
   "outputs": [],
   "source": [
    "df_copy_20151['p4h'].replace(to_replace=[' ', '99'],value='99',inplace=True)"
   ]
  },
  {
   "cell_type": "code",
   "execution_count": 262,
   "metadata": {},
   "outputs": [],
   "source": [
    "df_copy_20151['p4h'].replace(to_replace=['9', '99'],value='99',inplace=True)"
   ]
  },
  {
   "cell_type": "code",
   "execution_count": 263,
   "metadata": {},
   "outputs": [
    {
     "data": {
      "text/plain": [
       "99    1000514\n",
       "1       40066\n",
       "2        3439\n",
       "4        2331\n",
       "3        2115\n",
       "5         110\n",
       "Name: p4h, dtype: int64"
      ]
     },
     "execution_count": 263,
     "metadata": {},
     "output_type": "execute_result"
    }
   ],
   "source": [
    "df_copy_20151['p4h'] = df_copy_20151['p4h'].astype('int64')\n",
    "df_copy_20151.p4h.value_counts()"
   ]
  },
  {
   "cell_type": "markdown",
   "metadata": {},
   "source": [
    "## La empresa a la que oertenece.. ¿tiene oficinas o establecimientos?(p4i)\n",
    "1 en otros países?\n",
    "2 únicamente de México  pero en varias ciudades del pais?\n",
    "3 solo en una ciudad?\n",
    "4 Se trata de un negocio\n",
    " que opera bajo la modali-\n",
    " dad de franquicia\n",
    "9 No sabe"
   ]
  },
  {
   "cell_type": "code",
   "execution_count": 264,
   "metadata": {},
   "outputs": [],
   "source": [
    "df_copy_20151['p4i'].replace(to_replace=[' ', '99'],value='99',inplace=True)"
   ]
  },
  {
   "cell_type": "code",
   "execution_count": 265,
   "metadata": {},
   "outputs": [],
   "source": [
    "df_copy_20151['p4i'].replace(to_replace=['9', '99'],value='99',inplace=True)"
   ]
  },
  {
   "cell_type": "code",
   "execution_count": 266,
   "metadata": {},
   "outputs": [
    {
     "data": {
      "text/plain": [
       "99    1001699\n",
       "3       18315\n",
       "2       17844\n",
       "1        9694\n",
       "4        1023\n",
       "Name: p4i, dtype: int64"
      ]
     },
     "execution_count": 266,
     "metadata": {},
     "output_type": "execute_result"
    }
   ],
   "source": [
    "df_copy_20151['p4i'] = df_copy_20151['p4i'].astype('int64')\n",
    "df_copy_20151.p4i.value_counts()"
   ]
  },
  {
   "cell_type": "markdown",
   "metadata": {},
   "source": [
    "## Campo exclusivo del sistema (p4i_1)\n",
    "1-3,blanco Campo exclusivo del sistema\n"
   ]
  },
  {
   "cell_type": "code",
   "execution_count": 267,
   "metadata": {},
   "outputs": [],
   "source": [
    "df_copy_20151['p4i_1'].replace(to_replace=[' ', '99'],value='99',inplace=True)"
   ]
  },
  {
   "cell_type": "code",
   "execution_count": 268,
   "metadata": {},
   "outputs": [
    {
     "data": {
      "text/plain": [
       "99    1000400\n",
       "3       47771\n",
       "1         325\n",
       "2          79\n",
       "Name: p4i_1, dtype: int64"
      ]
     },
     "execution_count": 268,
     "metadata": {},
     "output_type": "execute_result"
    }
   ],
   "source": [
    "df_copy_20151['p4i_1'] = df_copy_20151['p4i_1'].astype('int64')\n",
    "df_copy_20151.p4i_1.value_counts()"
   ]
  },
  {
   "cell_type": "markdown",
   "metadata": {},
   "source": [
    "## ¿La jornada de trabajo de ... es?(p5)\n",
    "1 de día ? (entre las 6 am y las 8 pm)\n",
    "2 de noche? (entre las 8 pm y las 6 am)\n",
    "3 mixta?\n",
    "4 rola turnos?\n",
    "99 No sabe"
   ]
  },
  {
   "cell_type": "code",
   "execution_count": 269,
   "metadata": {},
   "outputs": [],
   "source": [
    "df_copy_20151['p5'].replace(to_replace=[' ', '99'],value='99',inplace=True)"
   ]
  },
  {
   "cell_type": "code",
   "execution_count": 270,
   "metadata": {},
   "outputs": [],
   "source": [
    "df_copy_20151['p5'].replace(to_replace=['9', '99'],value='99',inplace=True)"
   ]
  },
  {
   "cell_type": "code",
   "execution_count": 271,
   "metadata": {},
   "outputs": [
    {
     "data": {
      "text/plain": [
       "99    895233\n",
       "1     136880\n",
       "3       7368\n",
       "4       6447\n",
       "2       2647\n",
       "Name: p5, dtype: int64"
      ]
     },
     "execution_count": 271,
     "metadata": {},
     "output_type": "execute_result"
    }
   ],
   "source": [
    "df_copy_20151['p5'] = df_copy_20151['p5'].astype('int64')\n",
    "df_copy_20151.p5.value_counts()"
   ]
  },
  {
   "cell_type": "markdown",
   "metadata": {},
   "source": [
    "## La semana pasada, ¿..tuvo poco trabajo que hacer?(p5a)\n",
    "1 Sí\n",
    "2 No trabajó la semana pasada\n",
    "3 No se encontró en esa situación\n",
    "99 No sabe"
   ]
  },
  {
   "cell_type": "code",
   "execution_count": 272,
   "metadata": {},
   "outputs": [],
   "source": [
    "df_copy_20151['p5a'].replace(to_replace=[' ', '99'],value='99',inplace=True)"
   ]
  },
  {
   "cell_type": "code",
   "execution_count": 273,
   "metadata": {},
   "outputs": [],
   "source": [
    "df_copy_20151['p5a'].replace(to_replace=['9', '99'],value='99',inplace=True)"
   ]
  },
  {
   "cell_type": "code",
   "execution_count": 274,
   "metadata": {},
   "outputs": [
    {
     "data": {
      "text/plain": [
       "3     520321\n",
       "99    475327\n",
       "1      37077\n",
       "2      15850\n",
       "Name: p5a, dtype: int64"
      ]
     },
     "execution_count": 274,
     "metadata": {},
     "output_type": "execute_result"
    }
   ],
   "source": [
    "df_copy_20151['p5a'] = df_copy_20151['p5a'].astype('int64')\n",
    "df_copy_20151.p5a.value_counts()"
   ]
  },
  {
   "cell_type": "markdown",
   "metadata": {},
   "source": [
    "## ¿Le preocupa a ... esta situación?(p5b)\n",
    "1 Sí\n",
    "2 Solo un poco\n",
    "3 No, porque así es su trabajo\n",
    "4 No, porque así es en esta época del año\n",
    "5 No, porque la considera una situación pasajera\n",
    "6 No, por otras razones\n",
    "99 No sabe"
   ]
  },
  {
   "cell_type": "code",
   "execution_count": 275,
   "metadata": {},
   "outputs": [],
   "source": [
    "df_copy_20151['p5b'].replace(to_replace=[' ', '99'],value='99',inplace=True)"
   ]
  },
  {
   "cell_type": "code",
   "execution_count": 276,
   "metadata": {},
   "outputs": [],
   "source": [
    "df_copy_20151['p5b'].replace(to_replace=['9', '99'],value='99',inplace=True)"
   ]
  },
  {
   "cell_type": "code",
   "execution_count": 277,
   "metadata": {},
   "outputs": [
    {
     "data": {
      "text/plain": [
       "99    1011573\n",
       "1       22197\n",
       "3        6855\n",
       "4        3516\n",
       "2        2060\n",
       "6        1973\n",
       "5         401\n",
       "Name: p5b, dtype: int64"
      ]
     },
     "execution_count": 277,
     "metadata": {},
     "output_type": "execute_result"
    }
   ],
   "source": [
    "df_copy_20151['p5b'] = df_copy_20151['p5b'].astype('int64')\n",
    "df_copy_20151.p5b.value_counts()"
   ]
  },
  {
   "cell_type": "markdown",
   "metadata": {},
   "source": [
    "# Pregunta 5C: ¿Qué días y cuántas horas le dedicó ... a su trabajo  la semana pasada? \n",
    "\n"
   ]
  },
  {
   "cell_type": "markdown",
   "metadata": {},
   "source": [
    "## Horas lunes (p5c_hlu)\n",
    "00-24 Número de horas en lunes\n",
    "98 Trabajó ese día pero no sabe cuanto tiempo\n",
    "99 No sabe si trabajó ese día"
   ]
  },
  {
   "cell_type": "code",
   "execution_count": 278,
   "metadata": {
    "scrolled": true
   },
   "outputs": [
    {
     "data": {
      "text/plain": [
       "99    490764\n",
       "8     206129\n",
       "10     64432\n",
       "0      55887\n",
       "9      54737\n",
       "6      39346\n",
       "12     32535\n",
       "7      26595\n",
       "5      19700\n",
       "4      18300\n",
       "3      10543\n",
       "11      8096\n",
       "2       7866\n",
       "1       2797\n",
       "98      2539\n",
       "14      2235\n",
       "16      1843\n",
       "13      1483\n",
       "15      1034\n",
       "18       599\n",
       "17       575\n",
       "24       477\n",
       "20        33\n",
       "19        24\n",
       "21         5\n",
       "22         1\n",
       "Name: p5c_hlu, dtype: int64"
      ]
     },
     "execution_count": 278,
     "metadata": {},
     "output_type": "execute_result"
    }
   ],
   "source": [
    "df_copy_20151['p5c_hlu'] = df_copy_20151['p5c_hlu'].astype('int64')\n",
    "df_copy_20151.p5c_hlu.value_counts()"
   ]
  },
  {
   "cell_type": "markdown",
   "metadata": {},
   "source": [
    "## Minutos lunes (p5c_mlu)\n",
    "00-59 Número de minutos en lunes"
   ]
  },
  {
   "cell_type": "code",
   "execution_count": 279,
   "metadata": {
    "scrolled": true
   },
   "outputs": [
    {
     "data": {
      "text/plain": [
       "0     546494\n",
       "99    490730\n",
       "30     10851\n",
       "40        91\n",
       "20        71\n",
       "15        61\n",
       "45        60\n",
       "36        55\n",
       "10        38\n",
       "1         26\n",
       "8         22\n",
       "50        19\n",
       "3         13\n",
       "5          9\n",
       "9          5\n",
       "6          5\n",
       "7          5\n",
       "12         4\n",
       "2          3\n",
       "24         2\n",
       "11         2\n",
       "35         2\n",
       "37         1\n",
       "21         1\n",
       "23         1\n",
       "33         1\n",
       "13         1\n",
       "58         1\n",
       "16         1\n",
       "Name: p5c_mlu, dtype: int64"
      ]
     },
     "execution_count": 279,
     "metadata": {},
     "output_type": "execute_result"
    }
   ],
   "source": [
    "df_copy_20151['p5c_mlu'] = df_copy_20151['p5c_mlu'].astype('int64')\n",
    "df_copy_20151.p5c_mlu.value_counts()"
   ]
  },
  {
   "cell_type": "markdown",
   "metadata": {},
   "source": [
    "## Horas martes (p5c_hma)\n",
    "00-24 Número de horas en martes\n",
    "98 Trabajó ese día pero no sabe cuanto tiempo\n",
    "99 No sabe si trabajó ese día\n"
   ]
  },
  {
   "cell_type": "code",
   "execution_count": 280,
   "metadata": {
    "scrolled": true
   },
   "outputs": [
    {
     "data": {
      "text/plain": [
       "99    490768\n",
       "8     207323\n",
       "10     64826\n",
       "0      57703\n",
       "9      55422\n",
       "6      39162\n",
       "12     31498\n",
       "7      27125\n",
       "5      19608\n",
       "4      17790\n",
       "3       9961\n",
       "11      8301\n",
       "2       7469\n",
       "1       2625\n",
       "98      2571\n",
       "14      2209\n",
       "13      1491\n",
       "16      1030\n",
       "15      1008\n",
       "17       270\n",
       "18       180\n",
       "24       169\n",
       "20        41\n",
       "19        18\n",
       "21         6\n",
       "22         1\n",
       "Name: p5c_hma, dtype: int64"
      ]
     },
     "execution_count": 280,
     "metadata": {},
     "output_type": "execute_result"
    }
   ],
   "source": [
    "df_copy_20151['p5c_hma'] = df_copy_20151['p5c_hma'].astype('int64')\n",
    "df_copy_20151.p5c_hma.value_counts()"
   ]
  },
  {
   "cell_type": "markdown",
   "metadata": {},
   "source": [
    "## Minutos martes (p5c_mma)\n",
    "00-59 Número de minutos en martes "
   ]
  },
  {
   "cell_type": "code",
   "execution_count": 281,
   "metadata": {
    "scrolled": true
   },
   "outputs": [
    {
     "data": {
      "text/plain": [
       "0     546285\n",
       "99    490730\n",
       "30     10984\n",
       "20        97\n",
       "40        88\n",
       "45        66\n",
       "15        60\n",
       "36        58\n",
       "10        49\n",
       "1         40\n",
       "8         30\n",
       "50        17\n",
       "9         11\n",
       "2         10\n",
       "3         10\n",
       "5         10\n",
       "6          7\n",
       "7          4\n",
       "12         3\n",
       "24         2\n",
       "35         2\n",
       "33         2\n",
       "11         2\n",
       "22         1\n",
       "13         1\n",
       "26         1\n",
       "25         1\n",
       "58         1\n",
       "21         1\n",
       "37         1\n",
       "17         1\n",
       "Name: p5c_mma, dtype: int64"
      ]
     },
     "execution_count": 281,
     "metadata": {},
     "output_type": "execute_result"
    }
   ],
   "source": [
    "df_copy_20151['p5c_mma'] = df_copy_20151['p5c_mma'].astype('int64')\n",
    "df_copy_20151.p5c_mma.value_counts()"
   ]
  },
  {
   "cell_type": "markdown",
   "metadata": {},
   "source": [
    "## Horas miércoles (p5c_hmi)\n",
    "00-24 Número de horas en miércoles\n",
    "98 Trabajó ese día pero no sabe cuanto tiempo\n",
    "99 No sabe si trabajó ese día"
   ]
  },
  {
   "cell_type": "code",
   "execution_count": 282,
   "metadata": {
    "scrolled": true
   },
   "outputs": [
    {
     "data": {
      "text/plain": [
       "99    490766\n",
       "8     207738\n",
       "10     65090\n",
       "9      55521\n",
       "0      51854\n",
       "6      39664\n",
       "12     32329\n",
       "7      27216\n",
       "5      20093\n",
       "4      18551\n",
       "3      10528\n",
       "11      8311\n",
       "2       7840\n",
       "1       2889\n",
       "98      2623\n",
       "14      2253\n",
       "13      1480\n",
       "16      1437\n",
       "15      1022\n",
       "17       443\n",
       "18       441\n",
       "24       411\n",
       "20        41\n",
       "19        27\n",
       "21         6\n",
       "23         1\n",
       "Name: p5c_hmi, dtype: int64"
      ]
     },
     "execution_count": 282,
     "metadata": {},
     "output_type": "execute_result"
    }
   ],
   "source": [
    "df_copy_20151['p5c_hmi'] = df_copy_20151['p5c_hmi'].astype('int64')\n",
    "df_copy_20151.p5c_hmi.value_counts()"
   ]
  },
  {
   "cell_type": "markdown",
   "metadata": {},
   "source": [
    "## Minutos miércoles (p5c_mmi)\n",
    "00-59 Número de minutos en miércoles "
   ]
  },
  {
   "cell_type": "code",
   "execution_count": 283,
   "metadata": {
    "scrolled": true
   },
   "outputs": [
    {
     "data": {
      "text/plain": [
       "0     546247\n",
       "99    490730\n",
       "30     11001\n",
       "20        92\n",
       "40        90\n",
       "45        64\n",
       "15        60\n",
       "36        58\n",
       "1         56\n",
       "10        52\n",
       "8         27\n",
       "50        20\n",
       "2         13\n",
       "5         12\n",
       "6         10\n",
       "3          8\n",
       "12         7\n",
       "9          6\n",
       "7          3\n",
       "24         2\n",
       "35         2\n",
       "13         2\n",
       "11         1\n",
       "21         1\n",
       "17         1\n",
       "46         1\n",
       "58         1\n",
       "23         1\n",
       "25         1\n",
       "26         1\n",
       "33         1\n",
       "37         1\n",
       "39         1\n",
       "41         1\n",
       "22         1\n",
       "Name: p5c_mmi, dtype: int64"
      ]
     },
     "execution_count": 283,
     "metadata": {},
     "output_type": "execute_result"
    }
   ],
   "source": [
    "df_copy_20151['p5c_mmi'] = df_copy_20151['p5c_mmi'].astype('int64')\n",
    "df_copy_20151.p5c_mmi.value_counts()"
   ]
  },
  {
   "cell_type": "markdown",
   "metadata": {},
   "source": [
    "## Horas jueves(p5c_hju)\n",
    "00-24 Número de horas jueves\n",
    "98 Trabajó ese día pero no sabe cuanto tiempo\n",
    "99 No sabe si trabajó ese día"
   ]
  },
  {
   "cell_type": "code",
   "execution_count": 284,
   "metadata": {
    "scrolled": true
   },
   "outputs": [
    {
     "data": {
      "text/plain": [
       "99    490768\n",
       "8     204832\n",
       "10     64414\n",
       "0      61514\n",
       "9      54550\n",
       "6      39002\n",
       "12     31403\n",
       "7      26833\n",
       "5      19725\n",
       "4      17850\n",
       "3       9924\n",
       "11      8197\n",
       "2       7433\n",
       "1       2730\n",
       "98      2582\n",
       "14      2201\n",
       "13      1461\n",
       "16      1278\n",
       "15       989\n",
       "17       320\n",
       "18       275\n",
       "24       219\n",
       "20        41\n",
       "19        25\n",
       "21         6\n",
       "22         2\n",
       "23         1\n",
       "Name: p5c_hju, dtype: int64"
      ]
     },
     "execution_count": 284,
     "metadata": {},
     "output_type": "execute_result"
    }
   ],
   "source": [
    "df_copy_20151['p5c_hju'] = df_copy_20151['p5c_hju'].astype('int64')\n",
    "df_copy_20151.p5c_hju.value_counts()"
   ]
  },
  {
   "cell_type": "markdown",
   "metadata": {},
   "source": [
    "## Minutos jueves  (p5c_mju)\n",
    "00-59 Número de minutos jueves"
   ]
  },
  {
   "cell_type": "code",
   "execution_count": 285,
   "metadata": {
    "scrolled": true
   },
   "outputs": [
    {
     "data": {
      "text/plain": [
       "0     546333\n",
       "99    490730\n",
       "30     10905\n",
       "20        86\n",
       "40        86\n",
       "45        68\n",
       "1         63\n",
       "15        59\n",
       "10        56\n",
       "36        55\n",
       "8         36\n",
       "50        18\n",
       "9         14\n",
       "5         13\n",
       "3         11\n",
       "2         10\n",
       "6          7\n",
       "7          7\n",
       "12         3\n",
       "35         2\n",
       "13         2\n",
       "24         2\n",
       "11         2\n",
       "33         1\n",
       "37         1\n",
       "58         1\n",
       "21         1\n",
       "26         1\n",
       "32         1\n",
       "41         1\n",
       "Name: p5c_mju, dtype: int64"
      ]
     },
     "execution_count": 285,
     "metadata": {},
     "output_type": "execute_result"
    }
   ],
   "source": [
    "df_copy_20151['p5c_mju'] = df_copy_20151['p5c_mju'].astype('int64')\n",
    "df_copy_20151.p5c_mju.value_counts()"
   ]
  },
  {
   "cell_type": "markdown",
   "metadata": {},
   "source": [
    "## Horas viernes  (p5c_hvi)\n",
    "00-24 Número de horas en viernes\n",
    "98 Trabajó ese día pero no sabe cuanto tiempo\n",
    "99 No sabe si trabajó ese día"
   ]
  },
  {
   "cell_type": "code",
   "execution_count": 286,
   "metadata": {
    "scrolled": true
   },
   "outputs": [
    {
     "data": {
      "text/plain": [
       "99    490766\n",
       "8     203953\n",
       "10     64157\n",
       "0      60570\n",
       "9      54186\n",
       "6      39199\n",
       "12     31227\n",
       "7      26785\n",
       "5      20106\n",
       "4      18226\n",
       "3      10311\n",
       "11      8068\n",
       "2       7829\n",
       "1       2777\n",
       "98      2604\n",
       "14      2240\n",
       "16      1607\n",
       "13      1472\n",
       "15      1012\n",
       "17       507\n",
       "18       468\n",
       "24       418\n",
       "20        51\n",
       "19        27\n",
       "21         8\n",
       "23         1\n",
       "Name: p5c_hvi, dtype: int64"
      ]
     },
     "execution_count": 286,
     "metadata": {},
     "output_type": "execute_result"
    }
   ],
   "source": [
    "df_copy_20151['p5c_hvi'] = df_copy_20151['p5c_hvi'].astype('int64')\n",
    "df_copy_20151.p5c_hvi.value_counts()"
   ]
  },
  {
   "cell_type": "markdown",
   "metadata": {},
   "source": [
    "## Minutos viernes  (p5c_mvi)\n",
    "00-59 Número de minutos en  viernes "
   ]
  },
  {
   "cell_type": "code",
   "execution_count": 287,
   "metadata": {
    "scrolled": true
   },
   "outputs": [
    {
     "data": {
      "text/plain": [
       "0     546476\n",
       "99    490730\n",
       "30     10761\n",
       "40        99\n",
       "20        89\n",
       "45        60\n",
       "1         58\n",
       "15        56\n",
       "36        52\n",
       "10        44\n",
       "8         33\n",
       "50        25\n",
       "2         15\n",
       "3         13\n",
       "6         12\n",
       "5         12\n",
       "9          8\n",
       "7          5\n",
       "22         4\n",
       "12         4\n",
       "33         3\n",
       "35         2\n",
       "4          2\n",
       "11         2\n",
       "24         2\n",
       "41         1\n",
       "26         1\n",
       "37         1\n",
       "13         1\n",
       "32         1\n",
       "58         1\n",
       "21         1\n",
       "16         1\n",
       "Name: p5c_mvi, dtype: int64"
      ]
     },
     "execution_count": 287,
     "metadata": {},
     "output_type": "execute_result"
    }
   ],
   "source": [
    "df_copy_20151['p5c_mvi'] = df_copy_20151['p5c_mvi'].astype('int64')\n",
    "df_copy_20151.p5c_mvi.value_counts()"
   ]
  },
  {
   "cell_type": "markdown",
   "metadata": {},
   "source": [
    "## Horas sábado (p5c_hsa)\n",
    "00-24 Número de horas en sábado\n",
    "98 Trabajó ese día pero no sabe cuanto tiempo\n",
    "99 No sabe si trabajó ese día"
   ]
  },
  {
   "cell_type": "code",
   "execution_count": 288,
   "metadata": {
    "scrolled": true
   },
   "outputs": [
    {
     "data": {
      "text/plain": [
       "99    490767\n",
       "0     196719\n",
       "8     117005\n",
       "6      52015\n",
       "5      39774\n",
       "10     36295\n",
       "12     24759\n",
       "9      23584\n",
       "4      20890\n",
       "7      18204\n",
       "3       8057\n",
       "2       5817\n",
       "11      4836\n",
       "98      2051\n",
       "14      2002\n",
       "1       1960\n",
       "13      1231\n",
       "16       965\n",
       "15       916\n",
       "17       261\n",
       "24       213\n",
       "18       178\n",
       "20        43\n",
       "19        21\n",
       "21         6\n",
       "22         5\n",
       "23         1\n",
       "Name: p5c_hsa, dtype: int64"
      ]
     },
     "execution_count": 288,
     "metadata": {},
     "output_type": "execute_result"
    }
   ],
   "source": [
    "df_copy_20151['p5c_hsa'] = df_copy_20151['p5c_hsa'].astype('int64')\n",
    "df_copy_20151.p5c_hsa.value_counts()"
   ]
  },
  {
   "cell_type": "markdown",
   "metadata": {},
   "source": [
    "## Minutos sábado  (p5c_msa)\n",
    "00-59 Número de minutos en sábado "
   ]
  },
  {
   "cell_type": "code",
   "execution_count": 289,
   "metadata": {
    "scrolled": true
   },
   "outputs": [
    {
     "data": {
      "text/plain": [
       "0     553673\n",
       "99    490730\n",
       "30      3907\n",
       "40        51\n",
       "20        44\n",
       "50        22\n",
       "10        22\n",
       "1         21\n",
       "15        21\n",
       "45        20\n",
       "8         12\n",
       "2          9\n",
       "3          9\n",
       "6          6\n",
       "5          5\n",
       "9          3\n",
       "14         2\n",
       "33         2\n",
       "4          2\n",
       "12         2\n",
       "11         2\n",
       "7          2\n",
       "43         1\n",
       "26         1\n",
       "24         1\n",
       "53         1\n",
       "16         1\n",
       "21         1\n",
       "23         1\n",
       "35         1\n",
       "Name: p5c_msa, dtype: int64"
      ]
     },
     "execution_count": 289,
     "metadata": {},
     "output_type": "execute_result"
    }
   ],
   "source": [
    "df_copy_20151['p5c_msa'] = df_copy_20151['p5c_msa'].astype('int64')\n",
    "df_copy_20151.p5c_msa.value_counts()"
   ]
  },
  {
   "cell_type": "markdown",
   "metadata": {},
   "source": [
    "## Horas domingo (p5c_hdo)\n",
    "00-24 Número de horas en domingo\n",
    "98 Trabajó ese día pero no sabe cuanto tiempo\n",
    "99 No sabe si trabajó ese día\n"
   ]
  },
  {
   "cell_type": "code",
   "execution_count": 290,
   "metadata": {},
   "outputs": [
    {
     "data": {
      "text/plain": [
       "99    490757\n",
       "0     424561\n",
       "8      41392\n",
       "12     16120\n",
       "10     16008\n",
       "6      12516\n",
       "9       9118\n",
       "5       7374\n",
       "4       6828\n",
       "7       6176\n",
       "3       4090\n",
       "2       3324\n",
       "11      2390\n",
       "1       1349\n",
       "14      1321\n",
       "16      1308\n",
       "98      1050\n",
       "13       809\n",
       "15       649\n",
       "18       467\n",
       "24       443\n",
       "17       423\n",
       "20        46\n",
       "22        26\n",
       "19        24\n",
       "21         6\n",
       "Name: p5c_hdo, dtype: int64"
      ]
     },
     "execution_count": 290,
     "metadata": {},
     "output_type": "execute_result"
    }
   ],
   "source": [
    "df_copy_20151['p5c_hdo'] = df_copy_20151['p5c_hdo'].astype('int64')\n",
    "df_copy_20151.p5c_hdo.value_counts()"
   ]
  },
  {
   "cell_type": "markdown",
   "metadata": {},
   "source": [
    "## Minutos domingo (p5c_mdo)\n",
    "00-59 Número de minutos en  domingo"
   ]
  },
  {
   "cell_type": "code",
   "execution_count": 291,
   "metadata": {},
   "outputs": [
    {
     "data": {
      "text/plain": [
       "0     555532\n",
       "99    490730\n",
       "30      1630\n",
       "1        381\n",
       "40        96\n",
       "2         69\n",
       "14        26\n",
       "20        22\n",
       "50        17\n",
       "10        16\n",
       "11        12\n",
       "15         8\n",
       "6          7\n",
       "45         6\n",
       "8          5\n",
       "22         5\n",
       "21         2\n",
       "7          2\n",
       "5          2\n",
       "3          2\n",
       "36         2\n",
       "9          1\n",
       "33         1\n",
       "13         1\n",
       "Name: p5c_mdo, dtype: int64"
      ]
     },
     "execution_count": 291,
     "metadata": {},
     "output_type": "execute_result"
    }
   ],
   "source": [
    "df_copy_20151['p5c_mdo'] = df_copy_20151['p5c_mdo'].astype('int64')\n",
    "df_copy_20151.p5c_mdo.value_counts()"
   ]
  },
  {
   "cell_type": "markdown",
   "metadata": {},
   "source": [
    "## Total de horas (p5c_thrs)\n",
    "001-998 Total de Número de horas en pregunta 5c\n",
    "999 No especificado\n"
   ]
  },
  {
   "cell_type": "code",
   "execution_count": 292,
   "metadata": {
    "scrolled": true
   },
   "outputs": [
    {
     "data": {
      "text/plain": [
       "99     490740\n",
       "48      96174\n",
       "40      63894\n",
       "45      29318\n",
       "60      28033\n",
       "30      20128\n",
       "50      19378\n",
       "56      18080\n",
       "54      17649\n",
       "36      17470\n",
       "24      16429\n",
       "42      15461\n",
       "72      13046\n",
       "35      13042\n",
       "46      11215\n",
       "70       8770\n",
       "84       8361\n",
       "20       8146\n",
       "32       7597\n",
       "12       7471\n",
       "25       7453\n",
       "18       7296\n",
       "44       6834\n",
       "55       6794\n",
       "16       6472\n",
       "51       6361\n",
       "28       4869\n",
       "15       4784\n",
       "66       4687\n",
       "10       4452\n",
       "        ...  \n",
       "93         26\n",
       "100        25\n",
       "120        17\n",
       "101        16\n",
       "104        14\n",
       "95         13\n",
       "106        11\n",
       "97          8\n",
       "168         7\n",
       "115         6\n",
       "133         5\n",
       "111         5\n",
       "110         5\n",
       "109         5\n",
       "103         4\n",
       "114         4\n",
       "129         3\n",
       "118         3\n",
       "107         3\n",
       "113         3\n",
       "132         3\n",
       "144         3\n",
       "122         2\n",
       "136         2\n",
       "140         1\n",
       "161         1\n",
       "116         1\n",
       "139         1\n",
       "117         1\n",
       "121         1\n",
       "Name: p5c_thrs, Length: 133, dtype: int64"
      ]
     },
     "execution_count": 292,
     "metadata": {},
     "output_type": "execute_result"
    }
   ],
   "source": [
    "df_copy_20151['p5c_thrs'] = df_copy_20151['p5c_thrs'].astype('int64')\n",
    "df_copy_20151.p5c_thrs.value_counts()"
   ]
  },
  {
   "cell_type": "markdown",
   "metadata": {},
   "source": [
    "## Total de días (p5c_tdia)\n",
    "1 - 7 Total de dias trabajados  a la semana\n",
    "9 Número de días no  especificado\n"
   ]
  },
  {
   "cell_type": "code",
   "execution_count": 293,
   "metadata": {},
   "outputs": [],
   "source": [
    "df_copy_20151['p5c_tdia'].replace(to_replace=[' ', '99'],value='99',inplace=True)"
   ]
  },
  {
   "cell_type": "code",
   "execution_count": 294,
   "metadata": {},
   "outputs": [
    {
     "data": {
      "text/plain": [
       "99    490730\n",
       "6     262000\n",
       "5     147153\n",
       "7      64460\n",
       "3      28810\n",
       "4      24029\n",
       "2      21157\n",
       "1       9438\n",
       "9        798\n",
       "Name: p5c_tdia, dtype: int64"
      ]
     },
     "execution_count": 294,
     "metadata": {},
     "output_type": "execute_result"
    }
   ],
   "source": [
    "df_copy_20151['p5c_tdia'] = df_copy_20151['p5c_tdia'].astype('int64')\n",
    "df_copy_20151.p5c_tdia.value_counts()"
   ]
  },
  {
   "cell_type": "markdown",
   "metadata": {},
   "source": [
    "## ¿Ese es el número de horas que habitualmente trabaja..-?(p5d)\n",
    "1 Sí\n",
    "2 No \n",
    "99 No sabe"
   ]
  },
  {
   "cell_type": "code",
   "execution_count": 295,
   "metadata": {},
   "outputs": [],
   "source": [
    "df_copy_20151['p5d'].replace(to_replace=[' ', '99'],value='99',inplace=True)"
   ]
  },
  {
   "cell_type": "code",
   "execution_count": 296,
   "metadata": {},
   "outputs": [],
   "source": [
    "df_copy_20151['p5d'].replace(to_replace=['9', '99'],value='99',inplace=True)"
   ]
  },
  {
   "cell_type": "code",
   "execution_count": 297,
   "metadata": {},
   "outputs": [
    {
     "data": {
      "text/plain": [
       "99    490807\n",
       "1     469226\n",
       "2      88542\n",
       "Name: p5d, dtype: int64"
      ]
     },
     "execution_count": 297,
     "metadata": {},
     "output_type": "execute_result"
    }
   ],
   "source": [
    "df_copy_20151['p5d'] = df_copy_20151['p5d'].astype('int64')\n",
    "df_copy_20151.p5d.value_counts()"
   ]
  },
  {
   "cell_type": "markdown",
   "metadata": {},
   "source": [
    "# Pregunta 5E: ¿Qué días y cuántas horas le dedica habitualmente ...  a su trabajo?\n"
   ]
  },
  {
   "cell_type": "markdown",
   "metadata": {},
   "source": [
    "## Horas y minutos o no tiene horario regurlar de trabajo (p5e1)\n",
    "1 si dió horas y/o minutos a la semana\n",
    "2 No tiene un horario regular de trabajo\n",
    "99 No sabe"
   ]
  },
  {
   "cell_type": "code",
   "execution_count": 298,
   "metadata": {},
   "outputs": [],
   "source": [
    "df_copy_20151['p5e1'].replace(to_replace=[' ', '99'],value='99',inplace=True)"
   ]
  },
  {
   "cell_type": "code",
   "execution_count": 299,
   "metadata": {},
   "outputs": [
    {
     "data": {
      "text/plain": [
       "99    944106\n",
       "2      67787\n",
       "1      36682\n",
       "Name: p5e1, dtype: int64"
      ]
     },
     "execution_count": 299,
     "metadata": {},
     "output_type": "execute_result"
    }
   ],
   "source": [
    "df_copy_20151['p5e1'] = df_copy_20151['p5e1'].astype('int64')\n",
    "df_copy_20151.p5e1.value_counts()"
   ]
  },
  {
   "cell_type": "markdown",
   "metadata": {},
   "source": [
    "## Horas lunes (p5e_hlu)\n",
    "00-59 Número de minutos en lunes "
   ]
  },
  {
   "cell_type": "code",
   "execution_count": 300,
   "metadata": {},
   "outputs": [
    {
     "data": {
      "text/plain": [
       "99    1011894\n",
       "8       15510\n",
       "10       3904\n",
       "9        3765\n",
       "6        2927\n",
       "7        2529\n",
       "5        1726\n",
       "0        1684\n",
       "12       1654\n",
       "4        1169\n",
       "3         541\n",
       "11        463\n",
       "2         296\n",
       "14        109\n",
       "1         109\n",
       "13         68\n",
       "98         63\n",
       "16         57\n",
       "15         31\n",
       "17         28\n",
       "18         22\n",
       "24         20\n",
       "20          4\n",
       "19          2\n",
       "Name: p5e_hlu, dtype: int64"
      ]
     },
     "execution_count": 300,
     "metadata": {},
     "output_type": "execute_result"
    }
   ],
   "source": [
    "df_copy_20151['p5e_hlu'] = df_copy_20151['p5e_hlu'].astype('int64')\n",
    "df_copy_20151.p5e_hlu.value_counts()"
   ]
  },
  {
   "cell_type": "markdown",
   "metadata": {},
   "source": [
    "## Minutos lunes (p5e_mlu)\n",
    "00-59 Número de minutos en lunes \n"
   ]
  },
  {
   "cell_type": "code",
   "execution_count": 301,
   "metadata": {},
   "outputs": [
    {
     "data": {
      "text/plain": [
       "99    1011893\n",
       "0       35579\n",
       "30       1036\n",
       "36         12\n",
       "40         11\n",
       "15         11\n",
       "45         10\n",
       "20         10\n",
       "8           4\n",
       "10          3\n",
       "1           2\n",
       "50          1\n",
       "35          1\n",
       "12          1\n",
       "5           1\n",
       "Name: p5e_mlu, dtype: int64"
      ]
     },
     "execution_count": 301,
     "metadata": {},
     "output_type": "execute_result"
    }
   ],
   "source": [
    "df_copy_20151['p5e_mlu'] = df_copy_20151['p5e_mlu'].astype('int64')\n",
    "df_copy_20151.p5e_mlu.value_counts()"
   ]
  },
  {
   "cell_type": "markdown",
   "metadata": {},
   "source": [
    "## Horas martes (p5e_hma)\n",
    "00-24 Número de horas en martes\n",
    "98 Trabajó ese día pero no sabe cuanto tiempo\n",
    "99 No sabe si trabajó ese día"
   ]
  },
  {
   "cell_type": "code",
   "execution_count": 302,
   "metadata": {},
   "outputs": [
    {
     "data": {
      "text/plain": [
       "99    1011894\n",
       "8       15568\n",
       "10       3923\n",
       "9        3797\n",
       "6        2910\n",
       "7        2545\n",
       "0        1800\n",
       "5        1716\n",
       "12       1629\n",
       "4        1137\n",
       "3         498\n",
       "11        460\n",
       "2         263\n",
       "14        108\n",
       "1         106\n",
       "13         69\n",
       "98         64\n",
       "15         34\n",
       "16         30\n",
       "17          8\n",
       "18          7\n",
       "20          4\n",
       "24          3\n",
       "21          1\n",
       "19          1\n",
       "Name: p5e_hma, dtype: int64"
      ]
     },
     "execution_count": 302,
     "metadata": {},
     "output_type": "execute_result"
    }
   ],
   "source": [
    "df_copy_20151['p5e_hma'] = df_copy_20151['p5e_hma'].astype('int64')\n",
    "df_copy_20151.p5e_hma.value_counts()"
   ]
  },
  {
   "cell_type": "markdown",
   "metadata": {},
   "source": [
    "## Minutos martes  (p5e_mma)\n",
    "00-59 Número de minutos en martes "
   ]
  },
  {
   "cell_type": "code",
   "execution_count": 303,
   "metadata": {},
   "outputs": [
    {
     "data": {
      "text/plain": [
       "99    1011893\n",
       "0       35588\n",
       "30       1027\n",
       "36         12\n",
       "40         11\n",
       "20         10\n",
       "15         10\n",
       "45          9\n",
       "10          4\n",
       "1           3\n",
       "5           2\n",
       "46          1\n",
       "35          1\n",
       "33          1\n",
       "50          1\n",
       "8           1\n",
       "6           1\n",
       "Name: p5e_mma, dtype: int64"
      ]
     },
     "execution_count": 303,
     "metadata": {},
     "output_type": "execute_result"
    }
   ],
   "source": [
    "df_copy_20151['p5e_mma'] = df_copy_20151['p5e_mma'].astype('int64')\n",
    "df_copy_20151.p5e_mma.value_counts()"
   ]
  },
  {
   "cell_type": "markdown",
   "metadata": {},
   "source": [
    "## Horas miércoles (p5e_hmi)\n",
    "00-24 Número de horas en miércoles\n",
    "98 Trabajó ese día pero no sabe cuanto tiempo\n",
    "99 No sabe si trabajó ese día"
   ]
  },
  {
   "cell_type": "code",
   "execution_count": 304,
   "metadata": {},
   "outputs": [
    {
     "data": {
      "text/plain": [
       "99    1011894\n",
       "8       15559\n",
       "10       3931\n",
       "9        3773\n",
       "6        2938\n",
       "7        2554\n",
       "5        1732\n",
       "12       1664\n",
       "0        1559\n",
       "4        1185\n",
       "3         524\n",
       "11        467\n",
       "2         295\n",
       "1         118\n",
       "14        107\n",
       "13         68\n",
       "98         64\n",
       "16         47\n",
       "15         32\n",
       "17         25\n",
       "24         19\n",
       "18         15\n",
       "20          3\n",
       "19          2\n",
       "Name: p5e_hmi, dtype: int64"
      ]
     },
     "execution_count": 304,
     "metadata": {},
     "output_type": "execute_result"
    }
   ],
   "source": [
    "df_copy_20151['p5e_hmi'] = df_copy_20151['p5e_hmi'].astype('int64')\n",
    "df_copy_20151.p5e_hmi.value_counts()"
   ]
  },
  {
   "cell_type": "markdown",
   "metadata": {},
   "source": [
    "## Minutos miércoles (p5e_mmi) \n",
    "00-59 Número de minutos en miércoles "
   ]
  },
  {
   "cell_type": "code",
   "execution_count": 305,
   "metadata": {},
   "outputs": [
    {
     "data": {
      "text/plain": [
       "99    1011893\n",
       "0       35579\n",
       "30       1035\n",
       "36         12\n",
       "20         12\n",
       "45         10\n",
       "40         10\n",
       "15         10\n",
       "10          4\n",
       "1           3\n",
       "8           2\n",
       "50          1\n",
       "35          1\n",
       "6           1\n",
       "5           1\n",
       "2           1\n",
       "Name: p5e_mmi, dtype: int64"
      ]
     },
     "execution_count": 305,
     "metadata": {},
     "output_type": "execute_result"
    }
   ],
   "source": [
    "df_copy_20151['p5e_mmi'] = df_copy_20151['p5e_mmi'].astype('int64')\n",
    "df_copy_20151.p5e_mmi.value_counts()"
   ]
  },
  {
   "cell_type": "markdown",
   "metadata": {},
   "source": [
    "## Horas jueves (p5e_hju)\n",
    "00-24 Número de horas en jueves\n",
    "98 Trabajó ese día pero no sabe cuanto tiempo\n",
    "99 No sabe si trabajó ese día"
   ]
  },
  {
   "cell_type": "code",
   "execution_count": 306,
   "metadata": {},
   "outputs": [
    {
     "data": {
      "text/plain": [
       "99    1011894\n",
       "8       15549\n",
       "10       3918\n",
       "9        3794\n",
       "6        2901\n",
       "7        2556\n",
       "0        1783\n",
       "5        1729\n",
       "12       1634\n",
       "4        1147\n",
       "3         492\n",
       "11        462\n",
       "2         261\n",
       "14        106\n",
       "1         105\n",
       "13         70\n",
       "98         66\n",
       "16         42\n",
       "15         33\n",
       "17         12\n",
       "18         11\n",
       "24          5\n",
       "20          4\n",
       "19          1\n",
       "Name: p5e_hju, dtype: int64"
      ]
     },
     "execution_count": 306,
     "metadata": {},
     "output_type": "execute_result"
    }
   ],
   "source": [
    "df_copy_20151['p5e_hju'] = df_copy_20151['p5e_hju'].astype('int64')\n",
    "df_copy_20151.p5e_hju.value_counts()"
   ]
  },
  {
   "cell_type": "markdown",
   "metadata": {},
   "source": [
    "## Minutos jueves (p5e_mju)\n",
    "00-59 Número de minutos en jueves "
   ]
  },
  {
   "cell_type": "code",
   "execution_count": 307,
   "metadata": {},
   "outputs": [
    {
     "data": {
      "text/plain": [
       "99    1011893\n",
       "0       35583\n",
       "30       1027\n",
       "36         12\n",
       "15         11\n",
       "45         10\n",
       "40         10\n",
       "20          9\n",
       "10          5\n",
       "1           5\n",
       "50          2\n",
       "5           2\n",
       "3           2\n",
       "35          1\n",
       "22          1\n",
       "11          1\n",
       "8           1\n",
       "Name: p5e_mju, dtype: int64"
      ]
     },
     "execution_count": 307,
     "metadata": {},
     "output_type": "execute_result"
    }
   ],
   "source": [
    "df_copy_20151['p5e_mju'] = df_copy_20151['p5e_mju'].astype('int64')\n",
    "df_copy_20151.p5e_mju.value_counts()"
   ]
  },
  {
   "cell_type": "markdown",
   "metadata": {},
   "source": [
    "## Minutos viernes (p5e_hvi)\n",
    "00-59 Número de minutos en viernes\n"
   ]
  },
  {
   "cell_type": "code",
   "execution_count": 308,
   "metadata": {},
   "outputs": [
    {
     "data": {
      "text/plain": [
       "99    1011894\n",
       "8       15653\n",
       "10       3959\n",
       "9        3810\n",
       "6        2951\n",
       "7        2567\n",
       "5        1764\n",
       "12       1603\n",
       "0        1420\n",
       "4        1189\n",
       "3         524\n",
       "11        457\n",
       "2         281\n",
       "1         114\n",
       "14        105\n",
       "13         72\n",
       "98         66\n",
       "16         46\n",
       "15         32\n",
       "17         29\n",
       "24         18\n",
       "18         16\n",
       "20          3\n",
       "19          2\n",
       "Name: p5e_hvi, dtype: int64"
      ]
     },
     "execution_count": 308,
     "metadata": {},
     "output_type": "execute_result"
    }
   ],
   "source": [
    "df_copy_20151['p5e_hvi'] = df_copy_20151['p5e_hvi'].astype('int64')\n",
    "df_copy_20151.p5e_hvi.value_counts()"
   ]
  },
  {
   "cell_type": "markdown",
   "metadata": {},
   "source": [
    "## Horas sábado (p5e_hsa)\n",
    "00-24 Número de horas en sábado\n",
    "98 Trabajó ese día pero no sabe cuanto tiempo\n",
    "99 No sabe si trabajó ese día"
   ]
  },
  {
   "cell_type": "code",
   "execution_count": 309,
   "metadata": {},
   "outputs": [
    {
     "data": {
      "text/plain": [
       "99    1011894\n",
       "0       16912\n",
       "8        6693\n",
       "6        3256\n",
       "5        2872\n",
       "10       1516\n",
       "9        1209\n",
       "12       1147\n",
       "4        1058\n",
       "7        1047\n",
       "3         276\n",
       "11        212\n",
       "2         152\n",
       "14         92\n",
       "1          54\n",
       "13         50\n",
       "98         43\n",
       "15         37\n",
       "16         29\n",
       "17         11\n",
       "18          7\n",
       "24          5\n",
       "20          2\n",
       "21          1\n",
       "Name: p5e_hsa, dtype: int64"
      ]
     },
     "execution_count": 309,
     "metadata": {},
     "output_type": "execute_result"
    }
   ],
   "source": [
    "df_copy_20151['p5e_hsa'] = df_copy_20151['p5e_hsa'].astype('int64')\n",
    "df_copy_20151.p5e_hsa.value_counts()"
   ]
  },
  {
   "cell_type": "markdown",
   "metadata": {},
   "source": [
    "## Minutos sábado(p5e_msa)\n",
    "00-59 Número de minutos en sábado"
   ]
  },
  {
   "cell_type": "code",
   "execution_count": 310,
   "metadata": {},
   "outputs": [
    {
     "data": {
      "text/plain": [
       "99    1011893\n",
       "0       36431\n",
       "30        232\n",
       "10          4\n",
       "15          3\n",
       "40          2\n",
       "20          2\n",
       "8           2\n",
       "50          1\n",
       "36          1\n",
       "33          1\n",
       "11          1\n",
       "5           1\n",
       "1           1\n",
       "Name: p5e_msa, dtype: int64"
      ]
     },
     "execution_count": 310,
     "metadata": {},
     "output_type": "execute_result"
    }
   ],
   "source": [
    "df_copy_20151['p5e_msa'] = df_copy_20151['p5e_msa'].astype('int64')\n",
    "df_copy_20151.p5e_msa.value_counts()"
   ]
  },
  {
   "cell_type": "markdown",
   "metadata": {},
   "source": [
    "## Horas domingo (p5e_hdo)\n",
    "00-24 Número de horas en domingo\n",
    "98 Trabajó ese día pero no sabe cuanto tiempo\n",
    "99 No sabe si trabajó ese día"
   ]
  },
  {
   "cell_type": "code",
   "execution_count": 311,
   "metadata": {},
   "outputs": [
    {
     "data": {
      "text/plain": [
       "99    1011894\n",
       "0       31916\n",
       "8        1588\n",
       "12        666\n",
       "10        509\n",
       "6         425\n",
       "9         328\n",
       "5         250\n",
       "7         249\n",
       "4         209\n",
       "3         113\n",
       "11         94\n",
       "2          71\n",
       "14         59\n",
       "16         43\n",
       "1          32\n",
       "13         28\n",
       "98         25\n",
       "17         23\n",
       "24         19\n",
       "15         17\n",
       "18         14\n",
       "19          2\n",
       "21          1\n",
       "Name: p5e_hdo, dtype: int64"
      ]
     },
     "execution_count": 311,
     "metadata": {},
     "output_type": "execute_result"
    }
   ],
   "source": [
    "df_copy_20151['p5e_hdo'] = df_copy_20151['p5e_hdo'].astype('int64')\n",
    "df_copy_20151.p5e_hdo.value_counts()"
   ]
  },
  {
   "cell_type": "markdown",
   "metadata": {},
   "source": [
    "## Minutos domingo (p5e_mdo)\n",
    "00-59 Número de minutos en domingo"
   ]
  },
  {
   "cell_type": "code",
   "execution_count": 312,
   "metadata": {},
   "outputs": [
    {
     "data": {
      "text/plain": [
       "99    1011893\n",
       "0       36595\n",
       "30         71\n",
       "1           8\n",
       "14          2\n",
       "8           2\n",
       "40          1\n",
       "22          1\n",
       "20          1\n",
       "10          1\n",
       "Name: p5e_mdo, dtype: int64"
      ]
     },
     "execution_count": 312,
     "metadata": {},
     "output_type": "execute_result"
    }
   ],
   "source": [
    "df_copy_20151['p5e_mdo'] = df_copy_20151['p5e_mdo'].astype('int64')\n",
    "df_copy_20151.p5e_mdo.value_counts()"
   ]
  },
  {
   "cell_type": "markdown",
   "metadata": {},
   "source": [
    "## Total de horas (p5e_thrs)\n",
    "001-998 Total de Número de horas\n",
    "999 No especificado\n"
   ]
  },
  {
   "cell_type": "code",
   "execution_count": 313,
   "metadata": {
    "scrolled": true
   },
   "outputs": [
    {
     "data": {
      "text/plain": [
       "99     1011894\n",
       "40        6703\n",
       "48        5973\n",
       "45        2387\n",
       "30        2046\n",
       "50        1708\n",
       "35        1663\n",
       "60        1404\n",
       "25        1164\n",
       "56        1032\n",
       "54        1027\n",
       "46         891\n",
       "36         848\n",
       "42         840\n",
       "20         645\n",
       "72         638\n",
       "55         569\n",
       "51         532\n",
       "24         495\n",
       "44         449\n",
       "84         386\n",
       "70         318\n",
       "15         290\n",
       "66         245\n",
       "18         238\n",
       "32         224\n",
       "12         217\n",
       "10         204\n",
       "47         199\n",
       "49         192\n",
       "        ...   \n",
       "31          14\n",
       "13          13\n",
       "1           13\n",
       "80          13\n",
       "29          13\n",
       "88          12\n",
       "105         11\n",
       "11          11\n",
       "74          10\n",
       "71           7\n",
       "112          7\n",
       "82           5\n",
       "75           5\n",
       "76           5\n",
       "73           4\n",
       "92           4\n",
       "126          3\n",
       "79           3\n",
       "95           2\n",
       "100          2\n",
       "108          2\n",
       "94           2\n",
       "119          2\n",
       "168          2\n",
       "81           1\n",
       "93           1\n",
       "102          1\n",
       "103          1\n",
       "85           1\n",
       "87           1\n",
       "Name: p5e_thrs, Length: 106, dtype: int64"
      ]
     },
     "execution_count": 313,
     "metadata": {},
     "output_type": "execute_result"
    }
   ],
   "source": [
    "df_copy_20151['p5e_thrs'] = df_copy_20151['p5e_thrs'].astype('int64')\n",
    "df_copy_20151.p5e_thrs.value_counts()"
   ]
  },
  {
   "cell_type": "markdown",
   "metadata": {},
   "source": [
    "## Total de días (campo adicional contenido en la base de datos) (p5e_tdia)\n",
    "1-7 total de días trabajados en la semana\n",
    "99 Número  de dás no especificado"
   ]
  },
  {
   "cell_type": "code",
   "execution_count": 314,
   "metadata": {},
   "outputs": [],
   "source": [
    "df_copy_20151['p5e_tdia'].replace(to_replace=[' ', '99'],value='99',inplace=True)"
   ]
  },
  {
   "cell_type": "code",
   "execution_count": 315,
   "metadata": {},
   "outputs": [],
   "source": [
    "df_copy_20151['p5e_tdia'].replace(to_replace=['9', '99'],value='99',inplace=True)"
   ]
  },
  {
   "cell_type": "code",
   "execution_count": 316,
   "metadata": {},
   "outputs": [
    {
     "data": {
      "text/plain": [
       "99    1011908\n",
       "6       16617\n",
       "5       15689\n",
       "7        2258\n",
       "3         706\n",
       "4         565\n",
       "2         518\n",
       "1         314\n",
       "Name: p5e_tdia, dtype: int64"
      ]
     },
     "execution_count": 316,
     "metadata": {},
     "output_type": "execute_result"
    }
   ],
   "source": [
    "df_copy_20151['p5e_tdia'] = df_copy_20151['p5e_tdia'].astype('int64')\n",
    "df_copy_20151.p5e_tdia.value_counts()"
   ]
  },
  {
   "cell_type": "markdown",
   "metadata": {},
   "source": [
    "## ¿Cuál es el motivo principal por el que la semana pasada... no trabajo las horas habituales?(p5f)\n",
    "1 Exceso de trabajo\n",
    "2 Obtener más ingresos\n",
    "3 Horas extras\n",
    "4 Temporada alta (clientes, ventas, siembra o cosecha) \n",
    "5 Reducción o suspensión\n",
    " del trabajo (falta de ven\n",
    " tas o clientes, temporada\n",
    " baja, paro técnico)\n",
    "6 Término del contrato o\n",
    " temporada de trabajo\n",
    "7 Causas climatológicas\n",
    "8 Vacaciones o días festivos\n",
    "9 Enfermedad o accidente\n",
    "10 Cuidar o atender a niños,\n",
    " enfermos o ancianos\n",
    "11 Otros motivos personales\n",
    " o familiares\n",
    "12 Ninguno de los anteriores\n",
    "99 No sabe"
   ]
  },
  {
   "cell_type": "code",
   "execution_count": 317,
   "metadata": {},
   "outputs": [],
   "source": [
    "df_copy_20151['p5f'].replace(to_replace=['0', '99'],value='99',inplace=True)"
   ]
  },
  {
   "cell_type": "code",
   "execution_count": 318,
   "metadata": {},
   "outputs": [
    {
     "data": {
      "text/plain": [
       "99    1026110\n",
       "8       14439\n",
       "5        2318\n",
       "3        1065\n",
       "1        1010\n",
       "12        996\n",
       "7         843\n",
       "11        641\n",
       "9         581\n",
       "4         230\n",
       "10        144\n",
       "6         127\n",
       "2          71\n",
       "Name: p5f, dtype: int64"
      ]
     },
     "execution_count": 318,
     "metadata": {},
     "output_type": "execute_result"
    }
   ],
   "source": [
    "df_copy_20151['p5f'] = df_copy_20151['p5f'].astype('int64')\n",
    "df_copy_20151.p5f.value_counts()"
   ]
  },
  {
   "cell_type": "markdown",
   "metadata": {},
   "source": [
    "# Pregunta 5G: ¿En que meses del año … realiza este trabajo?"
   ]
  },
  {
   "cell_type": "markdown",
   "metadata": {},
   "source": [
    "## Opción 1: enero C  (p5g1)\n",
    "01 Enero\n",
    "99 No sabe"
   ]
  },
  {
   "cell_type": "code",
   "execution_count": 319,
   "metadata": {},
   "outputs": [],
   "source": [
    "df_copy_20151['p5g1'].replace(to_replace=['0', '99'],value='99',inplace=True)"
   ]
  },
  {
   "cell_type": "code",
   "execution_count": 320,
   "metadata": {},
   "outputs": [
    {
     "data": {
      "text/plain": [
       "99    1047971\n",
       "1         604\n",
       "Name: p5g1, dtype: int64"
      ]
     },
     "execution_count": 320,
     "metadata": {},
     "output_type": "execute_result"
    }
   ],
   "source": [
    "df_copy_20151['p5g1'] = df_copy_20151['p5g1'].astype('int64')\n",
    "df_copy_20151.p5g1.value_counts()"
   ]
  },
  {
   "cell_type": "markdown",
   "metadata": {},
   "source": [
    "## Opción 2: febrero (p5g2)\n",
    "2 Febrero\n",
    "99 No sabe"
   ]
  },
  {
   "cell_type": "code",
   "execution_count": 321,
   "metadata": {},
   "outputs": [
    {
     "data": {
      "text/plain": [
       "99    1047953\n",
       "2         622\n",
       "Name: p5g2, dtype: int64"
      ]
     },
     "execution_count": 321,
     "metadata": {},
     "output_type": "execute_result"
    }
   ],
   "source": [
    "df_copy_20151['p5g2'] = df_copy_20151['p5g2'].astype('int64')\n",
    "df_copy_20151.p5g2.value_counts()"
   ]
  },
  {
   "cell_type": "markdown",
   "metadata": {},
   "source": [
    "## Opción 3: marzo  (p5g3)\n",
    "3 marzo\n",
    "99 No sabe"
   ]
  },
  {
   "cell_type": "code",
   "execution_count": 322,
   "metadata": {},
   "outputs": [],
   "source": [
    "df_copy_20151['p5g3'].replace(to_replace=['0', '99'],value='99',inplace=True)"
   ]
  },
  {
   "cell_type": "code",
   "execution_count": 323,
   "metadata": {},
   "outputs": [
    {
     "data": {
      "text/plain": [
       "99    1047819\n",
       "3         756\n",
       "Name: p5g3, dtype: int64"
      ]
     },
     "execution_count": 323,
     "metadata": {},
     "output_type": "execute_result"
    }
   ],
   "source": [
    "df_copy_20151['p5g3'] = df_copy_20151['p5g3'].astype('int64')\n",
    "df_copy_20151.p5g3.value_counts()"
   ]
  },
  {
   "cell_type": "markdown",
   "metadata": {},
   "source": [
    "## Opción 4: abril  (p5g4)\n",
    "4 abril\n",
    "99 No sabe"
   ]
  },
  {
   "cell_type": "code",
   "execution_count": 324,
   "metadata": {},
   "outputs": [],
   "source": [
    "df_copy_20151['p5g4'].replace(to_replace=['0', '99'],value='99',inplace=True)"
   ]
  },
  {
   "cell_type": "code",
   "execution_count": 325,
   "metadata": {},
   "outputs": [
    {
     "data": {
      "text/plain": [
       "99    1047738\n",
       "4         837\n",
       "Name: p5g4, dtype: int64"
      ]
     },
     "execution_count": 325,
     "metadata": {},
     "output_type": "execute_result"
    }
   ],
   "source": [
    "df_copy_20151['p5g4'] = df_copy_20151['p5g4'].astype('int64')\n",
    "df_copy_20151.p5g4.value_counts()"
   ]
  },
  {
   "cell_type": "markdown",
   "metadata": {},
   "source": [
    "## Opción 6: junio   (p5g6)\n",
    "6 junio\n",
    "99 No sabe"
   ]
  },
  {
   "cell_type": "code",
   "execution_count": 326,
   "metadata": {},
   "outputs": [],
   "source": [
    "df_copy_20151['p5g6'].replace(to_replace=['0', '99'],value='99',inplace=True)"
   ]
  },
  {
   "cell_type": "code",
   "execution_count": 327,
   "metadata": {},
   "outputs": [
    {
     "data": {
      "text/plain": [
       "99    1047275\n",
       "6        1300\n",
       "Name: p5g6, dtype: int64"
      ]
     },
     "execution_count": 327,
     "metadata": {},
     "output_type": "execute_result"
    }
   ],
   "source": [
    "df_copy_20151['p5g6'] = df_copy_20151['p5g6'].astype('int64')\n",
    "df_copy_20151.p5g6.value_counts()"
   ]
  },
  {
   "cell_type": "markdown",
   "metadata": {},
   "source": [
    "## Opción 7: julio  (p5g7)\n",
    "7 julio \n",
    "99 No sabe"
   ]
  },
  {
   "cell_type": "code",
   "execution_count": 328,
   "metadata": {},
   "outputs": [],
   "source": [
    "df_copy_20151['p5g7'].replace(to_replace=['0', '99'],value='99',inplace=True)"
   ]
  },
  {
   "cell_type": "code",
   "execution_count": 329,
   "metadata": {},
   "outputs": [
    {
     "data": {
      "text/plain": [
       "99    1047247\n",
       "7        1328\n",
       "Name: p5g7, dtype: int64"
      ]
     },
     "execution_count": 329,
     "metadata": {},
     "output_type": "execute_result"
    }
   ],
   "source": [
    "df_copy_20151['p5g7'] = df_copy_20151['p5g7'].astype('int64')\n",
    "df_copy_20151.p5g7.value_counts()"
   ]
  },
  {
   "cell_type": "markdown",
   "metadata": {},
   "source": [
    "## Opción 8: agosto   (p5g8)\n",
    "8 agosto\n",
    "99 No sabe"
   ]
  },
  {
   "cell_type": "code",
   "execution_count": 330,
   "metadata": {},
   "outputs": [],
   "source": [
    "df_copy_20151['p5g8'].replace(to_replace=['0', '99'],value='99',inplace=True)"
   ]
  },
  {
   "cell_type": "code",
   "execution_count": 331,
   "metadata": {},
   "outputs": [
    {
     "data": {
      "text/plain": [
       "99    1047270\n",
       "8        1305\n",
       "Name: p5g8, dtype: int64"
      ]
     },
     "execution_count": 331,
     "metadata": {},
     "output_type": "execute_result"
    }
   ],
   "source": [
    "df_copy_20151['p5g8'] = df_copy_20151['p5g8'].astype('int64')\n",
    "df_copy_20151.p5g8.value_counts()"
   ]
  },
  {
   "cell_type": "markdown",
   "metadata": {},
   "source": [
    "## Opción 9: septiembre  (p5g9)\n",
    "9 Septiembre \n",
    "99 No sabe"
   ]
  },
  {
   "cell_type": "code",
   "execution_count": 332,
   "metadata": {},
   "outputs": [],
   "source": [
    "df_copy_20151['p5g9'].replace(to_replace=['0', '99'],value='99',inplace=True)"
   ]
  },
  {
   "cell_type": "code",
   "execution_count": 333,
   "metadata": {},
   "outputs": [
    {
     "data": {
      "text/plain": [
       "99    1047448\n",
       "9        1127\n",
       "Name: p5g9, dtype: int64"
      ]
     },
     "execution_count": 333,
     "metadata": {},
     "output_type": "execute_result"
    }
   ],
   "source": [
    "df_copy_20151['p5g9'] = df_copy_20151['p5g9'].astype('int64')\n",
    "df_copy_20151.p5g9.value_counts()"
   ]
  },
  {
   "cell_type": "markdown",
   "metadata": {},
   "source": [
    "## Opción 10: octubre  (p5g10)\n",
    "10 octubre\n",
    "99 No sabe"
   ]
  },
  {
   "cell_type": "code",
   "execution_count": 334,
   "metadata": {},
   "outputs": [],
   "source": [
    "df_copy_20151['p5g10'].replace(to_replace=['0', '99'],value='99',inplace=True)"
   ]
  },
  {
   "cell_type": "code",
   "execution_count": 335,
   "metadata": {},
   "outputs": [
    {
     "data": {
      "text/plain": [
       "99    1047471\n",
       "10       1104\n",
       "Name: p5g10, dtype: int64"
      ]
     },
     "execution_count": 335,
     "metadata": {},
     "output_type": "execute_result"
    }
   ],
   "source": [
    "df_copy_20151['p5g10'] = df_copy_20151['p5g10'].astype('int64')\n",
    "df_copy_20151.p5g10.value_counts()"
   ]
  },
  {
   "cell_type": "markdown",
   "metadata": {},
   "source": [
    "## Opción 11: noviembre(p5g11)\n",
    "11 Noviembre\n",
    "99 No sabe"
   ]
  },
  {
   "cell_type": "code",
   "execution_count": 336,
   "metadata": {},
   "outputs": [],
   "source": [
    "df_copy_20151['p5g11'].replace(to_replace=['0', '99'],value='99',inplace=True)"
   ]
  },
  {
   "cell_type": "code",
   "execution_count": 337,
   "metadata": {},
   "outputs": [
    {
     "data": {
      "text/plain": [
       "99    1047495\n",
       "11       1080\n",
       "Name: p5g11, dtype: int64"
      ]
     },
     "execution_count": 337,
     "metadata": {},
     "output_type": "execute_result"
    }
   ],
   "source": [
    "df_copy_20151['p5g11'] = df_copy_20151['p5g11'].astype('int64')\n",
    "df_copy_20151.p5g11.value_counts()"
   ]
  },
  {
   "cell_type": "markdown",
   "metadata": {},
   "source": [
    "## Opción 12: diciembre  (p5g12)\n",
    "12 diciembre\n",
    "99 No sabe\n"
   ]
  },
  {
   "cell_type": "code",
   "execution_count": 338,
   "metadata": {},
   "outputs": [],
   "source": [
    "df_copy_20151['p5g12'].replace(to_replace=['0', '99'],value='99',inplace=True)"
   ]
  },
  {
   "cell_type": "code",
   "execution_count": 339,
   "metadata": {},
   "outputs": [
    {
     "data": {
      "text/plain": [
       "99    1047667\n",
       "12        908\n",
       "Name: p5g12, dtype: int64"
      ]
     },
     "execution_count": 339,
     "metadata": {},
     "output_type": "execute_result"
    }
   ],
   "source": [
    "df_copy_20151['p5g12'] = df_copy_20151['p5g12'].astype('int64')\n",
    "df_copy_20151.p5g12.value_counts()"
   ]
  },
  {
   "cell_type": "markdown",
   "metadata": {},
   "source": [
    "## Opción 13: Varían los meses en que trabaja  (p5g13)\n",
    "13 Varían los meses en que trabaja\n",
    "99 No sabe"
   ]
  },
  {
   "cell_type": "code",
   "execution_count": 340,
   "metadata": {},
   "outputs": [],
   "source": [
    "df_copy_20151['p5g13'].replace(to_replace=['0', '99'],value='99',inplace=True)"
   ]
  },
  {
   "cell_type": "code",
   "execution_count": 341,
   "metadata": {},
   "outputs": [
    {
     "data": {
      "text/plain": [
       "99    1043970\n",
       "13       4605\n",
       "Name: p5g13, dtype: int64"
      ]
     },
     "execution_count": 341,
     "metadata": {},
     "output_type": "execute_result"
    }
   ],
   "source": [
    "df_copy_20151['p5g13'] = df_copy_20151['p5g13'].astype('int64')\n",
    "df_copy_20151.p5g13.value_counts()"
   ]
  },
  {
   "cell_type": "markdown",
   "metadata": {},
   "source": [
    "## Opción 14: Trabaja todos los meses del año (p5g14)\n",
    "14 Trabaja todos los meses del año\n",
    "99 No sabe"
   ]
  },
  {
   "cell_type": "code",
   "execution_count": 342,
   "metadata": {},
   "outputs": [],
   "source": [
    "df_copy_20151['p5g14'].replace(to_replace=['0', '99'],value='99',inplace=True)"
   ]
  },
  {
   "cell_type": "code",
   "execution_count": 343,
   "metadata": {},
   "outputs": [
    {
     "data": {
      "text/plain": [
       "99    560304\n",
       "14    488271\n",
       "Name: p5g14, dtype: int64"
      ]
     },
     "execution_count": 343,
     "metadata": {},
     "output_type": "execute_result"
    }
   ],
   "source": [
    "df_copy_20151['p5g14'] = df_copy_20151['p5g14'].astype('int64')\n",
    "df_copy_20151.p5g14.value_counts()"
   ]
  },
  {
   "cell_type": "markdown",
   "metadata": {},
   "source": [
    "## Opción 15: Tiene menos de un año en este trabajo  (p5g15)\n",
    "15 Tiene menos de un año en este trabajo\n",
    "99 No sabe"
   ]
  },
  {
   "cell_type": "code",
   "execution_count": 344,
   "metadata": {},
   "outputs": [],
   "source": [
    "df_copy_20151['p5g15'].replace(to_replace=['0', '99'],value='99',inplace=True)"
   ]
  },
  {
   "cell_type": "code",
   "execution_count": 345,
   "metadata": {},
   "outputs": [
    {
     "data": {
      "text/plain": [
       "99    969893\n",
       "15     78682\n",
       "Name: p5g15, dtype: int64"
      ]
     },
     "execution_count": 345,
     "metadata": {},
     "output_type": "execute_result"
    }
   ],
   "source": [
    "df_copy_20151['p5g15'] = df_copy_20151['p5g15'].astype('int64')\n",
    "df_copy_20151.p5g15.value_counts()"
   ]
  },
  {
   "cell_type": "markdown",
   "metadata": {},
   "source": [
    "## Opción 99: no sabe (p5g99)\n",
    "99 No sabe"
   ]
  },
  {
   "cell_type": "code",
   "execution_count": 346,
   "metadata": {},
   "outputs": [],
   "source": [
    "df_copy_20151['p5g99'].replace(to_replace=['0', '99'],value='99',inplace=True)"
   ]
  },
  {
   "cell_type": "code",
   "execution_count": 347,
   "metadata": {},
   "outputs": [
    {
     "data": {
      "text/plain": [
       "99    1048575\n",
       "Name: p5g99, dtype: int64"
      ]
     },
     "execution_count": 347,
     "metadata": {},
     "output_type": "execute_result"
    }
   ],
   "source": [
    "df_copy_20151['p5g99'] = df_copy_20151['p5g99'].astype('int64')\n",
    "df_copy_20151.p5g99.value_counts()"
   ]
  },
  {
   "cell_type": "markdown",
   "metadata": {},
   "source": [
    "##  ¿Cuál es el motivo principal por el que ... no trabaja  todos los meses del año? (p5h)\n",
    "1 Trabaja solo cuando lo llaman o solicitan sus servicios\n",
    "2 Sólo hay trabajo durante algunas épocas o temporadas del año\n",
    "3 Trabaja solo en periodos de vacaciones escolares\n",
    "4 No necesita trabajar todo el año\n",
    "5 Motivos personales o familiares\n",
    "6 Otro motivo\n",
    "9 No sabe"
   ]
  },
  {
   "cell_type": "code",
   "execution_count": 348,
   "metadata": {},
   "outputs": [],
   "source": [
    "df_copy_20151['p5h'].replace(to_replace=[' ', '99'],value='99',inplace=True)"
   ]
  },
  {
   "cell_type": "code",
   "execution_count": 349,
   "metadata": {},
   "outputs": [
    {
     "data": {
      "text/plain": [
       "99    1047073\n",
       "2         899\n",
       "1         456\n",
       "3          63\n",
       "6          35\n",
       "5          20\n",
       "9          17\n",
       "4          12\n",
       "Name: p5h, dtype: int64"
      ]
     },
     "execution_count": 349,
     "metadata": {},
     "output_type": "execute_result"
    }
   ],
   "source": [
    "df_copy_20151['p5h'] = df_copy_20151['p5h'].astype('int64')\n",
    "df_copy_20151.p5h.value_counts()"
   ]
  },
  {
   "cell_type": "markdown",
   "metadata": {},
   "source": [
    "## Campo exclusivo del sistema  (ur)\n",
    "1,2  Campo exclusivo del sistema"
   ]
  },
  {
   "cell_type": "code",
   "execution_count": 350,
   "metadata": {},
   "outputs": [
    {
     "data": {
      "text/plain": [
       "1     680653\n",
       "2     367921\n",
       "99         1\n",
       "Name: ur, dtype: int64"
      ]
     },
     "execution_count": 350,
     "metadata": {},
     "output_type": "execute_result"
    }
   ],
   "source": [
    "df_copy_20151['ur'] = df_copy_20151['ur'].astype('int64')\n",
    "df_copy_20151.ur.value_counts()"
   ]
  },
  {
   "cell_type": "markdown",
   "metadata": {},
   "source": [
    "## Factor de expansión  (fac)\n",
    "000001-999998 Valor"
   ]
  },
  {
   "cell_type": "code",
   "execution_count": 351,
   "metadata": {
    "scrolled": true
   },
   "outputs": [
    {
     "data": {
      "text/plain": [
       "114     6970\n",
       "112     6736\n",
       "120     6616\n",
       "119     6253\n",
       "111     6192\n",
       "113     6129\n",
       "123     5793\n",
       "115     5792\n",
       "116     5785\n",
       "110     5761\n",
       "125     5571\n",
       "118     5543\n",
       "126     5521\n",
       "124     5373\n",
       "117     5353\n",
       "128     5340\n",
       "130     5284\n",
       "138     5283\n",
       "91      5123\n",
       "94      5082\n",
       "102     5076\n",
       "107     5029\n",
       "99      5029\n",
       "108     5027\n",
       "109     5025\n",
       "127     5020\n",
       "97      4951\n",
       "121     4915\n",
       "135     4903\n",
       "106     4888\n",
       "        ... \n",
       "4358       2\n",
       "3079       2\n",
       "2429       2\n",
       "3912       2\n",
       "2476       2\n",
       "2514       2\n",
       "6344       2\n",
       "2524       2\n",
       "2544       2\n",
       "6067       2\n",
       "2075       2\n",
       "1232       2\n",
       "2343       2\n",
       "2224       2\n",
       "7505       2\n",
       "2660       2\n",
       "2571       2\n",
       "3842       1\n",
       "5163       1\n",
       "2537       1\n",
       "4963       1\n",
       "4884       1\n",
       "4752       1\n",
       "2841       1\n",
       "5945       1\n",
       "5015       1\n",
       "2235       1\n",
       "2649       1\n",
       "5900       1\n",
       "3102       1\n",
       "Name: fac, Length: 2339, dtype: int64"
      ]
     },
     "execution_count": 351,
     "metadata": {},
     "output_type": "execute_result"
    }
   ],
   "source": [
    "df_copy_20151['fac'] = df_copy_20151['fac'].astype('int64')\n",
    "df_copy_20151.fac.value_counts()"
   ]
  },
  {
   "cell_type": "code",
   "execution_count": 352,
   "metadata": {},
   "outputs": [],
   "source": [
    "#df_copy_20151.to_csv ('C:/Users/Pc-Adri/Documents/ENOE/Documento2015.csv', sep=',', index=False)"
   ]
  },
  {
   "cell_type": "code",
   "execution_count": 353,
   "metadata": {
    "scrolled": true
   },
   "outputs": [
    {
     "data": {
      "text/plain": [
       "r_def          int64\n",
       "cd_a           int64\n",
       "ent            int64\n",
       "con            int64\n",
       "upm            int64\n",
       "d_sem          int64\n",
       "n_pro_viv      int64\n",
       "v_sel          int64\n",
       "n_hog          int64\n",
       "h_mud          int64\n",
       "n_ent          int64\n",
       "per            int64\n",
       "n_ren          int64\n",
       "eda            int64\n",
       "n_inf          int64\n",
       "p1             int64\n",
       "p1a1           int64\n",
       "p1a2           int64\n",
       "p1a3           int64\n",
       "p1b            int64\n",
       "p1c            int64\n",
       "p1d            int64\n",
       "p1e            int64\n",
       "p2_1           int64\n",
       "p2_2           int64\n",
       "p2_3           int64\n",
       "p2_4           int64\n",
       "p2_9           int64\n",
       "p2a_dia        int64\n",
       "p2a_sem        int64\n",
       "              ...   \n",
       "p5e_hju        int64\n",
       "p5e_mju        int64\n",
       "p5e_hvi        int64\n",
       "p5e_mvi      float64\n",
       "p5e_hsa        int64\n",
       "p5e_msa        int64\n",
       "p5e_hdo        int64\n",
       "p5e_mdo        int64\n",
       "p5e_thrs       int64\n",
       "p5e_tdia       int64\n",
       "p5f            int64\n",
       "p5g1           int64\n",
       "p5g2           int64\n",
       "p5g3           int64\n",
       "p5g4           int64\n",
       "p5g5         float64\n",
       "p5g6           int64\n",
       "p5g7           int64\n",
       "p5g8           int64\n",
       "p5g9           int64\n",
       "p5g10          int64\n",
       "p5g11          int64\n",
       "p5g12          int64\n",
       "p5g13          int64\n",
       "p5g14          int64\n",
       "p5g15          int64\n",
       "p5g99          int64\n",
       "p5h            int64\n",
       "ur             int64\n",
       "fac            int64\n",
       "Length: 186, dtype: object"
      ]
     },
     "execution_count": 353,
     "metadata": {},
     "output_type": "execute_result"
    }
   ],
   "source": [
    "df_copy_20151.dtypes"
   ]
  },
  {
   "cell_type": "markdown",
   "metadata": {},
   "source": [
    "## Elimacion de columnas con mas de 50% de 99"
   ]
  },
  {
   "cell_type": "code",
   "execution_count": 354,
   "metadata": {},
   "outputs": [],
   "source": [
    "n = df_copy_20151.columns.values.tolist()\n",
    "m = round(df_copy_20151.shape[0]*.50)\n",
    "l = []\n",
    "for i in n:\n",
    "    if df_copy_20151[i].value_counts().get(99) != None:\n",
    "        if m < df_copy_20151[i].value_counts().get(99):\n",
    "            l.append(i)\n",
    "            df_copy_20151 = df_copy_20151.drop(i, 1)"
   ]
  },
  {
   "cell_type": "code",
   "execution_count": 355,
   "metadata": {
    "scrolled": true
   },
   "outputs": [
    {
     "data": {
      "text/plain": [
       "r_def        int64\n",
       "cd_a         int64\n",
       "ent          int64\n",
       "con          int64\n",
       "upm          int64\n",
       "d_sem        int64\n",
       "n_pro_viv    int64\n",
       "v_sel        int64\n",
       "n_hog        int64\n",
       "h_mud        int64\n",
       "n_ent        int64\n",
       "per          int64\n",
       "n_ren        int64\n",
       "eda          int64\n",
       "n_inf        int64\n",
       "p1           int64\n",
       "p3           int64\n",
       "p3a          int64\n",
       "p5a          int64\n",
       "p5c_hlu      int64\n",
       "p5c_mlu      int64\n",
       "p5c_hma      int64\n",
       "p5c_mma      int64\n",
       "p5c_hmi      int64\n",
       "p5c_mmi      int64\n",
       "p5c_hju      int64\n",
       "p5c_mju      int64\n",
       "p5c_hvi      int64\n",
       "p5c_mvi      int64\n",
       "p5c_hsa      int64\n",
       "p5c_msa      int64\n",
       "p5c_hdo      int64\n",
       "p5c_mdo      int64\n",
       "p5c_thrs     int64\n",
       "p5c_tdia     int64\n",
       "p5d          int64\n",
       "ur           int64\n",
       "fac          int64\n",
       "dtype: object"
      ]
     },
     "execution_count": 355,
     "metadata": {},
     "output_type": "execute_result"
    }
   ],
   "source": [
    "df_copy_20151.dtypes"
   ]
  },
  {
   "cell_type": "code",
   "execution_count": 356,
   "metadata": {},
   "outputs": [],
   "source": [
    "df_copy_20151.to_csv ('C:/Users/JoseAntonio/Desktop/ENOE/adri/2016/2016Clean.csv', sep=',', index=False)"
   ]
  },
  {
   "cell_type": "markdown",
   "metadata": {},
   "source": [
    "## Normaliación"
   ]
  },
  {
   "cell_type": "code",
   "execution_count": 357,
   "metadata": {},
   "outputs": [],
   "source": [
    "df_copy_20151 = sk.preprocessing.normalize(df_copy_20151, norm='l2', axis=1, copy=True )"
   ]
  },
  {
   "cell_type": "code",
   "execution_count": 358,
   "metadata": {},
   "outputs": [],
   "source": [
    "df2015 = pd.DataFrame(df_copy_20151)"
   ]
  },
  {
   "cell_type": "code",
   "execution_count": 359,
   "metadata": {},
   "outputs": [
    {
     "data": {
      "text/html": [
       "<div>\n",
       "<style scoped>\n",
       "    .dataframe tbody tr th:only-of-type {\n",
       "        vertical-align: middle;\n",
       "    }\n",
       "\n",
       "    .dataframe tbody tr th {\n",
       "        vertical-align: top;\n",
       "    }\n",
       "\n",
       "    .dataframe thead th {\n",
       "        text-align: right;\n",
       "    }\n",
       "</style>\n",
       "<table border=\"1\" class=\"dataframe\">\n",
       "  <thead>\n",
       "    <tr style=\"text-align: right;\">\n",
       "      <th></th>\n",
       "      <th>0</th>\n",
       "      <th>1</th>\n",
       "      <th>2</th>\n",
       "      <th>3</th>\n",
       "      <th>4</th>\n",
       "      <th>5</th>\n",
       "      <th>6</th>\n",
       "      <th>7</th>\n",
       "      <th>8</th>\n",
       "      <th>9</th>\n",
       "      <th>...</th>\n",
       "      <th>28</th>\n",
       "      <th>29</th>\n",
       "      <th>30</th>\n",
       "      <th>31</th>\n",
       "      <th>32</th>\n",
       "      <th>33</th>\n",
       "      <th>34</th>\n",
       "      <th>35</th>\n",
       "      <th>36</th>\n",
       "      <th>37</th>\n",
       "    </tr>\n",
       "  </thead>\n",
       "  <tbody>\n",
       "    <tr>\n",
       "      <th>0</th>\n",
       "      <td>0.0</td>\n",
       "      <td>0.000001</td>\n",
       "      <td>0.00001</td>\n",
       "      <td>0.044377</td>\n",
       "      <td>0.998983</td>\n",
       "      <td>0.000112</td>\n",
       "      <td>0.000017</td>\n",
       "      <td>0.000001</td>\n",
       "      <td>0.000001</td>\n",
       "      <td>0.0</td>\n",
       "      <td>...</td>\n",
       "      <td>0.00000</td>\n",
       "      <td>0.00000</td>\n",
       "      <td>0.00000</td>\n",
       "      <td>0.000000</td>\n",
       "      <td>0.00000</td>\n",
       "      <td>0.000009</td>\n",
       "      <td>0.000002</td>\n",
       "      <td>0.000002</td>\n",
       "      <td>0.000001</td>\n",
       "      <td>0.000468</td>\n",
       "    </tr>\n",
       "    <tr>\n",
       "      <th>1</th>\n",
       "      <td>0.0</td>\n",
       "      <td>0.000001</td>\n",
       "      <td>0.00001</td>\n",
       "      <td>0.044376</td>\n",
       "      <td>0.998958</td>\n",
       "      <td>0.000112</td>\n",
       "      <td>0.000017</td>\n",
       "      <td>0.000001</td>\n",
       "      <td>0.000001</td>\n",
       "      <td>0.0</td>\n",
       "      <td>...</td>\n",
       "      <td>0.00011</td>\n",
       "      <td>0.00011</td>\n",
       "      <td>0.00011</td>\n",
       "      <td>0.000110</td>\n",
       "      <td>0.00011</td>\n",
       "      <td>0.000110</td>\n",
       "      <td>0.000110</td>\n",
       "      <td>0.000110</td>\n",
       "      <td>0.000001</td>\n",
       "      <td>0.000468</td>\n",
       "    </tr>\n",
       "    <tr>\n",
       "      <th>2</th>\n",
       "      <td>0.0</td>\n",
       "      <td>0.000001</td>\n",
       "      <td>0.00001</td>\n",
       "      <td>0.044378</td>\n",
       "      <td>0.999008</td>\n",
       "      <td>0.000112</td>\n",
       "      <td>0.000017</td>\n",
       "      <td>0.000001</td>\n",
       "      <td>0.000001</td>\n",
       "      <td>0.0</td>\n",
       "      <td>...</td>\n",
       "      <td>0.00000</td>\n",
       "      <td>0.00000</td>\n",
       "      <td>0.00000</td>\n",
       "      <td>0.000009</td>\n",
       "      <td>0.00000</td>\n",
       "      <td>0.000049</td>\n",
       "      <td>0.000007</td>\n",
       "      <td>0.000002</td>\n",
       "      <td>0.000001</td>\n",
       "      <td>0.000468</td>\n",
       "    </tr>\n",
       "    <tr>\n",
       "      <th>3</th>\n",
       "      <td>0.0</td>\n",
       "      <td>0.000001</td>\n",
       "      <td>0.00001</td>\n",
       "      <td>0.044379</td>\n",
       "      <td>0.999015</td>\n",
       "      <td>0.000112</td>\n",
       "      <td>0.000017</td>\n",
       "      <td>0.000001</td>\n",
       "      <td>0.000001</td>\n",
       "      <td>0.0</td>\n",
       "      <td>...</td>\n",
       "      <td>0.00011</td>\n",
       "      <td>0.00011</td>\n",
       "      <td>0.00011</td>\n",
       "      <td>0.000110</td>\n",
       "      <td>0.00011</td>\n",
       "      <td>0.000110</td>\n",
       "      <td>0.000110</td>\n",
       "      <td>0.000110</td>\n",
       "      <td>0.000001</td>\n",
       "      <td>0.000468</td>\n",
       "    </tr>\n",
       "    <tr>\n",
       "      <th>4</th>\n",
       "      <td>0.0</td>\n",
       "      <td>0.000001</td>\n",
       "      <td>0.00001</td>\n",
       "      <td>0.044379</td>\n",
       "      <td>0.999015</td>\n",
       "      <td>0.000112</td>\n",
       "      <td>0.000042</td>\n",
       "      <td>0.000002</td>\n",
       "      <td>0.000001</td>\n",
       "      <td>0.0</td>\n",
       "      <td>...</td>\n",
       "      <td>0.00011</td>\n",
       "      <td>0.00011</td>\n",
       "      <td>0.00011</td>\n",
       "      <td>0.000110</td>\n",
       "      <td>0.00011</td>\n",
       "      <td>0.000110</td>\n",
       "      <td>0.000110</td>\n",
       "      <td>0.000110</td>\n",
       "      <td>0.000001</td>\n",
       "      <td>0.000468</td>\n",
       "    </tr>\n",
       "  </tbody>\n",
       "</table>\n",
       "<p>5 rows × 38 columns</p>\n",
       "</div>"
      ],
      "text/plain": [
       "    0         1        2         3         4         5         6         7   \\\n",
       "0  0.0  0.000001  0.00001  0.044377  0.998983  0.000112  0.000017  0.000001   \n",
       "1  0.0  0.000001  0.00001  0.044376  0.998958  0.000112  0.000017  0.000001   \n",
       "2  0.0  0.000001  0.00001  0.044378  0.999008  0.000112  0.000017  0.000001   \n",
       "3  0.0  0.000001  0.00001  0.044379  0.999015  0.000112  0.000017  0.000001   \n",
       "4  0.0  0.000001  0.00001  0.044379  0.999015  0.000112  0.000042  0.000002   \n",
       "\n",
       "         8    9     ...          28       29       30        31       32  \\\n",
       "0  0.000001  0.0    ...     0.00000  0.00000  0.00000  0.000000  0.00000   \n",
       "1  0.000001  0.0    ...     0.00011  0.00011  0.00011  0.000110  0.00011   \n",
       "2  0.000001  0.0    ...     0.00000  0.00000  0.00000  0.000009  0.00000   \n",
       "3  0.000001  0.0    ...     0.00011  0.00011  0.00011  0.000110  0.00011   \n",
       "4  0.000001  0.0    ...     0.00011  0.00011  0.00011  0.000110  0.00011   \n",
       "\n",
       "         33        34        35        36        37  \n",
       "0  0.000009  0.000002  0.000002  0.000001  0.000468  \n",
       "1  0.000110  0.000110  0.000110  0.000001  0.000468  \n",
       "2  0.000049  0.000007  0.000002  0.000001  0.000468  \n",
       "3  0.000110  0.000110  0.000110  0.000001  0.000468  \n",
       "4  0.000110  0.000110  0.000110  0.000001  0.000468  \n",
       "\n",
       "[5 rows x 38 columns]"
      ]
     },
     "execution_count": 359,
     "metadata": {},
     "output_type": "execute_result"
    }
   ],
   "source": [
    "df2015.head()"
   ]
  },
  {
   "cell_type": "code",
   "execution_count": 360,
   "metadata": {},
   "outputs": [],
   "source": [
    "df2015.to_csv ('C:/Users/JoseAntonio/Desktop/ENOE/adri/2016/norm2016.csv', sep=',', index=False)"
   ]
  },
  {
   "cell_type": "code",
   "execution_count": null,
   "metadata": {},
   "outputs": [],
   "source": []
  }
 ],
 "metadata": {
  "anaconda-cloud": {},
  "kernelspec": {
   "display_name": "Python 3",
   "language": "python",
   "name": "python3"
  },
  "language_info": {
   "codemirror_mode": {
    "name": "ipython",
    "version": 3
   },
   "file_extension": ".py",
   "mimetype": "text/x-python",
   "name": "python",
   "nbconvert_exporter": "python",
   "pygments_lexer": "ipython3",
   "version": "3.6.5"
  }
 },
 "nbformat": 4,
 "nbformat_minor": 1
}
