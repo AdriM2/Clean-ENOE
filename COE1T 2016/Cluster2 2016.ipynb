{
 "cells": [
  {
   "cell_type": "code",
   "execution_count": 1,
   "metadata": {},
   "outputs": [],
   "source": [
    "import pandas as pnd #para manejar el dataframe\n",
    "import numpy as np #para abrir el csv\n",
    "import matplotlib.pyplot as plt #para graficar \n",
    "import sklearn as sk #para normalizar los datos\n",
    "from sklearn.cluster import KMeans"
   ]
  },
  {
   "cell_type": "code",
   "execution_count": 2,
   "metadata": {
    "scrolled": true
   },
   "outputs": [
    {
     "data": {
      "text/html": [
       "<div>\n",
       "<style scoped>\n",
       "    .dataframe tbody tr th:only-of-type {\n",
       "        vertical-align: middle;\n",
       "    }\n",
       "\n",
       "    .dataframe tbody tr th {\n",
       "        vertical-align: top;\n",
       "    }\n",
       "\n",
       "    .dataframe thead th {\n",
       "        text-align: right;\n",
       "    }\n",
       "</style>\n",
       "<table border=\"1\" class=\"dataframe\">\n",
       "  <thead>\n",
       "    <tr style=\"text-align: right;\">\n",
       "      <th></th>\n",
       "      <th>0</th>\n",
       "      <th>1</th>\n",
       "      <th>2</th>\n",
       "      <th>3</th>\n",
       "      <th>4</th>\n",
       "      <th>5</th>\n",
       "      <th>6</th>\n",
       "      <th>7</th>\n",
       "      <th>8</th>\n",
       "      <th>9</th>\n",
       "      <th>...</th>\n",
       "      <th>28</th>\n",
       "      <th>29</th>\n",
       "      <th>30</th>\n",
       "      <th>31</th>\n",
       "      <th>32</th>\n",
       "      <th>33</th>\n",
       "      <th>34</th>\n",
       "      <th>35</th>\n",
       "      <th>36</th>\n",
       "      <th>37</th>\n",
       "    </tr>\n",
       "  </thead>\n",
       "  <tbody>\n",
       "    <tr>\n",
       "      <th>0</th>\n",
       "      <td>0.0</td>\n",
       "      <td>0.000001</td>\n",
       "      <td>0.00001</td>\n",
       "      <td>0.044377</td>\n",
       "      <td>0.998983</td>\n",
       "      <td>0.000112</td>\n",
       "      <td>0.000017</td>\n",
       "      <td>0.000001</td>\n",
       "      <td>0.000001</td>\n",
       "      <td>0.0</td>\n",
       "      <td>...</td>\n",
       "      <td>0.00000</td>\n",
       "      <td>0.00000</td>\n",
       "      <td>0.00000</td>\n",
       "      <td>0.000000</td>\n",
       "      <td>0.00000</td>\n",
       "      <td>0.000009</td>\n",
       "      <td>0.000002</td>\n",
       "      <td>0.000002</td>\n",
       "      <td>0.000001</td>\n",
       "      <td>0.000468</td>\n",
       "    </tr>\n",
       "    <tr>\n",
       "      <th>1</th>\n",
       "      <td>0.0</td>\n",
       "      <td>0.000001</td>\n",
       "      <td>0.00001</td>\n",
       "      <td>0.044376</td>\n",
       "      <td>0.998958</td>\n",
       "      <td>0.000112</td>\n",
       "      <td>0.000017</td>\n",
       "      <td>0.000001</td>\n",
       "      <td>0.000001</td>\n",
       "      <td>0.0</td>\n",
       "      <td>...</td>\n",
       "      <td>0.00011</td>\n",
       "      <td>0.00011</td>\n",
       "      <td>0.00011</td>\n",
       "      <td>0.000110</td>\n",
       "      <td>0.00011</td>\n",
       "      <td>0.000110</td>\n",
       "      <td>0.000110</td>\n",
       "      <td>0.000110</td>\n",
       "      <td>0.000001</td>\n",
       "      <td>0.000468</td>\n",
       "    </tr>\n",
       "    <tr>\n",
       "      <th>2</th>\n",
       "      <td>0.0</td>\n",
       "      <td>0.000001</td>\n",
       "      <td>0.00001</td>\n",
       "      <td>0.044378</td>\n",
       "      <td>0.999008</td>\n",
       "      <td>0.000112</td>\n",
       "      <td>0.000017</td>\n",
       "      <td>0.000001</td>\n",
       "      <td>0.000001</td>\n",
       "      <td>0.0</td>\n",
       "      <td>...</td>\n",
       "      <td>0.00000</td>\n",
       "      <td>0.00000</td>\n",
       "      <td>0.00000</td>\n",
       "      <td>0.000009</td>\n",
       "      <td>0.00000</td>\n",
       "      <td>0.000049</td>\n",
       "      <td>0.000007</td>\n",
       "      <td>0.000002</td>\n",
       "      <td>0.000001</td>\n",
       "      <td>0.000468</td>\n",
       "    </tr>\n",
       "    <tr>\n",
       "      <th>3</th>\n",
       "      <td>0.0</td>\n",
       "      <td>0.000001</td>\n",
       "      <td>0.00001</td>\n",
       "      <td>0.044379</td>\n",
       "      <td>0.999015</td>\n",
       "      <td>0.000112</td>\n",
       "      <td>0.000017</td>\n",
       "      <td>0.000001</td>\n",
       "      <td>0.000001</td>\n",
       "      <td>0.0</td>\n",
       "      <td>...</td>\n",
       "      <td>0.00011</td>\n",
       "      <td>0.00011</td>\n",
       "      <td>0.00011</td>\n",
       "      <td>0.000110</td>\n",
       "      <td>0.00011</td>\n",
       "      <td>0.000110</td>\n",
       "      <td>0.000110</td>\n",
       "      <td>0.000110</td>\n",
       "      <td>0.000001</td>\n",
       "      <td>0.000468</td>\n",
       "    </tr>\n",
       "    <tr>\n",
       "      <th>4</th>\n",
       "      <td>0.0</td>\n",
       "      <td>0.000001</td>\n",
       "      <td>0.00001</td>\n",
       "      <td>0.044379</td>\n",
       "      <td>0.999015</td>\n",
       "      <td>0.000112</td>\n",
       "      <td>0.000042</td>\n",
       "      <td>0.000002</td>\n",
       "      <td>0.000001</td>\n",
       "      <td>0.0</td>\n",
       "      <td>...</td>\n",
       "      <td>0.00011</td>\n",
       "      <td>0.00011</td>\n",
       "      <td>0.00011</td>\n",
       "      <td>0.000110</td>\n",
       "      <td>0.00011</td>\n",
       "      <td>0.000110</td>\n",
       "      <td>0.000110</td>\n",
       "      <td>0.000110</td>\n",
       "      <td>0.000001</td>\n",
       "      <td>0.000468</td>\n",
       "    </tr>\n",
       "  </tbody>\n",
       "</table>\n",
       "<p>5 rows × 38 columns</p>\n",
       "</div>"
      ],
      "text/plain": [
       "     0         1        2         3         4         5         6         7  \\\n",
       "0  0.0  0.000001  0.00001  0.044377  0.998983  0.000112  0.000017  0.000001   \n",
       "1  0.0  0.000001  0.00001  0.044376  0.998958  0.000112  0.000017  0.000001   \n",
       "2  0.0  0.000001  0.00001  0.044378  0.999008  0.000112  0.000017  0.000001   \n",
       "3  0.0  0.000001  0.00001  0.044379  0.999015  0.000112  0.000017  0.000001   \n",
       "4  0.0  0.000001  0.00001  0.044379  0.999015  0.000112  0.000042  0.000002   \n",
       "\n",
       "          8    9    ...          28       29       30        31       32  \\\n",
       "0  0.000001  0.0    ...     0.00000  0.00000  0.00000  0.000000  0.00000   \n",
       "1  0.000001  0.0    ...     0.00011  0.00011  0.00011  0.000110  0.00011   \n",
       "2  0.000001  0.0    ...     0.00000  0.00000  0.00000  0.000009  0.00000   \n",
       "3  0.000001  0.0    ...     0.00011  0.00011  0.00011  0.000110  0.00011   \n",
       "4  0.000001  0.0    ...     0.00011  0.00011  0.00011  0.000110  0.00011   \n",
       "\n",
       "         33        34        35        36        37  \n",
       "0  0.000009  0.000002  0.000002  0.000001  0.000468  \n",
       "1  0.000110  0.000110  0.000110  0.000001  0.000468  \n",
       "2  0.000049  0.000007  0.000002  0.000001  0.000468  \n",
       "3  0.000110  0.000110  0.000110  0.000001  0.000468  \n",
       "4  0.000110  0.000110  0.000110  0.000001  0.000468  \n",
       "\n",
       "[5 rows x 38 columns]"
      ]
     },
     "execution_count": 2,
     "metadata": {},
     "output_type": "execute_result"
    }
   ],
   "source": [
    "path = 'C:/Users/JoseAntonio/Desktop/ENOE/adri/2016/norm2016.csv'\n",
    "X = pnd.read_csv(path, encoding='latin', low_memory=False)\n",
    "X.head()"
   ]
  },
  {
   "cell_type": "markdown",
   "metadata": {},
   "source": [
    "# sampleamos los datos"
   ]
  },
  {
   "cell_type": "code",
   "execution_count": 3,
   "metadata": {},
   "outputs": [
    {
     "data": {
      "text/html": [
       "<div>\n",
       "<style scoped>\n",
       "    .dataframe tbody tr th:only-of-type {\n",
       "        vertical-align: middle;\n",
       "    }\n",
       "\n",
       "    .dataframe tbody tr th {\n",
       "        vertical-align: top;\n",
       "    }\n",
       "\n",
       "    .dataframe thead th {\n",
       "        text-align: right;\n",
       "    }\n",
       "</style>\n",
       "<table border=\"1\" class=\"dataframe\">\n",
       "  <thead>\n",
       "    <tr style=\"text-align: right;\">\n",
       "      <th></th>\n",
       "      <th>0</th>\n",
       "      <th>1</th>\n",
       "      <th>2</th>\n",
       "      <th>3</th>\n",
       "      <th>4</th>\n",
       "      <th>5</th>\n",
       "      <th>6</th>\n",
       "      <th>7</th>\n",
       "      <th>8</th>\n",
       "      <th>9</th>\n",
       "      <th>...</th>\n",
       "      <th>28</th>\n",
       "      <th>29</th>\n",
       "      <th>30</th>\n",
       "      <th>31</th>\n",
       "      <th>32</th>\n",
       "      <th>33</th>\n",
       "      <th>34</th>\n",
       "      <th>35</th>\n",
       "      <th>36</th>\n",
       "      <th>37</th>\n",
       "    </tr>\n",
       "  </thead>\n",
       "  <tbody>\n",
       "    <tr>\n",
       "      <th>1045953</th>\n",
       "      <td>0.0</td>\n",
       "      <td>0.000010</td>\n",
       "      <td>0.000010</td>\n",
       "      <td>0.015518</td>\n",
       "      <td>0.999876</td>\n",
       "      <td>0.000197</td>\n",
       "      <td>0.000003</td>\n",
       "      <td>3.842565e-07</td>\n",
       "      <td>3.842565e-07</td>\n",
       "      <td>0.0</td>\n",
       "      <td>...</td>\n",
       "      <td>0.000038</td>\n",
       "      <td>0.000038</td>\n",
       "      <td>0.000038</td>\n",
       "      <td>0.000038</td>\n",
       "      <td>0.000038</td>\n",
       "      <td>0.000038</td>\n",
       "      <td>0.000038</td>\n",
       "      <td>3.804140e-05</td>\n",
       "      <td>3.842565e-07</td>\n",
       "      <td>0.000045</td>\n",
       "    </tr>\n",
       "    <tr>\n",
       "      <th>358409</th>\n",
       "      <td>0.0</td>\n",
       "      <td>0.000003</td>\n",
       "      <td>0.000010</td>\n",
       "      <td>0.016742</td>\n",
       "      <td>0.999859</td>\n",
       "      <td>0.000045</td>\n",
       "      <td>0.000015</td>\n",
       "      <td>8.322826e-07</td>\n",
       "      <td>4.161413e-07</td>\n",
       "      <td>0.0</td>\n",
       "      <td>...</td>\n",
       "      <td>0.000000</td>\n",
       "      <td>0.000000</td>\n",
       "      <td>0.000000</td>\n",
       "      <td>0.000000</td>\n",
       "      <td>0.000000</td>\n",
       "      <td>0.000002</td>\n",
       "      <td>0.000002</td>\n",
       "      <td>4.161413e-07</td>\n",
       "      <td>4.161413e-07</td>\n",
       "      <td>0.000059</td>\n",
       "    </tr>\n",
       "    <tr>\n",
       "      <th>875012</th>\n",
       "      <td>0.0</td>\n",
       "      <td>0.000031</td>\n",
       "      <td>0.000010</td>\n",
       "      <td>0.018509</td>\n",
       "      <td>0.999829</td>\n",
       "      <td>0.000075</td>\n",
       "      <td>0.000051</td>\n",
       "      <td>4.440714e-06</td>\n",
       "      <td>3.700595e-07</td>\n",
       "      <td>0.0</td>\n",
       "      <td>...</td>\n",
       "      <td>0.000037</td>\n",
       "      <td>0.000037</td>\n",
       "      <td>0.000037</td>\n",
       "      <td>0.000037</td>\n",
       "      <td>0.000037</td>\n",
       "      <td>0.000037</td>\n",
       "      <td>0.000037</td>\n",
       "      <td>3.663589e-05</td>\n",
       "      <td>7.401190e-07</td>\n",
       "      <td>0.000160</td>\n",
       "    </tr>\n",
       "    <tr>\n",
       "      <th>555046</th>\n",
       "      <td>0.0</td>\n",
       "      <td>0.000038</td>\n",
       "      <td>0.000010</td>\n",
       "      <td>0.022718</td>\n",
       "      <td>0.999742</td>\n",
       "      <td>0.000183</td>\n",
       "      <td>0.000081</td>\n",
       "      <td>4.084719e-06</td>\n",
       "      <td>4.538577e-07</td>\n",
       "      <td>0.0</td>\n",
       "      <td>...</td>\n",
       "      <td>0.000045</td>\n",
       "      <td>0.000045</td>\n",
       "      <td>0.000045</td>\n",
       "      <td>0.000045</td>\n",
       "      <td>0.000045</td>\n",
       "      <td>0.000045</td>\n",
       "      <td>0.000045</td>\n",
       "      <td>4.493191e-05</td>\n",
       "      <td>9.077154e-07</td>\n",
       "      <td>0.000103</td>\n",
       "    </tr>\n",
       "    <tr>\n",
       "      <th>272972</th>\n",
       "      <td>0.0</td>\n",
       "      <td>0.000081</td>\n",
       "      <td>0.000009</td>\n",
       "      <td>0.056489</td>\n",
       "      <td>0.998403</td>\n",
       "      <td>0.000190</td>\n",
       "      <td>0.000008</td>\n",
       "      <td>1.882659e-05</td>\n",
       "      <td>9.413293e-07</td>\n",
       "      <td>0.0</td>\n",
       "      <td>...</td>\n",
       "      <td>0.000093</td>\n",
       "      <td>0.000093</td>\n",
       "      <td>0.000093</td>\n",
       "      <td>0.000093</td>\n",
       "      <td>0.000093</td>\n",
       "      <td>0.000093</td>\n",
       "      <td>0.000093</td>\n",
       "      <td>9.319160e-05</td>\n",
       "      <td>1.882659e-06</td>\n",
       "      <td>0.000282</td>\n",
       "    </tr>\n",
       "  </tbody>\n",
       "</table>\n",
       "<p>5 rows × 38 columns</p>\n",
       "</div>"
      ],
      "text/plain": [
       "           0         1         2         3         4         5         6  \\\n",
       "1045953  0.0  0.000010  0.000010  0.015518  0.999876  0.000197  0.000003   \n",
       "358409   0.0  0.000003  0.000010  0.016742  0.999859  0.000045  0.000015   \n",
       "875012   0.0  0.000031  0.000010  0.018509  0.999829  0.000075  0.000051   \n",
       "555046   0.0  0.000038  0.000010  0.022718  0.999742  0.000183  0.000081   \n",
       "272972   0.0  0.000081  0.000009  0.056489  0.998403  0.000190  0.000008   \n",
       "\n",
       "                    7             8    9    ...           28        29  \\\n",
       "1045953  3.842565e-07  3.842565e-07  0.0    ...     0.000038  0.000038   \n",
       "358409   8.322826e-07  4.161413e-07  0.0    ...     0.000000  0.000000   \n",
       "875012   4.440714e-06  3.700595e-07  0.0    ...     0.000037  0.000037   \n",
       "555046   4.084719e-06  4.538577e-07  0.0    ...     0.000045  0.000045   \n",
       "272972   1.882659e-05  9.413293e-07  0.0    ...     0.000093  0.000093   \n",
       "\n",
       "               30        31        32        33        34            35  \\\n",
       "1045953  0.000038  0.000038  0.000038  0.000038  0.000038  3.804140e-05   \n",
       "358409   0.000000  0.000000  0.000000  0.000002  0.000002  4.161413e-07   \n",
       "875012   0.000037  0.000037  0.000037  0.000037  0.000037  3.663589e-05   \n",
       "555046   0.000045  0.000045  0.000045  0.000045  0.000045  4.493191e-05   \n",
       "272972   0.000093  0.000093  0.000093  0.000093  0.000093  9.319160e-05   \n",
       "\n",
       "                   36        37  \n",
       "1045953  3.842565e-07  0.000045  \n",
       "358409   4.161413e-07  0.000059  \n",
       "875012   7.401190e-07  0.000160  \n",
       "555046   9.077154e-07  0.000103  \n",
       "272972   1.882659e-06  0.000282  \n",
       "\n",
       "[5 rows x 38 columns]"
      ]
     },
     "execution_count": 3,
     "metadata": {},
     "output_type": "execute_result"
    }
   ],
   "source": [
    "X = X.sample(frac=0.05, random_state=1)\n",
    "X.head()"
   ]
  },
  {
   "cell_type": "markdown",
   "metadata": {},
   "source": [
    "# realizamos el metodo KMeans"
   ]
  },
  {
   "cell_type": "code",
   "execution_count": 4,
   "metadata": {},
   "outputs": [],
   "source": [
    "X = sk.preprocessing.normalize(X, norm='l2', axis=1, copy=True)"
   ]
  },
  {
   "cell_type": "code",
   "execution_count": 5,
   "metadata": {},
   "outputs": [
    {
     "data": {
      "image/png": "[encoded data removed]",
      "text/plain": [
       "<Figure size 432x288 with 1 Axes>"
      ]
     },
     "metadata": {},
     "output_type": "display_data"
    }
   ],
   "source": [
    "distortions = []\n",
    "\n",
    "for i in range(1,11):\n",
    "    km = KMeans(n_clusters=i,\n",
    "                init='k-means++',\n",
    "                n_init=10,\n",
    "                max_iter=300,\n",
    "                random_state=0)\n",
    "    km.fit(X)\n",
    "    distortions.append(km.inertia_)\n",
    "\n",
    "plt.plot(range(1,11), distortions, marker='o')\n",
    "plt.xlabel('Numero de clusters')\n",
    "plt.ylabel('Distorsión')\n",
    "plt.show()"
   ]
  },
  {
   "cell_type": "code",
   "execution_count": 6,
   "metadata": {},
   "outputs": [],
   "source": [
    "clusters = KMeans(n_clusters=4,\n",
    "                    init='k-means++', \n",
    "                    max_iter=300,\n",
    "                    tol=1e-04,\n",
    "                    n_init=10,\n",
    "                    random_state=0)"
   ]
  },
  {
   "cell_type": "code",
   "execution_count": 7,
   "metadata": {},
   "outputs": [
    {
     "data": {
      "text/plain": [
       "array([0, 0, 0, ..., 0, 0, 0])"
      ]
     },
     "execution_count": 7,
     "metadata": {},
     "output_type": "execute_result"
    }
   ],
   "source": [
    "y_km = clusters.fit_predict(X)\n",
    "y_km"
   ]
  },
  {
   "cell_type": "code",
   "execution_count": 8,
   "metadata": {},
   "outputs": [
    {
     "data": {
      "image/png": "[encoded data removed]",
      "text/plain": [
       "<Figure size 432x288 with 1 Axes>"
      ]
     },
     "metadata": {},
     "output_type": "display_data"
    }
   ],
   "source": [
    "plt.scatter(X[y_km==0,0],\n",
    "          X[y_km==0,1],\n",
    "          s=70,\n",
    "          c='lightgreen',\n",
    "          edgecolor='black',\n",
    "          marker='o',\n",
    "          label='cluster 1')\n",
    "plt.scatter(X[y_km==1,0],\n",
    "          X[y_km==1,1],\n",
    "          s=70,\n",
    "          c='orange',\n",
    "          edgecolor='black',\n",
    "          marker='v',\n",
    "          label='cluster 2')\n",
    "plt.scatter(X[y_km==2,0],\n",
    "          X[y_km==2,1],\n",
    "          s=70,\n",
    "          c='blue',\n",
    "          edgecolor='black',\n",
    "          marker='s',\n",
    "          label='cluster 3')\n",
    "plt.scatter(X[y_km==3,0],\n",
    "          X[y_km==3,1],\n",
    "          s=70,\n",
    "          c='green',\n",
    "          edgecolor='black',\n",
    "          marker='s',\n",
    "          label='cluster 4')\n",
    "plt.scatter(clusters.cluster_centers_[:,0],\n",
    "          clusters.cluster_centers_[:,1],\n",
    "          s=50,\n",
    "          c='red',\n",
    "          marker='*',\n",
    "          label='centroides')\n",
    "\n",
    "plt.legend()\n",
    "plt.grid()\n",
    "plt.show()"
   ]
  },
  {
   "cell_type": "code",
   "execution_count": 9,
   "metadata": {},
   "outputs": [],
   "source": [
    "from sklearn.cluster import MeanShift, estimate_bandwidth"
   ]
  },
  {
   "cell_type": "code",
   "execution_count": 10,
   "metadata": {},
   "outputs": [
    {
     "name": "stdout",
     "output_type": "stream",
     "text": [
      "number of estimated clusters : 6\n"
     ]
    }
   ],
   "source": [
    "bandwidth = estimate_bandwidth(X, quantile=0.3)\n",
    "\n",
    "ms = MeanShift(bandwidth=bandwidth, bin_seeding=True)\n",
    "ms.fit(X)\n",
    "labels = ms.labels_\n",
    "cluster_centers = ms.cluster_centers_\n",
    "\n",
    "labels_unique = np.unique(labels)\n",
    "n_clusters_ = len(labels_unique)\n",
    "\n",
    "print(\"number of estimated clusters : %d\" % n_clusters_)"
   ]
  },
  {
   "cell_type": "code",
   "execution_count": 11,
   "metadata": {},
   "outputs": [],
   "source": [
    "import matplotlib.pyplot as plt\n",
    "from itertools import cycle"
   ]
  },
  {
   "cell_type": "code",
   "execution_count": 12,
   "metadata": {},
   "outputs": [
    {
     "data": {
      "image/png": "[encoded data removed]",
      "text/plain": [
       "<Figure size 432x288 with 1 Axes>"
      ]
     },
     "metadata": {},
     "output_type": "display_data"
    }
   ],
   "source": [
    "colors = cycle('bgrcmykbgrcmykbgrcmykbgrcmyk')\n",
    "for k, col in zip(range(n_clusters_), colors):\n",
    "    my_members = labels == k\n",
    "    cluster_center = cluster_centers[k]\n",
    "    plt.plot(X[my_members, 0], X[my_members, 1], col + '.')\n",
    "    plt.plot(cluster_center[0], cluster_center[1], 'o', markerfacecolor=col,\n",
    "             markeredgecolor='k', markersize=14)\n",
    "plt.title('Estimated number of clusters: %d' % n_clusters_)\n",
    "plt.show()"
   ]
  },
  {
   "cell_type": "markdown",
   "metadata": {},
   "source": [
    "# Aplicamos PCA al KMeans"
   ]
  },
  {
   "cell_type": "code",
   "execution_count": 13,
   "metadata": {},
   "outputs": [],
   "source": [
    "from sklearn import decomposition"
   ]
  },
  {
   "cell_type": "code",
   "execution_count": 14,
   "metadata": {},
   "outputs": [],
   "source": [
    "pca = decomposition.PCA(n_components=4)\n",
    "pca.fit(X)\n",
    "X = pca.transform(X)"
   ]
  },
  {
   "cell_type": "code",
   "execution_count": 15,
   "metadata": {},
   "outputs": [
    {
     "data": {
      "image/png": "[encoded data removed]",
      "text/plain": [
       "<Figure size 432x288 with 1 Axes>"
      ]
     },
     "metadata": {},
     "output_type": "display_data"
    }
   ],
   "source": [
    "plt.scatter(X[y_km==0,0],\n",
    "          X[y_km==0,1],\n",
    "          s=70,\n",
    "          c='lightgreen',\n",
    "          edgecolor='black',\n",
    "          marker='o',\n",
    "          label='cluster 1')\n",
    "plt.scatter(X[y_km==1,0],\n",
    "          X[y_km==1,1],\n",
    "          s=70,\n",
    "          c='orange',\n",
    "          edgecolor='black',\n",
    "          marker='v',\n",
    "          label='cluster 2')\n",
    "plt.scatter(X[y_km==2,0],\n",
    "          X[y_km==2,1],\n",
    "          s=70,\n",
    "          c='blue',\n",
    "          edgecolor='black',\n",
    "          marker='s',\n",
    "          label='cluster 3')\n",
    "plt.scatter(X[y_km==3,0],\n",
    "          X[y_km==3,1],\n",
    "          s=70,\n",
    "          c='green',\n",
    "          edgecolor='black',\n",
    "          marker='s',\n",
    "          label='cluster 4')\n",
    "plt.scatter(clusters.cluster_centers_[:,0],\n",
    "          clusters.cluster_centers_[:,1],\n",
    "          s=50,\n",
    "          c='red',\n",
    "          marker='*',\n",
    "          label='centroides')\n",
    "\n",
    "plt.legend()\n",
    "plt.grid()\n",
    "plt.show()"
   ]
  },
  {
   "cell_type": "markdown",
   "metadata": {},
   "source": [
    "# Aplicamos PCA al MeanShift"
   ]
  },
  {
   "cell_type": "code",
   "execution_count": 16,
   "metadata": {},
   "outputs": [],
   "source": [
    "pca = decomposition.PCA(n_components=3)\n",
    "pca.fit(X)\n",
    "X = pca.transform(X)"
   ]
  },
  {
   "cell_type": "code",
   "execution_count": 17,
   "metadata": {},
   "outputs": [
    {
     "data": {
      "image/png": "[encoded data removed]",
      "text/plain": [
       "<Figure size 432x288 with 1 Axes>"
      ]
     },
     "metadata": {},
     "output_type": "display_data"
    }
   ],
   "source": [
    "colors = cycle('bgrcmykbgrcmykbgrcmykbgrcmyk')\n",
    "for k, col in zip(range(n_clusters_), colors):\n",
    "    my_members = labels == k\n",
    "    cluster_center = cluster_centers[k]\n",
    "    plt.plot(X[my_members, 0], X[my_members, 1], col + '.')\n",
    "    plt.plot(cluster_center[0], cluster_center[1], 'o', markerfacecolor=col,\n",
    "             markeredgecolor='k', markersize=14)\n",
    "plt.title('Estimated number of clusters: %d' % n_clusters_)\n",
    "plt.show()"
   ]
  },
  {
   "cell_type": "code",
   "execution_count": null,
   "metadata": {},
   "outputs": [],
   "source": []
  }
 ],
 "metadata": {
  "kernelspec": {
   "display_name": "Python 3",
   "language": "python",
   "name": "python3"
  },
  "language_info": {
   "codemirror_mode": {
    "name": "ipython",
    "version": 3
   },
   "file_extension": ".py",
   "mimetype": "text/x-python",
   "name": "python",
   "nbconvert_exporter": "python",
   "pygments_lexer": "ipython3",
   "version": "3.6.5"
  }
 },
 "nbformat": 4,
 "nbformat_minor": 2
}
