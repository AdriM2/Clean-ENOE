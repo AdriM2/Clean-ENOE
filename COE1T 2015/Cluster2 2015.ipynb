{
 "cells": [
  {
   "cell_type": "code",
   "execution_count": 1,
   "metadata": {},
   "outputs": [],
   "source": [
    "import pandas as pnd #para manejar el dataframe\n",
    "import numpy as np #para abrir el csv\n",
    "import matplotlib.pyplot as plt #para graficar \n",
    "import sklearn as sk #para normalizar los datos\n",
    "from sklearn.cluster import KMeans"
   ]
  },
  {
   "cell_type": "code",
   "execution_count": 2,
   "metadata": {
    "scrolled": true
   },
   "outputs": [
    {
     "data": {
      "text/html": [
       "<div>\n",
       "<style scoped>\n",
       "    .dataframe tbody tr th:only-of-type {\n",
       "        vertical-align: middle;\n",
       "    }\n",
       "\n",
       "    .dataframe tbody tr th {\n",
       "        vertical-align: top;\n",
       "    }\n",
       "\n",
       "    .dataframe thead th {\n",
       "        text-align: right;\n",
       "    }\n",
       "</style>\n",
       "<table border=\"1\" class=\"dataframe\">\n",
       "  <thead>\n",
       "    <tr style=\"text-align: right;\">\n",
       "      <th></th>\n",
       "      <th>0</th>\n",
       "      <th>1</th>\n",
       "      <th>2</th>\n",
       "      <th>3</th>\n",
       "      <th>4</th>\n",
       "      <th>5</th>\n",
       "      <th>6</th>\n",
       "      <th>7</th>\n",
       "      <th>8</th>\n",
       "      <th>9</th>\n",
       "      <th>...</th>\n",
       "      <th>28</th>\n",
       "      <th>29</th>\n",
       "      <th>30</th>\n",
       "      <th>31</th>\n",
       "      <th>32</th>\n",
       "      <th>33</th>\n",
       "      <th>34</th>\n",
       "      <th>35</th>\n",
       "      <th>36</th>\n",
       "      <th>37</th>\n",
       "    </tr>\n",
       "  </thead>\n",
       "  <tbody>\n",
       "    <tr>\n",
       "      <th>0</th>\n",
       "      <td>0.0</td>\n",
       "      <td>0.000001</td>\n",
       "      <td>0.00001</td>\n",
       "      <td>0.044378</td>\n",
       "      <td>0.999010</td>\n",
       "      <td>0.000112</td>\n",
       "      <td>0.000021</td>\n",
       "      <td>0.000001</td>\n",
       "      <td>0.000001</td>\n",
       "      <td>0.0</td>\n",
       "      <td>...</td>\n",
       "      <td>0.00000</td>\n",
       "      <td>0.000009</td>\n",
       "      <td>0.00000</td>\n",
       "      <td>0.00000</td>\n",
       "      <td>0.00000</td>\n",
       "      <td>0.000044</td>\n",
       "      <td>0.000006</td>\n",
       "      <td>0.000002</td>\n",
       "      <td>0.000001</td>\n",
       "      <td>0.000562</td>\n",
       "    </tr>\n",
       "    <tr>\n",
       "      <th>1</th>\n",
       "      <td>0.0</td>\n",
       "      <td>0.000001</td>\n",
       "      <td>0.00001</td>\n",
       "      <td>0.044377</td>\n",
       "      <td>0.998982</td>\n",
       "      <td>0.000112</td>\n",
       "      <td>0.000050</td>\n",
       "      <td>0.000002</td>\n",
       "      <td>0.000001</td>\n",
       "      <td>0.0</td>\n",
       "      <td>...</td>\n",
       "      <td>0.00000</td>\n",
       "      <td>0.000000</td>\n",
       "      <td>0.00000</td>\n",
       "      <td>0.00000</td>\n",
       "      <td>0.00000</td>\n",
       "      <td>0.000027</td>\n",
       "      <td>0.000003</td>\n",
       "      <td>0.000002</td>\n",
       "      <td>0.000001</td>\n",
       "      <td>0.000562</td>\n",
       "    </tr>\n",
       "    <tr>\n",
       "      <th>2</th>\n",
       "      <td>0.0</td>\n",
       "      <td>0.000001</td>\n",
       "      <td>0.00001</td>\n",
       "      <td>0.044378</td>\n",
       "      <td>0.998999</td>\n",
       "      <td>0.000112</td>\n",
       "      <td>0.000050</td>\n",
       "      <td>0.000002</td>\n",
       "      <td>0.000001</td>\n",
       "      <td>0.0</td>\n",
       "      <td>...</td>\n",
       "      <td>0.00000</td>\n",
       "      <td>0.000009</td>\n",
       "      <td>0.00000</td>\n",
       "      <td>0.00000</td>\n",
       "      <td>0.00000</td>\n",
       "      <td>0.000036</td>\n",
       "      <td>0.000004</td>\n",
       "      <td>0.000002</td>\n",
       "      <td>0.000001</td>\n",
       "      <td>0.000562</td>\n",
       "    </tr>\n",
       "    <tr>\n",
       "      <th>3</th>\n",
       "      <td>0.0</td>\n",
       "      <td>0.000001</td>\n",
       "      <td>0.00001</td>\n",
       "      <td>0.044379</td>\n",
       "      <td>0.999014</td>\n",
       "      <td>0.000112</td>\n",
       "      <td>0.000050</td>\n",
       "      <td>0.000002</td>\n",
       "      <td>0.000001</td>\n",
       "      <td>0.0</td>\n",
       "      <td>...</td>\n",
       "      <td>0.00011</td>\n",
       "      <td>0.000110</td>\n",
       "      <td>0.00011</td>\n",
       "      <td>0.00011</td>\n",
       "      <td>0.00011</td>\n",
       "      <td>0.000110</td>\n",
       "      <td>0.000110</td>\n",
       "      <td>0.000110</td>\n",
       "      <td>0.000001</td>\n",
       "      <td>0.000562</td>\n",
       "    </tr>\n",
       "    <tr>\n",
       "      <th>4</th>\n",
       "      <td>0.0</td>\n",
       "      <td>0.000001</td>\n",
       "      <td>0.00001</td>\n",
       "      <td>0.044378</td>\n",
       "      <td>0.999010</td>\n",
       "      <td>0.000112</td>\n",
       "      <td>0.000108</td>\n",
       "      <td>0.000004</td>\n",
       "      <td>0.000001</td>\n",
       "      <td>0.0</td>\n",
       "      <td>...</td>\n",
       "      <td>0.00000</td>\n",
       "      <td>0.000010</td>\n",
       "      <td>0.00000</td>\n",
       "      <td>0.00000</td>\n",
       "      <td>0.00000</td>\n",
       "      <td>0.000050</td>\n",
       "      <td>0.000006</td>\n",
       "      <td>0.000002</td>\n",
       "      <td>0.000001</td>\n",
       "      <td>0.000562</td>\n",
       "    </tr>\n",
       "  </tbody>\n",
       "</table>\n",
       "<p>5 rows × 38 columns</p>\n",
       "</div>"
      ],
      "text/plain": [
       "     0         1        2         3         4         5         6         7  \\\n",
       "0  0.0  0.000001  0.00001  0.044378  0.999010  0.000112  0.000021  0.000001   \n",
       "1  0.0  0.000001  0.00001  0.044377  0.998982  0.000112  0.000050  0.000002   \n",
       "2  0.0  0.000001  0.00001  0.044378  0.998999  0.000112  0.000050  0.000002   \n",
       "3  0.0  0.000001  0.00001  0.044379  0.999014  0.000112  0.000050  0.000002   \n",
       "4  0.0  0.000001  0.00001  0.044378  0.999010  0.000112  0.000108  0.000004   \n",
       "\n",
       "          8    9    ...          28        29       30       31       32  \\\n",
       "0  0.000001  0.0    ...     0.00000  0.000009  0.00000  0.00000  0.00000   \n",
       "1  0.000001  0.0    ...     0.00000  0.000000  0.00000  0.00000  0.00000   \n",
       "2  0.000001  0.0    ...     0.00000  0.000009  0.00000  0.00000  0.00000   \n",
       "3  0.000001  0.0    ...     0.00011  0.000110  0.00011  0.00011  0.00011   \n",
       "4  0.000001  0.0    ...     0.00000  0.000010  0.00000  0.00000  0.00000   \n",
       "\n",
       "         33        34        35        36        37  \n",
       "0  0.000044  0.000006  0.000002  0.000001  0.000562  \n",
       "1  0.000027  0.000003  0.000002  0.000001  0.000562  \n",
       "2  0.000036  0.000004  0.000002  0.000001  0.000562  \n",
       "3  0.000110  0.000110  0.000110  0.000001  0.000562  \n",
       "4  0.000050  0.000006  0.000002  0.000001  0.000562  \n",
       "\n",
       "[5 rows x 38 columns]"
      ]
     },
     "execution_count": 2,
     "metadata": {},
     "output_type": "execute_result"
    }
   ],
   "source": [
    "path = 'C:/Users/JoseAntonio/Desktop/ENOE/adri/2015/norm2015.csv'\n",
    "X = pnd.read_csv(path, encoding='latin', low_memory=False)\n",
    "X.head()"
   ]
  },
  {
   "cell_type": "markdown",
   "metadata": {},
   "source": [
    "# sampleamos los datos"
   ]
  },
  {
   "cell_type": "code",
   "execution_count": 3,
   "metadata": {},
   "outputs": [
    {
     "data": {
      "text/html": [
       "<div>\n",
       "<style scoped>\n",
       "    .dataframe tbody tr th:only-of-type {\n",
       "        vertical-align: middle;\n",
       "    }\n",
       "\n",
       "    .dataframe tbody tr th {\n",
       "        vertical-align: top;\n",
       "    }\n",
       "\n",
       "    .dataframe thead th {\n",
       "        text-align: right;\n",
       "    }\n",
       "</style>\n",
       "<table border=\"1\" class=\"dataframe\">\n",
       "  <thead>\n",
       "    <tr style=\"text-align: right;\">\n",
       "      <th></th>\n",
       "      <th>0</th>\n",
       "      <th>1</th>\n",
       "      <th>2</th>\n",
       "      <th>3</th>\n",
       "      <th>4</th>\n",
       "      <th>5</th>\n",
       "      <th>6</th>\n",
       "      <th>7</th>\n",
       "      <th>8</th>\n",
       "      <th>9</th>\n",
       "      <th>...</th>\n",
       "      <th>28</th>\n",
       "      <th>29</th>\n",
       "      <th>30</th>\n",
       "      <th>31</th>\n",
       "      <th>32</th>\n",
       "      <th>33</th>\n",
       "      <th>34</th>\n",
       "      <th>35</th>\n",
       "      <th>36</th>\n",
       "      <th>37</th>\n",
       "    </tr>\n",
       "  </thead>\n",
       "  <tbody>\n",
       "    <tr>\n",
       "      <th>1045953</th>\n",
       "      <td>0.0</td>\n",
       "      <td>0.000027</td>\n",
       "      <td>0.000010</td>\n",
       "      <td>0.057100</td>\n",
       "      <td>0.998368</td>\n",
       "      <td>0.000151</td>\n",
       "      <td>0.000006</td>\n",
       "      <td>0.000001</td>\n",
       "      <td>2.842989e-06</td>\n",
       "      <td>0.000000e+00</td>\n",
       "      <td>...</td>\n",
       "      <td>0.000141</td>\n",
       "      <td>0.000141</td>\n",
       "      <td>0.000141</td>\n",
       "      <td>0.000141</td>\n",
       "      <td>0.000141</td>\n",
       "      <td>0.000141</td>\n",
       "      <td>0.000141</td>\n",
       "      <td>0.000141</td>\n",
       "      <td>1.421494e-06</td>\n",
       "      <td>0.000132</td>\n",
       "    </tr>\n",
       "    <tr>\n",
       "      <th>358409</th>\n",
       "      <td>0.0</td>\n",
       "      <td>0.000005</td>\n",
       "      <td>0.000010</td>\n",
       "      <td>0.036629</td>\n",
       "      <td>0.999329</td>\n",
       "      <td>0.000100</td>\n",
       "      <td>0.000033</td>\n",
       "      <td>0.000003</td>\n",
       "      <td>9.051006e-07</td>\n",
       "      <td>0.000000e+00</td>\n",
       "      <td>...</td>\n",
       "      <td>0.000090</td>\n",
       "      <td>0.000090</td>\n",
       "      <td>0.000090</td>\n",
       "      <td>0.000090</td>\n",
       "      <td>0.000090</td>\n",
       "      <td>0.000090</td>\n",
       "      <td>0.000090</td>\n",
       "      <td>0.000090</td>\n",
       "      <td>9.051006e-07</td>\n",
       "      <td>0.000110</td>\n",
       "    </tr>\n",
       "    <tr>\n",
       "      <th>875012</th>\n",
       "      <td>0.0</td>\n",
       "      <td>0.000040</td>\n",
       "      <td>0.000010</td>\n",
       "      <td>0.023726</td>\n",
       "      <td>0.999718</td>\n",
       "      <td>0.000144</td>\n",
       "      <td>0.000055</td>\n",
       "      <td>0.000006</td>\n",
       "      <td>4.742047e-07</td>\n",
       "      <td>4.742047e-07</td>\n",
       "      <td>...</td>\n",
       "      <td>0.000047</td>\n",
       "      <td>0.000047</td>\n",
       "      <td>0.000047</td>\n",
       "      <td>0.000047</td>\n",
       "      <td>0.000047</td>\n",
       "      <td>0.000047</td>\n",
       "      <td>0.000047</td>\n",
       "      <td>0.000047</td>\n",
       "      <td>9.484095e-07</td>\n",
       "      <td>0.000324</td>\n",
       "    </tr>\n",
       "    <tr>\n",
       "      <th>555046</th>\n",
       "      <td>0.0</td>\n",
       "      <td>0.000139</td>\n",
       "      <td>0.000010</td>\n",
       "      <td>0.082955</td>\n",
       "      <td>0.996553</td>\n",
       "      <td>0.000502</td>\n",
       "      <td>0.000418</td>\n",
       "      <td>0.000018</td>\n",
       "      <td>1.656873e-06</td>\n",
       "      <td>0.000000e+00</td>\n",
       "      <td>...</td>\n",
       "      <td>0.000164</td>\n",
       "      <td>0.000164</td>\n",
       "      <td>0.000164</td>\n",
       "      <td>0.000164</td>\n",
       "      <td>0.000164</td>\n",
       "      <td>0.000164</td>\n",
       "      <td>0.000164</td>\n",
       "      <td>0.000164</td>\n",
       "      <td>3.313746e-06</td>\n",
       "      <td>0.000176</td>\n",
       "    </tr>\n",
       "    <tr>\n",
       "      <th>272972</th>\n",
       "      <td>0.0</td>\n",
       "      <td>0.000130</td>\n",
       "      <td>0.000009</td>\n",
       "      <td>0.090548</td>\n",
       "      <td>0.995892</td>\n",
       "      <td>0.000605</td>\n",
       "      <td>0.000246</td>\n",
       "      <td>0.000009</td>\n",
       "      <td>1.508874e-06</td>\n",
       "      <td>0.000000e+00</td>\n",
       "      <td>...</td>\n",
       "      <td>0.000149</td>\n",
       "      <td>0.000149</td>\n",
       "      <td>0.000149</td>\n",
       "      <td>0.000149</td>\n",
       "      <td>0.000149</td>\n",
       "      <td>0.000149</td>\n",
       "      <td>0.000149</td>\n",
       "      <td>0.000149</td>\n",
       "      <td>3.017748e-06</td>\n",
       "      <td>0.000133</td>\n",
       "    </tr>\n",
       "  </tbody>\n",
       "</table>\n",
       "<p>5 rows × 38 columns</p>\n",
       "</div>"
      ],
      "text/plain": [
       "           0         1         2         3         4         5         6  \\\n",
       "1045953  0.0  0.000027  0.000010  0.057100  0.998368  0.000151  0.000006   \n",
       "358409   0.0  0.000005  0.000010  0.036629  0.999329  0.000100  0.000033   \n",
       "875012   0.0  0.000040  0.000010  0.023726  0.999718  0.000144  0.000055   \n",
       "555046   0.0  0.000139  0.000010  0.082955  0.996553  0.000502  0.000418   \n",
       "272972   0.0  0.000130  0.000009  0.090548  0.995892  0.000605  0.000246   \n",
       "\n",
       "                7             8             9    ...           28        29  \\\n",
       "1045953  0.000001  2.842989e-06  0.000000e+00    ...     0.000141  0.000141   \n",
       "358409   0.000003  9.051006e-07  0.000000e+00    ...     0.000090  0.000090   \n",
       "875012   0.000006  4.742047e-07  4.742047e-07    ...     0.000047  0.000047   \n",
       "555046   0.000018  1.656873e-06  0.000000e+00    ...     0.000164  0.000164   \n",
       "272972   0.000009  1.508874e-06  0.000000e+00    ...     0.000149  0.000149   \n",
       "\n",
       "               30        31        32        33        34        35  \\\n",
       "1045953  0.000141  0.000141  0.000141  0.000141  0.000141  0.000141   \n",
       "358409   0.000090  0.000090  0.000090  0.000090  0.000090  0.000090   \n",
       "875012   0.000047  0.000047  0.000047  0.000047  0.000047  0.000047   \n",
       "555046   0.000164  0.000164  0.000164  0.000164  0.000164  0.000164   \n",
       "272972   0.000149  0.000149  0.000149  0.000149  0.000149  0.000149   \n",
       "\n",
       "                   36        37  \n",
       "1045953  1.421494e-06  0.000132  \n",
       "358409   9.051006e-07  0.000110  \n",
       "875012   9.484095e-07  0.000324  \n",
       "555046   3.313746e-06  0.000176  \n",
       "272972   3.017748e-06  0.000133  \n",
       "\n",
       "[5 rows x 38 columns]"
      ]
     },
     "execution_count": 3,
     "metadata": {},
     "output_type": "execute_result"
    }
   ],
   "source": [
    "X = X.sample(frac=0.05, random_state=1)\n",
    "X.head()"
   ]
  },
  {
   "cell_type": "markdown",
   "metadata": {},
   "source": [
    "# realizamos el metodo KMeans"
   ]
  },
  {
   "cell_type": "code",
   "execution_count": 5,
   "metadata": {},
   "outputs": [],
   "source": [
    "X = sk.preprocessing.normalize(X, norm='l2', axis=1, copy=True)"
   ]
  },
  {
   "cell_type": "code",
   "execution_count": 6,
   "metadata": {
    "scrolled": true
   },
   "outputs": [
    {
     "data": {
      "image/png": "[encoded data removed]",
      "text/plain": [
       "<Figure size 432x288 with 1 Axes>"
      ]
     },
     "metadata": {},
     "output_type": "display_data"
    }
   ],
   "source": [
    "distortions = []\n",
    "\n",
    "for i in range(1,11):\n",
    "    km = KMeans(n_clusters=i,\n",
    "                init='k-means++',\n",
    "                n_init=10,\n",
    "                max_iter=300,\n",
    "                random_state=0)\n",
    "    km.fit(X)\n",
    "    distortions.append(km.inertia_)\n",
    "\n",
    "plt.plot(range(1,11), distortions, marker='o')\n",
    "plt.xlabel('Numero de clusters')\n",
    "plt.ylabel('Distorsión')\n",
    "plt.show()"
   ]
  },
  {
   "cell_type": "code",
   "execution_count": 7,
   "metadata": {},
   "outputs": [],
   "source": [
    "clusters = KMeans(n_clusters=4,\n",
    "                    init='k-means++', \n",
    "                    max_iter=300,\n",
    "                    tol=1e-04,\n",
    "                    n_init=10,\n",
    "                    random_state=0)"
   ]
  },
  {
   "cell_type": "code",
   "execution_count": 8,
   "metadata": {},
   "outputs": [
    {
     "data": {
      "text/plain": [
       "array([0, 2, 2, ..., 3, 0, 2])"
      ]
     },
     "execution_count": 8,
     "metadata": {},
     "output_type": "execute_result"
    }
   ],
   "source": [
    "y_km = clusters.fit_predict(X)\n",
    "y_km"
   ]
  },
  {
   "cell_type": "code",
   "execution_count": 9,
   "metadata": {},
   "outputs": [
    {
     "data": {
      "image/png": "[encoded data removed]",
      "text/plain": [
       "<Figure size 432x288 with 1 Axes>"
      ]
     },
     "metadata": {},
     "output_type": "display_data"
    }
   ],
   "source": [
    "plt.scatter(X[y_km==0,0],\n",
    "          X[y_km==0,1],\n",
    "          s=70,\n",
    "          c='lightgreen',\n",
    "          edgecolor='black',\n",
    "          marker='o',\n",
    "          label='cluster 1')\n",
    "plt.scatter(X[y_km==1,0],\n",
    "          X[y_km==1,1],\n",
    "          s=70,\n",
    "          c='orange',\n",
    "          edgecolor='black',\n",
    "          marker='v',\n",
    "          label='cluster 2')\n",
    "plt.scatter(X[y_km==2,0],\n",
    "          X[y_km==2,1],\n",
    "          s=70,\n",
    "          c='blue',\n",
    "          edgecolor='black',\n",
    "          marker='s',\n",
    "          label='cluster 3')\n",
    "plt.scatter(X[y_km==3,0],\n",
    "          X[y_km==3,1],\n",
    "          s=70,\n",
    "          c='green',\n",
    "          edgecolor='black',\n",
    "          marker='s',\n",
    "          label='cluster 4')\n",
    "plt.scatter(clusters.cluster_centers_[:,0],\n",
    "          clusters.cluster_centers_[:,1],\n",
    "          s=50,\n",
    "          c='red',\n",
    "          marker='*',\n",
    "          label='centroides')\n",
    "\n",
    "plt.legend()\n",
    "plt.grid()\n",
    "plt.show()"
   ]
  },
  {
   "cell_type": "code",
   "execution_count": 10,
   "metadata": {},
   "outputs": [],
   "source": [
    "from sklearn.cluster import MeanShift, estimate_bandwidth"
   ]
  },
  {
   "cell_type": "code",
   "execution_count": 11,
   "metadata": {},
   "outputs": [
    {
     "name": "stdout",
     "output_type": "stream",
     "text": [
      "number of estimated clusters : 6\n"
     ]
    }
   ],
   "source": [
    "bandwidth = estimate_bandwidth(X, quantile=0.3)\n",
    "\n",
    "ms = MeanShift(bandwidth=bandwidth, bin_seeding=True)\n",
    "ms.fit(X)\n",
    "labels = ms.labels_\n",
    "cluster_centers = ms.cluster_centers_\n",
    "\n",
    "labels_unique = np.unique(labels)\n",
    "n_clusters_ = len(labels_unique)\n",
    "\n",
    "print(\"number of estimated clusters : %d\" % n_clusters_)"
   ]
  },
  {
   "cell_type": "code",
   "execution_count": 12,
   "metadata": {},
   "outputs": [],
   "source": [
    "import matplotlib.pyplot as plt\n",
    "from itertools import cycle"
   ]
  },
  {
   "cell_type": "code",
   "execution_count": 13,
   "metadata": {},
   "outputs": [
    {
     "data": {
      "image/png": "[encoded data removed]",
      "text/plain": [
       "<Figure size 432x288 with 1 Axes>"
      ]
     },
     "metadata": {},
     "output_type": "display_data"
    }
   ],
   "source": [
    "colors = cycle('bgrcmykbgrcmykbgrcmykbgrcmyk')\n",
    "for k, col in zip(range(n_clusters_), colors):\n",
    "    my_members = labels == k\n",
    "    cluster_center = cluster_centers[k]\n",
    "    plt.plot(X[my_members, 0], X[my_members, 1], col + '.')\n",
    "    plt.plot(cluster_center[0], cluster_center[1], 'o', markerfacecolor=col,\n",
    "             markeredgecolor='k', markersize=14)\n",
    "plt.title('Estimated number of clusters: %d' % n_clusters_)\n",
    "plt.show()"
   ]
  },
  {
   "cell_type": "markdown",
   "metadata": {},
   "source": [
    "# Aplicamos PCA al KMeans"
   ]
  },
  {
   "cell_type": "code",
   "execution_count": 14,
   "metadata": {},
   "outputs": [],
   "source": [
    "from sklearn import decomposition"
   ]
  },
  {
   "cell_type": "code",
   "execution_count": 15,
   "metadata": {},
   "outputs": [],
   "source": [
    "pca = decomposition.PCA(n_components=4)\n",
    "pca.fit(X)\n",
    "X = pca.transform(X)"
   ]
  },
  {
   "cell_type": "code",
   "execution_count": 16,
   "metadata": {},
   "outputs": [
    {
     "data": {
      "image/png": "[encoded data removed]",
      "text/plain": [
       "<Figure size 432x288 with 1 Axes>"
      ]
     },
     "metadata": {},
     "output_type": "display_data"
    }
   ],
   "source": [
    "plt.scatter(X[y_km==0,0],\n",
    "          X[y_km==0,1],\n",
    "          s=70,\n",
    "          c='lightgreen',\n",
    "          edgecolor='black',\n",
    "          marker='o',\n",
    "          label='cluster 1')\n",
    "plt.scatter(X[y_km==1,0],\n",
    "          X[y_km==1,1],\n",
    "          s=70,\n",
    "          c='orange',\n",
    "          edgecolor='black',\n",
    "          marker='v',\n",
    "          label='cluster 2')\n",
    "plt.scatter(X[y_km==2,0],\n",
    "          X[y_km==2,1],\n",
    "          s=70,\n",
    "          c='blue',\n",
    "          edgecolor='black',\n",
    "          marker='s',\n",
    "          label='cluster 3')\n",
    "plt.scatter(X[y_km==3,0],\n",
    "          X[y_km==3,1],\n",
    "          s=70,\n",
    "          c='green',\n",
    "          edgecolor='black',\n",
    "          marker='s',\n",
    "          label='cluster 4')\n",
    "plt.scatter(clusters.cluster_centers_[:,0],\n",
    "          clusters.cluster_centers_[:,1],\n",
    "          s=50,\n",
    "          c='red',\n",
    "          marker='*',\n",
    "          label='centroides')\n",
    "\n",
    "plt.legend()\n",
    "plt.grid()\n",
    "plt.show()"
   ]
  },
  {
   "cell_type": "markdown",
   "metadata": {},
   "source": [
    "# Aplicamos PCA al MeanShift"
   ]
  },
  {
   "cell_type": "code",
   "execution_count": 17,
   "metadata": {},
   "outputs": [],
   "source": [
    "pca = decomposition.PCA(n_components=3)\n",
    "pca.fit(X)\n",
    "X = pca.transform(X)"
   ]
  },
  {
   "cell_type": "code",
   "execution_count": 18,
   "metadata": {},
   "outputs": [
    {
     "data": {
      "image/png": "[encoded data removed]",
      "text/plain": [
       "<Figure size 432x288 with 1 Axes>"
      ]
     },
     "metadata": {},
     "output_type": "display_data"
    }
   ],
   "source": [
    "colors = cycle('bgrcmykbgrcmykbgrcmykbgrcmyk')\n",
    "for k, col in zip(range(n_clusters_), colors):\n",
    "    my_members = labels == k\n",
    "    cluster_center = cluster_centers[k]\n",
    "    plt.plot(X[my_members, 0], X[my_members, 1], col + '.')\n",
    "    plt.plot(cluster_center[0], cluster_center[1], 'o', markerfacecolor=col,\n",
    "             markeredgecolor='k', markersize=14)\n",
    "plt.title('Estimated number of clusters: %d' % n_clusters_)\n",
    "plt.show()"
   ]
  },
  {
   "cell_type": "code",
   "execution_count": null,
   "metadata": {},
   "outputs": [],
   "source": []
  }
 ],
 "metadata": {
  "kernelspec": {
   "display_name": "Python 3",
   "language": "python",
   "name": "python3"
  },
  "language_info": {
   "codemirror_mode": {
    "name": "ipython",
    "version": 3
   },
   "file_extension": ".py",
   "mimetype": "text/x-python",
   "name": "python",
   "nbconvert_exporter": "python",
   "pygments_lexer": "ipython3",
   "version": "3.6.5"
  }
 },
 "nbformat": 4,
 "nbformat_minor": 2
}
