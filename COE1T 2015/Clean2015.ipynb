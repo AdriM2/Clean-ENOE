{
 "cells": [
  {
   "cell_type": "code",
   "execution_count": 1,
   "metadata": {},
   "outputs": [],
   "source": [
    "import pandas as pd\n",
    "import numpy as np\n",
    "import sklearn as sk\n",
    "from sklearn.cluster import KMeans\n",
    "import matplotlib.pyplot as plt"
   ]
  },
  {
   "cell_type": "code",
   "execution_count": 2,
   "metadata": {
    "scrolled": true
   },
   "outputs": [
    {
     "data": {
      "text/html": [
       "<div>\n",
       "<style scoped>\n",
       "    .dataframe tbody tr th:only-of-type {\n",
       "        vertical-align: middle;\n",
       "    }\n",
       "\n",
       "    .dataframe tbody tr th {\n",
       "        vertical-align: top;\n",
       "    }\n",
       "\n",
       "    .dataframe thead th {\n",
       "        text-align: right;\n",
       "    }\n",
       "</style>\n",
       "<table border=\"1\" class=\"dataframe\">\n",
       "  <thead>\n",
       "    <tr style=\"text-align: right;\">\n",
       "      <th></th>\n",
       "      <th>r_def</th>\n",
       "      <th>cd_a</th>\n",
       "      <th>ent</th>\n",
       "      <th>con</th>\n",
       "      <th>upm</th>\n",
       "      <th>d_sem</th>\n",
       "      <th>n_pro_viv</th>\n",
       "      <th>v_sel</th>\n",
       "      <th>n_hog</th>\n",
       "      <th>h_mud</th>\n",
       "      <th>...</th>\n",
       "      <th>p5g10</th>\n",
       "      <th>p5g11</th>\n",
       "      <th>p5g12</th>\n",
       "      <th>p5g13</th>\n",
       "      <th>p5g14</th>\n",
       "      <th>p5g15</th>\n",
       "      <th>p5g99</th>\n",
       "      <th>p5h</th>\n",
       "      <th>ur</th>\n",
       "      <th>fac</th>\n",
       "    </tr>\n",
       "  </thead>\n",
       "  <tbody>\n",
       "    <tr>\n",
       "      <th>0</th>\n",
       "      <td>0.0</td>\n",
       "      <td>1.0</td>\n",
       "      <td>9.0</td>\n",
       "      <td>40001.0</td>\n",
       "      <td>900471.0</td>\n",
       "      <td>101.0</td>\n",
       "      <td>19.0</td>\n",
       "      <td>1.0</td>\n",
       "      <td>1.0</td>\n",
       "      <td>0.0</td>\n",
       "      <td>...</td>\n",
       "      <td>NaN</td>\n",
       "      <td>NaN</td>\n",
       "      <td>NaN</td>\n",
       "      <td>NaN</td>\n",
       "      <td>14.0</td>\n",
       "      <td>NaN</td>\n",
       "      <td>NaN</td>\n",
       "      <td></td>\n",
       "      <td>1.0</td>\n",
       "      <td>507.0</td>\n",
       "    </tr>\n",
       "    <tr>\n",
       "      <th>1</th>\n",
       "      <td>0.0</td>\n",
       "      <td>1.0</td>\n",
       "      <td>9.0</td>\n",
       "      <td>40001.0</td>\n",
       "      <td>900471.0</td>\n",
       "      <td>101.0</td>\n",
       "      <td>45.0</td>\n",
       "      <td>2.0</td>\n",
       "      <td>1.0</td>\n",
       "      <td>0.0</td>\n",
       "      <td>...</td>\n",
       "      <td>NaN</td>\n",
       "      <td>NaN</td>\n",
       "      <td>NaN</td>\n",
       "      <td>NaN</td>\n",
       "      <td>14.0</td>\n",
       "      <td>NaN</td>\n",
       "      <td>NaN</td>\n",
       "      <td></td>\n",
       "      <td>1.0</td>\n",
       "      <td>507.0</td>\n",
       "    </tr>\n",
       "    <tr>\n",
       "      <th>2</th>\n",
       "      <td>0.0</td>\n",
       "      <td>1.0</td>\n",
       "      <td>9.0</td>\n",
       "      <td>40001.0</td>\n",
       "      <td>900471.0</td>\n",
       "      <td>101.0</td>\n",
       "      <td>45.0</td>\n",
       "      <td>2.0</td>\n",
       "      <td>1.0</td>\n",
       "      <td>0.0</td>\n",
       "      <td>...</td>\n",
       "      <td>NaN</td>\n",
       "      <td>NaN</td>\n",
       "      <td>NaN</td>\n",
       "      <td>NaN</td>\n",
       "      <td>14.0</td>\n",
       "      <td>NaN</td>\n",
       "      <td>NaN</td>\n",
       "      <td></td>\n",
       "      <td>1.0</td>\n",
       "      <td>507.0</td>\n",
       "    </tr>\n",
       "    <tr>\n",
       "      <th>3</th>\n",
       "      <td>0.0</td>\n",
       "      <td>1.0</td>\n",
       "      <td>9.0</td>\n",
       "      <td>40001.0</td>\n",
       "      <td>900471.0</td>\n",
       "      <td>101.0</td>\n",
       "      <td>45.0</td>\n",
       "      <td>2.0</td>\n",
       "      <td>1.0</td>\n",
       "      <td>0.0</td>\n",
       "      <td>...</td>\n",
       "      <td>NaN</td>\n",
       "      <td>NaN</td>\n",
       "      <td>NaN</td>\n",
       "      <td>NaN</td>\n",
       "      <td>NaN</td>\n",
       "      <td>NaN</td>\n",
       "      <td>NaN</td>\n",
       "      <td></td>\n",
       "      <td>1.0</td>\n",
       "      <td>507.0</td>\n",
       "    </tr>\n",
       "    <tr>\n",
       "      <th>4</th>\n",
       "      <td>0.0</td>\n",
       "      <td>1.0</td>\n",
       "      <td>9.0</td>\n",
       "      <td>40001.0</td>\n",
       "      <td>900471.0</td>\n",
       "      <td>101.0</td>\n",
       "      <td>97.0</td>\n",
       "      <td>4.0</td>\n",
       "      <td>1.0</td>\n",
       "      <td>0.0</td>\n",
       "      <td>...</td>\n",
       "      <td>NaN</td>\n",
       "      <td>NaN</td>\n",
       "      <td>NaN</td>\n",
       "      <td>NaN</td>\n",
       "      <td>14.0</td>\n",
       "      <td>NaN</td>\n",
       "      <td>NaN</td>\n",
       "      <td></td>\n",
       "      <td>1.0</td>\n",
       "      <td>507.0</td>\n",
       "    </tr>\n",
       "  </tbody>\n",
       "</table>\n",
       "<p>5 rows × 186 columns</p>\n",
       "</div>"
      ],
      "text/plain": [
       "   r_def  cd_a  ent      con       upm  d_sem  n_pro_viv  v_sel  n_hog  h_mud  \\\n",
       "0    0.0   1.0  9.0  40001.0  900471.0  101.0       19.0    1.0    1.0    0.0   \n",
       "1    0.0   1.0  9.0  40001.0  900471.0  101.0       45.0    2.0    1.0    0.0   \n",
       "2    0.0   1.0  9.0  40001.0  900471.0  101.0       45.0    2.0    1.0    0.0   \n",
       "3    0.0   1.0  9.0  40001.0  900471.0  101.0       45.0    2.0    1.0    0.0   \n",
       "4    0.0   1.0  9.0  40001.0  900471.0  101.0       97.0    4.0    1.0    0.0   \n",
       "\n",
       "   ...    p5g10  p5g11  p5g12  p5g13  p5g14  p5g15 p5g99 p5h   ur    fac  \n",
       "0  ...      NaN    NaN    NaN    NaN   14.0    NaN   NaN      1.0  507.0  \n",
       "1  ...      NaN    NaN    NaN    NaN   14.0    NaN   NaN      1.0  507.0  \n",
       "2  ...      NaN    NaN    NaN    NaN   14.0    NaN   NaN      1.0  507.0  \n",
       "3  ...      NaN    NaN    NaN    NaN    NaN    NaN   NaN      1.0  507.0  \n",
       "4  ...      NaN    NaN    NaN    NaN   14.0    NaN   NaN      1.0  507.0  \n",
       "\n",
       "[5 rows x 186 columns]"
      ]
     },
     "execution_count": 2,
     "metadata": {},
     "output_type": "execute_result"
    }
   ],
   "source": [
    "path = 'C:/Users/JoseAntonio/Desktop/ENOE/adri/2015/coe1t2015.csv'\n",
    "df = pd.read_csv(path, encoding='latin', low_memory=False)\n",
    "df.head()"
   ]
  },
  {
   "cell_type": "code",
   "execution_count": 3,
   "metadata": {},
   "outputs": [
    {
     "name": "stdout",
     "output_type": "stream",
     "text": [
      "<class 'pandas.core.frame.DataFrame'>\n",
      "RangeIndex: 1048575 entries, 0 to 1048574\n",
      "Columns: 186 entries, r_def to fac\n",
      "dtypes: float64(101), object(85)\n",
      "memory usage: 1.5+ GB\n"
     ]
    }
   ],
   "source": [
    "df.info()"
   ]
  },
  {
   "cell_type": "code",
   "execution_count": 4,
   "metadata": {},
   "outputs": [
    {
     "data": {
      "text/plain": [
       "(1048575, 186)"
      ]
     },
     "execution_count": 4,
     "metadata": {},
     "output_type": "execute_result"
    }
   ],
   "source": [
    "df.shape"
   ]
  },
  {
   "cell_type": "code",
   "execution_count": 5,
   "metadata": {},
   "outputs": [
    {
     "data": {
      "text/plain": [
       "1048575"
      ]
     },
     "execution_count": 5,
     "metadata": {},
     "output_type": "execute_result"
    }
   ],
   "source": [
    "df.shape[0]"
   ]
  },
  {
   "cell_type": "code",
   "execution_count": 6,
   "metadata": {},
   "outputs": [
    {
     "data": {
      "text/plain": [
       "186"
      ]
     },
     "execution_count": 6,
     "metadata": {},
     "output_type": "execute_result"
    }
   ],
   "source": [
    "df.shape[1]"
   ]
  },
  {
   "cell_type": "code",
   "execution_count": 7,
   "metadata": {
    "scrolled": false
   },
   "outputs": [
    {
     "data": {
      "text/plain": [
       "['r_def',\n",
       " 'cd_a',\n",
       " 'ent',\n",
       " 'con',\n",
       " 'upm',\n",
       " 'd_sem',\n",
       " 'n_pro_viv',\n",
       " 'v_sel',\n",
       " 'n_hog',\n",
       " 'h_mud',\n",
       " 'n_ent',\n",
       " 'per',\n",
       " 'n_ren',\n",
       " 'eda',\n",
       " 'n_inf',\n",
       " 'p1',\n",
       " 'p1a1',\n",
       " 'p1a2',\n",
       " 'p1a3',\n",
       " 'p1b',\n",
       " 'p1c',\n",
       " 'p1d',\n",
       " 'p1e',\n",
       " 'p2_1',\n",
       " 'p2_2',\n",
       " 'p2_3',\n",
       " 'p2_4',\n",
       " 'p2_9',\n",
       " 'p2a_dia',\n",
       " 'p2a_sem',\n",
       " 'p2a_mes',\n",
       " 'p2a_anio',\n",
       " 'p2b_dia',\n",
       " 'p2b_sem',\n",
       " 'p2b_mes',\n",
       " 'p2b_anio',\n",
       " 'p2b',\n",
       " 'p2c',\n",
       " 'p2d1',\n",
       " 'p2d2',\n",
       " 'p2d3',\n",
       " 'p2d4',\n",
       " 'p2d5',\n",
       " 'p2d6',\n",
       " 'p2d7',\n",
       " 'p2d8',\n",
       " 'p2d9',\n",
       " 'p2d10',\n",
       " 'p2d11',\n",
       " 'p2d99',\n",
       " 'p2e',\n",
       " 'p2f',\n",
       " 'p2g1',\n",
       " 'p2g2',\n",
       " 'p2h1',\n",
       " 'p2h2',\n",
       " 'p2h3',\n",
       " 'p2h4',\n",
       " 'p2h9',\n",
       " 'p3',\n",
       " 'p3a',\n",
       " 'p3b',\n",
       " 'p3c1',\n",
       " 'p3c2',\n",
       " 'p3c3',\n",
       " 'p3c4',\n",
       " 'p3c9',\n",
       " 'p3d',\n",
       " 'p3e',\n",
       " 'p3f1',\n",
       " 'p3f2',\n",
       " 'p3g1_1',\n",
       " 'p3g1_2',\n",
       " 'p3g2_1',\n",
       " 'p3g2_2',\n",
       " 'p3g3_1',\n",
       " 'p3g3_2',\n",
       " 'p3g4_1',\n",
       " 'p3g4_2',\n",
       " 'p3g9',\n",
       " 'p3g_tot',\n",
       " 'p3h',\n",
       " 'p3i',\n",
       " 'p3j',\n",
       " 'p3k1',\n",
       " 'p3k2',\n",
       " 'p3l1',\n",
       " 'p3l2',\n",
       " 'p3l3',\n",
       " 'p3l4',\n",
       " 'p3l5',\n",
       " 'p3l9',\n",
       " 'p3m1',\n",
       " 'p3m2',\n",
       " 'p3m3',\n",
       " 'p3m4',\n",
       " 'p3m5',\n",
       " 'p3m6',\n",
       " 'p3m7',\n",
       " 'p3m8',\n",
       " 'p3m9',\n",
       " 'p3n',\n",
       " 'p3o',\n",
       " 'p3p1',\n",
       " 'p3p2',\n",
       " 'p3q',\n",
       " 'p3r_anio',\n",
       " 'p3r_mes',\n",
       " 'p3r',\n",
       " 'p3s',\n",
       " 'p3t_anio',\n",
       " 'p3t_mes',\n",
       " 'p4',\n",
       " 'p4_1',\n",
       " 'p4_2',\n",
       " 'p4_3',\n",
       " 'p4a',\n",
       " 'p4a_1',\n",
       " 'p4b',\n",
       " 'p4c',\n",
       " 'p4d1',\n",
       " 'p4d2',\n",
       " 'p4d3',\n",
       " 'p4e',\n",
       " 'p4f',\n",
       " 'p4g',\n",
       " 'p4h',\n",
       " 'p4i',\n",
       " 'p4i_1',\n",
       " 'p5',\n",
       " 'p5a',\n",
       " 'p5b',\n",
       " 'p5c_hlu',\n",
       " 'p5c_mlu',\n",
       " 'p5c_hma',\n",
       " 'p5c_mma',\n",
       " 'p5c_hmi',\n",
       " 'p5c_mmi',\n",
       " 'p5c_hju',\n",
       " 'p5c_mju',\n",
       " 'p5c_hvi',\n",
       " 'p5c_mvi',\n",
       " 'p5c_hsa',\n",
       " 'p5c_msa',\n",
       " 'p5c_hdo',\n",
       " 'p5c_mdo',\n",
       " 'p5c_thrs',\n",
       " 'p5c_tdia',\n",
       " 'p5d',\n",
       " 'p5e1',\n",
       " 'p5e_hlu',\n",
       " 'p5e_mlu',\n",
       " 'p5e_hma',\n",
       " 'p5e_mma',\n",
       " 'p5e_hmi',\n",
       " 'p5e_mmi',\n",
       " 'p5e_hju',\n",
       " 'p5e_mju',\n",
       " 'p5e_hvi',\n",
       " 'p5e_mvi',\n",
       " 'p5e_hsa',\n",
       " 'p5e_msa',\n",
       " 'p5e_hdo',\n",
       " 'p5e_mdo',\n",
       " 'p5e_thrs',\n",
       " 'p5e_tdia',\n",
       " 'p5f',\n",
       " 'p5g1',\n",
       " 'p5g2',\n",
       " 'p5g3',\n",
       " 'p5g4',\n",
       " 'p5g5',\n",
       " 'p5g6',\n",
       " 'p5g7',\n",
       " 'p5g8',\n",
       " 'p5g9',\n",
       " 'p5g10',\n",
       " 'p5g11',\n",
       " 'p5g12',\n",
       " 'p5g13',\n",
       " 'p5g14',\n",
       " 'p5g15',\n",
       " 'p5g99',\n",
       " 'p5h',\n",
       " 'ur',\n",
       " 'fac']"
      ]
     },
     "execution_count": 7,
     "metadata": {},
     "output_type": "execute_result"
    }
   ],
   "source": [
    "df.columns.values.tolist()"
   ]
  },
  {
   "cell_type": "code",
   "execution_count": 8,
   "metadata": {
    "scrolled": true
   },
   "outputs": [
    {
     "data": {
      "text/plain": [
       "r_def        float64\n",
       "cd_a         float64\n",
       "ent          float64\n",
       "con          float64\n",
       "upm          float64\n",
       "d_sem        float64\n",
       "n_pro_viv    float64\n",
       "v_sel        float64\n",
       "n_hog        float64\n",
       "h_mud        float64\n",
       "n_ent        float64\n",
       "per          float64\n",
       "n_ren        float64\n",
       "eda          float64\n",
       "n_inf        float64\n",
       "p1           float64\n",
       "p1a1          object\n",
       "p1a2          object\n",
       "p1a3          object\n",
       "p1b           object\n",
       "p1c          float64\n",
       "p1d           object\n",
       "p1e           object\n",
       "p2_1          object\n",
       "p2_2          object\n",
       "p2_3          object\n",
       "p2_4          object\n",
       "p2_9          object\n",
       "p2a_dia      float64\n",
       "p2a_sem       object\n",
       "              ...   \n",
       "p5e_hju      float64\n",
       "p5e_mju      float64\n",
       "p5e_hvi      float64\n",
       "p5e_mvi      float64\n",
       "p5e_hsa      float64\n",
       "p5e_msa      float64\n",
       "p5e_hdo      float64\n",
       "p5e_mdo      float64\n",
       "p5e_thrs     float64\n",
       "p5e_tdia      object\n",
       "p5f          float64\n",
       "p5g1         float64\n",
       "p5g2         float64\n",
       "p5g3         float64\n",
       "p5g4         float64\n",
       "p5g5         float64\n",
       "p5g6         float64\n",
       "p5g7         float64\n",
       "p5g8         float64\n",
       "p5g9         float64\n",
       "p5g10        float64\n",
       "p5g11        float64\n",
       "p5g12        float64\n",
       "p5g13        float64\n",
       "p5g14        float64\n",
       "p5g15        float64\n",
       "p5g99        float64\n",
       "p5h           object\n",
       "ur           float64\n",
       "fac          float64\n",
       "Length: 186, dtype: object"
      ]
     },
     "execution_count": 8,
     "metadata": {},
     "output_type": "execute_result"
    }
   ],
   "source": [
    "df.dtypes"
   ]
  },
  {
   "cell_type": "markdown",
   "metadata": {},
   "source": [
    "## Copia de df"
   ]
  },
  {
   "cell_type": "code",
   "execution_count": 9,
   "metadata": {},
   "outputs": [],
   "source": [
    "df_copy_20151 = df.copy()"
   ]
  },
  {
   "cell_type": "code",
   "execution_count": 10,
   "metadata": {},
   "outputs": [
    {
     "data": {
      "text/plain": [
       "(1048575, 186)"
      ]
     },
     "execution_count": 10,
     "metadata": {},
     "output_type": "execute_result"
    }
   ],
   "source": [
    "df_copy_20151.shape"
   ]
  },
  {
   "cell_type": "markdown",
   "metadata": {},
   "source": [
    "## Verificando si tenemos datos faltantes"
   ]
  },
  {
   "cell_type": "code",
   "execution_count": 11,
   "metadata": {},
   "outputs": [
    {
     "data": {
      "text/html": [
       "<div>\n",
       "<style scoped>\n",
       "    .dataframe tbody tr th:only-of-type {\n",
       "        vertical-align: middle;\n",
       "    }\n",
       "\n",
       "    .dataframe tbody tr th {\n",
       "        vertical-align: top;\n",
       "    }\n",
       "\n",
       "    .dataframe thead th {\n",
       "        text-align: right;\n",
       "    }\n",
       "</style>\n",
       "<table border=\"1\" class=\"dataframe\">\n",
       "  <thead>\n",
       "    <tr style=\"text-align: right;\">\n",
       "      <th></th>\n",
       "      <th>r_def</th>\n",
       "      <th>cd_a</th>\n",
       "      <th>ent</th>\n",
       "      <th>con</th>\n",
       "      <th>upm</th>\n",
       "      <th>d_sem</th>\n",
       "      <th>n_pro_viv</th>\n",
       "      <th>v_sel</th>\n",
       "      <th>n_hog</th>\n",
       "      <th>h_mud</th>\n",
       "      <th>...</th>\n",
       "      <th>p5g10</th>\n",
       "      <th>p5g11</th>\n",
       "      <th>p5g12</th>\n",
       "      <th>p5g13</th>\n",
       "      <th>p5g14</th>\n",
       "      <th>p5g15</th>\n",
       "      <th>p5g99</th>\n",
       "      <th>p5h</th>\n",
       "      <th>ur</th>\n",
       "      <th>fac</th>\n",
       "    </tr>\n",
       "  </thead>\n",
       "  <tbody>\n",
       "    <tr>\n",
       "      <th>0</th>\n",
       "      <td>True</td>\n",
       "      <td>True</td>\n",
       "      <td>True</td>\n",
       "      <td>True</td>\n",
       "      <td>True</td>\n",
       "      <td>True</td>\n",
       "      <td>True</td>\n",
       "      <td>True</td>\n",
       "      <td>True</td>\n",
       "      <td>True</td>\n",
       "      <td>...</td>\n",
       "      <td>False</td>\n",
       "      <td>False</td>\n",
       "      <td>False</td>\n",
       "      <td>False</td>\n",
       "      <td>True</td>\n",
       "      <td>False</td>\n",
       "      <td>False</td>\n",
       "      <td>True</td>\n",
       "      <td>True</td>\n",
       "      <td>True</td>\n",
       "    </tr>\n",
       "    <tr>\n",
       "      <th>1</th>\n",
       "      <td>True</td>\n",
       "      <td>True</td>\n",
       "      <td>True</td>\n",
       "      <td>True</td>\n",
       "      <td>True</td>\n",
       "      <td>True</td>\n",
       "      <td>True</td>\n",
       "      <td>True</td>\n",
       "      <td>True</td>\n",
       "      <td>True</td>\n",
       "      <td>...</td>\n",
       "      <td>False</td>\n",
       "      <td>False</td>\n",
       "      <td>False</td>\n",
       "      <td>False</td>\n",
       "      <td>True</td>\n",
       "      <td>False</td>\n",
       "      <td>False</td>\n",
       "      <td>True</td>\n",
       "      <td>True</td>\n",
       "      <td>True</td>\n",
       "    </tr>\n",
       "    <tr>\n",
       "      <th>2</th>\n",
       "      <td>True</td>\n",
       "      <td>True</td>\n",
       "      <td>True</td>\n",
       "      <td>True</td>\n",
       "      <td>True</td>\n",
       "      <td>True</td>\n",
       "      <td>True</td>\n",
       "      <td>True</td>\n",
       "      <td>True</td>\n",
       "      <td>True</td>\n",
       "      <td>...</td>\n",
       "      <td>False</td>\n",
       "      <td>False</td>\n",
       "      <td>False</td>\n",
       "      <td>False</td>\n",
       "      <td>True</td>\n",
       "      <td>False</td>\n",
       "      <td>False</td>\n",
       "      <td>True</td>\n",
       "      <td>True</td>\n",
       "      <td>True</td>\n",
       "    </tr>\n",
       "    <tr>\n",
       "      <th>3</th>\n",
       "      <td>True</td>\n",
       "      <td>True</td>\n",
       "      <td>True</td>\n",
       "      <td>True</td>\n",
       "      <td>True</td>\n",
       "      <td>True</td>\n",
       "      <td>True</td>\n",
       "      <td>True</td>\n",
       "      <td>True</td>\n",
       "      <td>True</td>\n",
       "      <td>...</td>\n",
       "      <td>False</td>\n",
       "      <td>False</td>\n",
       "      <td>False</td>\n",
       "      <td>False</td>\n",
       "      <td>False</td>\n",
       "      <td>False</td>\n",
       "      <td>False</td>\n",
       "      <td>True</td>\n",
       "      <td>True</td>\n",
       "      <td>True</td>\n",
       "    </tr>\n",
       "    <tr>\n",
       "      <th>4</th>\n",
       "      <td>True</td>\n",
       "      <td>True</td>\n",
       "      <td>True</td>\n",
       "      <td>True</td>\n",
       "      <td>True</td>\n",
       "      <td>True</td>\n",
       "      <td>True</td>\n",
       "      <td>True</td>\n",
       "      <td>True</td>\n",
       "      <td>True</td>\n",
       "      <td>...</td>\n",
       "      <td>False</td>\n",
       "      <td>False</td>\n",
       "      <td>False</td>\n",
       "      <td>False</td>\n",
       "      <td>True</td>\n",
       "      <td>False</td>\n",
       "      <td>False</td>\n",
       "      <td>True</td>\n",
       "      <td>True</td>\n",
       "      <td>True</td>\n",
       "    </tr>\n",
       "    <tr>\n",
       "      <th>5</th>\n",
       "      <td>True</td>\n",
       "      <td>True</td>\n",
       "      <td>True</td>\n",
       "      <td>True</td>\n",
       "      <td>True</td>\n",
       "      <td>True</td>\n",
       "      <td>True</td>\n",
       "      <td>True</td>\n",
       "      <td>True</td>\n",
       "      <td>True</td>\n",
       "      <td>...</td>\n",
       "      <td>False</td>\n",
       "      <td>False</td>\n",
       "      <td>False</td>\n",
       "      <td>False</td>\n",
       "      <td>True</td>\n",
       "      <td>False</td>\n",
       "      <td>False</td>\n",
       "      <td>True</td>\n",
       "      <td>True</td>\n",
       "      <td>True</td>\n",
       "    </tr>\n",
       "    <tr>\n",
       "      <th>6</th>\n",
       "      <td>True</td>\n",
       "      <td>True</td>\n",
       "      <td>True</td>\n",
       "      <td>True</td>\n",
       "      <td>True</td>\n",
       "      <td>True</td>\n",
       "      <td>True</td>\n",
       "      <td>True</td>\n",
       "      <td>True</td>\n",
       "      <td>True</td>\n",
       "      <td>...</td>\n",
       "      <td>False</td>\n",
       "      <td>False</td>\n",
       "      <td>False</td>\n",
       "      <td>False</td>\n",
       "      <td>True</td>\n",
       "      <td>False</td>\n",
       "      <td>False</td>\n",
       "      <td>True</td>\n",
       "      <td>True</td>\n",
       "      <td>True</td>\n",
       "    </tr>\n",
       "    <tr>\n",
       "      <th>7</th>\n",
       "      <td>True</td>\n",
       "      <td>True</td>\n",
       "      <td>True</td>\n",
       "      <td>True</td>\n",
       "      <td>True</td>\n",
       "      <td>True</td>\n",
       "      <td>True</td>\n",
       "      <td>True</td>\n",
       "      <td>True</td>\n",
       "      <td>True</td>\n",
       "      <td>...</td>\n",
       "      <td>False</td>\n",
       "      <td>False</td>\n",
       "      <td>False</td>\n",
       "      <td>False</td>\n",
       "      <td>True</td>\n",
       "      <td>False</td>\n",
       "      <td>False</td>\n",
       "      <td>True</td>\n",
       "      <td>True</td>\n",
       "      <td>True</td>\n",
       "    </tr>\n",
       "    <tr>\n",
       "      <th>8</th>\n",
       "      <td>True</td>\n",
       "      <td>True</td>\n",
       "      <td>True</td>\n",
       "      <td>True</td>\n",
       "      <td>True</td>\n",
       "      <td>True</td>\n",
       "      <td>True</td>\n",
       "      <td>True</td>\n",
       "      <td>True</td>\n",
       "      <td>True</td>\n",
       "      <td>...</td>\n",
       "      <td>False</td>\n",
       "      <td>False</td>\n",
       "      <td>False</td>\n",
       "      <td>False</td>\n",
       "      <td>True</td>\n",
       "      <td>False</td>\n",
       "      <td>False</td>\n",
       "      <td>True</td>\n",
       "      <td>True</td>\n",
       "      <td>True</td>\n",
       "    </tr>\n",
       "    <tr>\n",
       "      <th>9</th>\n",
       "      <td>True</td>\n",
       "      <td>True</td>\n",
       "      <td>True</td>\n",
       "      <td>True</td>\n",
       "      <td>True</td>\n",
       "      <td>True</td>\n",
       "      <td>True</td>\n",
       "      <td>True</td>\n",
       "      <td>True</td>\n",
       "      <td>True</td>\n",
       "      <td>...</td>\n",
       "      <td>False</td>\n",
       "      <td>False</td>\n",
       "      <td>False</td>\n",
       "      <td>False</td>\n",
       "      <td>True</td>\n",
       "      <td>False</td>\n",
       "      <td>False</td>\n",
       "      <td>True</td>\n",
       "      <td>True</td>\n",
       "      <td>True</td>\n",
       "    </tr>\n",
       "    <tr>\n",
       "      <th>10</th>\n",
       "      <td>True</td>\n",
       "      <td>True</td>\n",
       "      <td>True</td>\n",
       "      <td>True</td>\n",
       "      <td>True</td>\n",
       "      <td>True</td>\n",
       "      <td>True</td>\n",
       "      <td>True</td>\n",
       "      <td>True</td>\n",
       "      <td>True</td>\n",
       "      <td>...</td>\n",
       "      <td>False</td>\n",
       "      <td>False</td>\n",
       "      <td>False</td>\n",
       "      <td>False</td>\n",
       "      <td>False</td>\n",
       "      <td>False</td>\n",
       "      <td>False</td>\n",
       "      <td>True</td>\n",
       "      <td>True</td>\n",
       "      <td>True</td>\n",
       "    </tr>\n",
       "    <tr>\n",
       "      <th>11</th>\n",
       "      <td>True</td>\n",
       "      <td>True</td>\n",
       "      <td>True</td>\n",
       "      <td>True</td>\n",
       "      <td>True</td>\n",
       "      <td>True</td>\n",
       "      <td>True</td>\n",
       "      <td>True</td>\n",
       "      <td>True</td>\n",
       "      <td>True</td>\n",
       "      <td>...</td>\n",
       "      <td>False</td>\n",
       "      <td>False</td>\n",
       "      <td>False</td>\n",
       "      <td>False</td>\n",
       "      <td>False</td>\n",
       "      <td>False</td>\n",
       "      <td>False</td>\n",
       "      <td>True</td>\n",
       "      <td>True</td>\n",
       "      <td>True</td>\n",
       "    </tr>\n",
       "    <tr>\n",
       "      <th>12</th>\n",
       "      <td>True</td>\n",
       "      <td>True</td>\n",
       "      <td>True</td>\n",
       "      <td>True</td>\n",
       "      <td>True</td>\n",
       "      <td>True</td>\n",
       "      <td>True</td>\n",
       "      <td>True</td>\n",
       "      <td>True</td>\n",
       "      <td>True</td>\n",
       "      <td>...</td>\n",
       "      <td>False</td>\n",
       "      <td>False</td>\n",
       "      <td>False</td>\n",
       "      <td>False</td>\n",
       "      <td>False</td>\n",
       "      <td>False</td>\n",
       "      <td>False</td>\n",
       "      <td>True</td>\n",
       "      <td>True</td>\n",
       "      <td>True</td>\n",
       "    </tr>\n",
       "    <tr>\n",
       "      <th>13</th>\n",
       "      <td>True</td>\n",
       "      <td>True</td>\n",
       "      <td>True</td>\n",
       "      <td>True</td>\n",
       "      <td>True</td>\n",
       "      <td>True</td>\n",
       "      <td>True</td>\n",
       "      <td>True</td>\n",
       "      <td>True</td>\n",
       "      <td>True</td>\n",
       "      <td>...</td>\n",
       "      <td>False</td>\n",
       "      <td>False</td>\n",
       "      <td>False</td>\n",
       "      <td>False</td>\n",
       "      <td>False</td>\n",
       "      <td>True</td>\n",
       "      <td>False</td>\n",
       "      <td>True</td>\n",
       "      <td>True</td>\n",
       "      <td>True</td>\n",
       "    </tr>\n",
       "    <tr>\n",
       "      <th>14</th>\n",
       "      <td>True</td>\n",
       "      <td>True</td>\n",
       "      <td>True</td>\n",
       "      <td>True</td>\n",
       "      <td>True</td>\n",
       "      <td>True</td>\n",
       "      <td>True</td>\n",
       "      <td>True</td>\n",
       "      <td>True</td>\n",
       "      <td>True</td>\n",
       "      <td>...</td>\n",
       "      <td>False</td>\n",
       "      <td>False</td>\n",
       "      <td>False</td>\n",
       "      <td>False</td>\n",
       "      <td>False</td>\n",
       "      <td>False</td>\n",
       "      <td>False</td>\n",
       "      <td>True</td>\n",
       "      <td>True</td>\n",
       "      <td>True</td>\n",
       "    </tr>\n",
       "    <tr>\n",
       "      <th>15</th>\n",
       "      <td>True</td>\n",
       "      <td>True</td>\n",
       "      <td>True</td>\n",
       "      <td>True</td>\n",
       "      <td>True</td>\n",
       "      <td>True</td>\n",
       "      <td>True</td>\n",
       "      <td>True</td>\n",
       "      <td>True</td>\n",
       "      <td>True</td>\n",
       "      <td>...</td>\n",
       "      <td>False</td>\n",
       "      <td>False</td>\n",
       "      <td>False</td>\n",
       "      <td>False</td>\n",
       "      <td>True</td>\n",
       "      <td>False</td>\n",
       "      <td>False</td>\n",
       "      <td>True</td>\n",
       "      <td>True</td>\n",
       "      <td>True</td>\n",
       "    </tr>\n",
       "    <tr>\n",
       "      <th>16</th>\n",
       "      <td>True</td>\n",
       "      <td>True</td>\n",
       "      <td>True</td>\n",
       "      <td>True</td>\n",
       "      <td>True</td>\n",
       "      <td>True</td>\n",
       "      <td>True</td>\n",
       "      <td>True</td>\n",
       "      <td>True</td>\n",
       "      <td>True</td>\n",
       "      <td>...</td>\n",
       "      <td>False</td>\n",
       "      <td>False</td>\n",
       "      <td>False</td>\n",
       "      <td>False</td>\n",
       "      <td>True</td>\n",
       "      <td>False</td>\n",
       "      <td>False</td>\n",
       "      <td>True</td>\n",
       "      <td>True</td>\n",
       "      <td>True</td>\n",
       "    </tr>\n",
       "    <tr>\n",
       "      <th>17</th>\n",
       "      <td>True</td>\n",
       "      <td>True</td>\n",
       "      <td>True</td>\n",
       "      <td>True</td>\n",
       "      <td>True</td>\n",
       "      <td>True</td>\n",
       "      <td>True</td>\n",
       "      <td>True</td>\n",
       "      <td>True</td>\n",
       "      <td>True</td>\n",
       "      <td>...</td>\n",
       "      <td>False</td>\n",
       "      <td>False</td>\n",
       "      <td>False</td>\n",
       "      <td>False</td>\n",
       "      <td>True</td>\n",
       "      <td>False</td>\n",
       "      <td>False</td>\n",
       "      <td>True</td>\n",
       "      <td>True</td>\n",
       "      <td>True</td>\n",
       "    </tr>\n",
       "    <tr>\n",
       "      <th>18</th>\n",
       "      <td>True</td>\n",
       "      <td>True</td>\n",
       "      <td>True</td>\n",
       "      <td>True</td>\n",
       "      <td>True</td>\n",
       "      <td>True</td>\n",
       "      <td>True</td>\n",
       "      <td>True</td>\n",
       "      <td>True</td>\n",
       "      <td>True</td>\n",
       "      <td>...</td>\n",
       "      <td>False</td>\n",
       "      <td>False</td>\n",
       "      <td>False</td>\n",
       "      <td>False</td>\n",
       "      <td>True</td>\n",
       "      <td>False</td>\n",
       "      <td>False</td>\n",
       "      <td>True</td>\n",
       "      <td>True</td>\n",
       "      <td>True</td>\n",
       "    </tr>\n",
       "    <tr>\n",
       "      <th>19</th>\n",
       "      <td>True</td>\n",
       "      <td>True</td>\n",
       "      <td>True</td>\n",
       "      <td>True</td>\n",
       "      <td>True</td>\n",
       "      <td>True</td>\n",
       "      <td>True</td>\n",
       "      <td>True</td>\n",
       "      <td>True</td>\n",
       "      <td>True</td>\n",
       "      <td>...</td>\n",
       "      <td>False</td>\n",
       "      <td>False</td>\n",
       "      <td>False</td>\n",
       "      <td>False</td>\n",
       "      <td>True</td>\n",
       "      <td>False</td>\n",
       "      <td>False</td>\n",
       "      <td>True</td>\n",
       "      <td>True</td>\n",
       "      <td>True</td>\n",
       "    </tr>\n",
       "    <tr>\n",
       "      <th>20</th>\n",
       "      <td>True</td>\n",
       "      <td>True</td>\n",
       "      <td>True</td>\n",
       "      <td>True</td>\n",
       "      <td>True</td>\n",
       "      <td>True</td>\n",
       "      <td>True</td>\n",
       "      <td>True</td>\n",
       "      <td>True</td>\n",
       "      <td>True</td>\n",
       "      <td>...</td>\n",
       "      <td>False</td>\n",
       "      <td>False</td>\n",
       "      <td>False</td>\n",
       "      <td>False</td>\n",
       "      <td>True</td>\n",
       "      <td>False</td>\n",
       "      <td>False</td>\n",
       "      <td>True</td>\n",
       "      <td>True</td>\n",
       "      <td>True</td>\n",
       "    </tr>\n",
       "    <tr>\n",
       "      <th>21</th>\n",
       "      <td>True</td>\n",
       "      <td>True</td>\n",
       "      <td>True</td>\n",
       "      <td>True</td>\n",
       "      <td>True</td>\n",
       "      <td>True</td>\n",
       "      <td>True</td>\n",
       "      <td>True</td>\n",
       "      <td>True</td>\n",
       "      <td>True</td>\n",
       "      <td>...</td>\n",
       "      <td>False</td>\n",
       "      <td>False</td>\n",
       "      <td>False</td>\n",
       "      <td>False</td>\n",
       "      <td>True</td>\n",
       "      <td>False</td>\n",
       "      <td>False</td>\n",
       "      <td>True</td>\n",
       "      <td>True</td>\n",
       "      <td>True</td>\n",
       "    </tr>\n",
       "    <tr>\n",
       "      <th>22</th>\n",
       "      <td>True</td>\n",
       "      <td>True</td>\n",
       "      <td>True</td>\n",
       "      <td>True</td>\n",
       "      <td>True</td>\n",
       "      <td>True</td>\n",
       "      <td>True</td>\n",
       "      <td>True</td>\n",
       "      <td>True</td>\n",
       "      <td>True</td>\n",
       "      <td>...</td>\n",
       "      <td>False</td>\n",
       "      <td>False</td>\n",
       "      <td>False</td>\n",
       "      <td>False</td>\n",
       "      <td>False</td>\n",
       "      <td>False</td>\n",
       "      <td>False</td>\n",
       "      <td>True</td>\n",
       "      <td>True</td>\n",
       "      <td>True</td>\n",
       "    </tr>\n",
       "    <tr>\n",
       "      <th>23</th>\n",
       "      <td>True</td>\n",
       "      <td>True</td>\n",
       "      <td>True</td>\n",
       "      <td>True</td>\n",
       "      <td>True</td>\n",
       "      <td>True</td>\n",
       "      <td>True</td>\n",
       "      <td>True</td>\n",
       "      <td>True</td>\n",
       "      <td>True</td>\n",
       "      <td>...</td>\n",
       "      <td>False</td>\n",
       "      <td>False</td>\n",
       "      <td>False</td>\n",
       "      <td>False</td>\n",
       "      <td>True</td>\n",
       "      <td>False</td>\n",
       "      <td>False</td>\n",
       "      <td>True</td>\n",
       "      <td>True</td>\n",
       "      <td>True</td>\n",
       "    </tr>\n",
       "    <tr>\n",
       "      <th>24</th>\n",
       "      <td>True</td>\n",
       "      <td>True</td>\n",
       "      <td>True</td>\n",
       "      <td>True</td>\n",
       "      <td>True</td>\n",
       "      <td>True</td>\n",
       "      <td>True</td>\n",
       "      <td>True</td>\n",
       "      <td>True</td>\n",
       "      <td>True</td>\n",
       "      <td>...</td>\n",
       "      <td>False</td>\n",
       "      <td>False</td>\n",
       "      <td>False</td>\n",
       "      <td>False</td>\n",
       "      <td>False</td>\n",
       "      <td>False</td>\n",
       "      <td>False</td>\n",
       "      <td>True</td>\n",
       "      <td>True</td>\n",
       "      <td>True</td>\n",
       "    </tr>\n",
       "    <tr>\n",
       "      <th>25</th>\n",
       "      <td>True</td>\n",
       "      <td>True</td>\n",
       "      <td>True</td>\n",
       "      <td>True</td>\n",
       "      <td>True</td>\n",
       "      <td>True</td>\n",
       "      <td>True</td>\n",
       "      <td>True</td>\n",
       "      <td>True</td>\n",
       "      <td>True</td>\n",
       "      <td>...</td>\n",
       "      <td>False</td>\n",
       "      <td>False</td>\n",
       "      <td>False</td>\n",
       "      <td>False</td>\n",
       "      <td>False</td>\n",
       "      <td>False</td>\n",
       "      <td>False</td>\n",
       "      <td>True</td>\n",
       "      <td>True</td>\n",
       "      <td>True</td>\n",
       "    </tr>\n",
       "    <tr>\n",
       "      <th>26</th>\n",
       "      <td>True</td>\n",
       "      <td>True</td>\n",
       "      <td>True</td>\n",
       "      <td>True</td>\n",
       "      <td>True</td>\n",
       "      <td>True</td>\n",
       "      <td>True</td>\n",
       "      <td>True</td>\n",
       "      <td>True</td>\n",
       "      <td>True</td>\n",
       "      <td>...</td>\n",
       "      <td>False</td>\n",
       "      <td>False</td>\n",
       "      <td>False</td>\n",
       "      <td>False</td>\n",
       "      <td>False</td>\n",
       "      <td>False</td>\n",
       "      <td>False</td>\n",
       "      <td>True</td>\n",
       "      <td>True</td>\n",
       "      <td>True</td>\n",
       "    </tr>\n",
       "    <tr>\n",
       "      <th>27</th>\n",
       "      <td>True</td>\n",
       "      <td>True</td>\n",
       "      <td>True</td>\n",
       "      <td>True</td>\n",
       "      <td>True</td>\n",
       "      <td>True</td>\n",
       "      <td>True</td>\n",
       "      <td>True</td>\n",
       "      <td>True</td>\n",
       "      <td>True</td>\n",
       "      <td>...</td>\n",
       "      <td>False</td>\n",
       "      <td>False</td>\n",
       "      <td>False</td>\n",
       "      <td>False</td>\n",
       "      <td>True</td>\n",
       "      <td>False</td>\n",
       "      <td>False</td>\n",
       "      <td>True</td>\n",
       "      <td>True</td>\n",
       "      <td>True</td>\n",
       "    </tr>\n",
       "    <tr>\n",
       "      <th>28</th>\n",
       "      <td>True</td>\n",
       "      <td>True</td>\n",
       "      <td>True</td>\n",
       "      <td>True</td>\n",
       "      <td>True</td>\n",
       "      <td>True</td>\n",
       "      <td>True</td>\n",
       "      <td>True</td>\n",
       "      <td>True</td>\n",
       "      <td>True</td>\n",
       "      <td>...</td>\n",
       "      <td>False</td>\n",
       "      <td>False</td>\n",
       "      <td>False</td>\n",
       "      <td>False</td>\n",
       "      <td>False</td>\n",
       "      <td>False</td>\n",
       "      <td>False</td>\n",
       "      <td>True</td>\n",
       "      <td>True</td>\n",
       "      <td>True</td>\n",
       "    </tr>\n",
       "    <tr>\n",
       "      <th>29</th>\n",
       "      <td>True</td>\n",
       "      <td>True</td>\n",
       "      <td>True</td>\n",
       "      <td>True</td>\n",
       "      <td>True</td>\n",
       "      <td>True</td>\n",
       "      <td>True</td>\n",
       "      <td>True</td>\n",
       "      <td>True</td>\n",
       "      <td>True</td>\n",
       "      <td>...</td>\n",
       "      <td>False</td>\n",
       "      <td>False</td>\n",
       "      <td>False</td>\n",
       "      <td>False</td>\n",
       "      <td>True</td>\n",
       "      <td>False</td>\n",
       "      <td>False</td>\n",
       "      <td>True</td>\n",
       "      <td>True</td>\n",
       "      <td>True</td>\n",
       "    </tr>\n",
       "    <tr>\n",
       "      <th>...</th>\n",
       "      <td>...</td>\n",
       "      <td>...</td>\n",
       "      <td>...</td>\n",
       "      <td>...</td>\n",
       "      <td>...</td>\n",
       "      <td>...</td>\n",
       "      <td>...</td>\n",
       "      <td>...</td>\n",
       "      <td>...</td>\n",
       "      <td>...</td>\n",
       "      <td>...</td>\n",
       "      <td>...</td>\n",
       "      <td>...</td>\n",
       "      <td>...</td>\n",
       "      <td>...</td>\n",
       "      <td>...</td>\n",
       "      <td>...</td>\n",
       "      <td>...</td>\n",
       "      <td>...</td>\n",
       "      <td>...</td>\n",
       "      <td>...</td>\n",
       "    </tr>\n",
       "    <tr>\n",
       "      <th>1048545</th>\n",
       "      <td>True</td>\n",
       "      <td>True</td>\n",
       "      <td>True</td>\n",
       "      <td>True</td>\n",
       "      <td>True</td>\n",
       "      <td>True</td>\n",
       "      <td>True</td>\n",
       "      <td>True</td>\n",
       "      <td>True</td>\n",
       "      <td>True</td>\n",
       "      <td>...</td>\n",
       "      <td>False</td>\n",
       "      <td>False</td>\n",
       "      <td>False</td>\n",
       "      <td>False</td>\n",
       "      <td>True</td>\n",
       "      <td>False</td>\n",
       "      <td>False</td>\n",
       "      <td>False</td>\n",
       "      <td>True</td>\n",
       "      <td>True</td>\n",
       "    </tr>\n",
       "    <tr>\n",
       "      <th>1048546</th>\n",
       "      <td>True</td>\n",
       "      <td>True</td>\n",
       "      <td>True</td>\n",
       "      <td>True</td>\n",
       "      <td>True</td>\n",
       "      <td>True</td>\n",
       "      <td>True</td>\n",
       "      <td>True</td>\n",
       "      <td>True</td>\n",
       "      <td>True</td>\n",
       "      <td>...</td>\n",
       "      <td>False</td>\n",
       "      <td>False</td>\n",
       "      <td>False</td>\n",
       "      <td>False</td>\n",
       "      <td>True</td>\n",
       "      <td>False</td>\n",
       "      <td>False</td>\n",
       "      <td>False</td>\n",
       "      <td>True</td>\n",
       "      <td>True</td>\n",
       "    </tr>\n",
       "    <tr>\n",
       "      <th>1048547</th>\n",
       "      <td>True</td>\n",
       "      <td>True</td>\n",
       "      <td>True</td>\n",
       "      <td>True</td>\n",
       "      <td>True</td>\n",
       "      <td>True</td>\n",
       "      <td>True</td>\n",
       "      <td>True</td>\n",
       "      <td>True</td>\n",
       "      <td>True</td>\n",
       "      <td>...</td>\n",
       "      <td>False</td>\n",
       "      <td>False</td>\n",
       "      <td>False</td>\n",
       "      <td>False</td>\n",
       "      <td>True</td>\n",
       "      <td>False</td>\n",
       "      <td>False</td>\n",
       "      <td>False</td>\n",
       "      <td>True</td>\n",
       "      <td>True</td>\n",
       "    </tr>\n",
       "    <tr>\n",
       "      <th>1048548</th>\n",
       "      <td>True</td>\n",
       "      <td>True</td>\n",
       "      <td>True</td>\n",
       "      <td>True</td>\n",
       "      <td>True</td>\n",
       "      <td>True</td>\n",
       "      <td>True</td>\n",
       "      <td>True</td>\n",
       "      <td>True</td>\n",
       "      <td>True</td>\n",
       "      <td>...</td>\n",
       "      <td>False</td>\n",
       "      <td>False</td>\n",
       "      <td>False</td>\n",
       "      <td>False</td>\n",
       "      <td>True</td>\n",
       "      <td>False</td>\n",
       "      <td>False</td>\n",
       "      <td>False</td>\n",
       "      <td>True</td>\n",
       "      <td>True</td>\n",
       "    </tr>\n",
       "    <tr>\n",
       "      <th>1048549</th>\n",
       "      <td>True</td>\n",
       "      <td>True</td>\n",
       "      <td>True</td>\n",
       "      <td>True</td>\n",
       "      <td>True</td>\n",
       "      <td>True</td>\n",
       "      <td>True</td>\n",
       "      <td>True</td>\n",
       "      <td>True</td>\n",
       "      <td>True</td>\n",
       "      <td>...</td>\n",
       "      <td>False</td>\n",
       "      <td>False</td>\n",
       "      <td>False</td>\n",
       "      <td>False</td>\n",
       "      <td>True</td>\n",
       "      <td>False</td>\n",
       "      <td>False</td>\n",
       "      <td>False</td>\n",
       "      <td>True</td>\n",
       "      <td>True</td>\n",
       "    </tr>\n",
       "    <tr>\n",
       "      <th>1048550</th>\n",
       "      <td>True</td>\n",
       "      <td>True</td>\n",
       "      <td>True</td>\n",
       "      <td>True</td>\n",
       "      <td>True</td>\n",
       "      <td>True</td>\n",
       "      <td>True</td>\n",
       "      <td>True</td>\n",
       "      <td>True</td>\n",
       "      <td>True</td>\n",
       "      <td>...</td>\n",
       "      <td>False</td>\n",
       "      <td>False</td>\n",
       "      <td>False</td>\n",
       "      <td>False</td>\n",
       "      <td>False</td>\n",
       "      <td>False</td>\n",
       "      <td>False</td>\n",
       "      <td>False</td>\n",
       "      <td>True</td>\n",
       "      <td>True</td>\n",
       "    </tr>\n",
       "    <tr>\n",
       "      <th>1048551</th>\n",
       "      <td>True</td>\n",
       "      <td>True</td>\n",
       "      <td>True</td>\n",
       "      <td>True</td>\n",
       "      <td>True</td>\n",
       "      <td>True</td>\n",
       "      <td>True</td>\n",
       "      <td>True</td>\n",
       "      <td>True</td>\n",
       "      <td>True</td>\n",
       "      <td>...</td>\n",
       "      <td>False</td>\n",
       "      <td>False</td>\n",
       "      <td>False</td>\n",
       "      <td>False</td>\n",
       "      <td>False</td>\n",
       "      <td>False</td>\n",
       "      <td>False</td>\n",
       "      <td>False</td>\n",
       "      <td>True</td>\n",
       "      <td>True</td>\n",
       "    </tr>\n",
       "    <tr>\n",
       "      <th>1048552</th>\n",
       "      <td>True</td>\n",
       "      <td>True</td>\n",
       "      <td>True</td>\n",
       "      <td>True</td>\n",
       "      <td>True</td>\n",
       "      <td>True</td>\n",
       "      <td>True</td>\n",
       "      <td>True</td>\n",
       "      <td>True</td>\n",
       "      <td>True</td>\n",
       "      <td>...</td>\n",
       "      <td>False</td>\n",
       "      <td>False</td>\n",
       "      <td>False</td>\n",
       "      <td>False</td>\n",
       "      <td>True</td>\n",
       "      <td>False</td>\n",
       "      <td>False</td>\n",
       "      <td>False</td>\n",
       "      <td>True</td>\n",
       "      <td>True</td>\n",
       "    </tr>\n",
       "    <tr>\n",
       "      <th>1048553</th>\n",
       "      <td>True</td>\n",
       "      <td>True</td>\n",
       "      <td>True</td>\n",
       "      <td>True</td>\n",
       "      <td>True</td>\n",
       "      <td>True</td>\n",
       "      <td>True</td>\n",
       "      <td>True</td>\n",
       "      <td>True</td>\n",
       "      <td>True</td>\n",
       "      <td>...</td>\n",
       "      <td>False</td>\n",
       "      <td>False</td>\n",
       "      <td>False</td>\n",
       "      <td>False</td>\n",
       "      <td>True</td>\n",
       "      <td>False</td>\n",
       "      <td>False</td>\n",
       "      <td>False</td>\n",
       "      <td>True</td>\n",
       "      <td>True</td>\n",
       "    </tr>\n",
       "    <tr>\n",
       "      <th>1048554</th>\n",
       "      <td>True</td>\n",
       "      <td>True</td>\n",
       "      <td>True</td>\n",
       "      <td>True</td>\n",
       "      <td>True</td>\n",
       "      <td>True</td>\n",
       "      <td>True</td>\n",
       "      <td>True</td>\n",
       "      <td>True</td>\n",
       "      <td>True</td>\n",
       "      <td>...</td>\n",
       "      <td>False</td>\n",
       "      <td>False</td>\n",
       "      <td>False</td>\n",
       "      <td>False</td>\n",
       "      <td>True</td>\n",
       "      <td>False</td>\n",
       "      <td>False</td>\n",
       "      <td>False</td>\n",
       "      <td>True</td>\n",
       "      <td>True</td>\n",
       "    </tr>\n",
       "    <tr>\n",
       "      <th>1048555</th>\n",
       "      <td>True</td>\n",
       "      <td>True</td>\n",
       "      <td>True</td>\n",
       "      <td>True</td>\n",
       "      <td>True</td>\n",
       "      <td>True</td>\n",
       "      <td>True</td>\n",
       "      <td>True</td>\n",
       "      <td>True</td>\n",
       "      <td>True</td>\n",
       "      <td>...</td>\n",
       "      <td>False</td>\n",
       "      <td>False</td>\n",
       "      <td>False</td>\n",
       "      <td>False</td>\n",
       "      <td>True</td>\n",
       "      <td>False</td>\n",
       "      <td>False</td>\n",
       "      <td>False</td>\n",
       "      <td>True</td>\n",
       "      <td>True</td>\n",
       "    </tr>\n",
       "    <tr>\n",
       "      <th>1048556</th>\n",
       "      <td>True</td>\n",
       "      <td>True</td>\n",
       "      <td>True</td>\n",
       "      <td>True</td>\n",
       "      <td>True</td>\n",
       "      <td>True</td>\n",
       "      <td>True</td>\n",
       "      <td>True</td>\n",
       "      <td>True</td>\n",
       "      <td>True</td>\n",
       "      <td>...</td>\n",
       "      <td>False</td>\n",
       "      <td>False</td>\n",
       "      <td>False</td>\n",
       "      <td>False</td>\n",
       "      <td>True</td>\n",
       "      <td>False</td>\n",
       "      <td>False</td>\n",
       "      <td>False</td>\n",
       "      <td>True</td>\n",
       "      <td>True</td>\n",
       "    </tr>\n",
       "    <tr>\n",
       "      <th>1048557</th>\n",
       "      <td>True</td>\n",
       "      <td>True</td>\n",
       "      <td>True</td>\n",
       "      <td>True</td>\n",
       "      <td>True</td>\n",
       "      <td>True</td>\n",
       "      <td>True</td>\n",
       "      <td>True</td>\n",
       "      <td>True</td>\n",
       "      <td>True</td>\n",
       "      <td>...</td>\n",
       "      <td>False</td>\n",
       "      <td>False</td>\n",
       "      <td>False</td>\n",
       "      <td>False</td>\n",
       "      <td>True</td>\n",
       "      <td>False</td>\n",
       "      <td>False</td>\n",
       "      <td>False</td>\n",
       "      <td>True</td>\n",
       "      <td>True</td>\n",
       "    </tr>\n",
       "    <tr>\n",
       "      <th>1048558</th>\n",
       "      <td>True</td>\n",
       "      <td>True</td>\n",
       "      <td>True</td>\n",
       "      <td>True</td>\n",
       "      <td>True</td>\n",
       "      <td>True</td>\n",
       "      <td>True</td>\n",
       "      <td>True</td>\n",
       "      <td>True</td>\n",
       "      <td>True</td>\n",
       "      <td>...</td>\n",
       "      <td>False</td>\n",
       "      <td>False</td>\n",
       "      <td>False</td>\n",
       "      <td>False</td>\n",
       "      <td>True</td>\n",
       "      <td>False</td>\n",
       "      <td>False</td>\n",
       "      <td>False</td>\n",
       "      <td>True</td>\n",
       "      <td>True</td>\n",
       "    </tr>\n",
       "    <tr>\n",
       "      <th>1048559</th>\n",
       "      <td>True</td>\n",
       "      <td>True</td>\n",
       "      <td>True</td>\n",
       "      <td>True</td>\n",
       "      <td>True</td>\n",
       "      <td>True</td>\n",
       "      <td>True</td>\n",
       "      <td>True</td>\n",
       "      <td>True</td>\n",
       "      <td>True</td>\n",
       "      <td>...</td>\n",
       "      <td>False</td>\n",
       "      <td>False</td>\n",
       "      <td>False</td>\n",
       "      <td>False</td>\n",
       "      <td>True</td>\n",
       "      <td>False</td>\n",
       "      <td>False</td>\n",
       "      <td>False</td>\n",
       "      <td>True</td>\n",
       "      <td>True</td>\n",
       "    </tr>\n",
       "    <tr>\n",
       "      <th>1048560</th>\n",
       "      <td>True</td>\n",
       "      <td>True</td>\n",
       "      <td>True</td>\n",
       "      <td>True</td>\n",
       "      <td>True</td>\n",
       "      <td>True</td>\n",
       "      <td>True</td>\n",
       "      <td>True</td>\n",
       "      <td>True</td>\n",
       "      <td>True</td>\n",
       "      <td>...</td>\n",
       "      <td>False</td>\n",
       "      <td>False</td>\n",
       "      <td>False</td>\n",
       "      <td>False</td>\n",
       "      <td>False</td>\n",
       "      <td>False</td>\n",
       "      <td>False</td>\n",
       "      <td>False</td>\n",
       "      <td>True</td>\n",
       "      <td>True</td>\n",
       "    </tr>\n",
       "    <tr>\n",
       "      <th>1048561</th>\n",
       "      <td>True</td>\n",
       "      <td>True</td>\n",
       "      <td>True</td>\n",
       "      <td>True</td>\n",
       "      <td>True</td>\n",
       "      <td>True</td>\n",
       "      <td>True</td>\n",
       "      <td>True</td>\n",
       "      <td>True</td>\n",
       "      <td>True</td>\n",
       "      <td>...</td>\n",
       "      <td>False</td>\n",
       "      <td>False</td>\n",
       "      <td>False</td>\n",
       "      <td>False</td>\n",
       "      <td>False</td>\n",
       "      <td>True</td>\n",
       "      <td>False</td>\n",
       "      <td>False</td>\n",
       "      <td>True</td>\n",
       "      <td>True</td>\n",
       "    </tr>\n",
       "    <tr>\n",
       "      <th>1048562</th>\n",
       "      <td>True</td>\n",
       "      <td>True</td>\n",
       "      <td>True</td>\n",
       "      <td>True</td>\n",
       "      <td>True</td>\n",
       "      <td>True</td>\n",
       "      <td>True</td>\n",
       "      <td>True</td>\n",
       "      <td>True</td>\n",
       "      <td>True</td>\n",
       "      <td>...</td>\n",
       "      <td>False</td>\n",
       "      <td>False</td>\n",
       "      <td>False</td>\n",
       "      <td>False</td>\n",
       "      <td>True</td>\n",
       "      <td>False</td>\n",
       "      <td>False</td>\n",
       "      <td>False</td>\n",
       "      <td>True</td>\n",
       "      <td>True</td>\n",
       "    </tr>\n",
       "    <tr>\n",
       "      <th>1048563</th>\n",
       "      <td>True</td>\n",
       "      <td>True</td>\n",
       "      <td>True</td>\n",
       "      <td>True</td>\n",
       "      <td>True</td>\n",
       "      <td>True</td>\n",
       "      <td>True</td>\n",
       "      <td>True</td>\n",
       "      <td>True</td>\n",
       "      <td>True</td>\n",
       "      <td>...</td>\n",
       "      <td>False</td>\n",
       "      <td>False</td>\n",
       "      <td>False</td>\n",
       "      <td>False</td>\n",
       "      <td>False</td>\n",
       "      <td>False</td>\n",
       "      <td>False</td>\n",
       "      <td>False</td>\n",
       "      <td>True</td>\n",
       "      <td>True</td>\n",
       "    </tr>\n",
       "    <tr>\n",
       "      <th>1048564</th>\n",
       "      <td>True</td>\n",
       "      <td>True</td>\n",
       "      <td>True</td>\n",
       "      <td>True</td>\n",
       "      <td>True</td>\n",
       "      <td>True</td>\n",
       "      <td>True</td>\n",
       "      <td>True</td>\n",
       "      <td>True</td>\n",
       "      <td>True</td>\n",
       "      <td>...</td>\n",
       "      <td>False</td>\n",
       "      <td>False</td>\n",
       "      <td>False</td>\n",
       "      <td>False</td>\n",
       "      <td>True</td>\n",
       "      <td>False</td>\n",
       "      <td>False</td>\n",
       "      <td>False</td>\n",
       "      <td>True</td>\n",
       "      <td>True</td>\n",
       "    </tr>\n",
       "    <tr>\n",
       "      <th>1048565</th>\n",
       "      <td>True</td>\n",
       "      <td>True</td>\n",
       "      <td>True</td>\n",
       "      <td>True</td>\n",
       "      <td>True</td>\n",
       "      <td>True</td>\n",
       "      <td>True</td>\n",
       "      <td>True</td>\n",
       "      <td>True</td>\n",
       "      <td>True</td>\n",
       "      <td>...</td>\n",
       "      <td>False</td>\n",
       "      <td>False</td>\n",
       "      <td>False</td>\n",
       "      <td>False</td>\n",
       "      <td>False</td>\n",
       "      <td>False</td>\n",
       "      <td>False</td>\n",
       "      <td>False</td>\n",
       "      <td>True</td>\n",
       "      <td>True</td>\n",
       "    </tr>\n",
       "    <tr>\n",
       "      <th>1048566</th>\n",
       "      <td>True</td>\n",
       "      <td>True</td>\n",
       "      <td>True</td>\n",
       "      <td>True</td>\n",
       "      <td>True</td>\n",
       "      <td>True</td>\n",
       "      <td>True</td>\n",
       "      <td>True</td>\n",
       "      <td>True</td>\n",
       "      <td>True</td>\n",
       "      <td>...</td>\n",
       "      <td>False</td>\n",
       "      <td>False</td>\n",
       "      <td>False</td>\n",
       "      <td>False</td>\n",
       "      <td>False</td>\n",
       "      <td>False</td>\n",
       "      <td>False</td>\n",
       "      <td>False</td>\n",
       "      <td>True</td>\n",
       "      <td>True</td>\n",
       "    </tr>\n",
       "    <tr>\n",
       "      <th>1048567</th>\n",
       "      <td>True</td>\n",
       "      <td>True</td>\n",
       "      <td>True</td>\n",
       "      <td>True</td>\n",
       "      <td>True</td>\n",
       "      <td>True</td>\n",
       "      <td>True</td>\n",
       "      <td>True</td>\n",
       "      <td>True</td>\n",
       "      <td>True</td>\n",
       "      <td>...</td>\n",
       "      <td>False</td>\n",
       "      <td>False</td>\n",
       "      <td>False</td>\n",
       "      <td>False</td>\n",
       "      <td>False</td>\n",
       "      <td>False</td>\n",
       "      <td>False</td>\n",
       "      <td>False</td>\n",
       "      <td>True</td>\n",
       "      <td>True</td>\n",
       "    </tr>\n",
       "    <tr>\n",
       "      <th>1048568</th>\n",
       "      <td>True</td>\n",
       "      <td>True</td>\n",
       "      <td>True</td>\n",
       "      <td>True</td>\n",
       "      <td>True</td>\n",
       "      <td>True</td>\n",
       "      <td>True</td>\n",
       "      <td>True</td>\n",
       "      <td>True</td>\n",
       "      <td>True</td>\n",
       "      <td>...</td>\n",
       "      <td>False</td>\n",
       "      <td>False</td>\n",
       "      <td>False</td>\n",
       "      <td>False</td>\n",
       "      <td>True</td>\n",
       "      <td>False</td>\n",
       "      <td>False</td>\n",
       "      <td>False</td>\n",
       "      <td>True</td>\n",
       "      <td>True</td>\n",
       "    </tr>\n",
       "    <tr>\n",
       "      <th>1048569</th>\n",
       "      <td>True</td>\n",
       "      <td>True</td>\n",
       "      <td>True</td>\n",
       "      <td>True</td>\n",
       "      <td>True</td>\n",
       "      <td>True</td>\n",
       "      <td>True</td>\n",
       "      <td>True</td>\n",
       "      <td>True</td>\n",
       "      <td>True</td>\n",
       "      <td>...</td>\n",
       "      <td>False</td>\n",
       "      <td>False</td>\n",
       "      <td>False</td>\n",
       "      <td>False</td>\n",
       "      <td>True</td>\n",
       "      <td>False</td>\n",
       "      <td>False</td>\n",
       "      <td>False</td>\n",
       "      <td>True</td>\n",
       "      <td>True</td>\n",
       "    </tr>\n",
       "    <tr>\n",
       "      <th>1048570</th>\n",
       "      <td>True</td>\n",
       "      <td>True</td>\n",
       "      <td>True</td>\n",
       "      <td>True</td>\n",
       "      <td>True</td>\n",
       "      <td>True</td>\n",
       "      <td>True</td>\n",
       "      <td>True</td>\n",
       "      <td>True</td>\n",
       "      <td>True</td>\n",
       "      <td>...</td>\n",
       "      <td>False</td>\n",
       "      <td>False</td>\n",
       "      <td>False</td>\n",
       "      <td>False</td>\n",
       "      <td>True</td>\n",
       "      <td>False</td>\n",
       "      <td>False</td>\n",
       "      <td>False</td>\n",
       "      <td>True</td>\n",
       "      <td>True</td>\n",
       "    </tr>\n",
       "    <tr>\n",
       "      <th>1048571</th>\n",
       "      <td>True</td>\n",
       "      <td>True</td>\n",
       "      <td>True</td>\n",
       "      <td>True</td>\n",
       "      <td>True</td>\n",
       "      <td>True</td>\n",
       "      <td>True</td>\n",
       "      <td>True</td>\n",
       "      <td>True</td>\n",
       "      <td>True</td>\n",
       "      <td>...</td>\n",
       "      <td>False</td>\n",
       "      <td>False</td>\n",
       "      <td>False</td>\n",
       "      <td>False</td>\n",
       "      <td>False</td>\n",
       "      <td>False</td>\n",
       "      <td>False</td>\n",
       "      <td>False</td>\n",
       "      <td>True</td>\n",
       "      <td>True</td>\n",
       "    </tr>\n",
       "    <tr>\n",
       "      <th>1048572</th>\n",
       "      <td>True</td>\n",
       "      <td>True</td>\n",
       "      <td>True</td>\n",
       "      <td>True</td>\n",
       "      <td>True</td>\n",
       "      <td>True</td>\n",
       "      <td>True</td>\n",
       "      <td>True</td>\n",
       "      <td>True</td>\n",
       "      <td>True</td>\n",
       "      <td>...</td>\n",
       "      <td>False</td>\n",
       "      <td>False</td>\n",
       "      <td>False</td>\n",
       "      <td>False</td>\n",
       "      <td>False</td>\n",
       "      <td>False</td>\n",
       "      <td>False</td>\n",
       "      <td>False</td>\n",
       "      <td>True</td>\n",
       "      <td>True</td>\n",
       "    </tr>\n",
       "    <tr>\n",
       "      <th>1048573</th>\n",
       "      <td>True</td>\n",
       "      <td>True</td>\n",
       "      <td>True</td>\n",
       "      <td>True</td>\n",
       "      <td>True</td>\n",
       "      <td>True</td>\n",
       "      <td>True</td>\n",
       "      <td>True</td>\n",
       "      <td>True</td>\n",
       "      <td>True</td>\n",
       "      <td>...</td>\n",
       "      <td>False</td>\n",
       "      <td>False</td>\n",
       "      <td>False</td>\n",
       "      <td>False</td>\n",
       "      <td>False</td>\n",
       "      <td>False</td>\n",
       "      <td>False</td>\n",
       "      <td>False</td>\n",
       "      <td>True</td>\n",
       "      <td>True</td>\n",
       "    </tr>\n",
       "    <tr>\n",
       "      <th>1048574</th>\n",
       "      <td>False</td>\n",
       "      <td>False</td>\n",
       "      <td>False</td>\n",
       "      <td>False</td>\n",
       "      <td>False</td>\n",
       "      <td>False</td>\n",
       "      <td>False</td>\n",
       "      <td>False</td>\n",
       "      <td>False</td>\n",
       "      <td>False</td>\n",
       "      <td>...</td>\n",
       "      <td>False</td>\n",
       "      <td>False</td>\n",
       "      <td>False</td>\n",
       "      <td>False</td>\n",
       "      <td>False</td>\n",
       "      <td>False</td>\n",
       "      <td>False</td>\n",
       "      <td>False</td>\n",
       "      <td>False</td>\n",
       "      <td>False</td>\n",
       "    </tr>\n",
       "  </tbody>\n",
       "</table>\n",
       "<p>1048575 rows × 186 columns</p>\n",
       "</div>"
      ],
      "text/plain": [
       "         r_def   cd_a    ent    con    upm  d_sem  n_pro_viv  v_sel  n_hog  \\\n",
       "0         True   True   True   True   True   True       True   True   True   \n",
       "1         True   True   True   True   True   True       True   True   True   \n",
       "2         True   True   True   True   True   True       True   True   True   \n",
       "3         True   True   True   True   True   True       True   True   True   \n",
       "4         True   True   True   True   True   True       True   True   True   \n",
       "5         True   True   True   True   True   True       True   True   True   \n",
       "6         True   True   True   True   True   True       True   True   True   \n",
       "7         True   True   True   True   True   True       True   True   True   \n",
       "8         True   True   True   True   True   True       True   True   True   \n",
       "9         True   True   True   True   True   True       True   True   True   \n",
       "10        True   True   True   True   True   True       True   True   True   \n",
       "11        True   True   True   True   True   True       True   True   True   \n",
       "12        True   True   True   True   True   True       True   True   True   \n",
       "13        True   True   True   True   True   True       True   True   True   \n",
       "14        True   True   True   True   True   True       True   True   True   \n",
       "15        True   True   True   True   True   True       True   True   True   \n",
       "16        True   True   True   True   True   True       True   True   True   \n",
       "17        True   True   True   True   True   True       True   True   True   \n",
       "18        True   True   True   True   True   True       True   True   True   \n",
       "19        True   True   True   True   True   True       True   True   True   \n",
       "20        True   True   True   True   True   True       True   True   True   \n",
       "21        True   True   True   True   True   True       True   True   True   \n",
       "22        True   True   True   True   True   True       True   True   True   \n",
       "23        True   True   True   True   True   True       True   True   True   \n",
       "24        True   True   True   True   True   True       True   True   True   \n",
       "25        True   True   True   True   True   True       True   True   True   \n",
       "26        True   True   True   True   True   True       True   True   True   \n",
       "27        True   True   True   True   True   True       True   True   True   \n",
       "28        True   True   True   True   True   True       True   True   True   \n",
       "29        True   True   True   True   True   True       True   True   True   \n",
       "...        ...    ...    ...    ...    ...    ...        ...    ...    ...   \n",
       "1048545   True   True   True   True   True   True       True   True   True   \n",
       "1048546   True   True   True   True   True   True       True   True   True   \n",
       "1048547   True   True   True   True   True   True       True   True   True   \n",
       "1048548   True   True   True   True   True   True       True   True   True   \n",
       "1048549   True   True   True   True   True   True       True   True   True   \n",
       "1048550   True   True   True   True   True   True       True   True   True   \n",
       "1048551   True   True   True   True   True   True       True   True   True   \n",
       "1048552   True   True   True   True   True   True       True   True   True   \n",
       "1048553   True   True   True   True   True   True       True   True   True   \n",
       "1048554   True   True   True   True   True   True       True   True   True   \n",
       "1048555   True   True   True   True   True   True       True   True   True   \n",
       "1048556   True   True   True   True   True   True       True   True   True   \n",
       "1048557   True   True   True   True   True   True       True   True   True   \n",
       "1048558   True   True   True   True   True   True       True   True   True   \n",
       "1048559   True   True   True   True   True   True       True   True   True   \n",
       "1048560   True   True   True   True   True   True       True   True   True   \n",
       "1048561   True   True   True   True   True   True       True   True   True   \n",
       "1048562   True   True   True   True   True   True       True   True   True   \n",
       "1048563   True   True   True   True   True   True       True   True   True   \n",
       "1048564   True   True   True   True   True   True       True   True   True   \n",
       "1048565   True   True   True   True   True   True       True   True   True   \n",
       "1048566   True   True   True   True   True   True       True   True   True   \n",
       "1048567   True   True   True   True   True   True       True   True   True   \n",
       "1048568   True   True   True   True   True   True       True   True   True   \n",
       "1048569   True   True   True   True   True   True       True   True   True   \n",
       "1048570   True   True   True   True   True   True       True   True   True   \n",
       "1048571   True   True   True   True   True   True       True   True   True   \n",
       "1048572   True   True   True   True   True   True       True   True   True   \n",
       "1048573   True   True   True   True   True   True       True   True   True   \n",
       "1048574  False  False  False  False  False  False      False  False  False   \n",
       "\n",
       "         h_mud  ...    p5g10  p5g11  p5g12  p5g13  p5g14  p5g15  p5g99    p5h  \\\n",
       "0         True  ...    False  False  False  False   True  False  False   True   \n",
       "1         True  ...    False  False  False  False   True  False  False   True   \n",
       "2         True  ...    False  False  False  False   True  False  False   True   \n",
       "3         True  ...    False  False  False  False  False  False  False   True   \n",
       "4         True  ...    False  False  False  False   True  False  False   True   \n",
       "5         True  ...    False  False  False  False   True  False  False   True   \n",
       "6         True  ...    False  False  False  False   True  False  False   True   \n",
       "7         True  ...    False  False  False  False   True  False  False   True   \n",
       "8         True  ...    False  False  False  False   True  False  False   True   \n",
       "9         True  ...    False  False  False  False   True  False  False   True   \n",
       "10        True  ...    False  False  False  False  False  False  False   True   \n",
       "11        True  ...    False  False  False  False  False  False  False   True   \n",
       "12        True  ...    False  False  False  False  False  False  False   True   \n",
       "13        True  ...    False  False  False  False  False   True  False   True   \n",
       "14        True  ...    False  False  False  False  False  False  False   True   \n",
       "15        True  ...    False  False  False  False   True  False  False   True   \n",
       "16        True  ...    False  False  False  False   True  False  False   True   \n",
       "17        True  ...    False  False  False  False   True  False  False   True   \n",
       "18        True  ...    False  False  False  False   True  False  False   True   \n",
       "19        True  ...    False  False  False  False   True  False  False   True   \n",
       "20        True  ...    False  False  False  False   True  False  False   True   \n",
       "21        True  ...    False  False  False  False   True  False  False   True   \n",
       "22        True  ...    False  False  False  False  False  False  False   True   \n",
       "23        True  ...    False  False  False  False   True  False  False   True   \n",
       "24        True  ...    False  False  False  False  False  False  False   True   \n",
       "25        True  ...    False  False  False  False  False  False  False   True   \n",
       "26        True  ...    False  False  False  False  False  False  False   True   \n",
       "27        True  ...    False  False  False  False   True  False  False   True   \n",
       "28        True  ...    False  False  False  False  False  False  False   True   \n",
       "29        True  ...    False  False  False  False   True  False  False   True   \n",
       "...        ...  ...      ...    ...    ...    ...    ...    ...    ...    ...   \n",
       "1048545   True  ...    False  False  False  False   True  False  False  False   \n",
       "1048546   True  ...    False  False  False  False   True  False  False  False   \n",
       "1048547   True  ...    False  False  False  False   True  False  False  False   \n",
       "1048548   True  ...    False  False  False  False   True  False  False  False   \n",
       "1048549   True  ...    False  False  False  False   True  False  False  False   \n",
       "1048550   True  ...    False  False  False  False  False  False  False  False   \n",
       "1048551   True  ...    False  False  False  False  False  False  False  False   \n",
       "1048552   True  ...    False  False  False  False   True  False  False  False   \n",
       "1048553   True  ...    False  False  False  False   True  False  False  False   \n",
       "1048554   True  ...    False  False  False  False   True  False  False  False   \n",
       "1048555   True  ...    False  False  False  False   True  False  False  False   \n",
       "1048556   True  ...    False  False  False  False   True  False  False  False   \n",
       "1048557   True  ...    False  False  False  False   True  False  False  False   \n",
       "1048558   True  ...    False  False  False  False   True  False  False  False   \n",
       "1048559   True  ...    False  False  False  False   True  False  False  False   \n",
       "1048560   True  ...    False  False  False  False  False  False  False  False   \n",
       "1048561   True  ...    False  False  False  False  False   True  False  False   \n",
       "1048562   True  ...    False  False  False  False   True  False  False  False   \n",
       "1048563   True  ...    False  False  False  False  False  False  False  False   \n",
       "1048564   True  ...    False  False  False  False   True  False  False  False   \n",
       "1048565   True  ...    False  False  False  False  False  False  False  False   \n",
       "1048566   True  ...    False  False  False  False  False  False  False  False   \n",
       "1048567   True  ...    False  False  False  False  False  False  False  False   \n",
       "1048568   True  ...    False  False  False  False   True  False  False  False   \n",
       "1048569   True  ...    False  False  False  False   True  False  False  False   \n",
       "1048570   True  ...    False  False  False  False   True  False  False  False   \n",
       "1048571   True  ...    False  False  False  False  False  False  False  False   \n",
       "1048572   True  ...    False  False  False  False  False  False  False  False   \n",
       "1048573   True  ...    False  False  False  False  False  False  False  False   \n",
       "1048574  False  ...    False  False  False  False  False  False  False  False   \n",
       "\n",
       "            ur    fac  \n",
       "0         True   True  \n",
       "1         True   True  \n",
       "2         True   True  \n",
       "3         True   True  \n",
       "4         True   True  \n",
       "5         True   True  \n",
       "6         True   True  \n",
       "7         True   True  \n",
       "8         True   True  \n",
       "9         True   True  \n",
       "10        True   True  \n",
       "11        True   True  \n",
       "12        True   True  \n",
       "13        True   True  \n",
       "14        True   True  \n",
       "15        True   True  \n",
       "16        True   True  \n",
       "17        True   True  \n",
       "18        True   True  \n",
       "19        True   True  \n",
       "20        True   True  \n",
       "21        True   True  \n",
       "22        True   True  \n",
       "23        True   True  \n",
       "24        True   True  \n",
       "25        True   True  \n",
       "26        True   True  \n",
       "27        True   True  \n",
       "28        True   True  \n",
       "29        True   True  \n",
       "...        ...    ...  \n",
       "1048545   True   True  \n",
       "1048546   True   True  \n",
       "1048547   True   True  \n",
       "1048548   True   True  \n",
       "1048549   True   True  \n",
       "1048550   True   True  \n",
       "1048551   True   True  \n",
       "1048552   True   True  \n",
       "1048553   True   True  \n",
       "1048554   True   True  \n",
       "1048555   True   True  \n",
       "1048556   True   True  \n",
       "1048557   True   True  \n",
       "1048558   True   True  \n",
       "1048559   True   True  \n",
       "1048560   True   True  \n",
       "1048561   True   True  \n",
       "1048562   True   True  \n",
       "1048563   True   True  \n",
       "1048564   True   True  \n",
       "1048565   True   True  \n",
       "1048566   True   True  \n",
       "1048567   True   True  \n",
       "1048568   True   True  \n",
       "1048569   True   True  \n",
       "1048570   True   True  \n",
       "1048571   True   True  \n",
       "1048572   True   True  \n",
       "1048573   True   True  \n",
       "1048574  False  False  \n",
       "\n",
       "[1048575 rows x 186 columns]"
      ]
     },
     "execution_count": 11,
     "metadata": {},
     "output_type": "execute_result"
    }
   ],
   "source": [
    "df.notnull()"
   ]
  },
  {
   "cell_type": "markdown",
   "metadata": {},
   "source": [
    "## Columnas con datos completos (complete data) y faltantes (missing data)"
   ]
  },
  {
   "cell_type": "code",
   "execution_count": 12,
   "metadata": {},
   "outputs": [
    {
     "data": {
      "text/plain": [
       "r_def        False\n",
       "cd_a         False\n",
       "ent          False\n",
       "con          False\n",
       "upm          False\n",
       "d_sem        False\n",
       "n_pro_viv    False\n",
       "v_sel        False\n",
       "n_hog        False\n",
       "h_mud        False\n",
       "n_ent        False\n",
       "per          False\n",
       "n_ren        False\n",
       "eda          False\n",
       "n_inf        False\n",
       "p1           False\n",
       "p1a1         False\n",
       "p1a2         False\n",
       "p1a3         False\n",
       "p1b          False\n",
       "p1c          False\n",
       "p1d          False\n",
       "p1e          False\n",
       "p2_1         False\n",
       "p2_2         False\n",
       "p2_3         False\n",
       "p2_4         False\n",
       "p2_9         False\n",
       "p2a_dia      False\n",
       "p2a_sem      False\n",
       "             ...  \n",
       "p5e_hju      False\n",
       "p5e_mju      False\n",
       "p5e_hvi      False\n",
       "p5e_mvi      False\n",
       "p5e_hsa      False\n",
       "p5e_msa      False\n",
       "p5e_hdo      False\n",
       "p5e_mdo      False\n",
       "p5e_thrs     False\n",
       "p5e_tdia     False\n",
       "p5f          False\n",
       "p5g1         False\n",
       "p5g2         False\n",
       "p5g3         False\n",
       "p5g4         False\n",
       "p5g5         False\n",
       "p5g6         False\n",
       "p5g7         False\n",
       "p5g8         False\n",
       "p5g9         False\n",
       "p5g10        False\n",
       "p5g11        False\n",
       "p5g12        False\n",
       "p5g13        False\n",
       "p5g14        False\n",
       "p5g15        False\n",
       "p5g99        False\n",
       "p5h          False\n",
       "ur           False\n",
       "fac          False\n",
       "Length: 186, dtype: bool"
      ]
     },
     "execution_count": 12,
     "metadata": {},
     "output_type": "execute_result"
    }
   ],
   "source": [
    "df_copy_20151.notnull().all()"
   ]
  },
  {
   "cell_type": "code",
   "execution_count": 13,
   "metadata": {},
   "outputs": [],
   "source": [
    "df_copy_20151 = df_copy_20151.fillna(value=99)"
   ]
  },
  {
   "cell_type": "code",
   "execution_count": 14,
   "metadata": {},
   "outputs": [
    {
     "data": {
      "text/html": [
       "<div>\n",
       "<style scoped>\n",
       "    .dataframe tbody tr th:only-of-type {\n",
       "        vertical-align: middle;\n",
       "    }\n",
       "\n",
       "    .dataframe tbody tr th {\n",
       "        vertical-align: top;\n",
       "    }\n",
       "\n",
       "    .dataframe thead th {\n",
       "        text-align: right;\n",
       "    }\n",
       "</style>\n",
       "<table border=\"1\" class=\"dataframe\">\n",
       "  <thead>\n",
       "    <tr style=\"text-align: right;\">\n",
       "      <th></th>\n",
       "      <th>r_def</th>\n",
       "      <th>cd_a</th>\n",
       "      <th>ent</th>\n",
       "      <th>con</th>\n",
       "      <th>upm</th>\n",
       "      <th>d_sem</th>\n",
       "      <th>n_pro_viv</th>\n",
       "      <th>v_sel</th>\n",
       "      <th>n_hog</th>\n",
       "      <th>h_mud</th>\n",
       "      <th>...</th>\n",
       "      <th>p5g10</th>\n",
       "      <th>p5g11</th>\n",
       "      <th>p5g12</th>\n",
       "      <th>p5g13</th>\n",
       "      <th>p5g14</th>\n",
       "      <th>p5g15</th>\n",
       "      <th>p5g99</th>\n",
       "      <th>p5h</th>\n",
       "      <th>ur</th>\n",
       "      <th>fac</th>\n",
       "    </tr>\n",
       "  </thead>\n",
       "  <tbody>\n",
       "    <tr>\n",
       "      <th>0</th>\n",
       "      <td>0.0</td>\n",
       "      <td>1.0</td>\n",
       "      <td>9.0</td>\n",
       "      <td>40001.0</td>\n",
       "      <td>900471.0</td>\n",
       "      <td>101.0</td>\n",
       "      <td>19.0</td>\n",
       "      <td>1.0</td>\n",
       "      <td>1.0</td>\n",
       "      <td>0.0</td>\n",
       "      <td>...</td>\n",
       "      <td>99.0</td>\n",
       "      <td>99.0</td>\n",
       "      <td>99.0</td>\n",
       "      <td>99.0</td>\n",
       "      <td>14.0</td>\n",
       "      <td>99.0</td>\n",
       "      <td>99.0</td>\n",
       "      <td></td>\n",
       "      <td>1.0</td>\n",
       "      <td>507.0</td>\n",
       "    </tr>\n",
       "    <tr>\n",
       "      <th>1</th>\n",
       "      <td>0.0</td>\n",
       "      <td>1.0</td>\n",
       "      <td>9.0</td>\n",
       "      <td>40001.0</td>\n",
       "      <td>900471.0</td>\n",
       "      <td>101.0</td>\n",
       "      <td>45.0</td>\n",
       "      <td>2.0</td>\n",
       "      <td>1.0</td>\n",
       "      <td>0.0</td>\n",
       "      <td>...</td>\n",
       "      <td>99.0</td>\n",
       "      <td>99.0</td>\n",
       "      <td>99.0</td>\n",
       "      <td>99.0</td>\n",
       "      <td>14.0</td>\n",
       "      <td>99.0</td>\n",
       "      <td>99.0</td>\n",
       "      <td></td>\n",
       "      <td>1.0</td>\n",
       "      <td>507.0</td>\n",
       "    </tr>\n",
       "    <tr>\n",
       "      <th>2</th>\n",
       "      <td>0.0</td>\n",
       "      <td>1.0</td>\n",
       "      <td>9.0</td>\n",
       "      <td>40001.0</td>\n",
       "      <td>900471.0</td>\n",
       "      <td>101.0</td>\n",
       "      <td>45.0</td>\n",
       "      <td>2.0</td>\n",
       "      <td>1.0</td>\n",
       "      <td>0.0</td>\n",
       "      <td>...</td>\n",
       "      <td>99.0</td>\n",
       "      <td>99.0</td>\n",
       "      <td>99.0</td>\n",
       "      <td>99.0</td>\n",
       "      <td>14.0</td>\n",
       "      <td>99.0</td>\n",
       "      <td>99.0</td>\n",
       "      <td></td>\n",
       "      <td>1.0</td>\n",
       "      <td>507.0</td>\n",
       "    </tr>\n",
       "    <tr>\n",
       "      <th>3</th>\n",
       "      <td>0.0</td>\n",
       "      <td>1.0</td>\n",
       "      <td>9.0</td>\n",
       "      <td>40001.0</td>\n",
       "      <td>900471.0</td>\n",
       "      <td>101.0</td>\n",
       "      <td>45.0</td>\n",
       "      <td>2.0</td>\n",
       "      <td>1.0</td>\n",
       "      <td>0.0</td>\n",
       "      <td>...</td>\n",
       "      <td>99.0</td>\n",
       "      <td>99.0</td>\n",
       "      <td>99.0</td>\n",
       "      <td>99.0</td>\n",
       "      <td>99.0</td>\n",
       "      <td>99.0</td>\n",
       "      <td>99.0</td>\n",
       "      <td></td>\n",
       "      <td>1.0</td>\n",
       "      <td>507.0</td>\n",
       "    </tr>\n",
       "    <tr>\n",
       "      <th>4</th>\n",
       "      <td>0.0</td>\n",
       "      <td>1.0</td>\n",
       "      <td>9.0</td>\n",
       "      <td>40001.0</td>\n",
       "      <td>900471.0</td>\n",
       "      <td>101.0</td>\n",
       "      <td>97.0</td>\n",
       "      <td>4.0</td>\n",
       "      <td>1.0</td>\n",
       "      <td>0.0</td>\n",
       "      <td>...</td>\n",
       "      <td>99.0</td>\n",
       "      <td>99.0</td>\n",
       "      <td>99.0</td>\n",
       "      <td>99.0</td>\n",
       "      <td>14.0</td>\n",
       "      <td>99.0</td>\n",
       "      <td>99.0</td>\n",
       "      <td></td>\n",
       "      <td>1.0</td>\n",
       "      <td>507.0</td>\n",
       "    </tr>\n",
       "  </tbody>\n",
       "</table>\n",
       "<p>5 rows × 186 columns</p>\n",
       "</div>"
      ],
      "text/plain": [
       "   r_def  cd_a  ent      con       upm  d_sem  n_pro_viv  v_sel  n_hog  h_mud  \\\n",
       "0    0.0   1.0  9.0  40001.0  900471.0  101.0       19.0    1.0    1.0    0.0   \n",
       "1    0.0   1.0  9.0  40001.0  900471.0  101.0       45.0    2.0    1.0    0.0   \n",
       "2    0.0   1.0  9.0  40001.0  900471.0  101.0       45.0    2.0    1.0    0.0   \n",
       "3    0.0   1.0  9.0  40001.0  900471.0  101.0       45.0    2.0    1.0    0.0   \n",
       "4    0.0   1.0  9.0  40001.0  900471.0  101.0       97.0    4.0    1.0    0.0   \n",
       "\n",
       "   ...    p5g10  p5g11  p5g12  p5g13  p5g14  p5g15 p5g99 p5h   ur    fac  \n",
       "0  ...     99.0   99.0   99.0   99.0   14.0   99.0  99.0      1.0  507.0  \n",
       "1  ...     99.0   99.0   99.0   99.0   14.0   99.0  99.0      1.0  507.0  \n",
       "2  ...     99.0   99.0   99.0   99.0   14.0   99.0  99.0      1.0  507.0  \n",
       "3  ...     99.0   99.0   99.0   99.0   99.0   99.0  99.0      1.0  507.0  \n",
       "4  ...     99.0   99.0   99.0   99.0   14.0   99.0  99.0      1.0  507.0  \n",
       "\n",
       "[5 rows x 186 columns]"
      ]
     },
     "execution_count": 14,
     "metadata": {},
     "output_type": "execute_result"
    }
   ],
   "source": [
    "df_copy_20151.head()"
   ]
  },
  {
   "cell_type": "markdown",
   "metadata": {},
   "source": [
    "## Resultado definitivo de la entrevista (r_def)\n",
    "\n",
    "0 Entrevista completa"
   ]
  },
  {
   "cell_type": "code",
   "execution_count": 15,
   "metadata": {},
   "outputs": [
    {
     "data": {
      "text/plain": [
       "0     1048574\n",
       "99          1\n",
       "Name: r_def, dtype: int64"
      ]
     },
     "execution_count": 15,
     "metadata": {},
     "output_type": "execute_result"
    }
   ],
   "source": [
    "df_copy_20151['r_def'] = df_copy_20151['r_def'].astype('int64')\n",
    "df_copy_20151.r_def.value_counts()"
   ]
  },
  {
   "cell_type": "markdown",
   "metadata": {},
   "source": [
    "## Ciudad autorrepresentada (cd_a)\n",
    "1 México 2 Guadalajara 3 Monterrey 4 Puebla 5 León 6 Torreón (a partir de 2017) 7 San Luis Potosí 8 Mérida 9 Chihuahua 10 Tampico 12 Veracruz 13 Acapulco 14 Aguascalientes 15 Morelia 16 Toluca 17 Saltillo 18 Villahermosa 19 Tuxtla Gutiérrez 21 Tijuana 24 Culiacán 25 Hermosillo 26 Durango 27 Tepic 28 Campeche 29 Cuernavaca 31 Oaxaca 32 Zacatecas 33 Colima 36 Querétaro 39 Tlaxcala 40 La Paz 41 Cancún 43 Pachuca 81 Complemento urbano-rural 82 Complemento urbano-rural 83 Complemento urbano-rural 84 Complemento urbano-rural 85 Complemento urbano-rural 86 Complemento urbano-rural"
   ]
  },
  {
   "cell_type": "code",
   "execution_count": 16,
   "metadata": {
    "scrolled": true
   },
   "outputs": [
    {
     "data": {
      "text/plain": [
       "86    140731\n",
       "81     72606\n",
       "83     51611\n",
       "1      50526\n",
       "84     47543\n",
       "85     37782\n",
       "5      35250\n",
       "3      33611\n",
       "2      33270\n",
       "4      31964\n",
       "16     23950\n",
       "82     23908\n",
       "15     22727\n",
       "7      22246\n",
       "14     22096\n",
       "17     21665\n",
       "18     21642\n",
       "19     21524\n",
       "8      21341\n",
       "9      20611\n",
       "13     20497\n",
       "10     18999\n",
       "12     18099\n",
       "39     17816\n",
       "31     17517\n",
       "26     16772\n",
       "32     16682\n",
       "24     16529\n",
       "27     16423\n",
       "29     16016\n",
       "25     15464\n",
       "36     15369\n",
       "33     15185\n",
       "21     14940\n",
       "43     14935\n",
       "28     14217\n",
       "41     13831\n",
       "40     12679\n",
       "99         1\n",
       "Name: cd_a, dtype: int64"
      ]
     },
     "execution_count": 16,
     "metadata": {},
     "output_type": "execute_result"
    }
   ],
   "source": [
    "df_copy_20151['cd_a'] = df_copy_20151['cd_a'].astype('int64')\n",
    "df_copy_20151.cd_a.value_counts()"
   ]
  },
  {
   "cell_type": "markdown",
   "metadata": {},
   "source": [
    "## Entidad (ent)\n",
    "1 Aguascalientes 2 Baja California 3 Baja California Sur 4 Campeche 5 Coahuila de Zaragoza 6 Colima 7 Chiapas 8 Chihuahua 9 Distrito Federal 10 Durango 11 Guanajuato 12 Guerrero 13 Hidalgo 14 Jalisco 15 México 16 Michoacán de Ocampo 17 Morelos 18 Nayarit 19 Nuevo León 20 Oaxaca 21 Puebla 22 Querétaro 23 Quintana Roo 24 San Luis Potosí 25 Sinaloa 26 Sonora 27 Tabasco 28 Tamaulipas 29 Tlaxcala 30 Veracruz de Ignacio de la Llave 31 Yucatán 32 Zacatecas"
   ]
  },
  {
   "cell_type": "code",
   "execution_count": 17,
   "metadata": {},
   "outputs": [
    {
     "data": {
      "text/plain": [
       "15    54540\n",
       "11    49398\n",
       "21    44413\n",
       "14    43338\n",
       "19    41749\n",
       "7     38348\n",
       "30    36961\n",
       "12    35058\n",
       "16    35044\n",
       "24    34668\n",
       "1     34558\n",
       "5     34364\n",
       "27    34264\n",
       "20    33723\n",
       "8     32658\n",
       "31    32635\n",
       "9     31408\n",
       "28    31274\n",
       "32    29684\n",
       "2     29455\n",
       "25    28079\n",
       "29    27906\n",
       "18    27842\n",
       "22    26920\n",
       "10    26880\n",
       "4     26649\n",
       "17    26279\n",
       "26    26050\n",
       "6     25706\n",
       "13    24874\n",
       "23    23422\n",
       "3     20427\n",
       "99        1\n",
       "Name: ent, dtype: int64"
      ]
     },
     "execution_count": 17,
     "metadata": {},
     "output_type": "execute_result"
    }
   ],
   "source": [
    "df_copy_20151['ent'] = df_copy_20151['ent'].astype('int64')\n",
    "df_copy_20151.ent.value_counts()"
   ]
  },
  {
   "cell_type": "markdown",
   "metadata": {},
   "source": [
    "## Control (con)\n",
    "Primer dígito Ámbito del número de control 0 El control pertenece a la muestra anterior 4 Ciudades autorrepresentadas 5 Complemento urbano 6 Rural\n",
    "\n",
    "Los últimos cuatro Consecutivo por entidad dígitos y ámbito 0001-9999 ]"
   ]
  },
  {
   "cell_type": "code",
   "execution_count": 18,
   "metadata": {
    "scrolled": true
   },
   "outputs": [
    {
     "data": {
      "text/plain": [
       "60004    5290\n",
       "60002    5260\n",
       "60009    5086\n",
       "60003    5083\n",
       "60008    5071\n",
       "60006    5069\n",
       "60005    5032\n",
       "60010    5030\n",
       "60001    5028\n",
       "60011    4949\n",
       "60007    4945\n",
       "60013    4944\n",
       "60012    4876\n",
       "60014    4714\n",
       "60015    4522\n",
       "60016    3863\n",
       "50007    3804\n",
       "60017    3726\n",
       "60018    3613\n",
       "50016    3570\n",
       "50014    3527\n",
       "50029    3525\n",
       "60020    3524\n",
       "50008    3518\n",
       "50010    3455\n",
       "50025    3394\n",
       "50027    3369\n",
       "50009    3333\n",
       "50023    3305\n",
       "50021    3301\n",
       "         ... \n",
       "40632      43\n",
       "40633      43\n",
       "50265      41\n",
       "50258      41\n",
       "40619      41\n",
       "41378      39\n",
       "40618      39\n",
       "40613      39\n",
       "50263      38\n",
       "40610      38\n",
       "40634      38\n",
       "40609      38\n",
       "40611      37\n",
       "50266      37\n",
       "50267      36\n",
       "50244      34\n",
       "40617      34\n",
       "50264      34\n",
       "50268      33\n",
       "40604      32\n",
       "40637      30\n",
       "40608      27\n",
       "50218      25\n",
       "40631      22\n",
       "50259      21\n",
       "40630      21\n",
       "40636      14\n",
       "50260       8\n",
       "40629       4\n",
       "99          1\n",
       "Name: con, Length: 1382, dtype: int64"
      ]
     },
     "execution_count": 18,
     "metadata": {},
     "output_type": "execute_result"
    }
   ],
   "source": [
    "df_copy_20151['con'] = df_copy_20151['con'].astype('int64')\n",
    "df_copy_20151.con.value_counts()"
   ]
  },
  {
   "cell_type": "markdown",
   "metadata": {},
   "source": [
    "## Unidad primaria de muestreo (upm)\n",
    "0100001-3299999 Número de la unidad primaria de muestreo"
   ]
  },
  {
   "cell_type": "code",
   "execution_count": 19,
   "metadata": {
    "scrolled": true
   },
   "outputs": [
    {
     "data": {
      "text/plain": [
       "761373     263\n",
       "1160872    257\n",
       "401425     250\n",
       "1360799    247\n",
       "1203268    238\n",
       "1860299    233\n",
       "2760972    233\n",
       "660013     231\n",
       "2161060    230\n",
       "1860291    230\n",
       "160051     227\n",
       "2960235    227\n",
       "2761026    226\n",
       "1161612    226\n",
       "2105010    225\n",
       "1003308    225\n",
       "2504685    225\n",
       "1261153    225\n",
       "1108219    224\n",
       "1412210    223\n",
       "2202807    223\n",
       "1661557    223\n",
       "160249     222\n",
       "2060883    222\n",
       "2960188    222\n",
       "2107672    222\n",
       "702431     221\n",
       "3103888    221\n",
       "762502     221\n",
       "160250     220\n",
       "          ... \n",
       "2806404      8\n",
       "902786       8\n",
       "2303257      8\n",
       "1701897      8\n",
       "3010365      8\n",
       "2302167      8\n",
       "2100169      8\n",
       "1502924      8\n",
       "2605098      8\n",
       "2200466      7\n",
       "401050       7\n",
       "205293       7\n",
       "2201532      6\n",
       "3000089      6\n",
       "2300755      6\n",
       "919078       6\n",
       "3001803      5\n",
       "1100020      5\n",
       "2302118      5\n",
       "1300642      5\n",
       "3008094      4\n",
       "919163       4\n",
       "1702303      4\n",
       "902508       4\n",
       "204481       4\n",
       "918193       4\n",
       "919228       4\n",
       "919335       3\n",
       "1702301      2\n",
       "99           1\n",
       "Name: upm, Length: 18751, dtype: int64"
      ]
     },
     "execution_count": 19,
     "metadata": {},
     "output_type": "execute_result"
    }
   ],
   "source": [
    "df_copy_20151['upm'] = df_copy_20151['upm'].astype('int64')\n",
    "df_copy_20151.upm.value_counts()"
   ]
  },
  {
   "cell_type": "markdown",
   "metadata": {},
   "source": [
    "## Distribución semanal(D_SEM)¶\n",
    "Primer dígito 1-500"
   ]
  },
  {
   "cell_type": "code",
   "execution_count": 20,
   "metadata": {
    "scrolled": true
   },
   "outputs": [
    {
     "data": {
      "text/plain": [
       "402    35745\n",
       "302    35726\n",
       "503    35680\n",
       "401    35627\n",
       "501    35604\n",
       "103    35594\n",
       "403    35530\n",
       "101    35470\n",
       "102    35389\n",
       "203    35265\n",
       "202    35145\n",
       "301    35020\n",
       "502    34996\n",
       "201    34918\n",
       "303    34818\n",
       "110    10776\n",
       "304    10739\n",
       "111    10731\n",
       "310    10719\n",
       "512    10707\n",
       "207    10612\n",
       "510    10551\n",
       "211    10541\n",
       "112    10541\n",
       "206    10520\n",
       "205    10502\n",
       "306    10496\n",
       "208    10488\n",
       "409    10485\n",
       "109    10479\n",
       "       ...  \n",
       "107    10404\n",
       "404    10393\n",
       "406    10392\n",
       "405    10381\n",
       "213    10375\n",
       "307    10365\n",
       "308    10355\n",
       "504    10346\n",
       "411    10339\n",
       "204    10332\n",
       "212    10289\n",
       "407    10282\n",
       "104    10272\n",
       "105    10263\n",
       "511    10221\n",
       "209    10211\n",
       "410    10194\n",
       "312    10192\n",
       "412    10181\n",
       "106    10165\n",
       "509    10152\n",
       "311    10146\n",
       "108    10128\n",
       "113    10111\n",
       "210    10081\n",
       "506    10077\n",
       "513    10058\n",
       "508     9926\n",
       "313     9845\n",
       "99         1\n",
       "Name: d_sem, Length: 66, dtype: int64"
      ]
     },
     "execution_count": 20,
     "metadata": {},
     "output_type": "execute_result"
    }
   ],
   "source": [
    "df_copy_20151['d_sem'] = df_copy_20151['d_sem'].astype('int64')\n",
    "df_copy_20151.d_sem.value_counts()"
   ]
  },
  {
   "cell_type": "markdown",
   "metadata": {},
   "source": [
    "## Número progresivo de la vivienda (N_PRO_VIV)\n",
    "Número progresivo de la vivienda 0001-9999\n",
    "\n",
    "Número progresivo de la vivienda en el listado 0001-9999"
   ]
  },
  {
   "cell_type": "code",
   "execution_count": 21,
   "metadata": {
    "scrolled": true
   },
   "outputs": [
    {
     "data": {
      "text/plain": [
       "70     8004\n",
       "24     7969\n",
       "38     7932\n",
       "34     7921\n",
       "47     7896\n",
       "25     7882\n",
       "7      7871\n",
       "29     7846\n",
       "69     7827\n",
       "46     7756\n",
       "78     7749\n",
       "2      7740\n",
       "52     7729\n",
       "15     7702\n",
       "58     7663\n",
       "5      7653\n",
       "17     7642\n",
       "48     7639\n",
       "3      7635\n",
       "16     7629\n",
       "22     7619\n",
       "14     7619\n",
       "20     7617\n",
       "19     7590\n",
       "60     7581\n",
       "39     7581\n",
       "18     7580\n",
       "76     7576\n",
       "63     7574\n",
       "81     7570\n",
       "       ... \n",
       "453       4\n",
       "527       4\n",
       "469       4\n",
       "479       3\n",
       "529       3\n",
       "496       3\n",
       "627       3\n",
       "429       3\n",
       "561       3\n",
       "678       3\n",
       "598       3\n",
       "412       3\n",
       "510       3\n",
       "449       3\n",
       "438       2\n",
       "437       2\n",
       "778       2\n",
       "454       2\n",
       "620       2\n",
       "600       2\n",
       "588       2\n",
       "443       2\n",
       "519       2\n",
       "540       2\n",
       "486       2\n",
       "439       2\n",
       "433       2\n",
       "470       2\n",
       "597       1\n",
       "425       1\n",
       "Name: n_pro_viv, Length: 509, dtype: int64"
      ]
     },
     "execution_count": 21,
     "metadata": {},
     "output_type": "execute_result"
    }
   ],
   "source": [
    "df_copy_20151['n_pro_viv'] = df_copy_20151['n_pro_viv'].astype('int64')\n",
    "df_copy_20151.n_pro_viv.value_counts()"
   ]
  },
  {
   "cell_type": "markdown",
   "metadata": {},
   "source": [
    "## Vivienda seleccionada (V_SEL)\n",
    "01-99 seleccionada"
   ]
  },
  {
   "cell_type": "code",
   "execution_count": 22,
   "metadata": {},
   "outputs": [
    {
     "data": {
      "text/plain": [
       "1     165784\n",
       "2     165092\n",
       "4     164307\n",
       "3     164135\n",
       "5     163696\n",
       "13     15213\n",
       "17     15169\n",
       "15     15160\n",
       "9      15151\n",
       "7      15108\n",
       "16     15098\n",
       "6      15086\n",
       "14     15036\n",
       "12     14971\n",
       "8      14907\n",
       "10     14828\n",
       "11     14735\n",
       "19     14513\n",
       "18     14500\n",
       "20     14212\n",
       "21      1361\n",
       "22       397\n",
       "23        86\n",
       "24        19\n",
       "26         6\n",
       "25         4\n",
       "99         1\n",
       "Name: v_sel, dtype: int64"
      ]
     },
     "execution_count": 22,
     "metadata": {},
     "output_type": "execute_result"
    }
   ],
   "source": [
    "df_copy_20151['v_sel'] = df_copy_20151['v_sel'].astype('int64')\n",
    "df_copy_20151.v_sel.value_counts()"
   ]
  },
  {
   "cell_type": "markdown",
   "metadata": {},
   "source": [
    "## Número de hogar (n_hog)\n",
    "1 Número de hogar principal dentro de la vivienda\n",
    "2-9 Número de hogar adicional dentro de la vivienda"
   ]
  },
  {
   "cell_type": "code",
   "execution_count": 23,
   "metadata": {
    "scrolled": true
   },
   "outputs": [
    {
     "data": {
      "text/plain": [
       "1     1043156\n",
       "2        4535\n",
       "3         728\n",
       "4         131\n",
       "5          24\n",
       "99          1\n",
       "Name: n_hog, dtype: int64"
      ]
     },
     "execution_count": 23,
     "metadata": {},
     "output_type": "execute_result"
    }
   ],
   "source": [
    "df_copy_20151['n_hog'] = df_copy_20151['n_hog'].astype('int64')\n",
    "df_copy_20151.n_hog.value_counts()"
   ]
  },
  {
   "cell_type": "markdown",
   "metadata": {},
   "source": [
    "## Hogar mudado (h_mud)\n",
    "0-4 Número de veces que el hogar se ha mudado"
   ]
  },
  {
   "cell_type": "code",
   "execution_count": 24,
   "metadata": {},
   "outputs": [
    {
     "data": {
      "text/plain": [
       "0     1019521\n",
       "1       26089\n",
       "2        2738\n",
       "3         215\n",
       "4          11\n",
       "99          1\n",
       "Name: h_mud, dtype: int64"
      ]
     },
     "execution_count": 24,
     "metadata": {},
     "output_type": "execute_result"
    }
   ],
   "source": [
    "df_copy_20151['h_mud'] = df_copy_20151['h_mud'].astype('int64')\n",
    "df_copy_20151.h_mud.value_counts()"
   ]
  },
  {
   "cell_type": "markdown",
   "metadata": {},
   "source": [
    "## Número de entrevista o visita (n_ent)\n",
    "1-5 Número de entrevista o visita realizada a la vivienda"
   ]
  },
  {
   "cell_type": "code",
   "execution_count": 25,
   "metadata": {},
   "outputs": [
    {
     "data": {
      "text/plain": [
       "1     211184\n",
       "2     210811\n",
       "3     209587\n",
       "4     208770\n",
       "5     208222\n",
       "99         1\n",
       "Name: n_ent, dtype: int64"
      ]
     },
     "execution_count": 25,
     "metadata": {},
     "output_type": "execute_result"
    }
   ],
   "source": [
    "df_copy_20151['n_ent'] = df_copy_20151['n_ent'].astype('int64')\n",
    "df_copy_20151.n_ent.value_counts()"
   ]
  },
  {
   "cell_type": "markdown",
   "metadata": {},
   "source": [
    "## Periodo (per)\n",
    "Primer dígito, 1-4\n",
    "Primer dígito Trimestre de año 1 Enero-Marzo 2 Abril-Junio 3 Julio-Septiembre 4 Octubre-Diciembre\n",
    "\n",
    "Segundo y tercer dígito 05-99 Año en curso"
   ]
  },
  {
   "cell_type": "code",
   "execution_count": 26,
   "metadata": {},
   "outputs": [
    {
     "data": {
      "text/plain": [
       "115    313934\n",
       "215    313877\n",
       "315    312156\n",
       "415    108607\n",
       "99          1\n",
       "Name: per, dtype: int64"
      ]
     },
     "execution_count": 26,
     "metadata": {},
     "output_type": "execute_result"
    }
   ],
   "source": [
    "df_copy_20151['per'] = df_copy_20151['per'].astype('int64')\n",
    "df_copy_20151.per.value_counts()"
   ]
  },
  {
   "cell_type": "markdown",
   "metadata": {},
   "source": [
    "## Número de renglón (n_ren)\n",
    "01-30 Número de renglón del integrante del hogar"
   ]
  },
  {
   "cell_type": "code",
   "execution_count": 27,
   "metadata": {
    "scrolled": true
   },
   "outputs": [
    {
     "data": {
      "text/plain": [
       "1     354037\n",
       "2     313266\n",
       "3     183139\n",
       "4     108202\n",
       "5      49156\n",
       "6      21304\n",
       "7       9535\n",
       "8       4638\n",
       "9       2478\n",
       "10      1296\n",
       "11       635\n",
       "12       367\n",
       "13       234\n",
       "14       123\n",
       "15        72\n",
       "16        35\n",
       "17        23\n",
       "18        15\n",
       "19        11\n",
       "20         6\n",
       "30         1\n",
       "21         1\n",
       "99         1\n",
       "Name: n_ren, dtype: int64"
      ]
     },
     "execution_count": 27,
     "metadata": {},
     "output_type": "execute_result"
    }
   ],
   "source": [
    "df_copy_20151['n_ren'] = df_copy_20151['n_ren'].astype('int64')\n",
    "df_copy_20151.n_ren.value_counts()"
   ]
  },
  {
   "cell_type": "markdown",
   "metadata": {},
   "source": [
    "## Edad (eda)\n",
    "00 Menores de 1 año 01-96 Número de años cumplidos del integrante del hogar 97 97 años y más 98 Edad no especificada para mayores (12 años y más) 99 Edad no especificada para menores (00 a 11 años)"
   ]
  },
  {
   "cell_type": "code",
   "execution_count": 28,
   "metadata": {
    "scrolled": true
   },
   "outputs": [
    {
     "data": {
      "text/plain": [
       "15    25561\n",
       "14    25381\n",
       "18    24865\n",
       "13    24730\n",
       "12    24577\n",
       "16    24172\n",
       "17    24153\n",
       "20    24096\n",
       "19    23979\n",
       "23    23561\n",
       "22    23369\n",
       "21    23353\n",
       "24    21847\n",
       "25    21436\n",
       "40    20561\n",
       "30    20147\n",
       "26    19993\n",
       "28    19646\n",
       "38    19271\n",
       "39    19267\n",
       "27    19227\n",
       "29    19047\n",
       "43    18952\n",
       "33    18940\n",
       "35    18876\n",
       "31    18874\n",
       "34    18643\n",
       "41    18607\n",
       "32    18458\n",
       "36    18348\n",
       "      ...  \n",
       "69     5608\n",
       "71     5080\n",
       "73     4795\n",
       "72     4769\n",
       "74     4587\n",
       "75     4451\n",
       "76     3933\n",
       "78     3269\n",
       "77     3248\n",
       "79     3074\n",
       "80     2870\n",
       "81     2367\n",
       "84     1879\n",
       "83     1845\n",
       "82     1799\n",
       "85     1781\n",
       "86     1459\n",
       "87     1184\n",
       "88      936\n",
       "89      856\n",
       "90      804\n",
       "91      515\n",
       "98      504\n",
       "97      492\n",
       "92      402\n",
       "94      342\n",
       "93      338\n",
       "95      258\n",
       "96      161\n",
       "99        1\n",
       "Name: eda, Length: 88, dtype: int64"
      ]
     },
     "execution_count": 28,
     "metadata": {},
     "output_type": "execute_result"
    }
   ],
   "source": [
    "df_copy_20151['eda'] = df_copy_20151['eda'].astype('int64')\n",
    "df_copy_20151.eda.value_counts()"
   ]
  },
  {
   "cell_type": "markdown",
   "metadata": {},
   "source": [
    "## Renglón del Informante (n_inf)\n",
    "01-30, 97, 99 Número de renglón del informante"
   ]
  },
  {
   "cell_type": "code",
   "execution_count": 29,
   "metadata": {
    "scrolled": true
   },
   "outputs": [
    {
     "data": {
      "text/plain": [
       "2     467207\n",
       "1     380123\n",
       "3     100578\n",
       "4      53266\n",
       "5      23917\n",
       "6      11284\n",
       "7       5391\n",
       "8       2746\n",
       "9       1474\n",
       "10       691\n",
       "99       493\n",
       "97       385\n",
       "11       338\n",
       "13       273\n",
       "12       246\n",
       "14        85\n",
       "16        30\n",
       "18        18\n",
       "17        14\n",
       "15        10\n",
       "19         6\n",
       "Name: n_inf, dtype: int64"
      ]
     },
     "execution_count": 29,
     "metadata": {},
     "output_type": "execute_result"
    }
   ],
   "source": [
    "df_copy_20151['n_inf'] = df_copy_20151['n_inf'].astype('int64')\n",
    "df_copy_20151.n_inf.value_counts()"
   ]
  },
  {
   "cell_type": "markdown",
   "metadata": {},
   "source": [
    "## Pregunta 1: Ahora le voy a preguntar por la situación laboral de …¿La semana pasada trabajó por lo menos una hora? (P1)\n",
    "1 Sí 2 No"
   ]
  },
  {
   "cell_type": "code",
   "execution_count": 30,
   "metadata": {},
   "outputs": [
    {
     "data": {
      "text/plain": [
       "1     543900\n",
       "2     504674\n",
       "99         1\n",
       "Name: p1, dtype: int64"
      ]
     },
     "execution_count": 30,
     "metadata": {},
     "output_type": "execute_result"
    }
   ],
   "source": [
    "df_copy_20151['p1'] = df_copy_20151['p1'].astype('int64')\n",
    "df_copy_20151.p1.value_counts()"
   ]
  },
  {
   "cell_type": "markdown",
   "metadata": {},
   "source": [
    "## Opción 1: realizó una actividad que le proporcionó ingresos? (P1A1)\n",
    "1 Sí realizó una actividad que le proporcionó ingresos? \n",
    "9 No aplica"
   ]
  },
  {
   "cell_type": "code",
   "execution_count": 31,
   "metadata": {},
   "outputs": [],
   "source": [
    " df_copy_20151['p1a1'].replace(to_replace=[' ', '99'],value='99',inplace=True)"
   ]
  },
  {
   "cell_type": "code",
   "execution_count": 32,
   "metadata": {},
   "outputs": [
    {
     "data": {
      "text/plain": [
       "99    1044305\n",
       "1        4270\n",
       "Name: p1a1, dtype: int64"
      ]
     },
     "execution_count": 32,
     "metadata": {},
     "output_type": "execute_result"
    }
   ],
   "source": [
    "df_copy_20151['p1a1'] = df_copy_20151['p1a1'].astype('int64')\n",
    "df_copy_20151.p1a1.value_counts()"
   ]
  },
  {
   "cell_type": "markdown",
   "metadata": {},
   "source": [
    "## Opción 2: ayudar en las tierras o en el negocio de un familiar o de otra persona? (p1a2)\n",
    "\n",
    "2 Sí ayudó en las tierras o en el negocio de un familiar o de otra persona?\n",
    "99  No aplica"
   ]
  },
  {
   "cell_type": "code",
   "execution_count": 33,
   "metadata": {},
   "outputs": [],
   "source": [
    "df_copy_20151['p1a2'].replace(to_replace=[' ', '99'],value='99',inplace=True)"
   ]
  },
  {
   "cell_type": "code",
   "execution_count": 34,
   "metadata": {},
   "outputs": [
    {
     "data": {
      "text/plain": [
       "99    1042953\n",
       "2        5622\n",
       "Name: p1a2, dtype: int64"
      ]
     },
     "execution_count": 34,
     "metadata": {},
     "output_type": "execute_result"
    }
   ],
   "source": [
    "df_copy_20151['p1a2'] = df_copy_20151['p1a2'].astype('int64')\n",
    "df_copy_20151.p1a2.value_counts()"
   ]
  },
  {
   "cell_type": "markdown",
   "metadata": {},
   "source": [
    "## Opción 3: no trabajó la semana pasada (p1a3)\n",
    "3 No trabajó la semana pasada  \n",
    "99 No aplica"
   ]
  },
  {
   "cell_type": "code",
   "execution_count": 35,
   "metadata": {},
   "outputs": [],
   "source": [
    "df_copy_20151['p1a3'].replace(to_replace=[' ', '99'],value='99',inplace=True)"
   ]
  },
  {
   "cell_type": "code",
   "execution_count": 36,
   "metadata": {},
   "outputs": [
    {
     "data": {
      "text/plain": [
       "99    553784\n",
       "3     494791\n",
       "Name: p1a3, dtype: int64"
      ]
     },
     "execution_count": 36,
     "metadata": {},
     "output_type": "execute_result"
    }
   ],
   "source": [
    "df_copy_20151['p1a3'] = df_copy_20151['p1a3'].astype('int64')\n",
    "df_copy_20151.p1a3.value_counts()"
   ]
  },
  {
   "cell_type": "markdown",
   "metadata": {},
   "source": [
    "##  Pregunta 1b: Aunque ya me dijo que ... no trabajó la semana pasada, ¿tiene algún empleo negocio o realiza alguna actividad por  su cuenta? (p1b)\n",
    " 1 Si\n",
    " 2 No \n",
    " 99 No se sabe "
   ]
  },
  {
   "cell_type": "code",
   "execution_count": 37,
   "metadata": {},
   "outputs": [],
   "source": [
    "df_copy_20151['p1b'].replace(to_replace=[' ', '99'],value='99',inplace=True)"
   ]
  },
  {
   "cell_type": "code",
   "execution_count": 38,
   "metadata": {},
   "outputs": [
    {
     "data": {
      "text/plain": [
       "99    553784\n",
       "2     462365\n",
       "1      32426\n",
       "Name: p1b, dtype: int64"
      ]
     },
     "execution_count": 38,
     "metadata": {},
     "output_type": "execute_result"
    }
   ],
   "source": [
    "df_copy_20151['p1b'] = df_copy_20151['p1b'].astype('int64')\n",
    "df_copy_20151.p1b.value_counts()"
   ]
  },
  {
   "cell_type": "markdown",
   "metadata": {},
   "source": [
    "## Pregunta 1c: ¿Cuál Carácter es la razón principal por la que ... no trabajó la semana pasada? (p1c)\n",
    "01 Huelga o paro laboral 02 Paro técnico 03 Suspensión temporal de sus funciones (asalariado) 04 Asistencia a cursos de capacitación 05 Vacaciones 06 Permiso, enfermedad o arreglo de asuntos personales 07 Falta de vehículo o descompostura de maquinaria 08 Falta de materias primas,financiamiento o clientes 09 Mal tiempo o fenómeno natural 10 Término de temporada de trabajo o cultivo 11 Comenzará un trabajo o negocio nuevo 12 Otra razón 99 No sabe"
   ]
  },
  {
   "cell_type": "code",
   "execution_count": 39,
   "metadata": {},
   "outputs": [
    {
     "data": {
      "text/plain": [
       "99    1016200\n",
       "5        8884\n",
       "6        8864\n",
       "8        8561\n",
       "10       2541\n",
       "12       1215\n",
       "9         811\n",
       "11        627\n",
       "7         366\n",
       "3         251\n",
       "1         101\n",
       "4          86\n",
       "2          68\n",
       "Name: p1c, dtype: int64"
      ]
     },
     "execution_count": 39,
     "metadata": {},
     "output_type": "execute_result"
    }
   ],
   "source": [
    "df_copy_20151['p1c'] = df_copy_20151['p1c'].astype('int64')\n",
    "df_copy_20151.p1c.value_counts()"
   ]
  },
  {
   "cell_type": "markdown",
   "metadata": {},
   "source": [
    "## Pregunta 1d: Durante esre periodo de ausencia ¿... recibe sueldo o ganancias? (p1d)\n",
    "\n",
    "1 Sí\n",
    "2 No\n",
    "99 No sabe"
   ]
  },
  {
   "cell_type": "code",
   "execution_count": 40,
   "metadata": {},
   "outputs": [],
   "source": [
    "df_copy_20151['p1d'].replace(to_replace=[' ', '99'],value='99',inplace=True)"
   ]
  },
  {
   "cell_type": "code",
   "execution_count": 41,
   "metadata": {},
   "outputs": [
    {
     "data": {
      "text/plain": [
       "99    1017282\n",
       "2       21326\n",
       "1        9894\n",
       "9          73\n",
       "Name: p1d, dtype: int64"
      ]
     },
     "execution_count": 41,
     "metadata": {},
     "output_type": "execute_result"
    }
   ],
   "source": [
    "df_copy_20151['p1d'] = df_copy_20151['p1d'].astype('int64')\n",
    "df_copy_20151.p1d.value_counts()"
   ]
  },
  {
   "cell_type": "code",
   "execution_count": 42,
   "metadata": {},
   "outputs": [],
   "source": [
    "df_copy_20151['p1d'].replace(to_replace=['9', '99'],value='99',inplace=True)"
   ]
  },
  {
   "cell_type": "markdown",
   "metadata": {},
   "source": [
    "## Pregunta 1e: ¿En ¿cuánto tiempo regresará... a este semana ? mismi trabajo?(p1e)\n",
    "\n",
    "1 Ya se reincorporó o regresara a trabajar esta \n",
    "2 En cuantro semanas o menos\n",
    "3 En más de cuatro  semanas\n",
    "4 No hay seguridad de que regrese a trabajar  o cuándo reinicie su actividad?\n",
    "5 No regresará\n",
    "99 No sabe\n"
   ]
  },
  {
   "cell_type": "code",
   "execution_count": 43,
   "metadata": {},
   "outputs": [],
   "source": [
    "df_copy_20151['p1e'].replace(to_replace=[' ', '99'],value='99',inplace=True)"
   ]
  },
  {
   "cell_type": "code",
   "execution_count": 44,
   "metadata": {},
   "outputs": [
    {
     "data": {
      "text/plain": [
       "99    1027176\n",
       "2       10146\n",
       "1        5449\n",
       "3        2770\n",
       "4        2396\n",
       "9         605\n",
       "5          33\n",
       "Name: p1e, dtype: int64"
      ]
     },
     "execution_count": 44,
     "metadata": {},
     "output_type": "execute_result"
    }
   ],
   "source": [
    "df_copy_20151['p1e'] = df_copy_20151['p1e'].astype('int64')\n",
    "df_copy_20151.p1e.value_counts()"
   ]
  },
  {
   "cell_type": "code",
   "execution_count": 45,
   "metadata": {},
   "outputs": [],
   "source": [
    "df_copy_20151['p1e'].replace(to_replace=['9', '99'],value='99',inplace=True)"
   ]
  },
  {
   "cell_type": "markdown",
   "metadata": {},
   "source": [
    "## Opción 1: buscar trabajo en otro país o hacer preparativos para cruzar la frontera ? (p2_1)\n",
    "\n",
    "1 Sí buscó trabajo aquí en el país \n",
    "99 No sabe"
   ]
  },
  {
   "cell_type": "code",
   "execution_count": 46,
   "metadata": {},
   "outputs": [],
   "source": [
    "df_copy_20151['p2_1'].replace(to_replace=[' ', '99'],value='99',inplace=True)"
   ]
  },
  {
   "cell_type": "code",
   "execution_count": 47,
   "metadata": {},
   "outputs": [
    {
     "data": {
      "text/plain": [
       "99    1048337\n",
       "1         238\n",
       "Name: p2_1, dtype: int64"
      ]
     },
     "execution_count": 47,
     "metadata": {},
     "output_type": "execute_result"
    }
   ],
   "source": [
    "df_copy_20151['p2_1'] = df_copy_20151['p2_1'].astype('int64')\n",
    "df_copy_20151.p2_1.value_counts()"
   ]
  },
  {
   "cell_type": "markdown",
   "metadata": {},
   "source": [
    "## Opción 2: buscar trabajo aquí en el país (p2_2)\n",
    "\n",
    "2 Buscó trabajo aquí en el país\n",
    "99 No sabe"
   ]
  },
  {
   "cell_type": "code",
   "execution_count": 48,
   "metadata": {},
   "outputs": [],
   "source": [
    "df_copy_20151['p2_2'].replace(to_replace=[' ', '99'],value='99',inplace=True)"
   ]
  },
  {
   "cell_type": "code",
   "execution_count": 49,
   "metadata": {
    "scrolled": true
   },
   "outputs": [
    {
     "data": {
      "text/plain": [
       "99    1020613\n",
       "2       27962\n",
       "Name: p2_2, dtype: int64"
      ]
     },
     "execution_count": 49,
     "metadata": {},
     "output_type": "execute_result"
    }
   ],
   "source": [
    "df_copy_20151['p2_2'] = df_copy_20151['p2_2'].astype('int64')\n",
    "df_copy_20151.p2_2.value_counts()"
   ]
  },
  {
   "cell_type": "markdown",
   "metadata": {},
   "source": [
    "## Opción 3: poner un negocio o realizar una actividad por su cuenta sin poder todavía comenzar? (p2_3)\n",
    "\n",
    "3 Sí trato de poner un negocio o realizo una activida por su cuenta sin poder todavía comenzar?\n",
    "99 No sabe"
   ]
  },
  {
   "cell_type": "code",
   "execution_count": 50,
   "metadata": {},
   "outputs": [],
   "source": [
    "df_copy_20151['p2_3'].replace(to_replace=[' ', '99'],value='99',inplace=True)"
   ]
  },
  {
   "cell_type": "code",
   "execution_count": 51,
   "metadata": {},
   "outputs": [
    {
     "data": {
      "text/plain": [
       "99    1048065\n",
       "3         510\n",
       "Name: p2_3, dtype: int64"
      ]
     },
     "execution_count": 51,
     "metadata": {},
     "output_type": "execute_result"
    }
   ],
   "source": [
    "df_copy_20151['p2_3'] = df_copy_20151['p2_3'].astype('int64')\n",
    "df_copy_20151.p2_3.value_counts()"
   ]
  },
  {
   "cell_type": "markdown",
   "metadata": {},
   "source": [
    "## Opción 4: ¿no ha tratado de buscar tranajo ?(p2_4)\n",
    "4 Entonces, ¿no ha tratado de buscar trabajo? 99 No aplica"
   ]
  },
  {
   "cell_type": "code",
   "execution_count": 52,
   "metadata": {},
   "outputs": [],
   "source": [
    "df_copy_20151['p2_4'].replace(to_replace=[' ', '99'],value='99',inplace=True)"
   ]
  },
  {
   "cell_type": "code",
   "execution_count": 53,
   "metadata": {},
   "outputs": [
    {
     "data": {
      "text/plain": [
       "99    598310\n",
       "4     450265\n",
       "Name: p2_4, dtype: int64"
      ]
     },
     "execution_count": 53,
     "metadata": {},
     "output_type": "execute_result"
    }
   ],
   "source": [
    "df_copy_20151['p2_4'] = df_copy_20151['p2_4'].astype('int64')\n",
    "df_copy_20151.p2_4.value_counts()"
   ]
  },
  {
   "cell_type": "markdown",
   "metadata": {},
   "source": [
    "## Opción 9: No sabe (p2_9)\n",
    "9 No sabe 99 aplica"
   ]
  },
  {
   "cell_type": "code",
   "execution_count": 54,
   "metadata": {},
   "outputs": [],
   "source": [
    "df_copy_20151['p2_9'].replace(to_replace=[' ', '99'],value='99',inplace=True)"
   ]
  },
  {
   "cell_type": "code",
   "execution_count": 55,
   "metadata": {
    "scrolled": true
   },
   "outputs": [
    {
     "data": {
      "text/plain": [
       "99    1048532\n",
       "9          43\n",
       "Name: p2_9, dtype: int64"
      ]
     },
     "execution_count": 55,
     "metadata": {},
     "output_type": "execute_result"
    }
   ],
   "source": [
    "df_copy_20151['p2_9'] = df_copy_20151['p2_9'].astype('int64')\n",
    "df_copy_20151.p2_9.value_counts()"
   ]
  },
  {
   "cell_type": "markdown",
   "metadata": {},
   "source": [
    "# Pregunta 2A: ¿En qué fecha comenzó … a buscar trabajo (o comenzó con los preparativos para poner el negocio)?"
   ]
  },
  {
   "cell_type": "markdown",
   "metadata": {},
   "source": [
    "## Día en que comenzó (p2a_dia) \n",
    "1 -31 Día en qué comenzó \n",
    "9 No se sabe\n"
   ]
  },
  {
   "cell_type": "code",
   "execution_count": 56,
   "metadata": {},
   "outputs": [],
   "source": [
    "df_copy_20151['p2a_dia'].replace(to_replace=['0', '99'],value='99',inplace=True)"
   ]
  },
  {
   "cell_type": "code",
   "execution_count": 57,
   "metadata": {},
   "outputs": [
    {
     "data": {
      "text/plain": [
       "99    1016200\n",
       "5        8884\n",
       "6        8864\n",
       "8        8561\n",
       "10       2541\n",
       "12       1215\n",
       "9         811\n",
       "11        627\n",
       "7         366\n",
       "3         251\n",
       "1         101\n",
       "4          86\n",
       "2          68\n",
       "Name: p1c, dtype: int64"
      ]
     },
     "execution_count": 57,
     "metadata": {},
     "output_type": "execute_result"
    }
   ],
   "source": [
    "df_copy_20151['p2a_dia'] = df_copy_20151['p2a_dia'].astype('int64')\n",
    "df_copy_20151.p1c.value_counts()"
   ]
  },
  {
   "cell_type": "markdown",
   "metadata": {},
   "source": [
    "## Sema en que comenzó (p2a_sem)\n",
    "1-4 Semana qué comenzo 99 No sabe"
   ]
  },
  {
   "cell_type": "code",
   "execution_count": 58,
   "metadata": {},
   "outputs": [],
   "source": [
    "df_copy_20151['p2a_sem'].replace(to_replace=[' ', '99'],value='99',inplace=True)"
   ]
  },
  {
   "cell_type": "code",
   "execution_count": 59,
   "metadata": {},
   "outputs": [
    {
     "data": {
      "text/plain": [
       "99    1036935\n",
       "1        4655\n",
       "2        2366\n",
       "4        1780\n",
       "9        1751\n",
       "3        1088\n",
       "Name: p2a_sem, dtype: int64"
      ]
     },
     "execution_count": 59,
     "metadata": {},
     "output_type": "execute_result"
    }
   ],
   "source": [
    "df_copy_20151['p2a_sem'] = df_copy_20151['p2a_sem'].astype('int64')\n",
    "df_copy_20151.p2a_sem.value_counts()"
   ]
  },
  {
   "cell_type": "markdown",
   "metadata": {},
   "source": [
    "## Mes en que comenzó (p2a_mes) \n",
    "1 Comenzó en enero\n",
    "2 Comenzó en febrero\n",
    "03 Comenzó en marzo\n",
    "04 Comenzó en abril\n",
    "05 Comenzó en mayo\n",
    "06 Comenzó en junio\n",
    "07 Comenzó en julio\n",
    "08 Comenzó en agosto\n",
    "09 Comenzó en septiembre\n",
    "10 Comenzó en octubre\n",
    "11 Comenzó en noviembre\n",
    "12 Comenzó en diciembre\n",
    "99 No sabe"
   ]
  },
  {
   "cell_type": "code",
   "execution_count": 60,
   "metadata": {},
   "outputs": [],
   "source": [
    "df_copy_20151['p2a_mes'].replace(to_replace=['0', '99'],value='99',inplace=True)"
   ]
  },
  {
   "cell_type": "code",
   "execution_count": 61,
   "metadata": {},
   "outputs": [
    {
     "data": {
      "text/plain": [
       "99    1020009\n",
       "1        4108\n",
       "6        2961\n",
       "7        2808\n",
       "8        2727\n",
       "5        2624\n",
       "2        2529\n",
       "4        2488\n",
       "3        2485\n",
       "9        1738\n",
       "12       1529\n",
       "11       1347\n",
       "10       1222\n",
       "Name: p2a_mes, dtype: int64"
      ]
     },
     "execution_count": 61,
     "metadata": {},
     "output_type": "execute_result"
    }
   ],
   "source": [
    "df_copy_20151['p2a_mes'] = df_copy_20151['p2a_mes'].astype('int64')\n",
    "df_copy_20151.p2a_mes.value_counts()"
   ]
  },
  {
   "cell_type": "markdown",
   "metadata": {},
   "source": [
    "## Año en que comenzó (p2a_anio)\n",
    "1950- año actual 9999 No sabe"
   ]
  },
  {
   "cell_type": "code",
   "execution_count": 62,
   "metadata": {},
   "outputs": [],
   "source": [
    "df_copy_20151['p2a_anio'].replace(to_replace=['0', '99'],value='99',inplace=True)"
   ]
  },
  {
   "cell_type": "code",
   "execution_count": 63,
   "metadata": {},
   "outputs": [
    {
     "data": {
      "text/plain": [
       "99      1019941\n",
       "2015      24772\n",
       "2014       3594\n",
       "2013        147\n",
       "2012         36\n",
       "2011         26\n",
       "2010         25\n",
       "2005          9\n",
       "2009          6\n",
       "2001          6\n",
       "2008          3\n",
       "9999          3\n",
       "2004          2\n",
       "2007          1\n",
       "2003          1\n",
       "2002          1\n",
       "2000          1\n",
       "2006          1\n",
       "Name: p2a_anio, dtype: int64"
      ]
     },
     "execution_count": 63,
     "metadata": {},
     "output_type": "execute_result"
    }
   ],
   "source": [
    "df_copy_20151['p2a_anio'] = df_copy_20151['p2a_anio'].astype('int64')\n",
    "df_copy_20151.p2a_anio.value_counts()"
   ]
  },
  {
   "cell_type": "markdown",
   "metadata": {},
   "source": [
    "# Pregunta 2B: ¿En qué fecha fue la última vez que … buscó trabajo (o terminó con los preparativos para poner el negocio)?"
   ]
  },
  {
   "cell_type": "markdown",
   "metadata": {},
   "source": [
    "# Día en que terminó (p2b_dia)\n",
    "1-31 Día en que terminoo 99 No sabe"
   ]
  },
  {
   "cell_type": "code",
   "execution_count": 64,
   "metadata": {
    "scrolled": true
   },
   "outputs": [
    {
     "data": {
      "text/plain": [
       "99    1025777\n",
       "20       1240\n",
       "15       1211\n",
       "10       1154\n",
       "9         901\n",
       "30        877\n",
       "6         849\n",
       "7         793\n",
       "1         763\n",
       "17        747\n",
       "13        745\n",
       "5         741\n",
       "12        737\n",
       "25        717\n",
       "18        713\n",
       "28        711\n",
       "3         710\n",
       "27        695\n",
       "16        682\n",
       "14        680\n",
       "2         678\n",
       "23        675\n",
       "8         670\n",
       "24        643\n",
       "21        634\n",
       "19        624\n",
       "22        616\n",
       "26        611\n",
       "11        566\n",
       "4         543\n",
       "29        499\n",
       "31        373\n",
       "Name: p2b_dia, dtype: int64"
      ]
     },
     "execution_count": 64,
     "metadata": {},
     "output_type": "execute_result"
    }
   ],
   "source": [
    "df_copy_20151['p2b_dia'] = df_copy_20151['p2b_dia'].astype('int64')\n",
    "df_copy_20151.p2b_dia.value_counts()"
   ]
  },
  {
   "cell_type": "markdown",
   "metadata": {},
   "source": [
    "## Semana en que terminó (p2b_sem)\n",
    "1-4 Semana en que termino 99 nose sabe"
   ]
  },
  {
   "cell_type": "code",
   "execution_count": 65,
   "metadata": {},
   "outputs": [],
   "source": [
    "df_copy_20151['p2b_sem'].replace(to_replace=[' ', '99'],value='99',inplace=True)"
   ]
  },
  {
   "cell_type": "code",
   "execution_count": 66,
   "metadata": {},
   "outputs": [
    {
     "data": {
      "text/plain": [
       "99    1042739\n",
       "1        1796\n",
       "2        1399\n",
       "4        1387\n",
       "3         780\n",
       "9         474\n",
       "Name: p2b_sem, dtype: int64"
      ]
     },
     "execution_count": 66,
     "metadata": {},
     "output_type": "execute_result"
    }
   ],
   "source": [
    "df_copy_20151['p2b_sem'] = df_copy_20151['p2b_sem'].astype('int64')\n",
    "df_copy_20151.p2b_sem.value_counts()"
   ]
  },
  {
   "cell_type": "markdown",
   "metadata": {},
   "source": [
    "##  Mes en que terminó(p2b_mes)  \n",
    "01 Terminó en enero\n",
    "02 Terminó en febrero\n",
    "03 Terminó en marzo\n",
    "04 Terminó en abril\n",
    "05 Terminó en mayo\n",
    "06 Terminó en junio\n",
    "07 Terminó en julio\n",
    "08 Terminó en agosto\n",
    "09 Terminó en septiembre\n",
    "10 Terminó en octubre\n",
    "11 Terminó en noviembre\n",
    "12 Terminó en diciembre\n",
    "99 No sabe"
   ]
  },
  {
   "cell_type": "code",
   "execution_count": 67,
   "metadata": {},
   "outputs": [
    {
     "data": {
      "text/plain": [
       "99    1019948\n",
       "8        3074\n",
       "7        2957\n",
       "6        2916\n",
       "1        2868\n",
       "3        2816\n",
       "5        2688\n",
       "9        2656\n",
       "2        2606\n",
       "4        2580\n",
       "12       1238\n",
       "10       1170\n",
       "11       1058\n",
       "Name: p2b_mes, dtype: int64"
      ]
     },
     "execution_count": 67,
     "metadata": {},
     "output_type": "execute_result"
    }
   ],
   "source": [
    "df_copy_20151['p2b_mes'] = df_copy_20151['p2b_mes'].astype('int64')\n",
    "df_copy_20151.p2b_mes.value_counts()"
   ]
  },
  {
   "cell_type": "markdown",
   "metadata": {},
   "source": [
    "## Año en que terminó (p2b_anio)\n",
    "\n",
    "1950-año actual Año en que terminó\n",
    "9999 No sabe"
   ]
  },
  {
   "cell_type": "code",
   "execution_count": 68,
   "metadata": {},
   "outputs": [],
   "source": [
    "df_copy_20151['p2b_anio'].replace(to_replace=['0', '99'],value='99',inplace=True)"
   ]
  },
  {
   "cell_type": "code",
   "execution_count": 69,
   "metadata": {},
   "outputs": [
    {
     "data": {
      "text/plain": [
       "99      1019941\n",
       "2015      27904\n",
       "2014        715\n",
       "2013          8\n",
       "2011          2\n",
       "2010          2\n",
       "9999          2\n",
       "2016          1\n",
       "Name: p2b_anio, dtype: int64"
      ]
     },
     "execution_count": 69,
     "metadata": {},
     "output_type": "execute_result"
    }
   ],
   "source": [
    "df_copy_20151['p2b_anio'] = df_copy_20151['p2b_anio'].astype('int64')\n",
    "df_copy_20151.p2b_anio.value_counts()"
   ]
  },
  {
   "cell_type": "markdown",
   "metadata": {},
   "source": [
    "## ¿En qué fecha fue la última vez que... buscó trabajo (o terminó conlos preparativos para poner el negocio)? (p2b)\n",
    " \n",
    "1 Hasta 1 mes\n",
    "2 Más de  1 hasta 2 meses\n",
    "3 Mas de 2 has 3 meses\n",
    "4 Más de 3 meses\n",
    "99 No sabe"
   ]
  },
  {
   "cell_type": "code",
   "execution_count": 70,
   "metadata": {},
   "outputs": [],
   "source": [
    "df_copy_20151['p2b'].replace(to_replace=[' ', '99'],value='99',inplace=True)"
   ]
  },
  {
   "cell_type": "code",
   "execution_count": 71,
   "metadata": {},
   "outputs": [
    {
     "data": {
      "text/plain": [
       "99    1019941\n",
       "1       26724\n",
       "2        1146\n",
       "4         393\n",
       "3         365\n",
       "9           6\n",
       "Name: p2b, dtype: int64"
      ]
     },
     "execution_count": 71,
     "metadata": {},
     "output_type": "execute_result"
    }
   ],
   "source": [
    "df_copy_20151['p2b'] = df_copy_20151['p2b'].astype('int64')\n",
    "df_copy_20151.p2b.value_counts()"
   ]
  },
  {
   "cell_type": "markdown",
   "metadata": {},
   "source": [
    "##  ¿... estaba dispuesto a trabajar la semana pasada?(p2c)\n",
    "1 Si\n",
    "2 No\n",
    "99 No sabe"
   ]
  },
  {
   "cell_type": "code",
   "execution_count": 72,
   "metadata": {},
   "outputs": [],
   "source": [
    "df_copy_20151['p2c'].replace(to_replace=[' ', '99'],value='99',inplace=True)"
   ]
  },
  {
   "cell_type": "code",
   "execution_count": 73,
   "metadata": {},
   "outputs": [],
   "source": [
    "df_copy_20151['p2c'].replace(to_replace=['9', '99'],value='99',inplace=True)"
   ]
  },
  {
   "cell_type": "code",
   "execution_count": 74,
   "metadata": {},
   "outputs": [
    {
     "data": {
      "text/plain": [
       "99    1020352\n",
       "1       27908\n",
       "2         315\n",
       "Name: p2c, dtype: int64"
      ]
     },
     "execution_count": 74,
     "metadata": {},
     "output_type": "execute_result"
    }
   ],
   "source": [
    "df_copy_20151['p2c'] = df_copy_20151['p2c'].astype('int64')\n",
    "df_copy_20151.p2c.value_counts()"
   ]
  },
  {
   "cell_type": "markdown",
   "metadata": {},
   "source": [
    "# Pregunta 2D: ¿Adónde acudió o que hizo…para buscar empleo (o iniciar un negocio o actividad por su cuenta)?"
   ]
  },
  {
   "cell_type": "markdown",
   "metadata": {},
   "source": [
    "## Opción 1: acudió directamente al lugar de trabajo (p2d1)\n",
    "1 Si acudió directamente al lugar de trabajo\n",
    "99 No sabe "
   ]
  },
  {
   "cell_type": "code",
   "execution_count": 75,
   "metadata": {},
   "outputs": [],
   "source": [
    "df_copy_20151['p2d1'].replace(to_replace=['0', '99'],value='99',inplace=True)"
   ]
  },
  {
   "cell_type": "code",
   "execution_count": 76,
   "metadata": {},
   "outputs": [
    {
     "data": {
      "text/plain": [
       "99    1028037\n",
       "1       20538\n",
       "Name: p2d1, dtype: int64"
      ]
     },
     "execution_count": 76,
     "metadata": {},
     "output_type": "execute_result"
    }
   ],
   "source": [
    "df_copy_20151['p2d1'] = df_copy_20151['p2d1'].astype('int64')\n",
    "df_copy_20151.p2d1.value_counts()"
   ]
  },
  {
   "cell_type": "markdown",
   "metadata": {},
   "source": [
    "## Opción 2: hizo trámites en una agencia o bolsa de trabajo privada (p2d2)\n",
    "2 Si hizo trámites en una agencia o bolsa de trabajo privada\n",
    "99 No sabe"
   ]
  },
  {
   "cell_type": "code",
   "execution_count": 77,
   "metadata": {},
   "outputs": [],
   "source": [
    "df_copy_20151['p2d2'].replace(to_replace=['0', '99'],value='99',inplace=True)"
   ]
  },
  {
   "cell_type": "code",
   "execution_count": 78,
   "metadata": {},
   "outputs": [
    {
     "data": {
      "text/plain": [
       "99    1048265\n",
       "2         310\n",
       "Name: p2d2, dtype: int64"
      ]
     },
     "execution_count": 78,
     "metadata": {},
     "output_type": "execute_result"
    }
   ],
   "source": [
    "df_copy_20151['p2d2'] = df_copy_20151['p2d2'].astype('int64')\n",
    "df_copy_20151.p2d2.value_counts()"
   ]
  },
  {
   "cell_type": "markdown",
   "metadata": {},
   "source": [
    "## Opción 3: hizo trámites en un servicio público de colocación (p2d3)\n",
    "3 Sí hizo trámites en un servicio público de colocación\n",
    "99 No se sabe"
   ]
  },
  {
   "cell_type": "code",
   "execution_count": 79,
   "metadata": {},
   "outputs": [],
   "source": [
    "df_copy_20151['p2d3'].replace(to_replace=['0', '99'],value='99',inplace=True)"
   ]
  },
  {
   "cell_type": "code",
   "execution_count": 80,
   "metadata": {},
   "outputs": [
    {
     "data": {
      "text/plain": [
       "99    1048097\n",
       "3         478\n",
       "Name: p2d3, dtype: int64"
      ]
     },
     "execution_count": 80,
     "metadata": {},
     "output_type": "execute_result"
    }
   ],
   "source": [
    "df_copy_20151['p2d3'] = df_copy_20151['p2d3'].astype('int64')\n",
    "df_copy_20151.p2d3.value_counts()"
   ]
  },
  {
   "cell_type": "markdown",
   "metadata": {},
   "source": [
    "## opción 4: hizo trámirtes en algún programa de empleo temporal del gobierno(p2d4)\n",
    "\n",
    "4 Sí hizo trámites en algún programa de empleo temporal del gobierno\n",
    "99 No se sabe"
   ]
  },
  {
   "cell_type": "code",
   "execution_count": 81,
   "metadata": {},
   "outputs": [],
   "source": [
    "df_copy_20151['p2d4'].replace(to_replace=['0', '99'],value='99',inplace=True)"
   ]
  },
  {
   "cell_type": "code",
   "execution_count": 82,
   "metadata": {},
   "outputs": [
    {
     "data": {
      "text/plain": [
       "99    1048234\n",
       "4         341\n",
       "Name: p2d4, dtype: int64"
      ]
     },
     "execution_count": 82,
     "metadata": {},
     "output_type": "execute_result"
    }
   ],
   "source": [
    "df_copy_20151['p2d4'] = df_copy_20151['p2d4'].astype('int64')\n",
    "df_copy_20151.p2d4.value_counts()"
   ]
  },
  {
   "cell_type": "markdown",
   "metadata": {},
   "source": [
    "## Opción 5: hizo trámites o realizo alguna actividad para iniciar un negocio por su cuenta (p2d5)\n",
    "5 Si hizo trámites o realizó alguna actividad para iniciar un negocio por su cuenta \n",
    "99 No sabe"
   ]
  },
  {
   "cell_type": "code",
   "execution_count": 83,
   "metadata": {},
   "outputs": [],
   "source": [
    "df_copy_20151['p2d5'].replace(to_replace=['0', '99'],value='99',inplace=True)"
   ]
  },
  {
   "cell_type": "code",
   "execution_count": 84,
   "metadata": {},
   "outputs": [
    {
     "data": {
      "text/plain": [
       "99    1048226\n",
       "5         349\n",
       "Name: p2d5, dtype: int64"
      ]
     },
     "execution_count": 84,
     "metadata": {},
     "output_type": "execute_result"
    }
   ],
   "source": [
    "df_copy_20151['p2d5'] = df_copy_20151['p2d5'].astype('int64')\n",
    "df_copy_20151.p2d5.value_counts()\n"
   ]
  },
  {
   "cell_type": "markdown",
   "metadata": {},
   "source": [
    "## Opción 6: puso o contestó un anuncio en internet  (p2d6)\n",
    "\n",
    "6 Si puso o contestó un anuncio en internet \n",
    "99 No sabe"
   ]
  },
  {
   "cell_type": "code",
   "execution_count": 85,
   "metadata": {},
   "outputs": [],
   "source": [
    "df_copy_20151['p2d6'].replace(to_replace=['0', '99'],value='99',inplace=True)"
   ]
  },
  {
   "cell_type": "code",
   "execution_count": 86,
   "metadata": {},
   "outputs": [
    {
     "data": {
      "text/plain": [
       "99    1044638\n",
       "6        3937\n",
       "Name: p2d6, dtype: int64"
      ]
     },
     "execution_count": 86,
     "metadata": {},
     "output_type": "execute_result"
    }
   ],
   "source": [
    "df_copy_20151['p2d6'] = df_copy_20151['p2d6'].astype('int64')\n",
    "df_copy_20151.p2d6.value_counts()"
   ]
  },
  {
   "cell_type": "markdown",
   "metadata": {},
   "source": [
    "## Opción 7: puso o contestó un anuncio en algún lugar público o en medios de comunicación (periodico,radio)  (p2d7)\n",
    "7 Sí puso o contestó un anuncio en algún lugar público o en medios de comunicación (periódo, radio)\n",
    "99 No sabe"
   ]
  },
  {
   "cell_type": "code",
   "execution_count": 87,
   "metadata": {},
   "outputs": [],
   "source": [
    "df_copy_20151['p2d7'].replace(to_replace=['0', '99'],value='99',inplace=True)"
   ]
  },
  {
   "cell_type": "code",
   "execution_count": 88,
   "metadata": {},
   "outputs": [
    {
     "data": {
      "text/plain": [
       "99    1046501\n",
       "7        2074\n",
       "Name: p2d7, dtype: int64"
      ]
     },
     "execution_count": 88,
     "metadata": {},
     "output_type": "execute_result"
    }
   ],
   "source": [
    "df_copy_20151['p2d7'] = df_copy_20151['p2d7'].astype('int64')\n",
    "df_copy_20151.p2d7.value_counts()"
   ]
  },
  {
   "cell_type": "markdown",
   "metadata": {},
   "source": [
    "## Opción 8: acudió a un sindicato o gremio (p2d8)\n",
    "8 Si acudió a un sindicato o gremio \n",
    "99 No sabe"
   ]
  },
  {
   "cell_type": "code",
   "execution_count": 89,
   "metadata": {},
   "outputs": [],
   "source": [
    "df_copy_20151['p2d8'].replace(to_replace=['0', '99'],value='99',inplace=True)"
   ]
  },
  {
   "cell_type": "code",
   "execution_count": 90,
   "metadata": {},
   "outputs": [
    {
     "data": {
      "text/plain": [
       "99    1048381\n",
       "8         194\n",
       "Name: p2d8, dtype: int64"
      ]
     },
     "execution_count": 90,
     "metadata": {},
     "output_type": "execute_result"
    }
   ],
   "source": [
    "df_copy_20151['p2d8'] = df_copy_20151['p2d8'].astype('int64')\n",
    "df_copy_20151.p2d8.value_counts()"
   ]
  },
  {
   "cell_type": "markdown",
   "metadata": {},
   "source": [
    "## Opción 9: pidió a conocidfos que lo recomendaran o le avisaran o le avisaran de algun trabajo (p2d9)\n",
    "\n",
    "9 Sí pidio a conocidos o familiares que lo recomendaran o le avisaran de algún trabajo \n",
    "99 No sabe"
   ]
  },
  {
   "cell_type": "code",
   "execution_count": 91,
   "metadata": {},
   "outputs": [],
   "source": [
    "df_copy_20151['p2d9'].replace(to_replace=['0', '99'],value='99',inplace=True)"
   ]
  },
  {
   "cell_type": "code",
   "execution_count": 92,
   "metadata": {},
   "outputs": [
    {
     "data": {
      "text/plain": [
       "99    1044636\n",
       "9        3939\n",
       "Name: p2d9, dtype: int64"
      ]
     },
     "execution_count": 92,
     "metadata": {},
     "output_type": "execute_result"
    }
   ],
   "source": [
    "df_copy_20151['p2d9'] = df_copy_20151['p2d9'].astype('int64')\n",
    "df_copy_20151.p2d9.value_counts()"
   ]
  },
  {
   "cell_type": "markdown",
   "metadata": {},
   "source": [
    "## Opción 10: solo consulto el anuncio clasificado (p2d10)\n",
    "10 Solo consultó el anuncio clasificado\n",
    "99 No sabe\n",
    "\n"
   ]
  },
  {
   "cell_type": "code",
   "execution_count": 93,
   "metadata": {},
   "outputs": [],
   "source": [
    "df_copy_20151['p2d10'].replace(to_replace=['0', '99'],value='99',inplace=True)"
   ]
  },
  {
   "cell_type": "code",
   "execution_count": 94,
   "metadata": {},
   "outputs": [
    {
     "data": {
      "text/plain": [
       "99    1047791\n",
       "10        784\n",
       "Name: p2d10, dtype: int64"
      ]
     },
     "execution_count": 94,
     "metadata": {},
     "output_type": "execute_result"
    }
   ],
   "source": [
    "df_copy_20151['p2d10'] = df_copy_20151['p2d10'].astype('int64')\n",
    "df_copy_20151.p2d10.value_counts()"
   ]
  },
  {
   "cell_type": "markdown",
   "metadata": {},
   "source": [
    "## Otra actividad (p2d11)\n",
    "11 Si realizo otra actividad\n",
    "99 No sabe"
   ]
  },
  {
   "cell_type": "code",
   "execution_count": 95,
   "metadata": {},
   "outputs": [],
   "source": [
    "df_copy_20151['p2d11'].replace(to_replace=['0', '99'],value='99',inplace=True)"
   ]
  },
  {
   "cell_type": "code",
   "execution_count": 96,
   "metadata": {},
   "outputs": [
    {
     "data": {
      "text/plain": [
       "99    1048497\n",
       "11         78\n",
       "Name: p2d11, dtype: int64"
      ]
     },
     "execution_count": 96,
     "metadata": {},
     "output_type": "execute_result"
    }
   ],
   "source": [
    "df_copy_20151['p2d11'] = df_copy_20151['p2d11'].astype('int64')\n",
    "df_copy_20151.p2d11.value_counts()"
   ]
  },
  {
   "cell_type": "markdown",
   "metadata": {},
   "source": [
    "## No sabe(p2d99)\n",
    "99 No sabe"
   ]
  },
  {
   "cell_type": "code",
   "execution_count": 97,
   "metadata": {},
   "outputs": [],
   "source": [
    "df_copy_20151['p2d99'].replace(to_replace=['9', '99'],value='99',inplace=True)"
   ]
  },
  {
   "cell_type": "code",
   "execution_count": 98,
   "metadata": {},
   "outputs": [],
   "source": [
    "df_copy_20151['p2d99'].replace(to_replace=['0', '99'],value='99',inplace=True)"
   ]
  },
  {
   "cell_type": "code",
   "execution_count": 99,
   "metadata": {},
   "outputs": [
    {
     "data": {
      "text/plain": [
       "99    1048575\n",
       "Name: p2d99, dtype: int64"
      ]
     },
     "execution_count": 99,
     "metadata": {},
     "output_type": "execute_result"
    }
   ],
   "source": [
    "df_copy_20151['p2d99'] = df_copy_20151['p2d99'].astype('int64')\n",
    "df_copy_20151.p2d99.value_counts()"
   ]
  },
  {
   "cell_type": "markdown",
   "metadata": {
    "collapsed": true
   },
   "source": [
    "## Pregunta 2e: ¿..es (p2e)\n",
    "\n",
    "1 Una persona temporalmente ausente de su actividad u oficio\n",
    "2 pensionado o jubilado de su empleo?\n",
    "3 estudiante?\n",
    "4 una persona que se dedica a los quehaceres de su hogar?\n",
    "5 una persona con alguna  limitación física o mental  que le impide trabajar por  el resto de su vida?\n",
    "6 Otra condición\n",
    "99No sabe"
   ]
  },
  {
   "cell_type": "code",
   "execution_count": 100,
   "metadata": {},
   "outputs": [],
   "source": [
    "df_copy_20151['p2e'].replace(to_replace=[' ', '99'],value='99',inplace=True)"
   ]
  },
  {
   "cell_type": "code",
   "execution_count": 101,
   "metadata": {},
   "outputs": [],
   "source": [
    "df_copy_20151['p2e'].replace(to_replace=['9', '99'],value='99',inplace=True)"
   ]
  },
  {
   "cell_type": "code",
   "execution_count": 102,
   "metadata": {},
   "outputs": [
    {
     "data": {
      "text/plain": [
       "99    597568\n",
       "4     208965\n",
       "3     165950\n",
       "2      35472\n",
       "6      20101\n",
       "1      15029\n",
       "5       5490\n",
       "Name: p2e, dtype: int64"
      ]
     },
     "execution_count": 102,
     "metadata": {},
     "output_type": "execute_result"
    }
   ],
   "source": [
    "df_copy_20151['p2e'] = df_copy_20151['p2e'].astype('int64')\n",
    "df_copy_20151.p2e.value_counts()"
   ]
  },
  {
   "cell_type": "markdown",
   "metadata": {},
   "source": [
    "## Actualmente,¿... tiene necesidad de trabajar?(p2f)\n",
    "1 sí tiene necesidad de trabajar\n",
    "2 Solo tiene deseos de trabajar\n",
    "3 No tiene necesidad no deseos de trabajar\n",
    "99 No sabe"
   ]
  },
  {
   "cell_type": "code",
   "execution_count": 103,
   "metadata": {},
   "outputs": [],
   "source": [
    "df_copy_20151['p2f'].replace(to_replace=[' ', '99'],value='99',inplace=True)"
   ]
  },
  {
   "cell_type": "code",
   "execution_count": 104,
   "metadata": {},
   "outputs": [],
   "source": [
    "df_copy_20151['p2f'].replace(to_replace=['9', '99'],value='99',inplace=True)"
   ]
  },
  {
   "cell_type": "code",
   "execution_count": 105,
   "metadata": {},
   "outputs": [
    {
     "data": {
      "text/plain": [
       "99    618198\n",
       "3     337494\n",
       "1      79895\n",
       "2      12988\n",
       "Name: p2f, dtype: int64"
      ]
     },
     "execution_count": 105,
     "metadata": {},
     "output_type": "execute_result"
    }
   ],
   "source": [
    "df_copy_20151['p2f'] = df_copy_20151['p2f'].astype('int64')\n",
    "df_copy_20151.p2f.value_counts()"
   ]
  },
  {
   "cell_type": "markdown",
   "metadata": {},
   "source": [
    "## Hay alguna otra razon, además de ser(menciona lo que contstaron en p2e) por la que ... no este buscando trabajo (p2g1)\n",
    "\n",
    "1 Sí\n",
    "2 No\n",
    "99 No sabe"
   ]
  },
  {
   "cell_type": "code",
   "execution_count": 106,
   "metadata": {},
   "outputs": [],
   "source": [
    "df_copy_20151['p2g1'].replace(to_replace=[' ', '99'],value='99',inplace=True)"
   ]
  },
  {
   "cell_type": "code",
   "execution_count": 107,
   "metadata": {},
   "outputs": [],
   "source": [
    "df_copy_20151['p2g1'].replace(to_replace=['9', '99'],value='99',inplace=True)"
   ]
  },
  {
   "cell_type": "code",
   "execution_count": 108,
   "metadata": {},
   "outputs": [
    {
     "data": {
      "text/plain": [
       "99    955696\n",
       "2      53544\n",
       "1      39335\n",
       "Name: p2g1, dtype: int64"
      ]
     },
     "execution_count": 108,
     "metadata": {},
     "output_type": "execute_result"
    }
   ],
   "source": [
    "df_copy_20151['p2g1'] = df_copy_20151['p2g1'].astype('int64')\n",
    "df_copy_20151.p2g1.value_counts()"
   ]
  },
  {
   "cell_type": "markdown",
   "metadata": {},
   "source": [
    "## **  Opciones de respuesta cuando p2g1= 1 (p2g2)\n",
    " \n",
    "1 Está esperando la respuesta a una solicitud o está apaladrando con un patrón que lo llamará en fecha próxima\n",
    "2 No hay trabajo en su especialidad, oficio o profesión\n",
    "3 No cuenta con la escolaridad, los papeles o la experiencia necesaria para realizar un trabajo\n",
    "4 Piensa que por su edad o por su aspecto no lo aceptarían en un trabajo\n",
    "5 En su localidad no hay trabajo o sólo se realiza en ciertas temporadas del año\n",
    "6 La inseguridad pública o el exceso de trámites lo desalientan a iniciar una actividad\n",
    "7 Espera recuperarse de una enfermedad o accidente\n",
    "8 Está embarazada\n",
    "9 No tiene quién le cuide a sus hijos pequeños,ancianos o enfermos\n",
    "10 No lo(a) deja un familiar\n",
    "11 Otras razones de mercado\n",
    "12 Otras razones personales\n",
    "99 No sabe"
   ]
  },
  {
   "cell_type": "code",
   "execution_count": 109,
   "metadata": {},
   "outputs": [
    {
     "data": {
      "text/plain": [
       "99    1009240\n",
       "9       16738\n",
       "4        6882\n",
       "12       3962\n",
       "7        3604\n",
       "5        3178\n",
       "10       2407\n",
       "8         927\n",
       "3         876\n",
       "1         298\n",
       "11        235\n",
       "2         154\n",
       "6          74\n",
       "Name: p2g2, dtype: int64"
      ]
     },
     "execution_count": 109,
     "metadata": {},
     "output_type": "execute_result"
    }
   ],
   "source": [
    "df_copy_20151['p2g2'] = df_copy_20151['p2g2'].astype('int64')\n",
    "df_copy_20151.p2g2.value_counts()"
   ]
  },
  {
   "cell_type": "markdown",
   "metadata": {},
   "source": [
    "# Pregunta 2H: ¿…ha trabajado alguna vez en su vida"
   ]
  },
  {
   "cell_type": "markdown",
   "metadata": {},
   "source": [
    "## Opción 1: una pago o salario?(p2h1)\n",
    "1 por un pago o salario ?\n",
    "99 No sabe"
   ]
  },
  {
   "cell_type": "code",
   "execution_count": 110,
   "metadata": {},
   "outputs": [],
   "source": [
    "df_copy_20151['p2h1'].replace(to_replace=[' ', '99'],value='99',inplace=True)"
   ]
  },
  {
   "cell_type": "code",
   "execution_count": 111,
   "metadata": {
    "scrolled": true
   },
   "outputs": [
    {
     "data": {
      "text/plain": [
       "99    844890\n",
       "1     203685\n",
       "Name: p2h1, dtype: int64"
      ]
     },
     "execution_count": 111,
     "metadata": {},
     "output_type": "execute_result"
    }
   ],
   "source": [
    "df_copy_20151['p2h1'] = df_copy_20151['p2h1'].astype('int64')\n",
    "df_copy_20151.p2h1.value_counts()"
   ]
  },
  {
   "cell_type": "markdown",
   "metadata": {},
   "source": [
    "## Opción 2: por su cuenta? (p2h2)\n",
    "2 por su cuenta\n",
    "99 No sabe"
   ]
  },
  {
   "cell_type": "code",
   "execution_count": 112,
   "metadata": {},
   "outputs": [],
   "source": [
    "df_copy_20151['p2h2'].replace(to_replace=[' ', '99'],value='99',inplace=True)"
   ]
  },
  {
   "cell_type": "code",
   "execution_count": 113,
   "metadata": {},
   "outputs": [
    {
     "data": {
      "text/plain": [
       "99    1021514\n",
       "2       27061\n",
       "Name: p2h2, dtype: int64"
      ]
     },
     "execution_count": 113,
     "metadata": {},
     "output_type": "execute_result"
    }
   ],
   "source": [
    "df_copy_20151['p2h2'] = df_copy_20151['p2h2'].astype('int64')\n",
    "df_copy_20151.p2h2.value_counts()"
   ]
  },
  {
   "cell_type": "markdown",
   "metadata": {},
   "source": [
    "## Opción 3: ayudando en el negocio o actividad económica de alguna persona? (p2h3)\n",
    "3 ayudando en el negocio o actividad económica\n",
    "99 no sabe"
   ]
  },
  {
   "cell_type": "code",
   "execution_count": 114,
   "metadata": {},
   "outputs": [],
   "source": [
    "df_copy_20151['p2h3'].replace(to_replace=[' ', '99'],value='99',inplace=True)"
   ]
  },
  {
   "cell_type": "code",
   "execution_count": 115,
   "metadata": {
    "scrolled": true
   },
   "outputs": [
    {
     "data": {
      "text/plain": [
       "99    1040463\n",
       "3        8112\n",
       "Name: p2h3, dtype: int64"
      ]
     },
     "execution_count": 115,
     "metadata": {},
     "output_type": "execute_result"
    }
   ],
   "source": [
    "df_copy_20151['p2h3'] = df_copy_20151['p2h3'].astype('int64')\n",
    "df_copy_20151.p2h3.value_counts()"
   ]
  },
  {
   "cell_type": "markdown",
   "metadata": {},
   "source": [
    "## Opción 4: nunca ha trabajado (p2h4)\n",
    "\n",
    "4 Nunca ha trabajado \n",
    "99 No aplica\n"
   ]
  },
  {
   "cell_type": "code",
   "execution_count": 116,
   "metadata": {},
   "outputs": [],
   "source": [
    "df_copy_20151['p2h4'].replace(to_replace=[' ', '99'],value='99',inplace=True)"
   ]
  },
  {
   "cell_type": "code",
   "execution_count": 117,
   "metadata": {
    "scrolled": true
   },
   "outputs": [
    {
     "data": {
      "text/plain": [
       "99    811078\n",
       "4     237497\n",
       "Name: p2h4, dtype: int64"
      ]
     },
     "execution_count": 117,
     "metadata": {},
     "output_type": "execute_result"
    }
   ],
   "source": [
    "df_copy_20151['p2h4'] = df_copy_20151['p2h4'].astype('int64')\n",
    "df_copy_20151.p2h4.value_counts()"
   ]
  },
  {
   "cell_type": "markdown",
   "metadata": {},
   "source": [
    "## Opción 9: No sabe (p2h9)\n",
    "99 No sabe"
   ]
  },
  {
   "cell_type": "code",
   "execution_count": 118,
   "metadata": {},
   "outputs": [],
   "source": [
    "df_copy_20151['p2h9'].replace(to_replace=[' ', '99'],value='99',inplace=True)"
   ]
  },
  {
   "cell_type": "code",
   "execution_count": 119,
   "metadata": {},
   "outputs": [],
   "source": [
    "df_copy_20151['p2h9'].replace(to_replace=['9', '99'],value='99',inplace=True)"
   ]
  },
  {
   "cell_type": "code",
   "execution_count": 120,
   "metadata": {},
   "outputs": [
    {
     "data": {
      "text/plain": [
       "99    1048575\n",
       "Name: p2h9, dtype: int64"
      ]
     },
     "execution_count": 120,
     "metadata": {},
     "output_type": "execute_result"
    }
   ],
   "source": [
    "df_copy_20151['p2h9'] = df_copy_20151['p2h9'].astype('int64')\n",
    "df_copy_20151.p2h9.value_counts()"
   ]
  },
  {
   "cell_type": "markdown",
   "metadata": {},
   "source": [
    "## * Si... tiene más de un trabajo, hablemos del principal ¿Cuales son las tareas o funciones principales que.... desempeña en su trabajo?(p3)\n"
   ]
  },
  {
   "cell_type": "code",
   "execution_count": 121,
   "metadata": {
    "scrolled": true
   },
   "outputs": [
    {
     "data": {
      "text/plain": [
       "99      478943\n",
       "4211     33912\n",
       "4111     25683\n",
       "9611     21391\n",
       "9111     15082\n",
       "7121     14442\n",
       "9221     14339\n",
       "6111     13687\n",
       "8342     13421\n",
       "3115     11928\n",
       "9621     11499\n",
       "8341     10670\n",
       "3111      9243\n",
       "9521      9187\n",
       "5114      8792\n",
       "5313      8754\n",
       "7513      7706\n",
       "2332      7233\n",
       "9512      7197\n",
       "3121      6578\n",
       "5116      6143\n",
       "9411      5987\n",
       "4224      5831\n",
       "9231      5783\n",
       "2632      5637\n",
       "3132      5525\n",
       "2121      4893\n",
       "5111      4717\n",
       "2512      4689\n",
       "4221      4636\n",
       "         ...  \n",
       "1324        14\n",
       "7344        14\n",
       "5252        14\n",
       "2639        14\n",
       "8162        13\n",
       "1525        13\n",
       "1312        12\n",
       "2391        12\n",
       "2211        12\n",
       "1619        12\n",
       "2134        11\n",
       "2992        10\n",
       "1133         9\n",
       "2234         9\n",
       "2141         9\n",
       "9322         8\n",
       "9732         8\n",
       "2339         8\n",
       "2991         8\n",
       "6231         7\n",
       "9733         6\n",
       "2421         5\n",
       "2649         5\n",
       "8349         5\n",
       "1129         4\n",
       "1225         4\n",
       "5999         4\n",
       "2334         2\n",
       "6129         2\n",
       "9123         1\n",
       "Name: p3, Length: 467, dtype: int64"
      ]
     },
     "execution_count": 121,
     "metadata": {},
     "output_type": "execute_result"
    }
   ],
   "source": [
    "df_copy_20151['p3'] = df_copy_20151['p3'].astype('int64')\n",
    "df_copy_20151.p3.value_counts()"
   ]
  },
  {
   "cell_type": "markdown",
   "metadata": {},
   "source": [
    "## ¿En su trabajo... tiene un jefe(a) o superior? (p3a)\n",
    "1 Si\n",
    "2 No\n",
    "99 No sabe"
   ]
  },
  {
   "cell_type": "code",
   "execution_count": 122,
   "metadata": {},
   "outputs": [],
   "source": [
    "df_copy_20151['p3a'].replace(to_replace=[' ', '99'],value='99',inplace=True)"
   ]
  },
  {
   "cell_type": "code",
   "execution_count": 123,
   "metadata": {},
   "outputs": [
    {
     "data": {
      "text/plain": [
       "99    478943\n",
       "1     430314\n",
       "2     139318\n",
       "Name: p3a, dtype: int64"
      ]
     },
     "execution_count": 123,
     "metadata": {},
     "output_type": "execute_result"
    }
   ],
   "source": [
    "df_copy_20151['p3a'] = df_copy_20151['p3a'].astype('int64')\n",
    "df_copy_20151.p3a.value_counts()"
   ]
  },
  {
   "cell_type": "markdown",
   "metadata": {},
   "source": [
    "## Entonces, ¿... se dedica a un negocio o activida por su cuenta?(p3b)\n",
    "\n",
    "1 Sí\n",
    "2 No\n",
    "99 No sabe"
   ]
  },
  {
   "cell_type": "code",
   "execution_count": 124,
   "metadata": {},
   "outputs": [],
   "source": [
    "df_copy_20151['p3b'].replace(to_replace=[' ', '99'],value='99',inplace=True)"
   ]
  },
  {
   "cell_type": "code",
   "execution_count": 125,
   "metadata": {
    "scrolled": true
   },
   "outputs": [
    {
     "data": {
      "text/plain": [
       "99    909257\n",
       "1     138058\n",
       "2       1260\n",
       "Name: p3b, dtype: int64"
      ]
     },
     "execution_count": 125,
     "metadata": {},
     "output_type": "execute_result"
    }
   ],
   "source": [
    "df_copy_20151['p3b'] = df_copy_20151['p3b'].astype('int64')\n",
    "df_copy_20151.p3b.value_counts()"
   ]
  },
  {
   "cell_type": "markdown",
   "metadata": {},
   "source": [
    "#  Pregunta 3C: ¿…ofrece sus productos o servicios"
   ]
  },
  {
   "cell_type": "markdown",
   "metadata": {},
   "source": [
    "## Opción 1: a una sola empresa, negocio o intermediario ?(p3c1)\n",
    "\n",
    "1 a una sola empresa, negocio o intermediario?\n",
    "99 No sabe"
   ]
  },
  {
   "cell_type": "code",
   "execution_count": 126,
   "metadata": {},
   "outputs": [],
   "source": [
    "df_copy_20151['p3c1'].replace(to_replace=[' ', '99'],value='99',inplace=True)"
   ]
  },
  {
   "cell_type": "code",
   "execution_count": 127,
   "metadata": {},
   "outputs": [
    {
     "data": {
      "text/plain": [
       "99    1044282\n",
       "1        4293\n",
       "Name: p3c1, dtype: int64"
      ]
     },
     "execution_count": 127,
     "metadata": {},
     "output_type": "execute_result"
    }
   ],
   "source": [
    "df_copy_20151['p3c1'] = df_copy_20151['p3c1'].astype('int64')\n",
    "df_copy_20151.p3c1.value_counts()"
   ]
  },
  {
   "cell_type": "markdown",
   "metadata": {},
   "source": [
    "## Opción 2: a varios negocios, empresas o intermediarios? (p3c2)\n",
    "2 a varios negocios, empresas o intermediarios?\n",
    "99 No sabe"
   ]
  },
  {
   "cell_type": "code",
   "execution_count": 128,
   "metadata": {},
   "outputs": [],
   "source": [
    "df_copy_20151['p3c2'].replace(to_replace=[' ', '99'],value='99',inplace=True)"
   ]
  },
  {
   "cell_type": "code",
   "execution_count": 129,
   "metadata": {
    "scrolled": true
   },
   "outputs": [
    {
     "data": {
      "text/plain": [
       "99    1038339\n",
       "2       10236\n",
       "Name: p3c2, dtype: int64"
      ]
     },
     "execution_count": 129,
     "metadata": {},
     "output_type": "execute_result"
    }
   ],
   "source": [
    "df_copy_20151['p3c2'] = df_copy_20151['p3c2'].astype('int64')\n",
    "df_copy_20151.p3c2.value_counts()"
   ]
  },
  {
   "cell_type": "markdown",
   "metadata": {},
   "source": [
    "## Opción 3: directamente al público? (p3c3)\n",
    "\n",
    "3 directamente al público?\n",
    "99 No aplica"
   ]
  },
  {
   "cell_type": "code",
   "execution_count": 130,
   "metadata": {},
   "outputs": [],
   "source": [
    "df_copy_20151['p3c3'].replace(to_replace=[' ', '99'],value='99',inplace=True)"
   ]
  },
  {
   "cell_type": "code",
   "execution_count": 131,
   "metadata": {
    "scrolled": true
   },
   "outputs": [
    {
     "data": {
      "text/plain": [
       "99    926992\n",
       "3     121583\n",
       "Name: p3c3, dtype: int64"
      ]
     },
     "execution_count": 131,
     "metadata": {},
     "output_type": "execute_result"
    }
   ],
   "source": [
    "df_copy_20151['p3c3'] = df_copy_20151['p3c3'].astype('int64')\n",
    "df_copy_20151.p3c3.value_counts()"
   ]
  },
  {
   "cell_type": "markdown",
   "metadata": {},
   "source": [
    "## Opción 4: autoconsumo gropecuario (p3c4)\n",
    "\n",
    "4 Es autoconsumo agropecuario\n",
    "99 No sabe"
   ]
  },
  {
   "cell_type": "code",
   "execution_count": 132,
   "metadata": {},
   "outputs": [],
   "source": [
    "df_copy_20151['p3c4'].replace(to_replace=[' ', '99'],value='99',inplace=True)"
   ]
  },
  {
   "cell_type": "code",
   "execution_count": 133,
   "metadata": {},
   "outputs": [
    {
     "data": {
      "text/plain": [
       "99    1038886\n",
       "4        9689\n",
       "Name: p3c4, dtype: int64"
      ]
     },
     "execution_count": 133,
     "metadata": {},
     "output_type": "execute_result"
    }
   ],
   "source": [
    "df_copy_20151['p3c4'] = df_copy_20151['p3c4'].astype('int64')\n",
    "df_copy_20151.p3c4.value_counts()"
   ]
  },
  {
   "cell_type": "markdown",
   "metadata": {},
   "source": [
    "## No sabe (p3c9)\n",
    "99 No sabe"
   ]
  },
  {
   "cell_type": "code",
   "execution_count": 134,
   "metadata": {},
   "outputs": [],
   "source": [
    "df_copy_20151['p3c9'].replace(to_replace=[' ', '99'],value='99',inplace=True)"
   ]
  },
  {
   "cell_type": "code",
   "execution_count": 135,
   "metadata": {},
   "outputs": [],
   "source": [
    "df_copy_20151['p3c9'].replace(to_replace=['9', '99'],value='99',inplace=True)"
   ]
  },
  {
   "cell_type": "code",
   "execution_count": 136,
   "metadata": {
    "scrolled": true
   },
   "outputs": [
    {
     "data": {
      "text/plain": [
       "99    1048575\n",
       "Name: p3c9, dtype: int64"
      ]
     },
     "execution_count": 136,
     "metadata": {},
     "output_type": "execute_result"
    }
   ],
   "source": [
    "df_copy_20151['p3c9'] = df_copy_20151['p3c9'].astype('int64')\n",
    "df_copy_20151.p3c9.value_counts()"
   ]
  },
  {
   "cell_type": "markdown",
   "metadata": {},
   "source": [
    "## ¿... tiene empleados o le ayudan personas en su negocio o actividad?(p3d)\n",
    "\n",
    "1 Sí\n",
    "2 No\n",
    "99 No sabe"
   ]
  },
  {
   "cell_type": "code",
   "execution_count": 137,
   "metadata": {},
   "outputs": [],
   "source": [
    "df_copy_20151['p3d'].replace(to_replace=[' ', '99'],value='99',inplace=True)"
   ]
  },
  {
   "cell_type": "code",
   "execution_count": 138,
   "metadata": {},
   "outputs": [],
   "source": [
    "df_copy_20151['p3d'].replace(to_replace=['9', '99'],value='99',inplace=True)"
   ]
  },
  {
   "cell_type": "code",
   "execution_count": 139,
   "metadata": {},
   "outputs": [
    {
     "data": {
      "text/plain": [
       "99    910566\n",
       "2      88589\n",
       "1      49420\n",
       "Name: p3d, dtype: int64"
      ]
     },
     "execution_count": 139,
     "metadata": {},
     "output_type": "execute_result"
    }
   ],
   "source": [
    "df_copy_20151['p3d'] = df_copy_20151['p3d'].astype('int64')\n",
    "df_copy_20151.p3d.value_counts()"
   ]
  },
  {
   "cell_type": "markdown",
   "metadata": {},
   "source": [
    "## ¿...Tiene (p3e)\n",
    "\n",
    "1 no solo tipo de negocio (o actividad)?\n",
    "2 varios tipos de negocios?\n",
    "99 no sabe"
   ]
  },
  {
   "cell_type": "code",
   "execution_count": 140,
   "metadata": {},
   "outputs": [],
   "source": [
    "df_copy_20151['p3e'].replace(to_replace=[' ', '99'],value='99',inplace=True)"
   ]
  },
  {
   "cell_type": "code",
   "execution_count": 141,
   "metadata": {},
   "outputs": [
    {
     "data": {
      "text/plain": [
       "99    999155\n",
       "1      49197\n",
       "2        223\n",
       "Name: p3e, dtype: int64"
      ]
     },
     "execution_count": 141,
     "metadata": {},
     "output_type": "execute_result"
    }
   ],
   "source": [
    "df_copy_20151['p3e'] = df_copy_20151['p3e'].astype('int64')\n",
    "df_copy_20151.p3e.value_counts()"
   ]
  },
  {
   "cell_type": "markdown",
   "metadata": {},
   "source": [
    "## ¿Cuántos puestos o establecimientos (o en su caso vehículos) forman este negocio o empresa?(p3f1)\n",
    "1 ¿Uno solo?\n",
    "2 ¿Más de uno?\n",
    "3 No tiene establecimiento (o vehículo)\n",
    "99 No sabe"
   ]
  },
  {
   "cell_type": "code",
   "execution_count": 142,
   "metadata": {},
   "outputs": [],
   "source": [
    "df_copy_20151['p3f1'].replace(to_replace=[' ', '99'],value='99',inplace=True)"
   ]
  },
  {
   "cell_type": "code",
   "execution_count": 143,
   "metadata": {},
   "outputs": [],
   "source": [
    "df_copy_20151['p3f1'].replace(to_replace=['9', '99'],value='99',inplace=True)"
   ]
  },
  {
   "cell_type": "code",
   "execution_count": 144,
   "metadata": {},
   "outputs": [
    {
     "data": {
      "text/plain": [
       "99    999191\n",
       "1      44428\n",
       "3       4176\n",
       "2        780\n",
       "Name: p3f1, dtype: int64"
      ]
     },
     "execution_count": 144,
     "metadata": {},
     "output_type": "execute_result"
    }
   ],
   "source": [
    "df_copy_20151['p3f1'] = df_copy_20151['p3f1'].astype('int64')\n",
    "df_copy_20151.p3f1.value_counts()"
   ]
  },
  {
   "cell_type": "markdown",
   "metadata": {},
   "source": [
    "## ¿Cuántos puestos o establecimientos (o en su caso vehículos) forman este negocio o empresa?(p3f2)\n",
    "\n",
    "2-98 Cantidad de puestos o vehículos\n",
    "99 No sabe\n"
   ]
  },
  {
   "cell_type": "code",
   "execution_count": 145,
   "metadata": {},
   "outputs": [
    {
     "data": {
      "text/plain": [
       "99    1047798\n",
       "2         500\n",
       "3         160\n",
       "4          50\n",
       "5          26\n",
       "10         17\n",
       "6          11\n",
       "7           7\n",
       "14          2\n",
       "45          1\n",
       "40          1\n",
       "15          1\n",
       "1           1\n",
       "Name: p3f2, dtype: int64"
      ]
     },
     "execution_count": 145,
     "metadata": {},
     "output_type": "execute_result"
    }
   ],
   "source": [
    "df_copy_20151['p3f2'] = df_copy_20151['p3f2'].astype('int64')\n",
    "df_copy_20151.p3f2.value_counts()"
   ]
  },
  {
   "cell_type": "markdown",
   "metadata": {},
   "source": [
    "# Pregunta 3G: De las personas que ocupa o le ayudan a…,¿cuántos son \n"
   ]
  },
  {
   "cell_type": "markdown",
   "metadata": {},
   "source": [
    "## Opción 1:  trabajadores que reciben un pago?(p3g1_1)\n",
    "1 trabajadores que reciben un pago?\n",
    "99 No sabe"
   ]
  },
  {
   "cell_type": "code",
   "execution_count": 146,
   "metadata": {},
   "outputs": [],
   "source": [
    "df_copy_20151['p3g1_1'].replace(to_replace=[' ', '99'],value='99',inplace=True)"
   ]
  },
  {
   "cell_type": "code",
   "execution_count": 147,
   "metadata": {
    "scrolled": true
   },
   "outputs": [
    {
     "data": {
      "text/plain": [
       "99    1023224\n",
       "1       25351\n",
       "Name: p3g1_1, dtype: int64"
      ]
     },
     "execution_count": 147,
     "metadata": {},
     "output_type": "execute_result"
    }
   ],
   "source": [
    "df_copy_20151['p3g1_1'] = df_copy_20151['p3g1_1'].astype('int64')\n",
    "df_copy_20151.p3g1_1.value_counts()"
   ]
  },
  {
   "cell_type": "markdown",
   "metadata": {},
   "source": [
    "## Número de trabajadores (p3g1_2)\n",
    "1-998 Número de trabajadores\n",
    "999 No sabe número de trabajadores"
   ]
  },
  {
   "cell_type": "code",
   "execution_count": 148,
   "metadata": {
    "scrolled": true
   },
   "outputs": [
    {
     "data": {
      "text/plain": [
       "99     1023224\n",
       "1        12622\n",
       "2         5588\n",
       "3         2390\n",
       "4         1306\n",
       "5          897\n",
       "6          551\n",
       "10         394\n",
       "8          282\n",
       "7          222\n",
       "999        167\n",
       "15         157\n",
       "20         143\n",
       "9           93\n",
       "12          81\n",
       "30          51\n",
       "50          39\n",
       "25          37\n",
       "40          37\n",
       "16          34\n",
       "11          31\n",
       "13          28\n",
       "14          24\n",
       "100         19\n",
       "18          17\n",
       "60          14\n",
       "17          11\n",
       "80           9\n",
       "35           8\n",
       "70           7\n",
       "        ...   \n",
       "32           2\n",
       "52           2\n",
       "250          2\n",
       "160          2\n",
       "90           2\n",
       "33           2\n",
       "57           2\n",
       "82           2\n",
       "43           2\n",
       "51           1\n",
       "150          1\n",
       "353          1\n",
       "350          1\n",
       "260          1\n",
       "38           1\n",
       "220          1\n",
       "180          1\n",
       "175          1\n",
       "27           1\n",
       "130          1\n",
       "48           1\n",
       "115          1\n",
       "39           1\n",
       "84           1\n",
       "74           1\n",
       "65           1\n",
       "63           1\n",
       "47           1\n",
       "53           1\n",
       "42           1\n",
       "Name: p3g1_2, Length: 75, dtype: int64"
      ]
     },
     "execution_count": 148,
     "metadata": {},
     "output_type": "execute_result"
    }
   ],
   "source": [
    "df_copy_20151['p3g1_2'] = df_copy_20151['p3g1_2'].astype('int64')\n",
    "df_copy_20151.p3g1_2.value_counts()"
   ]
  },
  {
   "cell_type": "markdown",
   "metadata": {},
   "source": [
    "## Opción 2: socios? (p3g2_1) \n",
    "2 socios?\n",
    "99 No sabe"
   ]
  },
  {
   "cell_type": "code",
   "execution_count": 149,
   "metadata": {},
   "outputs": [],
   "source": [
    "df_copy_20151['p3g2_1'].replace(to_replace=[' ', '99'],value='99',inplace=True)"
   ]
  },
  {
   "cell_type": "code",
   "execution_count": 150,
   "metadata": {},
   "outputs": [
    {
     "data": {
      "text/plain": [
       "99    1040748\n",
       "2        7827\n",
       "Name: p3g2_1, dtype: int64"
      ]
     },
     "execution_count": 150,
     "metadata": {},
     "output_type": "execute_result"
    }
   ],
   "source": [
    "df_copy_20151['p3g2_1'] = df_copy_20151['p3g2_1'].astype('int64')\n",
    "df_copy_20151.p3g2_1.value_counts()"
   ]
  },
  {
   "cell_type": "markdown",
   "metadata": {},
   "source": [
    "## Número de trabajadores  (p3g2_2)\n",
    "1 - 998 Cantidad en opcion 1 de pregunta 3g\n",
    "999 No sabe que número de trabajadores"
   ]
  },
  {
   "cell_type": "code",
   "execution_count": 151,
   "metadata": {
    "scrolled": true
   },
   "outputs": [
    {
     "data": {
      "text/plain": [
       "99     1040748\n",
       "1         5824\n",
       "2          948\n",
       "3          444\n",
       "4          202\n",
       "5          126\n",
       "6           67\n",
       "7           35\n",
       "999         31\n",
       "10          30\n",
       "8           27\n",
       "9           15\n",
       "12          15\n",
       "11           8\n",
       "15           7\n",
       "14           6\n",
       "20           6\n",
       "16           6\n",
       "13           5\n",
       "18           5\n",
       "60           3\n",
       "35           2\n",
       "23           2\n",
       "33           1\n",
       "45           1\n",
       "21           1\n",
       "22           1\n",
       "26           1\n",
       "30           1\n",
       "58           1\n",
       "59           1\n",
       "32           1\n",
       "62           1\n",
       "69           1\n",
       "80           1\n",
       "19           1\n",
       "Name: p3g2_2, dtype: int64"
      ]
     },
     "execution_count": 151,
     "metadata": {},
     "output_type": "execute_result"
    }
   ],
   "source": [
    "df_copy_20151['p3g2_2'] = df_copy_20151['p3g2_2'].astype('int64')\n",
    "df_copy_20151.p3g2_2.value_counts()"
   ]
  },
  {
   "cell_type": "markdown",
   "metadata": {},
   "source": [
    "## Opción 3: trabajadores sin pago? (p3g3_1)\n",
    "3 trabajadores sin pago?\n",
    "99 No sabe"
   ]
  },
  {
   "cell_type": "code",
   "execution_count": 152,
   "metadata": {},
   "outputs": [],
   "source": [
    "df_copy_20151['p3g3_1'].replace(to_replace=[' ', '99'],value='99',inplace=True)"
   ]
  },
  {
   "cell_type": "code",
   "execution_count": 153,
   "metadata": {},
   "outputs": [
    {
     "data": {
      "text/plain": [
       "99    1027251\n",
       "3       21324\n",
       "Name: p3g3_1, dtype: int64"
      ]
     },
     "execution_count": 153,
     "metadata": {},
     "output_type": "execute_result"
    }
   ],
   "source": [
    "df_copy_20151['p3g3_1'] = df_copy_20151['p3g3_1'].astype('int64')\n",
    "df_copy_20151.p3g3_1.value_counts()"
   ]
  },
  {
   "cell_type": "markdown",
   "metadata": {},
   "source": [
    "## * Número de trabajadores (p3g3_2)\n",
    "1-998 Cantidad en opción 3 de pregunta 3g \n",
    "999 No sabe número de trabajadores"
   ]
  },
  {
   "cell_type": "code",
   "execution_count": 154,
   "metadata": {
    "scrolled": true
   },
   "outputs": [
    {
     "data": {
      "text/plain": [
       "99     1027251\n",
       "1        15578\n",
       "2         4000\n",
       "3         1258\n",
       "4          333\n",
       "5           98\n",
       "6           36\n",
       "7           10\n",
       "9            4\n",
       "8            3\n",
       "999          1\n",
       "20           1\n",
       "12           1\n",
       "10           1\n",
       "Name: p3g3_2, dtype: int64"
      ]
     },
     "execution_count": 154,
     "metadata": {},
     "output_type": "execute_result"
    }
   ],
   "source": [
    "df_copy_20151['p3g3_2'] = df_copy_20151['p3g3_2'].astype('int64')\n",
    "df_copy_20151.p3g3_2.value_counts()"
   ]
  },
  {
   "cell_type": "markdown",
   "metadata": {},
   "source": [
    "## *Opción 4: no sabe qué tipo de trabajadores son (p3g4_1)\n",
    "4 No sabe que tipo de trabajadores son\n"
   ]
  },
  {
   "cell_type": "code",
   "execution_count": 155,
   "metadata": {},
   "outputs": [],
   "source": [
    "df_copy_20151['p3g4_1'].replace(to_replace=[' ', '99'],value='99',inplace=True)"
   ]
  },
  {
   "cell_type": "code",
   "execution_count": 156,
   "metadata": {
    "scrolled": true
   },
   "outputs": [
    {
     "data": {
      "text/plain": [
       "99    1048562\n",
       "4          13\n",
       "Name: p3g4_1, dtype: int64"
      ]
     },
     "execution_count": 156,
     "metadata": {},
     "output_type": "execute_result"
    }
   ],
   "source": [
    "df_copy_20151['p3g4_1'] = df_copy_20151['p3g4_1'].astype('int64')\n",
    "df_copy_20151.p3g4_1.value_counts()"
   ]
  },
  {
   "cell_type": "markdown",
   "metadata": {},
   "source": [
    "## Número de trabajadores(p3g4_2)\n",
    "1-998 Cantidad en opción 4 de pregunta 3g\n",
    "999 No sabe"
   ]
  },
  {
   "cell_type": "code",
   "execution_count": 157,
   "metadata": {},
   "outputs": [
    {
     "data": {
      "text/plain": [
       "99     1048562\n",
       "1            7\n",
       "999          3\n",
       "5            1\n",
       "4            1\n",
       "2            1\n",
       "Name: p3g4_2, dtype: int64"
      ]
     },
     "execution_count": 157,
     "metadata": {},
     "output_type": "execute_result"
    }
   ],
   "source": [
    "df_copy_20151['p3g4_2'] = df_copy_20151['p3g4_2'].astype('int64')\n",
    "df_copy_20151.p3g4_2.value_counts()"
   ]
  },
  {
   "cell_type": "markdown",
   "metadata": {},
   "source": [
    "## Opción 9: no sabe (p3g9)\n",
    "99 No sabe"
   ]
  },
  {
   "cell_type": "code",
   "execution_count": 158,
   "metadata": {},
   "outputs": [],
   "source": [
    "df_copy_20151['p3g9'].replace(to_replace=[' ', '99'],value='99',inplace=True)"
   ]
  },
  {
   "cell_type": "code",
   "execution_count": 159,
   "metadata": {},
   "outputs": [],
   "source": [
    "df_copy_20151['p3g9'].replace(to_replace=['9', '99'],value='99',inplace=True)"
   ]
  },
  {
   "cell_type": "code",
   "execution_count": 160,
   "metadata": {},
   "outputs": [
    {
     "data": {
      "text/plain": [
       "99    1048575\n",
       "Name: p3g9, dtype: int64"
      ]
     },
     "execution_count": 160,
     "metadata": {},
     "output_type": "execute_result"
    }
   ],
   "source": [
    "df_copy_20151['p3g9'] = df_copy_20151['p3g9'].astype('int64')\n",
    "df_copy_20151.p3g9.value_counts()"
   ]
  },
  {
   "cell_type": "markdown",
   "metadata": {},
   "source": [
    "## Sumatoria de número de trabajadores (p3g_tot)\n",
    "1-998 Sumatoria de número de trabajadores\n",
    "999  No sabe \n"
   ]
  },
  {
   "cell_type": "code",
   "execution_count": 161,
   "metadata": {
    "scrolled": false
   },
   "outputs": [
    {
     "data": {
      "text/plain": [
       "99     999290\n",
       "1       27831\n",
       "2       10445\n",
       "3        4454\n",
       "4        2106\n",
       "5        1235\n",
       "6         769\n",
       "10        380\n",
       "7         360\n",
       "8         335\n",
       "999       193\n",
       "15        141\n",
       "9         141\n",
       "20        111\n",
       "11        107\n",
       "12        101\n",
       "16         58\n",
       "13         38\n",
       "14         36\n",
       "30         34\n",
       "17         28\n",
       "18         28\n",
       "25         28\n",
       "50         23\n",
       "22         21\n",
       "40         18\n",
       "19         17\n",
       "23         14\n",
       "26         13\n",
       "21         11\n",
       "        ...  \n",
       "257         1\n",
       "59          1\n",
       "264         1\n",
       "165         1\n",
       "302         1\n",
       "303         1\n",
       "350         1\n",
       "354         1\n",
       "400         1\n",
       "63          1\n",
       "175         1\n",
       "130         1\n",
       "160         1\n",
       "150         1\n",
       "71          1\n",
       "39          1\n",
       "38          1\n",
       "74          1\n",
       "47          1\n",
       "48          1\n",
       "49          1\n",
       "66          1\n",
       "92          1\n",
       "64          1\n",
       "500         1\n",
       "55          1\n",
       "119         1\n",
       "120         1\n",
       "69          1\n",
       "504         1\n",
       "Name: p3g_tot, Length: 108, dtype: int64"
      ]
     },
     "execution_count": 161,
     "metadata": {},
     "output_type": "execute_result"
    }
   ],
   "source": [
    "df_copy_20151['p3g_tot'] = df_copy_20151['p3g_tot'].astype('int64')\n",
    "df_copy_20151.p3g_tot.value_counts()"
   ]
  },
  {
   "cell_type": "markdown",
   "metadata": {},
   "source": [
    "## ¿En este trabajo ...  (p3h)\n",
    "1 recibe un pago?\n",
    "2 es un trabajador no  familiar sin pago?\n",
    "3 es un trabajador familiar  sin pago?\n",
    "99 No sabe"
   ]
  },
  {
   "cell_type": "code",
   "execution_count": 162,
   "metadata": {},
   "outputs": [],
   "source": [
    "df_copy_20151['p3h'].replace(to_replace=[' ', '99'],value='99',inplace=True)"
   ]
  },
  {
   "cell_type": "code",
   "execution_count": 163,
   "metadata": {},
   "outputs": [
    {
     "data": {
      "text/plain": [
       "99    617001\n",
       "1     404055\n",
       "3      25673\n",
       "2       1846\n",
       "Name: p3h, dtype: int64"
      ]
     },
     "execution_count": 163,
     "metadata": {},
     "output_type": "execute_result"
    }
   ],
   "source": [
    "df_copy_20151['p3h'] = df_copy_20151['p3h'].astype('int64')\n",
    "df_copy_20151.p3h.value_counts()"
   ]
  },
  {
   "cell_type": "markdown",
   "metadata": {},
   "source": [
    "## ¿En su empleo... Pertenece a algún sindicato? (p3i)\n",
    "\n",
    "1 Si\n",
    "2 No \n",
    "99 No sabe\n",
    "\n"
   ]
  },
  {
   "cell_type": "code",
   "execution_count": 164,
   "metadata": {},
   "outputs": [],
   "source": [
    "df_copy_20151['p3i'].replace(to_replace=['9', '99'],value='99',inplace=True)"
   ]
  },
  {
   "cell_type": "code",
   "execution_count": 165,
   "metadata": {},
   "outputs": [],
   "source": [
    "df_copy_20151['p3i'].replace(to_replace=[' ', '99'],value='99',inplace=True)"
   ]
  },
  {
   "cell_type": "code",
   "execution_count": 166,
   "metadata": {},
   "outputs": [
    {
     "data": {
      "text/plain": [
       "99    649754\n",
       "2     215066\n",
       "1     183755\n",
       "Name: p3i, dtype: int64"
      ]
     },
     "execution_count": 166,
     "metadata": {},
     "output_type": "execute_result"
    }
   ],
   "source": [
    "df_copy_20151['p3i'] = df_copy_20151['p3i'].astype('int64')\n",
    "df_copy_20151.p3i.value_counts()"
   ]
  },
  {
   "cell_type": "markdown",
   "metadata": {},
   "source": [
    "##  ¿En su empleo... cuenta con un contrato por escrito?(p3j) \n",
    "1 Si\n",
    "2 No\n",
    "99 No sabe\n"
   ]
  },
  {
   "cell_type": "code",
   "execution_count": 167,
   "metadata": {},
   "outputs": [],
   "source": [
    "df_copy_20151['p3j'].replace(to_replace=[' ', '99'],value='99',inplace=True)"
   ]
  },
  {
   "cell_type": "code",
   "execution_count": 168,
   "metadata": {},
   "outputs": [],
   "source": [
    "df_copy_20151['p3j'].replace(to_replace=['9', '99'],value='99',inplace=True)"
   ]
  },
  {
   "cell_type": "code",
   "execution_count": 169,
   "metadata": {},
   "outputs": [
    {
     "data": {
      "text/plain": [
       "99    930298\n",
       "1      66886\n",
       "2      51391\n",
       "Name: p3j, dtype: int64"
      ]
     },
     "execution_count": 169,
     "metadata": {},
     "output_type": "execute_result"
    }
   ],
   "source": [
    "df_copy_20151['p3j'] = df_copy_20151['p3j'].astype('int64')\n",
    "df_copy_20151.p3j.value_counts()"
   ]
  },
  {
   "cell_type": "markdown",
   "metadata": {},
   "source": [
    "## ¿El contrato de .... es ?(p3k1)\n",
    "1 temporal o por obra determinada?\n",
    "2 de base, planta o por tienpo indefinido ?\n",
    "99 No sabe"
   ]
  },
  {
   "cell_type": "code",
   "execution_count": 170,
   "metadata": {},
   "outputs": [],
   "source": [
    "df_copy_20151['p3k1'].replace(to_replace=[' ', '99'],value='99',inplace=True)"
   ]
  },
  {
   "cell_type": "code",
   "execution_count": 171,
   "metadata": {},
   "outputs": [],
   "source": [
    "df_copy_20151['p3k1'].replace(to_replace=['9', '99'],value='99',inplace=True)"
   ]
  },
  {
   "cell_type": "code",
   "execution_count": 172,
   "metadata": {},
   "outputs": [
    {
     "data": {
      "text/plain": [
       "99    982138\n",
       "2      54243\n",
       "1      12194\n",
       "Name: p3k1, dtype: int64"
      ]
     },
     "execution_count": 172,
     "metadata": {},
     "output_type": "execute_result"
    }
   ],
   "source": [
    "df_copy_20151['p3k1'] = df_copy_20151['p3k1'].astype('int64')\n",
    "df_copy_20151.p3k1.value_counts()"
   ]
  },
  {
   "cell_type": "markdown",
   "metadata": {},
   "source": [
    "## Desglose de contrato temporal(p3k2)\n",
    "\n",
    "1 menos de dos meses de dos a seis meses\n",
    "3 más de seis meses hasta  un año\n",
    "4 hasta el término de la obra\n",
    "99 No sabe"
   ]
  },
  {
   "cell_type": "code",
   "execution_count": 173,
   "metadata": {},
   "outputs": [],
   "source": [
    "df_copy_20151['p3k2'].replace(to_replace=[' ', '99'],value='99',inplace=True)"
   ]
  },
  {
   "cell_type": "code",
   "execution_count": 174,
   "metadata": {},
   "outputs": [
    {
     "data": {
      "text/plain": [
       "99    1036381\n",
       "2        4968\n",
       "3        3426\n",
       "4        2153\n",
       "1        1647\n",
       "Name: p3k2, dtype: int64"
      ]
     },
     "execution_count": 174,
     "metadata": {},
     "output_type": "execute_result"
    }
   ],
   "source": [
    "df_copy_20151['p3k2'] = df_copy_20151['p3k2'].astype('int64')\n",
    "df_copy_20151.p3k2.value_counts()"
   ]
  },
  {
   "cell_type": "markdown",
   "metadata": {},
   "source": [
    " # Pregunta 3L: En este trabajo, ¿a ... le dan"
   ]
  },
  {
   "cell_type": "markdown",
   "metadata": {},
   "source": [
    "## Opción 1: aguinaldo ? (p3l1)\n",
    "1 Aguinaldo?\n",
    "99 No sabe"
   ]
  },
  {
   "cell_type": "code",
   "execution_count": 175,
   "metadata": {},
   "outputs": [],
   "source": [
    "df_copy_20151['p3l1'].replace(to_replace=[' ', '99'],value='99',inplace=True)"
   ]
  },
  {
   "cell_type": "code",
   "execution_count": 176,
   "metadata": {},
   "outputs": [
    {
     "data": {
      "text/plain": [
       "99    970716\n",
       "1      77859\n",
       "Name: p3l1, dtype: int64"
      ]
     },
     "execution_count": 176,
     "metadata": {},
     "output_type": "execute_result"
    }
   ],
   "source": [
    "df_copy_20151['p3l1'] = df_copy_20151['p3l1'].astype('int64')\n",
    "df_copy_20151.p3l1.value_counts()"
   ]
  },
  {
   "cell_type": "markdown",
   "metadata": {},
   "source": [
    "## Opción 2: vacaciones con goce de sueldo ? (p3l2)\n",
    "2 vacaciones con goce de sueldo?\n",
    "99 No sabe"
   ]
  },
  {
   "cell_type": "code",
   "execution_count": 177,
   "metadata": {},
   "outputs": [],
   "source": [
    "df_copy_20151['p3l2'].replace(to_replace=[' ', '99'],value='99',inplace=True)"
   ]
  },
  {
   "cell_type": "code",
   "execution_count": 178,
   "metadata": {},
   "outputs": [
    {
     "data": {
      "text/plain": [
       "99    980989\n",
       "2      67586\n",
       "Name: p3l2, dtype: int64"
      ]
     },
     "execution_count": 178,
     "metadata": {},
     "output_type": "execute_result"
    }
   ],
   "source": [
    "df_copy_20151['p3l2'] = df_copy_20151['p3l2'].astype('int64')\n",
    "df_copy_20151.p3l2.value_counts()"
   ]
  },
  {
   "cell_type": "markdown",
   "metadata": {},
   "source": [
    "## Opción 3: reparto de utilidades?(p3l3)\n",
    "3 reparto de utilidades?\n",
    "99 no sabe"
   ]
  },
  {
   "cell_type": "code",
   "execution_count": 179,
   "metadata": {},
   "outputs": [],
   "source": [
    "df_copy_20151['p3l3'].replace(to_replace=[' ', '99'],value='99',inplace=True)"
   ]
  },
  {
   "cell_type": "code",
   "execution_count": 180,
   "metadata": {},
   "outputs": [
    {
     "data": {
      "text/plain": [
       "99    1027046\n",
       "3       21529\n",
       "Name: p3l3, dtype: int64"
      ]
     },
     "execution_count": 180,
     "metadata": {},
     "output_type": "execute_result"
    }
   ],
   "source": [
    "df_copy_20151['p3l3'] = df_copy_20151['p3l3'].astype('int64')\n",
    "df_copy_20151.p3l3.value_counts()"
   ]
  },
  {
   "cell_type": "markdown",
   "metadata": {},
   "source": [
    "## Opción 4: ninguna de las anteriores (p3l4)\n",
    "4 Ninguna de las anteriores\n",
    "99 No sabe"
   ]
  },
  {
   "cell_type": "code",
   "execution_count": 181,
   "metadata": {},
   "outputs": [],
   "source": [
    "df_copy_20151['p3l4'].replace(to_replace=[' ', '99'],value='99',inplace=True)"
   ]
  },
  {
   "cell_type": "code",
   "execution_count": 182,
   "metadata": {},
   "outputs": [
    {
     "data": {
      "text/plain": [
       "99    1046738\n",
       "4        1837\n",
       "Name: p3l4, dtype: int64"
      ]
     },
     "execution_count": 182,
     "metadata": {},
     "output_type": "execute_result"
    }
   ],
   "source": [
    "df_copy_20151['p3l4'] = df_copy_20151['p3l4'].astype('int64')\n",
    "df_copy_20151.p3l4.value_counts()"
   ]
  },
  {
   "cell_type": "markdown",
   "metadata": {},
   "source": [
    "## Opción 5: no le dan nada (p3l5)\n",
    "5 No le dad nada\n",
    "99 No sabe"
   ]
  },
  {
   "cell_type": "code",
   "execution_count": 183,
   "metadata": {},
   "outputs": [],
   "source": [
    "df_copy_20151['p3l5'].replace(to_replace=[' ', '99'],value='99',inplace=True)"
   ]
  },
  {
   "cell_type": "code",
   "execution_count": 184,
   "metadata": {},
   "outputs": [
    {
     "data": {
      "text/plain": [
       "99    1009931\n",
       "5       38644\n",
       "Name: p3l5, dtype: int64"
      ]
     },
     "execution_count": 184,
     "metadata": {},
     "output_type": "execute_result"
    }
   ],
   "source": [
    "df_copy_20151['p3l5'] = df_copy_20151['p3l5'].astype('int64')\n",
    "df_copy_20151.p3l5.value_counts()"
   ]
  },
  {
   "cell_type": "markdown",
   "metadata": {},
   "source": [
    "## Opción 9: nos sabe(p3l9)\n",
    "99 No sabe"
   ]
  },
  {
   "cell_type": "code",
   "execution_count": 185,
   "metadata": {},
   "outputs": [],
   "source": [
    "df_copy_20151['p3l9'].replace(to_replace=[' ', '99'],value='99',inplace=True)"
   ]
  },
  {
   "cell_type": "code",
   "execution_count": 186,
   "metadata": {},
   "outputs": [],
   "source": [
    "df_copy_20151['p3l9'].replace(to_replace=['9', '99'],value='99',inplace=True)"
   ]
  },
  {
   "cell_type": "code",
   "execution_count": 187,
   "metadata": {},
   "outputs": [
    {
     "data": {
      "text/plain": [
       "99    1048575\n",
       "Name: p3l9, dtype: int64"
      ]
     },
     "execution_count": 187,
     "metadata": {},
     "output_type": "execute_result"
    }
   ],
   "source": [
    "df_copy_20151['p3l9'] = df_copy_20151['p3l9'].astype('int64')\n",
    "df_copy_20151.p3l9.value_counts()"
   ]
  },
  {
   "cell_type": "markdown",
   "metadata": {},
   "source": [
    "# Pregunta 3M: En este trabajo, a…le dan, aunque no utilice,"
   ]
  },
  {
   "cell_type": "markdown",
   "metadata": {},
   "source": [
    "## Opción 1: crédito para vivienda (infonavit, fovissste)(p3m1)\n",
    "1 crédito para vivienda (Infonavit,Fovissste)?\n",
    "99 No sabe"
   ]
  },
  {
   "cell_type": "code",
   "execution_count": 188,
   "metadata": {},
   "outputs": [],
   "source": [
    "df_copy_20151['p3m1'].replace(to_replace=[' ', '99'],value='99',inplace=True)"
   ]
  },
  {
   "cell_type": "code",
   "execution_count": 189,
   "metadata": {},
   "outputs": [
    {
     "data": {
      "text/plain": [
       "99    989623\n",
       "1      58952\n",
       "Name: p3m1, dtype: int64"
      ]
     },
     "execution_count": 189,
     "metadata": {},
     "output_type": "execute_result"
    }
   ],
   "source": [
    "df_copy_20151['p3m1'] = df_copy_20151['p3m1'].astype('int64')\n",
    "df_copy_20151.p3m1.value_counts()"
   ]
  },
  {
   "cell_type": "markdown",
   "metadata": {},
   "source": [
    "## Opción 2: guardería? (p3m2)\n",
    "2 guardería?\n",
    "99 No sabe"
   ]
  },
  {
   "cell_type": "code",
   "execution_count": 190,
   "metadata": {},
   "outputs": [],
   "source": [
    "df_copy_20151['p3m2'].replace(to_replace=[' ', '99'],value='99',inplace=True)"
   ]
  },
  {
   "cell_type": "code",
   "execution_count": 191,
   "metadata": {},
   "outputs": [
    {
     "data": {
      "text/plain": [
       "99    1032072\n",
       "2       16503\n",
       "Name: p3m2, dtype: int64"
      ]
     },
     "execution_count": 191,
     "metadata": {},
     "output_type": "execute_result"
    }
   ],
   "source": [
    "df_copy_20151['p3m2'] = df_copy_20151['p3m2'].astype('int64')\n",
    "df_copy_20151.p3m2.value_counts()"
   ]
  },
  {
   "cell_type": "markdown",
   "metadata": {},
   "source": [
    "## tiempo para cuidados maternos o paternos ?(p3m3)\n",
    "3 tiempo para cuidados maternos o paternos?\n",
    "99 No se sabe"
   ]
  },
  {
   "cell_type": "code",
   "execution_count": 192,
   "metadata": {},
   "outputs": [],
   "source": [
    "df_copy_20151['p3m3'].replace(to_replace=[' ', '99'],value='99',inplace=True)"
   ]
  },
  {
   "cell_type": "code",
   "execution_count": 193,
   "metadata": {},
   "outputs": [
    {
     "data": {
      "text/plain": [
       "99    1032950\n",
       "3       15625\n",
       "Name: p3m3, dtype: int64"
      ]
     },
     "execution_count": 193,
     "metadata": {},
     "output_type": "execute_result"
    }
   ],
   "source": [
    "df_copy_20151['p3m3'] = df_copy_20151['p3m3'].astype('int64')\n",
    "df_copy_20151.p3m3.value_counts()"
   ]
  },
  {
   "cell_type": "markdown",
   "metadata": {},
   "source": [
    "## Opción 4: fondo de retiro (SAR o Afore)(p3m4)\n",
    "4 fondo de retiro (SAR o Afore)?\n",
    "99 No sabe"
   ]
  },
  {
   "cell_type": "code",
   "execution_count": 194,
   "metadata": {},
   "outputs": [],
   "source": [
    "df_copy_20151['p3m4'].replace(to_replace=[' ', '99'],value='99',inplace=True)"
   ]
  },
  {
   "cell_type": "code",
   "execution_count": 195,
   "metadata": {},
   "outputs": [
    {
     "data": {
      "text/plain": [
       "99    988802\n",
       "4      59773\n",
       "Name: p3m4, dtype: int64"
      ]
     },
     "execution_count": 195,
     "metadata": {},
     "output_type": "execute_result"
    }
   ],
   "source": [
    "df_copy_20151['p3m4'] = df_copy_20151['p3m4'].astype('int64')\n",
    "df_copy_20151.p3m4.value_counts()"
   ]
  },
  {
   "cell_type": "markdown",
   "metadata": {},
   "source": [
    "## Opción 5: seguro de vida? (p3m5)\n",
    "5 seguro de vida?\n",
    "99 No sabe"
   ]
  },
  {
   "cell_type": "code",
   "execution_count": 196,
   "metadata": {},
   "outputs": [],
   "source": [
    "df_copy_20151['p3m5'].replace(to_replace=[' ', '99'],value='99',inplace=True)"
   ]
  },
  {
   "cell_type": "code",
   "execution_count": 197,
   "metadata": {},
   "outputs": [
    {
     "data": {
      "text/plain": [
       "99    1023135\n",
       "5       25440\n",
       "Name: p3m5, dtype: int64"
      ]
     },
     "execution_count": 197,
     "metadata": {},
     "output_type": "execute_result"
    }
   ],
   "source": [
    "df_copy_20151['p3m5'] = df_copy_20151['p3m5'].astype('int64')\n",
    "df_copy_20151.p3m5.value_counts()"
   ]
  },
  {
   "cell_type": "markdown",
   "metadata": {},
   "source": [
    "## Opción 6: seguro privado para gastos médicos ?(p3m6)\n",
    "6 seguro privado para gastos médicos?\n",
    "99 No sabe"
   ]
  },
  {
   "cell_type": "code",
   "execution_count": 198,
   "metadata": {},
   "outputs": [],
   "source": [
    "df_copy_20151['p3m6'].replace(to_replace=[' ', '99'],value='99',inplace=True)"
   ]
  },
  {
   "cell_type": "code",
   "execution_count": 199,
   "metadata": {},
   "outputs": [
    {
     "data": {
      "text/plain": [
       "99    1044023\n",
       "6        4552\n",
       "Name: p3m6, dtype: int64"
      ]
     },
     "execution_count": 199,
     "metadata": {},
     "output_type": "execute_result"
    }
   ],
   "source": [
    "df_copy_20151['p3m6'] = df_copy_20151['p3m6'].astype('int64')\n",
    "df_copy_20151.p3m6.value_counts()"
   ]
  },
  {
   "cell_type": "markdown",
   "metadata": {},
   "source": [
    "## Opción 7: préstamos personales y/o caja de ahorro? (p3m7)\n",
    "7 préstamos personales y/o caja de ahorro?\n",
    "99 No sabe"
   ]
  },
  {
   "cell_type": "code",
   "execution_count": 200,
   "metadata": {},
   "outputs": [],
   "source": [
    "df_copy_20151['p3m7'].replace(to_replace=[' ', '99'],value='99',inplace=True)"
   ]
  },
  {
   "cell_type": "code",
   "execution_count": 201,
   "metadata": {},
   "outputs": [
    {
     "data": {
      "text/plain": [
       "99    1015170\n",
       "7       33405\n",
       "Name: p3m7, dtype: int64"
      ]
     },
     "execution_count": 201,
     "metadata": {},
     "output_type": "execute_result"
    }
   ],
   "source": [
    "df_copy_20151['p3m7'] = df_copy_20151['p3m7'].astype('int64')\n",
    "df_copy_20151.p3m7.value_counts()"
   ]
  },
  {
   "cell_type": "markdown",
   "metadata": {},
   "source": [
    "## Opción 8: ninguna de las anteriores (p3m8)\n",
    "8 Ninguna de las anteriores\n",
    "99 No sabe"
   ]
  },
  {
   "cell_type": "code",
   "execution_count": 202,
   "metadata": {},
   "outputs": [],
   "source": [
    "df_copy_20151['p3m8'].replace(to_replace=[' ', '99'],value='99',inplace=True)"
   ]
  },
  {
   "cell_type": "code",
   "execution_count": 203,
   "metadata": {},
   "outputs": [
    {
     "data": {
      "text/plain": [
       "99    1034608\n",
       "8       13967\n",
       "Name: p3m8, dtype: int64"
      ]
     },
     "execution_count": 203,
     "metadata": {},
     "output_type": "execute_result"
    }
   ],
   "source": [
    "df_copy_20151['p3m8'] = df_copy_20151['p3m8'].astype('int64')\n",
    "df_copy_20151.p3m8.value_counts()"
   ]
  },
  {
   "cell_type": "markdown",
   "metadata": {},
   "source": [
    "## Opción 9: no sabe(p3m9)\n",
    "99 No sabe"
   ]
  },
  {
   "cell_type": "code",
   "execution_count": 204,
   "metadata": {},
   "outputs": [],
   "source": [
    "df_copy_20151['p3m9'].replace(to_replace=[' ', '99'],value='99',inplace=True)"
   ]
  },
  {
   "cell_type": "code",
   "execution_count": 205,
   "metadata": {},
   "outputs": [],
   "source": [
    "df_copy_20151['p3m9'].replace(to_replace=['9', '99'],value='99',inplace=True)"
   ]
  },
  {
   "cell_type": "code",
   "execution_count": 206,
   "metadata": {},
   "outputs": [
    {
     "data": {
      "text/plain": [
       "99    1048575\n",
       "Name: p3m9, dtype: int64"
      ]
     },
     "execution_count": 206,
     "metadata": {},
     "output_type": "execute_result"
    }
   ],
   "source": [
    "df_copy_20151['p3m9'] = df_copy_20151['p3m9'].astype('int64')\n",
    "df_copy_20151.p3m9.value_counts()"
   ]
  },
  {
   "cell_type": "markdown",
   "metadata": {},
   "source": [
    "## ¿Cómo se enteró... de este empleo ? (p3n)\n",
    "1 Acudió directamente al lugar de trabajo(fábrica, tienda,taller)\n",
    "2 Acudió a una agencia o bolsa de trabajo privada\n",
    "3 Acudió a un servicio público de colocación\n",
    "4 Por medio de un programa de empleo temporal del gobierno (federal, estatal y/o municipal)\n",
    "5 Acudió a un sindicato o gremio\n",
    "6 Por internet\n",
    "7 Por medio de un anuncio en un lugar público o en  medios de comunicación (periódico, radio)\n",
    "8 Por medio de un familiar, amigo o conocido\n",
    "9 Le ofrecieron el empleo\n",
    "10 Otro medio\n",
    "99 No sabe\n"
   ]
  },
  {
   "cell_type": "code",
   "execution_count": 207,
   "metadata": {},
   "outputs": [
    {
     "data": {
      "text/plain": [
       "99    931141\n",
       "8      64458\n",
       "1      24199\n",
       "9      12861\n",
       "7      10636\n",
       "6       2290\n",
       "5       1409\n",
       "10       808\n",
       "2        334\n",
       "3        237\n",
       "4        202\n",
       "Name: p3n, dtype: int64"
      ]
     },
     "execution_count": 207,
     "metadata": {},
     "output_type": "execute_result"
    }
   ],
   "source": [
    "df_copy_20151['p3n'] = df_copy_20151['p3n'].astype('int64')\n",
    "df_copy_20151.p3n.value_counts()"
   ]
  },
  {
   "cell_type": "markdown",
   "metadata": {},
   "source": [
    "## Para conseguir o conservar este trabajo, ¿... se vio obligado a cambiar de ciudad o localidad? (p3o)\n",
    "1 Sí\n",
    "2 No\n",
    "99 No sabe"
   ]
  },
  {
   "cell_type": "code",
   "execution_count": 208,
   "metadata": {},
   "outputs": [],
   "source": [
    "df_copy_20151['p3o'].replace(to_replace=[' ', '99'],value='99',inplace=True)"
   ]
  },
  {
   "cell_type": "code",
   "execution_count": 209,
   "metadata": {},
   "outputs": [
    {
     "data": {
      "text/plain": [
       "99    928867\n",
       "2     116845\n",
       "1       2863\n",
       "Name: p3o, dtype: int64"
      ]
     },
     "execution_count": 209,
     "metadata": {},
     "output_type": "execute_result"
    }
   ],
   "source": [
    "df_copy_20151['p3o'] = df_copy_20151['p3o'].astype('int64')\n",
    "df_copy_20151.p3o.value_counts()"
   ]
  },
  {
   "cell_type": "markdown",
   "metadata": {},
   "source": [
    "## Antes de este cambio, ¿en qué estado de la República o país vivía...?(p3p1)\n",
    "1 En el mismo estado\n",
    "2 En otro estado\n",
    "3 En otro país\n",
    "99 No sabe"
   ]
  },
  {
   "cell_type": "code",
   "execution_count": 210,
   "metadata": {},
   "outputs": [],
   "source": [
    "df_copy_20151['p3p1'].replace(to_replace=['9', '99'],value='99',inplace=True)"
   ]
  },
  {
   "cell_type": "code",
   "execution_count": 211,
   "metadata": {},
   "outputs": [],
   "source": [
    "df_copy_20151['p3p1'].replace(to_replace=[' ', '99'],value='99',inplace=True)"
   ]
  },
  {
   "cell_type": "code",
   "execution_count": 212,
   "metadata": {},
   "outputs": [
    {
     "data": {
      "text/plain": [
       "99    1045717\n",
       "2        1529\n",
       "1        1257\n",
       "3          72\n",
       "Name: p3p1, dtype: int64"
      ]
     },
     "execution_count": 212,
     "metadata": {},
     "output_type": "execute_result"
    }
   ],
   "source": [
    "df_copy_20151['p3p1'] = df_copy_20151['p3p1'].astype('int64')\n",
    "df_copy_20151.p3p1.value_counts()"
   ]
  },
  {
   "cell_type": "markdown",
   "metadata": {},
   "source": [
    "## * Clave asignada a la descripción del lugar de residencia (p3p2)"
   ]
  },
  {
   "cell_type": "code",
   "execution_count": 213,
   "metadata": {
    "scrolled": true
   },
   "outputs": [
    {
     "data": {
      "text/plain": [
       "99     1045712\n",
       "30         212\n",
       "20         164\n",
       "9          157\n",
       "12         145\n",
       "25         132\n",
       "7          121\n",
       "26         119\n",
       "23         115\n",
       "14         112\n",
       "3          108\n",
       "32         104\n",
       "28         101\n",
       "21          98\n",
       "15          90\n",
       "18          89\n",
       "16          89\n",
       "10          86\n",
       "31          78\n",
       "5           77\n",
       "27          74\n",
       "24          73\n",
       "4           68\n",
       "13          60\n",
       "19          55\n",
       "11          53\n",
       "8           43\n",
       "6           36\n",
       "221         34\n",
       "22          33\n",
       "2           32\n",
       "29          27\n",
       "1           18\n",
       "17          17\n",
       "200         16\n",
       "300         10\n",
       "400          5\n",
       "33           4\n",
       "225          4\n",
       "415          3\n",
       "600          1\n",
       "Name: p3p2, dtype: int64"
      ]
     },
     "execution_count": 213,
     "metadata": {},
     "output_type": "execute_result"
    }
   ],
   "source": [
    "df_copy_20151['p3p2'] = df_copy_20151['p3p2'].astype('int64')\n",
    "df_copy_20151.p3p2.value_counts()"
   ]
  },
  {
   "cell_type": "markdown",
   "metadata": {},
   "source": [
    "## ¿Aprosimadamente, cuantas personas, incluyendo al dueño, laboran donde trabaja...?(p3q)\n",
    "1  1 persona\n",
    "2  2 a 5 personas\n",
    "3  6 a 10 personas\n",
    "4  11 a 15 personas\n",
    "5 16 a 20 personas\n",
    "6 21 a 30 personas\n",
    "7 31 a 50 personas\n",
    "8 51 a 100 personas\n",
    "9 101 a 250 personas\n",
    "0 251 a 500 personas\n",
    "11 501 y más personas\n",
    "99 No sabe"
   ]
  },
  {
   "cell_type": "code",
   "execution_count": 214,
   "metadata": {
    "scrolled": false
   },
   "outputs": [
    {
     "data": {
      "text/plain": [
       "99    928828\n",
       "2      38251\n",
       "11     20366\n",
       "3      11574\n",
       "8       8500\n",
       "9       7093\n",
       "7       6702\n",
       "5       5968\n",
       "4       5801\n",
       "6       5605\n",
       "1       5229\n",
       "10      4658\n",
       "Name: p3q, dtype: int64"
      ]
     },
     "execution_count": 214,
     "metadata": {},
     "output_type": "execute_result"
    }
   ],
   "source": [
    "df_copy_20151['p3q'] = df_copy_20151['p3q'].astype('int')\n",
    "df_copy_20151.p3q.value_counts()"
   ]
  },
  {
   "cell_type": "markdown",
   "metadata": {},
   "source": [
    "## * ¿En que año... entro a trabajar por primera para su actual empresa, institución o patrón (subordinados) comenzó o se hizo cargo de su actual  negocio (o  actividad) [independientes]  (p3r_anio)\n",
    "\n",
    "1900-año actual Año en pregunta 3r\n",
    "9999 No sabe"
   ]
  },
  {
   "cell_type": "code",
   "execution_count": 215,
   "metadata": {},
   "outputs": [],
   "source": [
    "df_copy_20151['p3r_anio'].replace(to_replace=['0','9999'],value='9999',inplace=True)"
   ]
  },
  {
   "cell_type": "code",
   "execution_count": 216,
   "metadata": {
    "scrolled": false
   },
   "outputs": [
    {
     "data": {
      "text/plain": [
       "99      879333\n",
       "2014     29553\n",
       "2013     17272\n",
       "2012     14728\n",
       "2010     11383\n",
       "2015     10991\n",
       "2011     10083\n",
       "2009      7151\n",
       "2000      6696\n",
       "2005      5930\n",
       "2008      5427\n",
       "2007      4650\n",
       "2004      4649\n",
       "2006      3681\n",
       "1995      3550\n",
       "1990      2806\n",
       "1994      2713\n",
       "2002      2453\n",
       "1999      2281\n",
       "2003      2093\n",
       "1998      1770\n",
       "1985      1749\n",
       "2001      1619\n",
       "1997      1327\n",
       "1996      1193\n",
       "1984      1125\n",
       "1980      1093\n",
       "1989      1075\n",
       "1992       986\n",
       "1993       893\n",
       "         ...  \n",
       "1971        97\n",
       "1968        93\n",
       "1967        81\n",
       "1966        67\n",
       "1962        56\n",
       "1955        54\n",
       "1950        53\n",
       "1963        48\n",
       "1954        44\n",
       "1959        35\n",
       "1958        31\n",
       "1961        24\n",
       "1956        22\n",
       "1957        21\n",
       "1953        19\n",
       "1952        17\n",
       "1951        10\n",
       "1945        10\n",
       "1949         8\n",
       "1948         6\n",
       "1947         6\n",
       "1946         6\n",
       "1944         5\n",
       "1940         5\n",
       "1941         4\n",
       "1942         3\n",
       "1943         2\n",
       "1938         2\n",
       "1935         1\n",
       "1932         1\n",
       "Name: p3r_anio, Length: 81, dtype: int64"
      ]
     },
     "execution_count": 216,
     "metadata": {},
     "output_type": "execute_result"
    }
   ],
   "source": [
    "df_copy_20151['p3r_anio'] = df_copy_20151['p3r_anio'].astype('int64')\n",
    "df_copy_20151.p3r_anio.value_counts()"
   ]
  },
  {
   "cell_type": "markdown",
   "metadata": {},
   "source": [
    "## mes (p3r_mes)\n",
    "1 Enero\n",
    "2 Febrero\n",
    "3 Marzo\n",
    "4 Abril\n",
    "5 Mayo\n",
    "6 Junio\n",
    "7 Julio\n",
    "8 Agosto\n",
    "9 Septiembre\n",
    "10 Octubre\n",
    "11 Noviembre\n",
    "12 Diciembre\n",
    "99 No sabe mes que inició\n",
    " trabajo"
   ]
  },
  {
   "cell_type": "code",
   "execution_count": 217,
   "metadata": {},
   "outputs": [],
   "source": [
    "df_copy_20151['p3r_mes'].replace(to_replace=['0', '99'],value='99',inplace=True)"
   ]
  },
  {
   "cell_type": "code",
   "execution_count": 218,
   "metadata": {},
   "outputs": [
    {
     "data": {
      "text/plain": [
       "99    1008429\n",
       "1       10071\n",
       "2        5486\n",
       "11       3358\n",
       "12       3346\n",
       "8        3044\n",
       "10       2932\n",
       "9        2798\n",
       "3        2665\n",
       "6        2351\n",
       "7        1905\n",
       "5        1164\n",
       "4        1026\n",
       "Name: p3r_mes, dtype: int64"
      ]
     },
     "execution_count": 218,
     "metadata": {},
     "output_type": "execute_result"
    }
   ],
   "source": [
    "df_copy_20151['p3r_mes'] = df_copy_20151['p3r_mes'].astype('int64')\n",
    "df_copy_20151.p3r_mes.value_counts()"
   ]
  },
  {
   "cell_type": "markdown",
   "metadata": {},
   "source": [
    "## Año(p3r)\n",
    "1 El año en curso\n",
    "2 El año pasado\n",
    "3 Antes del año pasado\n",
    "99 No sabe"
   ]
  },
  {
   "cell_type": "code",
   "execution_count": 219,
   "metadata": {},
   "outputs": [],
   "source": [
    "df_copy_20151['p3r'].replace(to_replace=[' ', '99'],value='99',inplace=True)"
   ]
  },
  {
   "cell_type": "code",
   "execution_count": 220,
   "metadata": {},
   "outputs": [],
   "source": [
    "df_copy_20151['p3r'].replace(to_replace=['9', '99'],value='99',inplace=True)"
   ]
  },
  {
   "cell_type": "code",
   "execution_count": 221,
   "metadata": {},
   "outputs": [
    {
     "data": {
      "text/plain": [
       "99    879977\n",
       "3     128054\n",
       "2      29553\n",
       "1      10991\n",
       "Name: p3r, dtype: int64"
      ]
     },
     "execution_count": 221,
     "metadata": {},
     "output_type": "execute_result"
    }
   ],
   "source": [
    "df_copy_20151['p3r'] = df_copy_20151['p3r'].astype('int64')\n",
    "df_copy_20151.p3r.value_counts()"
   ]
  },
  {
   "cell_type": "markdown",
   "metadata": {},
   "source": [
    "##  ¿Desde entonces... ha trabajado todos los años para su actual empresa,  institución o patrón  (subordinados) ha  trabajado en todos  estos años en su  actual negocio (o  actividad)  [Independientes] (p3s)\n",
    "1 Sí \n",
    "2 No\n",
    "99 No sabe"
   ]
  },
  {
   "cell_type": "code",
   "execution_count": 222,
   "metadata": {},
   "outputs": [],
   "source": [
    "df_copy_20151['p3s'].replace(to_replace=[' ', '99'],value='99',inplace=True)"
   ]
  },
  {
   "cell_type": "code",
   "execution_count": 223,
   "metadata": {},
   "outputs": [
    {
     "data": {
      "text/plain": [
       "99    920521\n",
       "1     126671\n",
       "2       1363\n",
       "9         20\n",
       "Name: p3s, dtype: int64"
      ]
     },
     "execution_count": 223,
     "metadata": {},
     "output_type": "execute_result"
    }
   ],
   "source": [
    "df_copy_20151['p3s'] = df_copy_20151['p3s'].astype('int64')\n",
    "df_copy_20151.p3s.value_counts()"
   ]
  },
  {
   "cell_type": "markdown",
   "metadata": {},
   "source": [
    "##  ¿En qué año … regresó a trabajar  (subordinados)  reinició su actual  negocio (o actividad) [independientes] (p3t_anio)\n",
    "1900-año actual Año en pregunta 3t\n",
    "9999 No sabe\n",
    " "
   ]
  },
  {
   "cell_type": "code",
   "execution_count": 224,
   "metadata": {},
   "outputs": [],
   "source": [
    "df_copy_20151['p3t_anio'].replace(to_replace=['0', '9999'],value='9999',inplace=True)"
   ]
  },
  {
   "cell_type": "code",
   "execution_count": 225,
   "metadata": {},
   "outputs": [
    {
     "data": {
      "text/plain": [
       "99      1047212\n",
       "2014        457\n",
       "2015        257\n",
       "2013        135\n",
       "2012         97\n",
       "2011         65\n",
       "2010         61\n",
       "2008         37\n",
       "2009         31\n",
       "2005         29\n",
       "2006         28\n",
       "2007         26\n",
       "2004         25\n",
       "2000         14\n",
       "2002         14\n",
       "9999         12\n",
       "1997         10\n",
       "1995          8\n",
       "2003          8\n",
       "2001          7\n",
       "1999          6\n",
       "1990          6\n",
       "1998          5\n",
       "1991          4\n",
       "1996          4\n",
       "1989          3\n",
       "1994          3\n",
       "1985          2\n",
       "1984          2\n",
       "1978          2\n",
       "1992          1\n",
       "1987          1\n",
       "1980          1\n",
       "1975          1\n",
       "1966          1\n",
       "Name: p3t_anio, dtype: int64"
      ]
     },
     "execution_count": 225,
     "metadata": {},
     "output_type": "execute_result"
    }
   ],
   "source": [
    "df_copy_20151['p3t_anio'] = df_copy_20151['p3t_anio'].astype('int64')\n",
    "df_copy_20151.p3t_anio.value_counts()"
   ]
  },
  {
   "cell_type": "markdown",
   "metadata": {},
   "source": [
    "## Mes (p3t_mes)\n",
    "1 Enero\n",
    "2 Febrero\n",
    "3 Marzo\n",
    "4 Abril\n",
    "5 Mayo\n",
    "6 Junio\n",
    "7 Julio\n",
    "8 Agosto\n",
    "9 Septiembre\n",
    "10 Octubre\n",
    "11 Noviembre\n",
    "12 Diciembre\n",
    "99 No sabe"
   ]
  },
  {
   "cell_type": "code",
   "execution_count": 226,
   "metadata": {},
   "outputs": [],
   "source": [
    "df_copy_20151['p3t_mes'].replace(to_replace=['0', '99'],value='99',inplace=True)"
   ]
  },
  {
   "cell_type": "code",
   "execution_count": 227,
   "metadata": {},
   "outputs": [
    {
     "data": {
      "text/plain": [
       "99    1047869\n",
       "1         200\n",
       "12         91\n",
       "2          79\n",
       "11         66\n",
       "3          48\n",
       "10         45\n",
       "9          41\n",
       "8          41\n",
       "6          38\n",
       "7          22\n",
       "4          21\n",
       "5          14\n",
       "Name: p3t_mes, dtype: int64"
      ]
     },
     "execution_count": 227,
     "metadata": {},
     "output_type": "execute_result"
    }
   ],
   "source": [
    "df_copy_20151['p3t_mes'] = df_copy_20151['p3t_mes'].astype('int64')\n",
    "df_copy_20151.p3t_mes.value_counts()"
   ]
  },
  {
   "cell_type": "markdown",
   "metadata": {},
   "source": [
    "## ¿Cuál es el nombre de la empresa, negocio o institución para la que ... trabaja o ayuda?(p4)\n",
    "1 Nombre de la empresa\n",
    "2 El negocio no tiene nombre\n",
    "3 El trabajador (subordinado) de una  unidad doméstica o trabajador de otro trabajador (a) trabajador(a)\n",
    "4 Es un(a) trabajador(a) en el extranjero\n",
    "99 No sabe"
   ]
  },
  {
   "cell_type": "code",
   "execution_count": 228,
   "metadata": {},
   "outputs": [],
   "source": [
    "df_copy_20151['p4'].replace(to_replace=[' ', '99'],value='99',inplace=True)"
   ]
  },
  {
   "cell_type": "code",
   "execution_count": 229,
   "metadata": {},
   "outputs": [],
   "source": [
    "df_copy_20151['p4'].replace(to_replace=['9', '99'],value='99',inplace=True)"
   ]
  },
  {
   "cell_type": "code",
   "execution_count": 230,
   "metadata": {},
   "outputs": [
    {
     "data": {
      "text/plain": [
       "99    879505\n",
       "1     105301\n",
       "2      54984\n",
       "3       8429\n",
       "4        356\n",
       "Name: p4, dtype: int64"
      ]
     },
     "execution_count": 230,
     "metadata": {},
     "output_type": "execute_result"
    }
   ],
   "source": [
    "df_copy_20151['p4'] = df_copy_20151['p4'].astype('int64')\n",
    "df_copy_20151.p4.value_counts()"
   ]
  },
  {
   "cell_type": "markdown",
   "metadata": {},
   "source": [
    "## *Campo exclusivo del sistema (p4_1)\n",
    "1-2, blanco Campo exlusivo del sistema\n"
   ]
  },
  {
   "cell_type": "code",
   "execution_count": 231,
   "metadata": {},
   "outputs": [],
   "source": [
    "df_copy_20151['p4_1'].replace(to_replace=[' ', '99'],value='99',inplace=True)"
   ]
  },
  {
   "cell_type": "code",
   "execution_count": 232,
   "metadata": {},
   "outputs": [],
   "source": [
    "df_copy_20151['p4_1'].replace(to_replace=['9', '99'],value='99',inplace=True)"
   ]
  },
  {
   "cell_type": "code",
   "execution_count": 233,
   "metadata": {},
   "outputs": [
    {
     "data": {
      "text/plain": [
       "99    1022090\n",
       "1       21481\n",
       "2        5004\n",
       "Name: p4_1, dtype: int64"
      ]
     },
     "execution_count": 233,
     "metadata": {},
     "output_type": "execute_result"
    }
   ],
   "source": [
    "df_copy_20151['p4_1'] = df_copy_20151['p4_1'].astype('int64')\n",
    "df_copy_20151.p4_1.value_counts()"
   ]
  },
  {
   "cell_type": "markdown",
   "metadata": {},
   "source": [
    "## Campo exclusivo del sistema (p4_2)\n",
    "1-9, blanco Campo exclusivo del sistema"
   ]
  },
  {
   "cell_type": "code",
   "execution_count": 234,
   "metadata": {},
   "outputs": [],
   "source": [
    "df_copy_20151['p4_2'].replace(to_replace=[' ', '99'],value='99',inplace=True)"
   ]
  },
  {
   "cell_type": "code",
   "execution_count": 235,
   "metadata": {},
   "outputs": [
    {
     "data": {
      "text/plain": [
       "99    1022081\n",
       "3       10269\n",
       "5        4749\n",
       "6        3245\n",
       "1        2955\n",
       "4        2693\n",
       "2        2369\n",
       "7         186\n",
       "9          16\n",
       "8          12\n",
       "Name: p4_2, dtype: int64"
      ]
     },
     "execution_count": 235,
     "metadata": {},
     "output_type": "execute_result"
    }
   ],
   "source": [
    "df_copy_20151['p4_2'] = df_copy_20151['p4_2'].astype('int64')\n",
    "df_copy_20151.p4_2.value_counts()"
   ]
  },
  {
   "cell_type": "markdown",
   "metadata": {},
   "source": [
    "## Campo exclusivo del sistema (p4_3)\n",
    "1-2, blanco Campo exclusivo del sistema "
   ]
  },
  {
   "cell_type": "code",
   "execution_count": 236,
   "metadata": {},
   "outputs": [],
   "source": [
    "df_copy_20151['p4_3'].replace(to_replace=[' ', '99'],value='99',inplace=True)"
   ]
  },
  {
   "cell_type": "code",
   "execution_count": 237,
   "metadata": {},
   "outputs": [
    {
     "data": {
      "text/plain": [
       "99    1000541\n",
       "2       47630\n",
       "1         404\n",
       "Name: p4_3, dtype: int64"
      ]
     },
     "execution_count": 237,
     "metadata": {},
     "output_type": "execute_result"
    }
   ],
   "source": [
    "df_copy_20151['p4_3'] = df_copy_20151['p4_3'].astype('int64')\n",
    "df_copy_20151.p4_3.value_counts()"
   ]
  },
  {
   "cell_type": "markdown",
   "metadata": {},
   "source": [
    "## * ¿A qué se dedica esta empresa, negocio o institución?(p4a)\n"
   ]
  },
  {
   "cell_type": "code",
   "execution_count": 238,
   "metadata": {
    "scrolled": true
   },
   "outputs": [
    {
     "data": {
      "text/plain": [
       "99      879333\n",
       "1110     12710\n",
       "7221      9953\n",
       "4611      8137\n",
       "8140      7982\n",
       "2382      6056\n",
       "6112      5881\n",
       "3110      5434\n",
       "2361      5162\n",
       "9313      4216\n",
       "4850      4128\n",
       "3360      3976\n",
       "5411      3752\n",
       "8111      3550\n",
       "4620      3381\n",
       "9314      2949\n",
       "9312      2736\n",
       "4631      2669\n",
       "6222      2583\n",
       "4681      2410\n",
       "8121      2343\n",
       "3150      2114\n",
       "3320      2082\n",
       "8112      2044\n",
       "1121      2011\n",
       "4310      1979\n",
       "4661      1952\n",
       "4651      1861\n",
       "4690      1808\n",
       "7210      1808\n",
       "         ...  \n",
       "6122        31\n",
       "2121        29\n",
       "4370        29\n",
       "4682        27\n",
       "8125        18\n",
       "3399        16\n",
       "2222        14\n",
       "5180        10\n",
       "7115         6\n",
       "5330         6\n",
       "4860         4\n",
       "2129         4\n",
       "4399         4\n",
       "4699         4\n",
       "2399         3\n",
       "7133         3\n",
       "6121         3\n",
       "9399         2\n",
       "9320         2\n",
       "8124         2\n",
       "6150         2\n",
       "6219         2\n",
       "5612         2\n",
       "6149         1\n",
       "5229         1\n",
       "5299         1\n",
       "1142         1\n",
       "8119         1\n",
       "2199         1\n",
       "1199         1\n",
       "Name: p4a, Length: 167, dtype: int64"
      ]
     },
     "execution_count": 238,
     "metadata": {},
     "output_type": "execute_result"
    }
   ],
   "source": [
    "df_copy_20151['p4a'] = df_copy_20151['p4a'].astype('int64')\n",
    "df_copy_20151.p4a.value_counts()"
   ]
  },
  {
   "cell_type": "markdown",
   "metadata": {},
   "source": [
    "## (p4a_1)"
   ]
  },
  {
   "cell_type": "code",
   "execution_count": 239,
   "metadata": {},
   "outputs": [],
   "source": [
    "df_copy_20151['p4a_1'].replace(to_replace=[' ', '99'],value='99',inplace=True)"
   ]
  },
  {
   "cell_type": "code",
   "execution_count": 240,
   "metadata": {},
   "outputs": [
    {
     "data": {
      "text/plain": [
       "99    879331\n",
       "1     169218\n",
       "2         26\n",
       "Name: p4a_1, dtype: int64"
      ]
     },
     "execution_count": 240,
     "metadata": {},
     "output_type": "execute_result"
    }
   ],
   "source": [
    "df_copy_20151['p4a_1'] = df_copy_20151['p4a_1'].astype('int64')\n",
    "df_copy_20151.p4a_1.value_counts()"
   ]
  },
  {
   "cell_type": "markdown",
   "metadata": {},
   "source": [
    "## ** SÓLO PARA EL  ENTREVISTADOR( p4b)\n",
    "\n",
    "1 Es una actividad  agropecuaria\n",
    " 2 Es una institución educativa u hospital\n",
    " 3 Es una institución pública o una sin fines de lucro\n",
    " 4 Se trata de una actividad o negocio del sector privado\n",
    " 5 Aún no se puede  determinar "
   ]
  },
  {
   "cell_type": "code",
   "execution_count": 241,
   "metadata": {},
   "outputs": [],
   "source": [
    "df_copy_20151['p4b'].replace(to_replace=[' ', '99'],value='99',inplace=True)"
   ]
  },
  {
   "cell_type": "code",
   "execution_count": 242,
   "metadata": {},
   "outputs": [
    {
     "data": {
      "text/plain": [
       "99    888118\n",
       "4     119305\n",
       "1      14721\n",
       "3      13962\n",
       "2      12450\n",
       "5         19\n",
       "Name: p4b, dtype: int64"
      ]
     },
     "execution_count": 242,
     "metadata": {},
     "output_type": "execute_result"
    }
   ],
   "source": [
    "df_copy_20151['p4b'] = df_copy_20151['p4b'].astype('int64')\n",
    "df_copy_20151.p4b.value_counts()"
   ]
  },
  {
   "cell_type": "markdown",
   "metadata": {},
   "source": [
    "## Entonces ,¿estamos hablando de que este negocio es ?(p4c)\n",
    "1 de tipo independiente personal o familiar?\n",
    "2 una compañía o empresa del sector privado (sociedad mercantil:anónima o bajo otra modalidad; transnacional, cadena comercial,bancaria o de servicios)?\n",
    " 3 Ninguno de los anteriores\n",
    " 99 No sabe"
   ]
  },
  {
   "cell_type": "code",
   "execution_count": 243,
   "metadata": {},
   "outputs": [],
   "source": [
    "df_copy_20151['p4c'].replace(to_replace=[' ', '99'],value='99',inplace=True)"
   ]
  },
  {
   "cell_type": "code",
   "execution_count": 244,
   "metadata": {},
   "outputs": [
    {
     "data": {
      "text/plain": [
       "99    929251\n",
       "1      75011\n",
       "2      44301\n",
       "3         12\n",
       "Name: p4c, dtype: int64"
      ]
     },
     "execution_count": 244,
     "metadata": {},
     "output_type": "execute_result"
    }
   ],
   "source": [
    "df_copy_20151['p4c'] = df_copy_20151['p4c'].astype('int64')\n",
    "df_copy_20151.p4c.value_counts()"
   ]
  },
  {
   "cell_type": "markdown",
   "metadata": {},
   "source": [
    "##  Entonces,¿... trabaja para (p4d1)\n",
    "1 una institución de gobierno?\n",
    "2 una institución no administrada por el gobierno?\n",
    "99 No sabe"
   ]
  },
  {
   "cell_type": "code",
   "execution_count": 245,
   "metadata": {},
   "outputs": [],
   "source": [
    "df_copy_20151['p4d1'].replace(to_replace=[' ', '99'],value='99',inplace=True)"
   ]
  },
  {
   "cell_type": "code",
   "execution_count": 246,
   "metadata": {},
   "outputs": [],
   "source": [
    "df_copy_20151['p4d1'].replace(to_replace=['9', '99'],value='99',inplace=True)"
   ]
  },
  {
   "cell_type": "code",
   "execution_count": 247,
   "metadata": {},
   "outputs": [
    {
     "data": {
      "text/plain": [
       "99    1022160\n",
       "1       21364\n",
       "2        5051\n",
       "Name: p4d1, dtype: int64"
      ]
     },
     "execution_count": 247,
     "metadata": {},
     "output_type": "execute_result"
    }
   ],
   "source": [
    "df_copy_20151['p4d1'] = df_copy_20151['p4d1'].astype('int64')\n",
    "df_copy_20151.p4d1.value_counts()"
   ]
  },
  {
   "cell_type": "markdown",
   "metadata": {},
   "source": [
    "## Opciones de respuestas cuando p4d1=2(p4d2)\n",
    "1 Institución educativa u hospital particular\n",
    "2 Una institución autónoma\n",
    " y pública de estudios de\n",
    " nivel medio superior o\n",
    " superior (UNAM, UAM,\n",
    " UACH, universidades\n",
    " autónomas estatales)\n",
    "3 “Organismo autónomo\n",
    " (IFE, Institutos Estatales\n",
    " Electorales, Comisiones\n",
    " Nacionales o Estatales de\n",
    " Derechos Humanos)”\n",
    "4 “Iglesia, asociación\n",
    " profesional, cámara\n",
    " o sindicato”\n",
    "5 “Asociación civil no\n",
    "clasificada en las opciones\n",
    " anteriores”\n",
    "6 Organismo internacional\n",
    " Partido político\n",
    "8 Ninguna de las anteriores\n",
    "99 No sabe"
   ]
  },
  {
   "cell_type": "code",
   "execution_count": 248,
   "metadata": {},
   "outputs": [],
   "source": [
    "df_copy_20151['p4d2'].replace(to_replace=[' ', '99'],value='99',inplace=True)"
   ]
  },
  {
   "cell_type": "code",
   "execution_count": 249,
   "metadata": {},
   "outputs": [],
   "source": [
    "df_copy_20151['p4d2'].replace(to_replace=['9', '99'],value='99',inplace=True)"
   ]
  },
  {
   "cell_type": "code",
   "execution_count": 250,
   "metadata": {},
   "outputs": [
    {
     "data": {
      "text/plain": [
       "99    1022162\n",
       "3       10361\n",
       "5        4664\n",
       "6        3227\n",
       "1        2988\n",
       "4        2606\n",
       "2        2350\n",
       "7         212\n",
       "8           5\n",
       "Name: p4d2, dtype: int64"
      ]
     },
     "execution_count": 250,
     "metadata": {},
     "output_type": "execute_result"
    }
   ],
   "source": [
    "df_copy_20151['p4d2'] = df_copy_20151['p4d2'].astype('int64')\n",
    "df_copy_20151.p4d2.value_counts()"
   ]
  },
  {
   "cell_type": "markdown",
   "metadata": {},
   "source": [
    "## Campo explusivo el sistema(p4d3)\n",
    "1-3, blanco Campo exclusivo del sistema"
   ]
  },
  {
   "cell_type": "code",
   "execution_count": 251,
   "metadata": {},
   "outputs": [],
   "source": [
    "df_copy_20151['p4d3'].replace(to_replace=[' ', '99'],value='99',inplace=True)"
   ]
  },
  {
   "cell_type": "code",
   "execution_count": 252,
   "metadata": {},
   "outputs": [
    {
     "data": {
      "text/plain": [
       "99    977927\n",
       "3      49827\n",
       "2      19789\n",
       "1       1032\n",
       "Name: p4d3, dtype: int64"
      ]
     },
     "execution_count": 252,
     "metadata": {},
     "output_type": "execute_result"
    }
   ],
   "source": [
    "df_copy_20151['p4d3'] = df_copy_20151['p4d3'].astype('int64')\n",
    "df_copy_20151.p4d3.value_counts()"
   ]
  },
  {
   "cell_type": "markdown",
   "metadata": {},
   "source": [
    "## ¿El negocio o actividad(p4e)\n",
    "1 cuenta con establecimientp y oficina\n",
    "2 solo tiene oficina o\n",
    " despacho?\n",
    "3 solo tiene local?\n",
    "4 no tiene local, oficina o\n",
    " establecimiento?\n",
    "99 No sabe"
   ]
  },
  {
   "cell_type": "code",
   "execution_count": 253,
   "metadata": {},
   "outputs": [],
   "source": [
    "df_copy_20151['p4e'].replace(to_replace=[' ', '99'],value='99',inplace=True)"
   ]
  },
  {
   "cell_type": "code",
   "execution_count": 254,
   "metadata": {},
   "outputs": [],
   "source": [
    "df_copy_20151['p4e'].replace(to_replace=['9', '99'],value='99',inplace=True)"
   ]
  },
  {
   "cell_type": "code",
   "execution_count": 255,
   "metadata": {},
   "outputs": [
    {
     "data": {
      "text/plain": [
       "99    973605\n",
       "4      36944\n",
       "3      30975\n",
       "1       3733\n",
       "2       3318\n",
       "Name: p4e, dtype: int64"
      ]
     },
     "execution_count": 255,
     "metadata": {},
     "output_type": "execute_result"
    }
   ],
   "source": [
    "df_copy_20151['p4e'] = df_copy_20151['p4e'].astype('int64')\n",
    "df_copy_20151.p4e.value_counts()\n"
   ]
  },
  {
   "cell_type": "markdown",
   "metadata": {},
   "source": [
    "## Entonces,¿en dónde se realizan las actividades de este negocio?(p4f)\n",
    "\n",
    "1 En el campo, a cielo abierto,bordo,poza,mar \n",
    "2 Ambulante de casa en casa o en la calle\n",
    "3 Puesto improvisado\n",
    "4 En vehículo sin motor (bicicleta, triciclo, carretón,\n",
    " lancha)\n",
    "5 En vehículo motorizado (automóvil, motocicleta,\n",
    " camioneta)\n",
    "6 En su propio domicilio sin instalación especial\n",
    "7 En su propio domicilio con instalación especial\n",
    "8 En el domicilio o propie dad del patrón o en el\n",
    " lugar donde lo requieren los clientes\n",
    "9 Puesto semifijo\n",
    "10 Puesto fijo\n",
    "11 Otro lugar\n",
    "99 No sabe"
   ]
  },
  {
   "cell_type": "code",
   "execution_count": 256,
   "metadata": {},
   "outputs": [],
   "source": [
    "df_copy_20151['p4f'].replace(to_replace=['0', '99'],value='99',inplace=True)"
   ]
  },
  {
   "cell_type": "code",
   "execution_count": 257,
   "metadata": {},
   "outputs": [
    {
     "data": {
      "text/plain": [
       "99    1011603\n",
       "8       14921\n",
       "6        6756\n",
       "5        4141\n",
       "2        2527\n",
       "7        2222\n",
       "9        2099\n",
       "3        2088\n",
       "4         915\n",
       "10        574\n",
       "11        394\n",
       "1         335\n",
       "Name: p4f, dtype: int64"
      ]
     },
     "execution_count": 257,
     "metadata": {},
     "output_type": "execute_result"
    }
   ],
   "source": [
    "df_copy_20151['p4f'] = df_copy_20151['p4f'].astype('int64')\n",
    "df_copy_20151.p4f.value_counts()"
   ]
  },
  {
   "cell_type": "markdown",
   "metadata": {},
   "source": [
    "## En este negocio o actividad,(p4g)\n",
    "1 ¿se acude a los servicios de un contador para llevar las cuentas?\n",
    "2 ¿sólo se utiliza un cuaderno o una libreta de apuntes personales para llevar las cuentas?\n",
    "3 Aplica hasta periodo 415) Está inscrito en algún\n",
    " esquema o régimen para pequeños contribuyentes (Repecos) de la Secreta ría de Hacienda (lleva el cuadernillo de ingresos o utiliza la caja registradora)"
   ]
  },
  {
   "cell_type": "code",
   "execution_count": 258,
   "metadata": {},
   "outputs": [],
   "source": [
    "df_copy_20151['p4g'].replace(to_replace=[' ', '99'],value='99',inplace=True)"
   ]
  },
  {
   "cell_type": "code",
   "execution_count": 259,
   "metadata": {},
   "outputs": [],
   "source": [
    "df_copy_20151['p4g'].replace(to_replace=['9', '99'],value='99',inplace=True)"
   ]
  },
  {
   "cell_type": "code",
   "execution_count": 260,
   "metadata": {},
   "outputs": [
    {
     "data": {
      "text/plain": [
       "99    980845\n",
       "4      33285\n",
       "1      21623\n",
       "2       8774\n",
       "3       4048\n",
       "Name: p4g, dtype: int64"
      ]
     },
     "execution_count": 260,
     "metadata": {},
     "output_type": "execute_result"
    }
   ],
   "source": [
    "df_copy_20151['p4g'] = df_copy_20151['p4g'].astype('int64')\n",
    "df_copy_20151.p4g.value_counts()"
   ]
  },
  {
   "cell_type": "markdown",
   "metadata": {},
   "source": [
    "## ¿Normalmente en que lugar trabaja...? (p4h)\n",
    "1¿En las instalaciones (o vehiculos) de..?\n",
    "2 ¿En las instalaciones de otra empresa o institución a donde se le envía?\n",
    "3 ¿Visitando a distintos clientes?\n",
    "4 ¿En el lugar de la obra?\n",
    "5 Ninguna de las anteriores\n",
    "99 No sabe"
   ]
  },
  {
   "cell_type": "code",
   "execution_count": 261,
   "metadata": {},
   "outputs": [],
   "source": [
    "df_copy_20151['p4h'].replace(to_replace=[' ', '99'],value='99',inplace=True)"
   ]
  },
  {
   "cell_type": "code",
   "execution_count": 262,
   "metadata": {},
   "outputs": [],
   "source": [
    "df_copy_20151['p4h'].replace(to_replace=['9', '99'],value='99',inplace=True)"
   ]
  },
  {
   "cell_type": "code",
   "execution_count": 263,
   "metadata": {},
   "outputs": [
    {
     "data": {
      "text/plain": [
       "99    1000667\n",
       "1       39975\n",
       "2        3475\n",
       "4        2298\n",
       "3        2051\n",
       "5         109\n",
       "Name: p4h, dtype: int64"
      ]
     },
     "execution_count": 263,
     "metadata": {},
     "output_type": "execute_result"
    }
   ],
   "source": [
    "df_copy_20151['p4h'] = df_copy_20151['p4h'].astype('int64')\n",
    "df_copy_20151.p4h.value_counts()"
   ]
  },
  {
   "cell_type": "markdown",
   "metadata": {},
   "source": [
    "## La empresa a la que oertenece.. ¿tiene oficinas o establecimientos?(p4i)\n",
    "1 en otros países?\n",
    "2 únicamente de México  pero en varias ciudades del pais?\n",
    "3 solo en una ciudad?\n",
    "4 Se trata de un negocio\n",
    " que opera bajo la modali-\n",
    " dad de franquicia\n",
    "9 No sabe"
   ]
  },
  {
   "cell_type": "code",
   "execution_count": 264,
   "metadata": {},
   "outputs": [],
   "source": [
    "df_copy_20151['p4i'].replace(to_replace=[' ', '99'],value='99',inplace=True)"
   ]
  },
  {
   "cell_type": "code",
   "execution_count": 265,
   "metadata": {},
   "outputs": [],
   "source": [
    "df_copy_20151['p4i'].replace(to_replace=['9', '99'],value='99',inplace=True)"
   ]
  },
  {
   "cell_type": "code",
   "execution_count": 266,
   "metadata": {},
   "outputs": [
    {
     "data": {
      "text/plain": [
       "99    1001775\n",
       "3       18220\n",
       "2       17907\n",
       "1        9642\n",
       "4        1031\n",
       "Name: p4i, dtype: int64"
      ]
     },
     "execution_count": 266,
     "metadata": {},
     "output_type": "execute_result"
    }
   ],
   "source": [
    "df_copy_20151['p4i'] = df_copy_20151['p4i'].astype('int64')\n",
    "df_copy_20151.p4i.value_counts()"
   ]
  },
  {
   "cell_type": "markdown",
   "metadata": {},
   "source": [
    "## Campo exclusivo del sistema (p4i_1)\n",
    "1-3,blanco Campo exclusivo del sistema\n"
   ]
  },
  {
   "cell_type": "code",
   "execution_count": 267,
   "metadata": {},
   "outputs": [],
   "source": [
    "df_copy_20151['p4i_1'].replace(to_replace=[' ', '99'],value='99',inplace=True)"
   ]
  },
  {
   "cell_type": "code",
   "execution_count": 268,
   "metadata": {},
   "outputs": [
    {
     "data": {
      "text/plain": [
       "99    1000541\n",
       "3       47617\n",
       "1         322\n",
       "2          95\n",
       "Name: p4i_1, dtype: int64"
      ]
     },
     "execution_count": 268,
     "metadata": {},
     "output_type": "execute_result"
    }
   ],
   "source": [
    "df_copy_20151['p4i_1'] = df_copy_20151['p4i_1'].astype('int64')\n",
    "df_copy_20151.p4i_1.value_counts()"
   ]
  },
  {
   "cell_type": "markdown",
   "metadata": {},
   "source": [
    "## ¿La jornada de trabajo de ... es?(p5)\n",
    "1 de día ? (entre las 6 am y las 8 pm)\n",
    "2 de noche? (entre las 8 pm y las 6 am)\n",
    "3 mixta?\n",
    "4 rola turnos?\n",
    "99 No sabe"
   ]
  },
  {
   "cell_type": "code",
   "execution_count": 269,
   "metadata": {},
   "outputs": [],
   "source": [
    "df_copy_20151['p5'].replace(to_replace=[' ', '99'],value='99',inplace=True)"
   ]
  },
  {
   "cell_type": "code",
   "execution_count": 270,
   "metadata": {},
   "outputs": [],
   "source": [
    "df_copy_20151['p5'].replace(to_replace=['9', '99'],value='99',inplace=True)"
   ]
  },
  {
   "cell_type": "code",
   "execution_count": 271,
   "metadata": {},
   "outputs": [
    {
     "data": {
      "text/plain": [
       "99    894433\n",
       "1     136871\n",
       "3       7783\n",
       "4       6565\n",
       "2       2923\n",
       "Name: p5, dtype: int64"
      ]
     },
     "execution_count": 271,
     "metadata": {},
     "output_type": "execute_result"
    }
   ],
   "source": [
    "df_copy_20151['p5'] = df_copy_20151['p5'].astype('int64')\n",
    "df_copy_20151.p5.value_counts()"
   ]
  },
  {
   "cell_type": "markdown",
   "metadata": {},
   "source": [
    "## La semana pasada, ¿..tuvo poco trabajo que hacer?(p5a)\n",
    "1 Sí\n",
    "2 No trabajó la semana pasada\n",
    "3 No se encontró en esa situación\n",
    "99 No sabe"
   ]
  },
  {
   "cell_type": "code",
   "execution_count": 272,
   "metadata": {},
   "outputs": [],
   "source": [
    "df_copy_20151['p5a'].replace(to_replace=[' ', '99'],value='99',inplace=True)"
   ]
  },
  {
   "cell_type": "code",
   "execution_count": 273,
   "metadata": {},
   "outputs": [],
   "source": [
    "df_copy_20151['p5a'].replace(to_replace=['9', '99'],value='99',inplace=True)"
   ]
  },
  {
   "cell_type": "code",
   "execution_count": 274,
   "metadata": {},
   "outputs": [
    {
     "data": {
      "text/plain": [
       "3     513413\n",
       "99    480443\n",
       "1      38574\n",
       "2      16145\n",
       "Name: p5a, dtype: int64"
      ]
     },
     "execution_count": 274,
     "metadata": {},
     "output_type": "execute_result"
    }
   ],
   "source": [
    "df_copy_20151['p5a'] = df_copy_20151['p5a'].astype('int64')\n",
    "df_copy_20151.p5a.value_counts()"
   ]
  },
  {
   "cell_type": "markdown",
   "metadata": {},
   "source": [
    "## ¿Le preocupa a ... esta situación?(p5b)\n",
    "1 Sí\n",
    "2 Solo un poco\n",
    "3 No, porque así es su trabajo\n",
    "4 No, porque así es en esta época del año\n",
    "5 No, porque la considera una situación pasajera\n",
    "6 No, por otras razones\n",
    "99 No sabe"
   ]
  },
  {
   "cell_type": "code",
   "execution_count": 275,
   "metadata": {},
   "outputs": [],
   "source": [
    "df_copy_20151['p5b'].replace(to_replace=[' ', '99'],value='99',inplace=True)"
   ]
  },
  {
   "cell_type": "code",
   "execution_count": 276,
   "metadata": {},
   "outputs": [],
   "source": [
    "df_copy_20151['p5b'].replace(to_replace=['9', '99'],value='99',inplace=True)"
   ]
  },
  {
   "cell_type": "code",
   "execution_count": 277,
   "metadata": {},
   "outputs": [
    {
     "data": {
      "text/plain": [
       "99    1010053\n",
       "1       23592\n",
       "3        6469\n",
       "4        3997\n",
       "2        2111\n",
       "6        2024\n",
       "5         329\n",
       "Name: p5b, dtype: int64"
      ]
     },
     "execution_count": 277,
     "metadata": {},
     "output_type": "execute_result"
    }
   ],
   "source": [
    "df_copy_20151['p5b'] = df_copy_20151['p5b'].astype('int64')\n",
    "df_copy_20151.p5b.value_counts()"
   ]
  },
  {
   "cell_type": "markdown",
   "metadata": {},
   "source": [
    "# Pregunta 5C: ¿Qué días y cuántas horas le dedicó ... a su trabajo  la semana pasada? \n",
    "\n"
   ]
  },
  {
   "cell_type": "markdown",
   "metadata": {},
   "source": [
    "## Horas lunes (p5c_hlu)\n",
    "00-24 Número de horas en lunes\n",
    "98 Trabajó ese día pero no sabe cuanto tiempo\n",
    "99 No sabe si trabajó ese día"
   ]
  },
  {
   "cell_type": "code",
   "execution_count": 278,
   "metadata": {
    "scrolled": true
   },
   "outputs": [
    {
     "data": {
      "text/plain": [
       "99    496257\n",
       "8     202364\n",
       "10     63276\n",
       "0      57300\n",
       "9      54195\n",
       "6      38674\n",
       "12     32012\n",
       "7      26550\n",
       "5      19459\n",
       "4      18210\n",
       "3      10790\n",
       "11      8451\n",
       "2       8070\n",
       "1       2845\n",
       "14      2295\n",
       "16      1895\n",
       "98      1658\n",
       "13      1474\n",
       "15      1089\n",
       "17       600\n",
       "18       567\n",
       "24       479\n",
       "20        34\n",
       "19        25\n",
       "21         4\n",
       "22         2\n",
       "Name: p5c_hlu, dtype: int64"
      ]
     },
     "execution_count": 278,
     "metadata": {},
     "output_type": "execute_result"
    }
   ],
   "source": [
    "df_copy_20151['p5c_hlu'] = df_copy_20151['p5c_hlu'].astype('int64')\n",
    "df_copy_20151.p5c_hlu.value_counts()"
   ]
  },
  {
   "cell_type": "markdown",
   "metadata": {},
   "source": [
    "## Minutos lunes (p5c_mlu)\n",
    "00-59 Número de minutos en lunes"
   ]
  },
  {
   "cell_type": "code",
   "execution_count": 279,
   "metadata": {
    "scrolled": true
   },
   "outputs": [
    {
     "data": {
      "text/plain": [
       "0     540747\n",
       "99    496232\n",
       "30     11108\n",
       "45        99\n",
       "15        72\n",
       "40        64\n",
       "20        59\n",
       "8         33\n",
       "10        33\n",
       "1         23\n",
       "3         19\n",
       "50        17\n",
       "36        13\n",
       "5          9\n",
       "9          8\n",
       "6          8\n",
       "12         7\n",
       "2          5\n",
       "35         5\n",
       "33         3\n",
       "26         2\n",
       "25         2\n",
       "11         2\n",
       "48         1\n",
       "4          1\n",
       "46         1\n",
       "22         1\n",
       "13         1\n",
       "Name: p5c_mlu, dtype: int64"
      ]
     },
     "execution_count": 279,
     "metadata": {},
     "output_type": "execute_result"
    }
   ],
   "source": [
    "df_copy_20151['p5c_mlu'] = df_copy_20151['p5c_mlu'].astype('int64')\n",
    "df_copy_20151.p5c_mlu.value_counts()"
   ]
  },
  {
   "cell_type": "markdown",
   "metadata": {},
   "source": [
    "## Horas martes (p5c_hma)\n",
    "00-24 Número de horas en martes\n",
    "98 Trabajó ese día pero no sabe cuanto tiempo\n",
    "99 No sabe si trabajó ese día\n"
   ]
  },
  {
   "cell_type": "code",
   "execution_count": 280,
   "metadata": {
    "scrolled": true
   },
   "outputs": [
    {
     "data": {
      "text/plain": [
       "99    496261\n",
       "8     204322\n",
       "10     63741\n",
       "0      57122\n",
       "9      55047\n",
       "6      38867\n",
       "12     31235\n",
       "7      27358\n",
       "5      19338\n",
       "4      17915\n",
       "3      10271\n",
       "11      8591\n",
       "2       7591\n",
       "1       2681\n",
       "14      2237\n",
       "98      1699\n",
       "13      1453\n",
       "16      1090\n",
       "15      1064\n",
       "17       261\n",
       "18       201\n",
       "24       158\n",
       "20        34\n",
       "19        30\n",
       "21         4\n",
       "22         4\n",
       "Name: p5c_hma, dtype: int64"
      ]
     },
     "execution_count": 280,
     "metadata": {},
     "output_type": "execute_result"
    }
   ],
   "source": [
    "df_copy_20151['p5c_hma'] = df_copy_20151['p5c_hma'].astype('int64')\n",
    "df_copy_20151.p5c_hma.value_counts()"
   ]
  },
  {
   "cell_type": "markdown",
   "metadata": {},
   "source": [
    "## Minutos martes (p5c_mma)\n",
    "00-59 Número de minutos en martes "
   ]
  },
  {
   "cell_type": "code",
   "execution_count": 281,
   "metadata": {
    "scrolled": true
   },
   "outputs": [
    {
     "data": {
      "text/plain": [
       "0     540614\n",
       "99    496232\n",
       "30     11212\n",
       "45        97\n",
       "15        73\n",
       "40        69\n",
       "20        67\n",
       "10        42\n",
       "1         40\n",
       "8         25\n",
       "50        24\n",
       "36        15\n",
       "5         14\n",
       "9          8\n",
       "6          7\n",
       "2          5\n",
       "12         5\n",
       "3          4\n",
       "33         4\n",
       "35         4\n",
       "25         2\n",
       "11         2\n",
       "13         2\n",
       "26         2\n",
       "54         1\n",
       "16         1\n",
       "55         1\n",
       "46         1\n",
       "48         1\n",
       "18         1\n",
       "Name: p5c_mma, dtype: int64"
      ]
     },
     "execution_count": 281,
     "metadata": {},
     "output_type": "execute_result"
    }
   ],
   "source": [
    "df_copy_20151['p5c_mma'] = df_copy_20151['p5c_mma'].astype('int64')\n",
    "df_copy_20151.p5c_mma.value_counts()"
   ]
  },
  {
   "cell_type": "markdown",
   "metadata": {},
   "source": [
    "## Horas miércoles (p5c_hmi)\n",
    "00-24 Número de horas en miércoles\n",
    "98 Trabajó ese día pero no sabe cuanto tiempo\n",
    "99 No sabe si trabajó ese día"
   ]
  },
  {
   "cell_type": "code",
   "execution_count": 282,
   "metadata": {
    "scrolled": true
   },
   "outputs": [
    {
     "data": {
      "text/plain": [
       "99    496261\n",
       "8     203601\n",
       "10     63636\n",
       "9      54763\n",
       "0      53825\n",
       "6      39258\n",
       "12     31890\n",
       "7      27236\n",
       "5      19987\n",
       "4      18383\n",
       "3      10789\n",
       "11      8627\n",
       "2       7986\n",
       "1       2896\n",
       "14      2310\n",
       "98      1715\n",
       "16      1502\n",
       "13      1479\n",
       "15      1063\n",
       "17       451\n",
       "18       433\n",
       "24       415\n",
       "20        38\n",
       "19        22\n",
       "21         7\n",
       "22         2\n",
       "Name: p5c_hmi, dtype: int64"
      ]
     },
     "execution_count": 282,
     "metadata": {},
     "output_type": "execute_result"
    }
   ],
   "source": [
    "df_copy_20151['p5c_hmi'] = df_copy_20151['p5c_hmi'].astype('int64')\n",
    "df_copy_20151.p5c_hmi.value_counts()"
   ]
  },
  {
   "cell_type": "markdown",
   "metadata": {},
   "source": [
    "## Minutos miércoles (p5c_mmi)\n",
    "00-59 Número de minutos en miércoles "
   ]
  },
  {
   "cell_type": "code",
   "execution_count": 283,
   "metadata": {
    "scrolled": true
   },
   "outputs": [
    {
     "data": {
      "text/plain": [
       "0     540560\n",
       "99    496232\n",
       "30     11252\n",
       "45        96\n",
       "15        74\n",
       "20        67\n",
       "40        64\n",
       "1         50\n",
       "10        48\n",
       "50        23\n",
       "8         21\n",
       "36        14\n",
       "5         11\n",
       "3         11\n",
       "9          9\n",
       "35         5\n",
       "6          5\n",
       "2          5\n",
       "12         5\n",
       "33         4\n",
       "7          3\n",
       "11         3\n",
       "18         2\n",
       "25         2\n",
       "26         2\n",
       "13         1\n",
       "55         1\n",
       "23         1\n",
       "4          1\n",
       "46         1\n",
       "48         1\n",
       "54         1\n",
       "Name: p5c_mmi, dtype: int64"
      ]
     },
     "execution_count": 283,
     "metadata": {},
     "output_type": "execute_result"
    }
   ],
   "source": [
    "df_copy_20151['p5c_mmi'] = df_copy_20151['p5c_mmi'].astype('int64')\n",
    "df_copy_20151.p5c_mmi.value_counts()"
   ]
  },
  {
   "cell_type": "markdown",
   "metadata": {},
   "source": [
    "## Horas jueves(p5c_hju)\n",
    "00-24 Número de horas jueves\n",
    "98 Trabajó ese día pero no sabe cuanto tiempo\n",
    "99 No sabe si trabajó ese día"
   ]
  },
  {
   "cell_type": "code",
   "execution_count": 284,
   "metadata": {
    "scrolled": true
   },
   "outputs": [
    {
     "data": {
      "text/plain": [
       "99    496261\n",
       "8     200236\n",
       "0      64537\n",
       "10     62775\n",
       "9      53957\n",
       "6      38305\n",
       "12     30885\n",
       "7      27033\n",
       "5      19338\n",
       "4      17690\n",
       "3      10158\n",
       "11      8509\n",
       "2       7575\n",
       "1       2743\n",
       "14      2227\n",
       "98      1693\n",
       "13      1437\n",
       "16      1315\n",
       "15      1044\n",
       "17       322\n",
       "18       273\n",
       "24       191\n",
       "20        39\n",
       "19        25\n",
       "21         4\n",
       "22         3\n",
       "Name: p5c_hju, dtype: int64"
      ]
     },
     "execution_count": 284,
     "metadata": {},
     "output_type": "execute_result"
    }
   ],
   "source": [
    "df_copy_20151['p5c_hju'] = df_copy_20151['p5c_hju'].astype('int64')\n",
    "df_copy_20151.p5c_hju.value_counts()"
   ]
  },
  {
   "cell_type": "markdown",
   "metadata": {},
   "source": [
    "## Minutos jueves  (p5c_mju)\n",
    "00-59 Número de minutos jueves"
   ]
  },
  {
   "cell_type": "code",
   "execution_count": 285,
   "metadata": {
    "scrolled": true
   },
   "outputs": [
    {
     "data": {
      "text/plain": [
       "0     540726\n",
       "99    496232\n",
       "30     11031\n",
       "45        93\n",
       "20        82\n",
       "1         73\n",
       "15        71\n",
       "40        67\n",
       "10        40\n",
       "8         37\n",
       "50        23\n",
       "5         15\n",
       "36        14\n",
       "6         12\n",
       "2         11\n",
       "9         11\n",
       "3          6\n",
       "12         6\n",
       "33         5\n",
       "35         5\n",
       "11         4\n",
       "4          2\n",
       "26         2\n",
       "54         1\n",
       "13         1\n",
       "55         1\n",
       "25         1\n",
       "46         1\n",
       "48         1\n",
       "18         1\n",
       "Name: p5c_mju, dtype: int64"
      ]
     },
     "execution_count": 285,
     "metadata": {},
     "output_type": "execute_result"
    }
   ],
   "source": [
    "df_copy_20151['p5c_mju'] = df_copy_20151['p5c_mju'].astype('int64')\n",
    "df_copy_20151.p5c_mju.value_counts()"
   ]
  },
  {
   "cell_type": "markdown",
   "metadata": {},
   "source": [
    "## Horas viernes  (p5c_hvi)\n",
    "00-24 Número de horas en viernes\n",
    "98 Trabajó ese día pero no sabe cuanto tiempo\n",
    "99 No sabe si trabajó ese día"
   ]
  },
  {
   "cell_type": "code",
   "execution_count": 286,
   "metadata": {
    "scrolled": true
   },
   "outputs": [
    {
     "data": {
      "text/plain": [
       "99    496263\n",
       "8     201223\n",
       "10     63064\n",
       "0      59976\n",
       "9      53879\n",
       "6      38791\n",
       "12     31031\n",
       "7      26845\n",
       "5      19862\n",
       "4      18117\n",
       "3      10615\n",
       "11      8459\n",
       "2       7847\n",
       "1       2848\n",
       "14      2313\n",
       "98      1708\n",
       "16      1644\n",
       "13      1488\n",
       "15      1098\n",
       "17       515\n",
       "18       469\n",
       "24       435\n",
       "20        52\n",
       "19        24\n",
       "21         7\n",
       "22         2\n",
       "Name: p5c_hvi, dtype: int64"
      ]
     },
     "execution_count": 286,
     "metadata": {},
     "output_type": "execute_result"
    }
   ],
   "source": [
    "df_copy_20151['p5c_hvi'] = df_copy_20151['p5c_hvi'].astype('int64')\n",
    "df_copy_20151.p5c_hvi.value_counts()"
   ]
  },
  {
   "cell_type": "markdown",
   "metadata": {},
   "source": [
    "## Minutos viernes  (p5c_mvi)\n",
    "00-59 Número de minutos en  viernes "
   ]
  },
  {
   "cell_type": "code",
   "execution_count": 287,
   "metadata": {
    "scrolled": true
   },
   "outputs": [
    {
     "data": {
      "text/plain": [
       "0     540745\n",
       "99    496232\n",
       "30     11008\n",
       "45        89\n",
       "20        81\n",
       "15        71\n",
       "40        68\n",
       "1         65\n",
       "10        44\n",
       "8         34\n",
       "50        25\n",
       "3         18\n",
       "36        15\n",
       "5         12\n",
       "9         12\n",
       "2         11\n",
       "12         7\n",
       "11         6\n",
       "33         5\n",
       "6          5\n",
       "35         5\n",
       "23         2\n",
       "46         2\n",
       "26         2\n",
       "4          1\n",
       "7          1\n",
       "54         1\n",
       "13         1\n",
       "18         1\n",
       "53         1\n",
       "55         1\n",
       "25         1\n",
       "32         1\n",
       "48         1\n",
       "22         1\n",
       "Name: p5c_mvi, dtype: int64"
      ]
     },
     "execution_count": 287,
     "metadata": {},
     "output_type": "execute_result"
    }
   ],
   "source": [
    "df_copy_20151['p5c_mvi'] = df_copy_20151['p5c_mvi'].astype('int64')\n",
    "df_copy_20151.p5c_mvi.value_counts()"
   ]
  },
  {
   "cell_type": "markdown",
   "metadata": {},
   "source": [
    "## Horas sábado (p5c_hsa)\n",
    "00-24 Número de horas en sábado\n",
    "98 Trabajó ese día pero no sabe cuanto tiempo\n",
    "99 No sabe si trabajó ese día"
   ]
  },
  {
   "cell_type": "code",
   "execution_count": 288,
   "metadata": {
    "scrolled": true
   },
   "outputs": [
    {
     "data": {
      "text/plain": [
       "99    496259\n",
       "0     194212\n",
       "8     115827\n",
       "6      50993\n",
       "5      39269\n",
       "10     36190\n",
       "12     24556\n",
       "9      23395\n",
       "4      20857\n",
       "7      18445\n",
       "3       8216\n",
       "2       5880\n",
       "11      5097\n",
       "1       2053\n",
       "14      2031\n",
       "98      1364\n",
       "13      1243\n",
       "16      1024\n",
       "15       977\n",
       "17       267\n",
       "18       186\n",
       "24       178\n",
       "20        32\n",
       "19        18\n",
       "21         4\n",
       "22         2\n",
       "Name: p5c_hsa, dtype: int64"
      ]
     },
     "execution_count": 288,
     "metadata": {},
     "output_type": "execute_result"
    }
   ],
   "source": [
    "df_copy_20151['p5c_hsa'] = df_copy_20151['p5c_hsa'].astype('int64')\n",
    "df_copy_20151.p5c_hsa.value_counts()"
   ]
  },
  {
   "cell_type": "markdown",
   "metadata": {},
   "source": [
    "## Minutos sábado  (p5c_msa)\n",
    "00-59 Número de minutos en sábado "
   ]
  },
  {
   "cell_type": "code",
   "execution_count": 289,
   "metadata": {
    "scrolled": true
   },
   "outputs": [
    {
     "data": {
      "text/plain": [
       "0     547863\n",
       "99    496232\n",
       "30      4213\n",
       "20        45\n",
       "40        36\n",
       "45        34\n",
       "50        27\n",
       "10        23\n",
       "15        22\n",
       "1         17\n",
       "8         15\n",
       "5          8\n",
       "3          7\n",
       "6          6\n",
       "11         6\n",
       "9          5\n",
       "12         5\n",
       "2          4\n",
       "18         1\n",
       "7          1\n",
       "21         1\n",
       "24         1\n",
       "33         1\n",
       "35         1\n",
       "13         1\n",
       "Name: p5c_msa, dtype: int64"
      ]
     },
     "execution_count": 289,
     "metadata": {},
     "output_type": "execute_result"
    }
   ],
   "source": [
    "df_copy_20151['p5c_msa'] = df_copy_20151['p5c_msa'].astype('int64')\n",
    "df_copy_20151.p5c_msa.value_counts()"
   ]
  },
  {
   "cell_type": "markdown",
   "metadata": {},
   "source": [
    "## Horas domingo (p5c_hdo)\n",
    "00-24 Número de horas en domingo\n",
    "98 Trabajó ese día pero no sabe cuanto tiempo\n",
    "99 No sabe si trabajó ese día\n"
   ]
  },
  {
   "cell_type": "code",
   "execution_count": 290,
   "metadata": {},
   "outputs": [
    {
     "data": {
      "text/plain": [
       "99    496256\n",
       "0     420198\n",
       "8      40570\n",
       "10     16102\n",
       "12     15924\n",
       "6      12446\n",
       "9       9135\n",
       "5       7354\n",
       "4       6889\n",
       "7       6068\n",
       "3       4123\n",
       "2       3398\n",
       "11      2482\n",
       "14      1353\n",
       "1       1345\n",
       "16      1337\n",
       "13       755\n",
       "98       745\n",
       "15       663\n",
       "24       474\n",
       "18       467\n",
       "17       425\n",
       "20        32\n",
       "19        15\n",
       "22        13\n",
       "21         6\n",
       "Name: p5c_hdo, dtype: int64"
      ]
     },
     "execution_count": 290,
     "metadata": {},
     "output_type": "execute_result"
    }
   ],
   "source": [
    "df_copy_20151['p5c_hdo'] = df_copy_20151['p5c_hdo'].astype('int64')\n",
    "df_copy_20151.p5c_hdo.value_counts()"
   ]
  },
  {
   "cell_type": "markdown",
   "metadata": {},
   "source": [
    "## Minutos domingo (p5c_mdo)\n",
    "00-59 Número de minutos en  domingo"
   ]
  },
  {
   "cell_type": "code",
   "execution_count": 291,
   "metadata": {},
   "outputs": [
    {
     "data": {
      "text/plain": [
       "0     549943\n",
       "99    496232\n",
       "30      1727\n",
       "1        358\n",
       "40       109\n",
       "2         67\n",
       "11        26\n",
       "20        24\n",
       "10        16\n",
       "45        16\n",
       "50        12\n",
       "14        12\n",
       "15         7\n",
       "8          7\n",
       "3          4\n",
       "22         4\n",
       "12         4\n",
       "6          3\n",
       "13         1\n",
       "9          1\n",
       "5          1\n",
       "35         1\n",
       "Name: p5c_mdo, dtype: int64"
      ]
     },
     "execution_count": 291,
     "metadata": {},
     "output_type": "execute_result"
    }
   ],
   "source": [
    "df_copy_20151['p5c_mdo'] = df_copy_20151['p5c_mdo'].astype('int64')\n",
    "df_copy_20151.p5c_mdo.value_counts()"
   ]
  },
  {
   "cell_type": "markdown",
   "metadata": {},
   "source": [
    "## Total de horas (p5c_thrs)\n",
    "001-998 Total de Número de horas en pregunta 5c\n",
    "999 No especificado\n"
   ]
  },
  {
   "cell_type": "code",
   "execution_count": 292,
   "metadata": {
    "scrolled": true
   },
   "outputs": [
    {
     "data": {
      "text/plain": [
       "99     496244\n",
       "48      93989\n",
       "40      62800\n",
       "45      28492\n",
       "60      27241\n",
       "30      19599\n",
       "50      18455\n",
       "36      17718\n",
       "56      17595\n",
       "54      17220\n",
       "24      16590\n",
       "42      15303\n",
       "72      12994\n",
       "35      12946\n",
       "46      10716\n",
       "70       8961\n",
       "32       8740\n",
       "84       8363\n",
       "20       8277\n",
       "12       7489\n",
       "18       7294\n",
       "25       7156\n",
       "55       6841\n",
       "44       6684\n",
       "16       6459\n",
       "51       6366\n",
       "28       5203\n",
       "15       4920\n",
       "66       4911\n",
       "8        4517\n",
       "        ...  \n",
       "93         30\n",
       "104        24\n",
       "95         23\n",
       "100        18\n",
       "101        17\n",
       "97         14\n",
       "106        11\n",
       "120         9\n",
       "114         8\n",
       "107         7\n",
       "103         7\n",
       "168         6\n",
       "116         6\n",
       "110         5\n",
       "133         5\n",
       "113         5\n",
       "115         5\n",
       "118         4\n",
       "109         4\n",
       "140         4\n",
       "144         4\n",
       "117         2\n",
       "132         2\n",
       "121         1\n",
       "122         1\n",
       "111         1\n",
       "125         1\n",
       "147         1\n",
       "154         1\n",
       "123         1\n",
       "Name: p5c_thrs, Length: 133, dtype: int64"
      ]
     },
     "execution_count": 292,
     "metadata": {},
     "output_type": "execute_result"
    }
   ],
   "source": [
    "df_copy_20151['p5c_thrs'] = df_copy_20151['p5c_thrs'].astype('int64')\n",
    "df_copy_20151.p5c_thrs.value_counts()"
   ]
  },
  {
   "cell_type": "markdown",
   "metadata": {},
   "source": [
    "## Total de días (p5c_tdia)\n",
    "1 - 7 Total de dias trabajados  a la semana\n",
    "9 Número de días no  especificado\n"
   ]
  },
  {
   "cell_type": "code",
   "execution_count": 293,
   "metadata": {},
   "outputs": [],
   "source": [
    "df_copy_20151['p5c_tdia'].replace(to_replace=[' ', '99'],value='99',inplace=True)"
   ]
  },
  {
   "cell_type": "code",
   "execution_count": 294,
   "metadata": {},
   "outputs": [
    {
     "data": {
      "text/plain": [
       "99    496232\n",
       "6     256546\n",
       "5     144344\n",
       "7      64822\n",
       "3      28915\n",
       "4      25974\n",
       "2      21321\n",
       "1       9888\n",
       "9        533\n",
       "Name: p5c_tdia, dtype: int64"
      ]
     },
     "execution_count": 294,
     "metadata": {},
     "output_type": "execute_result"
    }
   ],
   "source": [
    "df_copy_20151['p5c_tdia'] = df_copy_20151['p5c_tdia'].astype('int64')\n",
    "df_copy_20151.p5c_tdia.value_counts()"
   ]
  },
  {
   "cell_type": "markdown",
   "metadata": {},
   "source": [
    "## ¿Ese es el número de horas que habitualmente trabaja..-?(p5d)\n",
    "1 Sí\n",
    "2 No \n",
    "99 No sabe"
   ]
  },
  {
   "cell_type": "code",
   "execution_count": 295,
   "metadata": {},
   "outputs": [],
   "source": [
    "df_copy_20151['p5d'].replace(to_replace=[' ', '99'],value='99',inplace=True)"
   ]
  },
  {
   "cell_type": "code",
   "execution_count": 296,
   "metadata": {},
   "outputs": [],
   "source": [
    "df_copy_20151['p5d'].replace(to_replace=['9', '99'],value='99',inplace=True)"
   ]
  },
  {
   "cell_type": "code",
   "execution_count": 297,
   "metadata": {},
   "outputs": [
    {
     "data": {
      "text/plain": [
       "99    496331\n",
       "1     459821\n",
       "2      92423\n",
       "Name: p5d, dtype: int64"
      ]
     },
     "execution_count": 297,
     "metadata": {},
     "output_type": "execute_result"
    }
   ],
   "source": [
    "df_copy_20151['p5d'] = df_copy_20151['p5d'].astype('int64')\n",
    "df_copy_20151.p5d.value_counts()"
   ]
  },
  {
   "cell_type": "markdown",
   "metadata": {},
   "source": [
    "# Pregunta 5E: ¿Qué días y cuántas horas le dedica habitualmente ...  a su trabajo?\n"
   ]
  },
  {
   "cell_type": "markdown",
   "metadata": {},
   "source": [
    "## Horas y minutos o no tiene horario regurlar de trabajo (p5e1)\n",
    "1 si dió horas y/o minutos a la semana\n",
    "2 No tiene un horario regular de trabajo\n",
    "99 No sabe"
   ]
  },
  {
   "cell_type": "code",
   "execution_count": 298,
   "metadata": {},
   "outputs": [],
   "source": [
    "df_copy_20151['p5e1'].replace(to_replace=[' ', '99'],value='99',inplace=True)"
   ]
  },
  {
   "cell_type": "code",
   "execution_count": 299,
   "metadata": {},
   "outputs": [
    {
     "data": {
      "text/plain": [
       "99    939908\n",
       "2      66953\n",
       "1      41714\n",
       "Name: p5e1, dtype: int64"
      ]
     },
     "execution_count": 299,
     "metadata": {},
     "output_type": "execute_result"
    }
   ],
   "source": [
    "df_copy_20151['p5e1'] = df_copy_20151['p5e1'].astype('int64')\n",
    "df_copy_20151.p5e1.value_counts()"
   ]
  },
  {
   "cell_type": "markdown",
   "metadata": {},
   "source": [
    "## Horas lunes (p5e_hlu)\n",
    "00-59 Número de minutos en lunes "
   ]
  },
  {
   "cell_type": "code",
   "execution_count": 300,
   "metadata": {},
   "outputs": [
    {
     "data": {
      "text/plain": [
       "99    1006864\n",
       "8       18199\n",
       "9        4439\n",
       "10       4239\n",
       "6        3255\n",
       "7        2855\n",
       "5        1990\n",
       "12       1900\n",
       "0        1538\n",
       "4        1288\n",
       "3         576\n",
       "11        557\n",
       "2         328\n",
       "14        120\n",
       "1         113\n",
       "16         70\n",
       "15         63\n",
       "13         62\n",
       "98         42\n",
       "17         38\n",
       "24         20\n",
       "18         16\n",
       "20          2\n",
       "19          1\n",
       "Name: p5e_hlu, dtype: int64"
      ]
     },
     "execution_count": 300,
     "metadata": {},
     "output_type": "execute_result"
    }
   ],
   "source": [
    "df_copy_20151['p5e_hlu'] = df_copy_20151['p5e_hlu'].astype('int64')\n",
    "df_copy_20151.p5e_hlu.value_counts()"
   ]
  },
  {
   "cell_type": "markdown",
   "metadata": {},
   "source": [
    "## Minutos lunes (p5e_mlu)\n",
    "00-59 Número de minutos en lunes \n"
   ]
  },
  {
   "cell_type": "code",
   "execution_count": 301,
   "metadata": {},
   "outputs": [
    {
     "data": {
      "text/plain": [
       "99    1006861\n",
       "0       40230\n",
       "30       1422\n",
       "15         14\n",
       "45         11\n",
       "40         11\n",
       "10          6\n",
       "1           6\n",
       "3           4\n",
       "50          3\n",
       "25          3\n",
       "20          3\n",
       "8           1\n",
       "Name: p5e_mlu, dtype: int64"
      ]
     },
     "execution_count": 301,
     "metadata": {},
     "output_type": "execute_result"
    }
   ],
   "source": [
    "df_copy_20151['p5e_mlu'] = df_copy_20151['p5e_mlu'].astype('int64')\n",
    "df_copy_20151.p5e_mlu.value_counts()"
   ]
  },
  {
   "cell_type": "markdown",
   "metadata": {},
   "source": [
    "## Horas martes (p5e_hma)\n",
    "00-24 Número de horas en martes\n",
    "98 Trabajó ese día pero no sabe cuanto tiempo\n",
    "99 No sabe si trabajó ese día"
   ]
  },
  {
   "cell_type": "code",
   "execution_count": 302,
   "metadata": {},
   "outputs": [
    {
     "data": {
      "text/plain": [
       "99    1006864\n",
       "8       18211\n",
       "9        4438\n",
       "10       4244\n",
       "6        3224\n",
       "7        2866\n",
       "5        1971\n",
       "12       1859\n",
       "0        1778\n",
       "4        1242\n",
       "11        556\n",
       "3         541\n",
       "2         314\n",
       "14        117\n",
       "1         102\n",
       "15         65\n",
       "13         63\n",
       "16         45\n",
       "98         42\n",
       "17         15\n",
       "18          6\n",
       "20          5\n",
       "24          5\n",
       "19          2\n",
       "Name: p5e_hma, dtype: int64"
      ]
     },
     "execution_count": 302,
     "metadata": {},
     "output_type": "execute_result"
    }
   ],
   "source": [
    "df_copy_20151['p5e_hma'] = df_copy_20151['p5e_hma'].astype('int64')\n",
    "df_copy_20151.p5e_hma.value_counts()"
   ]
  },
  {
   "cell_type": "markdown",
   "metadata": {},
   "source": [
    "## Minutos martes  (p5e_mma)\n",
    "00-59 Número de minutos en martes "
   ]
  },
  {
   "cell_type": "code",
   "execution_count": 303,
   "metadata": {},
   "outputs": [
    {
     "data": {
      "text/plain": [
       "99    1006861\n",
       "0       40243\n",
       "30       1413\n",
       "15         15\n",
       "45         11\n",
       "40         11\n",
       "20          7\n",
       "10          4\n",
       "50          2\n",
       "25          2\n",
       "12          2\n",
       "1           2\n",
       "56          1\n",
       "3           1\n",
       "Name: p5e_mma, dtype: int64"
      ]
     },
     "execution_count": 303,
     "metadata": {},
     "output_type": "execute_result"
    }
   ],
   "source": [
    "df_copy_20151['p5e_mma'] = df_copy_20151['p5e_mma'].astype('int64')\n",
    "df_copy_20151.p5e_mma.value_counts()"
   ]
  },
  {
   "cell_type": "markdown",
   "metadata": {},
   "source": [
    "## Horas miércoles (p5e_hmi)\n",
    "00-24 Número de horas en miércoles\n",
    "98 Trabajó ese día pero no sabe cuanto tiempo\n",
    "99 No sabe si trabajó ese día"
   ]
  },
  {
   "cell_type": "code",
   "execution_count": 304,
   "metadata": {},
   "outputs": [
    {
     "data": {
      "text/plain": [
       "99    1006864\n",
       "8       18219\n",
       "9        4443\n",
       "10       4251\n",
       "6        3258\n",
       "7        2850\n",
       "5        1994\n",
       "12       1894\n",
       "0        1547\n",
       "4        1283\n",
       "3         573\n",
       "11        556\n",
       "2         327\n",
       "14        119\n",
       "1         113\n",
       "16         62\n",
       "13         59\n",
       "15         59\n",
       "98         42\n",
       "17         31\n",
       "24         17\n",
       "18         10\n",
       "20          3\n",
       "19          1\n",
       "Name: p5e_hmi, dtype: int64"
      ]
     },
     "execution_count": 304,
     "metadata": {},
     "output_type": "execute_result"
    }
   ],
   "source": [
    "df_copy_20151['p5e_hmi'] = df_copy_20151['p5e_hmi'].astype('int64')\n",
    "df_copy_20151.p5e_hmi.value_counts()"
   ]
  },
  {
   "cell_type": "markdown",
   "metadata": {},
   "source": [
    "## Minutos miércoles (p5e_mmi) \n",
    "00-59 Número de minutos en miércoles "
   ]
  },
  {
   "cell_type": "code",
   "execution_count": 305,
   "metadata": {},
   "outputs": [
    {
     "data": {
      "text/plain": [
       "99    1006861\n",
       "0       40232\n",
       "30       1420\n",
       "15         14\n",
       "45         11\n",
       "40         11\n",
       "20          8\n",
       "10          5\n",
       "50          3\n",
       "1           3\n",
       "25          2\n",
       "3           2\n",
       "56          1\n",
       "12          1\n",
       "8           1\n",
       "Name: p5e_mmi, dtype: int64"
      ]
     },
     "execution_count": 305,
     "metadata": {},
     "output_type": "execute_result"
    }
   ],
   "source": [
    "df_copy_20151['p5e_mmi'] = df_copy_20151['p5e_mmi'].astype('int64')\n",
    "df_copy_20151.p5e_mmi.value_counts()"
   ]
  },
  {
   "cell_type": "markdown",
   "metadata": {},
   "source": [
    "## Horas jueves (p5e_hju)\n",
    "00-24 Número de horas en jueves\n",
    "98 Trabajó ese día pero no sabe cuanto tiempo\n",
    "99 No sabe si trabajó ese día"
   ]
  },
  {
   "cell_type": "code",
   "execution_count": 306,
   "metadata": {},
   "outputs": [
    {
     "data": {
      "text/plain": [
       "99    1006864\n",
       "8       18194\n",
       "9        4453\n",
       "10       4276\n",
       "6        3233\n",
       "7        2854\n",
       "5        1980\n",
       "12       1871\n",
       "0        1731\n",
       "4        1235\n",
       "11        559\n",
       "3         539\n",
       "2         316\n",
       "14        116\n",
       "1         101\n",
       "13         66\n",
       "15         61\n",
       "16         44\n",
       "98         43\n",
       "17         16\n",
       "18         10\n",
       "24          7\n",
       "19          3\n",
       "20          3\n",
       "Name: p5e_hju, dtype: int64"
      ]
     },
     "execution_count": 306,
     "metadata": {},
     "output_type": "execute_result"
    }
   ],
   "source": [
    "df_copy_20151['p5e_hju'] = df_copy_20151['p5e_hju'].astype('int64')\n",
    "df_copy_20151.p5e_hju.value_counts()"
   ]
  },
  {
   "cell_type": "markdown",
   "metadata": {},
   "source": [
    "## Minutos jueves (p5e_mju)\n",
    "00-59 Número de minutos en jueves "
   ]
  },
  {
   "cell_type": "code",
   "execution_count": 307,
   "metadata": {},
   "outputs": [
    {
     "data": {
      "text/plain": [
       "99    1006861\n",
       "0       40242\n",
       "30       1406\n",
       "15         15\n",
       "45         11\n",
       "40         11\n",
       "20          7\n",
       "1           7\n",
       "10          5\n",
       "50          2\n",
       "25          2\n",
       "8           2\n",
       "2           2\n",
       "56          1\n",
       "12          1\n",
       "Name: p5e_mju, dtype: int64"
      ]
     },
     "execution_count": 307,
     "metadata": {},
     "output_type": "execute_result"
    }
   ],
   "source": [
    "df_copy_20151['p5e_mju'] = df_copy_20151['p5e_mju'].astype('int64')\n",
    "df_copy_20151.p5e_mju.value_counts()"
   ]
  },
  {
   "cell_type": "markdown",
   "metadata": {},
   "source": [
    "## Minutos viernes (p5e_hvi)\n",
    "00-59 Número de minutos en viernes\n"
   ]
  },
  {
   "cell_type": "code",
   "execution_count": 308,
   "metadata": {},
   "outputs": [
    {
     "data": {
      "text/plain": [
       "99    1006864\n",
       "8       18284\n",
       "9        4452\n",
       "10       4286\n",
       "6        3289\n",
       "7        2861\n",
       "5        2009\n",
       "12       1821\n",
       "0        1419\n",
       "4        1288\n",
       "3         575\n",
       "11        550\n",
       "2         330\n",
       "14        122\n",
       "1         112\n",
       "16         69\n",
       "15         67\n",
       "13         62\n",
       "98         44\n",
       "17         34\n",
       "24         18\n",
       "18         13\n",
       "20          4\n",
       "19          2\n",
       "Name: p5e_hvi, dtype: int64"
      ]
     },
     "execution_count": 308,
     "metadata": {},
     "output_type": "execute_result"
    }
   ],
   "source": [
    "df_copy_20151['p5e_hvi'] = df_copy_20151['p5e_hvi'].astype('int64')\n",
    "df_copy_20151.p5e_hvi.value_counts()"
   ]
  },
  {
   "cell_type": "markdown",
   "metadata": {},
   "source": [
    "## Horas sábado (p5e_hsa)\n",
    "00-24 Número de horas en sábado\n",
    "98 Trabajó ese día pero no sabe cuanto tiempo\n",
    "99 No sabe si trabajó ese día"
   ]
  },
  {
   "cell_type": "code",
   "execution_count": 309,
   "metadata": {},
   "outputs": [
    {
     "data": {
      "text/plain": [
       "99    1006864\n",
       "0       19540\n",
       "8        7523\n",
       "6        3593\n",
       "5        3347\n",
       "10       1639\n",
       "9        1319\n",
       "4        1259\n",
       "12       1221\n",
       "7        1156\n",
       "3         335\n",
       "11        239\n",
       "2         187\n",
       "14         98\n",
       "15         57\n",
       "13         49\n",
       "1          46\n",
       "16         39\n",
       "98         33\n",
       "17         16\n",
       "18          6\n",
       "24          4\n",
       "20          3\n",
       "19          2\n",
       "Name: p5e_hsa, dtype: int64"
      ]
     },
     "execution_count": 309,
     "metadata": {},
     "output_type": "execute_result"
    }
   ],
   "source": [
    "df_copy_20151['p5e_hsa'] = df_copy_20151['p5e_hsa'].astype('int64')\n",
    "df_copy_20151.p5e_hsa.value_counts()"
   ]
  },
  {
   "cell_type": "markdown",
   "metadata": {},
   "source": [
    "## Minutos sábado(p5e_msa)\n",
    "00-59 Número de minutos en sábado"
   ]
  },
  {
   "cell_type": "code",
   "execution_count": 310,
   "metadata": {},
   "outputs": [
    {
     "data": {
      "text/plain": [
       "99    1006861\n",
       "0       41353\n",
       "30        337\n",
       "45          4\n",
       "15          4\n",
       "50          3\n",
       "40          3\n",
       "8           3\n",
       "10          2\n",
       "56          1\n",
       "22          1\n",
       "12          1\n",
       "11          1\n",
       "1           1\n",
       "Name: p5e_msa, dtype: int64"
      ]
     },
     "execution_count": 310,
     "metadata": {},
     "output_type": "execute_result"
    }
   ],
   "source": [
    "df_copy_20151['p5e_msa'] = df_copy_20151['p5e_msa'].astype('int64')\n",
    "df_copy_20151.p5e_msa.value_counts()"
   ]
  },
  {
   "cell_type": "markdown",
   "metadata": {},
   "source": [
    "## Horas domingo (p5e_hdo)\n",
    "00-24 Número de horas en domingo\n",
    "98 Trabajó ese día pero no sabe cuanto tiempo\n",
    "99 No sabe si trabajó ese día"
   ]
  },
  {
   "cell_type": "code",
   "execution_count": 311,
   "metadata": {},
   "outputs": [
    {
     "data": {
      "text/plain": [
       "99    1006863\n",
       "0       36895\n",
       "8        1548\n",
       "12        702\n",
       "10        501\n",
       "6         406\n",
       "9         348\n",
       "5         274\n",
       "7         236\n",
       "4         227\n",
       "3         136\n",
       "2          84\n",
       "11         84\n",
       "14         52\n",
       "1          40\n",
       "15         39\n",
       "16         37\n",
       "17         24\n",
       "98         22\n",
       "13         22\n",
       "24         21\n",
       "18         11\n",
       "22          1\n",
       "19          1\n",
       "20          1\n",
       "Name: p5e_hdo, dtype: int64"
      ]
     },
     "execution_count": 311,
     "metadata": {},
     "output_type": "execute_result"
    }
   ],
   "source": [
    "df_copy_20151['p5e_hdo'] = df_copy_20151['p5e_hdo'].astype('int64')\n",
    "df_copy_20151.p5e_hdo.value_counts()"
   ]
  },
  {
   "cell_type": "markdown",
   "metadata": {},
   "source": [
    "## Minutos domingo (p5e_mdo)\n",
    "00-59 Número de minutos en domingo"
   ]
  },
  {
   "cell_type": "code",
   "execution_count": 312,
   "metadata": {},
   "outputs": [
    {
     "data": {
      "text/plain": [
       "99    1006861\n",
       "0       41614\n",
       "30         81\n",
       "1           5\n",
       "40          3\n",
       "14          3\n",
       "8           3\n",
       "10          2\n",
       "22          1\n",
       "12          1\n",
       "11          1\n",
       "Name: p5e_mdo, dtype: int64"
      ]
     },
     "execution_count": 312,
     "metadata": {},
     "output_type": "execute_result"
    }
   ],
   "source": [
    "df_copy_20151['p5e_mdo'] = df_copy_20151['p5e_mdo'].astype('int64')\n",
    "df_copy_20151.p5e_mdo.value_counts()"
   ]
  },
  {
   "cell_type": "markdown",
   "metadata": {},
   "source": [
    "## Total de horas (p5e_thrs)\n",
    "001-998 Total de Número de horas\n",
    "999 No especificado\n"
   ]
  },
  {
   "cell_type": "code",
   "execution_count": 313,
   "metadata": {
    "scrolled": true
   },
   "outputs": [
    {
     "data": {
      "text/plain": [
       "99     1006861\n",
       "40        7948\n",
       "48        6739\n",
       "45        3019\n",
       "30        2230\n",
       "35        1910\n",
       "50        1864\n",
       "60        1618\n",
       "25        1343\n",
       "54        1077\n",
       "46        1074\n",
       "56        1059\n",
       "36         893\n",
       "42         876\n",
       "20         696\n",
       "72         685\n",
       "51         615\n",
       "55         614\n",
       "44         556\n",
       "24         521\n",
       "84         448\n",
       "47         338\n",
       "32         335\n",
       "66         304\n",
       "70         299\n",
       "15         298\n",
       "12         267\n",
       "18         239\n",
       "10         214\n",
       "52         205\n",
       "        ...   \n",
       "23          10\n",
       "29           8\n",
       "79           8\n",
       "73           7\n",
       "1            6\n",
       "74           6\n",
       "85           6\n",
       "108          5\n",
       "82           5\n",
       "71           4\n",
       "76           4\n",
       "119          3\n",
       "102          3\n",
       "81           3\n",
       "87           2\n",
       "103          2\n",
       "83           2\n",
       "97           2\n",
       "95           2\n",
       "86           2\n",
       "92           2\n",
       "100          1\n",
       "109          1\n",
       "118          1\n",
       "94           1\n",
       "125          1\n",
       "128          1\n",
       "132          1\n",
       "133          1\n",
       "104          1\n",
       "Name: p5e_thrs, Length: 113, dtype: int64"
      ]
     },
     "execution_count": 313,
     "metadata": {},
     "output_type": "execute_result"
    }
   ],
   "source": [
    "df_copy_20151['p5e_thrs'] = df_copy_20151['p5e_thrs'].astype('int64')\n",
    "df_copy_20151.p5e_thrs.value_counts()"
   ]
  },
  {
   "cell_type": "markdown",
   "metadata": {},
   "source": [
    "## Total de días (campo adicional contenido en la base de datos) (p5e_tdia)\n",
    "1-7 total de días trabajados en la semana\n",
    "99 Número  de dás no especificado"
   ]
  },
  {
   "cell_type": "code",
   "execution_count": 314,
   "metadata": {},
   "outputs": [],
   "source": [
    "df_copy_20151['p5e_tdia'].replace(to_replace=[' ', '99'],value='99',inplace=True)"
   ]
  },
  {
   "cell_type": "code",
   "execution_count": 315,
   "metadata": {},
   "outputs": [],
   "source": [
    "df_copy_20151['p5e_tdia'].replace(to_replace=['9', '99'],value='99',inplace=True)"
   ]
  },
  {
   "cell_type": "code",
   "execution_count": 316,
   "metadata": {},
   "outputs": [
    {
     "data": {
      "text/plain": [
       "99    1006876\n",
       "6       18858\n",
       "5       18341\n",
       "7        2421\n",
       "3         700\n",
       "4         583\n",
       "2         517\n",
       "1         279\n",
       "Name: p5e_tdia, dtype: int64"
      ]
     },
     "execution_count": 316,
     "metadata": {},
     "output_type": "execute_result"
    }
   ],
   "source": [
    "df_copy_20151['p5e_tdia'] = df_copy_20151['p5e_tdia'].astype('int64')\n",
    "df_copy_20151.p5e_tdia.value_counts()"
   ]
  },
  {
   "cell_type": "markdown",
   "metadata": {},
   "source": [
    "## ¿Cuál es el motivo principal por el que la semana pasada... no trabajo las horas habituales?(p5f)\n",
    "1 Exceso de trabajo\n",
    "2 Obtener más ingresos\n",
    "3 Horas extras\n",
    "4 Temporada alta (clientes, ventas, siembra o cosecha) \n",
    "5 Reducción o suspensión\n",
    " del trabajo (falta de ven\n",
    " tas o clientes, temporada\n",
    " baja, paro técnico)\n",
    "6 Término del contrato o\n",
    " temporada de trabajo\n",
    "7 Causas climatológicas\n",
    "8 Vacaciones o días festivos\n",
    "9 Enfermedad o accidente\n",
    "10 Cuidar o atender a niños,\n",
    " enfermos o ancianos\n",
    "11 Otros motivos personales\n",
    " o familiares\n",
    "12 Ninguno de los anteriores\n",
    "99 No sabe"
   ]
  },
  {
   "cell_type": "code",
   "execution_count": 317,
   "metadata": {},
   "outputs": [],
   "source": [
    "df_copy_20151['p5f'].replace(to_replace=['0', '99'],value='99',inplace=True)"
   ]
  },
  {
   "cell_type": "code",
   "execution_count": 318,
   "metadata": {},
   "outputs": [
    {
     "data": {
      "text/plain": [
       "99    1021434\n",
       "8       18969\n",
       "5        2616\n",
       "1        1052\n",
       "3         989\n",
       "12        930\n",
       "7         835\n",
       "9         629\n",
       "11        594\n",
       "4         186\n",
       "6         148\n",
       "10        145\n",
       "2          48\n",
       "Name: p5f, dtype: int64"
      ]
     },
     "execution_count": 318,
     "metadata": {},
     "output_type": "execute_result"
    }
   ],
   "source": [
    "df_copy_20151['p5f'] = df_copy_20151['p5f'].astype('int64')\n",
    "df_copy_20151.p5f.value_counts()"
   ]
  },
  {
   "cell_type": "markdown",
   "metadata": {},
   "source": [
    "# Pregunta 5G: ¿En que meses del año … realiza este trabajo?"
   ]
  },
  {
   "cell_type": "markdown",
   "metadata": {},
   "source": [
    "## Opción 1: enero C  (p5g1)\n",
    "01 Enero\n",
    "99 No sabe"
   ]
  },
  {
   "cell_type": "code",
   "execution_count": 319,
   "metadata": {},
   "outputs": [],
   "source": [
    "df_copy_20151['p5g1'].replace(to_replace=['0', '99'],value='99',inplace=True)"
   ]
  },
  {
   "cell_type": "code",
   "execution_count": 320,
   "metadata": {},
   "outputs": [
    {
     "data": {
      "text/plain": [
       "99    1047963\n",
       "1         612\n",
       "Name: p5g1, dtype: int64"
      ]
     },
     "execution_count": 320,
     "metadata": {},
     "output_type": "execute_result"
    }
   ],
   "source": [
    "df_copy_20151['p5g1'] = df_copy_20151['p5g1'].astype('int64')\n",
    "df_copy_20151.p5g1.value_counts()"
   ]
  },
  {
   "cell_type": "markdown",
   "metadata": {},
   "source": [
    "## Opción 2: febrero (p5g2)\n",
    "2 Febrero\n",
    "99 No sabe"
   ]
  },
  {
   "cell_type": "code",
   "execution_count": 321,
   "metadata": {},
   "outputs": [
    {
     "data": {
      "text/plain": [
       "99    1048012\n",
       "2         563\n",
       "Name: p5g2, dtype: int64"
      ]
     },
     "execution_count": 321,
     "metadata": {},
     "output_type": "execute_result"
    }
   ],
   "source": [
    "df_copy_20151['p5g2'] = df_copy_20151['p5g2'].astype('int64')\n",
    "df_copy_20151.p5g2.value_counts()"
   ]
  },
  {
   "cell_type": "markdown",
   "metadata": {},
   "source": [
    "## Opción 3: marzo  (p5g3)\n",
    "3 marzo\n",
    "99 No sabe"
   ]
  },
  {
   "cell_type": "code",
   "execution_count": 322,
   "metadata": {},
   "outputs": [],
   "source": [
    "df_copy_20151['p5g3'].replace(to_replace=['0', '99'],value='99',inplace=True)"
   ]
  },
  {
   "cell_type": "code",
   "execution_count": 323,
   "metadata": {},
   "outputs": [
    {
     "data": {
      "text/plain": [
       "99    1047941\n",
       "3         634\n",
       "Name: p5g3, dtype: int64"
      ]
     },
     "execution_count": 323,
     "metadata": {},
     "output_type": "execute_result"
    }
   ],
   "source": [
    "df_copy_20151['p5g3'] = df_copy_20151['p5g3'].astype('int64')\n",
    "df_copy_20151.p5g3.value_counts()"
   ]
  },
  {
   "cell_type": "markdown",
   "metadata": {},
   "source": [
    "## Opción 4: abril  (p5g4)\n",
    "4 abril\n",
    "99 No sabe"
   ]
  },
  {
   "cell_type": "code",
   "execution_count": 324,
   "metadata": {},
   "outputs": [],
   "source": [
    "df_copy_20151['p5g4'].replace(to_replace=['0', '99'],value='99',inplace=True)"
   ]
  },
  {
   "cell_type": "code",
   "execution_count": 325,
   "metadata": {},
   "outputs": [
    {
     "data": {
      "text/plain": [
       "99    1047763\n",
       "4         812\n",
       "Name: p5g4, dtype: int64"
      ]
     },
     "execution_count": 325,
     "metadata": {},
     "output_type": "execute_result"
    }
   ],
   "source": [
    "df_copy_20151['p5g4'] = df_copy_20151['p5g4'].astype('int64')\n",
    "df_copy_20151.p5g4.value_counts()"
   ]
  },
  {
   "cell_type": "markdown",
   "metadata": {},
   "source": [
    "## Opción 6: junio   (p5g6)\n",
    "6 junio\n",
    "99 No sabe"
   ]
  },
  {
   "cell_type": "code",
   "execution_count": 326,
   "metadata": {},
   "outputs": [],
   "source": [
    "df_copy_20151['p5g6'].replace(to_replace=['0', '99'],value='99',inplace=True)"
   ]
  },
  {
   "cell_type": "code",
   "execution_count": 327,
   "metadata": {},
   "outputs": [
    {
     "data": {
      "text/plain": [
       "99    1047193\n",
       "6        1382\n",
       "Name: p5g6, dtype: int64"
      ]
     },
     "execution_count": 327,
     "metadata": {},
     "output_type": "execute_result"
    }
   ],
   "source": [
    "df_copy_20151['p5g6'] = df_copy_20151['p5g6'].astype('int64')\n",
    "df_copy_20151.p5g6.value_counts()"
   ]
  },
  {
   "cell_type": "markdown",
   "metadata": {},
   "source": [
    "## Opción 7: julio  (p5g7)\n",
    "7 julio \n",
    "99 No sabe"
   ]
  },
  {
   "cell_type": "code",
   "execution_count": 328,
   "metadata": {},
   "outputs": [],
   "source": [
    "df_copy_20151['p5g7'].replace(to_replace=['0', '99'],value='99',inplace=True)"
   ]
  },
  {
   "cell_type": "code",
   "execution_count": 329,
   "metadata": {},
   "outputs": [
    {
     "data": {
      "text/plain": [
       "99    1047153\n",
       "7        1422\n",
       "Name: p5g7, dtype: int64"
      ]
     },
     "execution_count": 329,
     "metadata": {},
     "output_type": "execute_result"
    }
   ],
   "source": [
    "df_copy_20151['p5g7'] = df_copy_20151['p5g7'].astype('int64')\n",
    "df_copy_20151.p5g7.value_counts()"
   ]
  },
  {
   "cell_type": "markdown",
   "metadata": {},
   "source": [
    "## Opción 8: agosto   (p5g8)\n",
    "8 agosto\n",
    "99 No sabe"
   ]
  },
  {
   "cell_type": "code",
   "execution_count": 330,
   "metadata": {},
   "outputs": [],
   "source": [
    "df_copy_20151['p5g8'].replace(to_replace=['0', '99'],value='99',inplace=True)"
   ]
  },
  {
   "cell_type": "code",
   "execution_count": 331,
   "metadata": {},
   "outputs": [
    {
     "data": {
      "text/plain": [
       "99    1047206\n",
       "8        1369\n",
       "Name: p5g8, dtype: int64"
      ]
     },
     "execution_count": 331,
     "metadata": {},
     "output_type": "execute_result"
    }
   ],
   "source": [
    "df_copy_20151['p5g8'] = df_copy_20151['p5g8'].astype('int64')\n",
    "df_copy_20151.p5g8.value_counts()"
   ]
  },
  {
   "cell_type": "markdown",
   "metadata": {},
   "source": [
    "## Opción 9: septiembre  (p5g9)\n",
    "9 Septiembre \n",
    "99 No sabe"
   ]
  },
  {
   "cell_type": "code",
   "execution_count": 332,
   "metadata": {},
   "outputs": [],
   "source": [
    "df_copy_20151['p5g9'].replace(to_replace=['0', '99'],value='99',inplace=True)"
   ]
  },
  {
   "cell_type": "code",
   "execution_count": 333,
   "metadata": {},
   "outputs": [
    {
     "data": {
      "text/plain": [
       "99    1047324\n",
       "9        1251\n",
       "Name: p5g9, dtype: int64"
      ]
     },
     "execution_count": 333,
     "metadata": {},
     "output_type": "execute_result"
    }
   ],
   "source": [
    "df_copy_20151['p5g9'] = df_copy_20151['p5g9'].astype('int64')\n",
    "df_copy_20151.p5g9.value_counts()"
   ]
  },
  {
   "cell_type": "markdown",
   "metadata": {},
   "source": [
    "## Opción 10: octubre  (p5g10)\n",
    "10 octubre\n",
    "99 No sabe"
   ]
  },
  {
   "cell_type": "code",
   "execution_count": 334,
   "metadata": {},
   "outputs": [],
   "source": [
    "df_copy_20151['p5g10'].replace(to_replace=['0', '99'],value='99',inplace=True)"
   ]
  },
  {
   "cell_type": "code",
   "execution_count": 335,
   "metadata": {},
   "outputs": [
    {
     "data": {
      "text/plain": [
       "99    1047327\n",
       "10       1248\n",
       "Name: p5g10, dtype: int64"
      ]
     },
     "execution_count": 335,
     "metadata": {},
     "output_type": "execute_result"
    }
   ],
   "source": [
    "df_copy_20151['p5g10'] = df_copy_20151['p5g10'].astype('int64')\n",
    "df_copy_20151.p5g10.value_counts()"
   ]
  },
  {
   "cell_type": "markdown",
   "metadata": {},
   "source": [
    "## Opción 11: noviembre(p5g11)\n",
    "11 Noviembre\n",
    "99 No sabe"
   ]
  },
  {
   "cell_type": "code",
   "execution_count": 336,
   "metadata": {},
   "outputs": [],
   "source": [
    "df_copy_20151['p5g11'].replace(to_replace=['0', '99'],value='99',inplace=True)"
   ]
  },
  {
   "cell_type": "code",
   "execution_count": 337,
   "metadata": {},
   "outputs": [
    {
     "data": {
      "text/plain": [
       "99    1047350\n",
       "11       1225\n",
       "Name: p5g11, dtype: int64"
      ]
     },
     "execution_count": 337,
     "metadata": {},
     "output_type": "execute_result"
    }
   ],
   "source": [
    "df_copy_20151['p5g11'] = df_copy_20151['p5g11'].astype('int64')\n",
    "df_copy_20151.p5g11.value_counts()"
   ]
  },
  {
   "cell_type": "markdown",
   "metadata": {},
   "source": [
    "## Opción 12: diciembre  (p5g12)\n",
    "12 diciembre\n",
    "99 No sabe\n"
   ]
  },
  {
   "cell_type": "code",
   "execution_count": 338,
   "metadata": {},
   "outputs": [],
   "source": [
    "df_copy_20151['p5g12'].replace(to_replace=['0', '99'],value='99',inplace=True)"
   ]
  },
  {
   "cell_type": "code",
   "execution_count": 339,
   "metadata": {},
   "outputs": [
    {
     "data": {
      "text/plain": [
       "99    1047559\n",
       "12       1016\n",
       "Name: p5g12, dtype: int64"
      ]
     },
     "execution_count": 339,
     "metadata": {},
     "output_type": "execute_result"
    }
   ],
   "source": [
    "df_copy_20151['p5g12'] = df_copy_20151['p5g12'].astype('int64')\n",
    "df_copy_20151.p5g12.value_counts()"
   ]
  },
  {
   "cell_type": "markdown",
   "metadata": {},
   "source": [
    "## Opción 13: Varían los meses en que trabaja  (p5g13)\n",
    "13 Varían los meses en que trabaja\n",
    "99 No sabe"
   ]
  },
  {
   "cell_type": "code",
   "execution_count": 340,
   "metadata": {},
   "outputs": [],
   "source": [
    "df_copy_20151['p5g13'].replace(to_replace=['0', '99'],value='99',inplace=True)"
   ]
  },
  {
   "cell_type": "code",
   "execution_count": 341,
   "metadata": {},
   "outputs": [
    {
     "data": {
      "text/plain": [
       "99    1043251\n",
       "13       5324\n",
       "Name: p5g13, dtype: int64"
      ]
     },
     "execution_count": 341,
     "metadata": {},
     "output_type": "execute_result"
    }
   ],
   "source": [
    "df_copy_20151['p5g13'] = df_copy_20151['p5g13'].astype('int64')\n",
    "df_copy_20151.p5g13.value_counts()"
   ]
  },
  {
   "cell_type": "markdown",
   "metadata": {},
   "source": [
    "## Opción 14: Trabaja todos los meses del año (p5g14)\n",
    "14 Trabaja todos los meses del año\n",
    "99 No sabe"
   ]
  },
  {
   "cell_type": "code",
   "execution_count": 342,
   "metadata": {},
   "outputs": [],
   "source": [
    "df_copy_20151['p5g14'].replace(to_replace=['0', '99'],value='99',inplace=True)"
   ]
  },
  {
   "cell_type": "code",
   "execution_count": 343,
   "metadata": {},
   "outputs": [
    {
     "data": {
      "text/plain": [
       "99    565977\n",
       "14    482598\n",
       "Name: p5g14, dtype: int64"
      ]
     },
     "execution_count": 343,
     "metadata": {},
     "output_type": "execute_result"
    }
   ],
   "source": [
    "df_copy_20151['p5g14'] = df_copy_20151['p5g14'].astype('int64')\n",
    "df_copy_20151.p5g14.value_counts()"
   ]
  },
  {
   "cell_type": "markdown",
   "metadata": {},
   "source": [
    "## Opción 15: Tiene menos de un año en este trabajo  (p5g15)\n",
    "15 Tiene menos de un año en este trabajo\n",
    "99 No sabe"
   ]
  },
  {
   "cell_type": "code",
   "execution_count": 344,
   "metadata": {},
   "outputs": [],
   "source": [
    "df_copy_20151['p5g15'].replace(to_replace=['0', '99'],value='99',inplace=True)"
   ]
  },
  {
   "cell_type": "code",
   "execution_count": 345,
   "metadata": {},
   "outputs": [
    {
     "data": {
      "text/plain": [
       "99    970239\n",
       "15     78336\n",
       "Name: p5g15, dtype: int64"
      ]
     },
     "execution_count": 345,
     "metadata": {},
     "output_type": "execute_result"
    }
   ],
   "source": [
    "df_copy_20151['p5g15'] = df_copy_20151['p5g15'].astype('int64')\n",
    "df_copy_20151.p5g15.value_counts()"
   ]
  },
  {
   "cell_type": "markdown",
   "metadata": {},
   "source": [
    "## Opción 99: no sabe (p5g99)\n",
    "99 No sabe"
   ]
  },
  {
   "cell_type": "code",
   "execution_count": 346,
   "metadata": {},
   "outputs": [],
   "source": [
    "df_copy_20151['p5g99'].replace(to_replace=['0', '99'],value='99',inplace=True)"
   ]
  },
  {
   "cell_type": "code",
   "execution_count": 347,
   "metadata": {},
   "outputs": [
    {
     "data": {
      "text/plain": [
       "99    1048575\n",
       "Name: p5g99, dtype: int64"
      ]
     },
     "execution_count": 347,
     "metadata": {},
     "output_type": "execute_result"
    }
   ],
   "source": [
    "df_copy_20151['p5g99'] = df_copy_20151['p5g99'].astype('int64')\n",
    "df_copy_20151.p5g99.value_counts()"
   ]
  },
  {
   "cell_type": "markdown",
   "metadata": {},
   "source": [
    "##  ¿Cuál es el motivo principal por el que ... no trabaja  todos los meses del año? (p5h)\n",
    "1 Trabaja solo cuando lo llaman o solicitan sus servicios\n",
    "2 Sólo hay trabajo durante algunas épocas o temporadas del año\n",
    "3 Trabaja solo en periodos de vacaciones escolares\n",
    "4 No necesita trabajar todo el año\n",
    "5 Motivos personales o familiares\n",
    "6 Otro motivo\n",
    "9 No sabe"
   ]
  },
  {
   "cell_type": "code",
   "execution_count": 348,
   "metadata": {},
   "outputs": [],
   "source": [
    "df_copy_20151['p5h'].replace(to_replace=[' ', '99'],value='99',inplace=True)"
   ]
  },
  {
   "cell_type": "code",
   "execution_count": 349,
   "metadata": {},
   "outputs": [
    {
     "data": {
      "text/plain": [
       "99    1047049\n",
       "2         999\n",
       "1         390\n",
       "9          36\n",
       "3          36\n",
       "6          34\n",
       "4          17\n",
       "5          14\n",
       "Name: p5h, dtype: int64"
      ]
     },
     "execution_count": 349,
     "metadata": {},
     "output_type": "execute_result"
    }
   ],
   "source": [
    "df_copy_20151['p5h'] = df_copy_20151['p5h'].astype('int64')\n",
    "df_copy_20151.p5h.value_counts()"
   ]
  },
  {
   "cell_type": "markdown",
   "metadata": {},
   "source": [
    "## Campo exclusivo del sistema  (ur)\n",
    "1,2  Campo exclusivo del sistema"
   ]
  },
  {
   "cell_type": "code",
   "execution_count": 350,
   "metadata": {},
   "outputs": [
    {
     "data": {
      "text/plain": [
       "1     674393\n",
       "2     374181\n",
       "99         1\n",
       "Name: ur, dtype: int64"
      ]
     },
     "execution_count": 350,
     "metadata": {},
     "output_type": "execute_result"
    }
   ],
   "source": [
    "df_copy_20151['ur'] = df_copy_20151['ur'].astype('int64')\n",
    "df_copy_20151.ur.value_counts()"
   ]
  },
  {
   "cell_type": "markdown",
   "metadata": {},
   "source": [
    "## Factor de expansión  (fac)\n",
    "000001-999998 Valor"
   ]
  },
  {
   "cell_type": "code",
   "execution_count": 351,
   "metadata": {
    "scrolled": true
   },
   "outputs": [
    {
     "data": {
      "text/plain": [
       "109     7317\n",
       "114     7167\n",
       "116     6431\n",
       "113     6394\n",
       "112     6172\n",
       "110     6105\n",
       "115     6012\n",
       "123     5981\n",
       "121     5852\n",
       "111     5711\n",
       "122     5547\n",
       "119     5527\n",
       "125     5446\n",
       "118     5441\n",
       "117     5437\n",
       "107     5387\n",
       "108     5376\n",
       "92      5339\n",
       "131     5323\n",
       "127     5295\n",
       "96      5243\n",
       "124     5232\n",
       "102     5192\n",
       "98      5106\n",
       "130     5098\n",
       "106     5064\n",
       "97      5034\n",
       "103     5011\n",
       "94      5008\n",
       "132     5002\n",
       "        ... \n",
       "4792       2\n",
       "2869       2\n",
       "2521       2\n",
       "2516       2\n",
       "3152       2\n",
       "2166       2\n",
       "3211       2\n",
       "4834       2\n",
       "3190       2\n",
       "6373       2\n",
       "5044       2\n",
       "4853       2\n",
       "2640       2\n",
       "5077       2\n",
       "2425       2\n",
       "5966       2\n",
       "5230       1\n",
       "5253       1\n",
       "2890       1\n",
       "4230       1\n",
       "1801       1\n",
       "5252       1\n",
       "2615       1\n",
       "4232       1\n",
       "4072       1\n",
       "4891       1\n",
       "2397       1\n",
       "4270       1\n",
       "4225       1\n",
       "2892       1\n",
       "Name: fac, Length: 2273, dtype: int64"
      ]
     },
     "execution_count": 351,
     "metadata": {},
     "output_type": "execute_result"
    }
   ],
   "source": [
    "df_copy_20151['fac'] = df_copy_20151['fac'].astype('int64')\n",
    "df_copy_20151.fac.value_counts()"
   ]
  },
  {
   "cell_type": "code",
   "execution_count": 352,
   "metadata": {},
   "outputs": [],
   "source": [
    "#df_copy_20151.to_csv ('C:/Users/Pc-Adri/Documents/ENOE/Documento2015.csv', sep=',', index=False)"
   ]
  },
  {
   "cell_type": "code",
   "execution_count": 353,
   "metadata": {
    "scrolled": true
   },
   "outputs": [
    {
     "data": {
      "text/plain": [
       "r_def          int64\n",
       "cd_a           int64\n",
       "ent            int64\n",
       "con            int64\n",
       "upm            int64\n",
       "d_sem          int64\n",
       "n_pro_viv      int64\n",
       "v_sel          int64\n",
       "n_hog          int64\n",
       "h_mud          int64\n",
       "n_ent          int64\n",
       "per            int64\n",
       "n_ren          int64\n",
       "eda            int64\n",
       "n_inf          int64\n",
       "p1             int64\n",
       "p1a1           int64\n",
       "p1a2           int64\n",
       "p1a3           int64\n",
       "p1b            int64\n",
       "p1c            int64\n",
       "p1d            int64\n",
       "p1e            int64\n",
       "p2_1           int64\n",
       "p2_2           int64\n",
       "p2_3           int64\n",
       "p2_4           int64\n",
       "p2_9           int64\n",
       "p2a_dia        int64\n",
       "p2a_sem        int64\n",
       "              ...   \n",
       "p5e_hju        int64\n",
       "p5e_mju        int64\n",
       "p5e_hvi        int64\n",
       "p5e_mvi      float64\n",
       "p5e_hsa        int64\n",
       "p5e_msa        int64\n",
       "p5e_hdo        int64\n",
       "p5e_mdo        int64\n",
       "p5e_thrs       int64\n",
       "p5e_tdia       int64\n",
       "p5f            int64\n",
       "p5g1           int64\n",
       "p5g2           int64\n",
       "p5g3           int64\n",
       "p5g4           int64\n",
       "p5g5         float64\n",
       "p5g6           int64\n",
       "p5g7           int64\n",
       "p5g8           int64\n",
       "p5g9           int64\n",
       "p5g10          int64\n",
       "p5g11          int64\n",
       "p5g12          int64\n",
       "p5g13          int64\n",
       "p5g14          int64\n",
       "p5g15          int64\n",
       "p5g99          int64\n",
       "p5h            int64\n",
       "ur             int64\n",
       "fac            int64\n",
       "Length: 186, dtype: object"
      ]
     },
     "execution_count": 353,
     "metadata": {},
     "output_type": "execute_result"
    }
   ],
   "source": [
    "df_copy_20151.dtypes"
   ]
  },
  {
   "cell_type": "markdown",
   "metadata": {},
   "source": [
    "## Elimacion de columnas con mas de 50% de 99"
   ]
  },
  {
   "cell_type": "code",
   "execution_count": 354,
   "metadata": {},
   "outputs": [],
   "source": [
    "n = df_copy_20151.columns.values.tolist()\n",
    "m = round(df_copy_20151.shape[0]*.50)\n",
    "l = []\n",
    "for i in n:\n",
    "    if df_copy_20151[i].value_counts().get(99) != None:\n",
    "        if m < df_copy_20151[i].value_counts().get(99):\n",
    "            l.append(i)\n",
    "            df_copy_20151 = df_copy_20151.drop(i, 1)"
   ]
  },
  {
   "cell_type": "code",
   "execution_count": 355,
   "metadata": {
    "scrolled": true
   },
   "outputs": [
    {
     "data": {
      "text/plain": [
       "r_def        int64\n",
       "cd_a         int64\n",
       "ent          int64\n",
       "con          int64\n",
       "upm          int64\n",
       "d_sem        int64\n",
       "n_pro_viv    int64\n",
       "v_sel        int64\n",
       "n_hog        int64\n",
       "h_mud        int64\n",
       "n_ent        int64\n",
       "per          int64\n",
       "n_ren        int64\n",
       "eda          int64\n",
       "n_inf        int64\n",
       "p1           int64\n",
       "p3           int64\n",
       "p3a          int64\n",
       "p5a          int64\n",
       "p5c_hlu      int64\n",
       "p5c_mlu      int64\n",
       "p5c_hma      int64\n",
       "p5c_mma      int64\n",
       "p5c_hmi      int64\n",
       "p5c_mmi      int64\n",
       "p5c_hju      int64\n",
       "p5c_mju      int64\n",
       "p5c_hvi      int64\n",
       "p5c_mvi      int64\n",
       "p5c_hsa      int64\n",
       "p5c_msa      int64\n",
       "p5c_hdo      int64\n",
       "p5c_mdo      int64\n",
       "p5c_thrs     int64\n",
       "p5c_tdia     int64\n",
       "p5d          int64\n",
       "ur           int64\n",
       "fac          int64\n",
       "dtype: object"
      ]
     },
     "execution_count": 355,
     "metadata": {},
     "output_type": "execute_result"
    }
   ],
   "source": [
    "df_copy_20151.dtypes"
   ]
  },
  {
   "cell_type": "code",
   "execution_count": 356,
   "metadata": {},
   "outputs": [],
   "source": [
    "df_copy_20151.to_csv ('C:/Users/JoseAntonio/Desktop/ENOE/adri/2015/2015Clean.csv', sep=',', index=False)"
   ]
  },
  {
   "cell_type": "markdown",
   "metadata": {},
   "source": [
    "## Normaliación"
   ]
  },
  {
   "cell_type": "code",
   "execution_count": 357,
   "metadata": {},
   "outputs": [],
   "source": [
    "df_copy_20151 = sk.preprocessing.normalize(df_copy_20151, norm='l2', axis=1, copy=True )"
   ]
  },
  {
   "cell_type": "code",
   "execution_count": 358,
   "metadata": {},
   "outputs": [],
   "source": [
    "df2015 = pd.DataFrame(df_copy_20151)"
   ]
  },
  {
   "cell_type": "code",
   "execution_count": 359,
   "metadata": {},
   "outputs": [
    {
     "data": {
      "text/html": [
       "<div>\n",
       "<style scoped>\n",
       "    .dataframe tbody tr th:only-of-type {\n",
       "        vertical-align: middle;\n",
       "    }\n",
       "\n",
       "    .dataframe tbody tr th {\n",
       "        vertical-align: top;\n",
       "    }\n",
       "\n",
       "    .dataframe thead th {\n",
       "        text-align: right;\n",
       "    }\n",
       "</style>\n",
       "<table border=\"1\" class=\"dataframe\">\n",
       "  <thead>\n",
       "    <tr style=\"text-align: right;\">\n",
       "      <th></th>\n",
       "      <th>0</th>\n",
       "      <th>1</th>\n",
       "      <th>2</th>\n",
       "      <th>3</th>\n",
       "      <th>4</th>\n",
       "      <th>5</th>\n",
       "      <th>6</th>\n",
       "      <th>7</th>\n",
       "      <th>8</th>\n",
       "      <th>9</th>\n",
       "      <th>...</th>\n",
       "      <th>28</th>\n",
       "      <th>29</th>\n",
       "      <th>30</th>\n",
       "      <th>31</th>\n",
       "      <th>32</th>\n",
       "      <th>33</th>\n",
       "      <th>34</th>\n",
       "      <th>35</th>\n",
       "      <th>36</th>\n",
       "      <th>37</th>\n",
       "    </tr>\n",
       "  </thead>\n",
       "  <tbody>\n",
       "    <tr>\n",
       "      <th>0</th>\n",
       "      <td>0.0</td>\n",
       "      <td>0.000001</td>\n",
       "      <td>0.00001</td>\n",
       "      <td>0.044378</td>\n",
       "      <td>0.999010</td>\n",
       "      <td>0.000112</td>\n",
       "      <td>0.000021</td>\n",
       "      <td>0.000001</td>\n",
       "      <td>0.000001</td>\n",
       "      <td>0.0</td>\n",
       "      <td>...</td>\n",
       "      <td>0.00000</td>\n",
       "      <td>0.000009</td>\n",
       "      <td>0.00000</td>\n",
       "      <td>0.00000</td>\n",
       "      <td>0.00000</td>\n",
       "      <td>0.000044</td>\n",
       "      <td>0.000006</td>\n",
       "      <td>0.000002</td>\n",
       "      <td>0.000001</td>\n",
       "      <td>0.000562</td>\n",
       "    </tr>\n",
       "    <tr>\n",
       "      <th>1</th>\n",
       "      <td>0.0</td>\n",
       "      <td>0.000001</td>\n",
       "      <td>0.00001</td>\n",
       "      <td>0.044377</td>\n",
       "      <td>0.998982</td>\n",
       "      <td>0.000112</td>\n",
       "      <td>0.000050</td>\n",
       "      <td>0.000002</td>\n",
       "      <td>0.000001</td>\n",
       "      <td>0.0</td>\n",
       "      <td>...</td>\n",
       "      <td>0.00000</td>\n",
       "      <td>0.000000</td>\n",
       "      <td>0.00000</td>\n",
       "      <td>0.00000</td>\n",
       "      <td>0.00000</td>\n",
       "      <td>0.000027</td>\n",
       "      <td>0.000003</td>\n",
       "      <td>0.000002</td>\n",
       "      <td>0.000001</td>\n",
       "      <td>0.000562</td>\n",
       "    </tr>\n",
       "    <tr>\n",
       "      <th>2</th>\n",
       "      <td>0.0</td>\n",
       "      <td>0.000001</td>\n",
       "      <td>0.00001</td>\n",
       "      <td>0.044378</td>\n",
       "      <td>0.998999</td>\n",
       "      <td>0.000112</td>\n",
       "      <td>0.000050</td>\n",
       "      <td>0.000002</td>\n",
       "      <td>0.000001</td>\n",
       "      <td>0.0</td>\n",
       "      <td>...</td>\n",
       "      <td>0.00000</td>\n",
       "      <td>0.000009</td>\n",
       "      <td>0.00000</td>\n",
       "      <td>0.00000</td>\n",
       "      <td>0.00000</td>\n",
       "      <td>0.000036</td>\n",
       "      <td>0.000004</td>\n",
       "      <td>0.000002</td>\n",
       "      <td>0.000001</td>\n",
       "      <td>0.000562</td>\n",
       "    </tr>\n",
       "    <tr>\n",
       "      <th>3</th>\n",
       "      <td>0.0</td>\n",
       "      <td>0.000001</td>\n",
       "      <td>0.00001</td>\n",
       "      <td>0.044379</td>\n",
       "      <td>0.999014</td>\n",
       "      <td>0.000112</td>\n",
       "      <td>0.000050</td>\n",
       "      <td>0.000002</td>\n",
       "      <td>0.000001</td>\n",
       "      <td>0.0</td>\n",
       "      <td>...</td>\n",
       "      <td>0.00011</td>\n",
       "      <td>0.000110</td>\n",
       "      <td>0.00011</td>\n",
       "      <td>0.00011</td>\n",
       "      <td>0.00011</td>\n",
       "      <td>0.000110</td>\n",
       "      <td>0.000110</td>\n",
       "      <td>0.000110</td>\n",
       "      <td>0.000001</td>\n",
       "      <td>0.000562</td>\n",
       "    </tr>\n",
       "    <tr>\n",
       "      <th>4</th>\n",
       "      <td>0.0</td>\n",
       "      <td>0.000001</td>\n",
       "      <td>0.00001</td>\n",
       "      <td>0.044378</td>\n",
       "      <td>0.999010</td>\n",
       "      <td>0.000112</td>\n",
       "      <td>0.000108</td>\n",
       "      <td>0.000004</td>\n",
       "      <td>0.000001</td>\n",
       "      <td>0.0</td>\n",
       "      <td>...</td>\n",
       "      <td>0.00000</td>\n",
       "      <td>0.000010</td>\n",
       "      <td>0.00000</td>\n",
       "      <td>0.00000</td>\n",
       "      <td>0.00000</td>\n",
       "      <td>0.000050</td>\n",
       "      <td>0.000006</td>\n",
       "      <td>0.000002</td>\n",
       "      <td>0.000001</td>\n",
       "      <td>0.000562</td>\n",
       "    </tr>\n",
       "  </tbody>\n",
       "</table>\n",
       "<p>5 rows × 38 columns</p>\n",
       "</div>"
      ],
      "text/plain": [
       "    0         1        2         3         4         5         6         7   \\\n",
       "0  0.0  0.000001  0.00001  0.044378  0.999010  0.000112  0.000021  0.000001   \n",
       "1  0.0  0.000001  0.00001  0.044377  0.998982  0.000112  0.000050  0.000002   \n",
       "2  0.0  0.000001  0.00001  0.044378  0.998999  0.000112  0.000050  0.000002   \n",
       "3  0.0  0.000001  0.00001  0.044379  0.999014  0.000112  0.000050  0.000002   \n",
       "4  0.0  0.000001  0.00001  0.044378  0.999010  0.000112  0.000108  0.000004   \n",
       "\n",
       "         8    9     ...          28        29       30       31       32  \\\n",
       "0  0.000001  0.0    ...     0.00000  0.000009  0.00000  0.00000  0.00000   \n",
       "1  0.000001  0.0    ...     0.00000  0.000000  0.00000  0.00000  0.00000   \n",
       "2  0.000001  0.0    ...     0.00000  0.000009  0.00000  0.00000  0.00000   \n",
       "3  0.000001  0.0    ...     0.00011  0.000110  0.00011  0.00011  0.00011   \n",
       "4  0.000001  0.0    ...     0.00000  0.000010  0.00000  0.00000  0.00000   \n",
       "\n",
       "         33        34        35        36        37  \n",
       "0  0.000044  0.000006  0.000002  0.000001  0.000562  \n",
       "1  0.000027  0.000003  0.000002  0.000001  0.000562  \n",
       "2  0.000036  0.000004  0.000002  0.000001  0.000562  \n",
       "3  0.000110  0.000110  0.000110  0.000001  0.000562  \n",
       "4  0.000050  0.000006  0.000002  0.000001  0.000562  \n",
       "\n",
       "[5 rows x 38 columns]"
      ]
     },
     "execution_count": 359,
     "metadata": {},
     "output_type": "execute_result"
    }
   ],
   "source": [
    "df2015.head()"
   ]
  },
  {
   "cell_type": "code",
   "execution_count": 362,
   "metadata": {},
   "outputs": [],
   "source": [
    "df2015.to_csv ('C:/Users/JoseAntonio/Desktop/ENOE/adri/2015/norm2015.csv', sep=',', index=False)"
   ]
  },
  {
   "cell_type": "code",
   "execution_count": null,
   "metadata": {},
   "outputs": [],
   "source": []
  }
 ],
 "metadata": {
  "anaconda-cloud": {},
  "kernelspec": {
   "display_name": "Python 3",
   "language": "python",
   "name": "python3"
  },
  "language_info": {
   "codemirror_mode": {
    "name": "ipython",
    "version": 3
   },
   "file_extension": ".py",
   "mimetype": "text/x-python",
   "name": "python",
   "nbconvert_exporter": "python",
   "pygments_lexer": "ipython3",
   "version": "3.6.5"
  }
 },
 "nbformat": 4,
 "nbformat_minor": 1
}
